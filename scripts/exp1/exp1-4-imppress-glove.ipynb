{
 "cells": [
  {
   "cell_type": "code",
   "execution_count": 30,
   "metadata": {
    "_cell_guid": "b1076dfc-b9ad-4769-8c92-a6c4dae69d19",
    "_uuid": "8f2839f25d086af736a60e9eeb907d3b93b6e0e5",
    "execution": {
     "iopub.execute_input": "2025-03-09T19:16:09.082986Z",
     "iopub.status.busy": "2025-03-09T19:16:09.082649Z",
     "iopub.status.idle": "2025-03-09T19:16:10.020792Z",
     "shell.execute_reply": "2025-03-09T19:16:10.020102Z",
     "shell.execute_reply.started": "2025-03-09T19:16:09.082963Z"
    },
    "trusted": true
   },
   "outputs": [],
   "source": [
    "import numpy as np # linear algebra\n",
    "import pandas as pd # data processing, CSV file I/O (e.g. pd.read_csv)\n",
    "import pickle\n",
    "import gensim.downloader as api\n",
    "from gensim.models import KeyedVectors\n",
    "from datasets import load_dataset, Dataset"
   ]
  },
  {
   "cell_type": "markdown",
   "metadata": {},
   "source": [
    "# Dataset"
   ]
  },
  {
   "cell_type": "code",
   "execution_count": 2,
   "metadata": {
    "execution": {
     "iopub.execute_input": "2025-03-09T19:09:30.421234Z",
     "iopub.status.busy": "2025-03-09T19:09:30.420722Z",
     "iopub.status.idle": "2025-03-09T19:09:30.504967Z",
     "shell.execute_reply": "2025-03-09T19:09:30.504259Z",
     "shell.execute_reply.started": "2025-03-09T19:09:30.421210Z"
    },
    "trusted": true
   },
   "outputs": [
    {
     "data": {
      "text/html": [
       "<div>\n",
       "<style scoped>\n",
       "    .dataframe tbody tr th:only-of-type {\n",
       "        vertical-align: middle;\n",
       "    }\n",
       "\n",
       "    .dataframe tbody tr th {\n",
       "        vertical-align: top;\n",
       "    }\n",
       "\n",
       "    .dataframe thead th {\n",
       "        text-align: right;\n",
       "    }\n",
       "</style>\n",
       "<table border=\"1\" class=\"dataframe\">\n",
       "  <thead>\n",
       "    <tr style=\"text-align: right;\">\n",
       "      <th></th>\n",
       "      <th>premise</th>\n",
       "      <th>hypothesis</th>\n",
       "      <th>gold_label</th>\n",
       "    </tr>\n",
       "  </thead>\n",
       "  <tbody>\n",
       "    <tr>\n",
       "      <th>0</th>\n",
       "      <td>All ten guys that proved to boast were divorcing.</td>\n",
       "      <td>There are exactly ten guys that proved to boast.</td>\n",
       "      <td>0</td>\n",
       "    </tr>\n",
       "    <tr>\n",
       "      <th>1</th>\n",
       "      <td>All ten guys that proved to boast were divorcing.</td>\n",
       "      <td>There are exactly eleven guys that proved to b...</td>\n",
       "      <td>2</td>\n",
       "    </tr>\n",
       "    <tr>\n",
       "      <th>2</th>\n",
       "      <td>All ten guys that proved to boast were divorcing.</td>\n",
       "      <td>There are exactly ten senators that proved to ...</td>\n",
       "      <td>1</td>\n",
       "    </tr>\n",
       "    <tr>\n",
       "      <th>3</th>\n",
       "      <td>All ten guys that proved to boast weren't divo...</td>\n",
       "      <td>There are exactly ten guys that proved to boast.</td>\n",
       "      <td>0</td>\n",
       "    </tr>\n",
       "    <tr>\n",
       "      <th>4</th>\n",
       "      <td>All ten guys that proved to boast weren't divo...</td>\n",
       "      <td>There are exactly eleven guys that proved to b...</td>\n",
       "      <td>2</td>\n",
       "    </tr>\n",
       "    <tr>\n",
       "      <th>...</th>\n",
       "      <td>...</td>\n",
       "      <td>...</td>\n",
       "      <td>...</td>\n",
       "    </tr>\n",
       "    <tr>\n",
       "      <th>17095</th>\n",
       "      <td>If the actors do conceal where that mall shock...</td>\n",
       "      <td>Travel shocks Janet.</td>\n",
       "      <td>1</td>\n",
       "    </tr>\n",
       "    <tr>\n",
       "      <th>17096</th>\n",
       "      <td>The actors didn't conceal where that mall shoc...</td>\n",
       "      <td>The actors do conceal where that mall shocks J...</td>\n",
       "      <td>2</td>\n",
       "    </tr>\n",
       "    <tr>\n",
       "      <th>17097</th>\n",
       "      <td>Did the actors conceal where that mall shocks ...</td>\n",
       "      <td>The actors do conceal where that mall shocks J...</td>\n",
       "      <td>1</td>\n",
       "    </tr>\n",
       "    <tr>\n",
       "      <th>17098</th>\n",
       "      <td>The actors might have concealed where that mal...</td>\n",
       "      <td>The actors do conceal where that mall shocks J...</td>\n",
       "      <td>1</td>\n",
       "    </tr>\n",
       "    <tr>\n",
       "      <th>17099</th>\n",
       "      <td>If the actors do conceal where that mall shock...</td>\n",
       "      <td>The actors do conceal where that mall shocks J...</td>\n",
       "      <td>1</td>\n",
       "    </tr>\n",
       "  </tbody>\n",
       "</table>\n",
       "<p>17100 rows × 3 columns</p>\n",
       "</div>"
      ],
      "text/plain": [
       "                                                 premise  \\\n",
       "0      All ten guys that proved to boast were divorcing.   \n",
       "1      All ten guys that proved to boast were divorcing.   \n",
       "2      All ten guys that proved to boast were divorcing.   \n",
       "3      All ten guys that proved to boast weren't divo...   \n",
       "4      All ten guys that proved to boast weren't divo...   \n",
       "...                                                  ...   \n",
       "17095  If the actors do conceal where that mall shock...   \n",
       "17096  The actors didn't conceal where that mall shoc...   \n",
       "17097  Did the actors conceal where that mall shocks ...   \n",
       "17098  The actors might have concealed where that mal...   \n",
       "17099  If the actors do conceal where that mall shock...   \n",
       "\n",
       "                                              hypothesis  gold_label  \n",
       "0       There are exactly ten guys that proved to boast.           0  \n",
       "1      There are exactly eleven guys that proved to b...           2  \n",
       "2      There are exactly ten senators that proved to ...           1  \n",
       "3       There are exactly ten guys that proved to boast.           0  \n",
       "4      There are exactly eleven guys that proved to b...           2  \n",
       "...                                                  ...         ...  \n",
       "17095                               Travel shocks Janet.           1  \n",
       "17096  The actors do conceal where that mall shocks J...           2  \n",
       "17097  The actors do conceal where that mall shocks J...           1  \n",
       "17098  The actors do conceal where that mall shocks J...           1  \n",
       "17099  The actors do conceal where that mall shocks J...           1  \n",
       "\n",
       "[17100 rows x 3 columns]"
      ]
     },
     "execution_count": 2,
     "metadata": {},
     "output_type": "execute_result"
    }
   ],
   "source": [
    "train_df = pd.read_csv('/kaggle/input/imppres/imppres.csv',index_col=0)\n",
    "train_df"
   ]
  },
  {
   "cell_type": "code",
   "execution_count": 3,
   "metadata": {
    "execution": {
     "iopub.execute_input": "2025-03-09T19:09:30.506718Z",
     "iopub.status.busy": "2025-03-09T19:09:30.506496Z",
     "iopub.status.idle": "2025-03-09T19:09:30.537141Z",
     "shell.execute_reply": "2025-03-09T19:09:30.536476Z",
     "shell.execute_reply.started": "2025-03-09T19:09:30.506699Z"
    },
    "trusted": true
   },
   "outputs": [
    {
     "name": "stderr",
     "output_type": "stream",
     "text": [
      "/usr/local/lib/python3.10/dist-packages/pandas/io/formats/format.py:1458: RuntimeWarning: invalid value encountered in greater\n",
      "  has_large_values = (abs_vals > 1e6).any()\n",
      "/usr/local/lib/python3.10/dist-packages/pandas/io/formats/format.py:1459: RuntimeWarning: invalid value encountered in less\n",
      "  has_small_values = ((abs_vals < 10 ** (-self.digits)) & (abs_vals > 0)).any()\n",
      "/usr/local/lib/python3.10/dist-packages/pandas/io/formats/format.py:1459: RuntimeWarning: invalid value encountered in greater\n",
      "  has_small_values = ((abs_vals < 10 ** (-self.digits)) & (abs_vals > 0)).any()\n"
     ]
    },
    {
     "data": {
      "text/html": [
       "<div>\n",
       "<style scoped>\n",
       "    .dataframe tbody tr th:only-of-type {\n",
       "        vertical-align: middle;\n",
       "    }\n",
       "\n",
       "    .dataframe tbody tr th {\n",
       "        vertical-align: top;\n",
       "    }\n",
       "\n",
       "    .dataframe thead th {\n",
       "        text-align: right;\n",
       "    }\n",
       "</style>\n",
       "<table border=\"1\" class=\"dataframe\">\n",
       "  <thead>\n",
       "    <tr style=\"text-align: right;\">\n",
       "      <th></th>\n",
       "      <th>premise</th>\n",
       "      <th>hypothesis</th>\n",
       "      <th>gold_label</th>\n",
       "      <th>type</th>\n",
       "    </tr>\n",
       "  </thead>\n",
       "  <tbody>\n",
       "    <tr>\n",
       "      <th>9600.0</th>\n",
       "      <td>If Jessica attends the conference, her colleag...</td>\n",
       "      <td>Jessica has a colleague.</td>\n",
       "      <td>E</td>\n",
       "      <td>type5_possessive</td>\n",
       "    </tr>\n",
       "    <tr>\n",
       "      <th>9601.0</th>\n",
       "      <td>It's not the case that if Jessica attends the ...</td>\n",
       "      <td>Jessica has a colleague.</td>\n",
       "      <td>E</td>\n",
       "      <td>type5_possessive</td>\n",
       "    </tr>\n",
       "    <tr>\n",
       "      <th>9602.0</th>\n",
       "      <td>Sam believes that if Jessica attends the confe...</td>\n",
       "      <td>Jessica has a colleague.</td>\n",
       "      <td>E</td>\n",
       "      <td>type5_possessive</td>\n",
       "    </tr>\n",
       "    <tr>\n",
       "      <th>9603.0</th>\n",
       "      <td>Is it true that if Jessica attends the confere...</td>\n",
       "      <td>Jessica has a colleague.</td>\n",
       "      <td>E</td>\n",
       "      <td>type5_possessive</td>\n",
       "    </tr>\n",
       "    <tr>\n",
       "      <th>9620.0</th>\n",
       "      <td>If Mia's car breaks down, her coworker will gi...</td>\n",
       "      <td>Mia has a coworker.</td>\n",
       "      <td>E</td>\n",
       "      <td>type5_possessive</td>\n",
       "    </tr>\n",
       "    <tr>\n",
       "      <th>...</th>\n",
       "      <td>...</td>\n",
       "      <td>...</td>\n",
       "      <td>...</td>\n",
       "      <td>...</td>\n",
       "    </tr>\n",
       "    <tr>\n",
       "      <th>NaN</th>\n",
       "      <td>If Margaret graduates from college, her parent...</td>\n",
       "      <td>Margaret has siblings.</td>\n",
       "      <td>N</td>\n",
       "      <td>type5_possessive</td>\n",
       "    </tr>\n",
       "    <tr>\n",
       "      <th>NaN</th>\n",
       "      <td>It's not the case that if Margaret graduates f...</td>\n",
       "      <td>Margaret has siblings.</td>\n",
       "      <td>N</td>\n",
       "      <td>type5_possessive</td>\n",
       "    </tr>\n",
       "    <tr>\n",
       "      <th>NaN</th>\n",
       "      <td>Sam believes that if Margaret graduates from c...</td>\n",
       "      <td>Margaret has siblings.</td>\n",
       "      <td>N</td>\n",
       "      <td>type5_possessive</td>\n",
       "    </tr>\n",
       "    <tr>\n",
       "      <th>NaN</th>\n",
       "      <td>Is it true that if Margaret graduates from col...</td>\n",
       "      <td>Margaret has siblings.</td>\n",
       "      <td>N</td>\n",
       "      <td>type5_possessive</td>\n",
       "    </tr>\n",
       "    <tr>\n",
       "      <th>NaN</th>\n",
       "      <td>If Margaret graduates from college, her parent...</td>\n",
       "      <td>Margaret has graduated from college, but her p...</td>\n",
       "      <td>C</td>\n",
       "      <td>type5_possessive</td>\n",
       "    </tr>\n",
       "  </tbody>\n",
       "</table>\n",
       "<p>2348 rows × 4 columns</p>\n",
       "</div>"
      ],
      "text/plain": [
       "                                                  premise  \\\n",
       "9600.0  If Jessica attends the conference, her colleag...   \n",
       "9601.0  It's not the case that if Jessica attends the ...   \n",
       "9602.0  Sam believes that if Jessica attends the confe...   \n",
       "9603.0  Is it true that if Jessica attends the confere...   \n",
       "9620.0  If Mia's car breaks down, her coworker will gi...   \n",
       "...                                                   ...   \n",
       "NaN     If Margaret graduates from college, her parent...   \n",
       "NaN     It's not the case that if Margaret graduates f...   \n",
       "NaN     Sam believes that if Margaret graduates from c...   \n",
       "NaN     Is it true that if Margaret graduates from col...   \n",
       "NaN     If Margaret graduates from college, her parent...   \n",
       "\n",
       "                                               hypothesis gold_label  \\\n",
       "9600.0                           Jessica has a colleague.          E   \n",
       "9601.0                           Jessica has a colleague.          E   \n",
       "9602.0                           Jessica has a colleague.          E   \n",
       "9603.0                           Jessica has a colleague.          E   \n",
       "9620.0                                Mia has a coworker.          E   \n",
       "...                                                   ...        ...   \n",
       "NaN                                Margaret has siblings.          N   \n",
       "NaN                                Margaret has siblings.          N   \n",
       "NaN                                Margaret has siblings.          N   \n",
       "NaN                                Margaret has siblings.          N   \n",
       "NaN     Margaret has graduated from college, but her p...          C   \n",
       "\n",
       "                    type  \n",
       "9600.0  type5_possessive  \n",
       "9601.0  type5_possessive  \n",
       "9602.0  type5_possessive  \n",
       "9603.0  type5_possessive  \n",
       "9620.0  type5_possessive  \n",
       "...                  ...  \n",
       "NaN     type5_possessive  \n",
       "NaN     type5_possessive  \n",
       "NaN     type5_possessive  \n",
       "NaN     type5_possessive  \n",
       "NaN     type5_possessive  \n",
       "\n",
       "[2348 rows x 4 columns]"
      ]
     },
     "execution_count": 3,
     "metadata": {},
     "output_type": "execute_result"
    }
   ],
   "source": [
    "valid_df = pd.read_csv('../../data/processed/validation.csv',index_col=0)\n",
    "valid_df"
   ]
  },
  {
   "cell_type": "code",
   "execution_count": 4,
   "metadata": {
    "execution": {
     "iopub.execute_input": "2025-03-09T19:09:30.538518Z",
     "iopub.status.busy": "2025-03-09T19:09:30.538286Z",
     "iopub.status.idle": "2025-03-09T19:09:30.566276Z",
     "shell.execute_reply": "2025-03-09T19:09:30.565651Z",
     "shell.execute_reply.started": "2025-03-09T19:09:30.538498Z"
    },
    "trusted": true
   },
   "outputs": [
    {
     "name": "stderr",
     "output_type": "stream",
     "text": [
      "/usr/local/lib/python3.10/dist-packages/pandas/io/formats/format.py:1458: RuntimeWarning: invalid value encountered in greater\n",
      "  has_large_values = (abs_vals > 1e6).any()\n",
      "/usr/local/lib/python3.10/dist-packages/pandas/io/formats/format.py:1459: RuntimeWarning: invalid value encountered in less\n",
      "  has_small_values = ((abs_vals < 10 ** (-self.digits)) & (abs_vals > 0)).any()\n",
      "/usr/local/lib/python3.10/dist-packages/pandas/io/formats/format.py:1459: RuntimeWarning: invalid value encountered in greater\n",
      "  has_small_values = ((abs_vals < 10 ** (-self.digits)) & (abs_vals > 0)).any()\n"
     ]
    },
    {
     "data": {
      "text/html": [
       "<div>\n",
       "<style scoped>\n",
       "    .dataframe tbody tr th:only-of-type {\n",
       "        vertical-align: middle;\n",
       "    }\n",
       "\n",
       "    .dataframe tbody tr th {\n",
       "        vertical-align: top;\n",
       "    }\n",
       "\n",
       "    .dataframe thead th {\n",
       "        text-align: right;\n",
       "    }\n",
       "</style>\n",
       "<table border=\"1\" class=\"dataframe\">\n",
       "  <thead>\n",
       "    <tr style=\"text-align: right;\">\n",
       "      <th></th>\n",
       "      <th>premise</th>\n",
       "      <th>hypothesis</th>\n",
       "      <th>gold_label</th>\n",
       "      <th>type</th>\n",
       "    </tr>\n",
       "  </thead>\n",
       "  <tbody>\n",
       "    <tr>\n",
       "      <th>9616.0</th>\n",
       "      <td>If Charlotte passes her driving test, her pare...</td>\n",
       "      <td>Charlotte has parents.</td>\n",
       "      <td>E</td>\n",
       "      <td>type5_possessive</td>\n",
       "    </tr>\n",
       "    <tr>\n",
       "      <th>9617.0</th>\n",
       "      <td>It's not the case that if Charlotte passes her...</td>\n",
       "      <td>Charlotte has parents.</td>\n",
       "      <td>E</td>\n",
       "      <td>type5_possessive</td>\n",
       "    </tr>\n",
       "    <tr>\n",
       "      <th>9618.0</th>\n",
       "      <td>Sam believes that if Charlotte passes her driv...</td>\n",
       "      <td>Charlotte has parents.</td>\n",
       "      <td>E</td>\n",
       "      <td>type5_possessive</td>\n",
       "    </tr>\n",
       "    <tr>\n",
       "      <th>9619.0</th>\n",
       "      <td>Is it true that if Charlotte passes her drivin...</td>\n",
       "      <td>Charlotte has parents.</td>\n",
       "      <td>E</td>\n",
       "      <td>type5_possessive</td>\n",
       "    </tr>\n",
       "    <tr>\n",
       "      <th>9628.0</th>\n",
       "      <td>If Lily takes the train to the city, her frien...</td>\n",
       "      <td>Lily has a friend.</td>\n",
       "      <td>E</td>\n",
       "      <td>type5_possessive</td>\n",
       "    </tr>\n",
       "    <tr>\n",
       "      <th>...</th>\n",
       "      <td>...</td>\n",
       "      <td>...</td>\n",
       "      <td>...</td>\n",
       "      <td>...</td>\n",
       "    </tr>\n",
       "    <tr>\n",
       "      <th>NaN</th>\n",
       "      <td>If Sophia decides to attend the concert, his b...</td>\n",
       "      <td>Sophia has a close friend.</td>\n",
       "      <td>N</td>\n",
       "      <td>type5_possessive</td>\n",
       "    </tr>\n",
       "    <tr>\n",
       "      <th>NaN</th>\n",
       "      <td>It's not the case that if Sophia decides to at...</td>\n",
       "      <td>Sophia has a close friend.</td>\n",
       "      <td>N</td>\n",
       "      <td>type5_possessive</td>\n",
       "    </tr>\n",
       "    <tr>\n",
       "      <th>NaN</th>\n",
       "      <td>Sam believes that if Sophia decides to attend ...</td>\n",
       "      <td>Sophia has a close friend.</td>\n",
       "      <td>N</td>\n",
       "      <td>type5_possessive</td>\n",
       "    </tr>\n",
       "    <tr>\n",
       "      <th>NaN</th>\n",
       "      <td>Is it true that if Sophia decides to attend th...</td>\n",
       "      <td>Sophia has a close friend.</td>\n",
       "      <td>N</td>\n",
       "      <td>type5_possessive</td>\n",
       "    </tr>\n",
       "    <tr>\n",
       "      <th>NaN</th>\n",
       "      <td>If Sophia decides to attend the concert, his b...</td>\n",
       "      <td>Sophia has decided to attend the concert, but ...</td>\n",
       "      <td>C</td>\n",
       "      <td>type5_possessive</td>\n",
       "    </tr>\n",
       "  </tbody>\n",
       "</table>\n",
       "<p>2367 rows × 4 columns</p>\n",
       "</div>"
      ],
      "text/plain": [
       "                                                  premise  \\\n",
       "9616.0  If Charlotte passes her driving test, her pare...   \n",
       "9617.0  It's not the case that if Charlotte passes her...   \n",
       "9618.0  Sam believes that if Charlotte passes her driv...   \n",
       "9619.0  Is it true that if Charlotte passes her drivin...   \n",
       "9628.0  If Lily takes the train to the city, her frien...   \n",
       "...                                                   ...   \n",
       "NaN     If Sophia decides to attend the concert, his b...   \n",
       "NaN     It's not the case that if Sophia decides to at...   \n",
       "NaN     Sam believes that if Sophia decides to attend ...   \n",
       "NaN     Is it true that if Sophia decides to attend th...   \n",
       "NaN     If Sophia decides to attend the concert, his b...   \n",
       "\n",
       "                                               hypothesis gold_label  \\\n",
       "9616.0                             Charlotte has parents.          E   \n",
       "9617.0                             Charlotte has parents.          E   \n",
       "9618.0                             Charlotte has parents.          E   \n",
       "9619.0                             Charlotte has parents.          E   \n",
       "9628.0                                 Lily has a friend.          E   \n",
       "...                                                   ...        ...   \n",
       "NaN                            Sophia has a close friend.          N   \n",
       "NaN                            Sophia has a close friend.          N   \n",
       "NaN                            Sophia has a close friend.          N   \n",
       "NaN                            Sophia has a close friend.          N   \n",
       "NaN     Sophia has decided to attend the concert, but ...          C   \n",
       "\n",
       "                    type  \n",
       "9616.0  type5_possessive  \n",
       "9617.0  type5_possessive  \n",
       "9618.0  type5_possessive  \n",
       "9619.0  type5_possessive  \n",
       "9628.0  type5_possessive  \n",
       "...                  ...  \n",
       "NaN     type5_possessive  \n",
       "NaN     type5_possessive  \n",
       "NaN     type5_possessive  \n",
       "NaN     type5_possessive  \n",
       "NaN     type5_possessive  \n",
       "\n",
       "[2367 rows x 4 columns]"
      ]
     },
     "execution_count": 4,
     "metadata": {},
     "output_type": "execute_result"
    }
   ],
   "source": [
    "test_df = pd.read_csv('../../data/processed/test.csv',index_col=0)\n",
    "test_df"
   ]
  },
  {
   "cell_type": "code",
   "execution_count": 5,
   "metadata": {
    "execution": {
     "iopub.execute_input": "2025-03-09T19:09:30.567419Z",
     "iopub.status.busy": "2025-03-09T19:09:30.567109Z",
     "iopub.status.idle": "2025-03-09T19:09:30.572773Z",
     "shell.execute_reply": "2025-03-09T19:09:30.572028Z",
     "shell.execute_reply.started": "2025-03-09T19:09:30.567365Z"
    },
    "trusted": true
   },
   "outputs": [
    {
     "data": {
      "text/plain": [
       "0"
      ]
     },
     "execution_count": 5,
     "metadata": {},
     "output_type": "execute_result"
    }
   ],
   "source": [
    "train_df['premise'].isna().sum()"
   ]
  },
  {
   "cell_type": "code",
   "execution_count": 6,
   "metadata": {
    "execution": {
     "iopub.execute_input": "2025-03-09T19:09:30.573907Z",
     "iopub.status.busy": "2025-03-09T19:09:30.573594Z",
     "iopub.status.idle": "2025-03-09T19:09:30.590299Z",
     "shell.execute_reply": "2025-03-09T19:09:30.589686Z",
     "shell.execute_reply.started": "2025-03-09T19:09:30.573878Z"
    },
    "trusted": true
   },
   "outputs": [
    {
     "data": {
      "text/plain": [
       "0"
      ]
     },
     "execution_count": 6,
     "metadata": {},
     "output_type": "execute_result"
    }
   ],
   "source": [
    "train_df['hypothesis'].isna().sum()"
   ]
  },
  {
   "cell_type": "code",
   "execution_count": 7,
   "metadata": {
    "execution": {
     "iopub.execute_input": "2025-03-09T19:09:30.591307Z",
     "iopub.status.busy": "2025-03-09T19:09:30.591034Z",
     "iopub.status.idle": "2025-03-09T19:09:30.609768Z",
     "shell.execute_reply": "2025-03-09T19:09:30.609140Z",
     "shell.execute_reply.started": "2025-03-09T19:09:30.591278Z"
    },
    "trusted": true
   },
   "outputs": [
    {
     "data": {
      "text/html": [
       "<div>\n",
       "<style scoped>\n",
       "    .dataframe tbody tr th:only-of-type {\n",
       "        vertical-align: middle;\n",
       "    }\n",
       "\n",
       "    .dataframe tbody tr th {\n",
       "        vertical-align: top;\n",
       "    }\n",
       "\n",
       "    .dataframe thead th {\n",
       "        text-align: right;\n",
       "    }\n",
       "</style>\n",
       "<table border=\"1\" class=\"dataframe\">\n",
       "  <thead>\n",
       "    <tr style=\"text-align: right;\">\n",
       "      <th></th>\n",
       "      <th>premise</th>\n",
       "      <th>hypothesis</th>\n",
       "      <th>gold_label</th>\n",
       "    </tr>\n",
       "  </thead>\n",
       "  <tbody>\n",
       "  </tbody>\n",
       "</table>\n",
       "</div>"
      ],
      "text/plain": [
       "Empty DataFrame\n",
       "Columns: [premise, hypothesis, gold_label]\n",
       "Index: []"
      ]
     },
     "execution_count": 7,
     "metadata": {},
     "output_type": "execute_result"
    }
   ],
   "source": [
    "train_df[train_df['hypothesis'].isna()]"
   ]
  },
  {
   "cell_type": "code",
   "execution_count": 8,
   "metadata": {
    "execution": {
     "iopub.execute_input": "2025-03-09T19:09:30.610684Z",
     "iopub.status.busy": "2025-03-09T19:09:30.610443Z",
     "iopub.status.idle": "2025-03-09T19:09:30.625258Z",
     "shell.execute_reply": "2025-03-09T19:09:30.624594Z",
     "shell.execute_reply.started": "2025-03-09T19:09:30.610656Z"
    },
    "trusted": true
   },
   "outputs": [],
   "source": [
    "train_df.loc[train_df['hypothesis'].isna(), 'hypothesis'] = \"Martin has incited a response before\""
   ]
  },
  {
   "cell_type": "code",
   "execution_count": 9,
   "metadata": {
    "execution": {
     "iopub.execute_input": "2025-03-09T19:09:30.628267Z",
     "iopub.status.busy": "2025-03-09T19:09:30.628077Z",
     "iopub.status.idle": "2025-03-09T19:09:30.644012Z",
     "shell.execute_reply": "2025-03-09T19:09:30.643159Z",
     "shell.execute_reply.started": "2025-03-09T19:09:30.628251Z"
    },
    "trusted": true
   },
   "outputs": [
    {
     "data": {
      "text/html": [
       "<div>\n",
       "<style scoped>\n",
       "    .dataframe tbody tr th:only-of-type {\n",
       "        vertical-align: middle;\n",
       "    }\n",
       "\n",
       "    .dataframe tbody tr th {\n",
       "        vertical-align: top;\n",
       "    }\n",
       "\n",
       "    .dataframe thead th {\n",
       "        text-align: right;\n",
       "    }\n",
       "</style>\n",
       "<table border=\"1\" class=\"dataframe\">\n",
       "  <thead>\n",
       "    <tr style=\"text-align: right;\">\n",
       "      <th></th>\n",
       "      <th>premise</th>\n",
       "      <th>hypothesis</th>\n",
       "      <th>gold_label</th>\n",
       "    </tr>\n",
       "  </thead>\n",
       "  <tbody>\n",
       "  </tbody>\n",
       "</table>\n",
       "</div>"
      ],
      "text/plain": [
       "Empty DataFrame\n",
       "Columns: [premise, hypothesis, gold_label]\n",
       "Index: []"
      ]
     },
     "execution_count": 9,
     "metadata": {},
     "output_type": "execute_result"
    }
   ],
   "source": [
    "train_df[train_df['hypothesis'].isna()]"
   ]
  },
  {
   "cell_type": "code",
   "execution_count": 10,
   "metadata": {
    "execution": {
     "iopub.execute_input": "2025-03-09T19:09:30.645325Z",
     "iopub.status.busy": "2025-03-09T19:09:30.645124Z",
     "iopub.status.idle": "2025-03-09T19:09:30.662778Z",
     "shell.execute_reply": "2025-03-09T19:09:30.662161Z",
     "shell.execute_reply.started": "2025-03-09T19:09:30.645307Z"
    },
    "trusted": true
   },
   "outputs": [
    {
     "data": {
      "text/plain": [
       "gold_label\n",
       "1    7200\n",
       "2    5400\n",
       "0    4500\n",
       "Name: count, dtype: int64"
      ]
     },
     "execution_count": 10,
     "metadata": {},
     "output_type": "execute_result"
    }
   ],
   "source": [
    "train_df['gold_label'].value_counts()"
   ]
  },
  {
   "cell_type": "markdown",
   "metadata": {},
   "source": [
    "# Glove"
   ]
  },
  {
   "cell_type": "code",
   "execution_count": 11,
   "metadata": {
    "execution": {
     "iopub.execute_input": "2025-03-09T19:09:30.663761Z",
     "iopub.status.busy": "2025-03-09T19:09:30.663496Z",
     "iopub.status.idle": "2025-03-09T19:09:53.251659Z",
     "shell.execute_reply": "2025-03-09T19:09:53.251033Z",
     "shell.execute_reply.started": "2025-03-09T19:09:30.663731Z"
    },
    "trusted": true
   },
   "outputs": [
    {
     "name": "stdout",
     "output_type": "stream",
     "text": [
      "[==================================================] 100.0% 66.0/66.0MB downloaded\n"
     ]
    }
   ],
   "source": [
    "glove_vectors = api.load(\"glove-wiki-gigaword-50\")"
   ]
  },
  {
   "cell_type": "code",
   "execution_count": 12,
   "metadata": {
    "execution": {
     "iopub.execute_input": "2025-03-09T19:09:53.252722Z",
     "iopub.status.busy": "2025-03-09T19:09:53.252405Z",
     "iopub.status.idle": "2025-03-09T19:09:53.257105Z",
     "shell.execute_reply": "2025-03-09T19:09:53.256316Z",
     "shell.execute_reply.started": "2025-03-09T19:09:53.252687Z"
    },
    "trusted": true
   },
   "outputs": [],
   "source": [
    "def encode_glove_sentence(sentence,model):\n",
    "    words = sentence.split()\n",
    "    valid_words = [word for word in words if word in model]\n",
    "    if not valid_words:\n",
    "        return np.zeros(model.vector_size)\n",
    "    return np.mean([model[word] for word in valid_words], axis=0)"
   ]
  },
  {
   "cell_type": "code",
   "execution_count": 13,
   "metadata": {
    "execution": {
     "iopub.execute_input": "2025-03-09T19:09:53.258460Z",
     "iopub.status.busy": "2025-03-09T19:09:53.258165Z",
     "iopub.status.idle": "2025-03-09T19:09:53.303459Z",
     "shell.execute_reply": "2025-03-09T19:09:53.302745Z",
     "shell.execute_reply.started": "2025-03-09T19:09:53.258426Z"
    },
    "trusted": true
   },
   "outputs": [],
   "source": [
    "def encode_infersent_sentence(sentence,model):\n",
    "    return model.encode([sentence], tokenize=True)[0]"
   ]
  },
  {
   "cell_type": "code",
   "execution_count": 14,
   "metadata": {
    "execution": {
     "iopub.execute_input": "2025-03-09T19:09:53.304361Z",
     "iopub.status.busy": "2025-03-09T19:09:53.304118Z",
     "iopub.status.idle": "2025-03-09T19:09:53.320292Z",
     "shell.execute_reply": "2025-03-09T19:09:53.319535Z",
     "shell.execute_reply.started": "2025-03-09T19:09:53.304341Z"
    },
    "trusted": true
   },
   "outputs": [],
   "source": [
    "def get_sentence_embedding(row, model, glove):\n",
    "    premise = row['premise']\n",
    "    hypothesis = row['hypothesis'] \n",
    "    if glove:\n",
    "        embedded_premise = encode_glove_sentence(premise,model)\n",
    "        embedded_hypothesis = encode_glove_sentence(hypothesis,model)\n",
    "    else:\n",
    "        embedded_premise = encode_infersent_sentence(premise,model)\n",
    "        embedded_hypothesis = encode_infersent_sentence(hypothesis,model)\n",
    "    return np.concatenate((embedded_premise, embedded_hypothesis), axis=0)"
   ]
  },
  {
   "cell_type": "code",
   "execution_count": 15,
   "metadata": {
    "execution": {
     "iopub.execute_input": "2025-03-09T19:09:53.321478Z",
     "iopub.status.busy": "2025-03-09T19:09:53.321180Z",
     "iopub.status.idle": "2025-03-09T19:09:54.468730Z",
     "shell.execute_reply": "2025-03-09T19:09:54.468058Z",
     "shell.execute_reply.started": "2025-03-09T19:09:53.321450Z"
    },
    "trusted": true
   },
   "outputs": [],
   "source": [
    "train_df['glove_embedding'] = train_df.apply(lambda row: get_sentence_embedding(row, glove_vectors,True), axis=1)"
   ]
  },
  {
   "cell_type": "code",
   "execution_count": 16,
   "metadata": {
    "execution": {
     "iopub.execute_input": "2025-03-09T19:09:54.469630Z",
     "iopub.status.busy": "2025-03-09T19:09:54.469415Z",
     "iopub.status.idle": "2025-03-09T19:09:54.486828Z",
     "shell.execute_reply": "2025-03-09T19:09:54.486006Z",
     "shell.execute_reply.started": "2025-03-09T19:09:54.469598Z"
    },
    "trusted": true
   },
   "outputs": [
    {
     "data": {
      "text/html": [
       "<div>\n",
       "<style scoped>\n",
       "    .dataframe tbody tr th:only-of-type {\n",
       "        vertical-align: middle;\n",
       "    }\n",
       "\n",
       "    .dataframe tbody tr th {\n",
       "        vertical-align: top;\n",
       "    }\n",
       "\n",
       "    .dataframe thead th {\n",
       "        text-align: right;\n",
       "    }\n",
       "</style>\n",
       "<table border=\"1\" class=\"dataframe\">\n",
       "  <thead>\n",
       "    <tr style=\"text-align: right;\">\n",
       "      <th></th>\n",
       "      <th>premise</th>\n",
       "      <th>hypothesis</th>\n",
       "      <th>gold_label</th>\n",
       "      <th>glove_embedding</th>\n",
       "    </tr>\n",
       "  </thead>\n",
       "  <tbody>\n",
       "    <tr>\n",
       "      <th>0</th>\n",
       "      <td>All ten guys that proved to boast were divorcing.</td>\n",
       "      <td>There are exactly ten guys that proved to boast.</td>\n",
       "      <td>0</td>\n",
       "      <td>[0.25119957, -0.06234614, 0.27578142, -0.21113...</td>\n",
       "    </tr>\n",
       "    <tr>\n",
       "      <th>1</th>\n",
       "      <td>All ten guys that proved to boast were divorcing.</td>\n",
       "      <td>There are exactly eleven guys that proved to b...</td>\n",
       "      <td>2</td>\n",
       "      <td>[0.25119957, -0.06234614, 0.27578142, -0.21113...</td>\n",
       "    </tr>\n",
       "    <tr>\n",
       "      <th>2</th>\n",
       "      <td>All ten guys that proved to boast were divorcing.</td>\n",
       "      <td>There are exactly ten senators that proved to ...</td>\n",
       "      <td>1</td>\n",
       "      <td>[0.25119957, -0.06234614, 0.27578142, -0.21113...</td>\n",
       "    </tr>\n",
       "    <tr>\n",
       "      <th>3</th>\n",
       "      <td>All ten guys that proved to boast weren't divo...</td>\n",
       "      <td>There are exactly ten guys that proved to boast.</td>\n",
       "      <td>0</td>\n",
       "      <td>[0.1707945, 0.051954497, 0.24522333, -0.152917...</td>\n",
       "    </tr>\n",
       "    <tr>\n",
       "      <th>4</th>\n",
       "      <td>All ten guys that proved to boast weren't divo...</td>\n",
       "      <td>There are exactly eleven guys that proved to b...</td>\n",
       "      <td>2</td>\n",
       "      <td>[0.1707945, 0.051954497, 0.24522333, -0.152917...</td>\n",
       "    </tr>\n",
       "    <tr>\n",
       "      <th>...</th>\n",
       "      <td>...</td>\n",
       "      <td>...</td>\n",
       "      <td>...</td>\n",
       "      <td>...</td>\n",
       "    </tr>\n",
       "    <tr>\n",
       "      <th>17095</th>\n",
       "      <td>If the actors do conceal where that mall shock...</td>\n",
       "      <td>Travel shocks Janet.</td>\n",
       "      <td>1</td>\n",
       "      <td>[0.46832773, 0.098472506, -0.0039869994, -0.06...</td>\n",
       "    </tr>\n",
       "    <tr>\n",
       "      <th>17096</th>\n",
       "      <td>The actors didn't conceal where that mall shoc...</td>\n",
       "      <td>The actors do conceal where that mall shocks J...</td>\n",
       "      <td>2</td>\n",
       "      <td>[0.5054287, 0.112751685, 0.056125, -0.03704117...</td>\n",
       "    </tr>\n",
       "    <tr>\n",
       "      <th>17097</th>\n",
       "      <td>Did the actors conceal where that mall shocks ...</td>\n",
       "      <td>The actors do conceal where that mall shocks J...</td>\n",
       "      <td>1</td>\n",
       "      <td>[0.49293882, 0.13231288, -0.010810001, -0.0143...</td>\n",
       "    </tr>\n",
       "    <tr>\n",
       "      <th>17098</th>\n",
       "      <td>The actors might have concealed where that mal...</td>\n",
       "      <td>The actors do conceal where that mall shocks J...</td>\n",
       "      <td>1</td>\n",
       "      <td>[0.49730152, -0.0030547492, 0.22041373, -0.129...</td>\n",
       "    </tr>\n",
       "    <tr>\n",
       "      <th>17099</th>\n",
       "      <td>If the actors do conceal where that mall shock...</td>\n",
       "      <td>The actors do conceal where that mall shocks J...</td>\n",
       "      <td>1</td>\n",
       "      <td>[0.46832773, 0.098472506, -0.0039869994, -0.06...</td>\n",
       "    </tr>\n",
       "  </tbody>\n",
       "</table>\n",
       "<p>17100 rows × 4 columns</p>\n",
       "</div>"
      ],
      "text/plain": [
       "                                                 premise  \\\n",
       "0      All ten guys that proved to boast were divorcing.   \n",
       "1      All ten guys that proved to boast were divorcing.   \n",
       "2      All ten guys that proved to boast were divorcing.   \n",
       "3      All ten guys that proved to boast weren't divo...   \n",
       "4      All ten guys that proved to boast weren't divo...   \n",
       "...                                                  ...   \n",
       "17095  If the actors do conceal where that mall shock...   \n",
       "17096  The actors didn't conceal where that mall shoc...   \n",
       "17097  Did the actors conceal where that mall shocks ...   \n",
       "17098  The actors might have concealed where that mal...   \n",
       "17099  If the actors do conceal where that mall shock...   \n",
       "\n",
       "                                              hypothesis  gold_label  \\\n",
       "0       There are exactly ten guys that proved to boast.           0   \n",
       "1      There are exactly eleven guys that proved to b...           2   \n",
       "2      There are exactly ten senators that proved to ...           1   \n",
       "3       There are exactly ten guys that proved to boast.           0   \n",
       "4      There are exactly eleven guys that proved to b...           2   \n",
       "...                                                  ...         ...   \n",
       "17095                               Travel shocks Janet.           1   \n",
       "17096  The actors do conceal where that mall shocks J...           2   \n",
       "17097  The actors do conceal where that mall shocks J...           1   \n",
       "17098  The actors do conceal where that mall shocks J...           1   \n",
       "17099  The actors do conceal where that mall shocks J...           1   \n",
       "\n",
       "                                         glove_embedding  \n",
       "0      [0.25119957, -0.06234614, 0.27578142, -0.21113...  \n",
       "1      [0.25119957, -0.06234614, 0.27578142, -0.21113...  \n",
       "2      [0.25119957, -0.06234614, 0.27578142, -0.21113...  \n",
       "3      [0.1707945, 0.051954497, 0.24522333, -0.152917...  \n",
       "4      [0.1707945, 0.051954497, 0.24522333, -0.152917...  \n",
       "...                                                  ...  \n",
       "17095  [0.46832773, 0.098472506, -0.0039869994, -0.06...  \n",
       "17096  [0.5054287, 0.112751685, 0.056125, -0.03704117...  \n",
       "17097  [0.49293882, 0.13231288, -0.010810001, -0.0143...  \n",
       "17098  [0.49730152, -0.0030547492, 0.22041373, -0.129...  \n",
       "17099  [0.46832773, 0.098472506, -0.0039869994, -0.06...  \n",
       "\n",
       "[17100 rows x 4 columns]"
      ]
     },
     "execution_count": 16,
     "metadata": {},
     "output_type": "execute_result"
    }
   ],
   "source": [
    "train_df"
   ]
  },
  {
   "cell_type": "code",
   "execution_count": 17,
   "metadata": {
    "execution": {
     "iopub.execute_input": "2025-03-09T19:09:54.487893Z",
     "iopub.status.busy": "2025-03-09T19:09:54.487598Z",
     "iopub.status.idle": "2025-03-09T19:10:03.545916Z",
     "shell.execute_reply": "2025-03-09T19:10:03.545227Z",
     "shell.execute_reply.started": "2025-03-09T19:09:54.487873Z"
    },
    "trusted": true
   },
   "outputs": [],
   "source": [
    "train_df.to_csv('train_glove_embeddings.csv')"
   ]
  },
  {
   "cell_type": "code",
   "execution_count": 18,
   "metadata": {
    "execution": {
     "iopub.execute_input": "2025-03-09T19:10:03.546911Z",
     "iopub.status.busy": "2025-03-09T19:10:03.546676Z",
     "iopub.status.idle": "2025-03-09T19:10:03.738518Z",
     "shell.execute_reply": "2025-03-09T19:10:03.737683Z",
     "shell.execute_reply.started": "2025-03-09T19:10:03.546891Z"
    },
    "trusted": true
   },
   "outputs": [],
   "source": [
    "valid_df['glove_embedding'] = valid_df.apply(lambda row: get_sentence_embedding(row, glove_vectors,True), axis=1)"
   ]
  },
  {
   "cell_type": "code",
   "execution_count": 19,
   "metadata": {
    "execution": {
     "iopub.execute_input": "2025-03-09T19:10:03.739726Z",
     "iopub.status.busy": "2025-03-09T19:10:03.739412Z",
     "iopub.status.idle": "2025-03-09T19:10:03.758752Z",
     "shell.execute_reply": "2025-03-09T19:10:03.757811Z",
     "shell.execute_reply.started": "2025-03-09T19:10:03.739696Z"
    },
    "trusted": true
   },
   "outputs": [
    {
     "name": "stderr",
     "output_type": "stream",
     "text": [
      "/usr/local/lib/python3.10/dist-packages/pandas/io/formats/format.py:1458: RuntimeWarning: invalid value encountered in greater\n",
      "  has_large_values = (abs_vals > 1e6).any()\n",
      "/usr/local/lib/python3.10/dist-packages/pandas/io/formats/format.py:1459: RuntimeWarning: invalid value encountered in less\n",
      "  has_small_values = ((abs_vals < 10 ** (-self.digits)) & (abs_vals > 0)).any()\n",
      "/usr/local/lib/python3.10/dist-packages/pandas/io/formats/format.py:1459: RuntimeWarning: invalid value encountered in greater\n",
      "  has_small_values = ((abs_vals < 10 ** (-self.digits)) & (abs_vals > 0)).any()\n"
     ]
    },
    {
     "data": {
      "text/html": [
       "<div>\n",
       "<style scoped>\n",
       "    .dataframe tbody tr th:only-of-type {\n",
       "        vertical-align: middle;\n",
       "    }\n",
       "\n",
       "    .dataframe tbody tr th {\n",
       "        vertical-align: top;\n",
       "    }\n",
       "\n",
       "    .dataframe thead th {\n",
       "        text-align: right;\n",
       "    }\n",
       "</style>\n",
       "<table border=\"1\" class=\"dataframe\">\n",
       "  <thead>\n",
       "    <tr style=\"text-align: right;\">\n",
       "      <th></th>\n",
       "      <th>premise</th>\n",
       "      <th>hypothesis</th>\n",
       "      <th>gold_label</th>\n",
       "      <th>type</th>\n",
       "      <th>glove_embedding</th>\n",
       "    </tr>\n",
       "  </thead>\n",
       "  <tbody>\n",
       "    <tr>\n",
       "      <th>9600.0</th>\n",
       "      <td>If Jessica attends the conference, her colleag...</td>\n",
       "      <td>Jessica has a colleague.</td>\n",
       "      <td>E</td>\n",
       "      <td>type5_possessive</td>\n",
       "      <td>[0.23507889, 0.7431433, -0.3087911, -0.1263506...</td>\n",
       "    </tr>\n",
       "    <tr>\n",
       "      <th>9601.0</th>\n",
       "      <td>It's not the case that if Jessica attends the ...</td>\n",
       "      <td>Jessica has a colleague.</td>\n",
       "      <td>E</td>\n",
       "      <td>type5_possessive</td>\n",
       "      <td>[0.3690707, 0.44162574, -0.21020706, -0.037490...</td>\n",
       "    </tr>\n",
       "    <tr>\n",
       "      <th>9602.0</th>\n",
       "      <td>Sam believes that if Jessica attends the confe...</td>\n",
       "      <td>Jessica has a colleague.</td>\n",
       "      <td>E</td>\n",
       "      <td>type5_possessive</td>\n",
       "      <td>[0.31066418, 0.5372636, -0.17693633, -0.088790...</td>\n",
       "    </tr>\n",
       "    <tr>\n",
       "      <th>9603.0</th>\n",
       "      <td>Is it true that if Jessica attends the confere...</td>\n",
       "      <td>Jessica has a colleague.</td>\n",
       "      <td>E</td>\n",
       "      <td>type5_possessive</td>\n",
       "      <td>[0.34069696, 0.5280746, -0.19675462, -0.083821...</td>\n",
       "    </tr>\n",
       "    <tr>\n",
       "      <th>9620.0</th>\n",
       "      <td>If Mia's car breaks down, her coworker will gi...</td>\n",
       "      <td>Mia has a coworker.</td>\n",
       "      <td>E</td>\n",
       "      <td>type5_possessive</td>\n",
       "      <td>[0.3414782, 0.34566912, -0.010364906, -0.10675...</td>\n",
       "    </tr>\n",
       "    <tr>\n",
       "      <th>...</th>\n",
       "      <td>...</td>\n",
       "      <td>...</td>\n",
       "      <td>...</td>\n",
       "      <td>...</td>\n",
       "      <td>...</td>\n",
       "    </tr>\n",
       "    <tr>\n",
       "      <th>NaN</th>\n",
       "      <td>If Margaret graduates from college, her parent...</td>\n",
       "      <td>Margaret has siblings.</td>\n",
       "      <td>N</td>\n",
       "      <td>type5_possessive</td>\n",
       "      <td>[-0.08452601, 0.478575, -0.1825016, -0.4008751...</td>\n",
       "    </tr>\n",
       "    <tr>\n",
       "      <th>NaN</th>\n",
       "      <td>It's not the case that if Margaret graduates f...</td>\n",
       "      <td>Margaret has siblings.</td>\n",
       "      <td>N</td>\n",
       "      <td>type5_possessive</td>\n",
       "      <td>[0.14706801, 0.285348, -0.1325863, -0.22643042...</td>\n",
       "    </tr>\n",
       "    <tr>\n",
       "      <th>NaN</th>\n",
       "      <td>Sam believes that if Margaret graduates from c...</td>\n",
       "      <td>Margaret has siblings.</td>\n",
       "      <td>N</td>\n",
       "      <td>type5_possessive</td>\n",
       "      <td>[0.05899999, 0.34958637, -0.08993324, -0.30285...</td>\n",
       "    </tr>\n",
       "    <tr>\n",
       "      <th>NaN</th>\n",
       "      <td>Is it true that if Margaret graduates from col...</td>\n",
       "      <td>Margaret has siblings.</td>\n",
       "      <td>N</td>\n",
       "      <td>type5_possessive</td>\n",
       "      <td>[0.10486356, 0.3544593, -0.11455043, -0.282948...</td>\n",
       "    </tr>\n",
       "    <tr>\n",
       "      <th>NaN</th>\n",
       "      <td>If Margaret graduates from college, her parent...</td>\n",
       "      <td>Margaret has graduated from college, but her p...</td>\n",
       "      <td>C</td>\n",
       "      <td>type5_possessive</td>\n",
       "      <td>[-0.08452601, 0.478575, -0.1825016, -0.4008751...</td>\n",
       "    </tr>\n",
       "  </tbody>\n",
       "</table>\n",
       "<p>2348 rows × 5 columns</p>\n",
       "</div>"
      ],
      "text/plain": [
       "                                                  premise  \\\n",
       "9600.0  If Jessica attends the conference, her colleag...   \n",
       "9601.0  It's not the case that if Jessica attends the ...   \n",
       "9602.0  Sam believes that if Jessica attends the confe...   \n",
       "9603.0  Is it true that if Jessica attends the confere...   \n",
       "9620.0  If Mia's car breaks down, her coworker will gi...   \n",
       "...                                                   ...   \n",
       "NaN     If Margaret graduates from college, her parent...   \n",
       "NaN     It's not the case that if Margaret graduates f...   \n",
       "NaN     Sam believes that if Margaret graduates from c...   \n",
       "NaN     Is it true that if Margaret graduates from col...   \n",
       "NaN     If Margaret graduates from college, her parent...   \n",
       "\n",
       "                                               hypothesis gold_label  \\\n",
       "9600.0                           Jessica has a colleague.          E   \n",
       "9601.0                           Jessica has a colleague.          E   \n",
       "9602.0                           Jessica has a colleague.          E   \n",
       "9603.0                           Jessica has a colleague.          E   \n",
       "9620.0                                Mia has a coworker.          E   \n",
       "...                                                   ...        ...   \n",
       "NaN                                Margaret has siblings.          N   \n",
       "NaN                                Margaret has siblings.          N   \n",
       "NaN                                Margaret has siblings.          N   \n",
       "NaN                                Margaret has siblings.          N   \n",
       "NaN     Margaret has graduated from college, but her p...          C   \n",
       "\n",
       "                    type                                    glove_embedding  \n",
       "9600.0  type5_possessive  [0.23507889, 0.7431433, -0.3087911, -0.1263506...  \n",
       "9601.0  type5_possessive  [0.3690707, 0.44162574, -0.21020706, -0.037490...  \n",
       "9602.0  type5_possessive  [0.31066418, 0.5372636, -0.17693633, -0.088790...  \n",
       "9603.0  type5_possessive  [0.34069696, 0.5280746, -0.19675462, -0.083821...  \n",
       "9620.0  type5_possessive  [0.3414782, 0.34566912, -0.010364906, -0.10675...  \n",
       "...                  ...                                                ...  \n",
       "NaN     type5_possessive  [-0.08452601, 0.478575, -0.1825016, -0.4008751...  \n",
       "NaN     type5_possessive  [0.14706801, 0.285348, -0.1325863, -0.22643042...  \n",
       "NaN     type5_possessive  [0.05899999, 0.34958637, -0.08993324, -0.30285...  \n",
       "NaN     type5_possessive  [0.10486356, 0.3544593, -0.11455043, -0.282948...  \n",
       "NaN     type5_possessive  [-0.08452601, 0.478575, -0.1825016, -0.4008751...  \n",
       "\n",
       "[2348 rows x 5 columns]"
      ]
     },
     "execution_count": 19,
     "metadata": {},
     "output_type": "execute_result"
    }
   ],
   "source": [
    "valid_df"
   ]
  },
  {
   "cell_type": "code",
   "execution_count": 20,
   "metadata": {
    "execution": {
     "iopub.execute_input": "2025-03-09T19:10:03.759875Z",
     "iopub.status.busy": "2025-03-09T19:10:03.759504Z",
     "iopub.status.idle": "2025-03-09T19:10:03.969992Z",
     "shell.execute_reply": "2025-03-09T19:10:03.969031Z",
     "shell.execute_reply.started": "2025-03-09T19:10:03.759848Z"
    },
    "trusted": true
   },
   "outputs": [],
   "source": [
    "test_df['glove_embedding'] = test_df.apply(lambda row: get_sentence_embedding(row, glove_vectors,True), axis=1)"
   ]
  },
  {
   "cell_type": "code",
   "execution_count": 21,
   "metadata": {
    "execution": {
     "iopub.execute_input": "2025-03-09T19:10:03.971067Z",
     "iopub.status.busy": "2025-03-09T19:10:03.970835Z",
     "iopub.status.idle": "2025-03-09T19:10:03.991474Z",
     "shell.execute_reply": "2025-03-09T19:10:03.990772Z",
     "shell.execute_reply.started": "2025-03-09T19:10:03.971046Z"
    },
    "trusted": true
   },
   "outputs": [
    {
     "name": "stderr",
     "output_type": "stream",
     "text": [
      "/usr/local/lib/python3.10/dist-packages/pandas/io/formats/format.py:1458: RuntimeWarning: invalid value encountered in greater\n",
      "  has_large_values = (abs_vals > 1e6).any()\n",
      "/usr/local/lib/python3.10/dist-packages/pandas/io/formats/format.py:1459: RuntimeWarning: invalid value encountered in less\n",
      "  has_small_values = ((abs_vals < 10 ** (-self.digits)) & (abs_vals > 0)).any()\n",
      "/usr/local/lib/python3.10/dist-packages/pandas/io/formats/format.py:1459: RuntimeWarning: invalid value encountered in greater\n",
      "  has_small_values = ((abs_vals < 10 ** (-self.digits)) & (abs_vals > 0)).any()\n"
     ]
    },
    {
     "data": {
      "text/html": [
       "<div>\n",
       "<style scoped>\n",
       "    .dataframe tbody tr th:only-of-type {\n",
       "        vertical-align: middle;\n",
       "    }\n",
       "\n",
       "    .dataframe tbody tr th {\n",
       "        vertical-align: top;\n",
       "    }\n",
       "\n",
       "    .dataframe thead th {\n",
       "        text-align: right;\n",
       "    }\n",
       "</style>\n",
       "<table border=\"1\" class=\"dataframe\">\n",
       "  <thead>\n",
       "    <tr style=\"text-align: right;\">\n",
       "      <th></th>\n",
       "      <th>premise</th>\n",
       "      <th>hypothesis</th>\n",
       "      <th>gold_label</th>\n",
       "      <th>type</th>\n",
       "      <th>glove_embedding</th>\n",
       "    </tr>\n",
       "  </thead>\n",
       "  <tbody>\n",
       "    <tr>\n",
       "      <th>9616.0</th>\n",
       "      <td>If Charlotte passes her driving test, her pare...</td>\n",
       "      <td>Charlotte has parents.</td>\n",
       "      <td>E</td>\n",
       "      <td>type5_possessive</td>\n",
       "      <td>[0.17170888, 0.4655589, 0.017628895, -0.365464...</td>\n",
       "    </tr>\n",
       "    <tr>\n",
       "      <th>9617.0</th>\n",
       "      <td>It's not the case that if Charlotte passes her...</td>\n",
       "      <td>Charlotte has parents.</td>\n",
       "      <td>E</td>\n",
       "      <td>type5_possessive</td>\n",
       "      <td>[0.32833287, 0.2631786, -0.0003656149, -0.1912...</td>\n",
       "    </tr>\n",
       "    <tr>\n",
       "      <th>9618.0</th>\n",
       "      <td>Sam believes that if Charlotte passes her driv...</td>\n",
       "      <td>Charlotte has parents.</td>\n",
       "      <td>E</td>\n",
       "      <td>type5_possessive</td>\n",
       "      <td>[0.26313668, 0.32907525, 0.06787867, -0.268126...</td>\n",
       "    </tr>\n",
       "    <tr>\n",
       "      <th>9619.0</th>\n",
       "      <td>Is it true that if Charlotte passes her drivin...</td>\n",
       "      <td>Charlotte has parents.</td>\n",
       "      <td>E</td>\n",
       "      <td>type5_possessive</td>\n",
       "      <td>[0.29682538, 0.33590078, 0.029228458, -0.24936...</td>\n",
       "    </tr>\n",
       "    <tr>\n",
       "      <th>9628.0</th>\n",
       "      <td>If Lily takes the train to the city, her frien...</td>\n",
       "      <td>Lily has a friend.</td>\n",
       "      <td>E</td>\n",
       "      <td>type5_possessive</td>\n",
       "      <td>[0.41779414, 0.5672047, -0.12455517, -0.113467...</td>\n",
       "    </tr>\n",
       "    <tr>\n",
       "      <th>...</th>\n",
       "      <td>...</td>\n",
       "      <td>...</td>\n",
       "      <td>...</td>\n",
       "      <td>...</td>\n",
       "      <td>...</td>\n",
       "    </tr>\n",
       "    <tr>\n",
       "      <th>NaN</th>\n",
       "      <td>If Sophia decides to attend the concert, his b...</td>\n",
       "      <td>Sophia has a close friend.</td>\n",
       "      <td>N</td>\n",
       "      <td>type5_possessive</td>\n",
       "      <td>[0.19257289, 0.39037293, -0.009387304, -0.1870...</td>\n",
       "    </tr>\n",
       "    <tr>\n",
       "      <th>NaN</th>\n",
       "      <td>It's not the case that if Sophia decides to at...</td>\n",
       "      <td>Sophia has a close friend.</td>\n",
       "      <td>N</td>\n",
       "      <td>type5_possessive</td>\n",
       "      <td>[0.3318006, 0.22654662, -0.017176786, -0.08385...</td>\n",
       "    </tr>\n",
       "    <tr>\n",
       "      <th>NaN</th>\n",
       "      <td>Sam believes that if Sophia decides to attend ...</td>\n",
       "      <td>Sophia has a close friend.</td>\n",
       "      <td>N</td>\n",
       "      <td>type5_possessive</td>\n",
       "      <td>[0.27215302, 0.28173864, 0.043231603, -0.13834...</td>\n",
       "    </tr>\n",
       "    <tr>\n",
       "      <th>NaN</th>\n",
       "      <td>Is it true that if Sophia decides to attend th...</td>\n",
       "      <td>Sophia has a close friend.</td>\n",
       "      <td>N</td>\n",
       "      <td>type5_possessive</td>\n",
       "      <td>[0.30279136, 0.29145783, 0.009102633, -0.13019...</td>\n",
       "    </tr>\n",
       "    <tr>\n",
       "      <th>NaN</th>\n",
       "      <td>If Sophia decides to attend the concert, his b...</td>\n",
       "      <td>Sophia has decided to attend the concert, but ...</td>\n",
       "      <td>C</td>\n",
       "      <td>type5_possessive</td>\n",
       "      <td>[0.19257289, 0.39037293, -0.009387304, -0.1870...</td>\n",
       "    </tr>\n",
       "  </tbody>\n",
       "</table>\n",
       "<p>2367 rows × 5 columns</p>\n",
       "</div>"
      ],
      "text/plain": [
       "                                                  premise  \\\n",
       "9616.0  If Charlotte passes her driving test, her pare...   \n",
       "9617.0  It's not the case that if Charlotte passes her...   \n",
       "9618.0  Sam believes that if Charlotte passes her driv...   \n",
       "9619.0  Is it true that if Charlotte passes her drivin...   \n",
       "9628.0  If Lily takes the train to the city, her frien...   \n",
       "...                                                   ...   \n",
       "NaN     If Sophia decides to attend the concert, his b...   \n",
       "NaN     It's not the case that if Sophia decides to at...   \n",
       "NaN     Sam believes that if Sophia decides to attend ...   \n",
       "NaN     Is it true that if Sophia decides to attend th...   \n",
       "NaN     If Sophia decides to attend the concert, his b...   \n",
       "\n",
       "                                               hypothesis gold_label  \\\n",
       "9616.0                             Charlotte has parents.          E   \n",
       "9617.0                             Charlotte has parents.          E   \n",
       "9618.0                             Charlotte has parents.          E   \n",
       "9619.0                             Charlotte has parents.          E   \n",
       "9628.0                                 Lily has a friend.          E   \n",
       "...                                                   ...        ...   \n",
       "NaN                            Sophia has a close friend.          N   \n",
       "NaN                            Sophia has a close friend.          N   \n",
       "NaN                            Sophia has a close friend.          N   \n",
       "NaN                            Sophia has a close friend.          N   \n",
       "NaN     Sophia has decided to attend the concert, but ...          C   \n",
       "\n",
       "                    type                                    glove_embedding  \n",
       "9616.0  type5_possessive  [0.17170888, 0.4655589, 0.017628895, -0.365464...  \n",
       "9617.0  type5_possessive  [0.32833287, 0.2631786, -0.0003656149, -0.1912...  \n",
       "9618.0  type5_possessive  [0.26313668, 0.32907525, 0.06787867, -0.268126...  \n",
       "9619.0  type5_possessive  [0.29682538, 0.33590078, 0.029228458, -0.24936...  \n",
       "9628.0  type5_possessive  [0.41779414, 0.5672047, -0.12455517, -0.113467...  \n",
       "...                  ...                                                ...  \n",
       "NaN     type5_possessive  [0.19257289, 0.39037293, -0.009387304, -0.1870...  \n",
       "NaN     type5_possessive  [0.3318006, 0.22654662, -0.017176786, -0.08385...  \n",
       "NaN     type5_possessive  [0.27215302, 0.28173864, 0.043231603, -0.13834...  \n",
       "NaN     type5_possessive  [0.30279136, 0.29145783, 0.009102633, -0.13019...  \n",
       "NaN     type5_possessive  [0.19257289, 0.39037293, -0.009387304, -0.1870...  \n",
       "\n",
       "[2367 rows x 5 columns]"
      ]
     },
     "execution_count": 21,
     "metadata": {},
     "output_type": "execute_result"
    }
   ],
   "source": [
    "test_df"
   ]
  },
  {
   "cell_type": "code",
   "execution_count": 22,
   "metadata": {
    "execution": {
     "iopub.execute_input": "2025-03-09T19:10:03.992543Z",
     "iopub.status.busy": "2025-03-09T19:10:03.992320Z",
     "iopub.status.idle": "2025-03-09T19:10:13.132290Z",
     "shell.execute_reply": "2025-03-09T19:10:13.131231Z",
     "shell.execute_reply.started": "2025-03-09T19:10:03.992523Z"
    },
    "trusted": true
   },
   "outputs": [],
   "source": [
    "train_df.to_csv('train_glove_embeddings.csv')"
   ]
  },
  {
   "cell_type": "code",
   "execution_count": 23,
   "metadata": {
    "execution": {
     "iopub.execute_input": "2025-03-09T19:10:13.133959Z",
     "iopub.status.busy": "2025-03-09T19:10:13.133532Z",
     "iopub.status.idle": "2025-03-09T19:10:14.418884Z",
     "shell.execute_reply": "2025-03-09T19:10:14.418229Z",
     "shell.execute_reply.started": "2025-03-09T19:10:13.133921Z"
    },
    "trusted": true
   },
   "outputs": [],
   "source": [
    "valid_df.to_csv('valid_glove_embeddings.csv')"
   ]
  },
  {
   "cell_type": "code",
   "execution_count": 24,
   "metadata": {
    "execution": {
     "iopub.execute_input": "2025-03-09T19:10:14.419793Z",
     "iopub.status.busy": "2025-03-09T19:10:14.419558Z",
     "iopub.status.idle": "2025-03-09T19:10:15.682424Z",
     "shell.execute_reply": "2025-03-09T19:10:15.681675Z",
     "shell.execute_reply.started": "2025-03-09T19:10:14.419774Z"
    },
    "trusted": true
   },
   "outputs": [],
   "source": [
    "test_df.to_csv('test_glove_embeddings.csv')"
   ]
  },
  {
   "cell_type": "markdown",
   "metadata": {},
   "source": [
    "## ClassificationNet"
   ]
  },
  {
   "cell_type": "code",
   "execution_count": 33,
   "metadata": {
    "execution": {
     "iopub.execute_input": "2025-03-09T19:17:47.329032Z",
     "iopub.status.busy": "2025-03-09T19:17:47.328660Z",
     "iopub.status.idle": "2025-03-09T19:17:50.658149Z",
     "shell.execute_reply": "2025-03-09T19:17:50.657462Z",
     "shell.execute_reply.started": "2025-03-09T19:17:47.329003Z"
    },
    "trusted": true
   },
   "outputs": [],
   "source": [
    "from torch.utils.data import Dataset, DataLoader\n",
    "import torch.nn as nn\n",
    "import torch.optim as optim\n",
    "import torch\n",
    "from sklearn.model_selection import train_test_split"
   ]
  },
  {
   "cell_type": "code",
   "execution_count": 25,
   "metadata": {
    "execution": {
     "iopub.execute_input": "2025-03-09T19:13:22.106550Z",
     "iopub.status.busy": "2025-03-09T19:13:22.106196Z",
     "iopub.status.idle": "2025-03-09T19:13:22.111356Z",
     "shell.execute_reply": "2025-03-09T19:13:22.110597Z",
     "shell.execute_reply.started": "2025-03-09T19:13:22.106526Z"
    },
    "trusted": true
   },
   "outputs": [],
   "source": [
    "X_val = np.array(valid_df['glove_embedding'])\n",
    "X_train = np.array(train_df['glove_embedding'])"
   ]
  },
  {
   "cell_type": "code",
   "execution_count": 26,
   "metadata": {
    "execution": {
     "iopub.execute_input": "2025-03-09T19:13:24.991878Z",
     "iopub.status.busy": "2025-03-09T19:13:24.991550Z",
     "iopub.status.idle": "2025-03-09T19:13:24.996891Z",
     "shell.execute_reply": "2025-03-09T19:13:24.996000Z",
     "shell.execute_reply.started": "2025-03-09T19:13:24.991854Z"
    },
    "trusted": true
   },
   "outputs": [],
   "source": [
    "y_val = np.array(valid_df['gold_label'].map({'E': 0,'N': 1,'C':2}))\n",
    "y_train = np.array(train_df['gold_label']) "
   ]
  },
  {
   "cell_type": "code",
   "execution_count": 36,
   "metadata": {
    "execution": {
     "iopub.execute_input": "2025-03-09T19:18:21.830569Z",
     "iopub.status.busy": "2025-03-09T19:18:21.830235Z",
     "iopub.status.idle": "2025-03-09T19:18:21.840329Z",
     "shell.execute_reply": "2025-03-09T19:18:21.839452Z",
     "shell.execute_reply.started": "2025-03-09T19:18:21.830542Z"
    },
    "trusted": true
   },
   "outputs": [
    {
     "data": {
      "text/plain": [
       "array([array([ 2.51199573e-01, -6.23461418e-02,  2.75781423e-01, -2.11130723e-01,\n",
       "               3.27819020e-01,  5.84837124e-02, -5.48639953e-01,  5.27972840e-02,\n",
       "              -4.23475742e-01,  4.28438522e-02, -7.49122724e-02, -8.33850633e-03,\n",
       "              -4.09308612e-01, -8.66457224e-02,  4.69444454e-01,  2.26015709e-02,\n",
       "               3.50179136e-01,  8.69932771e-02, -4.55148458e-01, -5.44035375e-01,\n",
       "              -2.23152876e-01,  1.30357146e-01,  4.46711034e-01, -4.37291451e-02,\n",
       "               1.66444853e-01, -1.24460995e+00, -4.99554306e-01, -9.86876860e-02,\n",
       "               2.74401993e-01, -4.16835755e-01,  2.88567567e+00,  3.95420015e-01,\n",
       "               7.32557178e-02, -3.65477711e-01,  3.90274286e-01,  1.08162150e-01,\n",
       "               1.91172436e-01,  3.66928726e-01, -3.34945589e-01, -1.66760847e-01,\n",
       "              -3.54626447e-01, -9.72202867e-02,  1.93922415e-01,  3.85441840e-01,\n",
       "              -2.73042917e-03, -9.84656811e-03, -4.45745707e-01,  6.72832876e-02,\n",
       "              -1.34881288e-01, -1.32120699e-01,  3.62721413e-01,  2.99471780e-03,\n",
       "               2.47714281e-01, -1.73170879e-01,  5.06939292e-01,  1.42066002e-01,\n",
       "              -3.99410009e-01, -1.33751351e-02, -3.78657162e-01,  3.17809992e-02,\n",
       "              -1.07769586e-01,  1.08484782e-01, -4.41104263e-01,  1.03255678e-02,\n",
       "               6.00407183e-01,  1.76522568e-01,  4.15401995e-01,  7.91185256e-03,\n",
       "              -3.63161296e-01, -6.47932589e-01, -2.50765741e-01,  7.41642788e-02,\n",
       "               5.42855322e-01,  1.22014284e-01,  2.80446261e-01, -1.36945152e+00,\n",
       "              -5.31224310e-01, -3.22958566e-02,  4.14598554e-01, -4.88707155e-01,\n",
       "               3.18701482e+00,  2.93336570e-01, -1.01201423e-01, -4.67281997e-01,\n",
       "               3.27201396e-01,  8.71786010e-03,  1.90390989e-01,  2.99848139e-01,\n",
       "              -2.00959712e-01, -1.88038856e-01, -3.70269239e-01, -7.68867061e-02,\n",
       "               1.39872298e-01,  4.43798989e-01,  6.65185694e-03,  2.75848564e-02,\n",
       "              -2.06988558e-01,  1.05576143e-01, -1.15791582e-01,  9.04421657e-02],\n",
       "             dtype=float32)                                                       ,\n",
       "       array([ 2.51199573e-01, -6.23461418e-02,  2.75781423e-01, -2.11130723e-01,\n",
       "               3.27819020e-01,  5.84837124e-02, -5.48639953e-01,  5.27972840e-02,\n",
       "              -4.23475742e-01,  4.28438522e-02, -7.49122724e-02, -8.33850633e-03,\n",
       "              -4.09308612e-01, -8.66457224e-02,  4.69444454e-01,  2.26015709e-02,\n",
       "               3.50179136e-01,  8.69932771e-02, -4.55148458e-01, -5.44035375e-01,\n",
       "              -2.23152876e-01,  1.30357146e-01,  4.46711034e-01, -4.37291451e-02,\n",
       "               1.66444853e-01, -1.24460995e+00, -4.99554306e-01, -9.86876860e-02,\n",
       "               2.74401993e-01, -4.16835755e-01,  2.88567567e+00,  3.95420015e-01,\n",
       "               7.32557178e-02, -3.65477711e-01,  3.90274286e-01,  1.08162150e-01,\n",
       "               1.91172436e-01,  3.66928726e-01, -3.34945589e-01, -1.66760847e-01,\n",
       "              -3.54626447e-01, -9.72202867e-02,  1.93922415e-01,  3.85441840e-01,\n",
       "              -2.73042917e-03, -9.84656811e-03, -4.45745707e-01,  6.72832876e-02,\n",
       "              -1.34881288e-01, -1.32120699e-01,  4.05611426e-01, -4.75524329e-02,\n",
       "               1.95361450e-01, -1.70519426e-01,  4.68485415e-01,  1.88483134e-01,\n",
       "              -4.04814273e-01,  6.94784373e-02, -3.91768605e-01,  8.18101037e-03,\n",
       "              -1.02595285e-01,  1.09803356e-01, -4.26636279e-01,  4.94684316e-02,\n",
       "               5.59115767e-01,  1.09805420e-01,  3.46886247e-01,  1.97475720e-02,\n",
       "              -3.20255548e-01, -6.45578265e-01, -2.33622864e-01,  1.50382861e-01,\n",
       "               5.84369600e-01,  1.66767135e-01,  2.45029137e-01, -1.30051434e+00,\n",
       "              -5.22080004e-01, -2.88187098e-02,  3.80821437e-01, -4.81342882e-01,\n",
       "               3.08125710e+00,  2.78292030e-01, -6.76185712e-02, -4.99964267e-01,\n",
       "               3.59787136e-01,  1.93921328e-02,  1.72993854e-01,  2.71532446e-01,\n",
       "              -2.11994007e-01, -1.46345288e-01, -3.88556421e-01, -8.88538510e-02,\n",
       "               1.68735132e-01,  4.41699266e-01, -2.88338549e-02,  5.87318614e-02,\n",
       "              -2.55218565e-01,  1.15186140e-01, -1.38213009e-01,  6.34035915e-02],\n",
       "             dtype=float32)                                                       ,\n",
       "       array([ 2.51199573e-01, -6.23461418e-02,  2.75781423e-01, -2.11130723e-01,\n",
       "               3.27819020e-01,  5.84837124e-02, -5.48639953e-01,  5.27972840e-02,\n",
       "              -4.23475742e-01,  4.28438522e-02, -7.49122724e-02, -8.33850633e-03,\n",
       "              -4.09308612e-01, -8.66457224e-02,  4.69444454e-01,  2.26015709e-02,\n",
       "               3.50179136e-01,  8.69932771e-02, -4.55148458e-01, -5.44035375e-01,\n",
       "              -2.23152876e-01,  1.30357146e-01,  4.46711034e-01, -4.37291451e-02,\n",
       "               1.66444853e-01, -1.24460995e+00, -4.99554306e-01, -9.86876860e-02,\n",
       "               2.74401993e-01, -4.16835755e-01,  2.88567567e+00,  3.95420015e-01,\n",
       "               7.32557178e-02, -3.65477711e-01,  3.90274286e-01,  1.08162150e-01,\n",
       "               1.91172436e-01,  3.66928726e-01, -3.34945589e-01, -1.66760847e-01,\n",
       "              -3.54626447e-01, -9.72202867e-02,  1.93922415e-01,  3.85441840e-01,\n",
       "              -2.73042917e-03, -9.84656811e-03, -4.45745707e-01,  6.72832876e-02,\n",
       "              -1.34881288e-01, -1.32120699e-01,  4.21747148e-01,  4.59961481e-02,\n",
       "               2.53808558e-01, -1.34449437e-01,  3.56368393e-01,  3.79394591e-01,\n",
       "              -4.59509999e-01,  8.24038759e-02, -4.47078615e-01, -1.09130420e-01,\n",
       "              -2.15552449e-01,  5.18004969e-02, -2.15901420e-01,  6.95312992e-02,\n",
       "               4.24284309e-01,  6.93514273e-02,  2.65425414e-01, -2.74118125e-01,\n",
       "              -3.14597309e-01, -5.91119766e-01, -1.70975715e-01, -9.43214297e-02,\n",
       "               5.96838117e-01, -3.50185707e-02,  1.69371992e-01, -1.40929425e+00,\n",
       "              -2.99471438e-01, -1.04410134e-01,  1.23802863e-01, -3.62185717e-01,\n",
       "               3.05299997e+00,  2.07726568e-01, -2.31189996e-01, -6.14260554e-01,\n",
       "               3.22105676e-01, -1.94306418e-01,  2.11517707e-01,  3.04428160e-01,\n",
       "              -2.60139704e-01, -1.57727450e-01, -4.00684983e-01, -2.81987041e-02,\n",
       "               1.23107433e-01,  3.83514702e-01, -1.65225282e-01,  2.07620546e-01,\n",
       "              -3.95962864e-01,  2.62960434e-01, -1.54083014e-01,  3.58021669e-02],\n",
       "             dtype=float32)                                                       ,\n",
       "       ...,\n",
       "       array([ 4.92938817e-01,  1.32312879e-01, -1.08100008e-02, -1.43638635e-02,\n",
       "               2.28784293e-01,  2.06037551e-01, -1.57930017e-01,  3.71115729e-02,\n",
       "              -1.09738626e-01,  4.47700024e-02,  1.82493757e-02, -2.56742798e-02,\n",
       "              -2.84337163e-01,  2.71713315e-03,  3.30517620e-01,  3.83884013e-01,\n",
       "               2.44430974e-01,  7.18421489e-02, -2.19916970e-01, -4.37776417e-01,\n",
       "               3.64468396e-01,  1.70028001e-01, -1.39376730e-01,  9.02814269e-02,\n",
       "              -1.65021420e-01, -1.20566273e+00, -5.39575696e-01,  1.24752998e-01,\n",
       "               2.76173860e-01, -3.63977134e-01,  2.35472131e+00,  1.73136711e-01,\n",
       "               1.49345711e-01, -7.81587124e-01,  3.86041813e-02,  2.90254116e-01,\n",
       "              -5.55267259e-02, -2.32983276e-01,  2.37299930e-02, -1.08563423e-01,\n",
       "              -2.85607159e-01,  2.27138564e-01,  8.94318670e-02,  9.30061415e-02,\n",
       "               7.62657076e-02, -1.50796697e-01, -1.06896438e-01, -3.30107182e-01,\n",
       "              -1.52071148e-01, -2.12470680e-01,  4.75517452e-01,  7.68714324e-02,\n",
       "               5.43605722e-02, -8.70981291e-02,  1.96977139e-01,  1.19274281e-01,\n",
       "              -1.27289996e-01,  7.55304247e-02, -1.88481450e-01,  1.84370011e-01,\n",
       "              -2.09917426e-02,  1.28605723e-01, -2.36275718e-01, -4.95400131e-02,\n",
       "               4.63547558e-01,  4.90395755e-01,  3.51128131e-01,  8.95136148e-02,\n",
       "              -2.26941388e-02, -6.01332128e-01,  2.79685706e-01,  2.41426572e-01,\n",
       "               1.01328106e-03,  2.17275694e-01, -6.76785707e-02, -1.21881986e+00,\n",
       "              -5.94081461e-01,  7.99442902e-02,  4.51408178e-01, -5.46725690e-01,\n",
       "               2.31785011e+00,  3.44571024e-01,  6.27128482e-02, -8.11558604e-01,\n",
       "               2.13353131e-02,  2.49289140e-01, -7.16250017e-02, -2.16507435e-01,\n",
       "               1.08332716e-01, -1.30663007e-01, -3.08275700e-01,  2.51128703e-01,\n",
       "               1.98311836e-01,  1.97954282e-01,  1.60150006e-01, -1.82199970e-01,\n",
       "              -1.14161849e-01, -3.03821832e-01, -1.15831144e-01,  3.82936038e-02],\n",
       "             dtype=float32)                                                       ,\n",
       "       array([ 4.97301519e-01, -3.05474922e-03,  2.20413730e-01, -1.29233360e-01,\n",
       "               2.14736432e-01,  2.47945026e-01, -3.29282522e-01,  1.70351341e-02,\n",
       "              -1.22082517e-01,  1.40396371e-01,  3.40689495e-02, -2.76093818e-02,\n",
       "              -1.99748755e-01,  1.24781244e-02,  4.88410383e-01,  5.54187536e-01,\n",
       "               2.22164854e-01,  6.36831298e-02, -1.93824127e-01, -6.02719367e-01,\n",
       "               1.94274992e-01,  1.64292008e-01,  5.52441031e-02,  1.55104518e-01,\n",
       "              -1.25386238e-01, -1.38081741e+00, -4.33221400e-01,  2.06845626e-01,\n",
       "               3.58835906e-01, -3.91112477e-01,  2.43857503e+00,  2.06085145e-01,\n",
       "               1.52607501e-01, -8.16891253e-01,  1.78505152e-01,  1.89701617e-01,\n",
       "               3.09758745e-02, -1.16485119e-01, -6.94282576e-02, -4.64820117e-02,\n",
       "              -3.54972482e-01,  3.42746288e-01,  1.84586376e-01,  3.58878762e-01,\n",
       "               1.61226496e-01, -7.56716281e-02, -2.65117109e-01, -1.81946248e-01,\n",
       "              -2.68715113e-01, -1.79013118e-01,  4.75517452e-01,  7.68714324e-02,\n",
       "               5.43605722e-02, -8.70981291e-02,  1.96977139e-01,  1.19274281e-01,\n",
       "              -1.27289996e-01,  7.55304247e-02, -1.88481450e-01,  1.84370011e-01,\n",
       "              -2.09917426e-02,  1.28605723e-01, -2.36275718e-01, -4.95400131e-02,\n",
       "               4.63547558e-01,  4.90395755e-01,  3.51128131e-01,  8.95136148e-02,\n",
       "              -2.26941388e-02, -6.01332128e-01,  2.79685706e-01,  2.41426572e-01,\n",
       "               1.01328106e-03,  2.17275694e-01, -6.76785707e-02, -1.21881986e+00,\n",
       "              -5.94081461e-01,  7.99442902e-02,  4.51408178e-01, -5.46725690e-01,\n",
       "               2.31785011e+00,  3.44571024e-01,  6.27128482e-02, -8.11558604e-01,\n",
       "               2.13353131e-02,  2.49289140e-01, -7.16250017e-02, -2.16507435e-01,\n",
       "               1.08332716e-01, -1.30663007e-01, -3.08275700e-01,  2.51128703e-01,\n",
       "               1.98311836e-01,  1.97954282e-01,  1.60150006e-01, -1.82199970e-01,\n",
       "              -1.14161849e-01, -3.03821832e-01, -1.15831144e-01,  3.82936038e-02],\n",
       "             dtype=float32)                                                       ,\n",
       "       array([ 4.68327731e-01,  9.84725058e-02, -3.98699939e-03, -6.09983839e-02,\n",
       "               2.15513736e-01,  9.88078639e-02, -1.73488751e-01,  4.37616259e-02,\n",
       "              -1.65003791e-01,  7.92487562e-02,  1.64359733e-02,  9.40712541e-02,\n",
       "              -2.76337504e-01, -2.50250138e-02,  4.04415429e-01,  4.30553496e-01,\n",
       "               3.19992125e-01,  6.23344146e-02, -1.25394866e-01, -5.41391850e-01,\n",
       "               2.42624864e-01,  1.69649497e-01, -1.85133796e-02,  1.61202490e-01,\n",
       "              -8.31950009e-02, -1.30175495e+00, -6.15753770e-01,  8.23326185e-02,\n",
       "               3.42325896e-01, -5.02792478e-01,  2.52900648e+00,  2.78257132e-01,\n",
       "              -1.04850084e-02, -7.49714971e-01,  1.87424123e-02,  2.19058603e-01,\n",
       "              -4.04493809e-02, -2.09315255e-01,  9.62962508e-02, -1.21107996e-01,\n",
       "              -3.07079971e-01,  2.00051352e-01,  1.30075380e-01,  1.67505383e-01,\n",
       "               8.48174915e-02, -1.35943756e-01, -9.95435119e-02, -2.88857847e-01,\n",
       "              -1.15744747e-01, -6.47193491e-02,  4.75517452e-01,  7.68714324e-02,\n",
       "               5.43605722e-02, -8.70981291e-02,  1.96977139e-01,  1.19274281e-01,\n",
       "              -1.27289996e-01,  7.55304247e-02, -1.88481450e-01,  1.84370011e-01,\n",
       "              -2.09917426e-02,  1.28605723e-01, -2.36275718e-01, -4.95400131e-02,\n",
       "               4.63547558e-01,  4.90395755e-01,  3.51128131e-01,  8.95136148e-02,\n",
       "              -2.26941388e-02, -6.01332128e-01,  2.79685706e-01,  2.41426572e-01,\n",
       "               1.01328106e-03,  2.17275694e-01, -6.76785707e-02, -1.21881986e+00,\n",
       "              -5.94081461e-01,  7.99442902e-02,  4.51408178e-01, -5.46725690e-01,\n",
       "               2.31785011e+00,  3.44571024e-01,  6.27128482e-02, -8.11558604e-01,\n",
       "               2.13353131e-02,  2.49289140e-01, -7.16250017e-02, -2.16507435e-01,\n",
       "               1.08332716e-01, -1.30663007e-01, -3.08275700e-01,  2.51128703e-01,\n",
       "               1.98311836e-01,  1.97954282e-01,  1.60150006e-01, -1.82199970e-01,\n",
       "              -1.14161849e-01, -3.03821832e-01, -1.15831144e-01,  3.82936038e-02],\n",
       "             dtype=float32)                                                       ],\n",
       "      dtype=object)"
      ]
     },
     "execution_count": 36,
     "metadata": {},
     "output_type": "execute_result"
    }
   ],
   "source": [
    "X_train"
   ]
  },
  {
   "cell_type": "code",
   "execution_count": 27,
   "metadata": {
    "execution": {
     "iopub.execute_input": "2025-03-09T19:13:35.981784Z",
     "iopub.status.busy": "2025-03-09T19:13:35.981441Z",
     "iopub.status.idle": "2025-03-09T19:13:35.987017Z",
     "shell.execute_reply": "2025-03-09T19:13:35.986341Z",
     "shell.execute_reply.started": "2025-03-09T19:13:35.981757Z"
    },
    "trusted": true
   },
   "outputs": [
    {
     "data": {
      "text/plain": [
       "array([0, 2, 1, ..., 1, 1, 1])"
      ]
     },
     "execution_count": 27,
     "metadata": {},
     "output_type": "execute_result"
    }
   ],
   "source": [
    "y_train"
   ]
  },
  {
   "cell_type": "code",
   "execution_count": null,
   "metadata": {
    "trusted": true
   },
   "outputs": [],
   "source": [
    "X_val"
   ]
  },
  {
   "cell_type": "code",
   "execution_count": 28,
   "metadata": {
    "execution": {
     "iopub.execute_input": "2025-03-09T19:13:38.976127Z",
     "iopub.status.busy": "2025-03-09T19:13:38.975839Z",
     "iopub.status.idle": "2025-03-09T19:13:38.981330Z",
     "shell.execute_reply": "2025-03-09T19:13:38.980592Z",
     "shell.execute_reply.started": "2025-03-09T19:13:38.976106Z"
    },
    "trusted": true
   },
   "outputs": [
    {
     "data": {
      "text/plain": [
       "array([0, 0, 0, ..., 1, 1, 2])"
      ]
     },
     "execution_count": 28,
     "metadata": {},
     "output_type": "execute_result"
    }
   ],
   "source": [
    "y_val"
   ]
  },
  {
   "cell_type": "code",
   "execution_count": 56,
   "metadata": {
    "execution": {
     "iopub.execute_input": "2025-02-02T17:31:45.669742Z",
     "iopub.status.busy": "2025-02-02T17:31:45.669403Z",
     "iopub.status.idle": "2025-02-02T17:31:45.674707Z",
     "shell.execute_reply": "2025-02-02T17:31:45.673846Z",
     "shell.execute_reply.started": "2025-02-02T17:31:45.669717Z"
    },
    "trusted": true
   },
   "outputs": [
    {
     "data": {
      "text/plain": [
       "100"
      ]
     },
     "execution_count": 56,
     "metadata": {},
     "output_type": "execute_result"
    }
   ],
   "source": [
    "len(X_train[0])"
   ]
  },
  {
   "cell_type": "code",
   "execution_count": 37,
   "metadata": {
    "execution": {
     "iopub.execute_input": "2025-03-09T19:18:39.046818Z",
     "iopub.status.busy": "2025-03-09T19:18:39.046468Z",
     "iopub.status.idle": "2025-03-09T19:18:39.051902Z",
     "shell.execute_reply": "2025-03-09T19:18:39.051118Z",
     "shell.execute_reply.started": "2025-03-09T19:18:39.046791Z"
    },
    "trusted": true
   },
   "outputs": [],
   "source": [
    "# DataLoader\n",
    "\n",
    "class EmbeddingsDataset(Dataset):\n",
    "    def __init__(self, embeddings, labels):\n",
    "        self.embeddings = embeddings\n",
    "        self.labels = labels\n",
    "\n",
    "    def __len__(self):\n",
    "        return len(self.embeddings)\n",
    "\n",
    "    def __getitem__(self, idx):\n",
    "        embedding = self.embeddings[idx]\n",
    "        label = self.labels[idx]\n",
    "        return torch.tensor(embedding, dtype=torch.float32), torch.tensor(label, dtype=torch.long)"
   ]
  },
  {
   "cell_type": "code",
   "execution_count": 38,
   "metadata": {
    "execution": {
     "iopub.execute_input": "2025-03-09T19:18:41.908067Z",
     "iopub.status.busy": "2025-03-09T19:18:41.907788Z",
     "iopub.status.idle": "2025-03-09T19:18:41.913681Z",
     "shell.execute_reply": "2025-03-09T19:18:41.912834Z",
     "shell.execute_reply.started": "2025-03-09T19:18:41.908046Z"
    },
    "trusted": true
   },
   "outputs": [
    {
     "name": "stdout",
     "output_type": "stream",
     "text": [
      "2138\n",
      "294\n"
     ]
    }
   ],
   "source": [
    "# Create the dataset\n",
    "train_dataset = EmbeddingsDataset(X_train, y_train)\n",
    "val_dataset = EmbeddingsDataset(X_val, y_val)\n",
    "\n",
    "# Create the DataLoader\n",
    "train_loader = DataLoader(train_dataset, batch_size=8, shuffle=True)\n",
    "val_loader = DataLoader(val_dataset, batch_size=8, shuffle=True)\n",
    "print(len(train_loader))\n",
    "print(len(val_loader))"
   ]
  },
  {
   "cell_type": "code",
   "execution_count": 39,
   "metadata": {
    "execution": {
     "iopub.execute_input": "2025-03-09T19:18:44.378423Z",
     "iopub.status.busy": "2025-03-09T19:18:44.378132Z",
     "iopub.status.idle": "2025-03-09T19:18:44.452038Z",
     "shell.execute_reply": "2025-03-09T19:18:44.451172Z",
     "shell.execute_reply.started": "2025-03-09T19:18:44.378399Z"
    },
    "trusted": true
   },
   "outputs": [
    {
     "name": "stdout",
     "output_type": "stream",
     "text": [
      "Data: tensor([-6.8567e-01, -5.2977e-02, -1.2881e+00, -5.7500e-01, -6.7403e-01,\n",
      "         7.3020e-01,  2.4849e-01, -5.6510e-01, -1.3816e-01, -1.0565e+00,\n",
      "        -3.0580e-01, -1.2397e-01,  8.3155e-02,  6.6836e-01, -3.7040e-01,\n",
      "         3.3684e-01, -4.8075e-01, -6.0539e-01,  6.7713e-01, -1.4193e+00,\n",
      "        -3.3040e-01, -1.3078e-01, -1.3798e-01, -2.0573e-01, -9.8345e-01,\n",
      "        -1.0052e+00, -8.5268e-01,  1.7898e+00,  5.5321e-01, -1.1121e+00,\n",
      "         1.0977e+00,  4.2032e-01, -4.7940e-01,  1.2705e+00, -7.5597e-02,\n",
      "         1.5554e-01, -5.5973e-01,  1.7058e-01, -6.3444e-01, -7.8426e-01,\n",
      "         8.7049e-02,  5.1064e-01,  9.6903e-01,  8.2497e-03, -1.8883e-01,\n",
      "        -1.3843e+00,  1.1193e+00, -8.9177e-01, -1.3303e-01, -1.9749e-01,\n",
      "         3.8263e-01,  2.5200e-01, -1.8315e-01,  2.0701e-01,  5.5449e-01,\n",
      "         5.8329e-01, -6.6298e-01, -4.2276e-01,  9.7382e-02,  1.2787e-01,\n",
      "         5.1425e-02, -2.3174e-01, -5.4378e-01,  1.1913e-01,  3.9448e-01,\n",
      "        -1.0350e-03,  3.3157e-02,  2.6226e-01, -4.5030e-01, -1.4929e-01,\n",
      "        -2.8663e-01,  2.0498e-01, -2.4803e-01, -2.3791e-01, -1.4663e-01,\n",
      "        -2.1799e+00, -1.0052e-01,  4.7853e-01, -1.6114e-01,  1.4247e-01,\n",
      "         3.8115e+00, -4.4252e-01, -2.1547e-01, -6.9305e-02,  6.4525e-02,\n",
      "        -9.2460e-02,  6.5395e-02,  3.5245e-01,  1.7572e-01, -3.6099e-01,\n",
      "        -1.4046e-01,  4.8888e-01, -4.4275e-01,  1.9514e-02, -1.3568e-01,\n",
      "        -1.1975e-01, -3.5079e-01,  1.1105e-01,  3.7300e-03,  4.2450e-03])\n",
      "Label: tensor(0)\n"
     ]
    }
   ],
   "source": [
    "for batch in train_loader:\n",
    "    # Extract the data and labels\n",
    "    data, labels = batch\n",
    "    # Print the first example in the batch\n",
    "    print(\"Data:\", data[0])\n",
    "    print(\"Label:\", labels[0])\n",
    "    break"
   ]
  },
  {
   "cell_type": "code",
   "execution_count": 40,
   "metadata": {
    "execution": {
     "iopub.execute_input": "2025-03-09T19:18:53.574569Z",
     "iopub.status.busy": "2025-03-09T19:18:53.574228Z",
     "iopub.status.idle": "2025-03-09T19:18:53.582741Z",
     "shell.execute_reply": "2025-03-09T19:18:53.581820Z",
     "shell.execute_reply.started": "2025-03-09T19:18:53.574540Z"
    },
    "trusted": true
   },
   "outputs": [
    {
     "name": "stdout",
     "output_type": "stream",
     "text": [
      "Data: tensor([ 2.5656e-01,  3.1697e-01, -1.8870e-01, -3.0502e-01,  4.7582e-01,\n",
      "         4.0884e-01, -6.3206e-01,  3.2787e-01,  3.1372e-02, -9.1464e-02,\n",
      "        -1.4488e-01,  1.4008e-01, -5.6687e-01,  1.3860e-01,  5.7513e-01,\n",
      "        -6.8969e-02, -1.7717e-01, -1.6802e-01,  3.2909e-02, -6.1792e-01,\n",
      "         2.6714e-01,  7.6158e-01,  2.4517e-01, -1.4168e-01,  3.7396e-01,\n",
      "        -1.7979e+00, -3.7627e-01, -1.0418e-01, -2.6545e-03, -5.0521e-01,\n",
      "         3.1140e+00,  5.0427e-01, -4.8269e-01, -2.8742e-01,  1.6516e-01,\n",
      "         1.3958e-01,  5.3490e-02,  6.1662e-01,  1.2184e-01, -5.9684e-01,\n",
      "        -2.0599e-01,  3.4921e-02, -1.4492e-02, -7.0580e-02,  9.9073e-02,\n",
      "        -2.5398e-01,  4.1451e-02, -3.9992e-01, -8.3366e-02,  6.4080e-03,\n",
      "         5.4822e-01,  3.8847e-02,  1.0127e-01,  3.1319e-01,  9.5487e-02,\n",
      "         4.1814e-01, -7.9493e-01, -5.8296e-01,  2.6643e-02,  1.2392e-01,\n",
      "         3.5194e-01, -2.1630e-02, -8.7018e-01, -2.7178e-01,  6.5449e-01,\n",
      "         4.2934e-01,  9.7544e-02,  3.1779e-01, -1.1921e-01, -9.7106e-02,\n",
      "        -4.7585e-01,  2.4907e-01,  1.2230e-01, -2.9079e-01, -1.6866e-01,\n",
      "        -2.1072e+00,  2.2174e-02,  4.5277e-01, -6.4485e-01,  1.3181e-01,\n",
      "         3.6594e+00, -1.7140e-01,  2.3919e-01, -4.2249e-01, -8.8331e-02,\n",
      "        -3.2925e-01, -1.2847e-01,  4.7055e-01, -7.5953e-02, -2.7747e-01,\n",
      "        -4.1905e-01,  6.0803e-01, -2.4261e-01,  1.4885e-02, -2.3204e-01,\n",
      "         2.0879e-02, -8.2175e-01,  2.6588e-01, -4.0267e-01, -1.7111e-01])\n",
      "Label: tensor(0)\n"
     ]
    }
   ],
   "source": [
    "for batch in val_loader:\n",
    "    # Extract the data and labels\n",
    "    data, labels = batch\n",
    "    # Print the first example in the batch\n",
    "    print(\"Data:\", data[0])\n",
    "    print(\"Label:\", labels[0])\n",
    "    break"
   ]
  },
  {
   "cell_type": "code",
   "execution_count": 41,
   "metadata": {
    "execution": {
     "iopub.execute_input": "2025-03-09T19:19:07.787217Z",
     "iopub.status.busy": "2025-03-09T19:19:07.786926Z",
     "iopub.status.idle": "2025-03-09T19:19:07.790965Z",
     "shell.execute_reply": "2025-03-09T19:19:07.790079Z",
     "shell.execute_reply.started": "2025-03-09T19:19:07.787195Z"
    },
    "trusted": true
   },
   "outputs": [],
   "source": [
    "glove_config = {\n",
    "    'n_classes': 3,\n",
    "    'fc_dim': 512, # fully connected dimensions\n",
    "    'word_emb_dim': 100, # size of embeddings\n",
    "    'dpout_fc': 0.5,\n",
    "}"
   ]
  },
  {
   "cell_type": "code",
   "execution_count": 42,
   "metadata": {
    "execution": {
     "iopub.execute_input": "2025-03-09T19:19:11.632005Z",
     "iopub.status.busy": "2025-03-09T19:19:11.631579Z",
     "iopub.status.idle": "2025-03-09T19:19:11.638790Z",
     "shell.execute_reply": "2025-03-09T19:19:11.637880Z",
     "shell.execute_reply.started": "2025-03-09T19:19:11.631972Z"
    },
    "trusted": true
   },
   "outputs": [],
   "source": [
    "# modified \n",
    "class ClassificationNet(nn.Module):\n",
    "    def __init__(self, config):\n",
    "        super(ClassificationNet, self).__init__()\n",
    "        \n",
    "        self.n_classes = config['n_classes']\n",
    "        self.fc_dim = config['fc_dim']\n",
    "        self.embedding_dim = config['word_emb_dim']\n",
    "        \n",
    "        self.classifier = nn.Sequential(\n",
    "            nn.Linear(self.embedding_dim, self.fc_dim),\n",
    "            nn.ReLU(),\n",
    "            nn.Dropout(p=config['dpout_fc']),\n",
    "            nn.Linear(self.fc_dim, self.n_classes),\n",
    "        )\n",
    "\n",
    "    def forward(self, embeddings):\n",
    "        output = self.classifier(embeddings)\n",
    "        return output"
   ]
  },
  {
   "cell_type": "code",
   "execution_count": 43,
   "metadata": {
    "execution": {
     "iopub.execute_input": "2025-03-09T19:19:15.611008Z",
     "iopub.status.busy": "2025-03-09T19:19:15.610688Z",
     "iopub.status.idle": "2025-03-09T19:19:15.869088Z",
     "shell.execute_reply": "2025-03-09T19:19:15.868403Z",
     "shell.execute_reply.started": "2025-03-09T19:19:15.610983Z"
    },
    "trusted": true
   },
   "outputs": [],
   "source": [
    "model = ClassificationNet(glove_config)\n",
    "if torch.cuda.is_available():\n",
    "    model.cuda() "
   ]
  },
  {
   "cell_type": "code",
   "execution_count": 44,
   "metadata": {
    "execution": {
     "iopub.execute_input": "2025-03-09T19:19:21.039519Z",
     "iopub.status.busy": "2025-03-09T19:19:21.039195Z",
     "iopub.status.idle": "2025-03-09T19:19:23.052964Z",
     "shell.execute_reply": "2025-03-09T19:19:23.052260Z",
     "shell.execute_reply.started": "2025-03-09T19:19:21.039490Z"
    },
    "trusted": true
   },
   "outputs": [],
   "source": [
    "criterion = nn.CrossEntropyLoss()\n",
    "optimizer = optim.Adam(model.parameters(), lr=0.001)\n",
    "num_epochs = 50"
   ]
  },
  {
   "cell_type": "code",
   "execution_count": 45,
   "metadata": {
    "execution": {
     "iopub.execute_input": "2025-03-09T19:19:27.426075Z",
     "iopub.status.busy": "2025-03-09T19:19:27.425440Z",
     "iopub.status.idle": "2025-03-09T19:19:27.436521Z",
     "shell.execute_reply": "2025-03-09T19:19:27.435694Z",
     "shell.execute_reply.started": "2025-03-09T19:19:27.426043Z"
    },
    "trusted": true
   },
   "outputs": [],
   "source": [
    "def train_model(model): \n",
    "    if torch.cuda.is_available():\n",
    "        model.cuda()\n",
    "    \n",
    "    for epoch in range(num_epochs):\n",
    "        model.train()  # Set the model to training mode\n",
    "    \n",
    "        running_loss = 0.0\n",
    "        correct_predictions = 0\n",
    "        total_samples = 0\n",
    "    \n",
    "        for s1_batch, labels in train_loader:  # train_loader is a DataLoader for training data\n",
    "            if torch.cuda.is_available():\n",
    "                s1_batch = s1_batch.cuda()\n",
    "                labels = labels.cuda()\n",
    "    \n",
    "            # Zero the parameter gradients\n",
    "            optimizer.zero_grad()\n",
    "\n",
    "            # Forward pass\n",
    "            outputs = model(s1_batch)\n",
    "            loss = criterion(outputs, labels)\n",
    "    \n",
    "            # Backward pass and optimize\n",
    "            loss.backward()\n",
    "            optimizer.step()\n",
    "    \n",
    "            # Accumulate loss\n",
    "            running_loss += loss.item()\n",
    "    \n",
    "            # Compute accuracy\n",
    "            _, predicted = torch.max(outputs.data, 1)\n",
    "            total_samples += labels.size(0)\n",
    "            correct_predictions += (predicted == labels).sum().item()\n",
    "    \n",
    "        accuracy = 100 * correct_predictions / total_samples\n",
    "        print(f'Epoch [{epoch + 1}/{num_epochs}], Loss: {running_loss / len(train_loader):.4f}, Accuracy: {accuracy:.2f}%')\n",
    "    \n",
    "        # Validation phase\n",
    "        model.eval()  # Set the model to evaluation mode\n",
    "        val_running_loss = 0.0\n",
    "        val_correct_predictions = 0\n",
    "        val_total_samples = 0\n",
    "        \n",
    "        with torch.no_grad():  # No need to calculate gradients during validation\n",
    "            for s1_batch, labels in val_loader:  # val_loader is a DataLoader for validation data\n",
    "                if torch.cuda.is_available():\n",
    "                    s1_batch = s1_batch.cuda()\n",
    "                    labels = labels.cuda()\n",
    "    \n",
    "                # Forward pass\n",
    "                outputs = model(s1_batch)\n",
    "                loss = criterion(outputs, labels)\n",
    "    \n",
    "                # Accumulate loss\n",
    "                val_running_loss += loss.item()\n",
    "    \n",
    "                # Compute accuracy\n",
    "                _, predicted = torch.max(outputs.data, 1)\n",
    "                val_total_samples += labels.size(0)\n",
    "                val_correct_predictions += (predicted == labels).sum().item()\n",
    "    \n",
    "        val_accuracy = 100 * val_correct_predictions / val_total_samples\n",
    "        print(f'Epoch [{epoch + 1}/{num_epochs}], Validation Loss: {val_running_loss / len(val_loader):.4f}, Validation Accuracy: {val_accuracy:.2f}%')\n"
   ]
  },
  {
   "cell_type": "code",
   "execution_count": 60,
   "metadata": {
    "execution": {
     "iopub.execute_input": "2025-03-09T19:28:07.980723Z",
     "iopub.status.busy": "2025-03-09T19:28:07.980324Z",
     "iopub.status.idle": "2025-03-09T19:30:57.944198Z",
     "shell.execute_reply": "2025-03-09T19:30:57.943362Z",
     "shell.execute_reply.started": "2025-03-09T19:28:07.980691Z"
    },
    "trusted": true
   },
   "outputs": [
    {
     "name": "stdout",
     "output_type": "stream",
     "text": [
      "Epoch [1/50], Loss: 0.6441, Accuracy: 70.64%\n",
      "Epoch [1/50], Validation Loss: 1.2770, Validation Accuracy: 44.04%\n",
      "Epoch [2/50], Loss: 0.6389, Accuracy: 70.78%\n",
      "Epoch [2/50], Validation Loss: 1.2696, Validation Accuracy: 41.99%\n",
      "Epoch [3/50], Loss: 0.6437, Accuracy: 70.58%\n",
      "Epoch [3/50], Validation Loss: 1.2517, Validation Accuracy: 43.06%\n",
      "Epoch [4/50], Loss: 0.6245, Accuracy: 71.24%\n",
      "Epoch [4/50], Validation Loss: 1.2764, Validation Accuracy: 43.61%\n",
      "Epoch [5/50], Loss: 0.6252, Accuracy: 71.37%\n",
      "Epoch [5/50], Validation Loss: 1.2758, Validation Accuracy: 43.48%\n",
      "Epoch [6/50], Loss: 0.6302, Accuracy: 71.15%\n",
      "Epoch [6/50], Validation Loss: 1.2513, Validation Accuracy: 46.34%\n",
      "Epoch [7/50], Loss: 0.6318, Accuracy: 71.19%\n",
      "Epoch [7/50], Validation Loss: 1.2903, Validation Accuracy: 42.08%\n",
      "Epoch [8/50], Loss: 0.6214, Accuracy: 71.94%\n",
      "Epoch [8/50], Validation Loss: 1.3203, Validation Accuracy: 41.87%\n",
      "Epoch [9/50], Loss: 0.6186, Accuracy: 71.76%\n",
      "Epoch [9/50], Validation Loss: 1.2748, Validation Accuracy: 45.02%\n",
      "Epoch [10/50], Loss: 0.6197, Accuracy: 71.82%\n",
      "Epoch [10/50], Validation Loss: 1.3966, Validation Accuracy: 39.95%\n",
      "Epoch [11/50], Loss: 0.6176, Accuracy: 72.30%\n",
      "Epoch [11/50], Validation Loss: 1.4134, Validation Accuracy: 40.20%\n",
      "Epoch [12/50], Loss: 0.6097, Accuracy: 72.09%\n",
      "Epoch [12/50], Validation Loss: 1.3112, Validation Accuracy: 47.66%\n",
      "Epoch [13/50], Loss: 0.6241, Accuracy: 72.00%\n",
      "Epoch [13/50], Validation Loss: 1.3391, Validation Accuracy: 41.87%\n",
      "Epoch [14/50], Loss: 0.6095, Accuracy: 72.39%\n",
      "Epoch [14/50], Validation Loss: 1.3684, Validation Accuracy: 40.33%\n",
      "Epoch [15/50], Loss: 0.6217, Accuracy: 71.98%\n",
      "Epoch [15/50], Validation Loss: 1.4112, Validation Accuracy: 39.82%\n",
      "Epoch [16/50], Loss: 0.6088, Accuracy: 72.71%\n",
      "Epoch [16/50], Validation Loss: 1.3654, Validation Accuracy: 40.12%\n",
      "Epoch [17/50], Loss: 0.6053, Accuracy: 72.52%\n",
      "Epoch [17/50], Validation Loss: 1.3078, Validation Accuracy: 43.65%\n",
      "Epoch [18/50], Loss: 0.6086, Accuracy: 72.49%\n",
      "Epoch [18/50], Validation Loss: 1.4335, Validation Accuracy: 41.35%\n",
      "Epoch [19/50], Loss: 0.6076, Accuracy: 72.58%\n",
      "Epoch [19/50], Validation Loss: 1.4184, Validation Accuracy: 40.42%\n",
      "Epoch [20/50], Loss: 0.6075, Accuracy: 72.43%\n",
      "Epoch [20/50], Validation Loss: 1.4932, Validation Accuracy: 38.50%\n",
      "Epoch [21/50], Loss: 0.6029, Accuracy: 72.81%\n",
      "Epoch [21/50], Validation Loss: 1.4215, Validation Accuracy: 40.50%\n",
      "Epoch [22/50], Loss: 0.6017, Accuracy: 73.12%\n",
      "Epoch [22/50], Validation Loss: 1.4018, Validation Accuracy: 43.65%\n",
      "Epoch [23/50], Loss: 0.6066, Accuracy: 72.78%\n",
      "Epoch [23/50], Validation Loss: 1.4586, Validation Accuracy: 39.91%\n",
      "Epoch [24/50], Loss: 0.6018, Accuracy: 72.68%\n",
      "Epoch [24/50], Validation Loss: 1.4279, Validation Accuracy: 39.44%\n",
      "Epoch [25/50], Loss: 0.5925, Accuracy: 73.38%\n",
      "Epoch [25/50], Validation Loss: 1.4321, Validation Accuracy: 40.93%\n",
      "Epoch [26/50], Loss: 0.6014, Accuracy: 72.65%\n",
      "Epoch [26/50], Validation Loss: 1.4617, Validation Accuracy: 42.55%\n",
      "Epoch [27/50], Loss: 0.6008, Accuracy: 73.47%\n",
      "Epoch [27/50], Validation Loss: 1.3962, Validation Accuracy: 43.61%\n",
      "Epoch [28/50], Loss: 0.6019, Accuracy: 72.85%\n",
      "Epoch [28/50], Validation Loss: 1.4044, Validation Accuracy: 48.25%\n",
      "Epoch [29/50], Loss: 0.5892, Accuracy: 73.50%\n",
      "Epoch [29/50], Validation Loss: 1.4224, Validation Accuracy: 41.27%\n",
      "Epoch [30/50], Loss: 0.5795, Accuracy: 74.02%\n",
      "Epoch [30/50], Validation Loss: 1.4864, Validation Accuracy: 40.59%\n",
      "Epoch [31/50], Loss: 0.5956, Accuracy: 72.78%\n",
      "Epoch [31/50], Validation Loss: 1.4477, Validation Accuracy: 39.99%\n",
      "Epoch [32/50], Loss: 0.5856, Accuracy: 73.68%\n",
      "Epoch [32/50], Validation Loss: 1.4482, Validation Accuracy: 40.12%\n",
      "Epoch [33/50], Loss: 0.5820, Accuracy: 73.63%\n",
      "Epoch [33/50], Validation Loss: 1.4645, Validation Accuracy: 40.89%\n",
      "Epoch [34/50], Loss: 0.5839, Accuracy: 73.77%\n",
      "Epoch [34/50], Validation Loss: 1.4783, Validation Accuracy: 41.52%\n",
      "Epoch [35/50], Loss: 0.5776, Accuracy: 74.02%\n",
      "Epoch [35/50], Validation Loss: 1.3744, Validation Accuracy: 42.33%\n",
      "Epoch [36/50], Loss: 0.5830, Accuracy: 73.64%\n",
      "Epoch [36/50], Validation Loss: 1.4409, Validation Accuracy: 43.95%\n",
      "Epoch [37/50], Loss: 0.5858, Accuracy: 73.57%\n",
      "Epoch [37/50], Validation Loss: 1.4806, Validation Accuracy: 39.99%\n",
      "Epoch [38/50], Loss: 0.5743, Accuracy: 74.13%\n",
      "Epoch [38/50], Validation Loss: 1.5761, Validation Accuracy: 40.72%\n",
      "Epoch [39/50], Loss: 0.5831, Accuracy: 73.86%\n",
      "Epoch [39/50], Validation Loss: 1.5481, Validation Accuracy: 39.18%\n",
      "Epoch [40/50], Loss: 0.5763, Accuracy: 73.86%\n",
      "Epoch [40/50], Validation Loss: 1.5326, Validation Accuracy: 39.52%\n",
      "Epoch [41/50], Loss: 0.5782, Accuracy: 74.16%\n",
      "Epoch [41/50], Validation Loss: 1.5317, Validation Accuracy: 40.84%\n",
      "Epoch [42/50], Loss: 0.5814, Accuracy: 74.28%\n",
      "Epoch [42/50], Validation Loss: 1.4205, Validation Accuracy: 47.91%\n",
      "Epoch [43/50], Loss: 0.5766, Accuracy: 73.81%\n",
      "Epoch [43/50], Validation Loss: 1.5483, Validation Accuracy: 43.61%\n",
      "Epoch [44/50], Loss: 0.5643, Accuracy: 74.42%\n",
      "Epoch [44/50], Validation Loss: 1.4969, Validation Accuracy: 40.59%\n",
      "Epoch [45/50], Loss: 0.5685, Accuracy: 74.15%\n",
      "Epoch [45/50], Validation Loss: 1.4636, Validation Accuracy: 43.10%\n",
      "Epoch [46/50], Loss: 0.5731, Accuracy: 75.10%\n",
      "Epoch [46/50], Validation Loss: 1.5056, Validation Accuracy: 40.12%\n",
      "Epoch [47/50], Loss: 0.5672, Accuracy: 74.53%\n",
      "Epoch [47/50], Validation Loss: 1.5057, Validation Accuracy: 40.46%\n",
      "Epoch [48/50], Loss: 0.5661, Accuracy: 74.50%\n",
      "Epoch [48/50], Validation Loss: 1.5037, Validation Accuracy: 44.38%\n",
      "Epoch [49/50], Loss: 0.5732, Accuracy: 73.95%\n",
      "Epoch [49/50], Validation Loss: 1.5065, Validation Accuracy: 44.80%\n",
      "Epoch [50/50], Loss: 0.5606, Accuracy: 74.44%\n",
      "Epoch [50/50], Validation Loss: 1.4765, Validation Accuracy: 43.78%\n"
     ]
    }
   ],
   "source": [
    "train_model(model)"
   ]
  },
  {
   "cell_type": "code",
   "execution_count": 29,
   "metadata": {
    "execution": {
     "iopub.execute_input": "2025-02-08T02:46:43.226241Z",
     "iopub.status.busy": "2025-02-08T02:46:43.225890Z",
     "iopub.status.idle": "2025-02-08T02:49:32.271429Z",
     "shell.execute_reply": "2025-02-08T02:49:32.270491Z",
     "shell.execute_reply.started": "2025-02-08T02:46:43.226217Z"
    },
    "trusted": true
   },
   "outputs": [
    {
     "name": "stdout",
     "output_type": "stream",
     "text": [
      "Epoch [1/50], Loss: 1.0223, Accuracy: 47.32%\n",
      "Epoch [1/50], Validation Loss: 0.9402, Validation Accuracy: 46.89%\n",
      "Epoch [2/50], Loss: 0.9625, Accuracy: 51.58%\n",
      "Epoch [2/50], Validation Loss: 0.9420, Validation Accuracy: 41.57%\n",
      "Epoch [3/50], Loss: 0.9301, Accuracy: 53.80%\n",
      "Epoch [3/50], Validation Loss: 0.9360, Validation Accuracy: 47.32%\n",
      "Epoch [4/50], Loss: 0.9096, Accuracy: 54.71%\n",
      "Epoch [4/50], Validation Loss: 0.9294, Validation Accuracy: 48.04%\n",
      "Epoch [5/50], Loss: 0.8914, Accuracy: 56.25%\n",
      "Epoch [5/50], Validation Loss: 0.9523, Validation Accuracy: 39.95%\n",
      "Epoch [6/50], Loss: 0.8733, Accuracy: 57.23%\n",
      "Epoch [6/50], Validation Loss: 0.9821, Validation Accuracy: 40.97%\n",
      "Epoch [7/50], Loss: 0.8558, Accuracy: 58.14%\n",
      "Epoch [7/50], Validation Loss: 0.9851, Validation Accuracy: 44.04%\n",
      "Epoch [8/50], Loss: 0.8371, Accuracy: 59.56%\n",
      "Epoch [8/50], Validation Loss: 1.0085, Validation Accuracy: 41.10%\n",
      "Epoch [9/50], Loss: 0.8282, Accuracy: 59.35%\n",
      "Epoch [9/50], Validation Loss: 0.9310, Validation Accuracy: 51.58%\n",
      "Epoch [10/50], Loss: 0.8151, Accuracy: 60.91%\n",
      "Epoch [10/50], Validation Loss: 1.0160, Validation Accuracy: 42.21%\n",
      "Epoch [11/50], Loss: 0.8102, Accuracy: 60.94%\n",
      "Epoch [11/50], Validation Loss: 0.9952, Validation Accuracy: 47.44%\n",
      "Epoch [12/50], Loss: 0.8047, Accuracy: 61.22%\n",
      "Epoch [12/50], Validation Loss: 0.9908, Validation Accuracy: 44.63%\n",
      "Epoch [13/50], Loss: 0.7886, Accuracy: 62.26%\n",
      "Epoch [13/50], Validation Loss: 1.0917, Validation Accuracy: 40.20%\n",
      "Epoch [14/50], Loss: 0.7832, Accuracy: 62.57%\n",
      "Epoch [14/50], Validation Loss: 1.0682, Validation Accuracy: 40.76%\n",
      "Epoch [15/50], Loss: 0.7750, Accuracy: 63.13%\n",
      "Epoch [15/50], Validation Loss: 1.0075, Validation Accuracy: 43.82%\n",
      "Epoch [16/50], Loss: 0.7671, Accuracy: 63.15%\n",
      "Epoch [16/50], Validation Loss: 1.0712, Validation Accuracy: 39.61%\n",
      "Epoch [17/50], Loss: 0.7651, Accuracy: 63.91%\n",
      "Epoch [17/50], Validation Loss: 1.0224, Validation Accuracy: 46.72%\n",
      "Epoch [18/50], Loss: 0.7582, Accuracy: 64.56%\n",
      "Epoch [18/50], Validation Loss: 1.0987, Validation Accuracy: 42.21%\n",
      "Epoch [19/50], Loss: 0.7483, Accuracy: 64.70%\n",
      "Epoch [19/50], Validation Loss: 1.0807, Validation Accuracy: 40.55%\n",
      "Epoch [20/50], Loss: 0.7473, Accuracy: 64.87%\n",
      "Epoch [20/50], Validation Loss: 1.1371, Validation Accuracy: 40.63%\n",
      "Epoch [21/50], Loss: 0.7405, Accuracy: 65.05%\n",
      "Epoch [21/50], Validation Loss: 1.1091, Validation Accuracy: 41.99%\n",
      "Epoch [22/50], Loss: 0.7369, Accuracy: 65.35%\n",
      "Epoch [22/50], Validation Loss: 1.0811, Validation Accuracy: 42.50%\n",
      "Epoch [23/50], Loss: 0.7240, Accuracy: 66.33%\n",
      "Epoch [23/50], Validation Loss: 1.1141, Validation Accuracy: 40.03%\n",
      "Epoch [24/50], Loss: 0.7284, Accuracy: 65.85%\n",
      "Epoch [24/50], Validation Loss: 1.1221, Validation Accuracy: 43.95%\n",
      "Epoch [25/50], Loss: 0.7200, Accuracy: 66.46%\n",
      "Epoch [25/50], Validation Loss: 1.0938, Validation Accuracy: 45.32%\n",
      "Epoch [26/50], Loss: 0.7257, Accuracy: 66.34%\n",
      "Epoch [26/50], Validation Loss: 1.1734, Validation Accuracy: 40.84%\n",
      "Epoch [27/50], Loss: 0.7192, Accuracy: 66.56%\n",
      "Epoch [27/50], Validation Loss: 1.1350, Validation Accuracy: 43.70%\n",
      "Epoch [28/50], Loss: 0.7135, Accuracy: 67.03%\n",
      "Epoch [28/50], Validation Loss: 1.1775, Validation Accuracy: 43.53%\n",
      "Epoch [29/50], Loss: 0.7085, Accuracy: 67.13%\n",
      "Epoch [29/50], Validation Loss: 1.1731, Validation Accuracy: 42.04%\n",
      "Epoch [30/50], Loss: 0.7050, Accuracy: 67.17%\n",
      "Epoch [30/50], Validation Loss: 1.1696, Validation Accuracy: 40.89%\n",
      "Epoch [31/50], Loss: 0.6983, Accuracy: 67.73%\n",
      "Epoch [31/50], Validation Loss: 1.2329, Validation Accuracy: 41.10%\n",
      "Epoch [32/50], Loss: 0.6876, Accuracy: 68.33%\n",
      "Epoch [32/50], Validation Loss: 1.1723, Validation Accuracy: 41.91%\n",
      "Epoch [33/50], Loss: 0.6884, Accuracy: 67.89%\n",
      "Epoch [33/50], Validation Loss: 1.2698, Validation Accuracy: 40.25%\n",
      "Epoch [34/50], Loss: 0.6855, Accuracy: 68.27%\n",
      "Epoch [34/50], Validation Loss: 1.1820, Validation Accuracy: 43.27%\n",
      "Epoch [35/50], Loss: 0.6875, Accuracy: 68.40%\n",
      "Epoch [35/50], Validation Loss: 1.2702, Validation Accuracy: 40.46%\n",
      "Epoch [36/50], Loss: 0.6819, Accuracy: 68.25%\n",
      "Epoch [36/50], Validation Loss: 1.3170, Validation Accuracy: 39.61%\n",
      "Epoch [37/50], Loss: 0.6809, Accuracy: 69.07%\n",
      "Epoch [37/50], Validation Loss: 1.2327, Validation Accuracy: 40.33%\n",
      "Epoch [38/50], Loss: 0.6716, Accuracy: 69.85%\n",
      "Epoch [38/50], Validation Loss: 1.2895, Validation Accuracy: 39.01%\n",
      "Epoch [39/50], Loss: 0.6717, Accuracy: 68.81%\n",
      "Epoch [39/50], Validation Loss: 1.3015, Validation Accuracy: 41.10%\n",
      "Epoch [40/50], Loss: 0.6746, Accuracy: 69.40%\n",
      "Epoch [40/50], Validation Loss: 1.2417, Validation Accuracy: 43.19%\n",
      "Epoch [41/50], Loss: 0.6670, Accuracy: 69.41%\n",
      "Epoch [41/50], Validation Loss: 1.2385, Validation Accuracy: 42.04%\n",
      "Epoch [42/50], Loss: 0.6618, Accuracy: 69.61%\n",
      "Epoch [42/50], Validation Loss: 1.1972, Validation Accuracy: 43.82%\n",
      "Epoch [43/50], Loss: 0.6611, Accuracy: 69.43%\n",
      "Epoch [43/50], Validation Loss: 1.3223, Validation Accuracy: 40.97%\n",
      "Epoch [44/50], Loss: 0.6525, Accuracy: 70.19%\n",
      "Epoch [44/50], Validation Loss: 1.2230, Validation Accuracy: 45.23%\n",
      "Epoch [45/50], Loss: 0.6603, Accuracy: 69.51%\n",
      "Epoch [45/50], Validation Loss: 1.3017, Validation Accuracy: 40.63%\n",
      "Epoch [46/50], Loss: 0.6509, Accuracy: 70.23%\n",
      "Epoch [46/50], Validation Loss: 1.2639, Validation Accuracy: 43.87%\n",
      "Epoch [47/50], Loss: 0.6531, Accuracy: 70.44%\n",
      "Epoch [47/50], Validation Loss: 1.2707, Validation Accuracy: 42.97%\n",
      "Epoch [48/50], Loss: 0.6511, Accuracy: 70.65%\n",
      "Epoch [48/50], Validation Loss: 1.2524, Validation Accuracy: 42.89%\n",
      "Epoch [49/50], Loss: 0.6417, Accuracy: 70.94%\n",
      "Epoch [49/50], Validation Loss: 1.3158, Validation Accuracy: 40.72%\n",
      "Epoch [50/50], Loss: 0.6504, Accuracy: 70.60%\n",
      "Epoch [50/50], Validation Loss: 1.3584, Validation Accuracy: 42.12%\n"
     ]
    }
   ],
   "source": [
    "train_model(model)"
   ]
  },
  {
   "cell_type": "code",
   "execution_count": 61,
   "metadata": {
    "execution": {
     "iopub.execute_input": "2025-03-09T19:31:13.245867Z",
     "iopub.status.busy": "2025-03-09T19:31:13.245479Z",
     "iopub.status.idle": "2025-03-09T19:31:13.254422Z",
     "shell.execute_reply": "2025-03-09T19:31:13.253586Z",
     "shell.execute_reply.started": "2025-03-09T19:31:13.245837Z"
    },
    "trusted": true
   },
   "outputs": [
    {
     "data": {
      "text/plain": [
       "[array([ 1.71708882e-01,  4.65558887e-01,  1.76288951e-02, -3.65464866e-01,\n",
       "         5.26058912e-01,  6.26763284e-01, -7.50754535e-01,  2.18887269e-01,\n",
       "         1.71126664e-01,  5.52145578e-02, -1.20569095e-01,  1.72553331e-01,\n",
       "        -3.09216648e-01, -7.29010031e-02,  5.01276731e-01,  7.06233382e-02,\n",
       "        -4.13173348e-01, -4.02955487e-02, -1.57736745e-02, -5.40122271e-01,\n",
       "         1.96113780e-01,  7.71107793e-01, -1.15851671e-01,  5.32580093e-02,\n",
       "         3.89301360e-01, -1.98683333e+00, -2.09934428e-01,  2.90544368e-02,\n",
       "         4.32764471e-01, -5.49106658e-01,  2.96866679e+00,  4.34161007e-01,\n",
       "        -3.64409000e-01, -9.44377948e-03,  3.82882535e-01,  4.85129990e-02,\n",
       "         3.25472541e-02,  2.71809101e-01,  1.97061554e-01, -5.51656663e-01,\n",
       "        -1.06356889e-01,  1.95198774e-01,  7.75347650e-02,  2.74355919e-03,\n",
       "         2.34851129e-02, -3.04380000e-01,  2.49822196e-02, -6.22125745e-01,\n",
       "         1.50862336e-01,  1.09368801e-01,  5.48219979e-01,  3.88469994e-02,\n",
       "         1.01269998e-01,  3.13190013e-01,  9.54869986e-02,  4.18139994e-01,\n",
       "        -7.94929981e-01, -5.82960010e-01,  2.66430005e-02,  1.23920001e-01,\n",
       "         3.51940006e-01, -2.16300003e-02, -8.70180011e-01, -2.71780014e-01,\n",
       "         6.54489994e-01,  4.29340005e-01,  9.75439996e-02,  3.17790002e-01,\n",
       "        -1.19209997e-01, -9.71060023e-02, -4.75849986e-01,  2.49070004e-01,\n",
       "         1.22299999e-01, -2.90789992e-01, -1.68660000e-01, -2.10719991e+00,\n",
       "         2.21740007e-02,  4.52769995e-01, -6.44850016e-01,  1.31809995e-01,\n",
       "         3.65939999e+00, -1.71399996e-01,  2.39189997e-01, -4.22490001e-01,\n",
       "        -8.83309990e-02, -3.29250008e-01, -1.28470004e-01,  4.70550001e-01,\n",
       "        -7.59529993e-02, -2.77469993e-01, -4.19050008e-01,  6.08030021e-01,\n",
       "        -2.42609993e-01,  1.48850000e-02, -2.32040003e-01,  2.08790004e-02,\n",
       "        -8.21749985e-01,  2.65879989e-01, -4.02669996e-01, -1.71110004e-01],\n",
       "       dtype=float32),\n",
       " array([ 3.2833287e-01,  2.6317859e-01, -3.6561489e-04, -1.9120635e-01,\n",
       "         5.3925997e-01,  5.3705806e-01, -5.4217333e-01,  1.6922583e-01,\n",
       "         1.0008498e-01,  1.0891068e-02, -4.0376283e-02,  2.2257431e-01,\n",
       "        -4.0424857e-01, -9.6388511e-02,  6.2516934e-01,  2.3488306e-01,\n",
       "        -2.1516715e-01, -1.3040857e-01, -5.4271493e-02, -5.5580574e-01,\n",
       "         5.5200141e-02,  5.0568813e-01,  2.4387496e-02,  6.2396610e-03,\n",
       "         2.7470657e-01, -2.1203785e+00, -3.0947787e-01,  1.0239165e-01,\n",
       "         3.6117005e-01, -4.7076997e-01,  3.1906929e+00,  2.0184137e-01,\n",
       "        -4.4778934e-01, -2.3954669e-01,  2.5392106e-01, -9.3394160e-02,\n",
       "         1.3099323e-01,  1.5854800e-01,  1.5952328e-01, -4.3075389e-01,\n",
       "        -1.8545160e-01,  2.0812277e-01,  5.6895204e-02,  1.6963823e-01,\n",
       "        -1.9064644e-02, -1.9579493e-01, -9.0412430e-02, -3.1146225e-01,\n",
       "         8.5966870e-02,  9.4648883e-02,  5.4821998e-01,  3.8846999e-02,\n",
       "         1.0127000e-01,  3.1319001e-01,  9.5486999e-02,  4.1813999e-01,\n",
       "        -7.9492998e-01, -5.8296001e-01,  2.6643001e-02,  1.2392000e-01,\n",
       "         3.5194001e-01, -2.1630000e-02, -8.7018001e-01, -2.7178001e-01,\n",
       "         6.5448999e-01,  4.2934000e-01,  9.7544000e-02,  3.1779000e-01,\n",
       "        -1.1921000e-01, -9.7106002e-02, -4.7584999e-01,  2.4907000e-01,\n",
       "         1.2230000e-01, -2.9078999e-01, -1.6866000e-01, -2.1071999e+00,\n",
       "         2.2174001e-02,  4.5276999e-01, -6.4485002e-01,  1.3180999e-01,\n",
       "         3.6594000e+00, -1.7140000e-01,  2.3919000e-01, -4.2249000e-01,\n",
       "        -8.8330999e-02, -3.2925001e-01, -1.2847000e-01,  4.7055000e-01,\n",
       "        -7.5952999e-02, -2.7746999e-01, -4.1905001e-01,  6.0803002e-01,\n",
       "        -2.4260999e-01,  1.4885000e-02, -2.3204000e-01,  2.0879000e-02,\n",
       "        -8.2174999e-01,  2.6587999e-01, -4.0267000e-01, -1.7111000e-01],\n",
       "       dtype=float32),\n",
       " array([ 0.26313668,  0.32907525,  0.06787867, -0.26812658,  0.56438917,\n",
       "         0.52810234, -0.6331364 ,  0.18250756,  0.12443918,  0.07511592,\n",
       "        -0.03850649,  0.24921586, -0.3989825 , -0.12523156,  0.59527004,\n",
       "         0.23856498, -0.18522501, -0.08100575,  0.0316464 , -0.5396833 ,\n",
       "         0.03233283,  0.6319178 , -0.04210874,  0.00896184,  0.39333263,\n",
       "        -2.0518248 , -0.22324835,  0.06636249,  0.39661765, -0.4702264 ,\n",
       "         3.0099335 ,  0.33336163, -0.4044993 , -0.14625949,  0.23366024,\n",
       "        -0.08302609,  0.05298044,  0.21794516,  0.1695716 , -0.50294006,\n",
       "        -0.13491811,  0.212368  ,  0.04612591,  0.08037832,  0.03621967,\n",
       "        -0.22897756, -0.08641001, -0.34931597,  0.08850002,  0.18358622,\n",
       "         0.54822   ,  0.038847  ,  0.10127   ,  0.31319   ,  0.095487  ,\n",
       "         0.41814   , -0.79493   , -0.58296   ,  0.026643  ,  0.12392   ,\n",
       "         0.35194   , -0.02163   , -0.87018   , -0.27178   ,  0.65449   ,\n",
       "         0.42934   ,  0.097544  ,  0.31779   , -0.11921   , -0.097106  ,\n",
       "        -0.47585   ,  0.24907   ,  0.1223    , -0.29079   , -0.16866   ,\n",
       "        -2.1072    ,  0.022174  ,  0.45277   , -0.64485   ,  0.13181   ,\n",
       "         3.6594    , -0.1714    ,  0.23919   , -0.42249   , -0.088331  ,\n",
       "        -0.32925   , -0.12847   ,  0.47055   , -0.075953  , -0.27747   ,\n",
       "        -0.41905   ,  0.60803   , -0.24261   ,  0.014885  , -0.23204   ,\n",
       "         0.020879  , -0.82175   ,  0.26588   , -0.40267   , -0.17111   ],\n",
       "       dtype=float32)]"
      ]
     },
     "execution_count": 61,
     "metadata": {},
     "output_type": "execute_result"
    }
   ],
   "source": [
    "# evaluating on test set\n",
    "test_embeddings = list(test_df['glove_embedding'])\n",
    "test_embeddings[:3]"
   ]
  },
  {
   "cell_type": "code",
   "execution_count": 48,
   "metadata": {
    "execution": {
     "iopub.execute_input": "2025-03-09T19:22:59.041552Z",
     "iopub.status.busy": "2025-03-09T19:22:59.041120Z",
     "iopub.status.idle": "2025-03-09T19:22:59.047641Z",
     "shell.execute_reply": "2025-03-09T19:22:59.046632Z",
     "shell.execute_reply.started": "2025-03-09T19:22:59.041508Z"
    },
    "trusted": true
   },
   "outputs": [
    {
     "name": "stdout",
     "output_type": "stream",
     "text": [
      "GPU is available!\n"
     ]
    }
   ],
   "source": [
    "if torch.cuda.is_available():\n",
    "    print(\"GPU is available!\")\n",
    "    device = torch.device(\"cuda\")\n",
    "else:\n",
    "    print(\"GPU is not available, using CPU\")\n",
    "    device = torch.device(\"cpu\")"
   ]
  },
  {
   "cell_type": "code",
   "execution_count": 62,
   "metadata": {
    "execution": {
     "iopub.execute_input": "2025-03-09T19:31:21.173825Z",
     "iopub.status.busy": "2025-03-09T19:31:21.173456Z",
     "iopub.status.idle": "2025-03-09T19:31:21.213500Z",
     "shell.execute_reply": "2025-03-09T19:31:21.212706Z",
     "shell.execute_reply.started": "2025-03-09T19:31:21.173796Z"
    },
    "trusted": true
   },
   "outputs": [],
   "source": [
    "test_embeddings = torch.tensor(test_embeddings).to(device)"
   ]
  },
  {
   "cell_type": "code",
   "execution_count": 63,
   "metadata": {
    "execution": {
     "iopub.execute_input": "2025-03-09T19:31:26.058924Z",
     "iopub.status.busy": "2025-03-09T19:31:26.058544Z",
     "iopub.status.idle": "2025-03-09T19:31:26.065943Z",
     "shell.execute_reply": "2025-03-09T19:31:26.065164Z",
     "shell.execute_reply.started": "2025-03-09T19:31:26.058895Z"
    },
    "trusted": true
   },
   "outputs": [
    {
     "data": {
      "text/plain": [
       "tensor([1, 1, 1,  ..., 1, 1, 2], device='cuda:0')"
      ]
     },
     "execution_count": 63,
     "metadata": {},
     "output_type": "execute_result"
    }
   ],
   "source": [
    "with torch.no_grad():\n",
    "    outputs = model(test_embeddings)\n",
    "predictions = torch.argmax(outputs, dim=1)\n",
    "predictions"
   ]
  },
  {
   "cell_type": "code",
   "execution_count": 64,
   "metadata": {
    "execution": {
     "iopub.execute_input": "2025-03-09T19:31:30.850017Z",
     "iopub.status.busy": "2025-03-09T19:31:30.849700Z",
     "iopub.status.idle": "2025-03-09T19:31:30.869519Z",
     "shell.execute_reply": "2025-03-09T19:31:30.868786Z",
     "shell.execute_reply.started": "2025-03-09T19:31:30.849991Z"
    },
    "trusted": true
   },
   "outputs": [
    {
     "name": "stderr",
     "output_type": "stream",
     "text": [
      "/usr/local/lib/python3.10/dist-packages/pandas/io/formats/format.py:1458: RuntimeWarning: invalid value encountered in greater\n",
      "  has_large_values = (abs_vals > 1e6).any()\n",
      "/usr/local/lib/python3.10/dist-packages/pandas/io/formats/format.py:1459: RuntimeWarning: invalid value encountered in less\n",
      "  has_small_values = ((abs_vals < 10 ** (-self.digits)) & (abs_vals > 0)).any()\n",
      "/usr/local/lib/python3.10/dist-packages/pandas/io/formats/format.py:1459: RuntimeWarning: invalid value encountered in greater\n",
      "  has_small_values = ((abs_vals < 10 ** (-self.digits)) & (abs_vals > 0)).any()\n"
     ]
    },
    {
     "data": {
      "text/html": [
       "<div>\n",
       "<style scoped>\n",
       "    .dataframe tbody tr th:only-of-type {\n",
       "        vertical-align: middle;\n",
       "    }\n",
       "\n",
       "    .dataframe tbody tr th {\n",
       "        vertical-align: top;\n",
       "    }\n",
       "\n",
       "    .dataframe thead th {\n",
       "        text-align: right;\n",
       "    }\n",
       "</style>\n",
       "<table border=\"1\" class=\"dataframe\">\n",
       "  <thead>\n",
       "    <tr style=\"text-align: right;\">\n",
       "      <th></th>\n",
       "      <th>premise</th>\n",
       "      <th>hypothesis</th>\n",
       "      <th>gold_label</th>\n",
       "      <th>type</th>\n",
       "      <th>glove_embedding</th>\n",
       "      <th>predicted_label</th>\n",
       "    </tr>\n",
       "  </thead>\n",
       "  <tbody>\n",
       "    <tr>\n",
       "      <th>9616.0</th>\n",
       "      <td>If Charlotte passes her driving test, her pare...</td>\n",
       "      <td>Charlotte has parents.</td>\n",
       "      <td>E</td>\n",
       "      <td>type5_possessive</td>\n",
       "      <td>[0.17170888, 0.4655589, 0.017628895, -0.365464...</td>\n",
       "      <td>E</td>\n",
       "    </tr>\n",
       "    <tr>\n",
       "      <th>9617.0</th>\n",
       "      <td>It's not the case that if Charlotte passes her...</td>\n",
       "      <td>Charlotte has parents.</td>\n",
       "      <td>E</td>\n",
       "      <td>type5_possessive</td>\n",
       "      <td>[0.32833287, 0.2631786, -0.0003656149, -0.1912...</td>\n",
       "      <td>E</td>\n",
       "    </tr>\n",
       "    <tr>\n",
       "      <th>9618.0</th>\n",
       "      <td>Sam believes that if Charlotte passes her driv...</td>\n",
       "      <td>Charlotte has parents.</td>\n",
       "      <td>E</td>\n",
       "      <td>type5_possessive</td>\n",
       "      <td>[0.26313668, 0.32907525, 0.06787867, -0.268126...</td>\n",
       "      <td>E</td>\n",
       "    </tr>\n",
       "    <tr>\n",
       "      <th>9619.0</th>\n",
       "      <td>Is it true that if Charlotte passes her drivin...</td>\n",
       "      <td>Charlotte has parents.</td>\n",
       "      <td>E</td>\n",
       "      <td>type5_possessive</td>\n",
       "      <td>[0.29682538, 0.33590078, 0.029228458, -0.24936...</td>\n",
       "      <td>E</td>\n",
       "    </tr>\n",
       "    <tr>\n",
       "      <th>9628.0</th>\n",
       "      <td>If Lily takes the train to the city, her frien...</td>\n",
       "      <td>Lily has a friend.</td>\n",
       "      <td>E</td>\n",
       "      <td>type5_possessive</td>\n",
       "      <td>[0.41779414, 0.5672047, -0.12455517, -0.113467...</td>\n",
       "      <td>E</td>\n",
       "    </tr>\n",
       "    <tr>\n",
       "      <th>...</th>\n",
       "      <td>...</td>\n",
       "      <td>...</td>\n",
       "      <td>...</td>\n",
       "      <td>...</td>\n",
       "      <td>...</td>\n",
       "      <td>...</td>\n",
       "    </tr>\n",
       "    <tr>\n",
       "      <th>NaN</th>\n",
       "      <td>If Sophia decides to attend the concert, his b...</td>\n",
       "      <td>Sophia has a close friend.</td>\n",
       "      <td>N</td>\n",
       "      <td>type5_possessive</td>\n",
       "      <td>[0.19257289, 0.39037293, -0.009387304, -0.1870...</td>\n",
       "      <td>E</td>\n",
       "    </tr>\n",
       "    <tr>\n",
       "      <th>NaN</th>\n",
       "      <td>It's not the case that if Sophia decides to at...</td>\n",
       "      <td>Sophia has a close friend.</td>\n",
       "      <td>N</td>\n",
       "      <td>type5_possessive</td>\n",
       "      <td>[0.3318006, 0.22654662, -0.017176786, -0.08385...</td>\n",
       "      <td>E</td>\n",
       "    </tr>\n",
       "    <tr>\n",
       "      <th>NaN</th>\n",
       "      <td>Sam believes that if Sophia decides to attend ...</td>\n",
       "      <td>Sophia has a close friend.</td>\n",
       "      <td>N</td>\n",
       "      <td>type5_possessive</td>\n",
       "      <td>[0.27215302, 0.28173864, 0.043231603, -0.13834...</td>\n",
       "      <td>E</td>\n",
       "    </tr>\n",
       "    <tr>\n",
       "      <th>NaN</th>\n",
       "      <td>Is it true that if Sophia decides to attend th...</td>\n",
       "      <td>Sophia has a close friend.</td>\n",
       "      <td>N</td>\n",
       "      <td>type5_possessive</td>\n",
       "      <td>[0.30279136, 0.29145783, 0.009102633, -0.13019...</td>\n",
       "      <td>N</td>\n",
       "    </tr>\n",
       "    <tr>\n",
       "      <th>NaN</th>\n",
       "      <td>If Sophia decides to attend the concert, his b...</td>\n",
       "      <td>Sophia has decided to attend the concert, but ...</td>\n",
       "      <td>C</td>\n",
       "      <td>type5_possessive</td>\n",
       "      <td>[0.19257289, 0.39037293, -0.009387304, -0.1870...</td>\n",
       "      <td>C</td>\n",
       "    </tr>\n",
       "  </tbody>\n",
       "</table>\n",
       "<p>2367 rows × 6 columns</p>\n",
       "</div>"
      ],
      "text/plain": [
       "                                                  premise  \\\n",
       "9616.0  If Charlotte passes her driving test, her pare...   \n",
       "9617.0  It's not the case that if Charlotte passes her...   \n",
       "9618.0  Sam believes that if Charlotte passes her driv...   \n",
       "9619.0  Is it true that if Charlotte passes her drivin...   \n",
       "9628.0  If Lily takes the train to the city, her frien...   \n",
       "...                                                   ...   \n",
       "NaN     If Sophia decides to attend the concert, his b...   \n",
       "NaN     It's not the case that if Sophia decides to at...   \n",
       "NaN     Sam believes that if Sophia decides to attend ...   \n",
       "NaN     Is it true that if Sophia decides to attend th...   \n",
       "NaN     If Sophia decides to attend the concert, his b...   \n",
       "\n",
       "                                               hypothesis gold_label  \\\n",
       "9616.0                             Charlotte has parents.          E   \n",
       "9617.0                             Charlotte has parents.          E   \n",
       "9618.0                             Charlotte has parents.          E   \n",
       "9619.0                             Charlotte has parents.          E   \n",
       "9628.0                                 Lily has a friend.          E   \n",
       "...                                                   ...        ...   \n",
       "NaN                            Sophia has a close friend.          N   \n",
       "NaN                            Sophia has a close friend.          N   \n",
       "NaN                            Sophia has a close friend.          N   \n",
       "NaN                            Sophia has a close friend.          N   \n",
       "NaN     Sophia has decided to attend the concert, but ...          C   \n",
       "\n",
       "                    type                                    glove_embedding  \\\n",
       "9616.0  type5_possessive  [0.17170888, 0.4655589, 0.017628895, -0.365464...   \n",
       "9617.0  type5_possessive  [0.32833287, 0.2631786, -0.0003656149, -0.1912...   \n",
       "9618.0  type5_possessive  [0.26313668, 0.32907525, 0.06787867, -0.268126...   \n",
       "9619.0  type5_possessive  [0.29682538, 0.33590078, 0.029228458, -0.24936...   \n",
       "9628.0  type5_possessive  [0.41779414, 0.5672047, -0.12455517, -0.113467...   \n",
       "...                  ...                                                ...   \n",
       "NaN     type5_possessive  [0.19257289, 0.39037293, -0.009387304, -0.1870...   \n",
       "NaN     type5_possessive  [0.3318006, 0.22654662, -0.017176786, -0.08385...   \n",
       "NaN     type5_possessive  [0.27215302, 0.28173864, 0.043231603, -0.13834...   \n",
       "NaN     type5_possessive  [0.30279136, 0.29145783, 0.009102633, -0.13019...   \n",
       "NaN     type5_possessive  [0.19257289, 0.39037293, -0.009387304, -0.1870...   \n",
       "\n",
       "       predicted_label  \n",
       "9616.0               E  \n",
       "9617.0               E  \n",
       "9618.0               E  \n",
       "9619.0               E  \n",
       "9628.0               E  \n",
       "...                ...  \n",
       "NaN                  E  \n",
       "NaN                  E  \n",
       "NaN                  E  \n",
       "NaN                  N  \n",
       "NaN                  C  \n",
       "\n",
       "[2367 rows x 6 columns]"
      ]
     },
     "execution_count": 64,
     "metadata": {},
     "output_type": "execute_result"
    }
   ],
   "source": [
    "test_df"
   ]
  },
  {
   "cell_type": "code",
   "execution_count": 65,
   "metadata": {
    "execution": {
     "iopub.execute_input": "2025-03-09T19:31:34.234354Z",
     "iopub.status.busy": "2025-03-09T19:31:34.234036Z",
     "iopub.status.idle": "2025-03-09T19:31:34.254668Z",
     "shell.execute_reply": "2025-03-09T19:31:34.253802Z",
     "shell.execute_reply.started": "2025-03-09T19:31:34.234327Z"
    },
    "trusted": true
   },
   "outputs": [
    {
     "name": "stderr",
     "output_type": "stream",
     "text": [
      "/usr/local/lib/python3.10/dist-packages/pandas/io/formats/format.py:1458: RuntimeWarning: invalid value encountered in greater\n",
      "  has_large_values = (abs_vals > 1e6).any()\n",
      "/usr/local/lib/python3.10/dist-packages/pandas/io/formats/format.py:1459: RuntimeWarning: invalid value encountered in less\n",
      "  has_small_values = ((abs_vals < 10 ** (-self.digits)) & (abs_vals > 0)).any()\n",
      "/usr/local/lib/python3.10/dist-packages/pandas/io/formats/format.py:1459: RuntimeWarning: invalid value encountered in greater\n",
      "  has_small_values = ((abs_vals < 10 ** (-self.digits)) & (abs_vals > 0)).any()\n"
     ]
    },
    {
     "data": {
      "text/html": [
       "<div>\n",
       "<style scoped>\n",
       "    .dataframe tbody tr th:only-of-type {\n",
       "        vertical-align: middle;\n",
       "    }\n",
       "\n",
       "    .dataframe tbody tr th {\n",
       "        vertical-align: top;\n",
       "    }\n",
       "\n",
       "    .dataframe thead th {\n",
       "        text-align: right;\n",
       "    }\n",
       "</style>\n",
       "<table border=\"1\" class=\"dataframe\">\n",
       "  <thead>\n",
       "    <tr style=\"text-align: right;\">\n",
       "      <th></th>\n",
       "      <th>premise</th>\n",
       "      <th>hypothesis</th>\n",
       "      <th>gold_label</th>\n",
       "      <th>type</th>\n",
       "      <th>glove_embedding</th>\n",
       "      <th>predicted_label</th>\n",
       "    </tr>\n",
       "  </thead>\n",
       "  <tbody>\n",
       "    <tr>\n",
       "      <th>9616.0</th>\n",
       "      <td>If Charlotte passes her driving test, her pare...</td>\n",
       "      <td>Charlotte has parents.</td>\n",
       "      <td>E</td>\n",
       "      <td>type5_possessive</td>\n",
       "      <td>[0.17170888, 0.4655589, 0.017628895, -0.365464...</td>\n",
       "      <td>1</td>\n",
       "    </tr>\n",
       "    <tr>\n",
       "      <th>9617.0</th>\n",
       "      <td>It's not the case that if Charlotte passes her...</td>\n",
       "      <td>Charlotte has parents.</td>\n",
       "      <td>E</td>\n",
       "      <td>type5_possessive</td>\n",
       "      <td>[0.32833287, 0.2631786, -0.0003656149, -0.1912...</td>\n",
       "      <td>1</td>\n",
       "    </tr>\n",
       "    <tr>\n",
       "      <th>9618.0</th>\n",
       "      <td>Sam believes that if Charlotte passes her driv...</td>\n",
       "      <td>Charlotte has parents.</td>\n",
       "      <td>E</td>\n",
       "      <td>type5_possessive</td>\n",
       "      <td>[0.26313668, 0.32907525, 0.06787867, -0.268126...</td>\n",
       "      <td>1</td>\n",
       "    </tr>\n",
       "    <tr>\n",
       "      <th>9619.0</th>\n",
       "      <td>Is it true that if Charlotte passes her drivin...</td>\n",
       "      <td>Charlotte has parents.</td>\n",
       "      <td>E</td>\n",
       "      <td>type5_possessive</td>\n",
       "      <td>[0.29682538, 0.33590078, 0.029228458, -0.24936...</td>\n",
       "      <td>1</td>\n",
       "    </tr>\n",
       "    <tr>\n",
       "      <th>9628.0</th>\n",
       "      <td>If Lily takes the train to the city, her frien...</td>\n",
       "      <td>Lily has a friend.</td>\n",
       "      <td>E</td>\n",
       "      <td>type5_possessive</td>\n",
       "      <td>[0.41779414, 0.5672047, -0.12455517, -0.113467...</td>\n",
       "      <td>0</td>\n",
       "    </tr>\n",
       "    <tr>\n",
       "      <th>...</th>\n",
       "      <td>...</td>\n",
       "      <td>...</td>\n",
       "      <td>...</td>\n",
       "      <td>...</td>\n",
       "      <td>...</td>\n",
       "      <td>...</td>\n",
       "    </tr>\n",
       "    <tr>\n",
       "      <th>NaN</th>\n",
       "      <td>If Sophia decides to attend the concert, his b...</td>\n",
       "      <td>Sophia has a close friend.</td>\n",
       "      <td>N</td>\n",
       "      <td>type5_possessive</td>\n",
       "      <td>[0.19257289, 0.39037293, -0.009387304, -0.1870...</td>\n",
       "      <td>1</td>\n",
       "    </tr>\n",
       "    <tr>\n",
       "      <th>NaN</th>\n",
       "      <td>It's not the case that if Sophia decides to at...</td>\n",
       "      <td>Sophia has a close friend.</td>\n",
       "      <td>N</td>\n",
       "      <td>type5_possessive</td>\n",
       "      <td>[0.3318006, 0.22654662, -0.017176786, -0.08385...</td>\n",
       "      <td>1</td>\n",
       "    </tr>\n",
       "    <tr>\n",
       "      <th>NaN</th>\n",
       "      <td>Sam believes that if Sophia decides to attend ...</td>\n",
       "      <td>Sophia has a close friend.</td>\n",
       "      <td>N</td>\n",
       "      <td>type5_possessive</td>\n",
       "      <td>[0.27215302, 0.28173864, 0.043231603, -0.13834...</td>\n",
       "      <td>1</td>\n",
       "    </tr>\n",
       "    <tr>\n",
       "      <th>NaN</th>\n",
       "      <td>Is it true that if Sophia decides to attend th...</td>\n",
       "      <td>Sophia has a close friend.</td>\n",
       "      <td>N</td>\n",
       "      <td>type5_possessive</td>\n",
       "      <td>[0.30279136, 0.29145783, 0.009102633, -0.13019...</td>\n",
       "      <td>1</td>\n",
       "    </tr>\n",
       "    <tr>\n",
       "      <th>NaN</th>\n",
       "      <td>If Sophia decides to attend the concert, his b...</td>\n",
       "      <td>Sophia has decided to attend the concert, but ...</td>\n",
       "      <td>C</td>\n",
       "      <td>type5_possessive</td>\n",
       "      <td>[0.19257289, 0.39037293, -0.009387304, -0.1870...</td>\n",
       "      <td>2</td>\n",
       "    </tr>\n",
       "  </tbody>\n",
       "</table>\n",
       "<p>2367 rows × 6 columns</p>\n",
       "</div>"
      ],
      "text/plain": [
       "                                                  premise  \\\n",
       "9616.0  If Charlotte passes her driving test, her pare...   \n",
       "9617.0  It's not the case that if Charlotte passes her...   \n",
       "9618.0  Sam believes that if Charlotte passes her driv...   \n",
       "9619.0  Is it true that if Charlotte passes her drivin...   \n",
       "9628.0  If Lily takes the train to the city, her frien...   \n",
       "...                                                   ...   \n",
       "NaN     If Sophia decides to attend the concert, his b...   \n",
       "NaN     It's not the case that if Sophia decides to at...   \n",
       "NaN     Sam believes that if Sophia decides to attend ...   \n",
       "NaN     Is it true that if Sophia decides to attend th...   \n",
       "NaN     If Sophia decides to attend the concert, his b...   \n",
       "\n",
       "                                               hypothesis gold_label  \\\n",
       "9616.0                             Charlotte has parents.          E   \n",
       "9617.0                             Charlotte has parents.          E   \n",
       "9618.0                             Charlotte has parents.          E   \n",
       "9619.0                             Charlotte has parents.          E   \n",
       "9628.0                                 Lily has a friend.          E   \n",
       "...                                                   ...        ...   \n",
       "NaN                            Sophia has a close friend.          N   \n",
       "NaN                            Sophia has a close friend.          N   \n",
       "NaN                            Sophia has a close friend.          N   \n",
       "NaN                            Sophia has a close friend.          N   \n",
       "NaN     Sophia has decided to attend the concert, but ...          C   \n",
       "\n",
       "                    type                                    glove_embedding  \\\n",
       "9616.0  type5_possessive  [0.17170888, 0.4655589, 0.017628895, -0.365464...   \n",
       "9617.0  type5_possessive  [0.32833287, 0.2631786, -0.0003656149, -0.1912...   \n",
       "9618.0  type5_possessive  [0.26313668, 0.32907525, 0.06787867, -0.268126...   \n",
       "9619.0  type5_possessive  [0.29682538, 0.33590078, 0.029228458, -0.24936...   \n",
       "9628.0  type5_possessive  [0.41779414, 0.5672047, -0.12455517, -0.113467...   \n",
       "...                  ...                                                ...   \n",
       "NaN     type5_possessive  [0.19257289, 0.39037293, -0.009387304, -0.1870...   \n",
       "NaN     type5_possessive  [0.3318006, 0.22654662, -0.017176786, -0.08385...   \n",
       "NaN     type5_possessive  [0.27215302, 0.28173864, 0.043231603, -0.13834...   \n",
       "NaN     type5_possessive  [0.30279136, 0.29145783, 0.009102633, -0.13019...   \n",
       "NaN     type5_possessive  [0.19257289, 0.39037293, -0.009387304, -0.1870...   \n",
       "\n",
       "        predicted_label  \n",
       "9616.0                1  \n",
       "9617.0                1  \n",
       "9618.0                1  \n",
       "9619.0                1  \n",
       "9628.0                0  \n",
       "...                 ...  \n",
       "NaN                   1  \n",
       "NaN                   1  \n",
       "NaN                   1  \n",
       "NaN                   1  \n",
       "NaN                   2  \n",
       "\n",
       "[2367 rows x 6 columns]"
      ]
     },
     "execution_count": 65,
     "metadata": {},
     "output_type": "execute_result"
    }
   ],
   "source": [
    "test_df['predicted_label'] = predictions.cpu()\n",
    "test_df "
   ]
  },
  {
   "cell_type": "code",
   "execution_count": 66,
   "metadata": {
    "execution": {
     "iopub.execute_input": "2025-03-09T19:31:39.579281Z",
     "iopub.status.busy": "2025-03-09T19:31:39.578971Z",
     "iopub.status.idle": "2025-03-09T19:31:39.602050Z",
     "shell.execute_reply": "2025-03-09T19:31:39.601215Z",
     "shell.execute_reply.started": "2025-03-09T19:31:39.579256Z"
    },
    "trusted": true
   },
   "outputs": [
    {
     "name": "stderr",
     "output_type": "stream",
     "text": [
      "/usr/local/lib/python3.10/dist-packages/pandas/io/formats/format.py:1458: RuntimeWarning: invalid value encountered in greater\n",
      "  has_large_values = (abs_vals > 1e6).any()\n",
      "/usr/local/lib/python3.10/dist-packages/pandas/io/formats/format.py:1459: RuntimeWarning: invalid value encountered in less\n",
      "  has_small_values = ((abs_vals < 10 ** (-self.digits)) & (abs_vals > 0)).any()\n",
      "/usr/local/lib/python3.10/dist-packages/pandas/io/formats/format.py:1459: RuntimeWarning: invalid value encountered in greater\n",
      "  has_small_values = ((abs_vals < 10 ** (-self.digits)) & (abs_vals > 0)).any()\n"
     ]
    },
    {
     "data": {
      "text/html": [
       "<div>\n",
       "<style scoped>\n",
       "    .dataframe tbody tr th:only-of-type {\n",
       "        vertical-align: middle;\n",
       "    }\n",
       "\n",
       "    .dataframe tbody tr th {\n",
       "        vertical-align: top;\n",
       "    }\n",
       "\n",
       "    .dataframe thead th {\n",
       "        text-align: right;\n",
       "    }\n",
       "</style>\n",
       "<table border=\"1\" class=\"dataframe\">\n",
       "  <thead>\n",
       "    <tr style=\"text-align: right;\">\n",
       "      <th></th>\n",
       "      <th>premise</th>\n",
       "      <th>hypothesis</th>\n",
       "      <th>gold_label</th>\n",
       "      <th>type</th>\n",
       "      <th>glove_embedding</th>\n",
       "      <th>predicted_label</th>\n",
       "    </tr>\n",
       "  </thead>\n",
       "  <tbody>\n",
       "    <tr>\n",
       "      <th>9616.0</th>\n",
       "      <td>If Charlotte passes her driving test, her pare...</td>\n",
       "      <td>Charlotte has parents.</td>\n",
       "      <td>E</td>\n",
       "      <td>type5_possessive</td>\n",
       "      <td>[0.17170888, 0.4655589, 0.017628895, -0.365464...</td>\n",
       "      <td>N</td>\n",
       "    </tr>\n",
       "    <tr>\n",
       "      <th>9617.0</th>\n",
       "      <td>It's not the case that if Charlotte passes her...</td>\n",
       "      <td>Charlotte has parents.</td>\n",
       "      <td>E</td>\n",
       "      <td>type5_possessive</td>\n",
       "      <td>[0.32833287, 0.2631786, -0.0003656149, -0.1912...</td>\n",
       "      <td>N</td>\n",
       "    </tr>\n",
       "    <tr>\n",
       "      <th>9618.0</th>\n",
       "      <td>Sam believes that if Charlotte passes her driv...</td>\n",
       "      <td>Charlotte has parents.</td>\n",
       "      <td>E</td>\n",
       "      <td>type5_possessive</td>\n",
       "      <td>[0.26313668, 0.32907525, 0.06787867, -0.268126...</td>\n",
       "      <td>N</td>\n",
       "    </tr>\n",
       "    <tr>\n",
       "      <th>9619.0</th>\n",
       "      <td>Is it true that if Charlotte passes her drivin...</td>\n",
       "      <td>Charlotte has parents.</td>\n",
       "      <td>E</td>\n",
       "      <td>type5_possessive</td>\n",
       "      <td>[0.29682538, 0.33590078, 0.029228458, -0.24936...</td>\n",
       "      <td>N</td>\n",
       "    </tr>\n",
       "    <tr>\n",
       "      <th>9628.0</th>\n",
       "      <td>If Lily takes the train to the city, her frien...</td>\n",
       "      <td>Lily has a friend.</td>\n",
       "      <td>E</td>\n",
       "      <td>type5_possessive</td>\n",
       "      <td>[0.41779414, 0.5672047, -0.12455517, -0.113467...</td>\n",
       "      <td>E</td>\n",
       "    </tr>\n",
       "    <tr>\n",
       "      <th>...</th>\n",
       "      <td>...</td>\n",
       "      <td>...</td>\n",
       "      <td>...</td>\n",
       "      <td>...</td>\n",
       "      <td>...</td>\n",
       "      <td>...</td>\n",
       "    </tr>\n",
       "    <tr>\n",
       "      <th>NaN</th>\n",
       "      <td>If Sophia decides to attend the concert, his b...</td>\n",
       "      <td>Sophia has a close friend.</td>\n",
       "      <td>N</td>\n",
       "      <td>type5_possessive</td>\n",
       "      <td>[0.19257289, 0.39037293, -0.009387304, -0.1870...</td>\n",
       "      <td>N</td>\n",
       "    </tr>\n",
       "    <tr>\n",
       "      <th>NaN</th>\n",
       "      <td>It's not the case that if Sophia decides to at...</td>\n",
       "      <td>Sophia has a close friend.</td>\n",
       "      <td>N</td>\n",
       "      <td>type5_possessive</td>\n",
       "      <td>[0.3318006, 0.22654662, -0.017176786, -0.08385...</td>\n",
       "      <td>N</td>\n",
       "    </tr>\n",
       "    <tr>\n",
       "      <th>NaN</th>\n",
       "      <td>Sam believes that if Sophia decides to attend ...</td>\n",
       "      <td>Sophia has a close friend.</td>\n",
       "      <td>N</td>\n",
       "      <td>type5_possessive</td>\n",
       "      <td>[0.27215302, 0.28173864, 0.043231603, -0.13834...</td>\n",
       "      <td>N</td>\n",
       "    </tr>\n",
       "    <tr>\n",
       "      <th>NaN</th>\n",
       "      <td>Is it true that if Sophia decides to attend th...</td>\n",
       "      <td>Sophia has a close friend.</td>\n",
       "      <td>N</td>\n",
       "      <td>type5_possessive</td>\n",
       "      <td>[0.30279136, 0.29145783, 0.009102633, -0.13019...</td>\n",
       "      <td>N</td>\n",
       "    </tr>\n",
       "    <tr>\n",
       "      <th>NaN</th>\n",
       "      <td>If Sophia decides to attend the concert, his b...</td>\n",
       "      <td>Sophia has decided to attend the concert, but ...</td>\n",
       "      <td>C</td>\n",
       "      <td>type5_possessive</td>\n",
       "      <td>[0.19257289, 0.39037293, -0.009387304, -0.1870...</td>\n",
       "      <td>C</td>\n",
       "    </tr>\n",
       "  </tbody>\n",
       "</table>\n",
       "<p>2367 rows × 6 columns</p>\n",
       "</div>"
      ],
      "text/plain": [
       "                                                  premise  \\\n",
       "9616.0  If Charlotte passes her driving test, her pare...   \n",
       "9617.0  It's not the case that if Charlotte passes her...   \n",
       "9618.0  Sam believes that if Charlotte passes her driv...   \n",
       "9619.0  Is it true that if Charlotte passes her drivin...   \n",
       "9628.0  If Lily takes the train to the city, her frien...   \n",
       "...                                                   ...   \n",
       "NaN     If Sophia decides to attend the concert, his b...   \n",
       "NaN     It's not the case that if Sophia decides to at...   \n",
       "NaN     Sam believes that if Sophia decides to attend ...   \n",
       "NaN     Is it true that if Sophia decides to attend th...   \n",
       "NaN     If Sophia decides to attend the concert, his b...   \n",
       "\n",
       "                                               hypothesis gold_label  \\\n",
       "9616.0                             Charlotte has parents.          E   \n",
       "9617.0                             Charlotte has parents.          E   \n",
       "9618.0                             Charlotte has parents.          E   \n",
       "9619.0                             Charlotte has parents.          E   \n",
       "9628.0                                 Lily has a friend.          E   \n",
       "...                                                   ...        ...   \n",
       "NaN                            Sophia has a close friend.          N   \n",
       "NaN                            Sophia has a close friend.          N   \n",
       "NaN                            Sophia has a close friend.          N   \n",
       "NaN                            Sophia has a close friend.          N   \n",
       "NaN     Sophia has decided to attend the concert, but ...          C   \n",
       "\n",
       "                    type                                    glove_embedding  \\\n",
       "9616.0  type5_possessive  [0.17170888, 0.4655589, 0.017628895, -0.365464...   \n",
       "9617.0  type5_possessive  [0.32833287, 0.2631786, -0.0003656149, -0.1912...   \n",
       "9618.0  type5_possessive  [0.26313668, 0.32907525, 0.06787867, -0.268126...   \n",
       "9619.0  type5_possessive  [0.29682538, 0.33590078, 0.029228458, -0.24936...   \n",
       "9628.0  type5_possessive  [0.41779414, 0.5672047, -0.12455517, -0.113467...   \n",
       "...                  ...                                                ...   \n",
       "NaN     type5_possessive  [0.19257289, 0.39037293, -0.009387304, -0.1870...   \n",
       "NaN     type5_possessive  [0.3318006, 0.22654662, -0.017176786, -0.08385...   \n",
       "NaN     type5_possessive  [0.27215302, 0.28173864, 0.043231603, -0.13834...   \n",
       "NaN     type5_possessive  [0.30279136, 0.29145783, 0.009102633, -0.13019...   \n",
       "NaN     type5_possessive  [0.19257289, 0.39037293, -0.009387304, -0.1870...   \n",
       "\n",
       "       predicted_label  \n",
       "9616.0               N  \n",
       "9617.0               N  \n",
       "9618.0               N  \n",
       "9619.0               N  \n",
       "9628.0               E  \n",
       "...                ...  \n",
       "NaN                  N  \n",
       "NaN                  N  \n",
       "NaN                  N  \n",
       "NaN                  N  \n",
       "NaN                  C  \n",
       "\n",
       "[2367 rows x 6 columns]"
      ]
     },
     "execution_count": 66,
     "metadata": {},
     "output_type": "execute_result"
    }
   ],
   "source": [
    "test_df['predicted_label'] = test_df['predicted_label'].map({0: 'E',1: 'N', 2: 'C'})\n",
    "test_df "
   ]
  },
  {
   "cell_type": "code",
   "execution_count": 67,
   "metadata": {
    "execution": {
     "iopub.execute_input": "2025-03-09T19:31:48.146053Z",
     "iopub.status.busy": "2025-03-09T19:31:48.145702Z",
     "iopub.status.idle": "2025-03-09T19:31:49.572236Z",
     "shell.execute_reply": "2025-03-09T19:31:49.571322Z",
     "shell.execute_reply.started": "2025-03-09T19:31:48.146024Z"
    },
    "trusted": true
   },
   "outputs": [],
   "source": [
    "test_df.to_csv('exp4_glove_results_run3.csv')"
   ]
  },
  {
   "cell_type": "code",
   "execution_count": 68,
   "metadata": {
    "execution": {
     "iopub.execute_input": "2025-03-09T19:31:54.269026Z",
     "iopub.status.busy": "2025-03-09T19:31:54.268723Z",
     "iopub.status.idle": "2025-03-09T19:31:54.272813Z",
     "shell.execute_reply": "2025-03-09T19:31:54.271951Z",
     "shell.execute_reply.started": "2025-03-09T19:31:54.269002Z"
    },
    "trusted": true
   },
   "outputs": [],
   "source": [
    "from sklearn.metrics import confusion_matrix, classification_report, precision_score, recall_score, f1_score\n",
    "import seaborn as sns\n",
    "import matplotlib.pyplot as plt"
   ]
  },
  {
   "cell_type": "code",
   "execution_count": 69,
   "metadata": {
    "execution": {
     "iopub.execute_input": "2025-03-09T19:32:07.400026Z",
     "iopub.status.busy": "2025-03-09T19:32:07.399738Z",
     "iopub.status.idle": "2025-03-09T19:32:07.600552Z",
     "shell.execute_reply": "2025-03-09T19:32:07.599884Z",
     "shell.execute_reply.started": "2025-03-09T19:32:07.400004Z"
    },
    "trusted": true
   },
   "outputs": [
    {
     "data": {
      "image/png": "[encoded data removed]",
      "text/plain": [
       "<Figure size 800x600 with 2 Axes>"
      ]
     },
     "metadata": {},
     "output_type": "display_data"
    }
   ],
   "source": [
    "# Create the testing confusion matrix\n",
    "cm = confusion_matrix(test_df['gold_label'], test_df['predicted_label'])\n",
    "\n",
    "# Visualize the confusion matrix\n",
    "plt.figure(figsize=(8, 6))\n",
    "sns.heatmap(cm, annot=True, fmt=\"d\",cmap=\"Blues\")\n",
    "plt.xlabel(\"Predicted Label\")\n",
    "plt.ylabel(\"True Label\")\n",
    "plt.title(\"Confusion Matrix\")\n",
    "plt.show()"
   ]
  },
  {
   "cell_type": "code",
   "execution_count": 70,
   "metadata": {
    "execution": {
     "iopub.execute_input": "2025-03-09T19:33:02.547585Z",
     "iopub.status.busy": "2025-03-09T19:33:02.547292Z",
     "iopub.status.idle": "2025-03-09T19:33:02.613855Z",
     "shell.execute_reply": "2025-03-09T19:33:02.613099Z",
     "shell.execute_reply.started": "2025-03-09T19:33:02.547564Z"
    },
    "trusted": true
   },
   "outputs": [
    {
     "data": {
      "text/html": [
       "<div>\n",
       "<style scoped>\n",
       "    .dataframe tbody tr th:only-of-type {\n",
       "        vertical-align: middle;\n",
       "    }\n",
       "\n",
       "    .dataframe tbody tr th {\n",
       "        vertical-align: top;\n",
       "    }\n",
       "\n",
       "    .dataframe thead th {\n",
       "        text-align: right;\n",
       "    }\n",
       "</style>\n",
       "<table border=\"1\" class=\"dataframe\">\n",
       "  <thead>\n",
       "    <tr style=\"text-align: right;\">\n",
       "      <th>label</th>\n",
       "      <th>precision</th>\n",
       "      <th>recall</th>\n",
       "      <th>f1-score</th>\n",
       "      <th>support</th>\n",
       "    </tr>\n",
       "  </thead>\n",
       "  <tbody>\n",
       "    <tr>\n",
       "      <th>C</th>\n",
       "      <td>0.608939</td>\n",
       "      <td>0.425781</td>\n",
       "      <td>0.501149</td>\n",
       "      <td>768.000000</td>\n",
       "    </tr>\n",
       "    <tr>\n",
       "      <th>E</th>\n",
       "      <td>0.454545</td>\n",
       "      <td>0.305556</td>\n",
       "      <td>0.365449</td>\n",
       "      <td>720.000000</td>\n",
       "    </tr>\n",
       "    <tr>\n",
       "      <th>N</th>\n",
       "      <td>0.374443</td>\n",
       "      <td>0.573379</td>\n",
       "      <td>0.453034</td>\n",
       "      <td>879.000000</td>\n",
       "    </tr>\n",
       "    <tr>\n",
       "      <th>accuracy</th>\n",
       "      <td>0.444022</td>\n",
       "      <td>0.444022</td>\n",
       "      <td>0.444022</td>\n",
       "      <td>0.444022</td>\n",
       "    </tr>\n",
       "    <tr>\n",
       "      <th>macro avg</th>\n",
       "      <td>0.479309</td>\n",
       "      <td>0.434905</td>\n",
       "      <td>0.439877</td>\n",
       "      <td>2367.000000</td>\n",
       "    </tr>\n",
       "    <tr>\n",
       "      <th>weighted avg</th>\n",
       "      <td>0.474893</td>\n",
       "      <td>0.444022</td>\n",
       "      <td>0.442004</td>\n",
       "      <td>2367.000000</td>\n",
       "    </tr>\n",
       "  </tbody>\n",
       "</table>\n",
       "</div>"
      ],
      "text/plain": [
       "label         precision    recall  f1-score      support\n",
       "C              0.608939  0.425781  0.501149   768.000000\n",
       "E              0.454545  0.305556  0.365449   720.000000\n",
       "N              0.374443  0.573379  0.453034   879.000000\n",
       "accuracy       0.444022  0.444022  0.444022     0.444022\n",
       "macro avg      0.479309  0.434905  0.439877  2367.000000\n",
       "weighted avg   0.474893  0.444022  0.442004  2367.000000"
      ]
     },
     "execution_count": 70,
     "metadata": {},
     "output_type": "execute_result"
    }
   ],
   "source": [
    "report_dict = classification_report(test_df['gold_label'], test_df['predicted_label'], output_dict=True)\n",
    "report_df = pd.DataFrame(report_dict).transpose() \n",
    "report_df.columns.name = 'label'\n",
    "report_df"
   ]
  },
  {
   "cell_type": "code",
   "execution_count": 71,
   "metadata": {
    "execution": {
     "iopub.execute_input": "2025-03-09T19:33:16.876012Z",
     "iopub.status.busy": "2025-03-09T19:33:16.875562Z",
     "iopub.status.idle": "2025-03-09T19:33:16.882765Z",
     "shell.execute_reply": "2025-03-09T19:33:16.881720Z",
     "shell.execute_reply.started": "2025-03-09T19:33:16.875976Z"
    },
    "trusted": true
   },
   "outputs": [],
   "source": [
    "def compute_metrics_by_type(group):\n",
    "    predictions = group['gold_label']\n",
    "    labels = group['predicted_label']\n",
    "    acc = np.mean(predictions == labels)\n",
    "    precision = precision_score(labels, predictions,average=\"weighted\")\n",
    "    recall = recall_score(labels, predictions,average=\"weighted\")\n",
    "    f1 = f1_score(labels, predictions,average=\"weighted\")\n",
    "    return pd.Series({'accuracy': round(acc,2), 'precision': round(precision,2), 'recall': round(recall,2), 'f1_score': round(f1,2)})"
   ]
  },
  {
   "cell_type": "code",
   "execution_count": 72,
   "metadata": {
    "execution": {
     "iopub.execute_input": "2025-03-09T19:33:20.486024Z",
     "iopub.status.busy": "2025-03-09T19:33:20.485701Z",
     "iopub.status.idle": "2025-03-09T19:33:20.577048Z",
     "shell.execute_reply": "2025-03-09T19:33:20.576354Z",
     "shell.execute_reply.started": "2025-03-09T19:33:20.485998Z"
    },
    "trusted": true
   },
   "outputs": [
    {
     "name": "stderr",
     "output_type": "stream",
     "text": [
      "/usr/local/lib/python3.10/dist-packages/sklearn/metrics/_classification.py:1344: UndefinedMetricWarning: Precision is ill-defined and being set to 0.0 in labels with no predicted samples. Use `zero_division` parameter to control this behavior.\n",
      "  _warn_prf(average, modifier, msg_start, len(result))\n",
      "/usr/local/lib/python3.10/dist-packages/sklearn/metrics/_classification.py:1344: UndefinedMetricWarning: Precision is ill-defined and being set to 0.0 in labels with no predicted samples. Use `zero_division` parameter to control this behavior.\n",
      "  _warn_prf(average, modifier, msg_start, len(result))\n",
      "/usr/local/lib/python3.10/dist-packages/sklearn/metrics/_classification.py:1344: UndefinedMetricWarning: Precision is ill-defined and being set to 0.0 in labels with no predicted samples. Use `zero_division` parameter to control this behavior.\n",
      "  _warn_prf(average, modifier, msg_start, len(result))\n",
      "/usr/local/lib/python3.10/dist-packages/sklearn/metrics/_classification.py:1344: UndefinedMetricWarning: Precision is ill-defined and being set to 0.0 in labels with no predicted samples. Use `zero_division` parameter to control this behavior.\n",
      "  _warn_prf(average, modifier, msg_start, len(result))\n",
      "/usr/local/lib/python3.10/dist-packages/sklearn/metrics/_classification.py:1344: UndefinedMetricWarning: Precision is ill-defined and being set to 0.0 in labels with no predicted samples. Use `zero_division` parameter to control this behavior.\n",
      "  _warn_prf(average, modifier, msg_start, len(result))\n",
      "<ipython-input-72-5261ab470594>:1: DeprecationWarning: DataFrameGroupBy.apply operated on the grouping columns. This behavior is deprecated, and in a future version of pandas the grouping columns will be excluded from the operation. Either pass `include_groups=False` to exclude the groupings or explicitly select the grouping columns after groupby to silence this warning.\n",
      "  metrics_by_type = test_df.groupby('type').apply(compute_metrics_by_type).reset_index()\n"
     ]
    },
    {
     "data": {
      "text/html": [
       "<div>\n",
       "<style scoped>\n",
       "    .dataframe tbody tr th:only-of-type {\n",
       "        vertical-align: middle;\n",
       "    }\n",
       "\n",
       "    .dataframe tbody tr th {\n",
       "        vertical-align: top;\n",
       "    }\n",
       "\n",
       "    .dataframe thead th {\n",
       "        text-align: right;\n",
       "    }\n",
       "</style>\n",
       "<table border=\"1\" class=\"dataframe\">\n",
       "  <thead>\n",
       "    <tr style=\"text-align: right;\">\n",
       "      <th>ID</th>\n",
       "      <th>type</th>\n",
       "      <th>accuracy</th>\n",
       "      <th>precision</th>\n",
       "      <th>recall</th>\n",
       "      <th>f1_score</th>\n",
       "    </tr>\n",
       "  </thead>\n",
       "  <tbody>\n",
       "    <tr>\n",
       "      <th>0</th>\n",
       "      <td>type1_again</td>\n",
       "      <td>0.45</td>\n",
       "      <td>0.36</td>\n",
       "      <td>0.45</td>\n",
       "      <td>0.39</td>\n",
       "    </tr>\n",
       "    <tr>\n",
       "      <th>1</th>\n",
       "      <td>type1_possessive</td>\n",
       "      <td>0.33</td>\n",
       "      <td>0.27</td>\n",
       "      <td>0.33</td>\n",
       "      <td>0.30</td>\n",
       "    </tr>\n",
       "    <tr>\n",
       "      <th>2</th>\n",
       "      <td>type2_again</td>\n",
       "      <td>0.49</td>\n",
       "      <td>0.39</td>\n",
       "      <td>0.49</td>\n",
       "      <td>0.43</td>\n",
       "    </tr>\n",
       "    <tr>\n",
       "      <th>3</th>\n",
       "      <td>type2_possessive</td>\n",
       "      <td>0.49</td>\n",
       "      <td>0.51</td>\n",
       "      <td>0.49</td>\n",
       "      <td>0.49</td>\n",
       "    </tr>\n",
       "    <tr>\n",
       "      <th>4</th>\n",
       "      <td>type3_again</td>\n",
       "      <td>0.51</td>\n",
       "      <td>0.50</td>\n",
       "      <td>0.51</td>\n",
       "      <td>0.49</td>\n",
       "    </tr>\n",
       "    <tr>\n",
       "      <th>5</th>\n",
       "      <td>type3_possessive</td>\n",
       "      <td>0.47</td>\n",
       "      <td>0.43</td>\n",
       "      <td>0.47</td>\n",
       "      <td>0.43</td>\n",
       "    </tr>\n",
       "    <tr>\n",
       "      <th>6</th>\n",
       "      <td>type4_possessive</td>\n",
       "      <td>0.57</td>\n",
       "      <td>0.64</td>\n",
       "      <td>0.57</td>\n",
       "      <td>0.58</td>\n",
       "    </tr>\n",
       "    <tr>\n",
       "      <th>7</th>\n",
       "      <td>type5_again</td>\n",
       "      <td>0.26</td>\n",
       "      <td>0.37</td>\n",
       "      <td>0.26</td>\n",
       "      <td>0.14</td>\n",
       "    </tr>\n",
       "    <tr>\n",
       "      <th>8</th>\n",
       "      <td>type5_possessive</td>\n",
       "      <td>0.47</td>\n",
       "      <td>0.66</td>\n",
       "      <td>0.47</td>\n",
       "      <td>0.34</td>\n",
       "    </tr>\n",
       "  </tbody>\n",
       "</table>\n",
       "</div>"
      ],
      "text/plain": [
       "ID              type  accuracy  precision  recall  f1_score\n",
       "0        type1_again      0.45       0.36    0.45      0.39\n",
       "1   type1_possessive      0.33       0.27    0.33      0.30\n",
       "2        type2_again      0.49       0.39    0.49      0.43\n",
       "3   type2_possessive      0.49       0.51    0.49      0.49\n",
       "4        type3_again      0.51       0.50    0.51      0.49\n",
       "5   type3_possessive      0.47       0.43    0.47      0.43\n",
       "6   type4_possessive      0.57       0.64    0.57      0.58\n",
       "7        type5_again      0.26       0.37    0.26      0.14\n",
       "8   type5_possessive      0.47       0.66    0.47      0.34"
      ]
     },
     "execution_count": 72,
     "metadata": {},
     "output_type": "execute_result"
    }
   ],
   "source": [
    "metrics_by_type = test_df.groupby('type').apply(compute_metrics_by_type).reset_index()\n",
    "metrics_by_type.columns.name = 'ID'\n",
    "metrics_by_type"
   ]
  }
 ],
 "metadata": {
  "kaggle": {
   "accelerator": "gpu",
   "dataSources": [
    {
     "datasetId": 6570658,
     "sourceId": 10620586,
     "sourceType": "datasetVersion"
    },
    {
     "datasetId": 6576147,
     "sourceId": 10621169,
     "sourceType": "datasetVersion"
    },
    {
     "datasetId": 6586364,
     "sourceId": 10637710,
     "sourceType": "datasetVersion"
    },
    {
     "datasetId": 6586986,
     "sourceId": 10638606,
     "sourceType": "datasetVersion"
    },
    {
     "datasetId": 6611530,
     "sourceId": 10674614,
     "sourceType": "datasetVersion"
    },
    {
     "datasetId": 6568489,
     "sourceId": 10680118,
     "sourceType": "datasetVersion"
    }
   ],
   "dockerImageVersionId": 30840,
   "isGpuEnabled": true,
   "isInternetEnabled": true,
   "language": "python",
   "sourceType": "notebook"
  },
  "kernelspec": {
   "display_name": "Python 3",
   "language": "python",
   "name": "python3"
  },
  "language_info": {
   "codemirror_mode": {
    "name": "ipython",
    "version": 3
   },
   "file_extension": ".py",
   "mimetype": "text/x-python",
   "name": "python",
   "nbconvert_exporter": "python",
   "pygments_lexer": "ipython3",
   "version": "3.10.12"
  }
 },
 "nbformat": 4,
 "nbformat_minor": 4
}
