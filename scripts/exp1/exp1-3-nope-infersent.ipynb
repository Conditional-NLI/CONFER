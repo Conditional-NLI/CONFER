{
 "cells": [
  {
   "cell_type": "code",
   "execution_count": 4,
   "metadata": {
    "_cell_guid": "b1076dfc-b9ad-4769-8c92-a6c4dae69d19",
    "_uuid": "8f2839f25d086af736a60e9eeb907d3b93b6e0e5",
    "execution": {
     "iopub.execute_input": "2025-02-06T18:06:48.269028Z",
     "iopub.status.busy": "2025-02-06T18:06:48.268478Z",
     "iopub.status.idle": "2025-02-06T18:06:48.272908Z",
     "shell.execute_reply": "2025-02-06T18:06:48.272026Z",
     "shell.execute_reply.started": "2025-02-06T18:06:48.269001Z"
    },
    "trusted": true
   },
   "outputs": [],
   "source": [
    "import numpy as np # linear algebra\n",
    "import pandas as pd # data processing, CSV file I/O (e.g. pd.read_csv)\n",
    "import pickle\n",
    "import gensim.downloader as api\n",
    "from gensim.models import KeyedVectors\n",
    "from datasets import load_dataset, Dataset"
   ]
  },
  {
   "cell_type": "markdown",
   "metadata": {},
   "source": [
    "# Dataset"
   ]
  },
  {
   "cell_type": "code",
   "execution_count": 28,
   "metadata": {
    "execution": {
     "iopub.execute_input": "2025-02-06T18:11:54.985485Z",
     "iopub.status.busy": "2025-02-06T18:11:54.985122Z",
     "iopub.status.idle": "2025-02-06T18:11:56.232083Z",
     "shell.execute_reply": "2025-02-06T18:11:56.231361Z",
     "shell.execute_reply.started": "2025-02-06T18:11:54.985453Z"
    },
    "trusted": true
   },
   "outputs": [
    {
     "name": "stderr",
     "output_type": "stream",
     "text": [
      "Repo card metadata block was not found. Setting CardData to empty.\n"
     ]
    },
    {
     "data": {
      "text/plain": [
       "Dataset({\n",
       "    features: ['uid', 'premise', 'hypothesis', 'label', 'metadata'],\n",
       "    num_rows: 2386\n",
       "})"
      ]
     },
     "execution_count": 28,
     "metadata": {},
     "output_type": "execute_result"
    }
   ],
   "source": [
    "nope_ds = load_dataset(\"tasksource/nope\",split=\"train\")\n",
    "nope_ds "
   ]
  },
  {
   "cell_type": "code",
   "execution_count": 29,
   "metadata": {
    "execution": {
     "iopub.execute_input": "2025-02-06T18:12:06.667550Z",
     "iopub.status.busy": "2025-02-06T18:12:06.667261Z",
     "iopub.status.idle": "2025-02-06T18:12:06.695839Z",
     "shell.execute_reply": "2025-02-06T18:12:06.695050Z",
     "shell.execute_reply.started": "2025-02-06T18:12:06.667527Z"
    },
    "trusted": true
   },
   "outputs": [
    {
     "data": {
      "text/html": [
       "<div>\n",
       "<style scoped>\n",
       "    .dataframe tbody tr th:only-of-type {\n",
       "        vertical-align: middle;\n",
       "    }\n",
       "\n",
       "    .dataframe tbody tr th {\n",
       "        vertical-align: top;\n",
       "    }\n",
       "\n",
       "    .dataframe thead th {\n",
       "        text-align: right;\n",
       "    }\n",
       "</style>\n",
       "<table border=\"1\" class=\"dataframe\">\n",
       "  <thead>\n",
       "    <tr style=\"text-align: right;\">\n",
       "      <th></th>\n",
       "      <th>premise</th>\n",
       "      <th>hypothesis</th>\n",
       "      <th>label</th>\n",
       "    </tr>\n",
       "  </thead>\n",
       "  <tbody>\n",
       "    <tr>\n",
       "      <th>0</th>\n",
       "      <td>The cops had him in their headlights. He ran h...</td>\n",
       "      <td>He was standing earlier.</td>\n",
       "      <td>E</td>\n",
       "    </tr>\n",
       "    <tr>\n",
       "      <th>1</th>\n",
       "      <td>The cops had him in their headlights. He ran h...</td>\n",
       "      <td>He was standing earlier.</td>\n",
       "      <td>E</td>\n",
       "    </tr>\n",
       "    <tr>\n",
       "      <th>2</th>\n",
       "      <td>For three nights a comet flared through the de...</td>\n",
       "      <td>A red smudge couldn't be seen on the moon before.</td>\n",
       "      <td>E</td>\n",
       "    </tr>\n",
       "    <tr>\n",
       "      <th>3</th>\n",
       "      <td>For three nights a comet flared through the de...</td>\n",
       "      <td>A red smudge couldn't be seen on the moon before.</td>\n",
       "      <td>E</td>\n",
       "    </tr>\n",
       "    <tr>\n",
       "      <th>4</th>\n",
       "      <td>\" He just thinks it's so much bull--. He's not...</td>\n",
       "      <td>We are someone.</td>\n",
       "      <td>N</td>\n",
       "    </tr>\n",
       "    <tr>\n",
       "      <th>...</th>\n",
       "      <td>...</td>\n",
       "      <td>...</td>\n",
       "      <td>...</td>\n",
       "    </tr>\n",
       "    <tr>\n",
       "      <th>2381</th>\n",
       "      <td>I've worked obviously suspicious gobblers for ...</td>\n",
       "      <td>They will react in some way.</td>\n",
       "      <td>E</td>\n",
       "    </tr>\n",
       "    <tr>\n",
       "      <th>2382</th>\n",
       "      <td>And, of course, at that time my dad was dying,...</td>\n",
       "      <td>Something happened.</td>\n",
       "      <td>E</td>\n",
       "    </tr>\n",
       "    <tr>\n",
       "      <th>2383</th>\n",
       "      <td>And, of course, at that time my dad was dying,...</td>\n",
       "      <td>Something happened.</td>\n",
       "      <td>E</td>\n",
       "    </tr>\n",
       "    <tr>\n",
       "      <th>2384</th>\n",
       "      <td>I felt grubby just looking at her.  I don't kn...</td>\n",
       "      <td>Elissa has a favorite hobby.</td>\n",
       "      <td>N</td>\n",
       "    </tr>\n",
       "    <tr>\n",
       "      <th>2385</th>\n",
       "      <td>I felt grubby just looking at her.  I know wha...</td>\n",
       "      <td>Elissa has a favorite hobby.</td>\n",
       "      <td>E</td>\n",
       "    </tr>\n",
       "  </tbody>\n",
       "</table>\n",
       "<p>2386 rows × 3 columns</p>\n",
       "</div>"
      ],
      "text/plain": [
       "                                                premise  \\\n",
       "0     The cops had him in their headlights. He ran h...   \n",
       "1     The cops had him in their headlights. He ran h...   \n",
       "2     For three nights a comet flared through the de...   \n",
       "3     For three nights a comet flared through the de...   \n",
       "4     \" He just thinks it's so much bull--. He's not...   \n",
       "...                                                 ...   \n",
       "2381  I've worked obviously suspicious gobblers for ...   \n",
       "2382  And, of course, at that time my dad was dying,...   \n",
       "2383  And, of course, at that time my dad was dying,...   \n",
       "2384  I felt grubby just looking at her.  I don't kn...   \n",
       "2385  I felt grubby just looking at her.  I know wha...   \n",
       "\n",
       "                                             hypothesis label  \n",
       "0                              He was standing earlier.     E  \n",
       "1                              He was standing earlier.     E  \n",
       "2     A red smudge couldn't be seen on the moon before.     E  \n",
       "3     A red smudge couldn't be seen on the moon before.     E  \n",
       "4                                       We are someone.     N  \n",
       "...                                                 ...   ...  \n",
       "2381                       They will react in some way.     E  \n",
       "2382                                Something happened.     E  \n",
       "2383                                Something happened.     E  \n",
       "2384                       Elissa has a favorite hobby.     N  \n",
       "2385                       Elissa has a favorite hobby.     E  \n",
       "\n",
       "[2386 rows x 3 columns]"
      ]
     },
     "execution_count": 29,
     "metadata": {},
     "output_type": "execute_result"
    }
   ],
   "source": [
    "train_df = nope_ds.to_pandas()\n",
    "train_df = train_df[['premise','hypothesis','label']]\n",
    "train_df"
   ]
  },
  {
   "cell_type": "code",
   "execution_count": 7,
   "metadata": {
    "execution": {
     "iopub.execute_input": "2025-02-06T18:06:52.620079Z",
     "iopub.status.busy": "2025-02-06T18:06:52.619868Z",
     "iopub.status.idle": "2025-02-06T18:06:52.653486Z",
     "shell.execute_reply": "2025-02-06T18:06:52.652764Z",
     "shell.execute_reply.started": "2025-02-06T18:06:52.620061Z"
    },
    "trusted": true
   },
   "outputs": [
    {
     "name": "stderr",
     "output_type": "stream",
     "text": [
      "/usr/local/lib/python3.10/dist-packages/pandas/io/formats/format.py:1458: RuntimeWarning: invalid value encountered in greater\n",
      "  has_large_values = (abs_vals > 1e6).any()\n",
      "/usr/local/lib/python3.10/dist-packages/pandas/io/formats/format.py:1459: RuntimeWarning: invalid value encountered in less\n",
      "  has_small_values = ((abs_vals < 10 ** (-self.digits)) & (abs_vals > 0)).any()\n",
      "/usr/local/lib/python3.10/dist-packages/pandas/io/formats/format.py:1459: RuntimeWarning: invalid value encountered in greater\n",
      "  has_small_values = ((abs_vals < 10 ** (-self.digits)) & (abs_vals > 0)).any()\n"
     ]
    },
    {
     "data": {
      "text/html": [
       "<div>\n",
       "<style scoped>\n",
       "    .dataframe tbody tr th:only-of-type {\n",
       "        vertical-align: middle;\n",
       "    }\n",
       "\n",
       "    .dataframe tbody tr th {\n",
       "        vertical-align: top;\n",
       "    }\n",
       "\n",
       "    .dataframe thead th {\n",
       "        text-align: right;\n",
       "    }\n",
       "</style>\n",
       "<table border=\"1\" class=\"dataframe\">\n",
       "  <thead>\n",
       "    <tr style=\"text-align: right;\">\n",
       "      <th></th>\n",
       "      <th>premise</th>\n",
       "      <th>hypothesis</th>\n",
       "      <th>gold_label</th>\n",
       "      <th>type</th>\n",
       "    </tr>\n",
       "  </thead>\n",
       "  <tbody>\n",
       "    <tr>\n",
       "      <th>9600.0</th>\n",
       "      <td>If Jessica attends the conference, her colleag...</td>\n",
       "      <td>Jessica has a colleague.</td>\n",
       "      <td>E</td>\n",
       "      <td>type5_possessive</td>\n",
       "    </tr>\n",
       "    <tr>\n",
       "      <th>9601.0</th>\n",
       "      <td>It's not the case that if Jessica attends the ...</td>\n",
       "      <td>Jessica has a colleague.</td>\n",
       "      <td>E</td>\n",
       "      <td>type5_possessive</td>\n",
       "    </tr>\n",
       "    <tr>\n",
       "      <th>9602.0</th>\n",
       "      <td>Sam believes that if Jessica attends the confe...</td>\n",
       "      <td>Jessica has a colleague.</td>\n",
       "      <td>E</td>\n",
       "      <td>type5_possessive</td>\n",
       "    </tr>\n",
       "    <tr>\n",
       "      <th>9603.0</th>\n",
       "      <td>Is it true that if Jessica attends the confere...</td>\n",
       "      <td>Jessica has a colleague.</td>\n",
       "      <td>E</td>\n",
       "      <td>type5_possessive</td>\n",
       "    </tr>\n",
       "    <tr>\n",
       "      <th>9620.0</th>\n",
       "      <td>If Mia's car breaks down, her coworker will gi...</td>\n",
       "      <td>Mia has a coworker.</td>\n",
       "      <td>E</td>\n",
       "      <td>type5_possessive</td>\n",
       "    </tr>\n",
       "    <tr>\n",
       "      <th>...</th>\n",
       "      <td>...</td>\n",
       "      <td>...</td>\n",
       "      <td>...</td>\n",
       "      <td>...</td>\n",
       "    </tr>\n",
       "    <tr>\n",
       "      <th>NaN</th>\n",
       "      <td>If Margaret graduates from college, her parent...</td>\n",
       "      <td>Margaret has siblings.</td>\n",
       "      <td>N</td>\n",
       "      <td>type5_possessive</td>\n",
       "    </tr>\n",
       "    <tr>\n",
       "      <th>NaN</th>\n",
       "      <td>It's not the case that if Margaret graduates f...</td>\n",
       "      <td>Margaret has siblings.</td>\n",
       "      <td>N</td>\n",
       "      <td>type5_possessive</td>\n",
       "    </tr>\n",
       "    <tr>\n",
       "      <th>NaN</th>\n",
       "      <td>Sam believes that if Margaret graduates from c...</td>\n",
       "      <td>Margaret has siblings.</td>\n",
       "      <td>N</td>\n",
       "      <td>type5_possessive</td>\n",
       "    </tr>\n",
       "    <tr>\n",
       "      <th>NaN</th>\n",
       "      <td>Is it true that if Margaret graduates from col...</td>\n",
       "      <td>Margaret has siblings.</td>\n",
       "      <td>N</td>\n",
       "      <td>type5_possessive</td>\n",
       "    </tr>\n",
       "    <tr>\n",
       "      <th>NaN</th>\n",
       "      <td>If Margaret graduates from college, her parent...</td>\n",
       "      <td>Margaret has graduated from college, but her p...</td>\n",
       "      <td>C</td>\n",
       "      <td>type5_possessive</td>\n",
       "    </tr>\n",
       "  </tbody>\n",
       "</table>\n",
       "<p>2348 rows × 4 columns</p>\n",
       "</div>"
      ],
      "text/plain": [
       "                                                  premise  \\\n",
       "9600.0  If Jessica attends the conference, her colleag...   \n",
       "9601.0  It's not the case that if Jessica attends the ...   \n",
       "9602.0  Sam believes that if Jessica attends the confe...   \n",
       "9603.0  Is it true that if Jessica attends the confere...   \n",
       "9620.0  If Mia's car breaks down, her coworker will gi...   \n",
       "...                                                   ...   \n",
       "NaN     If Margaret graduates from college, her parent...   \n",
       "NaN     It's not the case that if Margaret graduates f...   \n",
       "NaN     Sam believes that if Margaret graduates from c...   \n",
       "NaN     Is it true that if Margaret graduates from col...   \n",
       "NaN     If Margaret graduates from college, her parent...   \n",
       "\n",
       "                                               hypothesis gold_label  \\\n",
       "9600.0                           Jessica has a colleague.          E   \n",
       "9601.0                           Jessica has a colleague.          E   \n",
       "9602.0                           Jessica has a colleague.          E   \n",
       "9603.0                           Jessica has a colleague.          E   \n",
       "9620.0                                Mia has a coworker.          E   \n",
       "...                                                   ...        ...   \n",
       "NaN                                Margaret has siblings.          N   \n",
       "NaN                                Margaret has siblings.          N   \n",
       "NaN                                Margaret has siblings.          N   \n",
       "NaN                                Margaret has siblings.          N   \n",
       "NaN     Margaret has graduated from college, but her p...          C   \n",
       "\n",
       "                    type  \n",
       "9600.0  type5_possessive  \n",
       "9601.0  type5_possessive  \n",
       "9602.0  type5_possessive  \n",
       "9603.0  type5_possessive  \n",
       "9620.0  type5_possessive  \n",
       "...                  ...  \n",
       "NaN     type5_possessive  \n",
       "NaN     type5_possessive  \n",
       "NaN     type5_possessive  \n",
       "NaN     type5_possessive  \n",
       "NaN     type5_possessive  \n",
       "\n",
       "[2348 rows x 4 columns]"
      ]
     },
     "execution_count": 7,
     "metadata": {},
     "output_type": "execute_result"
    }
   ],
   "source": [
    "valid_df = pd.read_csv('/kaggle/input/nli-data/new_valid_all.csv',index_col=0)\n",
    "valid_df"
   ]
  },
  {
   "cell_type": "code",
   "execution_count": 8,
   "metadata": {
    "execution": {
     "iopub.execute_input": "2025-02-06T18:06:52.655090Z",
     "iopub.status.busy": "2025-02-06T18:06:52.654822Z",
     "iopub.status.idle": "2025-02-06T18:06:52.674735Z",
     "shell.execute_reply": "2025-02-06T18:06:52.674046Z",
     "shell.execute_reply.started": "2025-02-06T18:06:52.655069Z"
    },
    "trusted": true
   },
   "outputs": [
    {
     "name": "stderr",
     "output_type": "stream",
     "text": [
      "/usr/local/lib/python3.10/dist-packages/pandas/io/formats/format.py:1458: RuntimeWarning: invalid value encountered in greater\n",
      "  has_large_values = (abs_vals > 1e6).any()\n",
      "/usr/local/lib/python3.10/dist-packages/pandas/io/formats/format.py:1459: RuntimeWarning: invalid value encountered in less\n",
      "  has_small_values = ((abs_vals < 10 ** (-self.digits)) & (abs_vals > 0)).any()\n",
      "/usr/local/lib/python3.10/dist-packages/pandas/io/formats/format.py:1459: RuntimeWarning: invalid value encountered in greater\n",
      "  has_small_values = ((abs_vals < 10 ** (-self.digits)) & (abs_vals > 0)).any()\n"
     ]
    },
    {
     "data": {
      "text/html": [
       "<div>\n",
       "<style scoped>\n",
       "    .dataframe tbody tr th:only-of-type {\n",
       "        vertical-align: middle;\n",
       "    }\n",
       "\n",
       "    .dataframe tbody tr th {\n",
       "        vertical-align: top;\n",
       "    }\n",
       "\n",
       "    .dataframe thead th {\n",
       "        text-align: right;\n",
       "    }\n",
       "</style>\n",
       "<table border=\"1\" class=\"dataframe\">\n",
       "  <thead>\n",
       "    <tr style=\"text-align: right;\">\n",
       "      <th></th>\n",
       "      <th>premise</th>\n",
       "      <th>hypothesis</th>\n",
       "      <th>gold_label</th>\n",
       "      <th>type</th>\n",
       "    </tr>\n",
       "  </thead>\n",
       "  <tbody>\n",
       "    <tr>\n",
       "      <th>9616.0</th>\n",
       "      <td>If Charlotte passes her driving test, her pare...</td>\n",
       "      <td>Charlotte has parents.</td>\n",
       "      <td>E</td>\n",
       "      <td>type5_possessive</td>\n",
       "    </tr>\n",
       "    <tr>\n",
       "      <th>9617.0</th>\n",
       "      <td>It's not the case that if Charlotte passes her...</td>\n",
       "      <td>Charlotte has parents.</td>\n",
       "      <td>E</td>\n",
       "      <td>type5_possessive</td>\n",
       "    </tr>\n",
       "    <tr>\n",
       "      <th>9618.0</th>\n",
       "      <td>Sam believes that if Charlotte passes her driv...</td>\n",
       "      <td>Charlotte has parents.</td>\n",
       "      <td>E</td>\n",
       "      <td>type5_possessive</td>\n",
       "    </tr>\n",
       "    <tr>\n",
       "      <th>9619.0</th>\n",
       "      <td>Is it true that if Charlotte passes her drivin...</td>\n",
       "      <td>Charlotte has parents.</td>\n",
       "      <td>E</td>\n",
       "      <td>type5_possessive</td>\n",
       "    </tr>\n",
       "    <tr>\n",
       "      <th>9628.0</th>\n",
       "      <td>If Lily takes the train to the city, her frien...</td>\n",
       "      <td>Lily has a friend.</td>\n",
       "      <td>E</td>\n",
       "      <td>type5_possessive</td>\n",
       "    </tr>\n",
       "    <tr>\n",
       "      <th>...</th>\n",
       "      <td>...</td>\n",
       "      <td>...</td>\n",
       "      <td>...</td>\n",
       "      <td>...</td>\n",
       "    </tr>\n",
       "    <tr>\n",
       "      <th>NaN</th>\n",
       "      <td>If Sophia decides to attend the concert, his b...</td>\n",
       "      <td>Sophia has a close friend.</td>\n",
       "      <td>N</td>\n",
       "      <td>type5_possessive</td>\n",
       "    </tr>\n",
       "    <tr>\n",
       "      <th>NaN</th>\n",
       "      <td>It's not the case that if Sophia decides to at...</td>\n",
       "      <td>Sophia has a close friend.</td>\n",
       "      <td>N</td>\n",
       "      <td>type5_possessive</td>\n",
       "    </tr>\n",
       "    <tr>\n",
       "      <th>NaN</th>\n",
       "      <td>Sam believes that if Sophia decides to attend ...</td>\n",
       "      <td>Sophia has a close friend.</td>\n",
       "      <td>N</td>\n",
       "      <td>type5_possessive</td>\n",
       "    </tr>\n",
       "    <tr>\n",
       "      <th>NaN</th>\n",
       "      <td>Is it true that if Sophia decides to attend th...</td>\n",
       "      <td>Sophia has a close friend.</td>\n",
       "      <td>N</td>\n",
       "      <td>type5_possessive</td>\n",
       "    </tr>\n",
       "    <tr>\n",
       "      <th>NaN</th>\n",
       "      <td>If Sophia decides to attend the concert, his b...</td>\n",
       "      <td>Sophia has decided to attend the concert, but ...</td>\n",
       "      <td>C</td>\n",
       "      <td>type5_possessive</td>\n",
       "    </tr>\n",
       "  </tbody>\n",
       "</table>\n",
       "<p>2367 rows × 4 columns</p>\n",
       "</div>"
      ],
      "text/plain": [
       "                                                  premise  \\\n",
       "9616.0  If Charlotte passes her driving test, her pare...   \n",
       "9617.0  It's not the case that if Charlotte passes her...   \n",
       "9618.0  Sam believes that if Charlotte passes her driv...   \n",
       "9619.0  Is it true that if Charlotte passes her drivin...   \n",
       "9628.0  If Lily takes the train to the city, her frien...   \n",
       "...                                                   ...   \n",
       "NaN     If Sophia decides to attend the concert, his b...   \n",
       "NaN     It's not the case that if Sophia decides to at...   \n",
       "NaN     Sam believes that if Sophia decides to attend ...   \n",
       "NaN     Is it true that if Sophia decides to attend th...   \n",
       "NaN     If Sophia decides to attend the concert, his b...   \n",
       "\n",
       "                                               hypothesis gold_label  \\\n",
       "9616.0                             Charlotte has parents.          E   \n",
       "9617.0                             Charlotte has parents.          E   \n",
       "9618.0                             Charlotte has parents.          E   \n",
       "9619.0                             Charlotte has parents.          E   \n",
       "9628.0                                 Lily has a friend.          E   \n",
       "...                                                   ...        ...   \n",
       "NaN                            Sophia has a close friend.          N   \n",
       "NaN                            Sophia has a close friend.          N   \n",
       "NaN                            Sophia has a close friend.          N   \n",
       "NaN                            Sophia has a close friend.          N   \n",
       "NaN     Sophia has decided to attend the concert, but ...          C   \n",
       "\n",
       "                    type  \n",
       "9616.0  type5_possessive  \n",
       "9617.0  type5_possessive  \n",
       "9618.0  type5_possessive  \n",
       "9619.0  type5_possessive  \n",
       "9628.0  type5_possessive  \n",
       "...                  ...  \n",
       "NaN     type5_possessive  \n",
       "NaN     type5_possessive  \n",
       "NaN     type5_possessive  \n",
       "NaN     type5_possessive  \n",
       "NaN     type5_possessive  \n",
       "\n",
       "[2367 rows x 4 columns]"
      ]
     },
     "execution_count": 8,
     "metadata": {},
     "output_type": "execute_result"
    }
   ],
   "source": [
    "test_df = pd.read_csv('/kaggle/input/nli-data/new_test_all.csv',index_col=0)\n",
    "test_df"
   ]
  },
  {
   "cell_type": "code",
   "execution_count": 9,
   "metadata": {
    "execution": {
     "iopub.execute_input": "2025-02-06T18:06:52.675570Z",
     "iopub.status.busy": "2025-02-06T18:06:52.675366Z",
     "iopub.status.idle": "2025-02-06T18:06:52.680387Z",
     "shell.execute_reply": "2025-02-06T18:06:52.679748Z",
     "shell.execute_reply.started": "2025-02-06T18:06:52.675552Z"
    },
    "trusted": true
   },
   "outputs": [
    {
     "data": {
      "text/plain": [
       "0"
      ]
     },
     "execution_count": 9,
     "metadata": {},
     "output_type": "execute_result"
    }
   ],
   "source": [
    "train_df['premise'].isna().sum()"
   ]
  },
  {
   "cell_type": "code",
   "execution_count": 10,
   "metadata": {
    "execution": {
     "iopub.execute_input": "2025-02-06T18:06:52.681422Z",
     "iopub.status.busy": "2025-02-06T18:06:52.681165Z",
     "iopub.status.idle": "2025-02-06T18:06:52.695992Z",
     "shell.execute_reply": "2025-02-06T18:06:52.695150Z",
     "shell.execute_reply.started": "2025-02-06T18:06:52.681383Z"
    },
    "trusted": true
   },
   "outputs": [
    {
     "data": {
      "text/plain": [
       "0"
      ]
     },
     "execution_count": 10,
     "metadata": {},
     "output_type": "execute_result"
    }
   ],
   "source": [
    "train_df['hypothesis'].isna().sum()"
   ]
  },
  {
   "cell_type": "code",
   "execution_count": 11,
   "metadata": {
    "execution": {
     "iopub.execute_input": "2025-02-06T18:06:52.697097Z",
     "iopub.status.busy": "2025-02-06T18:06:52.696861Z",
     "iopub.status.idle": "2025-02-06T18:06:52.712559Z",
     "shell.execute_reply": "2025-02-06T18:06:52.711837Z",
     "shell.execute_reply.started": "2025-02-06T18:06:52.697067Z"
    },
    "trusted": true
   },
   "outputs": [
    {
     "data": {
      "text/html": [
       "<div>\n",
       "<style scoped>\n",
       "    .dataframe tbody tr th:only-of-type {\n",
       "        vertical-align: middle;\n",
       "    }\n",
       "\n",
       "    .dataframe tbody tr th {\n",
       "        vertical-align: top;\n",
       "    }\n",
       "\n",
       "    .dataframe thead th {\n",
       "        text-align: right;\n",
       "    }\n",
       "</style>\n",
       "<table border=\"1\" class=\"dataframe\">\n",
       "  <thead>\n",
       "    <tr style=\"text-align: right;\">\n",
       "      <th></th>\n",
       "      <th>premise</th>\n",
       "      <th>hypothesis</th>\n",
       "      <th>label</th>\n",
       "    </tr>\n",
       "  </thead>\n",
       "  <tbody>\n",
       "  </tbody>\n",
       "</table>\n",
       "</div>"
      ],
      "text/plain": [
       "Empty DataFrame\n",
       "Columns: [premise, hypothesis, label]\n",
       "Index: []"
      ]
     },
     "execution_count": 11,
     "metadata": {},
     "output_type": "execute_result"
    }
   ],
   "source": [
    "train_df[train_df['hypothesis'].isna()]"
   ]
  },
  {
   "cell_type": "code",
   "execution_count": 12,
   "metadata": {
    "execution": {
     "iopub.execute_input": "2025-02-06T18:06:52.713736Z",
     "iopub.status.busy": "2025-02-06T18:06:52.713444Z",
     "iopub.status.idle": "2025-02-06T18:06:52.726388Z",
     "shell.execute_reply": "2025-02-06T18:06:52.725480Z",
     "shell.execute_reply.started": "2025-02-06T18:06:52.713708Z"
    },
    "trusted": true
   },
   "outputs": [],
   "source": [
    "train_df.loc[train_df['hypothesis'].isna(), 'hypothesis'] = \"Martin has incited a response before\""
   ]
  },
  {
   "cell_type": "code",
   "execution_count": 13,
   "metadata": {
    "execution": {
     "iopub.execute_input": "2025-02-06T18:06:52.728230Z",
     "iopub.status.busy": "2025-02-06T18:06:52.728021Z",
     "iopub.status.idle": "2025-02-06T18:06:52.742359Z",
     "shell.execute_reply": "2025-02-06T18:06:52.741736Z",
     "shell.execute_reply.started": "2025-02-06T18:06:52.728211Z"
    },
    "trusted": true
   },
   "outputs": [
    {
     "data": {
      "text/html": [
       "<div>\n",
       "<style scoped>\n",
       "    .dataframe tbody tr th:only-of-type {\n",
       "        vertical-align: middle;\n",
       "    }\n",
       "\n",
       "    .dataframe tbody tr th {\n",
       "        vertical-align: top;\n",
       "    }\n",
       "\n",
       "    .dataframe thead th {\n",
       "        text-align: right;\n",
       "    }\n",
       "</style>\n",
       "<table border=\"1\" class=\"dataframe\">\n",
       "  <thead>\n",
       "    <tr style=\"text-align: right;\">\n",
       "      <th></th>\n",
       "      <th>premise</th>\n",
       "      <th>hypothesis</th>\n",
       "      <th>label</th>\n",
       "    </tr>\n",
       "  </thead>\n",
       "  <tbody>\n",
       "  </tbody>\n",
       "</table>\n",
       "</div>"
      ],
      "text/plain": [
       "Empty DataFrame\n",
       "Columns: [premise, hypothesis, label]\n",
       "Index: []"
      ]
     },
     "execution_count": 13,
     "metadata": {},
     "output_type": "execute_result"
    }
   ],
   "source": [
    "train_df[train_df['hypothesis'].isna()]"
   ]
  },
  {
   "cell_type": "code",
   "execution_count": 15,
   "metadata": {
    "execution": {
     "iopub.execute_input": "2025-02-06T18:07:12.055854Z",
     "iopub.status.busy": "2025-02-06T18:07:12.055521Z",
     "iopub.status.idle": "2025-02-06T18:07:12.065414Z",
     "shell.execute_reply": "2025-02-06T18:07:12.064801Z",
     "shell.execute_reply.started": "2025-02-06T18:07:12.055828Z"
    },
    "trusted": true
   },
   "outputs": [
    {
     "data": {
      "text/plain": [
       "label\n",
       "N    174\n",
       "C    119\n",
       "E     53\n",
       "Name: count, dtype: int64"
      ]
     },
     "execution_count": 15,
     "metadata": {},
     "output_type": "execute_result"
    }
   ],
   "source": [
    "train_df['label'].value_counts()"
   ]
  },
  {
   "cell_type": "code",
   "execution_count": 17,
   "metadata": {
    "execution": {
     "iopub.execute_input": "2025-02-06T18:07:27.650748Z",
     "iopub.status.busy": "2025-02-06T18:07:27.650413Z",
     "iopub.status.idle": "2025-02-06T18:07:27.654764Z",
     "shell.execute_reply": "2025-02-06T18:07:27.653986Z",
     "shell.execute_reply.started": "2025-02-06T18:07:27.650717Z"
    },
    "trusted": true
   },
   "outputs": [],
   "source": [
    "def encode_infersent_sentence(sentence,model):\n",
    "    return model.encode([sentence], tokenize=True)[0]"
   ]
  },
  {
   "cell_type": "code",
   "execution_count": 18,
   "metadata": {
    "execution": {
     "iopub.execute_input": "2025-02-06T18:07:30.860413Z",
     "iopub.status.busy": "2025-02-06T18:07:30.860113Z",
     "iopub.status.idle": "2025-02-06T18:07:30.864945Z",
     "shell.execute_reply": "2025-02-06T18:07:30.863957Z",
     "shell.execute_reply.started": "2025-02-06T18:07:30.860379Z"
    },
    "trusted": true
   },
   "outputs": [],
   "source": [
    "def get_sentence_embedding(row, model, glove):\n",
    "    premise = row['premise']\n",
    "    hypothesis = row['hypothesis'] \n",
    "    if glove:\n",
    "        embedded_premise = encode_glove_sentence(premise,model)\n",
    "        embedded_hypothesis = encode_glove_sentence(hypothesis,model)\n",
    "    else:\n",
    "        embedded_premise = encode_infersent_sentence(premise,model)\n",
    "        embedded_hypothesis = encode_infersent_sentence(hypothesis,model)\n",
    "    return np.concatenate((embedded_premise, embedded_hypothesis), axis=0)"
   ]
  },
  {
   "cell_type": "markdown",
   "metadata": {},
   "source": [
    "# InferSent "
   ]
  },
  {
   "cell_type": "code",
   "execution_count": 19,
   "metadata": {
    "execution": {
     "iopub.execute_input": "2025-02-06T18:07:43.372235Z",
     "iopub.status.busy": "2025-02-06T18:07:43.371929Z",
     "iopub.status.idle": "2025-02-06T18:07:43.375560Z",
     "shell.execute_reply": "2025-02-06T18:07:43.374742Z",
     "shell.execute_reply.started": "2025-02-06T18:07:43.372210Z"
    },
    "trusted": true
   },
   "outputs": [],
   "source": [
    "import sys"
   ]
  },
  {
   "cell_type": "code",
   "execution_count": 20,
   "metadata": {
    "execution": {
     "iopub.execute_input": "2025-02-06T18:07:46.575988Z",
     "iopub.status.busy": "2025-02-06T18:07:46.575631Z",
     "iopub.status.idle": "2025-02-06T18:07:46.579752Z",
     "shell.execute_reply": "2025-02-06T18:07:46.578889Z",
     "shell.execute_reply.started": "2025-02-06T18:07:46.575961Z"
    },
    "trusted": true
   },
   "outputs": [],
   "source": [
    "sys.path.append('/kaggle/input/infersent')"
   ]
  },
  {
   "cell_type": "code",
   "execution_count": 21,
   "metadata": {
    "execution": {
     "iopub.execute_input": "2025-02-06T18:07:49.571272Z",
     "iopub.status.busy": "2025-02-06T18:07:49.570991Z",
     "iopub.status.idle": "2025-02-06T18:07:49.576190Z",
     "shell.execute_reply": "2025-02-06T18:07:49.575453Z",
     "shell.execute_reply.started": "2025-02-06T18:07:49.571251Z"
    },
    "trusted": true
   },
   "outputs": [
    {
     "data": {
      "text/plain": [
       "['/kaggle/working',\n",
       " '/kaggle/lib/kagglegym',\n",
       " '/kaggle/lib',\n",
       " '/usr/lib/python310.zip',\n",
       " '/usr/lib/python3.10',\n",
       " '/usr/lib/python3.10/lib-dynload',\n",
       " '',\n",
       " '/usr/local/lib/python3.10/dist-packages',\n",
       " '/usr/lib/python3/dist-packages',\n",
       " '/usr/local/lib/python3.10/dist-packages/IPython/extensions',\n",
       " '/usr/local/lib/python3.10/dist-packages/setuptools/_vendor',\n",
       " '/root/.ipython',\n",
       " '/kaggle/input/infersent']"
      ]
     },
     "execution_count": 21,
     "metadata": {},
     "output_type": "execute_result"
    }
   ],
   "source": [
    "sys.path"
   ]
  },
  {
   "cell_type": "code",
   "execution_count": 22,
   "metadata": {
    "execution": {
     "iopub.execute_input": "2025-02-06T18:07:53.020190Z",
     "iopub.status.busy": "2025-02-06T18:07:53.019884Z",
     "iopub.status.idle": "2025-02-06T18:07:55.947546Z",
     "shell.execute_reply": "2025-02-06T18:07:55.946655Z",
     "shell.execute_reply.started": "2025-02-06T18:07:53.020164Z"
    },
    "trusted": true
   },
   "outputs": [],
   "source": [
    "from models import InferSent\n",
    "import torch"
   ]
  },
  {
   "cell_type": "code",
   "execution_count": 23,
   "metadata": {
    "execution": {
     "iopub.execute_input": "2025-02-06T18:08:00.435004Z",
     "iopub.status.busy": "2025-02-06T18:08:00.434685Z",
     "iopub.status.idle": "2025-02-06T18:08:00.438695Z",
     "shell.execute_reply": "2025-02-06T18:08:00.437884Z",
     "shell.execute_reply.started": "2025-02-06T18:08:00.434976Z"
    },
    "trusted": true
   },
   "outputs": [],
   "source": [
    "params_model = {\n",
    "    'bsize': 64,\n",
    "    'word_emb_dim': 300,\n",
    "    'enc_lstm_dim': 2048,\n",
    "    'pool_type': 'max',\n",
    "    'dpout_model': 0.0,\n",
    "    'n_enc_layers': 1,\n",
    "    'version': 2  # Use version 2 for fastText\n",
    "}"
   ]
  },
  {
   "cell_type": "code",
   "execution_count": 24,
   "metadata": {
    "execution": {
     "iopub.execute_input": "2025-02-06T18:08:04.314815Z",
     "iopub.status.busy": "2025-02-06T18:08:04.314497Z",
     "iopub.status.idle": "2025-02-06T18:08:06.002053Z",
     "shell.execute_reply": "2025-02-06T18:08:06.001317Z",
     "shell.execute_reply.started": "2025-02-06T18:08:04.314792Z"
    },
    "trusted": true
   },
   "outputs": [
    {
     "name": "stderr",
     "output_type": "stream",
     "text": [
      "<ipython-input-24-6d0716483458>:2: FutureWarning: You are using `torch.load` with `weights_only=False` (the current default value), which uses the default pickle module implicitly. It is possible to construct malicious pickle data which will execute arbitrary code during unpickling (See https://github.com/pytorch/pytorch/blob/main/SECURITY.md#untrusted-models for more details). In a future release, the default value for `weights_only` will be flipped to `True`. This limits the functions that could be executed during unpickling. Arbitrary objects will no longer be allowed to be loaded via this mode unless they are explicitly allowlisted by the user via `torch.serialization.add_safe_globals`. We recommend you start setting `weights_only=True` for any use case where you don't have full control of the loaded file. Please open an issue on GitHub for any issues related to this experimental feature.\n",
      "  infersent.load_state_dict(torch.load('/kaggle/input/infersent/infersent2.pkl'))\n"
     ]
    }
   ],
   "source": [
    "infersent = InferSent(params_model)\n",
    "infersent.load_state_dict(torch.load('/kaggle/input/infersent/infersent2.pkl'))\n",
    "infersent.set_w2v_path('/kaggle/input/infersent/crawl-300d-2M.vec/crawl-300d-2M.vec')"
   ]
  },
  {
   "cell_type": "code",
   "execution_count": 25,
   "metadata": {
    "execution": {
     "iopub.execute_input": "2025-02-06T18:08:11.776408Z",
     "iopub.status.busy": "2025-02-06T18:08:11.776103Z",
     "iopub.status.idle": "2025-02-06T18:08:11.782151Z",
     "shell.execute_reply": "2025-02-06T18:08:11.781374Z",
     "shell.execute_reply.started": "2025-02-06T18:08:11.776387Z"
    },
    "trusted": true
   },
   "outputs": [
    {
     "data": {
      "text/plain": [
       "692"
      ]
     },
     "execution_count": 25,
     "metadata": {},
     "output_type": "execute_result"
    }
   ],
   "source": [
    "premises = train_df['premise'].tolist()\n",
    "hypotheses = train_df['hypothesis'].tolist()\n",
    "all_sentences = premises + hypotheses\n",
    "len(all_sentences)"
   ]
  },
  {
   "cell_type": "code",
   "execution_count": 26,
   "metadata": {
    "execution": {
     "iopub.execute_input": "2025-02-06T18:08:16.134162Z",
     "iopub.status.busy": "2025-02-06T18:08:16.133845Z",
     "iopub.status.idle": "2025-02-06T18:09:02.205282Z",
     "shell.execute_reply": "2025-02-06T18:09:02.204510Z",
     "shell.execute_reply.started": "2025-02-06T18:08:16.134135Z"
    },
    "trusted": true
   },
   "outputs": [
    {
     "name": "stdout",
     "output_type": "stream",
     "text": [
      "Found 3003(/3061) words with w2v vectors\n",
      "Vocab size : 3003\n"
     ]
    }
   ],
   "source": [
    "infersent.build_vocab(all_sentences, tokenize=True)"
   ]
  },
  {
   "cell_type": "code",
   "execution_count": 30,
   "metadata": {
    "execution": {
     "iopub.execute_input": "2025-02-06T18:12:59.930791Z",
     "iopub.status.busy": "2025-02-06T18:12:59.930464Z",
     "iopub.status.idle": "2025-02-06T18:23:11.199835Z",
     "shell.execute_reply": "2025-02-06T18:23:11.198920Z",
     "shell.execute_reply.started": "2025-02-06T18:12:59.930765Z"
    },
    "trusted": true
   },
   "outputs": [
    {
     "data": {
      "text/html": [
       "<div>\n",
       "<style scoped>\n",
       "    .dataframe tbody tr th:only-of-type {\n",
       "        vertical-align: middle;\n",
       "    }\n",
       "\n",
       "    .dataframe tbody tr th {\n",
       "        vertical-align: top;\n",
       "    }\n",
       "\n",
       "    .dataframe thead th {\n",
       "        text-align: right;\n",
       "    }\n",
       "</style>\n",
       "<table border=\"1\" class=\"dataframe\">\n",
       "  <thead>\n",
       "    <tr style=\"text-align: right;\">\n",
       "      <th></th>\n",
       "      <th>premise</th>\n",
       "      <th>hypothesis</th>\n",
       "      <th>label</th>\n",
       "      <th>infersent_embedding</th>\n",
       "    </tr>\n",
       "  </thead>\n",
       "  <tbody>\n",
       "    <tr>\n",
       "      <th>0</th>\n",
       "      <td>The cops had him in their headlights. He ran h...</td>\n",
       "      <td>He was standing earlier.</td>\n",
       "      <td>E</td>\n",
       "      <td>[0.007468892, 0.03203444, 0.04845412, -0.01464...</td>\n",
       "    </tr>\n",
       "    <tr>\n",
       "      <th>1</th>\n",
       "      <td>The cops had him in their headlights. He ran h...</td>\n",
       "      <td>He was standing earlier.</td>\n",
       "      <td>E</td>\n",
       "      <td>[0.007468892, 0.038435545, 0.050097045, -0.014...</td>\n",
       "    </tr>\n",
       "    <tr>\n",
       "      <th>2</th>\n",
       "      <td>For three nights a comet flared through the de...</td>\n",
       "      <td>A red smudge couldn't be seen on the moon before.</td>\n",
       "      <td>E</td>\n",
       "      <td>[0.007468892, -0.0007842227, 0.14356619, 0.004...</td>\n",
       "    </tr>\n",
       "    <tr>\n",
       "      <th>3</th>\n",
       "      <td>For three nights a comet flared through the de...</td>\n",
       "      <td>A red smudge couldn't be seen on the moon before.</td>\n",
       "      <td>E</td>\n",
       "      <td>[0.007468892, -0.05326221, 0.14356619, 0.00425...</td>\n",
       "    </tr>\n",
       "    <tr>\n",
       "      <th>4</th>\n",
       "      <td>\" He just thinks it's so much bull--. He's not...</td>\n",
       "      <td>We are someone.</td>\n",
       "      <td>N</td>\n",
       "      <td>[0.007468892, 0.011753598, -0.0028223312, -0.0...</td>\n",
       "    </tr>\n",
       "    <tr>\n",
       "      <th>...</th>\n",
       "      <td>...</td>\n",
       "      <td>...</td>\n",
       "      <td>...</td>\n",
       "      <td>...</td>\n",
       "    </tr>\n",
       "    <tr>\n",
       "      <th>2381</th>\n",
       "      <td>I've worked obviously suspicious gobblers for ...</td>\n",
       "      <td>They will react in some way.</td>\n",
       "      <td>E</td>\n",
       "      <td>[0.007468892, -0.022970343, 0.0821531, -0.0079...</td>\n",
       "    </tr>\n",
       "    <tr>\n",
       "      <th>2382</th>\n",
       "      <td>And, of course, at that time my dad was dying,...</td>\n",
       "      <td>Something happened.</td>\n",
       "      <td>E</td>\n",
       "      <td>[0.007468892, 0.17131606, 0.056704275, -0.0137...</td>\n",
       "    </tr>\n",
       "    <tr>\n",
       "      <th>2383</th>\n",
       "      <td>And, of course, at that time my dad was dying,...</td>\n",
       "      <td>Something happened.</td>\n",
       "      <td>E</td>\n",
       "      <td>[0.007468892, 0.17131606, 0.056704275, -0.0137...</td>\n",
       "    </tr>\n",
       "    <tr>\n",
       "      <th>2384</th>\n",
       "      <td>I felt grubby just looking at her.  I don't kn...</td>\n",
       "      <td>Elissa has a favorite hobby.</td>\n",
       "      <td>N</td>\n",
       "      <td>[0.007468892, -0.016200515, 0.123232596, -0.00...</td>\n",
       "    </tr>\n",
       "    <tr>\n",
       "      <th>2385</th>\n",
       "      <td>I felt grubby just looking at her.  I know wha...</td>\n",
       "      <td>Elissa has a favorite hobby.</td>\n",
       "      <td>E</td>\n",
       "      <td>[0.007468892, -0.017822599, 0.14365709, -0.007...</td>\n",
       "    </tr>\n",
       "  </tbody>\n",
       "</table>\n",
       "<p>2386 rows × 4 columns</p>\n",
       "</div>"
      ],
      "text/plain": [
       "                                                premise  \\\n",
       "0     The cops had him in their headlights. He ran h...   \n",
       "1     The cops had him in their headlights. He ran h...   \n",
       "2     For three nights a comet flared through the de...   \n",
       "3     For three nights a comet flared through the de...   \n",
       "4     \" He just thinks it's so much bull--. He's not...   \n",
       "...                                                 ...   \n",
       "2381  I've worked obviously suspicious gobblers for ...   \n",
       "2382  And, of course, at that time my dad was dying,...   \n",
       "2383  And, of course, at that time my dad was dying,...   \n",
       "2384  I felt grubby just looking at her.  I don't kn...   \n",
       "2385  I felt grubby just looking at her.  I know wha...   \n",
       "\n",
       "                                             hypothesis label  \\\n",
       "0                              He was standing earlier.     E   \n",
       "1                              He was standing earlier.     E   \n",
       "2     A red smudge couldn't be seen on the moon before.     E   \n",
       "3     A red smudge couldn't be seen on the moon before.     E   \n",
       "4                                       We are someone.     N   \n",
       "...                                                 ...   ...   \n",
       "2381                       They will react in some way.     E   \n",
       "2382                                Something happened.     E   \n",
       "2383                                Something happened.     E   \n",
       "2384                       Elissa has a favorite hobby.     N   \n",
       "2385                       Elissa has a favorite hobby.     E   \n",
       "\n",
       "                                    infersent_embedding  \n",
       "0     [0.007468892, 0.03203444, 0.04845412, -0.01464...  \n",
       "1     [0.007468892, 0.038435545, 0.050097045, -0.014...  \n",
       "2     [0.007468892, -0.0007842227, 0.14356619, 0.004...  \n",
       "3     [0.007468892, -0.05326221, 0.14356619, 0.00425...  \n",
       "4     [0.007468892, 0.011753598, -0.0028223312, -0.0...  \n",
       "...                                                 ...  \n",
       "2381  [0.007468892, -0.022970343, 0.0821531, -0.0079...  \n",
       "2382  [0.007468892, 0.17131606, 0.056704275, -0.0137...  \n",
       "2383  [0.007468892, 0.17131606, 0.056704275, -0.0137...  \n",
       "2384  [0.007468892, -0.016200515, 0.123232596, -0.00...  \n",
       "2385  [0.007468892, -0.017822599, 0.14365709, -0.007...  \n",
       "\n",
       "[2386 rows x 4 columns]"
      ]
     },
     "execution_count": 30,
     "metadata": {},
     "output_type": "execute_result"
    }
   ],
   "source": [
    "train_df['infersent_embedding'] = train_df.apply(lambda row: get_sentence_embedding(row,infersent,False), axis=1)\n",
    "train_df"
   ]
  },
  {
   "cell_type": "code",
   "execution_count": 32,
   "metadata": {
    "execution": {
     "iopub.execute_input": "2025-02-06T18:24:37.763283Z",
     "iopub.status.busy": "2025-02-06T18:24:37.762987Z",
     "iopub.status.idle": "2025-02-06T18:29:43.377103Z",
     "shell.execute_reply": "2025-02-06T18:29:43.376220Z",
     "shell.execute_reply.started": "2025-02-06T18:24:37.763260Z"
    },
    "trusted": true
   },
   "outputs": [
    {
     "name": "stderr",
     "output_type": "stream",
     "text": [
      "/usr/local/lib/python3.10/dist-packages/pandas/io/formats/format.py:1458: RuntimeWarning: invalid value encountered in greater\n",
      "  has_large_values = (abs_vals > 1e6).any()\n",
      "/usr/local/lib/python3.10/dist-packages/pandas/io/formats/format.py:1459: RuntimeWarning: invalid value encountered in less\n",
      "  has_small_values = ((abs_vals < 10 ** (-self.digits)) & (abs_vals > 0)).any()\n",
      "/usr/local/lib/python3.10/dist-packages/pandas/io/formats/format.py:1459: RuntimeWarning: invalid value encountered in greater\n",
      "  has_small_values = ((abs_vals < 10 ** (-self.digits)) & (abs_vals > 0)).any()\n"
     ]
    },
    {
     "data": {
      "text/html": [
       "<div>\n",
       "<style scoped>\n",
       "    .dataframe tbody tr th:only-of-type {\n",
       "        vertical-align: middle;\n",
       "    }\n",
       "\n",
       "    .dataframe tbody tr th {\n",
       "        vertical-align: top;\n",
       "    }\n",
       "\n",
       "    .dataframe thead th {\n",
       "        text-align: right;\n",
       "    }\n",
       "</style>\n",
       "<table border=\"1\" class=\"dataframe\">\n",
       "  <thead>\n",
       "    <tr style=\"text-align: right;\">\n",
       "      <th></th>\n",
       "      <th>premise</th>\n",
       "      <th>hypothesis</th>\n",
       "      <th>gold_label</th>\n",
       "      <th>type</th>\n",
       "      <th>infersent_embedding</th>\n",
       "    </tr>\n",
       "  </thead>\n",
       "  <tbody>\n",
       "    <tr>\n",
       "      <th>9600.0</th>\n",
       "      <td>If Jessica attends the conference, her colleag...</td>\n",
       "      <td>Jessica has a colleague.</td>\n",
       "      <td>E</td>\n",
       "      <td>type5_possessive</td>\n",
       "      <td>[0.007931139, -0.03935728, 0.033044647, 0.0028...</td>\n",
       "    </tr>\n",
       "    <tr>\n",
       "      <th>9601.0</th>\n",
       "      <td>It's not the case that if Jessica attends the ...</td>\n",
       "      <td>Jessica has a colleague.</td>\n",
       "      <td>E</td>\n",
       "      <td>type5_possessive</td>\n",
       "      <td>[0.007468892, -0.06974457, 0.027900899, -0.002...</td>\n",
       "    </tr>\n",
       "    <tr>\n",
       "      <th>9602.0</th>\n",
       "      <td>Sam believes that if Jessica attends the confe...</td>\n",
       "      <td>Jessica has a colleague.</td>\n",
       "      <td>E</td>\n",
       "      <td>type5_possessive</td>\n",
       "      <td>[0.007468892, -0.07049216, 0.0324064, -0.00581...</td>\n",
       "    </tr>\n",
       "    <tr>\n",
       "      <th>9603.0</th>\n",
       "      <td>Is it true that if Jessica attends the confere...</td>\n",
       "      <td>Jessica has a colleague.</td>\n",
       "      <td>E</td>\n",
       "      <td>type5_possessive</td>\n",
       "      <td>[0.007468892, -0.07607672, 0.03115779, -0.0087...</td>\n",
       "    </tr>\n",
       "    <tr>\n",
       "      <th>9620.0</th>\n",
       "      <td>If Mia's car breaks down, her coworker will gi...</td>\n",
       "      <td>Mia has a coworker.</td>\n",
       "      <td>E</td>\n",
       "      <td>type5_possessive</td>\n",
       "      <td>[0.007468892, -0.03935728, 0.07524779, 0.00283...</td>\n",
       "    </tr>\n",
       "    <tr>\n",
       "      <th>...</th>\n",
       "      <td>...</td>\n",
       "      <td>...</td>\n",
       "      <td>...</td>\n",
       "      <td>...</td>\n",
       "      <td>...</td>\n",
       "    </tr>\n",
       "    <tr>\n",
       "      <th>NaN</th>\n",
       "      <td>If Margaret graduates from college, her parent...</td>\n",
       "      <td>Margaret has siblings.</td>\n",
       "      <td>N</td>\n",
       "      <td>type5_possessive</td>\n",
       "      <td>[0.007468892, 0.031347092, 0.044580307, 0.0028...</td>\n",
       "    </tr>\n",
       "    <tr>\n",
       "      <th>NaN</th>\n",
       "      <td>It's not the case that if Margaret graduates f...</td>\n",
       "      <td>Margaret has siblings.</td>\n",
       "      <td>N</td>\n",
       "      <td>type5_possessive</td>\n",
       "      <td>[0.007468892, 0.022742745, 0.039393745, -0.002...</td>\n",
       "    </tr>\n",
       "    <tr>\n",
       "      <th>NaN</th>\n",
       "      <td>Sam believes that if Margaret graduates from c...</td>\n",
       "      <td>Margaret has siblings.</td>\n",
       "      <td>N</td>\n",
       "      <td>type5_possessive</td>\n",
       "      <td>[0.007468892, 0.029288229, 0.04385548, -0.0058...</td>\n",
       "    </tr>\n",
       "    <tr>\n",
       "      <th>NaN</th>\n",
       "      <td>Is it true that if Margaret graduates from col...</td>\n",
       "      <td>Margaret has siblings.</td>\n",
       "      <td>N</td>\n",
       "      <td>type5_possessive</td>\n",
       "      <td>[0.007468892, 0.02673387, 0.042596295, -0.0087...</td>\n",
       "    </tr>\n",
       "    <tr>\n",
       "      <th>NaN</th>\n",
       "      <td>If Margaret graduates from college, her parent...</td>\n",
       "      <td>Margaret has graduated from college, but her p...</td>\n",
       "      <td>C</td>\n",
       "      <td>type5_possessive</td>\n",
       "      <td>[0.007468892, 0.031347092, 0.044580307, 0.0028...</td>\n",
       "    </tr>\n",
       "  </tbody>\n",
       "</table>\n",
       "<p>2348 rows × 5 columns</p>\n",
       "</div>"
      ],
      "text/plain": [
       "                                                  premise  \\\n",
       "9600.0  If Jessica attends the conference, her colleag...   \n",
       "9601.0  It's not the case that if Jessica attends the ...   \n",
       "9602.0  Sam believes that if Jessica attends the confe...   \n",
       "9603.0  Is it true that if Jessica attends the confere...   \n",
       "9620.0  If Mia's car breaks down, her coworker will gi...   \n",
       "...                                                   ...   \n",
       "NaN     If Margaret graduates from college, her parent...   \n",
       "NaN     It's not the case that if Margaret graduates f...   \n",
       "NaN     Sam believes that if Margaret graduates from c...   \n",
       "NaN     Is it true that if Margaret graduates from col...   \n",
       "NaN     If Margaret graduates from college, her parent...   \n",
       "\n",
       "                                               hypothesis gold_label  \\\n",
       "9600.0                           Jessica has a colleague.          E   \n",
       "9601.0                           Jessica has a colleague.          E   \n",
       "9602.0                           Jessica has a colleague.          E   \n",
       "9603.0                           Jessica has a colleague.          E   \n",
       "9620.0                                Mia has a coworker.          E   \n",
       "...                                                   ...        ...   \n",
       "NaN                                Margaret has siblings.          N   \n",
       "NaN                                Margaret has siblings.          N   \n",
       "NaN                                Margaret has siblings.          N   \n",
       "NaN                                Margaret has siblings.          N   \n",
       "NaN     Margaret has graduated from college, but her p...          C   \n",
       "\n",
       "                    type                                infersent_embedding  \n",
       "9600.0  type5_possessive  [0.007931139, -0.03935728, 0.033044647, 0.0028...  \n",
       "9601.0  type5_possessive  [0.007468892, -0.06974457, 0.027900899, -0.002...  \n",
       "9602.0  type5_possessive  [0.007468892, -0.07049216, 0.0324064, -0.00581...  \n",
       "9603.0  type5_possessive  [0.007468892, -0.07607672, 0.03115779, -0.0087...  \n",
       "9620.0  type5_possessive  [0.007468892, -0.03935728, 0.07524779, 0.00283...  \n",
       "...                  ...                                                ...  \n",
       "NaN     type5_possessive  [0.007468892, 0.031347092, 0.044580307, 0.0028...  \n",
       "NaN     type5_possessive  [0.007468892, 0.022742745, 0.039393745, -0.002...  \n",
       "NaN     type5_possessive  [0.007468892, 0.029288229, 0.04385548, -0.0058...  \n",
       "NaN     type5_possessive  [0.007468892, 0.02673387, 0.042596295, -0.0087...  \n",
       "NaN     type5_possessive  [0.007468892, 0.031347092, 0.044580307, 0.0028...  \n",
       "\n",
       "[2348 rows x 5 columns]"
      ]
     },
     "execution_count": 32,
     "metadata": {},
     "output_type": "execute_result"
    }
   ],
   "source": [
    "valid_df['infersent_embedding'] = valid_df.apply(lambda row: get_sentence_embedding(row,infersent,False), axis=1)\n",
    "valid_df"
   ]
  },
  {
   "cell_type": "code",
   "execution_count": 33,
   "metadata": {
    "execution": {
     "iopub.execute_input": "2025-02-06T18:30:23.793747Z",
     "iopub.status.busy": "2025-02-06T18:30:23.793387Z",
     "iopub.status.idle": "2025-02-06T18:35:32.078095Z",
     "shell.execute_reply": "2025-02-06T18:35:32.077089Z",
     "shell.execute_reply.started": "2025-02-06T18:30:23.793720Z"
    },
    "trusted": true
   },
   "outputs": [
    {
     "name": "stderr",
     "output_type": "stream",
     "text": [
      "/usr/local/lib/python3.10/dist-packages/pandas/io/formats/format.py:1458: RuntimeWarning: invalid value encountered in greater\n",
      "  has_large_values = (abs_vals > 1e6).any()\n",
      "/usr/local/lib/python3.10/dist-packages/pandas/io/formats/format.py:1459: RuntimeWarning: invalid value encountered in less\n",
      "  has_small_values = ((abs_vals < 10 ** (-self.digits)) & (abs_vals > 0)).any()\n",
      "/usr/local/lib/python3.10/dist-packages/pandas/io/formats/format.py:1459: RuntimeWarning: invalid value encountered in greater\n",
      "  has_small_values = ((abs_vals < 10 ** (-self.digits)) & (abs_vals > 0)).any()\n"
     ]
    },
    {
     "data": {
      "text/html": [
       "<div>\n",
       "<style scoped>\n",
       "    .dataframe tbody tr th:only-of-type {\n",
       "        vertical-align: middle;\n",
       "    }\n",
       "\n",
       "    .dataframe tbody tr th {\n",
       "        vertical-align: top;\n",
       "    }\n",
       "\n",
       "    .dataframe thead th {\n",
       "        text-align: right;\n",
       "    }\n",
       "</style>\n",
       "<table border=\"1\" class=\"dataframe\">\n",
       "  <thead>\n",
       "    <tr style=\"text-align: right;\">\n",
       "      <th></th>\n",
       "      <th>premise</th>\n",
       "      <th>hypothesis</th>\n",
       "      <th>gold_label</th>\n",
       "      <th>type</th>\n",
       "      <th>infersent_embedding</th>\n",
       "    </tr>\n",
       "  </thead>\n",
       "  <tbody>\n",
       "    <tr>\n",
       "      <th>9616.0</th>\n",
       "      <td>If Charlotte passes her driving test, her pare...</td>\n",
       "      <td>Charlotte has parents.</td>\n",
       "      <td>E</td>\n",
       "      <td>type5_possessive</td>\n",
       "      <td>[0.007468892, 0.026446497, 0.06769888, 0.00283...</td>\n",
       "    </tr>\n",
       "    <tr>\n",
       "      <th>9617.0</th>\n",
       "      <td>It's not the case that if Charlotte passes her...</td>\n",
       "      <td>Charlotte has parents.</td>\n",
       "      <td>E</td>\n",
       "      <td>type5_possessive</td>\n",
       "      <td>[0.007468892, 0.020148389, 0.062289998, -0.002...</td>\n",
       "    </tr>\n",
       "    <tr>\n",
       "      <th>9618.0</th>\n",
       "      <td>Sam believes that if Charlotte passes her driv...</td>\n",
       "      <td>Charlotte has parents.</td>\n",
       "      <td>E</td>\n",
       "      <td>type5_possessive</td>\n",
       "      <td>[0.015326867, 0.02471645, 0.06731029, -0.00581...</td>\n",
       "    </tr>\n",
       "    <tr>\n",
       "      <th>9619.0</th>\n",
       "      <td>Is it true that if Charlotte passes her drivin...</td>\n",
       "      <td>Charlotte has parents.</td>\n",
       "      <td>E</td>\n",
       "      <td>type5_possessive</td>\n",
       "      <td>[0.01206528, 0.022741662, 0.066079706, -0.0087...</td>\n",
       "    </tr>\n",
       "    <tr>\n",
       "      <th>9628.0</th>\n",
       "      <td>If Lily takes the train to the city, her frien...</td>\n",
       "      <td>Lily has a friend.</td>\n",
       "      <td>E</td>\n",
       "      <td>type5_possessive</td>\n",
       "      <td>[0.007468892, -0.03935728, 0.086878315, 0.0028...</td>\n",
       "    </tr>\n",
       "    <tr>\n",
       "      <th>...</th>\n",
       "      <td>...</td>\n",
       "      <td>...</td>\n",
       "      <td>...</td>\n",
       "      <td>...</td>\n",
       "      <td>...</td>\n",
       "    </tr>\n",
       "    <tr>\n",
       "      <th>NaN</th>\n",
       "      <td>If Sophia decides to attend the concert, his b...</td>\n",
       "      <td>Sophia has a close friend.</td>\n",
       "      <td>N</td>\n",
       "      <td>type5_possessive</td>\n",
       "      <td>[0.007468892, 0.032791648, 0.12810943, 0.00283...</td>\n",
       "    </tr>\n",
       "    <tr>\n",
       "      <th>NaN</th>\n",
       "      <td>It's not the case that if Sophia decides to at...</td>\n",
       "      <td>Sophia has a close friend.</td>\n",
       "      <td>N</td>\n",
       "      <td>type5_possessive</td>\n",
       "      <td>[0.007468892, 0.025917467, 0.12099816, -0.0029...</td>\n",
       "    </tr>\n",
       "    <tr>\n",
       "      <th>NaN</th>\n",
       "      <td>Sam believes that if Sophia decides to attend ...</td>\n",
       "      <td>Sophia has a close friend.</td>\n",
       "      <td>N</td>\n",
       "      <td>type5_possessive</td>\n",
       "      <td>[0.007468892, 0.031093657, 0.12866497, -0.0058...</td>\n",
       "    </tr>\n",
       "    <tr>\n",
       "      <th>NaN</th>\n",
       "      <td>Is it true that if Sophia decides to attend th...</td>\n",
       "      <td>Sophia has a close friend.</td>\n",
       "      <td>N</td>\n",
       "      <td>type5_possessive</td>\n",
       "      <td>[0.007468892, 0.02912562, 0.12740122, -0.00872...</td>\n",
       "    </tr>\n",
       "    <tr>\n",
       "      <th>NaN</th>\n",
       "      <td>If Sophia decides to attend the concert, his b...</td>\n",
       "      <td>Sophia has decided to attend the concert, but ...</td>\n",
       "      <td>C</td>\n",
       "      <td>type5_possessive</td>\n",
       "      <td>[0.007468892, 0.032791648, 0.12810943, 0.00283...</td>\n",
       "    </tr>\n",
       "  </tbody>\n",
       "</table>\n",
       "<p>2367 rows × 5 columns</p>\n",
       "</div>"
      ],
      "text/plain": [
       "                                                  premise  \\\n",
       "9616.0  If Charlotte passes her driving test, her pare...   \n",
       "9617.0  It's not the case that if Charlotte passes her...   \n",
       "9618.0  Sam believes that if Charlotte passes her driv...   \n",
       "9619.0  Is it true that if Charlotte passes her drivin...   \n",
       "9628.0  If Lily takes the train to the city, her frien...   \n",
       "...                                                   ...   \n",
       "NaN     If Sophia decides to attend the concert, his b...   \n",
       "NaN     It's not the case that if Sophia decides to at...   \n",
       "NaN     Sam believes that if Sophia decides to attend ...   \n",
       "NaN     Is it true that if Sophia decides to attend th...   \n",
       "NaN     If Sophia decides to attend the concert, his b...   \n",
       "\n",
       "                                               hypothesis gold_label  \\\n",
       "9616.0                             Charlotte has parents.          E   \n",
       "9617.0                             Charlotte has parents.          E   \n",
       "9618.0                             Charlotte has parents.          E   \n",
       "9619.0                             Charlotte has parents.          E   \n",
       "9628.0                                 Lily has a friend.          E   \n",
       "...                                                   ...        ...   \n",
       "NaN                            Sophia has a close friend.          N   \n",
       "NaN                            Sophia has a close friend.          N   \n",
       "NaN                            Sophia has a close friend.          N   \n",
       "NaN                            Sophia has a close friend.          N   \n",
       "NaN     Sophia has decided to attend the concert, but ...          C   \n",
       "\n",
       "                    type                                infersent_embedding  \n",
       "9616.0  type5_possessive  [0.007468892, 0.026446497, 0.06769888, 0.00283...  \n",
       "9617.0  type5_possessive  [0.007468892, 0.020148389, 0.062289998, -0.002...  \n",
       "9618.0  type5_possessive  [0.015326867, 0.02471645, 0.06731029, -0.00581...  \n",
       "9619.0  type5_possessive  [0.01206528, 0.022741662, 0.066079706, -0.0087...  \n",
       "9628.0  type5_possessive  [0.007468892, -0.03935728, 0.086878315, 0.0028...  \n",
       "...                  ...                                                ...  \n",
       "NaN     type5_possessive  [0.007468892, 0.032791648, 0.12810943, 0.00283...  \n",
       "NaN     type5_possessive  [0.007468892, 0.025917467, 0.12099816, -0.0029...  \n",
       "NaN     type5_possessive  [0.007468892, 0.031093657, 0.12866497, -0.0058...  \n",
       "NaN     type5_possessive  [0.007468892, 0.02912562, 0.12740122, -0.00872...  \n",
       "NaN     type5_possessive  [0.007468892, 0.032791648, 0.12810943, 0.00283...  \n",
       "\n",
       "[2367 rows x 5 columns]"
      ]
     },
     "execution_count": 33,
     "metadata": {},
     "output_type": "execute_result"
    }
   ],
   "source": [
    "test_df['infersent_embedding'] = test_df.apply(lambda row: get_sentence_embedding(row,infersent,False), axis=1)\n",
    "test_df"
   ]
  },
  {
   "cell_type": "code",
   "execution_count": 26,
   "metadata": {
    "execution": {
     "iopub.execute_input": "2025-02-06T15:44:40.841788Z",
     "iopub.status.busy": "2025-02-06T15:44:40.841450Z",
     "iopub.status.idle": "2025-02-06T15:44:40.869729Z",
     "shell.execute_reply": "2025-02-06T15:44:40.869006Z",
     "shell.execute_reply.started": "2025-02-06T15:44:40.841763Z"
    },
    "trusted": true
   },
   "outputs": [
    {
     "name": "stderr",
     "output_type": "stream",
     "text": [
      "/usr/local/lib/python3.10/dist-packages/pandas/io/formats/format.py:1458: RuntimeWarning: invalid value encountered in greater\n",
      "  has_large_values = (abs_vals > 1e6).any()\n",
      "/usr/local/lib/python3.10/dist-packages/pandas/io/formats/format.py:1459: RuntimeWarning: invalid value encountered in less\n",
      "  has_small_values = ((abs_vals < 10 ** (-self.digits)) & (abs_vals > 0)).any()\n",
      "/usr/local/lib/python3.10/dist-packages/pandas/io/formats/format.py:1459: RuntimeWarning: invalid value encountered in greater\n",
      "  has_small_values = ((abs_vals < 10 ** (-self.digits)) & (abs_vals > 0)).any()\n"
     ]
    },
    {
     "data": {
      "text/html": [
       "<div>\n",
       "<style scoped>\n",
       "    .dataframe tbody tr th:only-of-type {\n",
       "        vertical-align: middle;\n",
       "    }\n",
       "\n",
       "    .dataframe tbody tr th {\n",
       "        vertical-align: top;\n",
       "    }\n",
       "\n",
       "    .dataframe thead th {\n",
       "        text-align: right;\n",
       "    }\n",
       "</style>\n",
       "<table border=\"1\" class=\"dataframe\">\n",
       "  <thead>\n",
       "    <tr style=\"text-align: right;\">\n",
       "      <th></th>\n",
       "      <th>premise</th>\n",
       "      <th>hypothesis</th>\n",
       "      <th>gold_label</th>\n",
       "      <th>type</th>\n",
       "      <th>glove_embedding</th>\n",
       "      <th>infersent_embedding</th>\n",
       "    </tr>\n",
       "  </thead>\n",
       "  <tbody>\n",
       "    <tr>\n",
       "      <th>9604.0</th>\n",
       "      <td>If Emily passes her driving test, her best fri...</td>\n",
       "      <td>Emily has a best friend.</td>\n",
       "      <td>E</td>\n",
       "      <td>type5_possessive</td>\n",
       "      <td>[0.069057465, 0.38865215, -0.1840484, -0.21967...</td>\n",
       "      <td>[0.007468892, -0.03935728, 0.14250019, 0.00283...</td>\n",
       "    </tr>\n",
       "    <tr>\n",
       "      <th>9605.0</th>\n",
       "      <td>It's not the case that if Emily passes her dri...</td>\n",
       "      <td>Emily has a best friend.</td>\n",
       "      <td>E</td>\n",
       "      <td>type5_possessive</td>\n",
       "      <td>[0.21939042, 0.25260824, -0.14202265, -0.12464...</td>\n",
       "      <td>[0.007468892, -0.0651099, 0.13684836, -0.00299...</td>\n",
       "    </tr>\n",
       "    <tr>\n",
       "      <th>9606.0</th>\n",
       "      <td>Sam believes that if Emily passes her driving ...</td>\n",
       "      <td>Emily has a best friend.</td>\n",
       "      <td>E</td>\n",
       "      <td>type5_possessive</td>\n",
       "      <td>[0.15687543, 0.30070943, -0.10854657, -0.17401...</td>\n",
       "      <td>[0.007468892, -0.011386951, 0.1386209, -0.0106...</td>\n",
       "    </tr>\n",
       "    <tr>\n",
       "      <th>9607.0</th>\n",
       "      <td>Is it true that if Emily passes her driving te...</td>\n",
       "      <td>Emily has a best friend.</td>\n",
       "      <td>E</td>\n",
       "      <td>type5_possessive</td>\n",
       "      <td>[0.18888807, 0.30759755, -0.12772465, -0.16519...</td>\n",
       "      <td>[0.007468892, 0.014787662, 0.13787052, -0.0069...</td>\n",
       "    </tr>\n",
       "    <tr>\n",
       "      <th>9608.0</th>\n",
       "      <td>If Scarlett finishes her work early, her husba...</td>\n",
       "      <td>Scarlett has a husband.</td>\n",
       "      <td>E</td>\n",
       "      <td>type5_possessive</td>\n",
       "      <td>[0.24861601, 0.38644078, -0.21351472, -0.27863...</td>\n",
       "      <td>[0.007468892, 0.103102095, 0.05695953, 0.00852...</td>\n",
       "    </tr>\n",
       "    <tr>\n",
       "      <th>...</th>\n",
       "      <td>...</td>\n",
       "      <td>...</td>\n",
       "      <td>...</td>\n",
       "      <td>...</td>\n",
       "      <td>...</td>\n",
       "      <td>...</td>\n",
       "    </tr>\n",
       "    <tr>\n",
       "      <th>NaN</th>\n",
       "      <td>If Emily passes her driving test, her best fri...</td>\n",
       "      <td>Emily has a sister.</td>\n",
       "      <td>N</td>\n",
       "      <td>type5_possessive</td>\n",
       "      <td>[0.069057465, 0.38865215, -0.1840484, -0.21967...</td>\n",
       "      <td>[0.007468892, -0.03935728, 0.14250019, 0.00283...</td>\n",
       "    </tr>\n",
       "    <tr>\n",
       "      <th>NaN</th>\n",
       "      <td>It's not the case that if Scarlett finishes he...</td>\n",
       "      <td>Scarlett has a sister-in-law.</td>\n",
       "      <td>N</td>\n",
       "      <td>type5_possessive</td>\n",
       "      <td>[0.36916268, 0.22392519, -0.1532617, -0.144940...</td>\n",
       "      <td>[0.007468892, 0.097746775, 0.044877727, -0.002...</td>\n",
       "    </tr>\n",
       "    <tr>\n",
       "      <th>NaN</th>\n",
       "      <td>Sam believes that if Chloe finishes his work e...</td>\n",
       "      <td>Chloe has a boss.</td>\n",
       "      <td>N</td>\n",
       "      <td>type5_possessive</td>\n",
       "      <td>[0.29448354, 0.089123614, -0.019394852, -0.256...</td>\n",
       "      <td>[0.007468892, 0.029498454, 0.050322294, -0.026...</td>\n",
       "    </tr>\n",
       "    <tr>\n",
       "      <th>NaN</th>\n",
       "      <td>Is it true that if Ryan passes his driving tes...</td>\n",
       "      <td>Ryan has siblings.</td>\n",
       "      <td>N</td>\n",
       "      <td>type5_possessive</td>\n",
       "      <td>[0.32404217, 0.17202039, 0.010957494, -0.28846...</td>\n",
       "      <td>[0.007468892, 0.051100645, 0.17894739, -0.0069...</td>\n",
       "    </tr>\n",
       "    <tr>\n",
       "      <th>NaN</th>\n",
       "      <td>If Ryan passes his driving test, his parents w...</td>\n",
       "      <td>Ryan does not have parents</td>\n",
       "      <td>C</td>\n",
       "      <td>type5_possessive</td>\n",
       "      <td>[0.1968945, 0.23594557, -0.011227503, -0.43862...</td>\n",
       "      <td>[0.007468892, 0.0570666, 0.18063141, 0.0028372...</td>\n",
       "    </tr>\n",
       "  </tbody>\n",
       "</table>\n",
       "<p>6486 rows × 6 columns</p>\n",
       "</div>"
      ],
      "text/plain": [
       "                                                  premise  \\\n",
       "9604.0  If Emily passes her driving test, her best fri...   \n",
       "9605.0  It's not the case that if Emily passes her dri...   \n",
       "9606.0  Sam believes that if Emily passes her driving ...   \n",
       "9607.0  Is it true that if Emily passes her driving te...   \n",
       "9608.0  If Scarlett finishes her work early, her husba...   \n",
       "...                                                   ...   \n",
       "NaN     If Emily passes her driving test, her best fri...   \n",
       "NaN     It's not the case that if Scarlett finishes he...   \n",
       "NaN     Sam believes that if Chloe finishes his work e...   \n",
       "NaN     Is it true that if Ryan passes his driving tes...   \n",
       "NaN     If Ryan passes his driving test, his parents w...   \n",
       "\n",
       "                           hypothesis gold_label              type  \\\n",
       "9604.0       Emily has a best friend.          E  type5_possessive   \n",
       "9605.0       Emily has a best friend.          E  type5_possessive   \n",
       "9606.0       Emily has a best friend.          E  type5_possessive   \n",
       "9607.0       Emily has a best friend.          E  type5_possessive   \n",
       "9608.0        Scarlett has a husband.          E  type5_possessive   \n",
       "...                               ...        ...               ...   \n",
       "NaN               Emily has a sister.          N  type5_possessive   \n",
       "NaN     Scarlett has a sister-in-law.          N  type5_possessive   \n",
       "NaN                 Chloe has a boss.          N  type5_possessive   \n",
       "NaN                Ryan has siblings.          N  type5_possessive   \n",
       "NaN        Ryan does not have parents          C  type5_possessive   \n",
       "\n",
       "                                          glove_embedding  \\\n",
       "9604.0  [0.069057465, 0.38865215, -0.1840484, -0.21967...   \n",
       "9605.0  [0.21939042, 0.25260824, -0.14202265, -0.12464...   \n",
       "9606.0  [0.15687543, 0.30070943, -0.10854657, -0.17401...   \n",
       "9607.0  [0.18888807, 0.30759755, -0.12772465, -0.16519...   \n",
       "9608.0  [0.24861601, 0.38644078, -0.21351472, -0.27863...   \n",
       "...                                                   ...   \n",
       "NaN     [0.069057465, 0.38865215, -0.1840484, -0.21967...   \n",
       "NaN     [0.36916268, 0.22392519, -0.1532617, -0.144940...   \n",
       "NaN     [0.29448354, 0.089123614, -0.019394852, -0.256...   \n",
       "NaN     [0.32404217, 0.17202039, 0.010957494, -0.28846...   \n",
       "NaN     [0.1968945, 0.23594557, -0.011227503, -0.43862...   \n",
       "\n",
       "                                      infersent_embedding  \n",
       "9604.0  [0.007468892, -0.03935728, 0.14250019, 0.00283...  \n",
       "9605.0  [0.007468892, -0.0651099, 0.13684836, -0.00299...  \n",
       "9606.0  [0.007468892, -0.011386951, 0.1386209, -0.0106...  \n",
       "9607.0  [0.007468892, 0.014787662, 0.13787052, -0.0069...  \n",
       "9608.0  [0.007468892, 0.103102095, 0.05695953, 0.00852...  \n",
       "...                                                   ...  \n",
       "NaN     [0.007468892, -0.03935728, 0.14250019, 0.00283...  \n",
       "NaN     [0.007468892, 0.097746775, 0.044877727, -0.002...  \n",
       "NaN     [0.007468892, 0.029498454, 0.050322294, -0.026...  \n",
       "NaN     [0.007468892, 0.051100645, 0.17894739, -0.0069...  \n",
       "NaN     [0.007468892, 0.0570666, 0.18063141, 0.0028372...  \n",
       "\n",
       "[6486 rows x 6 columns]"
      ]
     },
     "execution_count": 26,
     "metadata": {},
     "output_type": "execute_result"
    }
   ],
   "source": [
    "train_df"
   ]
  },
  {
   "cell_type": "code",
   "execution_count": 27,
   "metadata": {
    "execution": {
     "iopub.execute_input": "2025-02-06T15:45:30.099176Z",
     "iopub.status.busy": "2025-02-06T15:45:30.098880Z",
     "iopub.status.idle": "2025-02-06T15:45:34.262485Z",
     "shell.execute_reply": "2025-02-06T15:45:34.261745Z",
     "shell.execute_reply.started": "2025-02-06T15:45:30.099154Z"
    },
    "trusted": true
   },
   "outputs": [],
   "source": [
    "train_df.to_csv('new_train_data_embeddings.csv')"
   ]
  },
  {
   "cell_type": "code",
   "execution_count": 35,
   "metadata": {
    "execution": {
     "iopub.execute_input": "2025-01-30T18:35:15.393242Z",
     "iopub.status.busy": "2025-01-30T18:35:15.392968Z",
     "iopub.status.idle": "2025-01-30T18:35:15.430846Z",
     "shell.execute_reply": "2025-01-30T18:35:15.429875Z",
     "shell.execute_reply.started": "2025-01-30T18:35:15.393221Z"
    },
    "trusted": true
   },
   "outputs": [],
   "source": [
    "with open('embeddings_500.pkl', 'wb') as f:\n",
    "    pickle.dump(embeddings, f)"
   ]
  },
  {
   "cell_type": "code",
   "execution_count": 10,
   "metadata": {
    "execution": {
     "iopub.execute_input": "2025-01-30T23:00:08.613349Z",
     "iopub.status.busy": "2025-01-30T23:00:08.613033Z",
     "iopub.status.idle": "2025-01-30T23:00:08.635095Z",
     "shell.execute_reply": "2025-01-30T23:00:08.634442Z",
     "shell.execute_reply.started": "2025-01-30T23:00:08.613284Z"
    },
    "trusted": true
   },
   "outputs": [],
   "source": [
    "with open('/kaggle/working/embeddings_500.pkl', 'rb') as f:\n",
    "    embeddings = pickle.load(f)"
   ]
  },
  {
   "cell_type": "code",
   "execution_count": 30,
   "metadata": {
    "execution": {
     "iopub.execute_input": "2025-02-06T15:47:44.179379Z",
     "iopub.status.busy": "2025-02-06T15:47:44.179007Z",
     "iopub.status.idle": "2025-02-06T15:47:44.191465Z",
     "shell.execute_reply": "2025-02-06T15:47:44.190614Z",
     "shell.execute_reply.started": "2025-02-06T15:47:44.179334Z"
    },
    "trusted": true
   },
   "outputs": [
    {
     "name": "stderr",
     "output_type": "stream",
     "text": [
      "/usr/local/lib/python3.10/dist-packages/pandas/io/formats/format.py:1458: RuntimeWarning: invalid value encountered in greater\n",
      "  has_large_values = (abs_vals > 1e6).any()\n",
      "/usr/local/lib/python3.10/dist-packages/pandas/io/formats/format.py:1459: RuntimeWarning: invalid value encountered in less\n",
      "  has_small_values = ((abs_vals < 10 ** (-self.digits)) & (abs_vals > 0)).any()\n",
      "/usr/local/lib/python3.10/dist-packages/pandas/io/formats/format.py:1459: RuntimeWarning: invalid value encountered in greater\n",
      "  has_small_values = ((abs_vals < 10 ** (-self.digits)) & (abs_vals > 0)).any()\n"
     ]
    },
    {
     "data": {
      "text/html": [
       "<div>\n",
       "<style scoped>\n",
       "    .dataframe tbody tr th:only-of-type {\n",
       "        vertical-align: middle;\n",
       "    }\n",
       "\n",
       "    .dataframe tbody tr th {\n",
       "        vertical-align: top;\n",
       "    }\n",
       "\n",
       "    .dataframe thead th {\n",
       "        text-align: right;\n",
       "    }\n",
       "</style>\n",
       "<table border=\"1\" class=\"dataframe\">\n",
       "  <thead>\n",
       "    <tr style=\"text-align: right;\">\n",
       "      <th></th>\n",
       "      <th>premise</th>\n",
       "      <th>hypothesis</th>\n",
       "      <th>gold_label</th>\n",
       "      <th>type</th>\n",
       "    </tr>\n",
       "  </thead>\n",
       "  <tbody>\n",
       "    <tr>\n",
       "      <th>9600.0</th>\n",
       "      <td>If Jessica attends the conference, her colleag...</td>\n",
       "      <td>Jessica has a colleague.</td>\n",
       "      <td>E</td>\n",
       "      <td>type5_possessive</td>\n",
       "    </tr>\n",
       "    <tr>\n",
       "      <th>9601.0</th>\n",
       "      <td>It's not the case that if Jessica attends the ...</td>\n",
       "      <td>Jessica has a colleague.</td>\n",
       "      <td>E</td>\n",
       "      <td>type5_possessive</td>\n",
       "    </tr>\n",
       "    <tr>\n",
       "      <th>9602.0</th>\n",
       "      <td>Sam believes that if Jessica attends the confe...</td>\n",
       "      <td>Jessica has a colleague.</td>\n",
       "      <td>E</td>\n",
       "      <td>type5_possessive</td>\n",
       "    </tr>\n",
       "    <tr>\n",
       "      <th>9603.0</th>\n",
       "      <td>Is it true that if Jessica attends the confere...</td>\n",
       "      <td>Jessica has a colleague.</td>\n",
       "      <td>E</td>\n",
       "      <td>type5_possessive</td>\n",
       "    </tr>\n",
       "    <tr>\n",
       "      <th>9620.0</th>\n",
       "      <td>If Mia's car breaks down, her coworker will gi...</td>\n",
       "      <td>Mia has a coworker.</td>\n",
       "      <td>E</td>\n",
       "      <td>type5_possessive</td>\n",
       "    </tr>\n",
       "    <tr>\n",
       "      <th>...</th>\n",
       "      <td>...</td>\n",
       "      <td>...</td>\n",
       "      <td>...</td>\n",
       "      <td>...</td>\n",
       "    </tr>\n",
       "    <tr>\n",
       "      <th>NaN</th>\n",
       "      <td>If Margaret graduates from college, her parent...</td>\n",
       "      <td>Margaret has siblings.</td>\n",
       "      <td>N</td>\n",
       "      <td>type5_possessive</td>\n",
       "    </tr>\n",
       "    <tr>\n",
       "      <th>NaN</th>\n",
       "      <td>It's not the case that if Margaret graduates f...</td>\n",
       "      <td>Margaret has siblings.</td>\n",
       "      <td>N</td>\n",
       "      <td>type5_possessive</td>\n",
       "    </tr>\n",
       "    <tr>\n",
       "      <th>NaN</th>\n",
       "      <td>Sam believes that if Margaret graduates from c...</td>\n",
       "      <td>Margaret has siblings.</td>\n",
       "      <td>N</td>\n",
       "      <td>type5_possessive</td>\n",
       "    </tr>\n",
       "    <tr>\n",
       "      <th>NaN</th>\n",
       "      <td>Is it true that if Margaret graduates from col...</td>\n",
       "      <td>Margaret has siblings.</td>\n",
       "      <td>N</td>\n",
       "      <td>type5_possessive</td>\n",
       "    </tr>\n",
       "    <tr>\n",
       "      <th>NaN</th>\n",
       "      <td>If Margaret graduates from college, her parent...</td>\n",
       "      <td>Margaret has graduated from college, but her p...</td>\n",
       "      <td>C</td>\n",
       "      <td>type5_possessive</td>\n",
       "    </tr>\n",
       "  </tbody>\n",
       "</table>\n",
       "<p>2348 rows × 4 columns</p>\n",
       "</div>"
      ],
      "text/plain": [
       "                                                  premise  \\\n",
       "9600.0  If Jessica attends the conference, her colleag...   \n",
       "9601.0  It's not the case that if Jessica attends the ...   \n",
       "9602.0  Sam believes that if Jessica attends the confe...   \n",
       "9603.0  Is it true that if Jessica attends the confere...   \n",
       "9620.0  If Mia's car breaks down, her coworker will gi...   \n",
       "...                                                   ...   \n",
       "NaN     If Margaret graduates from college, her parent...   \n",
       "NaN     It's not the case that if Margaret graduates f...   \n",
       "NaN     Sam believes that if Margaret graduates from c...   \n",
       "NaN     Is it true that if Margaret graduates from col...   \n",
       "NaN     If Margaret graduates from college, her parent...   \n",
       "\n",
       "                                               hypothesis gold_label  \\\n",
       "9600.0                           Jessica has a colleague.          E   \n",
       "9601.0                           Jessica has a colleague.          E   \n",
       "9602.0                           Jessica has a colleague.          E   \n",
       "9603.0                           Jessica has a colleague.          E   \n",
       "9620.0                                Mia has a coworker.          E   \n",
       "...                                                   ...        ...   \n",
       "NaN                                Margaret has siblings.          N   \n",
       "NaN                                Margaret has siblings.          N   \n",
       "NaN                                Margaret has siblings.          N   \n",
       "NaN                                Margaret has siblings.          N   \n",
       "NaN     Margaret has graduated from college, but her p...          C   \n",
       "\n",
       "                    type  \n",
       "9600.0  type5_possessive  \n",
       "9601.0  type5_possessive  \n",
       "9602.0  type5_possessive  \n",
       "9603.0  type5_possessive  \n",
       "9620.0  type5_possessive  \n",
       "...                  ...  \n",
       "NaN     type5_possessive  \n",
       "NaN     type5_possessive  \n",
       "NaN     type5_possessive  \n",
       "NaN     type5_possessive  \n",
       "NaN     type5_possessive  \n",
       "\n",
       "[2348 rows x 4 columns]"
      ]
     },
     "execution_count": 30,
     "metadata": {},
     "output_type": "execute_result"
    }
   ],
   "source": [
    "valid_df"
   ]
  },
  {
   "cell_type": "markdown",
   "metadata": {},
   "source": [
    "## ClassificationNet"
   ]
  },
  {
   "cell_type": "code",
   "execution_count": 34,
   "metadata": {
    "execution": {
     "iopub.execute_input": "2025-02-06T18:37:31.882259Z",
     "iopub.status.busy": "2025-02-06T18:37:31.881928Z",
     "iopub.status.idle": "2025-02-06T18:37:31.886516Z",
     "shell.execute_reply": "2025-02-06T18:37:31.885680Z",
     "shell.execute_reply.started": "2025-02-06T18:37:31.882236Z"
    },
    "trusted": true
   },
   "outputs": [],
   "source": [
    "from torch.utils.data import Dataset, DataLoader\n",
    "import torch.nn as nn\n",
    "import torch.optim as optim\n",
    "import torch\n",
    "from sklearn.model_selection import train_test_split"
   ]
  },
  {
   "cell_type": "code",
   "execution_count": 35,
   "metadata": {
    "execution": {
     "iopub.execute_input": "2025-02-06T18:38:17.195877Z",
     "iopub.status.busy": "2025-02-06T18:38:17.195533Z",
     "iopub.status.idle": "2025-02-06T18:38:17.200223Z",
     "shell.execute_reply": "2025-02-06T18:38:17.199535Z",
     "shell.execute_reply.started": "2025-02-06T18:38:17.195846Z"
    },
    "trusted": true
   },
   "outputs": [],
   "source": [
    "X_val = np.array(valid_df['infersent_embedding'])\n",
    "X_train = np.array(train_df['infersent_embedding'])"
   ]
  },
  {
   "cell_type": "code",
   "execution_count": 39,
   "metadata": {
    "execution": {
     "iopub.execute_input": "2025-02-06T18:39:00.937483Z",
     "iopub.status.busy": "2025-02-06T18:39:00.937063Z",
     "iopub.status.idle": "2025-02-06T18:39:00.944922Z",
     "shell.execute_reply": "2025-02-06T18:39:00.943767Z",
     "shell.execute_reply.started": "2025-02-06T18:39:00.937446Z"
    },
    "trusted": true
   },
   "outputs": [],
   "source": [
    "y_val = np.array(valid_df['gold_label'].map({'E': 0,'N': 1,'C':2})) \n",
    "y_train = np.array(train_df['label'].map({'E': 0,'N': 1,'C':2})) "
   ]
  },
  {
   "cell_type": "code",
   "execution_count": 53,
   "metadata": {
    "execution": {
     "iopub.execute_input": "2025-02-06T16:01:58.743731Z",
     "iopub.status.busy": "2025-02-06T16:01:58.743372Z",
     "iopub.status.idle": "2025-02-06T16:01:58.748624Z",
     "shell.execute_reply": "2025-02-06T16:01:58.747798Z",
     "shell.execute_reply.started": "2025-02-06T16:01:58.743703Z"
    },
    "trusted": true
   },
   "outputs": [],
   "source": [
    "X_val = np.array(valid_df['glove_embedding'])\n",
    "X_train = np.array(old_glove_embeddings['glove_embedding'])"
   ]
  },
  {
   "cell_type": "code",
   "execution_count": 63,
   "metadata": {
    "execution": {
     "iopub.execute_input": "2025-02-06T16:04:04.462087Z",
     "iopub.status.busy": "2025-02-06T16:04:04.461804Z",
     "iopub.status.idle": "2025-02-06T16:04:04.468559Z",
     "shell.execute_reply": "2025-02-06T16:04:04.467644Z",
     "shell.execute_reply.started": "2025-02-06T16:04:04.462066Z"
    },
    "trusted": true
   },
   "outputs": [],
   "source": [
    "y_val = np.array(valid_df['gold_label'].map({'E': 0,'N': 1,'C':2})) \n",
    "y_train = np.array(old_glove_embeddings['gold_label'].map({'E': 0,'N': 1,'C':2})) "
   ]
  },
  {
   "cell_type": "code",
   "execution_count": 56,
   "metadata": {
    "execution": {
     "iopub.execute_input": "2025-02-02T17:31:45.669742Z",
     "iopub.status.busy": "2025-02-02T17:31:45.669403Z",
     "iopub.status.idle": "2025-02-02T17:31:45.674707Z",
     "shell.execute_reply": "2025-02-02T17:31:45.673846Z",
     "shell.execute_reply.started": "2025-02-02T17:31:45.669717Z"
    },
    "trusted": true
   },
   "outputs": [
    {
     "data": {
      "text/plain": [
       "100"
      ]
     },
     "execution_count": 56,
     "metadata": {},
     "output_type": "execute_result"
    }
   ],
   "source": [
    "len(X_train[0])"
   ]
  },
  {
   "cell_type": "code",
   "execution_count": null,
   "metadata": {
    "trusted": true
   },
   "outputs": [],
   "source": [
    "X_train"
   ]
  },
  {
   "cell_type": "code",
   "execution_count": 52,
   "metadata": {
    "execution": {
     "iopub.execute_input": "2025-02-02T17:30:00.675244Z",
     "iopub.status.busy": "2025-02-02T17:30:00.675043Z",
     "iopub.status.idle": "2025-02-02T17:30:00.679724Z",
     "shell.execute_reply": "2025-02-02T17:30:00.679094Z",
     "shell.execute_reply.started": "2025-02-02T17:30:00.675226Z"
    },
    "trusted": true
   },
   "outputs": [
    {
     "data": {
      "text/plain": [
       "array([0, 1, 0, ..., 0, 2, 2])"
      ]
     },
     "execution_count": 52,
     "metadata": {},
     "output_type": "execute_result"
    }
   ],
   "source": [
    "y_train"
   ]
  },
  {
   "cell_type": "code",
   "execution_count": 40,
   "metadata": {
    "execution": {
     "iopub.execute_input": "2025-02-06T18:39:06.621101Z",
     "iopub.status.busy": "2025-02-06T18:39:06.620788Z",
     "iopub.status.idle": "2025-02-06T18:39:06.625615Z",
     "shell.execute_reply": "2025-02-06T18:39:06.624772Z",
     "shell.execute_reply.started": "2025-02-06T18:39:06.621074Z"
    },
    "trusted": true
   },
   "outputs": [],
   "source": [
    "# DataLoader\n",
    "\n",
    "class EmbeddingsDataset(Dataset):\n",
    "    def __init__(self, embeddings, labels):\n",
    "        self.embeddings = embeddings\n",
    "        self.labels = labels\n",
    "\n",
    "    def __len__(self):\n",
    "        return len(self.embeddings)\n",
    "\n",
    "    def __getitem__(self, idx):\n",
    "        embedding = self.embeddings[idx]\n",
    "        label = self.labels[idx]\n",
    "        return torch.tensor(embedding, dtype=torch.float32), torch.tensor(label, dtype=torch.long)"
   ]
  },
  {
   "cell_type": "code",
   "execution_count": 41,
   "metadata": {
    "execution": {
     "iopub.execute_input": "2025-02-06T18:39:09.719016Z",
     "iopub.status.busy": "2025-02-06T18:39:09.718736Z",
     "iopub.status.idle": "2025-02-06T18:39:09.725111Z",
     "shell.execute_reply": "2025-02-06T18:39:09.724417Z",
     "shell.execute_reply.started": "2025-02-06T18:39:09.718995Z"
    },
    "trusted": true
   },
   "outputs": [
    {
     "name": "stdout",
     "output_type": "stream",
     "text": [
      "299\n",
      "294\n"
     ]
    }
   ],
   "source": [
    "# Create the dataset\n",
    "train_dataset = EmbeddingsDataset(X_train, y_train)\n",
    "val_dataset = EmbeddingsDataset(X_val, y_val)\n",
    "\n",
    "# Create the DataLoader\n",
    "train_loader = DataLoader(train_dataset, batch_size=8, shuffle=True)\n",
    "val_loader = DataLoader(val_dataset, batch_size=8, shuffle=True)\n",
    "print(len(train_loader))\n",
    "print(len(val_loader))"
   ]
  },
  {
   "cell_type": "code",
   "execution_count": 55,
   "metadata": {
    "execution": {
     "iopub.execute_input": "2025-02-02T17:30:12.590734Z",
     "iopub.status.busy": "2025-02-02T17:30:12.590441Z",
     "iopub.status.idle": "2025-02-02T17:30:12.634764Z",
     "shell.execute_reply": "2025-02-02T17:30:12.634120Z",
     "shell.execute_reply.started": "2025-02-02T17:30:12.590713Z"
    },
    "trusted": true
   },
   "outputs": [
    {
     "name": "stdout",
     "output_type": "stream",
     "text": [
      "Data: tensor([ 2.2298e-01,  3.2244e-01, -4.0693e-02, -2.2563e-01,  5.2092e-01,\n",
      "         4.0742e-01, -5.5562e-01,  2.8699e-01,  8.9119e-02, -6.8955e-03,\n",
      "        -1.0014e-01,  2.1787e-01, -6.2826e-01, -3.4832e-03,  5.6315e-01,\n",
      "         8.2876e-02, -8.2632e-02, -9.6111e-02,  1.6612e-01, -5.2967e-01,\n",
      "         5.2791e-02,  6.3809e-01,  2.5142e-02, -1.0106e-01,  4.8402e-01,\n",
      "        -1.8882e+00, -3.5736e-01, -1.9194e-02,  1.2288e-01, -3.8546e-01,\n",
      "         2.8401e+00,  2.0733e-01, -4.6444e-01, -3.1378e-01,  1.1123e-01,\n",
      "         1.9157e-02,  2.9390e-02,  5.0149e-01,  1.0745e-01, -5.7642e-01,\n",
      "        -1.3425e-01,  1.2397e-01, -1.6751e-01, -9.1409e-02,  7.7244e-02,\n",
      "        -2.4264e-01,  4.2126e-02, -3.4190e-01, -3.1571e-02,  1.6772e-01,\n",
      "         3.8263e-01,  2.5200e-01, -1.8315e-01,  2.0701e-01,  5.5449e-01,\n",
      "         5.8329e-01, -6.6298e-01, -4.2276e-01,  9.7382e-02,  1.2787e-01,\n",
      "         5.1425e-02, -2.3174e-01, -5.4378e-01,  1.1913e-01,  3.9448e-01,\n",
      "        -1.0350e-03,  3.3157e-02,  2.6226e-01, -4.5030e-01, -1.4929e-01,\n",
      "        -2.8663e-01,  2.0498e-01, -2.4803e-01, -2.3791e-01, -1.4663e-01,\n",
      "        -2.1799e+00, -1.0052e-01,  4.7853e-01, -1.6114e-01,  1.4247e-01,\n",
      "         3.8115e+00, -4.4252e-01, -2.1547e-01, -6.9305e-02,  6.4525e-02,\n",
      "        -9.2460e-02,  6.5395e-02,  3.5245e-01,  1.7572e-01, -3.6099e-01,\n",
      "        -1.4046e-01,  4.8888e-01, -4.4275e-01,  1.9514e-02, -1.3568e-01,\n",
      "        -1.1975e-01, -3.5079e-01,  1.1105e-01,  3.7300e-03,  4.2450e-03])\n",
      "Label: tensor(0)\n"
     ]
    }
   ],
   "source": [
    "for batch in train_loader:\n",
    "    # Extract the data and labels\n",
    "    data, labels = batch\n",
    "    # Print the first example in the batch\n",
    "    print(\"Data:\", data[0])\n",
    "    print(\"Label:\", labels[0])\n",
    "    \n",
    "    break"
   ]
  },
  {
   "cell_type": "code",
   "execution_count": 42,
   "metadata": {
    "execution": {
     "iopub.execute_input": "2025-02-06T18:39:20.534498Z",
     "iopub.status.busy": "2025-02-06T18:39:20.534206Z",
     "iopub.status.idle": "2025-02-06T18:39:20.538783Z",
     "shell.execute_reply": "2025-02-06T18:39:20.537834Z",
     "shell.execute_reply.started": "2025-02-06T18:39:20.534475Z"
    },
    "trusted": true
   },
   "outputs": [],
   "source": [
    "config = {\n",
    "    'nonlinear_fc': 0,\n",
    "    'fc_dim': 512,\n",
    "    'n_classes': 3,\n",
    "    'enc_lstm_dim': 2048,\n",
    "    'encoder_type': 'InferSent',\n",
    "    'dpout_fc': 0.5,\n",
    "    'bsize': 64,\n",
    "    'word_emb_dim': 8192,\n",
    "    'enc_lstm_dim': 2048,\n",
    "    'pool_type': 'max',\n",
    "    'dpout_model': 0.0,\n",
    "    'n_enc_layers': 1,\n",
    "    'version': 2  # Use version 2 for fastText\n",
    "}"
   ]
  },
  {
   "cell_type": "code",
   "execution_count": 72,
   "metadata": {
    "execution": {
     "iopub.execute_input": "2025-02-06T16:06:14.463897Z",
     "iopub.status.busy": "2025-02-06T16:06:14.463582Z",
     "iopub.status.idle": "2025-02-06T16:06:14.467498Z",
     "shell.execute_reply": "2025-02-06T16:06:14.466714Z",
     "shell.execute_reply.started": "2025-02-06T16:06:14.463872Z"
    },
    "trusted": true
   },
   "outputs": [],
   "source": [
    "glove_config = {\n",
    "    'n_classes': 3,\n",
    "    'fc_dim': 512, # fully connected dimensions\n",
    "    'word_emb_dim': 100, # size of embeddings\n",
    "    'dpout_fc': 0.5,\n",
    "}"
   ]
  },
  {
   "cell_type": "code",
   "execution_count": 43,
   "metadata": {
    "execution": {
     "iopub.execute_input": "2025-02-06T18:39:24.683572Z",
     "iopub.status.busy": "2025-02-06T18:39:24.683249Z",
     "iopub.status.idle": "2025-02-06T18:39:24.688643Z",
     "shell.execute_reply": "2025-02-06T18:39:24.687882Z",
     "shell.execute_reply.started": "2025-02-06T18:39:24.683542Z"
    },
    "trusted": true
   },
   "outputs": [],
   "source": [
    "# modified \n",
    "class ClassificationNet(nn.Module):\n",
    "    def __init__(self, config):\n",
    "        super(ClassificationNet, self).__init__()\n",
    "        \n",
    "        self.n_classes = config['n_classes']\n",
    "        self.fc_dim = config['fc_dim']\n",
    "        self.embedding_dim = config['word_emb_dim']\n",
    "        \n",
    "        self.classifier = nn.Sequential(\n",
    "            nn.Linear(self.embedding_dim, self.fc_dim),\n",
    "            nn.ReLU(),\n",
    "            nn.Dropout(p=config['dpout_fc']),\n",
    "            nn.Linear(self.fc_dim, self.n_classes),\n",
    "        )\n",
    "\n",
    "    def forward(self, embeddings):\n",
    "        output = self.classifier(embeddings)\n",
    "        return output"
   ]
  },
  {
   "cell_type": "code",
   "execution_count": 44,
   "metadata": {
    "execution": {
     "iopub.execute_input": "2025-02-06T18:39:43.279915Z",
     "iopub.status.busy": "2025-02-06T18:39:43.279569Z",
     "iopub.status.idle": "2025-02-06T18:39:43.553232Z",
     "shell.execute_reply": "2025-02-06T18:39:43.552530Z",
     "shell.execute_reply.started": "2025-02-06T18:39:43.279884Z"
    },
    "trusted": true
   },
   "outputs": [],
   "source": [
    "model = ClassificationNet(config)\n",
    "if torch.cuda.is_available():\n",
    "    model.cuda() "
   ]
  },
  {
   "cell_type": "code",
   "execution_count": 45,
   "metadata": {
    "execution": {
     "iopub.execute_input": "2025-02-06T18:39:47.477812Z",
     "iopub.status.busy": "2025-02-06T18:39:47.477473Z",
     "iopub.status.idle": "2025-02-06T18:39:49.433614Z",
     "shell.execute_reply": "2025-02-06T18:39:49.432685Z",
     "shell.execute_reply.started": "2025-02-06T18:39:47.477784Z"
    },
    "trusted": true
   },
   "outputs": [],
   "source": [
    "criterion = nn.CrossEntropyLoss()\n",
    "optimizer = optim.Adam(model.parameters(), lr=0.001)\n",
    "num_epochs = 50"
   ]
  },
  {
   "cell_type": "code",
   "execution_count": 46,
   "metadata": {
    "execution": {
     "iopub.execute_input": "2025-02-06T18:39:52.258522Z",
     "iopub.status.busy": "2025-02-06T18:39:52.257915Z",
     "iopub.status.idle": "2025-02-06T18:39:52.266053Z",
     "shell.execute_reply": "2025-02-06T18:39:52.265182Z",
     "shell.execute_reply.started": "2025-02-06T18:39:52.258494Z"
    },
    "trusted": true
   },
   "outputs": [],
   "source": [
    "def train_model(model): \n",
    "    if torch.cuda.is_available():\n",
    "        model.cuda()\n",
    "    \n",
    "    for epoch in range(num_epochs):\n",
    "        model.train()  # Set the model to training mode\n",
    "    \n",
    "        running_loss = 0.0\n",
    "        correct_predictions = 0\n",
    "        total_samples = 0\n",
    "    \n",
    "        for s1_batch, labels in train_loader:  # train_loader is a DataLoader for training data\n",
    "            if torch.cuda.is_available():\n",
    "                s1_batch = s1_batch.cuda()\n",
    "                labels = labels.cuda()\n",
    "    \n",
    "            # Zero the parameter gradients\n",
    "            optimizer.zero_grad()\n",
    "\n",
    "            # Forward pass\n",
    "            outputs = model(s1_batch)\n",
    "            loss = criterion(outputs, labels)\n",
    "    \n",
    "            # Backward pass and optimize\n",
    "            loss.backward()\n",
    "            optimizer.step()\n",
    "    \n",
    "            # Accumulate loss\n",
    "            running_loss += loss.item()\n",
    "    \n",
    "            # Compute accuracy\n",
    "            _, predicted = torch.max(outputs.data, 1)\n",
    "            total_samples += labels.size(0)\n",
    "            correct_predictions += (predicted == labels).sum().item()\n",
    "    \n",
    "        accuracy = 100 * correct_predictions / total_samples\n",
    "        print(f'Epoch [{epoch + 1}/{num_epochs}], Loss: {running_loss / len(train_loader):.4f}, Accuracy: {accuracy:.2f}%')\n",
    "    \n",
    "        # Validation phase\n",
    "        model.eval()  # Set the model to evaluation mode\n",
    "        val_running_loss = 0.0\n",
    "        val_correct_predictions = 0\n",
    "        val_total_samples = 0\n",
    "        \n",
    "        with torch.no_grad():  # No need to calculate gradients during validation\n",
    "            for s1_batch, labels in val_loader:  # val_loader is a DataLoader for validation data\n",
    "                if torch.cuda.is_available():\n",
    "                    s1_batch = s1_batch.cuda()\n",
    "                    labels = labels.cuda()\n",
    "    \n",
    "                # Forward pass\n",
    "                outputs = model(s1_batch)\n",
    "                loss = criterion(outputs, labels)\n",
    "    \n",
    "                # Accumulate loss\n",
    "                val_running_loss += loss.item()\n",
    "    \n",
    "                # Compute accuracy\n",
    "                _, predicted = torch.max(outputs.data, 1)\n",
    "                val_total_samples += labels.size(0)\n",
    "                val_correct_predictions += (predicted == labels).sum().item()\n",
    "    \n",
    "        val_accuracy = 100 * val_correct_predictions / val_total_samples\n",
    "        print(f'Epoch [{epoch + 1}/{num_epochs}], Validation Loss: {val_running_loss / len(val_loader):.4f}, Validation Accuracy: {val_accuracy:.2f}%')\n"
   ]
  },
  {
   "cell_type": "code",
   "execution_count": 47,
   "metadata": {
    "execution": {
     "iopub.execute_input": "2025-02-06T18:40:00.151249Z",
     "iopub.status.busy": "2025-02-06T18:40:00.150899Z",
     "iopub.status.idle": "2025-02-06T18:40:45.358631Z",
     "shell.execute_reply": "2025-02-06T18:40:45.357914Z",
     "shell.execute_reply.started": "2025-02-06T18:40:00.151217Z"
    },
    "trusted": true
   },
   "outputs": [
    {
     "name": "stdout",
     "output_type": "stream",
     "text": [
      "Epoch [1/50], Loss: 0.5479, Accuracy: 80.18%\n",
      "Epoch [1/50], Validation Loss: 2.0429, Validation Accuracy: 32.45%\n",
      "Epoch [2/50], Loss: 0.4933, Accuracy: 80.68%\n",
      "Epoch [2/50], Validation Loss: 2.2397, Validation Accuracy: 32.45%\n",
      "Epoch [3/50], Loss: 0.4519, Accuracy: 81.64%\n",
      "Epoch [3/50], Validation Loss: 2.0759, Validation Accuracy: 32.45%\n",
      "Epoch [4/50], Loss: 0.4256, Accuracy: 82.77%\n",
      "Epoch [4/50], Validation Loss: 2.2129, Validation Accuracy: 32.41%\n",
      "Epoch [5/50], Loss: 0.4016, Accuracy: 83.86%\n",
      "Epoch [5/50], Validation Loss: 3.0691, Validation Accuracy: 32.41%\n",
      "Epoch [6/50], Loss: 0.3758, Accuracy: 83.45%\n",
      "Epoch [6/50], Validation Loss: 2.4608, Validation Accuracy: 32.37%\n",
      "Epoch [7/50], Loss: 0.3502, Accuracy: 85.00%\n",
      "Epoch [7/50], Validation Loss: 2.8139, Validation Accuracy: 32.37%\n",
      "Epoch [8/50], Loss: 0.3264, Accuracy: 85.62%\n",
      "Epoch [8/50], Validation Loss: 2.6892, Validation Accuracy: 32.41%\n",
      "Epoch [9/50], Loss: 0.3003, Accuracy: 87.22%\n",
      "Epoch [9/50], Validation Loss: 2.3789, Validation Accuracy: 33.82%\n",
      "Epoch [10/50], Loss: 0.2893, Accuracy: 87.30%\n",
      "Epoch [10/50], Validation Loss: 3.5911, Validation Accuracy: 32.45%\n",
      "Epoch [11/50], Loss: 0.2762, Accuracy: 87.55%\n",
      "Epoch [11/50], Validation Loss: 3.4402, Validation Accuracy: 32.75%\n",
      "Epoch [12/50], Loss: 0.2648, Accuracy: 88.18%\n",
      "Epoch [12/50], Validation Loss: 4.1414, Validation Accuracy: 32.37%\n",
      "Epoch [13/50], Loss: 0.2460, Accuracy: 88.68%\n",
      "Epoch [13/50], Validation Loss: 2.9312, Validation Accuracy: 33.22%\n",
      "Epoch [14/50], Loss: 0.2488, Accuracy: 89.27%\n",
      "Epoch [14/50], Validation Loss: 4.2507, Validation Accuracy: 32.37%\n",
      "Epoch [15/50], Loss: 0.2402, Accuracy: 88.73%\n",
      "Epoch [15/50], Validation Loss: 3.9417, Validation Accuracy: 32.58%\n",
      "Epoch [16/50], Loss: 0.2166, Accuracy: 90.78%\n",
      "Epoch [16/50], Validation Loss: 3.9209, Validation Accuracy: 32.41%\n",
      "Epoch [17/50], Loss: 0.2180, Accuracy: 89.94%\n",
      "Epoch [17/50], Validation Loss: 3.8311, Validation Accuracy: 32.62%\n",
      "Epoch [18/50], Loss: 0.2123, Accuracy: 90.65%\n",
      "Epoch [18/50], Validation Loss: 4.5737, Validation Accuracy: 32.50%\n",
      "Epoch [19/50], Loss: 0.1998, Accuracy: 90.95%\n",
      "Epoch [19/50], Validation Loss: 4.7738, Validation Accuracy: 32.88%\n",
      "Epoch [20/50], Loss: 0.2142, Accuracy: 90.40%\n",
      "Epoch [20/50], Validation Loss: 4.2450, Validation Accuracy: 32.84%\n",
      "Epoch [21/50], Loss: 0.1915, Accuracy: 91.62%\n",
      "Epoch [21/50], Validation Loss: 5.8537, Validation Accuracy: 32.41%\n",
      "Epoch [22/50], Loss: 0.1802, Accuracy: 91.74%\n",
      "Epoch [22/50], Validation Loss: 3.8211, Validation Accuracy: 33.05%\n",
      "Epoch [23/50], Loss: 0.1852, Accuracy: 92.04%\n",
      "Epoch [23/50], Validation Loss: 4.4934, Validation Accuracy: 32.71%\n",
      "Epoch [24/50], Loss: 0.1889, Accuracy: 91.53%\n",
      "Epoch [24/50], Validation Loss: 4.7682, Validation Accuracy: 33.05%\n",
      "Epoch [25/50], Loss: 0.1670, Accuracy: 92.54%\n",
      "Epoch [25/50], Validation Loss: 5.3850, Validation Accuracy: 32.79%\n",
      "Epoch [26/50], Loss: 0.1651, Accuracy: 92.83%\n",
      "Epoch [26/50], Validation Loss: 5.0518, Validation Accuracy: 32.75%\n",
      "Epoch [27/50], Loss: 0.1578, Accuracy: 93.21%\n",
      "Epoch [27/50], Validation Loss: 5.6581, Validation Accuracy: 32.96%\n",
      "Epoch [28/50], Loss: 0.1425, Accuracy: 93.42%\n",
      "Epoch [28/50], Validation Loss: 5.8420, Validation Accuracy: 32.62%\n",
      "Epoch [29/50], Loss: 0.1524, Accuracy: 93.46%\n",
      "Epoch [29/50], Validation Loss: 5.1703, Validation Accuracy: 32.84%\n",
      "Epoch [30/50], Loss: 0.1337, Accuracy: 94.26%\n",
      "Epoch [30/50], Validation Loss: 6.1238, Validation Accuracy: 32.58%\n",
      "Epoch [31/50], Loss: 0.1431, Accuracy: 94.01%\n",
      "Epoch [31/50], Validation Loss: 6.1323, Validation Accuracy: 32.84%\n",
      "Epoch [32/50], Loss: 0.1521, Accuracy: 94.13%\n",
      "Epoch [32/50], Validation Loss: 4.3689, Validation Accuracy: 33.65%\n",
      "Epoch [33/50], Loss: 0.1425, Accuracy: 94.01%\n",
      "Epoch [33/50], Validation Loss: 5.6956, Validation Accuracy: 33.13%\n",
      "Epoch [34/50], Loss: 0.1453, Accuracy: 94.17%\n",
      "Epoch [34/50], Validation Loss: 6.1899, Validation Accuracy: 32.33%\n",
      "Epoch [35/50], Loss: 0.1299, Accuracy: 94.72%\n",
      "Epoch [35/50], Validation Loss: 5.4676, Validation Accuracy: 33.18%\n",
      "Epoch [36/50], Loss: 0.1237, Accuracy: 94.51%\n",
      "Epoch [36/50], Validation Loss: 5.9495, Validation Accuracy: 32.67%\n",
      "Epoch [37/50], Loss: 0.1090, Accuracy: 95.35%\n",
      "Epoch [37/50], Validation Loss: 5.4310, Validation Accuracy: 32.79%\n",
      "Epoch [38/50], Loss: 0.1162, Accuracy: 94.72%\n",
      "Epoch [38/50], Validation Loss: 5.8010, Validation Accuracy: 33.13%\n",
      "Epoch [39/50], Loss: 0.1181, Accuracy: 94.72%\n",
      "Epoch [39/50], Validation Loss: 6.3147, Validation Accuracy: 32.84%\n",
      "Epoch [40/50], Loss: 0.1155, Accuracy: 95.43%\n",
      "Epoch [40/50], Validation Loss: 6.2952, Validation Accuracy: 33.09%\n",
      "Epoch [41/50], Loss: 0.1177, Accuracy: 94.84%\n",
      "Epoch [41/50], Validation Loss: 6.1461, Validation Accuracy: 33.05%\n",
      "Epoch [42/50], Loss: 0.1155, Accuracy: 94.84%\n",
      "Epoch [42/50], Validation Loss: 6.5381, Validation Accuracy: 33.18%\n",
      "Epoch [43/50], Loss: 0.1123, Accuracy: 95.22%\n",
      "Epoch [43/50], Validation Loss: 5.6544, Validation Accuracy: 33.60%\n",
      "Epoch [44/50], Loss: 0.0954, Accuracy: 96.10%\n",
      "Epoch [44/50], Validation Loss: 6.6500, Validation Accuracy: 33.35%\n",
      "Epoch [45/50], Loss: 0.1174, Accuracy: 94.80%\n",
      "Epoch [45/50], Validation Loss: 5.8704, Validation Accuracy: 33.30%\n",
      "Epoch [46/50], Loss: 0.1001, Accuracy: 95.31%\n",
      "Epoch [46/50], Validation Loss: 6.3856, Validation Accuracy: 33.13%\n",
      "Epoch [47/50], Loss: 0.1061, Accuracy: 95.43%\n",
      "Epoch [47/50], Validation Loss: 7.3799, Validation Accuracy: 33.35%\n",
      "Epoch [48/50], Loss: 0.1099, Accuracy: 95.60%\n",
      "Epoch [48/50], Validation Loss: 6.8285, Validation Accuracy: 32.75%\n",
      "Epoch [49/50], Loss: 0.0993, Accuracy: 95.43%\n",
      "Epoch [49/50], Validation Loss: 6.5640, Validation Accuracy: 33.18%\n",
      "Epoch [50/50], Loss: 0.0973, Accuracy: 95.31%\n",
      "Epoch [50/50], Validation Loss: 6.6560, Validation Accuracy: 32.88%\n"
     ]
    }
   ],
   "source": [
    "train_model(model)"
   ]
  },
  {
   "cell_type": "code",
   "execution_count": 48,
   "metadata": {
    "execution": {
     "iopub.execute_input": "2025-02-06T18:40:57.289897Z",
     "iopub.status.busy": "2025-02-06T18:40:57.289567Z",
     "iopub.status.idle": "2025-02-06T18:40:57.296440Z",
     "shell.execute_reply": "2025-02-06T18:40:57.295588Z",
     "shell.execute_reply.started": "2025-02-06T18:40:57.289872Z"
    },
    "trusted": true
   },
   "outputs": [
    {
     "data": {
      "text/plain": [
       "[array([ 0.00746889,  0.0264465 ,  0.06769888, ...,  0.00071831,\n",
       "        -0.04434213, -0.0138564 ], dtype=float32),\n",
       " array([ 0.00746889,  0.02014839,  0.06229   , ...,  0.00071831,\n",
       "        -0.04434213, -0.0138564 ], dtype=float32),\n",
       " array([ 0.01532687,  0.02471645,  0.06731029, ...,  0.00071831,\n",
       "        -0.04434213, -0.0138564 ], dtype=float32)]"
      ]
     },
     "execution_count": 48,
     "metadata": {},
     "output_type": "execute_result"
    }
   ],
   "source": [
    "# evaluating on test set\n",
    "test_embeddings = list(test_df['infersent_embedding'])\n",
    "test_embeddings[:3]"
   ]
  },
  {
   "cell_type": "code",
   "execution_count": 49,
   "metadata": {
    "execution": {
     "iopub.execute_input": "2025-02-06T18:41:00.675171Z",
     "iopub.status.busy": "2025-02-06T18:41:00.674839Z",
     "iopub.status.idle": "2025-02-06T18:41:00.679784Z",
     "shell.execute_reply": "2025-02-06T18:41:00.678786Z",
     "shell.execute_reply.started": "2025-02-06T18:41:00.675143Z"
    },
    "trusted": true
   },
   "outputs": [
    {
     "name": "stdout",
     "output_type": "stream",
     "text": [
      "GPU is available!\n"
     ]
    }
   ],
   "source": [
    "if torch.cuda.is_available():\n",
    "    print(\"GPU is available!\")\n",
    "    device = torch.device(\"cuda\")\n",
    "else:\n",
    "    print(\"GPU is not available, using CPU\")\n",
    "    device = torch.device(\"cpu\")"
   ]
  },
  {
   "cell_type": "code",
   "execution_count": 50,
   "metadata": {
    "execution": {
     "iopub.execute_input": "2025-02-06T18:41:03.482013Z",
     "iopub.status.busy": "2025-02-06T18:41:03.481694Z",
     "iopub.status.idle": "2025-02-06T18:41:06.260149Z",
     "shell.execute_reply": "2025-02-06T18:41:06.259260Z",
     "shell.execute_reply.started": "2025-02-06T18:41:03.481987Z"
    },
    "trusted": true
   },
   "outputs": [
    {
     "name": "stderr",
     "output_type": "stream",
     "text": [
      "<ipython-input-50-8aea48eae0d3>:1: UserWarning: Creating a tensor from a list of numpy.ndarrays is extremely slow. Please consider converting the list to a single numpy.ndarray with numpy.array() before converting to a tensor. (Triggered internally at ../torch/csrc/utils/tensor_new.cpp:278.)\n",
      "  test_embeddings = torch.tensor(test_embeddings).to(device)\n"
     ]
    }
   ],
   "source": [
    "test_embeddings = torch.tensor(test_embeddings).to(device)"
   ]
  },
  {
   "cell_type": "code",
   "execution_count": 51,
   "metadata": {
    "execution": {
     "iopub.execute_input": "2025-02-06T18:41:07.509813Z",
     "iopub.status.busy": "2025-02-06T18:41:07.509477Z",
     "iopub.status.idle": "2025-02-06T18:41:07.564768Z",
     "shell.execute_reply": "2025-02-06T18:41:07.563763Z",
     "shell.execute_reply.started": "2025-02-06T18:41:07.509785Z"
    },
    "trusted": true
   },
   "outputs": [
    {
     "data": {
      "text/plain": [
       "tensor([0, 0, 0,  ..., 0, 0, 0], device='cuda:0')"
      ]
     },
     "execution_count": 51,
     "metadata": {},
     "output_type": "execute_result"
    }
   ],
   "source": [
    "with torch.no_grad():\n",
    "    outputs = model(test_embeddings)\n",
    "predictions = torch.argmax(outputs, dim=1)\n",
    "predictions"
   ]
  },
  {
   "cell_type": "code",
   "execution_count": 52,
   "metadata": {
    "execution": {
     "iopub.execute_input": "2025-02-06T18:41:20.224233Z",
     "iopub.status.busy": "2025-02-06T18:41:20.223946Z",
     "iopub.status.idle": "2025-02-06T18:41:20.243339Z",
     "shell.execute_reply": "2025-02-06T18:41:20.242465Z",
     "shell.execute_reply.started": "2025-02-06T18:41:20.224210Z"
    },
    "trusted": true
   },
   "outputs": [
    {
     "name": "stderr",
     "output_type": "stream",
     "text": [
      "/usr/local/lib/python3.10/dist-packages/pandas/io/formats/format.py:1458: RuntimeWarning: invalid value encountered in greater\n",
      "  has_large_values = (abs_vals > 1e6).any()\n",
      "/usr/local/lib/python3.10/dist-packages/pandas/io/formats/format.py:1459: RuntimeWarning: invalid value encountered in less\n",
      "  has_small_values = ((abs_vals < 10 ** (-self.digits)) & (abs_vals > 0)).any()\n",
      "/usr/local/lib/python3.10/dist-packages/pandas/io/formats/format.py:1459: RuntimeWarning: invalid value encountered in greater\n",
      "  has_small_values = ((abs_vals < 10 ** (-self.digits)) & (abs_vals > 0)).any()\n"
     ]
    },
    {
     "data": {
      "text/html": [
       "<div>\n",
       "<style scoped>\n",
       "    .dataframe tbody tr th:only-of-type {\n",
       "        vertical-align: middle;\n",
       "    }\n",
       "\n",
       "    .dataframe tbody tr th {\n",
       "        vertical-align: top;\n",
       "    }\n",
       "\n",
       "    .dataframe thead th {\n",
       "        text-align: right;\n",
       "    }\n",
       "</style>\n",
       "<table border=\"1\" class=\"dataframe\">\n",
       "  <thead>\n",
       "    <tr style=\"text-align: right;\">\n",
       "      <th></th>\n",
       "      <th>premise</th>\n",
       "      <th>hypothesis</th>\n",
       "      <th>gold_label</th>\n",
       "      <th>type</th>\n",
       "      <th>infersent_embedding</th>\n",
       "    </tr>\n",
       "  </thead>\n",
       "  <tbody>\n",
       "    <tr>\n",
       "      <th>9616.0</th>\n",
       "      <td>If Charlotte passes her driving test, her pare...</td>\n",
       "      <td>Charlotte has parents.</td>\n",
       "      <td>E</td>\n",
       "      <td>type5_possessive</td>\n",
       "      <td>[0.007468892, 0.026446497, 0.06769888, 0.00283...</td>\n",
       "    </tr>\n",
       "    <tr>\n",
       "      <th>9617.0</th>\n",
       "      <td>It's not the case that if Charlotte passes her...</td>\n",
       "      <td>Charlotte has parents.</td>\n",
       "      <td>E</td>\n",
       "      <td>type5_possessive</td>\n",
       "      <td>[0.007468892, 0.020148389, 0.062289998, -0.002...</td>\n",
       "    </tr>\n",
       "    <tr>\n",
       "      <th>9618.0</th>\n",
       "      <td>Sam believes that if Charlotte passes her driv...</td>\n",
       "      <td>Charlotte has parents.</td>\n",
       "      <td>E</td>\n",
       "      <td>type5_possessive</td>\n",
       "      <td>[0.015326867, 0.02471645, 0.06731029, -0.00581...</td>\n",
       "    </tr>\n",
       "    <tr>\n",
       "      <th>9619.0</th>\n",
       "      <td>Is it true that if Charlotte passes her drivin...</td>\n",
       "      <td>Charlotte has parents.</td>\n",
       "      <td>E</td>\n",
       "      <td>type5_possessive</td>\n",
       "      <td>[0.01206528, 0.022741662, 0.066079706, -0.0087...</td>\n",
       "    </tr>\n",
       "    <tr>\n",
       "      <th>9628.0</th>\n",
       "      <td>If Lily takes the train to the city, her frien...</td>\n",
       "      <td>Lily has a friend.</td>\n",
       "      <td>E</td>\n",
       "      <td>type5_possessive</td>\n",
       "      <td>[0.007468892, -0.03935728, 0.086878315, 0.0028...</td>\n",
       "    </tr>\n",
       "    <tr>\n",
       "      <th>...</th>\n",
       "      <td>...</td>\n",
       "      <td>...</td>\n",
       "      <td>...</td>\n",
       "      <td>...</td>\n",
       "      <td>...</td>\n",
       "    </tr>\n",
       "    <tr>\n",
       "      <th>NaN</th>\n",
       "      <td>If Sophia decides to attend the concert, his b...</td>\n",
       "      <td>Sophia has a close friend.</td>\n",
       "      <td>N</td>\n",
       "      <td>type5_possessive</td>\n",
       "      <td>[0.007468892, 0.032791648, 0.12810943, 0.00283...</td>\n",
       "    </tr>\n",
       "    <tr>\n",
       "      <th>NaN</th>\n",
       "      <td>It's not the case that if Sophia decides to at...</td>\n",
       "      <td>Sophia has a close friend.</td>\n",
       "      <td>N</td>\n",
       "      <td>type5_possessive</td>\n",
       "      <td>[0.007468892, 0.025917467, 0.12099816, -0.0029...</td>\n",
       "    </tr>\n",
       "    <tr>\n",
       "      <th>NaN</th>\n",
       "      <td>Sam believes that if Sophia decides to attend ...</td>\n",
       "      <td>Sophia has a close friend.</td>\n",
       "      <td>N</td>\n",
       "      <td>type5_possessive</td>\n",
       "      <td>[0.007468892, 0.031093657, 0.12866497, -0.0058...</td>\n",
       "    </tr>\n",
       "    <tr>\n",
       "      <th>NaN</th>\n",
       "      <td>Is it true that if Sophia decides to attend th...</td>\n",
       "      <td>Sophia has a close friend.</td>\n",
       "      <td>N</td>\n",
       "      <td>type5_possessive</td>\n",
       "      <td>[0.007468892, 0.02912562, 0.12740122, -0.00872...</td>\n",
       "    </tr>\n",
       "    <tr>\n",
       "      <th>NaN</th>\n",
       "      <td>If Sophia decides to attend the concert, his b...</td>\n",
       "      <td>Sophia has decided to attend the concert, but ...</td>\n",
       "      <td>C</td>\n",
       "      <td>type5_possessive</td>\n",
       "      <td>[0.007468892, 0.032791648, 0.12810943, 0.00283...</td>\n",
       "    </tr>\n",
       "  </tbody>\n",
       "</table>\n",
       "<p>2367 rows × 5 columns</p>\n",
       "</div>"
      ],
      "text/plain": [
       "                                                  premise  \\\n",
       "9616.0  If Charlotte passes her driving test, her pare...   \n",
       "9617.0  It's not the case that if Charlotte passes her...   \n",
       "9618.0  Sam believes that if Charlotte passes her driv...   \n",
       "9619.0  Is it true that if Charlotte passes her drivin...   \n",
       "9628.0  If Lily takes the train to the city, her frien...   \n",
       "...                                                   ...   \n",
       "NaN     If Sophia decides to attend the concert, his b...   \n",
       "NaN     It's not the case that if Sophia decides to at...   \n",
       "NaN     Sam believes that if Sophia decides to attend ...   \n",
       "NaN     Is it true that if Sophia decides to attend th...   \n",
       "NaN     If Sophia decides to attend the concert, his b...   \n",
       "\n",
       "                                               hypothesis gold_label  \\\n",
       "9616.0                             Charlotte has parents.          E   \n",
       "9617.0                             Charlotte has parents.          E   \n",
       "9618.0                             Charlotte has parents.          E   \n",
       "9619.0                             Charlotte has parents.          E   \n",
       "9628.0                                 Lily has a friend.          E   \n",
       "...                                                   ...        ...   \n",
       "NaN                            Sophia has a close friend.          N   \n",
       "NaN                            Sophia has a close friend.          N   \n",
       "NaN                            Sophia has a close friend.          N   \n",
       "NaN                            Sophia has a close friend.          N   \n",
       "NaN     Sophia has decided to attend the concert, but ...          C   \n",
       "\n",
       "                    type                                infersent_embedding  \n",
       "9616.0  type5_possessive  [0.007468892, 0.026446497, 0.06769888, 0.00283...  \n",
       "9617.0  type5_possessive  [0.007468892, 0.020148389, 0.062289998, -0.002...  \n",
       "9618.0  type5_possessive  [0.015326867, 0.02471645, 0.06731029, -0.00581...  \n",
       "9619.0  type5_possessive  [0.01206528, 0.022741662, 0.066079706, -0.0087...  \n",
       "9628.0  type5_possessive  [0.007468892, -0.03935728, 0.086878315, 0.0028...  \n",
       "...                  ...                                                ...  \n",
       "NaN     type5_possessive  [0.007468892, 0.032791648, 0.12810943, 0.00283...  \n",
       "NaN     type5_possessive  [0.007468892, 0.025917467, 0.12099816, -0.0029...  \n",
       "NaN     type5_possessive  [0.007468892, 0.031093657, 0.12866497, -0.0058...  \n",
       "NaN     type5_possessive  [0.007468892, 0.02912562, 0.12740122, -0.00872...  \n",
       "NaN     type5_possessive  [0.007468892, 0.032791648, 0.12810943, 0.00283...  \n",
       "\n",
       "[2367 rows x 5 columns]"
      ]
     },
     "execution_count": 52,
     "metadata": {},
     "output_type": "execute_result"
    }
   ],
   "source": [
    "test_df"
   ]
  },
  {
   "cell_type": "code",
   "execution_count": 53,
   "metadata": {
    "execution": {
     "iopub.execute_input": "2025-02-06T18:41:24.757786Z",
     "iopub.status.busy": "2025-02-06T18:41:24.757425Z",
     "iopub.status.idle": "2025-02-06T18:41:24.777783Z",
     "shell.execute_reply": "2025-02-06T18:41:24.776868Z",
     "shell.execute_reply.started": "2025-02-06T18:41:24.757756Z"
    },
    "trusted": true
   },
   "outputs": [
    {
     "name": "stderr",
     "output_type": "stream",
     "text": [
      "/usr/local/lib/python3.10/dist-packages/pandas/io/formats/format.py:1458: RuntimeWarning: invalid value encountered in greater\n",
      "  has_large_values = (abs_vals > 1e6).any()\n",
      "/usr/local/lib/python3.10/dist-packages/pandas/io/formats/format.py:1459: RuntimeWarning: invalid value encountered in less\n",
      "  has_small_values = ((abs_vals < 10 ** (-self.digits)) & (abs_vals > 0)).any()\n",
      "/usr/local/lib/python3.10/dist-packages/pandas/io/formats/format.py:1459: RuntimeWarning: invalid value encountered in greater\n",
      "  has_small_values = ((abs_vals < 10 ** (-self.digits)) & (abs_vals > 0)).any()\n"
     ]
    },
    {
     "data": {
      "text/html": [
       "<div>\n",
       "<style scoped>\n",
       "    .dataframe tbody tr th:only-of-type {\n",
       "        vertical-align: middle;\n",
       "    }\n",
       "\n",
       "    .dataframe tbody tr th {\n",
       "        vertical-align: top;\n",
       "    }\n",
       "\n",
       "    .dataframe thead th {\n",
       "        text-align: right;\n",
       "    }\n",
       "</style>\n",
       "<table border=\"1\" class=\"dataframe\">\n",
       "  <thead>\n",
       "    <tr style=\"text-align: right;\">\n",
       "      <th></th>\n",
       "      <th>premise</th>\n",
       "      <th>hypothesis</th>\n",
       "      <th>gold_label</th>\n",
       "      <th>type</th>\n",
       "      <th>infersent_embedding</th>\n",
       "      <th>predicted_label</th>\n",
       "    </tr>\n",
       "  </thead>\n",
       "  <tbody>\n",
       "    <tr>\n",
       "      <th>9616.0</th>\n",
       "      <td>If Charlotte passes her driving test, her pare...</td>\n",
       "      <td>Charlotte has parents.</td>\n",
       "      <td>E</td>\n",
       "      <td>type5_possessive</td>\n",
       "      <td>[0.007468892, 0.026446497, 0.06769888, 0.00283...</td>\n",
       "      <td>0</td>\n",
       "    </tr>\n",
       "    <tr>\n",
       "      <th>9617.0</th>\n",
       "      <td>It's not the case that if Charlotte passes her...</td>\n",
       "      <td>Charlotte has parents.</td>\n",
       "      <td>E</td>\n",
       "      <td>type5_possessive</td>\n",
       "      <td>[0.007468892, 0.020148389, 0.062289998, -0.002...</td>\n",
       "      <td>0</td>\n",
       "    </tr>\n",
       "    <tr>\n",
       "      <th>9618.0</th>\n",
       "      <td>Sam believes that if Charlotte passes her driv...</td>\n",
       "      <td>Charlotte has parents.</td>\n",
       "      <td>E</td>\n",
       "      <td>type5_possessive</td>\n",
       "      <td>[0.015326867, 0.02471645, 0.06731029, -0.00581...</td>\n",
       "      <td>0</td>\n",
       "    </tr>\n",
       "    <tr>\n",
       "      <th>9619.0</th>\n",
       "      <td>Is it true that if Charlotte passes her drivin...</td>\n",
       "      <td>Charlotte has parents.</td>\n",
       "      <td>E</td>\n",
       "      <td>type5_possessive</td>\n",
       "      <td>[0.01206528, 0.022741662, 0.066079706, -0.0087...</td>\n",
       "      <td>0</td>\n",
       "    </tr>\n",
       "    <tr>\n",
       "      <th>9628.0</th>\n",
       "      <td>If Lily takes the train to the city, her frien...</td>\n",
       "      <td>Lily has a friend.</td>\n",
       "      <td>E</td>\n",
       "      <td>type5_possessive</td>\n",
       "      <td>[0.007468892, -0.03935728, 0.086878315, 0.0028...</td>\n",
       "      <td>0</td>\n",
       "    </tr>\n",
       "    <tr>\n",
       "      <th>...</th>\n",
       "      <td>...</td>\n",
       "      <td>...</td>\n",
       "      <td>...</td>\n",
       "      <td>...</td>\n",
       "      <td>...</td>\n",
       "      <td>...</td>\n",
       "    </tr>\n",
       "    <tr>\n",
       "      <th>NaN</th>\n",
       "      <td>If Sophia decides to attend the concert, his b...</td>\n",
       "      <td>Sophia has a close friend.</td>\n",
       "      <td>N</td>\n",
       "      <td>type5_possessive</td>\n",
       "      <td>[0.007468892, 0.032791648, 0.12810943, 0.00283...</td>\n",
       "      <td>0</td>\n",
       "    </tr>\n",
       "    <tr>\n",
       "      <th>NaN</th>\n",
       "      <td>It's not the case that if Sophia decides to at...</td>\n",
       "      <td>Sophia has a close friend.</td>\n",
       "      <td>N</td>\n",
       "      <td>type5_possessive</td>\n",
       "      <td>[0.007468892, 0.025917467, 0.12099816, -0.0029...</td>\n",
       "      <td>0</td>\n",
       "    </tr>\n",
       "    <tr>\n",
       "      <th>NaN</th>\n",
       "      <td>Sam believes that if Sophia decides to attend ...</td>\n",
       "      <td>Sophia has a close friend.</td>\n",
       "      <td>N</td>\n",
       "      <td>type5_possessive</td>\n",
       "      <td>[0.007468892, 0.031093657, 0.12866497, -0.0058...</td>\n",
       "      <td>0</td>\n",
       "    </tr>\n",
       "    <tr>\n",
       "      <th>NaN</th>\n",
       "      <td>Is it true that if Sophia decides to attend th...</td>\n",
       "      <td>Sophia has a close friend.</td>\n",
       "      <td>N</td>\n",
       "      <td>type5_possessive</td>\n",
       "      <td>[0.007468892, 0.02912562, 0.12740122, -0.00872...</td>\n",
       "      <td>0</td>\n",
       "    </tr>\n",
       "    <tr>\n",
       "      <th>NaN</th>\n",
       "      <td>If Sophia decides to attend the concert, his b...</td>\n",
       "      <td>Sophia has decided to attend the concert, but ...</td>\n",
       "      <td>C</td>\n",
       "      <td>type5_possessive</td>\n",
       "      <td>[0.007468892, 0.032791648, 0.12810943, 0.00283...</td>\n",
       "      <td>0</td>\n",
       "    </tr>\n",
       "  </tbody>\n",
       "</table>\n",
       "<p>2367 rows × 6 columns</p>\n",
       "</div>"
      ],
      "text/plain": [
       "                                                  premise  \\\n",
       "9616.0  If Charlotte passes her driving test, her pare...   \n",
       "9617.0  It's not the case that if Charlotte passes her...   \n",
       "9618.0  Sam believes that if Charlotte passes her driv...   \n",
       "9619.0  Is it true that if Charlotte passes her drivin...   \n",
       "9628.0  If Lily takes the train to the city, her frien...   \n",
       "...                                                   ...   \n",
       "NaN     If Sophia decides to attend the concert, his b...   \n",
       "NaN     It's not the case that if Sophia decides to at...   \n",
       "NaN     Sam believes that if Sophia decides to attend ...   \n",
       "NaN     Is it true that if Sophia decides to attend th...   \n",
       "NaN     If Sophia decides to attend the concert, his b...   \n",
       "\n",
       "                                               hypothesis gold_label  \\\n",
       "9616.0                             Charlotte has parents.          E   \n",
       "9617.0                             Charlotte has parents.          E   \n",
       "9618.0                             Charlotte has parents.          E   \n",
       "9619.0                             Charlotte has parents.          E   \n",
       "9628.0                                 Lily has a friend.          E   \n",
       "...                                                   ...        ...   \n",
       "NaN                            Sophia has a close friend.          N   \n",
       "NaN                            Sophia has a close friend.          N   \n",
       "NaN                            Sophia has a close friend.          N   \n",
       "NaN                            Sophia has a close friend.          N   \n",
       "NaN     Sophia has decided to attend the concert, but ...          C   \n",
       "\n",
       "                    type                                infersent_embedding  \\\n",
       "9616.0  type5_possessive  [0.007468892, 0.026446497, 0.06769888, 0.00283...   \n",
       "9617.0  type5_possessive  [0.007468892, 0.020148389, 0.062289998, -0.002...   \n",
       "9618.0  type5_possessive  [0.015326867, 0.02471645, 0.06731029, -0.00581...   \n",
       "9619.0  type5_possessive  [0.01206528, 0.022741662, 0.066079706, -0.0087...   \n",
       "9628.0  type5_possessive  [0.007468892, -0.03935728, 0.086878315, 0.0028...   \n",
       "...                  ...                                                ...   \n",
       "NaN     type5_possessive  [0.007468892, 0.032791648, 0.12810943, 0.00283...   \n",
       "NaN     type5_possessive  [0.007468892, 0.025917467, 0.12099816, -0.0029...   \n",
       "NaN     type5_possessive  [0.007468892, 0.031093657, 0.12866497, -0.0058...   \n",
       "NaN     type5_possessive  [0.007468892, 0.02912562, 0.12740122, -0.00872...   \n",
       "NaN     type5_possessive  [0.007468892, 0.032791648, 0.12810943, 0.00283...   \n",
       "\n",
       "        predicted_label  \n",
       "9616.0                0  \n",
       "9617.0                0  \n",
       "9618.0                0  \n",
       "9619.0                0  \n",
       "9628.0                0  \n",
       "...                 ...  \n",
       "NaN                   0  \n",
       "NaN                   0  \n",
       "NaN                   0  \n",
       "NaN                   0  \n",
       "NaN                   0  \n",
       "\n",
       "[2367 rows x 6 columns]"
      ]
     },
     "execution_count": 53,
     "metadata": {},
     "output_type": "execute_result"
    }
   ],
   "source": [
    "test_df['predicted_label'] = predictions.cpu()\n",
    "test_df"
   ]
  },
  {
   "cell_type": "code",
   "execution_count": 54,
   "metadata": {
    "execution": {
     "iopub.execute_input": "2025-02-06T18:41:28.346065Z",
     "iopub.status.busy": "2025-02-06T18:41:28.345768Z",
     "iopub.status.idle": "2025-02-06T18:41:28.369358Z",
     "shell.execute_reply": "2025-02-06T18:41:28.368556Z",
     "shell.execute_reply.started": "2025-02-06T18:41:28.346043Z"
    },
    "trusted": true
   },
   "outputs": [
    {
     "name": "stderr",
     "output_type": "stream",
     "text": [
      "/usr/local/lib/python3.10/dist-packages/pandas/io/formats/format.py:1458: RuntimeWarning: invalid value encountered in greater\n",
      "  has_large_values = (abs_vals > 1e6).any()\n",
      "/usr/local/lib/python3.10/dist-packages/pandas/io/formats/format.py:1459: RuntimeWarning: invalid value encountered in less\n",
      "  has_small_values = ((abs_vals < 10 ** (-self.digits)) & (abs_vals > 0)).any()\n",
      "/usr/local/lib/python3.10/dist-packages/pandas/io/formats/format.py:1459: RuntimeWarning: invalid value encountered in greater\n",
      "  has_small_values = ((abs_vals < 10 ** (-self.digits)) & (abs_vals > 0)).any()\n"
     ]
    },
    {
     "data": {
      "text/html": [
       "<div>\n",
       "<style scoped>\n",
       "    .dataframe tbody tr th:only-of-type {\n",
       "        vertical-align: middle;\n",
       "    }\n",
       "\n",
       "    .dataframe tbody tr th {\n",
       "        vertical-align: top;\n",
       "    }\n",
       "\n",
       "    .dataframe thead th {\n",
       "        text-align: right;\n",
       "    }\n",
       "</style>\n",
       "<table border=\"1\" class=\"dataframe\">\n",
       "  <thead>\n",
       "    <tr style=\"text-align: right;\">\n",
       "      <th></th>\n",
       "      <th>premise</th>\n",
       "      <th>hypothesis</th>\n",
       "      <th>gold_label</th>\n",
       "      <th>type</th>\n",
       "      <th>infersent_embedding</th>\n",
       "      <th>predicted_label</th>\n",
       "    </tr>\n",
       "  </thead>\n",
       "  <tbody>\n",
       "    <tr>\n",
       "      <th>9616.0</th>\n",
       "      <td>If Charlotte passes her driving test, her pare...</td>\n",
       "      <td>Charlotte has parents.</td>\n",
       "      <td>E</td>\n",
       "      <td>type5_possessive</td>\n",
       "      <td>[0.007468892, 0.026446497, 0.06769888, 0.00283...</td>\n",
       "      <td>E</td>\n",
       "    </tr>\n",
       "    <tr>\n",
       "      <th>9617.0</th>\n",
       "      <td>It's not the case that if Charlotte passes her...</td>\n",
       "      <td>Charlotte has parents.</td>\n",
       "      <td>E</td>\n",
       "      <td>type5_possessive</td>\n",
       "      <td>[0.007468892, 0.020148389, 0.062289998, -0.002...</td>\n",
       "      <td>E</td>\n",
       "    </tr>\n",
       "    <tr>\n",
       "      <th>9618.0</th>\n",
       "      <td>Sam believes that if Charlotte passes her driv...</td>\n",
       "      <td>Charlotte has parents.</td>\n",
       "      <td>E</td>\n",
       "      <td>type5_possessive</td>\n",
       "      <td>[0.015326867, 0.02471645, 0.06731029, -0.00581...</td>\n",
       "      <td>E</td>\n",
       "    </tr>\n",
       "    <tr>\n",
       "      <th>9619.0</th>\n",
       "      <td>Is it true that if Charlotte passes her drivin...</td>\n",
       "      <td>Charlotte has parents.</td>\n",
       "      <td>E</td>\n",
       "      <td>type5_possessive</td>\n",
       "      <td>[0.01206528, 0.022741662, 0.066079706, -0.0087...</td>\n",
       "      <td>E</td>\n",
       "    </tr>\n",
       "    <tr>\n",
       "      <th>9628.0</th>\n",
       "      <td>If Lily takes the train to the city, her frien...</td>\n",
       "      <td>Lily has a friend.</td>\n",
       "      <td>E</td>\n",
       "      <td>type5_possessive</td>\n",
       "      <td>[0.007468892, -0.03935728, 0.086878315, 0.0028...</td>\n",
       "      <td>E</td>\n",
       "    </tr>\n",
       "    <tr>\n",
       "      <th>...</th>\n",
       "      <td>...</td>\n",
       "      <td>...</td>\n",
       "      <td>...</td>\n",
       "      <td>...</td>\n",
       "      <td>...</td>\n",
       "      <td>...</td>\n",
       "    </tr>\n",
       "    <tr>\n",
       "      <th>NaN</th>\n",
       "      <td>If Sophia decides to attend the concert, his b...</td>\n",
       "      <td>Sophia has a close friend.</td>\n",
       "      <td>N</td>\n",
       "      <td>type5_possessive</td>\n",
       "      <td>[0.007468892, 0.032791648, 0.12810943, 0.00283...</td>\n",
       "      <td>E</td>\n",
       "    </tr>\n",
       "    <tr>\n",
       "      <th>NaN</th>\n",
       "      <td>It's not the case that if Sophia decides to at...</td>\n",
       "      <td>Sophia has a close friend.</td>\n",
       "      <td>N</td>\n",
       "      <td>type5_possessive</td>\n",
       "      <td>[0.007468892, 0.025917467, 0.12099816, -0.0029...</td>\n",
       "      <td>E</td>\n",
       "    </tr>\n",
       "    <tr>\n",
       "      <th>NaN</th>\n",
       "      <td>Sam believes that if Sophia decides to attend ...</td>\n",
       "      <td>Sophia has a close friend.</td>\n",
       "      <td>N</td>\n",
       "      <td>type5_possessive</td>\n",
       "      <td>[0.007468892, 0.031093657, 0.12866497, -0.0058...</td>\n",
       "      <td>E</td>\n",
       "    </tr>\n",
       "    <tr>\n",
       "      <th>NaN</th>\n",
       "      <td>Is it true that if Sophia decides to attend th...</td>\n",
       "      <td>Sophia has a close friend.</td>\n",
       "      <td>N</td>\n",
       "      <td>type5_possessive</td>\n",
       "      <td>[0.007468892, 0.02912562, 0.12740122, -0.00872...</td>\n",
       "      <td>E</td>\n",
       "    </tr>\n",
       "    <tr>\n",
       "      <th>NaN</th>\n",
       "      <td>If Sophia decides to attend the concert, his b...</td>\n",
       "      <td>Sophia has decided to attend the concert, but ...</td>\n",
       "      <td>C</td>\n",
       "      <td>type5_possessive</td>\n",
       "      <td>[0.007468892, 0.032791648, 0.12810943, 0.00283...</td>\n",
       "      <td>E</td>\n",
       "    </tr>\n",
       "  </tbody>\n",
       "</table>\n",
       "<p>2367 rows × 6 columns</p>\n",
       "</div>"
      ],
      "text/plain": [
       "                                                  premise  \\\n",
       "9616.0  If Charlotte passes her driving test, her pare...   \n",
       "9617.0  It's not the case that if Charlotte passes her...   \n",
       "9618.0  Sam believes that if Charlotte passes her driv...   \n",
       "9619.0  Is it true that if Charlotte passes her drivin...   \n",
       "9628.0  If Lily takes the train to the city, her frien...   \n",
       "...                                                   ...   \n",
       "NaN     If Sophia decides to attend the concert, his b...   \n",
       "NaN     It's not the case that if Sophia decides to at...   \n",
       "NaN     Sam believes that if Sophia decides to attend ...   \n",
       "NaN     Is it true that if Sophia decides to attend th...   \n",
       "NaN     If Sophia decides to attend the concert, his b...   \n",
       "\n",
       "                                               hypothesis gold_label  \\\n",
       "9616.0                             Charlotte has parents.          E   \n",
       "9617.0                             Charlotte has parents.          E   \n",
       "9618.0                             Charlotte has parents.          E   \n",
       "9619.0                             Charlotte has parents.          E   \n",
       "9628.0                                 Lily has a friend.          E   \n",
       "...                                                   ...        ...   \n",
       "NaN                            Sophia has a close friend.          N   \n",
       "NaN                            Sophia has a close friend.          N   \n",
       "NaN                            Sophia has a close friend.          N   \n",
       "NaN                            Sophia has a close friend.          N   \n",
       "NaN     Sophia has decided to attend the concert, but ...          C   \n",
       "\n",
       "                    type                                infersent_embedding  \\\n",
       "9616.0  type5_possessive  [0.007468892, 0.026446497, 0.06769888, 0.00283...   \n",
       "9617.0  type5_possessive  [0.007468892, 0.020148389, 0.062289998, -0.002...   \n",
       "9618.0  type5_possessive  [0.015326867, 0.02471645, 0.06731029, -0.00581...   \n",
       "9619.0  type5_possessive  [0.01206528, 0.022741662, 0.066079706, -0.0087...   \n",
       "9628.0  type5_possessive  [0.007468892, -0.03935728, 0.086878315, 0.0028...   \n",
       "...                  ...                                                ...   \n",
       "NaN     type5_possessive  [0.007468892, 0.032791648, 0.12810943, 0.00283...   \n",
       "NaN     type5_possessive  [0.007468892, 0.025917467, 0.12099816, -0.0029...   \n",
       "NaN     type5_possessive  [0.007468892, 0.031093657, 0.12866497, -0.0058...   \n",
       "NaN     type5_possessive  [0.007468892, 0.02912562, 0.12740122, -0.00872...   \n",
       "NaN     type5_possessive  [0.007468892, 0.032791648, 0.12810943, 0.00283...   \n",
       "\n",
       "       predicted_label  \n",
       "9616.0               E  \n",
       "9617.0               E  \n",
       "9618.0               E  \n",
       "9619.0               E  \n",
       "9628.0               E  \n",
       "...                ...  \n",
       "NaN                  E  \n",
       "NaN                  E  \n",
       "NaN                  E  \n",
       "NaN                  E  \n",
       "NaN                  E  \n",
       "\n",
       "[2367 rows x 6 columns]"
      ]
     },
     "execution_count": 54,
     "metadata": {},
     "output_type": "execute_result"
    }
   ],
   "source": [
    "test_df['predicted_label'] = test_df['predicted_label'].map({0: 'E',1: 'N', 2: 'C'})\n",
    "test_df "
   ]
  },
  {
   "cell_type": "code",
   "execution_count": 55,
   "metadata": {
    "execution": {
     "iopub.execute_input": "2025-02-06T18:41:33.238139Z",
     "iopub.status.busy": "2025-02-06T18:41:33.237849Z",
     "iopub.status.idle": "2025-02-06T18:41:33.430510Z",
     "shell.execute_reply": "2025-02-06T18:41:33.429859Z",
     "shell.execute_reply.started": "2025-02-06T18:41:33.238116Z"
    },
    "trusted": true
   },
   "outputs": [],
   "source": [
    "from sklearn.metrics import confusion_matrix, classification_report, precision_score, recall_score, f1_score\n",
    "import seaborn as sns\n",
    "import matplotlib.pyplot as plt"
   ]
  },
  {
   "cell_type": "code",
   "execution_count": 56,
   "metadata": {
    "execution": {
     "iopub.execute_input": "2025-02-06T18:41:35.469558Z",
     "iopub.status.busy": "2025-02-06T18:41:35.469045Z",
     "iopub.status.idle": "2025-02-06T18:41:35.740919Z",
     "shell.execute_reply": "2025-02-06T18:41:35.740055Z",
     "shell.execute_reply.started": "2025-02-06T18:41:35.469531Z"
    },
    "trusted": true
   },
   "outputs": [
    {
     "data": {
      "image/png": "[encoded data removed]",
      "text/plain": [
       "<Figure size 800x600 with 2 Axes>"
      ]
     },
     "metadata": {},
     "output_type": "display_data"
    }
   ],
   "source": [
    "# Create the testing confusion matrix\n",
    "cm = confusion_matrix(test_df['gold_label'], test_df['predicted_label'])\n",
    "\n",
    "# Visualize the confusion matrix\n",
    "plt.figure(figsize=(8, 6))\n",
    "sns.heatmap(cm, annot=True, fmt=\"d\",cmap=\"Blues\")\n",
    "plt.xlabel(\"Predicted Label\")\n",
    "plt.ylabel(\"True Label\")\n",
    "plt.title(\"Confusion Matrix\")\n",
    "plt.show()"
   ]
  },
  {
   "cell_type": "code",
   "execution_count": 57,
   "metadata": {
    "execution": {
     "iopub.execute_input": "2025-02-06T18:43:57.249612Z",
     "iopub.status.busy": "2025-02-06T18:43:57.249275Z",
     "iopub.status.idle": "2025-02-06T18:43:57.316532Z",
     "shell.execute_reply": "2025-02-06T18:43:57.315571Z",
     "shell.execute_reply.started": "2025-02-06T18:43:57.249581Z"
    },
    "trusted": true
   },
   "outputs": [
    {
     "data": {
      "text/html": [
       "<div>\n",
       "<style scoped>\n",
       "    .dataframe tbody tr th:only-of-type {\n",
       "        vertical-align: middle;\n",
       "    }\n",
       "\n",
       "    .dataframe tbody tr th {\n",
       "        vertical-align: top;\n",
       "    }\n",
       "\n",
       "    .dataframe thead th {\n",
       "        text-align: right;\n",
       "    }\n",
       "</style>\n",
       "<table border=\"1\" class=\"dataframe\">\n",
       "  <thead>\n",
       "    <tr style=\"text-align: right;\">\n",
       "      <th>label</th>\n",
       "      <th>precision</th>\n",
       "      <th>recall</th>\n",
       "      <th>f1-score</th>\n",
       "      <th>support</th>\n",
       "    </tr>\n",
       "  </thead>\n",
       "  <tbody>\n",
       "    <tr>\n",
       "      <th>C</th>\n",
       "      <td>0.666667</td>\n",
       "      <td>0.002604</td>\n",
       "      <td>0.005188</td>\n",
       "      <td>768.000000</td>\n",
       "    </tr>\n",
       "    <tr>\n",
       "      <th>E</th>\n",
       "      <td>0.307593</td>\n",
       "      <td>0.995833</td>\n",
       "      <td>0.470010</td>\n",
       "      <td>720.000000</td>\n",
       "    </tr>\n",
       "    <tr>\n",
       "      <th>N</th>\n",
       "      <td>0.393939</td>\n",
       "      <td>0.014790</td>\n",
       "      <td>0.028509</td>\n",
       "      <td>879.000000</td>\n",
       "    </tr>\n",
       "    <tr>\n",
       "      <th>accuracy</th>\n",
       "      <td>0.309252</td>\n",
       "      <td>0.309252</td>\n",
       "      <td>0.309252</td>\n",
       "      <td>0.309252</td>\n",
       "    </tr>\n",
       "    <tr>\n",
       "      <th>macro avg</th>\n",
       "      <td>0.456066</td>\n",
       "      <td>0.337742</td>\n",
       "      <td>0.167902</td>\n",
       "      <td>2367.000000</td>\n",
       "    </tr>\n",
       "    <tr>\n",
       "      <th>weighted avg</th>\n",
       "      <td>0.456164</td>\n",
       "      <td>0.309252</td>\n",
       "      <td>0.155239</td>\n",
       "      <td>2367.000000</td>\n",
       "    </tr>\n",
       "  </tbody>\n",
       "</table>\n",
       "</div>"
      ],
      "text/plain": [
       "label         precision    recall  f1-score      support\n",
       "C              0.666667  0.002604  0.005188   768.000000\n",
       "E              0.307593  0.995833  0.470010   720.000000\n",
       "N              0.393939  0.014790  0.028509   879.000000\n",
       "accuracy       0.309252  0.309252  0.309252     0.309252\n",
       "macro avg      0.456066  0.337742  0.167902  2367.000000\n",
       "weighted avg   0.456164  0.309252  0.155239  2367.000000"
      ]
     },
     "execution_count": 57,
     "metadata": {},
     "output_type": "execute_result"
    }
   ],
   "source": [
    "report_dict = classification_report(test_df['gold_label'], test_df['predicted_label'], output_dict=True)\n",
    "report_df = pd.DataFrame(report_dict).transpose() \n",
    "report_df.columns.name = 'label'\n",
    "report_df"
   ]
  },
  {
   "cell_type": "code",
   "execution_count": 58,
   "metadata": {
    "execution": {
     "iopub.execute_input": "2025-02-06T18:44:28.218016Z",
     "iopub.status.busy": "2025-02-06T18:44:28.217718Z",
     "iopub.status.idle": "2025-02-06T18:44:28.222591Z",
     "shell.execute_reply": "2025-02-06T18:44:28.221871Z",
     "shell.execute_reply.started": "2025-02-06T18:44:28.217994Z"
    },
    "trusted": true
   },
   "outputs": [],
   "source": [
    "def compute_metrics_by_type(group):\n",
    "    predictions = group['gold_label']\n",
    "    labels = group['predicted_label']\n",
    "    acc = np.mean(predictions == labels)\n",
    "    precision = precision_score(labels, predictions,average=\"weighted\")\n",
    "    recall = recall_score(labels, predictions,average=\"weighted\")\n",
    "    f1 = f1_score(labels, predictions,average=\"weighted\")\n",
    "    return pd.Series({'accuracy': round(acc,2), 'precision': round(precision,2), 'recall': round(recall,2), 'f1_score': round(f1,2)})"
   ]
  },
  {
   "cell_type": "code",
   "execution_count": 59,
   "metadata": {
    "execution": {
     "iopub.execute_input": "2025-02-06T18:44:31.389888Z",
     "iopub.status.busy": "2025-02-06T18:44:31.389558Z",
     "iopub.status.idle": "2025-02-06T18:44:31.509192Z",
     "shell.execute_reply": "2025-02-06T18:44:31.508343Z",
     "shell.execute_reply.started": "2025-02-06T18:44:31.389862Z"
    },
    "trusted": true
   },
   "outputs": [
    {
     "name": "stderr",
     "output_type": "stream",
     "text": [
      "/usr/local/lib/python3.10/dist-packages/sklearn/metrics/_classification.py:1344: UndefinedMetricWarning: Precision is ill-defined and being set to 0.0 in labels with no predicted samples. Use `zero_division` parameter to control this behavior.\n",
      "  _warn_prf(average, modifier, msg_start, len(result))\n",
      "/usr/local/lib/python3.10/dist-packages/sklearn/metrics/_classification.py:1344: UndefinedMetricWarning: Recall is ill-defined and being set to 0.0 in labels with no true samples. Use `zero_division` parameter to control this behavior.\n",
      "  _warn_prf(average, modifier, msg_start, len(result))\n",
      "/usr/local/lib/python3.10/dist-packages/sklearn/metrics/_classification.py:1344: UndefinedMetricWarning: Precision is ill-defined and being set to 0.0 in labels with no predicted samples. Use `zero_division` parameter to control this behavior.\n",
      "  _warn_prf(average, modifier, msg_start, len(result))\n",
      "/usr/local/lib/python3.10/dist-packages/sklearn/metrics/_classification.py:1344: UndefinedMetricWarning: Recall is ill-defined and being set to 0.0 in labels with no true samples. Use `zero_division` parameter to control this behavior.\n",
      "  _warn_prf(average, modifier, msg_start, len(result))\n",
      "/usr/local/lib/python3.10/dist-packages/sklearn/metrics/_classification.py:1344: UndefinedMetricWarning: Precision is ill-defined and being set to 0.0 in labels with no predicted samples. Use `zero_division` parameter to control this behavior.\n",
      "  _warn_prf(average, modifier, msg_start, len(result))\n",
      "/usr/local/lib/python3.10/dist-packages/sklearn/metrics/_classification.py:1344: UndefinedMetricWarning: Precision is ill-defined and being set to 0.0 in labels with no predicted samples. Use `zero_division` parameter to control this behavior.\n",
      "  _warn_prf(average, modifier, msg_start, len(result))\n",
      "/usr/local/lib/python3.10/dist-packages/sklearn/metrics/_classification.py:1344: UndefinedMetricWarning: Recall is ill-defined and being set to 0.0 in labels with no true samples. Use `zero_division` parameter to control this behavior.\n",
      "  _warn_prf(average, modifier, msg_start, len(result))\n",
      "/usr/local/lib/python3.10/dist-packages/sklearn/metrics/_classification.py:1344: UndefinedMetricWarning: Precision is ill-defined and being set to 0.0 in labels with no predicted samples. Use `zero_division` parameter to control this behavior.\n",
      "  _warn_prf(average, modifier, msg_start, len(result))\n",
      "/usr/local/lib/python3.10/dist-packages/sklearn/metrics/_classification.py:1344: UndefinedMetricWarning: Recall is ill-defined and being set to 0.0 in labels with no true samples. Use `zero_division` parameter to control this behavior.\n",
      "  _warn_prf(average, modifier, msg_start, len(result))\n",
      "/usr/local/lib/python3.10/dist-packages/sklearn/metrics/_classification.py:1344: UndefinedMetricWarning: Recall is ill-defined and being set to 0.0 in labels with no true samples. Use `zero_division` parameter to control this behavior.\n",
      "  _warn_prf(average, modifier, msg_start, len(result))\n",
      "/usr/local/lib/python3.10/dist-packages/sklearn/metrics/_classification.py:1344: UndefinedMetricWarning: Recall is ill-defined and being set to 0.0 in labels with no true samples. Use `zero_division` parameter to control this behavior.\n",
      "  _warn_prf(average, modifier, msg_start, len(result))\n",
      "/usr/local/lib/python3.10/dist-packages/sklearn/metrics/_classification.py:1344: UndefinedMetricWarning: Recall is ill-defined and being set to 0.0 in labels with no true samples. Use `zero_division` parameter to control this behavior.\n",
      "  _warn_prf(average, modifier, msg_start, len(result))\n",
      "<ipython-input-59-5261ab470594>:1: DeprecationWarning: DataFrameGroupBy.apply operated on the grouping columns. This behavior is deprecated, and in a future version of pandas the grouping columns will be excluded from the operation. Either pass `include_groups=False` to exclude the groupings or explicitly select the grouping columns after groupby to silence this warning.\n",
      "  metrics_by_type = test_df.groupby('type').apply(compute_metrics_by_type).reset_index()\n"
     ]
    },
    {
     "data": {
      "text/html": [
       "<div>\n",
       "<style scoped>\n",
       "    .dataframe tbody tr th:only-of-type {\n",
       "        vertical-align: middle;\n",
       "    }\n",
       "\n",
       "    .dataframe tbody tr th {\n",
       "        vertical-align: top;\n",
       "    }\n",
       "\n",
       "    .dataframe thead th {\n",
       "        text-align: right;\n",
       "    }\n",
       "</style>\n",
       "<table border=\"1\" class=\"dataframe\">\n",
       "  <thead>\n",
       "    <tr style=\"text-align: right;\">\n",
       "      <th>ID</th>\n",
       "      <th>type</th>\n",
       "      <th>accuracy</th>\n",
       "      <th>precision</th>\n",
       "      <th>recall</th>\n",
       "      <th>f1_score</th>\n",
       "    </tr>\n",
       "  </thead>\n",
       "  <tbody>\n",
       "    <tr>\n",
       "      <th>0</th>\n",
       "      <td>type1_again</td>\n",
       "      <td>0.00</td>\n",
       "      <td>0.00</td>\n",
       "      <td>0.00</td>\n",
       "      <td>0.00</td>\n",
       "    </tr>\n",
       "    <tr>\n",
       "      <th>1</th>\n",
       "      <td>type1_possessive</td>\n",
       "      <td>0.00</td>\n",
       "      <td>0.00</td>\n",
       "      <td>0.00</td>\n",
       "      <td>0.00</td>\n",
       "    </tr>\n",
       "    <tr>\n",
       "      <th>2</th>\n",
       "      <td>type2_again</td>\n",
       "      <td>0.02</td>\n",
       "      <td>0.00</td>\n",
       "      <td>0.02</td>\n",
       "      <td>0.00</td>\n",
       "    </tr>\n",
       "    <tr>\n",
       "      <th>3</th>\n",
       "      <td>type2_possessive</td>\n",
       "      <td>0.00</td>\n",
       "      <td>0.00</td>\n",
       "      <td>0.00</td>\n",
       "      <td>0.00</td>\n",
       "    </tr>\n",
       "    <tr>\n",
       "      <th>4</th>\n",
       "      <td>type3_again</td>\n",
       "      <td>0.11</td>\n",
       "      <td>0.96</td>\n",
       "      <td>0.11</td>\n",
       "      <td>0.14</td>\n",
       "    </tr>\n",
       "    <tr>\n",
       "      <th>5</th>\n",
       "      <td>type3_possessive</td>\n",
       "      <td>0.00</td>\n",
       "      <td>0.00</td>\n",
       "      <td>0.00</td>\n",
       "      <td>0.00</td>\n",
       "    </tr>\n",
       "    <tr>\n",
       "      <th>6</th>\n",
       "      <td>type4_possessive</td>\n",
       "      <td>0.26</td>\n",
       "      <td>0.98</td>\n",
       "      <td>0.26</td>\n",
       "      <td>0.40</td>\n",
       "    </tr>\n",
       "    <tr>\n",
       "      <th>7</th>\n",
       "      <td>type5_again</td>\n",
       "      <td>0.93</td>\n",
       "      <td>0.98</td>\n",
       "      <td>0.93</td>\n",
       "      <td>0.96</td>\n",
       "    </tr>\n",
       "    <tr>\n",
       "      <th>8</th>\n",
       "      <td>type5_possessive</td>\n",
       "      <td>0.64</td>\n",
       "      <td>1.00</td>\n",
       "      <td>0.64</td>\n",
       "      <td>0.78</td>\n",
       "    </tr>\n",
       "  </tbody>\n",
       "</table>\n",
       "</div>"
      ],
      "text/plain": [
       "ID              type  accuracy  precision  recall  f1_score\n",
       "0        type1_again      0.00       0.00    0.00      0.00\n",
       "1   type1_possessive      0.00       0.00    0.00      0.00\n",
       "2        type2_again      0.02       0.00    0.02      0.00\n",
       "3   type2_possessive      0.00       0.00    0.00      0.00\n",
       "4        type3_again      0.11       0.96    0.11      0.14\n",
       "5   type3_possessive      0.00       0.00    0.00      0.00\n",
       "6   type4_possessive      0.26       0.98    0.26      0.40\n",
       "7        type5_again      0.93       0.98    0.93      0.96\n",
       "8   type5_possessive      0.64       1.00    0.64      0.78"
      ]
     },
     "execution_count": 59,
     "metadata": {},
     "output_type": "execute_result"
    }
   ],
   "source": [
    "metrics_by_type = test_df.groupby('type').apply(compute_metrics_by_type).reset_index()\n",
    "metrics_by_type.columns.name = 'ID'\n",
    "metrics_by_type"
   ]
  }
 ],
 "metadata": {
  "kaggle": {
   "accelerator": "gpu",
   "dataSources": [
    {
     "datasetId": 6570658,
     "sourceId": 10620586,
     "sourceType": "datasetVersion"
    },
    {
     "datasetId": 6576147,
     "sourceId": 10621169,
     "sourceType": "datasetVersion"
    },
    {
     "datasetId": 6586364,
     "sourceId": 10637710,
     "sourceType": "datasetVersion"
    },
    {
     "datasetId": 6568489,
     "sourceId": 10680118,
     "sourceType": "datasetVersion"
    }
   ],
   "dockerImageVersionId": 30840,
   "isGpuEnabled": true,
   "isInternetEnabled": true,
   "language": "python",
   "sourceType": "notebook"
  },
  "kernelspec": {
   "display_name": "Python 3",
   "language": "python",
   "name": "python3"
  },
  "language_info": {
   "codemirror_mode": {
    "name": "ipython",
    "version": 3
   },
   "file_extension": ".py",
   "mimetype": "text/x-python",
   "name": "python",
   "nbconvert_exporter": "python",
   "pygments_lexer": "ipython3",
   "version": "3.10.12"
  }
 },
 "nbformat": 4,
 "nbformat_minor": 4
}
