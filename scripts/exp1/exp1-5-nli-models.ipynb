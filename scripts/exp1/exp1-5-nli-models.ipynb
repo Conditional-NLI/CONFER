{
 "cells": [
  {
   "cell_type": "code",
   "execution_count": 31,
   "metadata": {
    "_cell_guid": "b1076dfc-b9ad-4769-8c92-a6c4dae69d19",
    "_uuid": "8f2839f25d086af736a60e9eeb907d3b93b6e0e5",
    "execution": {
     "iopub.execute_input": "2025-03-11T18:24:37.844194Z",
     "iopub.status.busy": "2025-03-11T18:24:37.843829Z",
     "iopub.status.idle": "2025-03-11T18:24:37.849399Z",
     "shell.execute_reply": "2025-03-11T18:24:37.848491Z",
     "shell.execute_reply.started": "2025-03-11T18:24:37.844138Z"
    },
    "trusted": true
   },
   "outputs": [],
   "source": [
    "import random\n",
    "import numpy as np # linear algebra\n",
    "import pandas as pd # data processing, CSV file I/O (e.g. pd.read_csv)\n",
    "import accelerate\n",
    "from transformers import TrainingArguments, Trainer, AutoTokenizer, AutoModelForSequenceClassification, DataCollatorWithPadding\n",
    "from datasets import load_dataset, Dataset\n",
    "from sklearn.model_selection import train_test_split\n",
    "from sklearn.metrics import confusion_matrix, ConfusionMatrixDisplay, precision_score, recall_score, f1_score\n",
    "from imblearn.metrics import geometric_mean_score"
   ]
  },
  {
   "cell_type": "markdown",
   "metadata": {},
   "source": [
    "# Data"
   ]
  },
  {
   "cell_type": "code",
   "execution_count": 2,
   "metadata": {
    "execution": {
     "iopub.execute_input": "2025-03-11T18:23:55.474076Z",
     "iopub.status.busy": "2025-03-11T18:23:55.473499Z",
     "iopub.status.idle": "2025-03-11T18:23:55.567467Z",
     "shell.execute_reply": "2025-03-11T18:23:55.566652Z",
     "shell.execute_reply.started": "2025-03-11T18:23:55.474051Z"
    },
    "trusted": true
   },
   "outputs": [
    {
     "name": "stderr",
     "output_type": "stream",
     "text": [
      "/usr/local/lib/python3.10/dist-packages/pandas/io/formats/format.py:1458: RuntimeWarning: invalid value encountered in greater\n",
      "  has_large_values = (abs_vals > 1e6).any()\n",
      "/usr/local/lib/python3.10/dist-packages/pandas/io/formats/format.py:1459: RuntimeWarning: invalid value encountered in less\n",
      "  has_small_values = ((abs_vals < 10 ** (-self.digits)) & (abs_vals > 0)).any()\n",
      "/usr/local/lib/python3.10/dist-packages/pandas/io/formats/format.py:1459: RuntimeWarning: invalid value encountered in greater\n",
      "  has_small_values = ((abs_vals < 10 ** (-self.digits)) & (abs_vals > 0)).any()\n"
     ]
    },
    {
     "data": {
      "text/html": [
       "<div>\n",
       "<style scoped>\n",
       "    .dataframe tbody tr th:only-of-type {\n",
       "        vertical-align: middle;\n",
       "    }\n",
       "\n",
       "    .dataframe tbody tr th {\n",
       "        vertical-align: top;\n",
       "    }\n",
       "\n",
       "    .dataframe thead th {\n",
       "        text-align: right;\n",
       "    }\n",
       "</style>\n",
       "<table border=\"1\" class=\"dataframe\">\n",
       "  <thead>\n",
       "    <tr style=\"text-align: right;\">\n",
       "      <th></th>\n",
       "      <th>premise</th>\n",
       "      <th>hypothesis</th>\n",
       "      <th>gold_label</th>\n",
       "      <th>type</th>\n",
       "    </tr>\n",
       "  </thead>\n",
       "  <tbody>\n",
       "    <tr>\n",
       "      <th>9604.0</th>\n",
       "      <td>If Emily passes her driving test, her best fri...</td>\n",
       "      <td>Emily has a best friend.</td>\n",
       "      <td>E</td>\n",
       "      <td>type5_possessive</td>\n",
       "    </tr>\n",
       "    <tr>\n",
       "      <th>9605.0</th>\n",
       "      <td>It's not the case that if Emily passes her dri...</td>\n",
       "      <td>Emily has a best friend.</td>\n",
       "      <td>E</td>\n",
       "      <td>type5_possessive</td>\n",
       "    </tr>\n",
       "    <tr>\n",
       "      <th>9606.0</th>\n",
       "      <td>Sam believes that if Emily passes her driving ...</td>\n",
       "      <td>Emily has a best friend.</td>\n",
       "      <td>E</td>\n",
       "      <td>type5_possessive</td>\n",
       "    </tr>\n",
       "    <tr>\n",
       "      <th>9607.0</th>\n",
       "      <td>Is it true that if Emily passes her driving te...</td>\n",
       "      <td>Emily has a best friend.</td>\n",
       "      <td>E</td>\n",
       "      <td>type5_possessive</td>\n",
       "    </tr>\n",
       "    <tr>\n",
       "      <th>9608.0</th>\n",
       "      <td>If Scarlett finishes her work early, her husba...</td>\n",
       "      <td>Scarlett has a husband.</td>\n",
       "      <td>E</td>\n",
       "      <td>type5_possessive</td>\n",
       "    </tr>\n",
       "    <tr>\n",
       "      <th>...</th>\n",
       "      <td>...</td>\n",
       "      <td>...</td>\n",
       "      <td>...</td>\n",
       "      <td>...</td>\n",
       "    </tr>\n",
       "    <tr>\n",
       "      <th>NaN</th>\n",
       "      <td>If Emily passes her driving test, her best fri...</td>\n",
       "      <td>Emily has a sister.</td>\n",
       "      <td>N</td>\n",
       "      <td>type5_possessive</td>\n",
       "    </tr>\n",
       "    <tr>\n",
       "      <th>NaN</th>\n",
       "      <td>It's not the case that if Scarlett finishes he...</td>\n",
       "      <td>Scarlett has a sister-in-law.</td>\n",
       "      <td>N</td>\n",
       "      <td>type5_possessive</td>\n",
       "    </tr>\n",
       "    <tr>\n",
       "      <th>NaN</th>\n",
       "      <td>Sam believes that if Chloe finishes his work e...</td>\n",
       "      <td>Chloe has a boss.</td>\n",
       "      <td>N</td>\n",
       "      <td>type5_possessive</td>\n",
       "    </tr>\n",
       "    <tr>\n",
       "      <th>NaN</th>\n",
       "      <td>Is it true that if Ryan passes his driving tes...</td>\n",
       "      <td>Ryan has siblings.</td>\n",
       "      <td>N</td>\n",
       "      <td>type5_possessive</td>\n",
       "    </tr>\n",
       "    <tr>\n",
       "      <th>NaN</th>\n",
       "      <td>If Ryan passes his driving test, his parents w...</td>\n",
       "      <td>Ryan does not have parents</td>\n",
       "      <td>C</td>\n",
       "      <td>type5_possessive</td>\n",
       "    </tr>\n",
       "  </tbody>\n",
       "</table>\n",
       "<p>6486 rows × 4 columns</p>\n",
       "</div>"
      ],
      "text/plain": [
       "                                                  premise  \\\n",
       "9604.0  If Emily passes her driving test, her best fri...   \n",
       "9605.0  It's not the case that if Emily passes her dri...   \n",
       "9606.0  Sam believes that if Emily passes her driving ...   \n",
       "9607.0  Is it true that if Emily passes her driving te...   \n",
       "9608.0  If Scarlett finishes her work early, her husba...   \n",
       "...                                                   ...   \n",
       "NaN     If Emily passes her driving test, her best fri...   \n",
       "NaN     It's not the case that if Scarlett finishes he...   \n",
       "NaN     Sam believes that if Chloe finishes his work e...   \n",
       "NaN     Is it true that if Ryan passes his driving tes...   \n",
       "NaN     If Ryan passes his driving test, his parents w...   \n",
       "\n",
       "                           hypothesis gold_label              type  \n",
       "9604.0       Emily has a best friend.          E  type5_possessive  \n",
       "9605.0       Emily has a best friend.          E  type5_possessive  \n",
       "9606.0       Emily has a best friend.          E  type5_possessive  \n",
       "9607.0       Emily has a best friend.          E  type5_possessive  \n",
       "9608.0        Scarlett has a husband.          E  type5_possessive  \n",
       "...                               ...        ...               ...  \n",
       "NaN               Emily has a sister.          N  type5_possessive  \n",
       "NaN     Scarlett has a sister-in-law.          N  type5_possessive  \n",
       "NaN                 Chloe has a boss.          N  type5_possessive  \n",
       "NaN                Ryan has siblings.          N  type5_possessive  \n",
       "NaN        Ryan does not have parents          C  type5_possessive  \n",
       "\n",
       "[6486 rows x 4 columns]"
      ]
     },
     "execution_count": 2,
     "metadata": {},
     "output_type": "execute_result"
    }
   ],
   "source": [
    "train_df = pd.read_csv(\"../../data/processed/train.csv\",index_col=0)\n",
    "train_df"
   ]
  },
  {
   "cell_type": "code",
   "execution_count": 3,
   "metadata": {
    "execution": {
     "iopub.execute_input": "2025-03-11T18:23:55.569843Z",
     "iopub.status.busy": "2025-03-11T18:23:55.569476Z",
     "iopub.status.idle": "2025-03-11T18:23:55.588373Z",
     "shell.execute_reply": "2025-03-11T18:23:55.587503Z",
     "shell.execute_reply.started": "2025-03-11T18:23:55.569809Z"
    },
    "trusted": true
   },
   "outputs": [
    {
     "data": {
      "text/plain": [
       "gold_label\n",
       "C    2172\n",
       "N    2162\n",
       "E    2152\n",
       "Name: count, dtype: int64"
      ]
     },
     "execution_count": 3,
     "metadata": {},
     "output_type": "execute_result"
    }
   ],
   "source": [
    "train_df['gold_label'].value_counts()"
   ]
  },
  {
   "cell_type": "code",
   "execution_count": 4,
   "metadata": {
    "execution": {
     "iopub.execute_input": "2025-03-11T18:23:55.589967Z",
     "iopub.status.busy": "2025-03-11T18:23:55.589700Z",
     "iopub.status.idle": "2025-03-11T18:23:55.611477Z",
     "shell.execute_reply": "2025-03-11T18:23:55.610504Z",
     "shell.execute_reply.started": "2025-03-11T18:23:55.589930Z"
    },
    "trusted": true
   },
   "outputs": [
    {
     "name": "stderr",
     "output_type": "stream",
     "text": [
      "/usr/local/lib/python3.10/dist-packages/pandas/io/formats/format.py:1458: RuntimeWarning: invalid value encountered in greater\n",
      "  has_large_values = (abs_vals > 1e6).any()\n",
      "/usr/local/lib/python3.10/dist-packages/pandas/io/formats/format.py:1459: RuntimeWarning: invalid value encountered in less\n",
      "  has_small_values = ((abs_vals < 10 ** (-self.digits)) & (abs_vals > 0)).any()\n",
      "/usr/local/lib/python3.10/dist-packages/pandas/io/formats/format.py:1459: RuntimeWarning: invalid value encountered in greater\n",
      "  has_small_values = ((abs_vals < 10 ** (-self.digits)) & (abs_vals > 0)).any()\n"
     ]
    },
    {
     "data": {
      "text/html": [
       "<div>\n",
       "<style scoped>\n",
       "    .dataframe tbody tr th:only-of-type {\n",
       "        vertical-align: middle;\n",
       "    }\n",
       "\n",
       "    .dataframe tbody tr th {\n",
       "        vertical-align: top;\n",
       "    }\n",
       "\n",
       "    .dataframe thead th {\n",
       "        text-align: right;\n",
       "    }\n",
       "</style>\n",
       "<table border=\"1\" class=\"dataframe\">\n",
       "  <thead>\n",
       "    <tr style=\"text-align: right;\">\n",
       "      <th></th>\n",
       "      <th>premise</th>\n",
       "      <th>hypothesis</th>\n",
       "      <th>gold_label</th>\n",
       "      <th>type</th>\n",
       "      <th>label</th>\n",
       "    </tr>\n",
       "  </thead>\n",
       "  <tbody>\n",
       "    <tr>\n",
       "      <th>9604.0</th>\n",
       "      <td>If Emily passes her driving test, her best fri...</td>\n",
       "      <td>Emily has a best friend.</td>\n",
       "      <td>E</td>\n",
       "      <td>type5_possessive</td>\n",
       "      <td>2</td>\n",
       "    </tr>\n",
       "    <tr>\n",
       "      <th>9605.0</th>\n",
       "      <td>It's not the case that if Emily passes her dri...</td>\n",
       "      <td>Emily has a best friend.</td>\n",
       "      <td>E</td>\n",
       "      <td>type5_possessive</td>\n",
       "      <td>2</td>\n",
       "    </tr>\n",
       "    <tr>\n",
       "      <th>9606.0</th>\n",
       "      <td>Sam believes that if Emily passes her driving ...</td>\n",
       "      <td>Emily has a best friend.</td>\n",
       "      <td>E</td>\n",
       "      <td>type5_possessive</td>\n",
       "      <td>2</td>\n",
       "    </tr>\n",
       "    <tr>\n",
       "      <th>9607.0</th>\n",
       "      <td>Is it true that if Emily passes her driving te...</td>\n",
       "      <td>Emily has a best friend.</td>\n",
       "      <td>E</td>\n",
       "      <td>type5_possessive</td>\n",
       "      <td>2</td>\n",
       "    </tr>\n",
       "    <tr>\n",
       "      <th>9608.0</th>\n",
       "      <td>If Scarlett finishes her work early, her husba...</td>\n",
       "      <td>Scarlett has a husband.</td>\n",
       "      <td>E</td>\n",
       "      <td>type5_possessive</td>\n",
       "      <td>2</td>\n",
       "    </tr>\n",
       "    <tr>\n",
       "      <th>...</th>\n",
       "      <td>...</td>\n",
       "      <td>...</td>\n",
       "      <td>...</td>\n",
       "      <td>...</td>\n",
       "      <td>...</td>\n",
       "    </tr>\n",
       "    <tr>\n",
       "      <th>NaN</th>\n",
       "      <td>If Emily passes her driving test, her best fri...</td>\n",
       "      <td>Emily has a sister.</td>\n",
       "      <td>N</td>\n",
       "      <td>type5_possessive</td>\n",
       "      <td>1</td>\n",
       "    </tr>\n",
       "    <tr>\n",
       "      <th>NaN</th>\n",
       "      <td>It's not the case that if Scarlett finishes he...</td>\n",
       "      <td>Scarlett has a sister-in-law.</td>\n",
       "      <td>N</td>\n",
       "      <td>type5_possessive</td>\n",
       "      <td>1</td>\n",
       "    </tr>\n",
       "    <tr>\n",
       "      <th>NaN</th>\n",
       "      <td>Sam believes that if Chloe finishes his work e...</td>\n",
       "      <td>Chloe has a boss.</td>\n",
       "      <td>N</td>\n",
       "      <td>type5_possessive</td>\n",
       "      <td>1</td>\n",
       "    </tr>\n",
       "    <tr>\n",
       "      <th>NaN</th>\n",
       "      <td>Is it true that if Ryan passes his driving tes...</td>\n",
       "      <td>Ryan has siblings.</td>\n",
       "      <td>N</td>\n",
       "      <td>type5_possessive</td>\n",
       "      <td>1</td>\n",
       "    </tr>\n",
       "    <tr>\n",
       "      <th>NaN</th>\n",
       "      <td>If Ryan passes his driving test, his parents w...</td>\n",
       "      <td>Ryan does not have parents</td>\n",
       "      <td>C</td>\n",
       "      <td>type5_possessive</td>\n",
       "      <td>0</td>\n",
       "    </tr>\n",
       "  </tbody>\n",
       "</table>\n",
       "<p>6486 rows × 5 columns</p>\n",
       "</div>"
      ],
      "text/plain": [
       "                                                  premise  \\\n",
       "9604.0  If Emily passes her driving test, her best fri...   \n",
       "9605.0  It's not the case that if Emily passes her dri...   \n",
       "9606.0  Sam believes that if Emily passes her driving ...   \n",
       "9607.0  Is it true that if Emily passes her driving te...   \n",
       "9608.0  If Scarlett finishes her work early, her husba...   \n",
       "...                                                   ...   \n",
       "NaN     If Emily passes her driving test, her best fri...   \n",
       "NaN     It's not the case that if Scarlett finishes he...   \n",
       "NaN     Sam believes that if Chloe finishes his work e...   \n",
       "NaN     Is it true that if Ryan passes his driving tes...   \n",
       "NaN     If Ryan passes his driving test, his parents w...   \n",
       "\n",
       "                           hypothesis gold_label              type  label  \n",
       "9604.0       Emily has a best friend.          E  type5_possessive      2  \n",
       "9605.0       Emily has a best friend.          E  type5_possessive      2  \n",
       "9606.0       Emily has a best friend.          E  type5_possessive      2  \n",
       "9607.0       Emily has a best friend.          E  type5_possessive      2  \n",
       "9608.0        Scarlett has a husband.          E  type5_possessive      2  \n",
       "...                               ...        ...               ...    ...  \n",
       "NaN               Emily has a sister.          N  type5_possessive      1  \n",
       "NaN     Scarlett has a sister-in-law.          N  type5_possessive      1  \n",
       "NaN                 Chloe has a boss.          N  type5_possessive      1  \n",
       "NaN                Ryan has siblings.          N  type5_possessive      1  \n",
       "NaN        Ryan does not have parents          C  type5_possessive      0  \n",
       "\n",
       "[6486 rows x 5 columns]"
      ]
     },
     "execution_count": 4,
     "metadata": {},
     "output_type": "execute_result"
    }
   ],
   "source": [
    "train_df['label'] = train_df['gold_label'].map({'C':0,'N':1,'E':2})\n",
    "train_df"
   ]
  },
  {
   "cell_type": "code",
   "execution_count": 5,
   "metadata": {
    "execution": {
     "iopub.execute_input": "2025-03-11T18:23:55.612723Z",
     "iopub.status.busy": "2025-03-11T18:23:55.612375Z",
     "iopub.status.idle": "2025-03-11T18:23:55.634528Z",
     "shell.execute_reply": "2025-03-11T18:23:55.633771Z",
     "shell.execute_reply.started": "2025-03-11T18:23:55.612698Z"
    },
    "trusted": true
   },
   "outputs": [
    {
     "name": "stderr",
     "output_type": "stream",
     "text": [
      "/usr/local/lib/python3.10/dist-packages/pandas/io/formats/format.py:1458: RuntimeWarning: invalid value encountered in greater\n",
      "  has_large_values = (abs_vals > 1e6).any()\n",
      "/usr/local/lib/python3.10/dist-packages/pandas/io/formats/format.py:1459: RuntimeWarning: invalid value encountered in less\n",
      "  has_small_values = ((abs_vals < 10 ** (-self.digits)) & (abs_vals > 0)).any()\n",
      "/usr/local/lib/python3.10/dist-packages/pandas/io/formats/format.py:1459: RuntimeWarning: invalid value encountered in greater\n",
      "  has_small_values = ((abs_vals < 10 ** (-self.digits)) & (abs_vals > 0)).any()\n"
     ]
    },
    {
     "data": {
      "text/html": [
       "<div>\n",
       "<style scoped>\n",
       "    .dataframe tbody tr th:only-of-type {\n",
       "        vertical-align: middle;\n",
       "    }\n",
       "\n",
       "    .dataframe tbody tr th {\n",
       "        vertical-align: top;\n",
       "    }\n",
       "\n",
       "    .dataframe thead th {\n",
       "        text-align: right;\n",
       "    }\n",
       "</style>\n",
       "<table border=\"1\" class=\"dataframe\">\n",
       "  <thead>\n",
       "    <tr style=\"text-align: right;\">\n",
       "      <th></th>\n",
       "      <th>premise</th>\n",
       "      <th>hypothesis</th>\n",
       "      <th>label</th>\n",
       "    </tr>\n",
       "  </thead>\n",
       "  <tbody>\n",
       "    <tr>\n",
       "      <th>9604.0</th>\n",
       "      <td>If Emily passes her driving test, her best fri...</td>\n",
       "      <td>Emily has a best friend.</td>\n",
       "      <td>2</td>\n",
       "    </tr>\n",
       "    <tr>\n",
       "      <th>9605.0</th>\n",
       "      <td>It's not the case that if Emily passes her dri...</td>\n",
       "      <td>Emily has a best friend.</td>\n",
       "      <td>2</td>\n",
       "    </tr>\n",
       "    <tr>\n",
       "      <th>9606.0</th>\n",
       "      <td>Sam believes that if Emily passes her driving ...</td>\n",
       "      <td>Emily has a best friend.</td>\n",
       "      <td>2</td>\n",
       "    </tr>\n",
       "    <tr>\n",
       "      <th>9607.0</th>\n",
       "      <td>Is it true that if Emily passes her driving te...</td>\n",
       "      <td>Emily has a best friend.</td>\n",
       "      <td>2</td>\n",
       "    </tr>\n",
       "    <tr>\n",
       "      <th>9608.0</th>\n",
       "      <td>If Scarlett finishes her work early, her husba...</td>\n",
       "      <td>Scarlett has a husband.</td>\n",
       "      <td>2</td>\n",
       "    </tr>\n",
       "    <tr>\n",
       "      <th>...</th>\n",
       "      <td>...</td>\n",
       "      <td>...</td>\n",
       "      <td>...</td>\n",
       "    </tr>\n",
       "    <tr>\n",
       "      <th>NaN</th>\n",
       "      <td>If Emily passes her driving test, her best fri...</td>\n",
       "      <td>Emily has a sister.</td>\n",
       "      <td>1</td>\n",
       "    </tr>\n",
       "    <tr>\n",
       "      <th>NaN</th>\n",
       "      <td>It's not the case that if Scarlett finishes he...</td>\n",
       "      <td>Scarlett has a sister-in-law.</td>\n",
       "      <td>1</td>\n",
       "    </tr>\n",
       "    <tr>\n",
       "      <th>NaN</th>\n",
       "      <td>Sam believes that if Chloe finishes his work e...</td>\n",
       "      <td>Chloe has a boss.</td>\n",
       "      <td>1</td>\n",
       "    </tr>\n",
       "    <tr>\n",
       "      <th>NaN</th>\n",
       "      <td>Is it true that if Ryan passes his driving tes...</td>\n",
       "      <td>Ryan has siblings.</td>\n",
       "      <td>1</td>\n",
       "    </tr>\n",
       "    <tr>\n",
       "      <th>NaN</th>\n",
       "      <td>If Ryan passes his driving test, his parents w...</td>\n",
       "      <td>Ryan does not have parents</td>\n",
       "      <td>0</td>\n",
       "    </tr>\n",
       "  </tbody>\n",
       "</table>\n",
       "<p>6486 rows × 3 columns</p>\n",
       "</div>"
      ],
      "text/plain": [
       "                                                  premise  \\\n",
       "9604.0  If Emily passes her driving test, her best fri...   \n",
       "9605.0  It's not the case that if Emily passes her dri...   \n",
       "9606.0  Sam believes that if Emily passes her driving ...   \n",
       "9607.0  Is it true that if Emily passes her driving te...   \n",
       "9608.0  If Scarlett finishes her work early, her husba...   \n",
       "...                                                   ...   \n",
       "NaN     If Emily passes her driving test, her best fri...   \n",
       "NaN     It's not the case that if Scarlett finishes he...   \n",
       "NaN     Sam believes that if Chloe finishes his work e...   \n",
       "NaN     Is it true that if Ryan passes his driving tes...   \n",
       "NaN     If Ryan passes his driving test, his parents w...   \n",
       "\n",
       "                           hypothesis  label  \n",
       "9604.0       Emily has a best friend.      2  \n",
       "9605.0       Emily has a best friend.      2  \n",
       "9606.0       Emily has a best friend.      2  \n",
       "9607.0       Emily has a best friend.      2  \n",
       "9608.0        Scarlett has a husband.      2  \n",
       "...                               ...    ...  \n",
       "NaN               Emily has a sister.      1  \n",
       "NaN     Scarlett has a sister-in-law.      1  \n",
       "NaN                 Chloe has a boss.      1  \n",
       "NaN                Ryan has siblings.      1  \n",
       "NaN        Ryan does not have parents      0  \n",
       "\n",
       "[6486 rows x 3 columns]"
      ]
     },
     "execution_count": 5,
     "metadata": {},
     "output_type": "execute_result"
    }
   ],
   "source": [
    "train_df = train_df[['premise','hypothesis','label']]\n",
    "train_df"
   ]
  },
  {
   "cell_type": "code",
   "execution_count": 6,
   "metadata": {
    "execution": {
     "iopub.execute_input": "2025-03-11T18:23:55.635724Z",
     "iopub.status.busy": "2025-03-11T18:23:55.635436Z",
     "iopub.status.idle": "2025-03-11T18:23:55.652112Z",
     "shell.execute_reply": "2025-03-11T18:23:55.651065Z",
     "shell.execute_reply.started": "2025-03-11T18:23:55.635701Z"
    },
    "trusted": true
   },
   "outputs": [
    {
     "data": {
      "text/html": [
       "<div>\n",
       "<style scoped>\n",
       "    .dataframe tbody tr th:only-of-type {\n",
       "        vertical-align: middle;\n",
       "    }\n",
       "\n",
       "    .dataframe tbody tr th {\n",
       "        vertical-align: top;\n",
       "    }\n",
       "\n",
       "    .dataframe thead th {\n",
       "        text-align: right;\n",
       "    }\n",
       "</style>\n",
       "<table border=\"1\" class=\"dataframe\">\n",
       "  <thead>\n",
       "    <tr style=\"text-align: right;\">\n",
       "      <th></th>\n",
       "      <th>premise</th>\n",
       "      <th>hypothesis</th>\n",
       "      <th>label</th>\n",
       "    </tr>\n",
       "  </thead>\n",
       "  <tbody>\n",
       "  </tbody>\n",
       "</table>\n",
       "</div>"
      ],
      "text/plain": [
       "Empty DataFrame\n",
       "Columns: [premise, hypothesis, label]\n",
       "Index: []"
      ]
     },
     "execution_count": 6,
     "metadata": {},
     "output_type": "execute_result"
    }
   ],
   "source": [
    "train_df[train_df['premise'].isna()]"
   ]
  },
  {
   "cell_type": "code",
   "execution_count": 7,
   "metadata": {
    "execution": {
     "iopub.execute_input": "2025-03-11T18:23:55.653599Z",
     "iopub.status.busy": "2025-03-11T18:23:55.653241Z",
     "iopub.status.idle": "2025-03-11T18:23:55.665994Z",
     "shell.execute_reply": "2025-03-11T18:23:55.665370Z",
     "shell.execute_reply.started": "2025-03-11T18:23:55.653562Z"
    },
    "trusted": true
   },
   "outputs": [],
   "source": [
    "train_df = train_df[train_df['hypothesis'].notna()]"
   ]
  },
  {
   "cell_type": "code",
   "execution_count": 8,
   "metadata": {
    "execution": {
     "iopub.execute_input": "2025-03-11T18:23:55.667024Z",
     "iopub.status.busy": "2025-03-11T18:23:55.666696Z",
     "iopub.status.idle": "2025-03-11T18:23:55.684811Z",
     "shell.execute_reply": "2025-03-11T18:23:55.684096Z",
     "shell.execute_reply.started": "2025-03-11T18:23:55.667002Z"
    },
    "trusted": true
   },
   "outputs": [
    {
     "data": {
      "text/html": [
       "<div>\n",
       "<style scoped>\n",
       "    .dataframe tbody tr th:only-of-type {\n",
       "        vertical-align: middle;\n",
       "    }\n",
       "\n",
       "    .dataframe tbody tr th {\n",
       "        vertical-align: top;\n",
       "    }\n",
       "\n",
       "    .dataframe thead th {\n",
       "        text-align: right;\n",
       "    }\n",
       "</style>\n",
       "<table border=\"1\" class=\"dataframe\">\n",
       "  <thead>\n",
       "    <tr style=\"text-align: right;\">\n",
       "      <th></th>\n",
       "      <th>premise</th>\n",
       "      <th>hypothesis</th>\n",
       "      <th>label</th>\n",
       "    </tr>\n",
       "  </thead>\n",
       "  <tbody>\n",
       "  </tbody>\n",
       "</table>\n",
       "</div>"
      ],
      "text/plain": [
       "Empty DataFrame\n",
       "Columns: [premise, hypothesis, label]\n",
       "Index: []"
      ]
     },
     "execution_count": 8,
     "metadata": {},
     "output_type": "execute_result"
    }
   ],
   "source": [
    "train_df[train_df['hypothesis'].isna()]"
   ]
  },
  {
   "cell_type": "code",
   "execution_count": 9,
   "metadata": {
    "execution": {
     "iopub.execute_input": "2025-03-11T18:23:55.688302Z",
     "iopub.status.busy": "2025-03-11T18:23:55.688051Z",
     "iopub.status.idle": "2025-03-11T18:23:55.700535Z",
     "shell.execute_reply": "2025-03-11T18:23:55.699813Z",
     "shell.execute_reply.started": "2025-03-11T18:23:55.688271Z"
    },
    "trusted": true
   },
   "outputs": [
    {
     "data": {
      "text/plain": [
       "premise       It's not the case that if the fan insulted an opponent at the match, he'll never insult an opponent at the match again.\n",
       "hypothesis                                                                                 The fan insulted an opponent at the match.\n",
       "label                                                                                                                               1\n",
       "Name: 192.0, dtype: object"
      ]
     },
     "execution_count": 9,
     "metadata": {},
     "output_type": "execute_result"
    }
   ],
   "source": [
    "pd.set_option('display.max_colwidth', None)\n",
    "train_df.loc[192]"
   ]
  },
  {
   "cell_type": "code",
   "execution_count": 10,
   "metadata": {
    "execution": {
     "iopub.execute_input": "2025-03-11T18:23:55.702760Z",
     "iopub.status.busy": "2025-03-11T18:23:55.702440Z",
     "iopub.status.idle": "2025-03-11T18:23:55.714714Z",
     "shell.execute_reply": "2025-03-11T18:23:55.713877Z",
     "shell.execute_reply.started": "2025-03-11T18:23:55.702737Z"
    },
    "trusted": true
   },
   "outputs": [
    {
     "data": {
      "text/plain": [
       "premise       object\n",
       "hypothesis    object\n",
       "label          int64\n",
       "dtype: object"
      ]
     },
     "execution_count": 10,
     "metadata": {},
     "output_type": "execute_result"
    }
   ],
   "source": [
    "train_df.dtypes"
   ]
  },
  {
   "cell_type": "code",
   "execution_count": 11,
   "metadata": {
    "execution": {
     "iopub.execute_input": "2025-03-11T18:23:55.715972Z",
     "iopub.status.busy": "2025-03-11T18:23:55.715655Z",
     "iopub.status.idle": "2025-03-11T18:23:55.759659Z",
     "shell.execute_reply": "2025-03-11T18:23:55.759027Z",
     "shell.execute_reply.started": "2025-03-11T18:23:55.715941Z"
    },
    "trusted": true
   },
   "outputs": [
    {
     "name": "stderr",
     "output_type": "stream",
     "text": [
      "/usr/local/lib/python3.10/dist-packages/pandas/io/formats/format.py:1458: RuntimeWarning: invalid value encountered in greater\n",
      "  has_large_values = (abs_vals > 1e6).any()\n",
      "/usr/local/lib/python3.10/dist-packages/pandas/io/formats/format.py:1459: RuntimeWarning: invalid value encountered in less\n",
      "  has_small_values = ((abs_vals < 10 ** (-self.digits)) & (abs_vals > 0)).any()\n",
      "/usr/local/lib/python3.10/dist-packages/pandas/io/formats/format.py:1459: RuntimeWarning: invalid value encountered in greater\n",
      "  has_small_values = ((abs_vals < 10 ** (-self.digits)) & (abs_vals > 0)).any()\n"
     ]
    },
    {
     "data": {
      "text/html": [
       "<div>\n",
       "<style scoped>\n",
       "    .dataframe tbody tr th:only-of-type {\n",
       "        vertical-align: middle;\n",
       "    }\n",
       "\n",
       "    .dataframe tbody tr th {\n",
       "        vertical-align: top;\n",
       "    }\n",
       "\n",
       "    .dataframe thead th {\n",
       "        text-align: right;\n",
       "    }\n",
       "</style>\n",
       "<table border=\"1\" class=\"dataframe\">\n",
       "  <thead>\n",
       "    <tr style=\"text-align: right;\">\n",
       "      <th></th>\n",
       "      <th>premise</th>\n",
       "      <th>hypothesis</th>\n",
       "      <th>gold_label</th>\n",
       "      <th>type</th>\n",
       "    </tr>\n",
       "  </thead>\n",
       "  <tbody>\n",
       "    <tr>\n",
       "      <th>9600.0</th>\n",
       "      <td>If Jessica attends the conference, her colleague will meet her at the hotel.</td>\n",
       "      <td>Jessica has a colleague.</td>\n",
       "      <td>E</td>\n",
       "      <td>type5_possessive</td>\n",
       "    </tr>\n",
       "    <tr>\n",
       "      <th>9601.0</th>\n",
       "      <td>It's not the case that if Jessica attends the conference, her colleague will meet her at the hotel.</td>\n",
       "      <td>Jessica has a colleague.</td>\n",
       "      <td>E</td>\n",
       "      <td>type5_possessive</td>\n",
       "    </tr>\n",
       "    <tr>\n",
       "      <th>9602.0</th>\n",
       "      <td>Sam believes that if Jessica attends the conference, her colleague will meet her at the hotel.</td>\n",
       "      <td>Jessica has a colleague.</td>\n",
       "      <td>E</td>\n",
       "      <td>type5_possessive</td>\n",
       "    </tr>\n",
       "    <tr>\n",
       "      <th>9603.0</th>\n",
       "      <td>Is it true that if Jessica attends the conference, her colleague will meet her at the hotel?</td>\n",
       "      <td>Jessica has a colleague.</td>\n",
       "      <td>E</td>\n",
       "      <td>type5_possessive</td>\n",
       "    </tr>\n",
       "    <tr>\n",
       "      <th>9620.0</th>\n",
       "      <td>If Mia's car breaks down, her coworker will give her a ride to the office.</td>\n",
       "      <td>Mia has a coworker.</td>\n",
       "      <td>E</td>\n",
       "      <td>type5_possessive</td>\n",
       "    </tr>\n",
       "    <tr>\n",
       "      <th>...</th>\n",
       "      <td>...</td>\n",
       "      <td>...</td>\n",
       "      <td>...</td>\n",
       "      <td>...</td>\n",
       "    </tr>\n",
       "    <tr>\n",
       "      <th>NaN</th>\n",
       "      <td>If Margaret graduates from college, her parents will throw her a big celebration party.</td>\n",
       "      <td>Margaret has siblings.</td>\n",
       "      <td>N</td>\n",
       "      <td>type5_possessive</td>\n",
       "    </tr>\n",
       "    <tr>\n",
       "      <th>NaN</th>\n",
       "      <td>It's not the case that if Margaret graduates from college, her parents will throw her a big celebration party.</td>\n",
       "      <td>Margaret has siblings.</td>\n",
       "      <td>N</td>\n",
       "      <td>type5_possessive</td>\n",
       "    </tr>\n",
       "    <tr>\n",
       "      <th>NaN</th>\n",
       "      <td>Sam believes that if Margaret graduates from college, her parents will throw her a big celebration party.</td>\n",
       "      <td>Margaret has siblings.</td>\n",
       "      <td>N</td>\n",
       "      <td>type5_possessive</td>\n",
       "    </tr>\n",
       "    <tr>\n",
       "      <th>NaN</th>\n",
       "      <td>Is it true that if Margaret graduates from college, her parents will throw her a big celebration party?</td>\n",
       "      <td>Margaret has siblings.</td>\n",
       "      <td>N</td>\n",
       "      <td>type5_possessive</td>\n",
       "    </tr>\n",
       "    <tr>\n",
       "      <th>NaN</th>\n",
       "      <td>If Margaret graduates from college, her parents will throw her a big celebration party.</td>\n",
       "      <td>Margaret has graduated from college, but her parents did not throw her a big celebration party..</td>\n",
       "      <td>C</td>\n",
       "      <td>type5_possessive</td>\n",
       "    </tr>\n",
       "  </tbody>\n",
       "</table>\n",
       "<p>2348 rows × 4 columns</p>\n",
       "</div>"
      ],
      "text/plain": [
       "                                                                                                               premise  \\\n",
       "9600.0                                    If Jessica attends the conference, her colleague will meet her at the hotel.   \n",
       "9601.0             It's not the case that if Jessica attends the conference, her colleague will meet her at the hotel.   \n",
       "9602.0                  Sam believes that if Jessica attends the conference, her colleague will meet her at the hotel.   \n",
       "9603.0                    Is it true that if Jessica attends the conference, her colleague will meet her at the hotel?   \n",
       "9620.0                                      If Mia's car breaks down, her coworker will give her a ride to the office.   \n",
       "...                                                                                                                ...   \n",
       "NaN                            If Margaret graduates from college, her parents will throw her a big celebration party.   \n",
       "NaN     It's not the case that if Margaret graduates from college, her parents will throw her a big celebration party.   \n",
       "NaN          Sam believes that if Margaret graduates from college, her parents will throw her a big celebration party.   \n",
       "NaN            Is it true that if Margaret graduates from college, her parents will throw her a big celebration party?   \n",
       "NaN                            If Margaret graduates from college, her parents will throw her a big celebration party.   \n",
       "\n",
       "                                                                                              hypothesis  \\\n",
       "9600.0                                                                          Jessica has a colleague.   \n",
       "9601.0                                                                          Jessica has a colleague.   \n",
       "9602.0                                                                          Jessica has a colleague.   \n",
       "9603.0                                                                          Jessica has a colleague.   \n",
       "9620.0                                                                               Mia has a coworker.   \n",
       "...                                                                                                  ...   \n",
       "NaN                                                                               Margaret has siblings.   \n",
       "NaN                                                                               Margaret has siblings.   \n",
       "NaN                                                                               Margaret has siblings.   \n",
       "NaN                                                                               Margaret has siblings.   \n",
       "NaN     Margaret has graduated from college, but her parents did not throw her a big celebration party..   \n",
       "\n",
       "       gold_label              type  \n",
       "9600.0          E  type5_possessive  \n",
       "9601.0          E  type5_possessive  \n",
       "9602.0          E  type5_possessive  \n",
       "9603.0          E  type5_possessive  \n",
       "9620.0          E  type5_possessive  \n",
       "...           ...               ...  \n",
       "NaN             N  type5_possessive  \n",
       "NaN             N  type5_possessive  \n",
       "NaN             N  type5_possessive  \n",
       "NaN             N  type5_possessive  \n",
       "NaN             C  type5_possessive  \n",
       "\n",
       "[2348 rows x 4 columns]"
      ]
     },
     "execution_count": 11,
     "metadata": {},
     "output_type": "execute_result"
    }
   ],
   "source": [
    "val_df = pd.read_csv(\"../../data/processed/validation.csv\",index_col=0)\n",
    "val_df"
   ]
  },
  {
   "cell_type": "code",
   "execution_count": 12,
   "metadata": {
    "execution": {
     "iopub.execute_input": "2025-03-11T18:23:55.760629Z",
     "iopub.status.busy": "2025-03-11T18:23:55.760408Z",
     "iopub.status.idle": "2025-03-11T18:23:55.772817Z",
     "shell.execute_reply": "2025-03-11T18:23:55.772003Z",
     "shell.execute_reply.started": "2025-03-11T18:23:55.760592Z"
    },
    "trusted": true
   },
   "outputs": [
    {
     "name": "stderr",
     "output_type": "stream",
     "text": [
      "/usr/local/lib/python3.10/dist-packages/pandas/io/formats/format.py:1458: RuntimeWarning: invalid value encountered in greater\n",
      "  has_large_values = (abs_vals > 1e6).any()\n",
      "/usr/local/lib/python3.10/dist-packages/pandas/io/formats/format.py:1459: RuntimeWarning: invalid value encountered in less\n",
      "  has_small_values = ((abs_vals < 10 ** (-self.digits)) & (abs_vals > 0)).any()\n",
      "/usr/local/lib/python3.10/dist-packages/pandas/io/formats/format.py:1459: RuntimeWarning: invalid value encountered in greater\n",
      "  has_small_values = ((abs_vals < 10 ** (-self.digits)) & (abs_vals > 0)).any()\n"
     ]
    },
    {
     "data": {
      "text/html": [
       "<div>\n",
       "<style scoped>\n",
       "    .dataframe tbody tr th:only-of-type {\n",
       "        vertical-align: middle;\n",
       "    }\n",
       "\n",
       "    .dataframe tbody tr th {\n",
       "        vertical-align: top;\n",
       "    }\n",
       "\n",
       "    .dataframe thead th {\n",
       "        text-align: right;\n",
       "    }\n",
       "</style>\n",
       "<table border=\"1\" class=\"dataframe\">\n",
       "  <thead>\n",
       "    <tr style=\"text-align: right;\">\n",
       "      <th></th>\n",
       "      <th>premise</th>\n",
       "      <th>hypothesis</th>\n",
       "      <th>label</th>\n",
       "    </tr>\n",
       "  </thead>\n",
       "  <tbody>\n",
       "    <tr>\n",
       "      <th>9600.0</th>\n",
       "      <td>If Jessica attends the conference, her colleague will meet her at the hotel.</td>\n",
       "      <td>Jessica has a colleague.</td>\n",
       "      <td>2</td>\n",
       "    </tr>\n",
       "    <tr>\n",
       "      <th>9601.0</th>\n",
       "      <td>It's not the case that if Jessica attends the conference, her colleague will meet her at the hotel.</td>\n",
       "      <td>Jessica has a colleague.</td>\n",
       "      <td>2</td>\n",
       "    </tr>\n",
       "    <tr>\n",
       "      <th>9602.0</th>\n",
       "      <td>Sam believes that if Jessica attends the conference, her colleague will meet her at the hotel.</td>\n",
       "      <td>Jessica has a colleague.</td>\n",
       "      <td>2</td>\n",
       "    </tr>\n",
       "    <tr>\n",
       "      <th>9603.0</th>\n",
       "      <td>Is it true that if Jessica attends the conference, her colleague will meet her at the hotel?</td>\n",
       "      <td>Jessica has a colleague.</td>\n",
       "      <td>2</td>\n",
       "    </tr>\n",
       "    <tr>\n",
       "      <th>9620.0</th>\n",
       "      <td>If Mia's car breaks down, her coworker will give her a ride to the office.</td>\n",
       "      <td>Mia has a coworker.</td>\n",
       "      <td>2</td>\n",
       "    </tr>\n",
       "    <tr>\n",
       "      <th>...</th>\n",
       "      <td>...</td>\n",
       "      <td>...</td>\n",
       "      <td>...</td>\n",
       "    </tr>\n",
       "    <tr>\n",
       "      <th>NaN</th>\n",
       "      <td>If Margaret graduates from college, her parents will throw her a big celebration party.</td>\n",
       "      <td>Margaret has siblings.</td>\n",
       "      <td>1</td>\n",
       "    </tr>\n",
       "    <tr>\n",
       "      <th>NaN</th>\n",
       "      <td>It's not the case that if Margaret graduates from college, her parents will throw her a big celebration party.</td>\n",
       "      <td>Margaret has siblings.</td>\n",
       "      <td>1</td>\n",
       "    </tr>\n",
       "    <tr>\n",
       "      <th>NaN</th>\n",
       "      <td>Sam believes that if Margaret graduates from college, her parents will throw her a big celebration party.</td>\n",
       "      <td>Margaret has siblings.</td>\n",
       "      <td>1</td>\n",
       "    </tr>\n",
       "    <tr>\n",
       "      <th>NaN</th>\n",
       "      <td>Is it true that if Margaret graduates from college, her parents will throw her a big celebration party?</td>\n",
       "      <td>Margaret has siblings.</td>\n",
       "      <td>1</td>\n",
       "    </tr>\n",
       "    <tr>\n",
       "      <th>NaN</th>\n",
       "      <td>If Margaret graduates from college, her parents will throw her a big celebration party.</td>\n",
       "      <td>Margaret has graduated from college, but her parents did not throw her a big celebration party..</td>\n",
       "      <td>0</td>\n",
       "    </tr>\n",
       "  </tbody>\n",
       "</table>\n",
       "<p>2348 rows × 3 columns</p>\n",
       "</div>"
      ],
      "text/plain": [
       "                                                                                                               premise  \\\n",
       "9600.0                                    If Jessica attends the conference, her colleague will meet her at the hotel.   \n",
       "9601.0             It's not the case that if Jessica attends the conference, her colleague will meet her at the hotel.   \n",
       "9602.0                  Sam believes that if Jessica attends the conference, her colleague will meet her at the hotel.   \n",
       "9603.0                    Is it true that if Jessica attends the conference, her colleague will meet her at the hotel?   \n",
       "9620.0                                      If Mia's car breaks down, her coworker will give her a ride to the office.   \n",
       "...                                                                                                                ...   \n",
       "NaN                            If Margaret graduates from college, her parents will throw her a big celebration party.   \n",
       "NaN     It's not the case that if Margaret graduates from college, her parents will throw her a big celebration party.   \n",
       "NaN          Sam believes that if Margaret graduates from college, her parents will throw her a big celebration party.   \n",
       "NaN            Is it true that if Margaret graduates from college, her parents will throw her a big celebration party?   \n",
       "NaN                            If Margaret graduates from college, her parents will throw her a big celebration party.   \n",
       "\n",
       "                                                                                              hypothesis  \\\n",
       "9600.0                                                                          Jessica has a colleague.   \n",
       "9601.0                                                                          Jessica has a colleague.   \n",
       "9602.0                                                                          Jessica has a colleague.   \n",
       "9603.0                                                                          Jessica has a colleague.   \n",
       "9620.0                                                                               Mia has a coworker.   \n",
       "...                                                                                                  ...   \n",
       "NaN                                                                               Margaret has siblings.   \n",
       "NaN                                                                               Margaret has siblings.   \n",
       "NaN                                                                               Margaret has siblings.   \n",
       "NaN                                                                               Margaret has siblings.   \n",
       "NaN     Margaret has graduated from college, but her parents did not throw her a big celebration party..   \n",
       "\n",
       "        label  \n",
       "9600.0      2  \n",
       "9601.0      2  \n",
       "9602.0      2  \n",
       "9603.0      2  \n",
       "9620.0      2  \n",
       "...       ...  \n",
       "NaN         1  \n",
       "NaN         1  \n",
       "NaN         1  \n",
       "NaN         1  \n",
       "NaN         0  \n",
       "\n",
       "[2348 rows x 3 columns]"
      ]
     },
     "execution_count": 12,
     "metadata": {},
     "output_type": "execute_result"
    }
   ],
   "source": [
    "val_df['label'] = val_df['gold_label'].map({'C':0,'N':1,'E':2})\n",
    "val_df = val_df[['premise','hypothesis','label']]\n",
    "val_df"
   ]
  },
  {
   "cell_type": "code",
   "execution_count": 13,
   "metadata": {
    "execution": {
     "iopub.execute_input": "2025-03-11T18:23:55.773795Z",
     "iopub.status.busy": "2025-03-11T18:23:55.773589Z",
     "iopub.status.idle": "2025-03-11T18:23:55.790927Z",
     "shell.execute_reply": "2025-03-11T18:23:55.790267Z",
     "shell.execute_reply.started": "2025-03-11T18:23:55.773776Z"
    },
    "trusted": true
   },
   "outputs": [
    {
     "data": {
      "text/html": [
       "<div>\n",
       "<style scoped>\n",
       "    .dataframe tbody tr th:only-of-type {\n",
       "        vertical-align: middle;\n",
       "    }\n",
       "\n",
       "    .dataframe tbody tr th {\n",
       "        vertical-align: top;\n",
       "    }\n",
       "\n",
       "    .dataframe thead th {\n",
       "        text-align: right;\n",
       "    }\n",
       "</style>\n",
       "<table border=\"1\" class=\"dataframe\">\n",
       "  <thead>\n",
       "    <tr style=\"text-align: right;\">\n",
       "      <th></th>\n",
       "      <th>premise</th>\n",
       "      <th>hypothesis</th>\n",
       "      <th>label</th>\n",
       "    </tr>\n",
       "  </thead>\n",
       "  <tbody>\n",
       "  </tbody>\n",
       "</table>\n",
       "</div>"
      ],
      "text/plain": [
       "Empty DataFrame\n",
       "Columns: [premise, hypothesis, label]\n",
       "Index: []"
      ]
     },
     "execution_count": 13,
     "metadata": {},
     "output_type": "execute_result"
    }
   ],
   "source": [
    "val_df[val_df['premise'].isna()]"
   ]
  },
  {
   "cell_type": "code",
   "execution_count": 14,
   "metadata": {
    "execution": {
     "iopub.execute_input": "2025-03-11T18:23:55.792139Z",
     "iopub.status.busy": "2025-03-11T18:23:55.791802Z",
     "iopub.status.idle": "2025-03-11T18:23:55.807525Z",
     "shell.execute_reply": "2025-03-11T18:23:55.806849Z",
     "shell.execute_reply.started": "2025-03-11T18:23:55.792103Z"
    },
    "trusted": true
   },
   "outputs": [
    {
     "data": {
      "text/html": [
       "<div>\n",
       "<style scoped>\n",
       "    .dataframe tbody tr th:only-of-type {\n",
       "        vertical-align: middle;\n",
       "    }\n",
       "\n",
       "    .dataframe tbody tr th {\n",
       "        vertical-align: top;\n",
       "    }\n",
       "\n",
       "    .dataframe thead th {\n",
       "        text-align: right;\n",
       "    }\n",
       "</style>\n",
       "<table border=\"1\" class=\"dataframe\">\n",
       "  <thead>\n",
       "    <tr style=\"text-align: right;\">\n",
       "      <th></th>\n",
       "      <th>premise</th>\n",
       "      <th>hypothesis</th>\n",
       "      <th>label</th>\n",
       "    </tr>\n",
       "  </thead>\n",
       "  <tbody>\n",
       "  </tbody>\n",
       "</table>\n",
       "</div>"
      ],
      "text/plain": [
       "Empty DataFrame\n",
       "Columns: [premise, hypothesis, label]\n",
       "Index: []"
      ]
     },
     "execution_count": 14,
     "metadata": {},
     "output_type": "execute_result"
    }
   ],
   "source": [
    "val_df[val_df['hypothesis'].isna()]"
   ]
  },
  {
   "cell_type": "code",
   "execution_count": 15,
   "metadata": {
    "execution": {
     "iopub.execute_input": "2025-03-11T18:23:55.808450Z",
     "iopub.status.busy": "2025-03-11T18:23:55.808248Z",
     "iopub.status.idle": "2025-03-11T18:23:55.868376Z",
     "shell.execute_reply": "2025-03-11T18:23:55.867553Z",
     "shell.execute_reply.started": "2025-03-11T18:23:55.808431Z"
    },
    "trusted": true
   },
   "outputs": [
    {
     "name": "stderr",
     "output_type": "stream",
     "text": [
      "/usr/local/lib/python3.10/dist-packages/pandas/io/formats/format.py:1458: RuntimeWarning: invalid value encountered in greater\n",
      "  has_large_values = (abs_vals > 1e6).any()\n",
      "/usr/local/lib/python3.10/dist-packages/pandas/io/formats/format.py:1459: RuntimeWarning: invalid value encountered in less\n",
      "  has_small_values = ((abs_vals < 10 ** (-self.digits)) & (abs_vals > 0)).any()\n",
      "/usr/local/lib/python3.10/dist-packages/pandas/io/formats/format.py:1459: RuntimeWarning: invalid value encountered in greater\n",
      "  has_small_values = ((abs_vals < 10 ** (-self.digits)) & (abs_vals > 0)).any()\n"
     ]
    },
    {
     "data": {
      "text/html": [
       "<div>\n",
       "<style scoped>\n",
       "    .dataframe tbody tr th:only-of-type {\n",
       "        vertical-align: middle;\n",
       "    }\n",
       "\n",
       "    .dataframe tbody tr th {\n",
       "        vertical-align: top;\n",
       "    }\n",
       "\n",
       "    .dataframe thead th {\n",
       "        text-align: right;\n",
       "    }\n",
       "</style>\n",
       "<table border=\"1\" class=\"dataframe\">\n",
       "  <thead>\n",
       "    <tr style=\"text-align: right;\">\n",
       "      <th></th>\n",
       "      <th>premise</th>\n",
       "      <th>hypothesis</th>\n",
       "      <th>gold_label</th>\n",
       "      <th>type</th>\n",
       "    </tr>\n",
       "  </thead>\n",
       "  <tbody>\n",
       "    <tr>\n",
       "      <th>9616.0</th>\n",
       "      <td>If Charlotte passes her driving test, her parents will buy her a car.</td>\n",
       "      <td>Charlotte has parents.</td>\n",
       "      <td>E</td>\n",
       "      <td>type5_possessive</td>\n",
       "    </tr>\n",
       "    <tr>\n",
       "      <th>9617.0</th>\n",
       "      <td>It's not the case that if Charlotte passes her driving test, her parents will buy her a car.</td>\n",
       "      <td>Charlotte has parents.</td>\n",
       "      <td>E</td>\n",
       "      <td>type5_possessive</td>\n",
       "    </tr>\n",
       "    <tr>\n",
       "      <th>9618.0</th>\n",
       "      <td>Sam believes that if Charlotte passes her driving test, her parents will buy her a car.</td>\n",
       "      <td>Charlotte has parents.</td>\n",
       "      <td>E</td>\n",
       "      <td>type5_possessive</td>\n",
       "    </tr>\n",
       "    <tr>\n",
       "      <th>9619.0</th>\n",
       "      <td>Is it true that if Charlotte passes her driving test, her parents will buy her a car?</td>\n",
       "      <td>Charlotte has parents.</td>\n",
       "      <td>E</td>\n",
       "      <td>type5_possessive</td>\n",
       "    </tr>\n",
       "    <tr>\n",
       "      <th>9628.0</th>\n",
       "      <td>If Lily takes the train to the city, her friend will meet her at the station.</td>\n",
       "      <td>Lily has a friend.</td>\n",
       "      <td>E</td>\n",
       "      <td>type5_possessive</td>\n",
       "    </tr>\n",
       "    <tr>\n",
       "      <th>...</th>\n",
       "      <td>...</td>\n",
       "      <td>...</td>\n",
       "      <td>...</td>\n",
       "      <td>...</td>\n",
       "    </tr>\n",
       "    <tr>\n",
       "      <th>NaN</th>\n",
       "      <td>If Sophia decides to attend the concert, his best friend will drive him there.</td>\n",
       "      <td>Sophia has a close friend.</td>\n",
       "      <td>N</td>\n",
       "      <td>type5_possessive</td>\n",
       "    </tr>\n",
       "    <tr>\n",
       "      <th>NaN</th>\n",
       "      <td>It's not the case that if Sophia decides to attend the concert, his best friend will drive him there.</td>\n",
       "      <td>Sophia has a close friend.</td>\n",
       "      <td>N</td>\n",
       "      <td>type5_possessive</td>\n",
       "    </tr>\n",
       "    <tr>\n",
       "      <th>NaN</th>\n",
       "      <td>Sam believes that if Sophia decides to attend the concert, his best friend will drive him there.</td>\n",
       "      <td>Sophia has a close friend.</td>\n",
       "      <td>N</td>\n",
       "      <td>type5_possessive</td>\n",
       "    </tr>\n",
       "    <tr>\n",
       "      <th>NaN</th>\n",
       "      <td>Is it true that if Sophia decides to attend the concert, his best friend will drive him there?</td>\n",
       "      <td>Sophia has a close friend.</td>\n",
       "      <td>N</td>\n",
       "      <td>type5_possessive</td>\n",
       "    </tr>\n",
       "    <tr>\n",
       "      <th>NaN</th>\n",
       "      <td>If Sophia decides to attend the concert, his best friend will drive him there.</td>\n",
       "      <td>Sophia has decided to attend the concert, but his best friend will not drive him.</td>\n",
       "      <td>C</td>\n",
       "      <td>type5_possessive</td>\n",
       "    </tr>\n",
       "  </tbody>\n",
       "</table>\n",
       "<p>2367 rows × 4 columns</p>\n",
       "</div>"
      ],
      "text/plain": [
       "                                                                                                      premise  \\\n",
       "9616.0                                  If Charlotte passes her driving test, her parents will buy her a car.   \n",
       "9617.0           It's not the case that if Charlotte passes her driving test, her parents will buy her a car.   \n",
       "9618.0                Sam believes that if Charlotte passes her driving test, her parents will buy her a car.   \n",
       "9619.0                  Is it true that if Charlotte passes her driving test, her parents will buy her a car?   \n",
       "9628.0                          If Lily takes the train to the city, her friend will meet her at the station.   \n",
       "...                                                                                                       ...   \n",
       "NaN                            If Sophia decides to attend the concert, his best friend will drive him there.   \n",
       "NaN     It's not the case that if Sophia decides to attend the concert, his best friend will drive him there.   \n",
       "NaN          Sam believes that if Sophia decides to attend the concert, his best friend will drive him there.   \n",
       "NaN            Is it true that if Sophia decides to attend the concert, his best friend will drive him there?   \n",
       "NaN                            If Sophia decides to attend the concert, his best friend will drive him there.   \n",
       "\n",
       "                                                                               hypothesis  \\\n",
       "9616.0                                                             Charlotte has parents.   \n",
       "9617.0                                                             Charlotte has parents.   \n",
       "9618.0                                                             Charlotte has parents.   \n",
       "9619.0                                                             Charlotte has parents.   \n",
       "9628.0                                                                 Lily has a friend.   \n",
       "...                                                                                   ...   \n",
       "NaN                                                            Sophia has a close friend.   \n",
       "NaN                                                            Sophia has a close friend.   \n",
       "NaN                                                            Sophia has a close friend.   \n",
       "NaN                                                            Sophia has a close friend.   \n",
       "NaN     Sophia has decided to attend the concert, but his best friend will not drive him.   \n",
       "\n",
       "       gold_label              type  \n",
       "9616.0          E  type5_possessive  \n",
       "9617.0          E  type5_possessive  \n",
       "9618.0          E  type5_possessive  \n",
       "9619.0          E  type5_possessive  \n",
       "9628.0          E  type5_possessive  \n",
       "...           ...               ...  \n",
       "NaN             N  type5_possessive  \n",
       "NaN             N  type5_possessive  \n",
       "NaN             N  type5_possessive  \n",
       "NaN             N  type5_possessive  \n",
       "NaN             C  type5_possessive  \n",
       "\n",
       "[2367 rows x 4 columns]"
      ]
     },
     "execution_count": 15,
     "metadata": {},
     "output_type": "execute_result"
    }
   ],
   "source": [
    "test_df = pd.read_csv(\"../../data/processed/test.csv\",index_col=0)\n",
    "test_df"
   ]
  },
  {
   "cell_type": "code",
   "execution_count": 16,
   "metadata": {
    "execution": {
     "iopub.execute_input": "2025-03-11T18:23:55.869361Z",
     "iopub.status.busy": "2025-03-11T18:23:55.869087Z",
     "iopub.status.idle": "2025-03-11T18:23:55.876344Z",
     "shell.execute_reply": "2025-03-11T18:23:55.875658Z",
     "shell.execute_reply.started": "2025-03-11T18:23:55.869340Z"
    },
    "trusted": true
   },
   "outputs": [
    {
     "data": {
      "text/html": [
       "<div>\n",
       "<style scoped>\n",
       "    .dataframe tbody tr th:only-of-type {\n",
       "        vertical-align: middle;\n",
       "    }\n",
       "\n",
       "    .dataframe tbody tr th {\n",
       "        vertical-align: top;\n",
       "    }\n",
       "\n",
       "    .dataframe thead th {\n",
       "        text-align: right;\n",
       "    }\n",
       "</style>\n",
       "<table border=\"1\" class=\"dataframe\">\n",
       "  <thead>\n",
       "    <tr style=\"text-align: right;\">\n",
       "      <th></th>\n",
       "      <th>premise</th>\n",
       "      <th>hypothesis</th>\n",
       "      <th>gold_label</th>\n",
       "      <th>type</th>\n",
       "    </tr>\n",
       "  </thead>\n",
       "  <tbody>\n",
       "  </tbody>\n",
       "</table>\n",
       "</div>"
      ],
      "text/plain": [
       "Empty DataFrame\n",
       "Columns: [premise, hypothesis, gold_label, type]\n",
       "Index: []"
      ]
     },
     "execution_count": 16,
     "metadata": {},
     "output_type": "execute_result"
    }
   ],
   "source": [
    "test_df[test_df['premise'].isna()]"
   ]
  },
  {
   "cell_type": "code",
   "execution_count": 17,
   "metadata": {
    "execution": {
     "iopub.execute_input": "2025-03-11T18:23:55.877502Z",
     "iopub.status.busy": "2025-03-11T18:23:55.877207Z",
     "iopub.status.idle": "2025-03-11T18:23:55.895144Z",
     "shell.execute_reply": "2025-03-11T18:23:55.894498Z",
     "shell.execute_reply.started": "2025-03-11T18:23:55.877472Z"
    },
    "trusted": true
   },
   "outputs": [
    {
     "data": {
      "text/html": [
       "<div>\n",
       "<style scoped>\n",
       "    .dataframe tbody tr th:only-of-type {\n",
       "        vertical-align: middle;\n",
       "    }\n",
       "\n",
       "    .dataframe tbody tr th {\n",
       "        vertical-align: top;\n",
       "    }\n",
       "\n",
       "    .dataframe thead th {\n",
       "        text-align: right;\n",
       "    }\n",
       "</style>\n",
       "<table border=\"1\" class=\"dataframe\">\n",
       "  <thead>\n",
       "    <tr style=\"text-align: right;\">\n",
       "      <th></th>\n",
       "      <th>premise</th>\n",
       "      <th>hypothesis</th>\n",
       "      <th>gold_label</th>\n",
       "      <th>type</th>\n",
       "    </tr>\n",
       "  </thead>\n",
       "  <tbody>\n",
       "  </tbody>\n",
       "</table>\n",
       "</div>"
      ],
      "text/plain": [
       "Empty DataFrame\n",
       "Columns: [premise, hypothesis, gold_label, type]\n",
       "Index: []"
      ]
     },
     "execution_count": 17,
     "metadata": {},
     "output_type": "execute_result"
    }
   ],
   "source": [
    "test_df[test_df['hypothesis'].isna()]"
   ]
  },
  {
   "cell_type": "code",
   "execution_count": 18,
   "metadata": {
    "execution": {
     "iopub.execute_input": "2025-03-11T18:23:55.896651Z",
     "iopub.status.busy": "2025-03-11T18:23:55.896147Z",
     "iopub.status.idle": "2025-03-11T18:23:55.918371Z",
     "shell.execute_reply": "2025-03-11T18:23:55.917525Z",
     "shell.execute_reply.started": "2025-03-11T18:23:55.896615Z"
    },
    "trusted": true
   },
   "outputs": [
    {
     "name": "stderr",
     "output_type": "stream",
     "text": [
      "/usr/local/lib/python3.10/dist-packages/pandas/io/formats/format.py:1458: RuntimeWarning: invalid value encountered in greater\n",
      "  has_large_values = (abs_vals > 1e6).any()\n",
      "/usr/local/lib/python3.10/dist-packages/pandas/io/formats/format.py:1459: RuntimeWarning: invalid value encountered in less\n",
      "  has_small_values = ((abs_vals < 10 ** (-self.digits)) & (abs_vals > 0)).any()\n",
      "/usr/local/lib/python3.10/dist-packages/pandas/io/formats/format.py:1459: RuntimeWarning: invalid value encountered in greater\n",
      "  has_small_values = ((abs_vals < 10 ** (-self.digits)) & (abs_vals > 0)).any()\n"
     ]
    },
    {
     "data": {
      "text/html": [
       "<div>\n",
       "<style scoped>\n",
       "    .dataframe tbody tr th:only-of-type {\n",
       "        vertical-align: middle;\n",
       "    }\n",
       "\n",
       "    .dataframe tbody tr th {\n",
       "        vertical-align: top;\n",
       "    }\n",
       "\n",
       "    .dataframe thead th {\n",
       "        text-align: right;\n",
       "    }\n",
       "</style>\n",
       "<table border=\"1\" class=\"dataframe\">\n",
       "  <thead>\n",
       "    <tr style=\"text-align: right;\">\n",
       "      <th></th>\n",
       "      <th>premise</th>\n",
       "      <th>hypothesis</th>\n",
       "      <th>type</th>\n",
       "      <th>label</th>\n",
       "    </tr>\n",
       "  </thead>\n",
       "  <tbody>\n",
       "    <tr>\n",
       "      <th>9616.0</th>\n",
       "      <td>If Charlotte passes her driving test, her parents will buy her a car.</td>\n",
       "      <td>Charlotte has parents.</td>\n",
       "      <td>type5_possessive</td>\n",
       "      <td>ENTAILMENT</td>\n",
       "    </tr>\n",
       "    <tr>\n",
       "      <th>9617.0</th>\n",
       "      <td>It's not the case that if Charlotte passes her driving test, her parents will buy her a car.</td>\n",
       "      <td>Charlotte has parents.</td>\n",
       "      <td>type5_possessive</td>\n",
       "      <td>ENTAILMENT</td>\n",
       "    </tr>\n",
       "    <tr>\n",
       "      <th>9618.0</th>\n",
       "      <td>Sam believes that if Charlotte passes her driving test, her parents will buy her a car.</td>\n",
       "      <td>Charlotte has parents.</td>\n",
       "      <td>type5_possessive</td>\n",
       "      <td>ENTAILMENT</td>\n",
       "    </tr>\n",
       "    <tr>\n",
       "      <th>9619.0</th>\n",
       "      <td>Is it true that if Charlotte passes her driving test, her parents will buy her a car?</td>\n",
       "      <td>Charlotte has parents.</td>\n",
       "      <td>type5_possessive</td>\n",
       "      <td>ENTAILMENT</td>\n",
       "    </tr>\n",
       "    <tr>\n",
       "      <th>9628.0</th>\n",
       "      <td>If Lily takes the train to the city, her friend will meet her at the station.</td>\n",
       "      <td>Lily has a friend.</td>\n",
       "      <td>type5_possessive</td>\n",
       "      <td>ENTAILMENT</td>\n",
       "    </tr>\n",
       "    <tr>\n",
       "      <th>...</th>\n",
       "      <td>...</td>\n",
       "      <td>...</td>\n",
       "      <td>...</td>\n",
       "      <td>...</td>\n",
       "    </tr>\n",
       "    <tr>\n",
       "      <th>NaN</th>\n",
       "      <td>If Sophia decides to attend the concert, his best friend will drive him there.</td>\n",
       "      <td>Sophia has a close friend.</td>\n",
       "      <td>type5_possessive</td>\n",
       "      <td>NEUTRAL</td>\n",
       "    </tr>\n",
       "    <tr>\n",
       "      <th>NaN</th>\n",
       "      <td>It's not the case that if Sophia decides to attend the concert, his best friend will drive him there.</td>\n",
       "      <td>Sophia has a close friend.</td>\n",
       "      <td>type5_possessive</td>\n",
       "      <td>NEUTRAL</td>\n",
       "    </tr>\n",
       "    <tr>\n",
       "      <th>NaN</th>\n",
       "      <td>Sam believes that if Sophia decides to attend the concert, his best friend will drive him there.</td>\n",
       "      <td>Sophia has a close friend.</td>\n",
       "      <td>type5_possessive</td>\n",
       "      <td>NEUTRAL</td>\n",
       "    </tr>\n",
       "    <tr>\n",
       "      <th>NaN</th>\n",
       "      <td>Is it true that if Sophia decides to attend the concert, his best friend will drive him there?</td>\n",
       "      <td>Sophia has a close friend.</td>\n",
       "      <td>type5_possessive</td>\n",
       "      <td>NEUTRAL</td>\n",
       "    </tr>\n",
       "    <tr>\n",
       "      <th>NaN</th>\n",
       "      <td>If Sophia decides to attend the concert, his best friend will drive him there.</td>\n",
       "      <td>Sophia has decided to attend the concert, but his best friend will not drive him.</td>\n",
       "      <td>type5_possessive</td>\n",
       "      <td>CONTRADICTION</td>\n",
       "    </tr>\n",
       "  </tbody>\n",
       "</table>\n",
       "<p>2367 rows × 4 columns</p>\n",
       "</div>"
      ],
      "text/plain": [
       "                                                                                                      premise  \\\n",
       "9616.0                                  If Charlotte passes her driving test, her parents will buy her a car.   \n",
       "9617.0           It's not the case that if Charlotte passes her driving test, her parents will buy her a car.   \n",
       "9618.0                Sam believes that if Charlotte passes her driving test, her parents will buy her a car.   \n",
       "9619.0                  Is it true that if Charlotte passes her driving test, her parents will buy her a car?   \n",
       "9628.0                          If Lily takes the train to the city, her friend will meet her at the station.   \n",
       "...                                                                                                       ...   \n",
       "NaN                            If Sophia decides to attend the concert, his best friend will drive him there.   \n",
       "NaN     It's not the case that if Sophia decides to attend the concert, his best friend will drive him there.   \n",
       "NaN          Sam believes that if Sophia decides to attend the concert, his best friend will drive him there.   \n",
       "NaN            Is it true that if Sophia decides to attend the concert, his best friend will drive him there?   \n",
       "NaN                            If Sophia decides to attend the concert, his best friend will drive him there.   \n",
       "\n",
       "                                                                               hypothesis  \\\n",
       "9616.0                                                             Charlotte has parents.   \n",
       "9617.0                                                             Charlotte has parents.   \n",
       "9618.0                                                             Charlotte has parents.   \n",
       "9619.0                                                             Charlotte has parents.   \n",
       "9628.0                                                                 Lily has a friend.   \n",
       "...                                                                                   ...   \n",
       "NaN                                                            Sophia has a close friend.   \n",
       "NaN                                                            Sophia has a close friend.   \n",
       "NaN                                                            Sophia has a close friend.   \n",
       "NaN                                                            Sophia has a close friend.   \n",
       "NaN     Sophia has decided to attend the concert, but his best friend will not drive him.   \n",
       "\n",
       "                    type          label  \n",
       "9616.0  type5_possessive     ENTAILMENT  \n",
       "9617.0  type5_possessive     ENTAILMENT  \n",
       "9618.0  type5_possessive     ENTAILMENT  \n",
       "9619.0  type5_possessive     ENTAILMENT  \n",
       "9628.0  type5_possessive     ENTAILMENT  \n",
       "...                  ...            ...  \n",
       "NaN     type5_possessive        NEUTRAL  \n",
       "NaN     type5_possessive        NEUTRAL  \n",
       "NaN     type5_possessive        NEUTRAL  \n",
       "NaN     type5_possessive        NEUTRAL  \n",
       "NaN     type5_possessive  CONTRADICTION  \n",
       "\n",
       "[2367 rows x 4 columns]"
      ]
     },
     "execution_count": 18,
     "metadata": {},
     "output_type": "execute_result"
    }
   ],
   "source": [
    "test_df['label'] = test_df['gold_label'].map({'E':'ENTAILMENT','N':'NEUTRAL','C':'CONTRADICTION'})\n",
    "test_df = test_df[['premise','hypothesis','type','label']]\n",
    "test_df"
   ]
  },
  {
   "cell_type": "code",
   "execution_count": 19,
   "metadata": {
    "execution": {
     "iopub.execute_input": "2025-03-11T18:23:55.919455Z",
     "iopub.status.busy": "2025-03-11T18:23:55.919123Z",
     "iopub.status.idle": "2025-03-11T18:23:55.950393Z",
     "shell.execute_reply": "2025-03-11T18:23:55.949597Z",
     "shell.execute_reply.started": "2025-03-11T18:23:55.919426Z"
    },
    "trusted": true
   },
   "outputs": [
    {
     "data": {
      "text/html": [
       "<div>\n",
       "<style scoped>\n",
       "    .dataframe tbody tr th:only-of-type {\n",
       "        vertical-align: middle;\n",
       "    }\n",
       "\n",
       "    .dataframe tbody tr th {\n",
       "        vertical-align: top;\n",
       "    }\n",
       "\n",
       "    .dataframe thead th {\n",
       "        text-align: right;\n",
       "    }\n",
       "</style>\n",
       "<table border=\"1\" class=\"dataframe\">\n",
       "  <thead>\n",
       "    <tr style=\"text-align: right;\">\n",
       "      <th></th>\n",
       "      <th>Unnamed: 0</th>\n",
       "      <th>premise</th>\n",
       "      <th>hypothesis</th>\n",
       "      <th>gold_label</th>\n",
       "      <th>type</th>\n",
       "    </tr>\n",
       "  </thead>\n",
       "  <tbody>\n",
       "    <tr>\n",
       "      <th>0</th>\n",
       "      <td>9600</td>\n",
       "      <td>Jessica's colleague will meet her at the hotel if Jessica attends the conference.</td>\n",
       "      <td>Jessica has a colleague.</td>\n",
       "      <td>E</td>\n",
       "      <td>type5_possessive</td>\n",
       "    </tr>\n",
       "    <tr>\n",
       "      <th>1</th>\n",
       "      <td>9601</td>\n",
       "      <td>It's not the case that Jessica's colleague will meet her at the hotel if Jessica attends the conference.</td>\n",
       "      <td>Jessica has a colleague.</td>\n",
       "      <td>E</td>\n",
       "      <td>type5_possessive</td>\n",
       "    </tr>\n",
       "    <tr>\n",
       "      <th>2</th>\n",
       "      <td>9602</td>\n",
       "      <td>Sam believes that Jessica's colleague will meet her at the hotel if Jessica attends the conference.</td>\n",
       "      <td>Jessica has a colleague.</td>\n",
       "      <td>E</td>\n",
       "      <td>type5_possessive</td>\n",
       "    </tr>\n",
       "    <tr>\n",
       "      <th>3</th>\n",
       "      <td>9603</td>\n",
       "      <td>Is it true tha tJessica's colleague will meet her at the hotel if Jessica attends the conference?</td>\n",
       "      <td>Jessica has a colleague.</td>\n",
       "      <td>E</td>\n",
       "      <td>type5_possessive</td>\n",
       "    </tr>\n",
       "    <tr>\n",
       "      <th>4</th>\n",
       "      <td>11480</td>\n",
       "      <td>Tiffany will bring her essential oils kit to the spa is she is a spa therapist.</td>\n",
       "      <td>Tiffany has an essential oils kit.</td>\n",
       "      <td>E</td>\n",
       "      <td>type4_possessive</td>\n",
       "    </tr>\n",
       "    <tr>\n",
       "      <th>5</th>\n",
       "      <td>11481</td>\n",
       "      <td>It's not the case that Tiffany will bring her essential oils kit to the spa is she is a spa therapist.</td>\n",
       "      <td>Tiffany has an essential oils kit.</td>\n",
       "      <td>E</td>\n",
       "      <td>type4_possessive</td>\n",
       "    </tr>\n",
       "    <tr>\n",
       "      <th>6</th>\n",
       "      <td>11482</td>\n",
       "      <td>Sam believes that Tiffany will bring her essential oils kit to the spa is she is a spa therapist.</td>\n",
       "      <td>Tiffany has an essential oils kit.</td>\n",
       "      <td>E</td>\n",
       "      <td>type4_possessive</td>\n",
       "    </tr>\n",
       "    <tr>\n",
       "      <th>7</th>\n",
       "      <td>11483</td>\n",
       "      <td>Is it true that Tiffany will bring her essential oils kit to the spa is she is a spa therapist.</td>\n",
       "      <td>Tiffany has an essential oils kit.</td>\n",
       "      <td>E</td>\n",
       "      <td>type4_possessive</td>\n",
       "    </tr>\n",
       "    <tr>\n",
       "      <th>8</th>\n",
       "      <td>14352</td>\n",
       "      <td>Andrew will never express a deep convistion again if he arrives early.</td>\n",
       "      <td>Andrew has expressed a deep conviction before.</td>\n",
       "      <td>E</td>\n",
       "      <td>type5_again</td>\n",
       "    </tr>\n",
       "    <tr>\n",
       "      <th>9</th>\n",
       "      <td>14353</td>\n",
       "      <td>It's not the case that Andrew will never express a deep convistion again if he arrives early.</td>\n",
       "      <td>Andrew has expressed a deep conviction before.</td>\n",
       "      <td>E</td>\n",
       "      <td>type5_again</td>\n",
       "    </tr>\n",
       "    <tr>\n",
       "      <th>10</th>\n",
       "      <td>14354</td>\n",
       "      <td>Sam believes that Andrew will never express a deep convistion again if he arrives early.</td>\n",
       "      <td>Andrew has expressed a deep conviction before.</td>\n",
       "      <td>E</td>\n",
       "      <td>type5_again</td>\n",
       "    </tr>\n",
       "    <tr>\n",
       "      <th>11</th>\n",
       "      <td>14355</td>\n",
       "      <td>Is it true that Andrew will never express a deep convistion again if he arrives early?</td>\n",
       "      <td>Andrew has expressed a deep conviction before.</td>\n",
       "      <td>E</td>\n",
       "      <td>type5_again</td>\n",
       "    </tr>\n",
       "    <tr>\n",
       "      <th>12</th>\n",
       "      <td>2</td>\n",
       "      <td>The boss will never collaborate with Joe as a partner again if he collaborated with Joe as a partner.</td>\n",
       "      <td>The boss collaborated with Joe as a partner.</td>\n",
       "      <td>N</td>\n",
       "      <td>type1_again</td>\n",
       "    </tr>\n",
       "    <tr>\n",
       "      <th>13</th>\n",
       "      <td>3</td>\n",
       "      <td>It's not the case that the boss will never collaborate with Joe as a partner again if he collaborated with Joe as a partner.</td>\n",
       "      <td>The boss collaborated with Joe as a partner.</td>\n",
       "      <td>N</td>\n",
       "      <td>type1_again</td>\n",
       "    </tr>\n",
       "    <tr>\n",
       "      <th>14</th>\n",
       "      <td>4</td>\n",
       "      <td>Sam believes that the boss will never collaborate with Joe as a partner again if he collaborated with Joe as a partner.</td>\n",
       "      <td>The boss collaborated with Joe as a partner.</td>\n",
       "      <td>N</td>\n",
       "      <td>type1_again</td>\n",
       "    </tr>\n",
       "    <tr>\n",
       "      <th>15</th>\n",
       "      <td>5</td>\n",
       "      <td>Is it true that the boss will never collaborate with Joe as a partner again if he collaborated with Joe as a partner.</td>\n",
       "      <td>The boss collaborated with Joe as a partner.</td>\n",
       "      <td>N</td>\n",
       "      <td>type1_again</td>\n",
       "    </tr>\n",
       "    <tr>\n",
       "      <th>16</th>\n",
       "      <td>2609</td>\n",
       "      <td>The doctor didn't watch Fox News again if he ever watched a news channel.</td>\n",
       "      <td>The doctor has watched Fox News.</td>\n",
       "      <td>N</td>\n",
       "      <td>type3_again</td>\n",
       "    </tr>\n",
       "    <tr>\n",
       "      <th>17</th>\n",
       "      <td>2610</td>\n",
       "      <td>It's not the case that the doctor didn't watch Fox News again if he ever watched a news channel.</td>\n",
       "      <td>The doctor has watched Fox News.</td>\n",
       "      <td>N</td>\n",
       "      <td>type3_again</td>\n",
       "    </tr>\n",
       "    <tr>\n",
       "      <th>18</th>\n",
       "      <td>2611</td>\n",
       "      <td>Sam believes that the doctor didn't watch Fox News again if he ever watched a news channel.</td>\n",
       "      <td>The doctor has watched Fox News.</td>\n",
       "      <td>N</td>\n",
       "      <td>type3_again</td>\n",
       "    </tr>\n",
       "    <tr>\n",
       "      <th>19</th>\n",
       "      <td>2612</td>\n",
       "      <td>Is it true that the doctor didn't watch Fox News again if he ever watched a news channel?</td>\n",
       "      <td>The doctor has watched Fox News.</td>\n",
       "      <td>N</td>\n",
       "      <td>type3_again</td>\n",
       "    </tr>\n",
       "    <tr>\n",
       "      <th>20</th>\n",
       "      <td>2993</td>\n",
       "      <td>The lady will wear her favorite bow tie if she has neckties.</td>\n",
       "      <td>The lady has a favorite bow tie.</td>\n",
       "      <td>N</td>\n",
       "      <td>type3_possessive</td>\n",
       "    </tr>\n",
       "    <tr>\n",
       "      <th>21</th>\n",
       "      <td>2994</td>\n",
       "      <td>It's not the case that the lady will wear her favorite bow tie if she has neckties.</td>\n",
       "      <td>The lady has a favorite bow tie.</td>\n",
       "      <td>N</td>\n",
       "      <td>type3_possessive</td>\n",
       "    </tr>\n",
       "    <tr>\n",
       "      <th>22</th>\n",
       "      <td>2995</td>\n",
       "      <td>Sam believe that the lady will wear her favorite bow tie if she has neckties.</td>\n",
       "      <td>The lady has a favorite bow tie.</td>\n",
       "      <td>N</td>\n",
       "      <td>type3_possessive</td>\n",
       "    </tr>\n",
       "    <tr>\n",
       "      <th>23</th>\n",
       "      <td>2996</td>\n",
       "      <td>Is it true that the lady will wear her favorite bow tie if she has neckties.</td>\n",
       "      <td>The lady has a favorite bow tie.</td>\n",
       "      <td>N</td>\n",
       "      <td>type3_possessive</td>\n",
       "    </tr>\n",
       "    <tr>\n",
       "      <th>24</th>\n",
       "      <td>15605</td>\n",
       "      <td>Dan criticizes his roommate's behavior if he has a loving roommate.</td>\n",
       "      <td>Dan did not criticize his loving roommate's behavior.</td>\n",
       "      <td>C</td>\n",
       "      <td>type2_possessive</td>\n",
       "    </tr>\n",
       "    <tr>\n",
       "      <th>25</th>\n",
       "      <td>15606</td>\n",
       "      <td>It's not the case that Dan criticizes his roommate's behavior if he has a loving roommate.</td>\n",
       "      <td>Dan did not criticize his loving roommate's behavior.</td>\n",
       "      <td>C</td>\n",
       "      <td>type2_possessive</td>\n",
       "    </tr>\n",
       "    <tr>\n",
       "      <th>26</th>\n",
       "      <td>15607</td>\n",
       "      <td>Sam believes that Dan criticizes his roommate's behavior if he has a loving roommate.</td>\n",
       "      <td>Dan did not criticize his loving roommate's behavior.</td>\n",
       "      <td>C</td>\n",
       "      <td>type2_possessive</td>\n",
       "    </tr>\n",
       "    <tr>\n",
       "      <th>27</th>\n",
       "      <td>15608</td>\n",
       "      <td>Is it true that Dan criticizes his roommate's behavior if he has a loving roommate?</td>\n",
       "      <td>Dan did not criticize his loving roommate's behavior.</td>\n",
       "      <td>C</td>\n",
       "      <td>type2_possessive</td>\n",
       "    </tr>\n",
       "  </tbody>\n",
       "</table>\n",
       "</div>"
      ],
      "text/plain": [
       "    Unnamed: 0  \\\n",
       "0         9600   \n",
       "1         9601   \n",
       "2         9602   \n",
       "3         9603   \n",
       "4        11480   \n",
       "5        11481   \n",
       "6        11482   \n",
       "7        11483   \n",
       "8        14352   \n",
       "9        14353   \n",
       "10       14354   \n",
       "11       14355   \n",
       "12           2   \n",
       "13           3   \n",
       "14           4   \n",
       "15           5   \n",
       "16        2609   \n",
       "17        2610   \n",
       "18        2611   \n",
       "19        2612   \n",
       "20        2993   \n",
       "21        2994   \n",
       "22        2995   \n",
       "23        2996   \n",
       "24       15605   \n",
       "25       15606   \n",
       "26       15607   \n",
       "27       15608   \n",
       "\n",
       "                                                                                                                         premise  \\\n",
       "0                                             Jessica's colleague will meet her at the hotel if Jessica attends the conference.    \n",
       "1                       It's not the case that Jessica's colleague will meet her at the hotel if Jessica attends the conference.   \n",
       "2                            Sam believes that Jessica's colleague will meet her at the hotel if Jessica attends the conference.   \n",
       "3                              Is it true tha tJessica's colleague will meet her at the hotel if Jessica attends the conference?   \n",
       "4                                                Tiffany will bring her essential oils kit to the spa is she is a spa therapist.   \n",
       "5                         It's not the case that Tiffany will bring her essential oils kit to the spa is she is a spa therapist.   \n",
       "6                              Sam believes that Tiffany will bring her essential oils kit to the spa is she is a spa therapist.   \n",
       "7                                Is it true that Tiffany will bring her essential oils kit to the spa is she is a spa therapist.   \n",
       "8                                                         Andrew will never express a deep convistion again if he arrives early.   \n",
       "9                                  It's not the case that Andrew will never express a deep convistion again if he arrives early.   \n",
       "10                                      Sam believes that Andrew will never express a deep convistion again if he arrives early.   \n",
       "11                                        Is it true that Andrew will never express a deep convistion again if he arrives early?   \n",
       "12                         The boss will never collaborate with Joe as a partner again if he collaborated with Joe as a partner.   \n",
       "13  It's not the case that the boss will never collaborate with Joe as a partner again if he collaborated with Joe as a partner.   \n",
       "14       Sam believes that the boss will never collaborate with Joe as a partner again if he collaborated with Joe as a partner.   \n",
       "15         Is it true that the boss will never collaborate with Joe as a partner again if he collaborated with Joe as a partner.   \n",
       "16                                                     The doctor didn't watch Fox News again if he ever watched a news channel.   \n",
       "17                              It's not the case that the doctor didn't watch Fox News again if he ever watched a news channel.   \n",
       "18                                   Sam believes that the doctor didn't watch Fox News again if he ever watched a news channel.   \n",
       "19                                     Is it true that the doctor didn't watch Fox News again if he ever watched a news channel?   \n",
       "20                                                                  The lady will wear her favorite bow tie if she has neckties.   \n",
       "21                                           It's not the case that the lady will wear her favorite bow tie if she has neckties.   \n",
       "22                                                 Sam believe that the lady will wear her favorite bow tie if she has neckties.   \n",
       "23                                                  Is it true that the lady will wear her favorite bow tie if she has neckties.   \n",
       "24                                                           Dan criticizes his roommate's behavior if he has a loving roommate.   \n",
       "25                                    It's not the case that Dan criticizes his roommate's behavior if he has a loving roommate.   \n",
       "26                                         Sam believes that Dan criticizes his roommate's behavior if he has a loving roommate.   \n",
       "27                                           Is it true that Dan criticizes his roommate's behavior if he has a loving roommate?   \n",
       "\n",
       "                                               hypothesis gold_label  \\\n",
       "0                                Jessica has a colleague.          E   \n",
       "1                                Jessica has a colleague.          E   \n",
       "2                                Jessica has a colleague.          E   \n",
       "3                                Jessica has a colleague.          E   \n",
       "4                      Tiffany has an essential oils kit.          E   \n",
       "5                      Tiffany has an essential oils kit.          E   \n",
       "6                      Tiffany has an essential oils kit.          E   \n",
       "7                      Tiffany has an essential oils kit.          E   \n",
       "8          Andrew has expressed a deep conviction before.          E   \n",
       "9          Andrew has expressed a deep conviction before.          E   \n",
       "10         Andrew has expressed a deep conviction before.          E   \n",
       "11         Andrew has expressed a deep conviction before.          E   \n",
       "12           The boss collaborated with Joe as a partner.          N   \n",
       "13           The boss collaborated with Joe as a partner.          N   \n",
       "14           The boss collaborated with Joe as a partner.          N   \n",
       "15           The boss collaborated with Joe as a partner.          N   \n",
       "16                       The doctor has watched Fox News.          N   \n",
       "17                       The doctor has watched Fox News.          N   \n",
       "18                       The doctor has watched Fox News.          N   \n",
       "19                       The doctor has watched Fox News.          N   \n",
       "20                       The lady has a favorite bow tie.          N   \n",
       "21                       The lady has a favorite bow tie.          N   \n",
       "22                       The lady has a favorite bow tie.          N   \n",
       "23                       The lady has a favorite bow tie.          N   \n",
       "24  Dan did not criticize his loving roommate's behavior.          C   \n",
       "25  Dan did not criticize his loving roommate's behavior.          C   \n",
       "26  Dan did not criticize his loving roommate's behavior.          C   \n",
       "27  Dan did not criticize his loving roommate's behavior.          C   \n",
       "\n",
       "                type  \n",
       "0   type5_possessive  \n",
       "1   type5_possessive  \n",
       "2   type5_possessive  \n",
       "3   type5_possessive  \n",
       "4   type4_possessive  \n",
       "5   type4_possessive  \n",
       "6   type4_possessive  \n",
       "7   type4_possessive  \n",
       "8        type5_again  \n",
       "9        type5_again  \n",
       "10       type5_again  \n",
       "11       type5_again  \n",
       "12       type1_again  \n",
       "13       type1_again  \n",
       "14       type1_again  \n",
       "15       type1_again  \n",
       "16       type3_again  \n",
       "17       type3_again  \n",
       "18       type3_again  \n",
       "19       type3_again  \n",
       "20  type3_possessive  \n",
       "21  type3_possessive  \n",
       "22  type3_possessive  \n",
       "23  type3_possessive  \n",
       "24  type2_possessive  \n",
       "25  type2_possessive  \n",
       "26  type2_possessive  \n",
       "27  type2_possessive  "
      ]
     },
     "execution_count": 19,
     "metadata": {},
     "output_type": "execute_result"
    }
   ],
   "source": [
    "new_tests_df = pd.read_csv('/kaggle/input/nli-data/new_tests.csv')\n",
    "new_tests_df"
   ]
  },
  {
   "cell_type": "code",
   "execution_count": 20,
   "metadata": {
    "execution": {
     "iopub.execute_input": "2025-03-11T18:23:55.951590Z",
     "iopub.status.busy": "2025-03-11T18:23:55.951320Z",
     "iopub.status.idle": "2025-03-11T18:23:55.962396Z",
     "shell.execute_reply": "2025-03-11T18:23:55.961658Z",
     "shell.execute_reply.started": "2025-03-11T18:23:55.951562Z"
    },
    "trusted": true
   },
   "outputs": [
    {
     "data": {
      "text/html": [
       "<div>\n",
       "<style scoped>\n",
       "    .dataframe tbody tr th:only-of-type {\n",
       "        vertical-align: middle;\n",
       "    }\n",
       "\n",
       "    .dataframe tbody tr th {\n",
       "        vertical-align: top;\n",
       "    }\n",
       "\n",
       "    .dataframe thead th {\n",
       "        text-align: right;\n",
       "    }\n",
       "</style>\n",
       "<table border=\"1\" class=\"dataframe\">\n",
       "  <thead>\n",
       "    <tr style=\"text-align: right;\">\n",
       "      <th></th>\n",
       "      <th>premise</th>\n",
       "      <th>hypothesis</th>\n",
       "      <th>type</th>\n",
       "      <th>label</th>\n",
       "    </tr>\n",
       "  </thead>\n",
       "  <tbody>\n",
       "    <tr>\n",
       "      <th>0</th>\n",
       "      <td>Jessica's colleague will meet her at the hotel if Jessica attends the conference.</td>\n",
       "      <td>Jessica has a colleague.</td>\n",
       "      <td>type5_possessive</td>\n",
       "      <td>ENTAILMENT</td>\n",
       "    </tr>\n",
       "    <tr>\n",
       "      <th>1</th>\n",
       "      <td>It's not the case that Jessica's colleague will meet her at the hotel if Jessica attends the conference.</td>\n",
       "      <td>Jessica has a colleague.</td>\n",
       "      <td>type5_possessive</td>\n",
       "      <td>ENTAILMENT</td>\n",
       "    </tr>\n",
       "    <tr>\n",
       "      <th>2</th>\n",
       "      <td>Sam believes that Jessica's colleague will meet her at the hotel if Jessica attends the conference.</td>\n",
       "      <td>Jessica has a colleague.</td>\n",
       "      <td>type5_possessive</td>\n",
       "      <td>ENTAILMENT</td>\n",
       "    </tr>\n",
       "    <tr>\n",
       "      <th>3</th>\n",
       "      <td>Is it true tha tJessica's colleague will meet her at the hotel if Jessica attends the conference?</td>\n",
       "      <td>Jessica has a colleague.</td>\n",
       "      <td>type5_possessive</td>\n",
       "      <td>ENTAILMENT</td>\n",
       "    </tr>\n",
       "    <tr>\n",
       "      <th>4</th>\n",
       "      <td>Tiffany will bring her essential oils kit to the spa is she is a spa therapist.</td>\n",
       "      <td>Tiffany has an essential oils kit.</td>\n",
       "      <td>type4_possessive</td>\n",
       "      <td>ENTAILMENT</td>\n",
       "    </tr>\n",
       "    <tr>\n",
       "      <th>5</th>\n",
       "      <td>It's not the case that Tiffany will bring her essential oils kit to the spa is she is a spa therapist.</td>\n",
       "      <td>Tiffany has an essential oils kit.</td>\n",
       "      <td>type4_possessive</td>\n",
       "      <td>ENTAILMENT</td>\n",
       "    </tr>\n",
       "    <tr>\n",
       "      <th>6</th>\n",
       "      <td>Sam believes that Tiffany will bring her essential oils kit to the spa is she is a spa therapist.</td>\n",
       "      <td>Tiffany has an essential oils kit.</td>\n",
       "      <td>type4_possessive</td>\n",
       "      <td>ENTAILMENT</td>\n",
       "    </tr>\n",
       "    <tr>\n",
       "      <th>7</th>\n",
       "      <td>Is it true that Tiffany will bring her essential oils kit to the spa is she is a spa therapist.</td>\n",
       "      <td>Tiffany has an essential oils kit.</td>\n",
       "      <td>type4_possessive</td>\n",
       "      <td>ENTAILMENT</td>\n",
       "    </tr>\n",
       "    <tr>\n",
       "      <th>8</th>\n",
       "      <td>Andrew will never express a deep convistion again if he arrives early.</td>\n",
       "      <td>Andrew has expressed a deep conviction before.</td>\n",
       "      <td>type5_again</td>\n",
       "      <td>ENTAILMENT</td>\n",
       "    </tr>\n",
       "    <tr>\n",
       "      <th>9</th>\n",
       "      <td>It's not the case that Andrew will never express a deep convistion again if he arrives early.</td>\n",
       "      <td>Andrew has expressed a deep conviction before.</td>\n",
       "      <td>type5_again</td>\n",
       "      <td>ENTAILMENT</td>\n",
       "    </tr>\n",
       "    <tr>\n",
       "      <th>10</th>\n",
       "      <td>Sam believes that Andrew will never express a deep convistion again if he arrives early.</td>\n",
       "      <td>Andrew has expressed a deep conviction before.</td>\n",
       "      <td>type5_again</td>\n",
       "      <td>ENTAILMENT</td>\n",
       "    </tr>\n",
       "    <tr>\n",
       "      <th>11</th>\n",
       "      <td>Is it true that Andrew will never express a deep convistion again if he arrives early?</td>\n",
       "      <td>Andrew has expressed a deep conviction before.</td>\n",
       "      <td>type5_again</td>\n",
       "      <td>ENTAILMENT</td>\n",
       "    </tr>\n",
       "    <tr>\n",
       "      <th>12</th>\n",
       "      <td>The boss will never collaborate with Joe as a partner again if he collaborated with Joe as a partner.</td>\n",
       "      <td>The boss collaborated with Joe as a partner.</td>\n",
       "      <td>type1_again</td>\n",
       "      <td>NEUTRAL</td>\n",
       "    </tr>\n",
       "    <tr>\n",
       "      <th>13</th>\n",
       "      <td>It's not the case that the boss will never collaborate with Joe as a partner again if he collaborated with Joe as a partner.</td>\n",
       "      <td>The boss collaborated with Joe as a partner.</td>\n",
       "      <td>type1_again</td>\n",
       "      <td>NEUTRAL</td>\n",
       "    </tr>\n",
       "    <tr>\n",
       "      <th>14</th>\n",
       "      <td>Sam believes that the boss will never collaborate with Joe as a partner again if he collaborated with Joe as a partner.</td>\n",
       "      <td>The boss collaborated with Joe as a partner.</td>\n",
       "      <td>type1_again</td>\n",
       "      <td>NEUTRAL</td>\n",
       "    </tr>\n",
       "    <tr>\n",
       "      <th>15</th>\n",
       "      <td>Is it true that the boss will never collaborate with Joe as a partner again if he collaborated with Joe as a partner.</td>\n",
       "      <td>The boss collaborated with Joe as a partner.</td>\n",
       "      <td>type1_again</td>\n",
       "      <td>NEUTRAL</td>\n",
       "    </tr>\n",
       "    <tr>\n",
       "      <th>16</th>\n",
       "      <td>The doctor didn't watch Fox News again if he ever watched a news channel.</td>\n",
       "      <td>The doctor has watched Fox News.</td>\n",
       "      <td>type3_again</td>\n",
       "      <td>NEUTRAL</td>\n",
       "    </tr>\n",
       "    <tr>\n",
       "      <th>17</th>\n",
       "      <td>It's not the case that the doctor didn't watch Fox News again if he ever watched a news channel.</td>\n",
       "      <td>The doctor has watched Fox News.</td>\n",
       "      <td>type3_again</td>\n",
       "      <td>NEUTRAL</td>\n",
       "    </tr>\n",
       "    <tr>\n",
       "      <th>18</th>\n",
       "      <td>Sam believes that the doctor didn't watch Fox News again if he ever watched a news channel.</td>\n",
       "      <td>The doctor has watched Fox News.</td>\n",
       "      <td>type3_again</td>\n",
       "      <td>NEUTRAL</td>\n",
       "    </tr>\n",
       "    <tr>\n",
       "      <th>19</th>\n",
       "      <td>Is it true that the doctor didn't watch Fox News again if he ever watched a news channel?</td>\n",
       "      <td>The doctor has watched Fox News.</td>\n",
       "      <td>type3_again</td>\n",
       "      <td>NEUTRAL</td>\n",
       "    </tr>\n",
       "    <tr>\n",
       "      <th>20</th>\n",
       "      <td>The lady will wear her favorite bow tie if she has neckties.</td>\n",
       "      <td>The lady has a favorite bow tie.</td>\n",
       "      <td>type3_possessive</td>\n",
       "      <td>NEUTRAL</td>\n",
       "    </tr>\n",
       "    <tr>\n",
       "      <th>21</th>\n",
       "      <td>It's not the case that the lady will wear her favorite bow tie if she has neckties.</td>\n",
       "      <td>The lady has a favorite bow tie.</td>\n",
       "      <td>type3_possessive</td>\n",
       "      <td>NEUTRAL</td>\n",
       "    </tr>\n",
       "    <tr>\n",
       "      <th>22</th>\n",
       "      <td>Sam believe that the lady will wear her favorite bow tie if she has neckties.</td>\n",
       "      <td>The lady has a favorite bow tie.</td>\n",
       "      <td>type3_possessive</td>\n",
       "      <td>NEUTRAL</td>\n",
       "    </tr>\n",
       "    <tr>\n",
       "      <th>23</th>\n",
       "      <td>Is it true that the lady will wear her favorite bow tie if she has neckties.</td>\n",
       "      <td>The lady has a favorite bow tie.</td>\n",
       "      <td>type3_possessive</td>\n",
       "      <td>NEUTRAL</td>\n",
       "    </tr>\n",
       "    <tr>\n",
       "      <th>24</th>\n",
       "      <td>Dan criticizes his roommate's behavior if he has a loving roommate.</td>\n",
       "      <td>Dan did not criticize his loving roommate's behavior.</td>\n",
       "      <td>type2_possessive</td>\n",
       "      <td>CONTRADICTION</td>\n",
       "    </tr>\n",
       "    <tr>\n",
       "      <th>25</th>\n",
       "      <td>It's not the case that Dan criticizes his roommate's behavior if he has a loving roommate.</td>\n",
       "      <td>Dan did not criticize his loving roommate's behavior.</td>\n",
       "      <td>type2_possessive</td>\n",
       "      <td>CONTRADICTION</td>\n",
       "    </tr>\n",
       "    <tr>\n",
       "      <th>26</th>\n",
       "      <td>Sam believes that Dan criticizes his roommate's behavior if he has a loving roommate.</td>\n",
       "      <td>Dan did not criticize his loving roommate's behavior.</td>\n",
       "      <td>type2_possessive</td>\n",
       "      <td>CONTRADICTION</td>\n",
       "    </tr>\n",
       "    <tr>\n",
       "      <th>27</th>\n",
       "      <td>Is it true that Dan criticizes his roommate's behavior if he has a loving roommate?</td>\n",
       "      <td>Dan did not criticize his loving roommate's behavior.</td>\n",
       "      <td>type2_possessive</td>\n",
       "      <td>CONTRADICTION</td>\n",
       "    </tr>\n",
       "  </tbody>\n",
       "</table>\n",
       "</div>"
      ],
      "text/plain": [
       "                                                                                                                         premise  \\\n",
       "0                                             Jessica's colleague will meet her at the hotel if Jessica attends the conference.    \n",
       "1                       It's not the case that Jessica's colleague will meet her at the hotel if Jessica attends the conference.   \n",
       "2                            Sam believes that Jessica's colleague will meet her at the hotel if Jessica attends the conference.   \n",
       "3                              Is it true tha tJessica's colleague will meet her at the hotel if Jessica attends the conference?   \n",
       "4                                                Tiffany will bring her essential oils kit to the spa is she is a spa therapist.   \n",
       "5                         It's not the case that Tiffany will bring her essential oils kit to the spa is she is a spa therapist.   \n",
       "6                              Sam believes that Tiffany will bring her essential oils kit to the spa is she is a spa therapist.   \n",
       "7                                Is it true that Tiffany will bring her essential oils kit to the spa is she is a spa therapist.   \n",
       "8                                                         Andrew will never express a deep convistion again if he arrives early.   \n",
       "9                                  It's not the case that Andrew will never express a deep convistion again if he arrives early.   \n",
       "10                                      Sam believes that Andrew will never express a deep convistion again if he arrives early.   \n",
       "11                                        Is it true that Andrew will never express a deep convistion again if he arrives early?   \n",
       "12                         The boss will never collaborate with Joe as a partner again if he collaborated with Joe as a partner.   \n",
       "13  It's not the case that the boss will never collaborate with Joe as a partner again if he collaborated with Joe as a partner.   \n",
       "14       Sam believes that the boss will never collaborate with Joe as a partner again if he collaborated with Joe as a partner.   \n",
       "15         Is it true that the boss will never collaborate with Joe as a partner again if he collaborated with Joe as a partner.   \n",
       "16                                                     The doctor didn't watch Fox News again if he ever watched a news channel.   \n",
       "17                              It's not the case that the doctor didn't watch Fox News again if he ever watched a news channel.   \n",
       "18                                   Sam believes that the doctor didn't watch Fox News again if he ever watched a news channel.   \n",
       "19                                     Is it true that the doctor didn't watch Fox News again if he ever watched a news channel?   \n",
       "20                                                                  The lady will wear her favorite bow tie if she has neckties.   \n",
       "21                                           It's not the case that the lady will wear her favorite bow tie if she has neckties.   \n",
       "22                                                 Sam believe that the lady will wear her favorite bow tie if she has neckties.   \n",
       "23                                                  Is it true that the lady will wear her favorite bow tie if she has neckties.   \n",
       "24                                                           Dan criticizes his roommate's behavior if he has a loving roommate.   \n",
       "25                                    It's not the case that Dan criticizes his roommate's behavior if he has a loving roommate.   \n",
       "26                                         Sam believes that Dan criticizes his roommate's behavior if he has a loving roommate.   \n",
       "27                                           Is it true that Dan criticizes his roommate's behavior if he has a loving roommate?   \n",
       "\n",
       "                                               hypothesis              type  \\\n",
       "0                                Jessica has a colleague.  type5_possessive   \n",
       "1                                Jessica has a colleague.  type5_possessive   \n",
       "2                                Jessica has a colleague.  type5_possessive   \n",
       "3                                Jessica has a colleague.  type5_possessive   \n",
       "4                      Tiffany has an essential oils kit.  type4_possessive   \n",
       "5                      Tiffany has an essential oils kit.  type4_possessive   \n",
       "6                      Tiffany has an essential oils kit.  type4_possessive   \n",
       "7                      Tiffany has an essential oils kit.  type4_possessive   \n",
       "8          Andrew has expressed a deep conviction before.       type5_again   \n",
       "9          Andrew has expressed a deep conviction before.       type5_again   \n",
       "10         Andrew has expressed a deep conviction before.       type5_again   \n",
       "11         Andrew has expressed a deep conviction before.       type5_again   \n",
       "12           The boss collaborated with Joe as a partner.       type1_again   \n",
       "13           The boss collaborated with Joe as a partner.       type1_again   \n",
       "14           The boss collaborated with Joe as a partner.       type1_again   \n",
       "15           The boss collaborated with Joe as a partner.       type1_again   \n",
       "16                       The doctor has watched Fox News.       type3_again   \n",
       "17                       The doctor has watched Fox News.       type3_again   \n",
       "18                       The doctor has watched Fox News.       type3_again   \n",
       "19                       The doctor has watched Fox News.       type3_again   \n",
       "20                       The lady has a favorite bow tie.  type3_possessive   \n",
       "21                       The lady has a favorite bow tie.  type3_possessive   \n",
       "22                       The lady has a favorite bow tie.  type3_possessive   \n",
       "23                       The lady has a favorite bow tie.  type3_possessive   \n",
       "24  Dan did not criticize his loving roommate's behavior.  type2_possessive   \n",
       "25  Dan did not criticize his loving roommate's behavior.  type2_possessive   \n",
       "26  Dan did not criticize his loving roommate's behavior.  type2_possessive   \n",
       "27  Dan did not criticize his loving roommate's behavior.  type2_possessive   \n",
       "\n",
       "            label  \n",
       "0      ENTAILMENT  \n",
       "1      ENTAILMENT  \n",
       "2      ENTAILMENT  \n",
       "3      ENTAILMENT  \n",
       "4      ENTAILMENT  \n",
       "5      ENTAILMENT  \n",
       "6      ENTAILMENT  \n",
       "7      ENTAILMENT  \n",
       "8      ENTAILMENT  \n",
       "9      ENTAILMENT  \n",
       "10     ENTAILMENT  \n",
       "11     ENTAILMENT  \n",
       "12        NEUTRAL  \n",
       "13        NEUTRAL  \n",
       "14        NEUTRAL  \n",
       "15        NEUTRAL  \n",
       "16        NEUTRAL  \n",
       "17        NEUTRAL  \n",
       "18        NEUTRAL  \n",
       "19        NEUTRAL  \n",
       "20        NEUTRAL  \n",
       "21        NEUTRAL  \n",
       "22        NEUTRAL  \n",
       "23        NEUTRAL  \n",
       "24  CONTRADICTION  \n",
       "25  CONTRADICTION  \n",
       "26  CONTRADICTION  \n",
       "27  CONTRADICTION  "
      ]
     },
     "execution_count": 20,
     "metadata": {},
     "output_type": "execute_result"
    }
   ],
   "source": [
    "new_tests_df['label'] = new_tests_df['gold_label'].map({'E':'ENTAILMENT','N':'NEUTRAL','C':'CONTRADICTION'})\n",
    "new_tests_df = new_tests_df[['premise','hypothesis','type','label']]\n",
    "new_tests_df"
   ]
  },
  {
   "cell_type": "code",
   "execution_count": 21,
   "metadata": {
    "execution": {
     "iopub.execute_input": "2025-03-11T18:23:55.963317Z",
     "iopub.status.busy": "2025-03-11T18:23:55.963074Z",
     "iopub.status.idle": "2025-03-11T18:23:55.990821Z",
     "shell.execute_reply": "2025-03-11T18:23:55.990214Z",
     "shell.execute_reply.started": "2025-03-11T18:23:55.963298Z"
    },
    "trusted": true
   },
   "outputs": [
    {
     "data": {
      "text/html": [
       "<div>\n",
       "<style scoped>\n",
       "    .dataframe tbody tr th:only-of-type {\n",
       "        vertical-align: middle;\n",
       "    }\n",
       "\n",
       "    .dataframe tbody tr th {\n",
       "        vertical-align: top;\n",
       "    }\n",
       "\n",
       "    .dataframe thead th {\n",
       "        text-align: right;\n",
       "    }\n",
       "</style>\n",
       "<table border=\"1\" class=\"dataframe\">\n",
       "  <thead>\n",
       "    <tr style=\"text-align: right;\">\n",
       "      <th></th>\n",
       "      <th>premise</th>\n",
       "      <th>hypothesis</th>\n",
       "      <th>type</th>\n",
       "      <th>label</th>\n",
       "    </tr>\n",
       "  </thead>\n",
       "  <tbody>\n",
       "    <tr>\n",
       "      <th>0</th>\n",
       "      <td>If Jessica attends the conference, her colleague will meet her at the hotel.</td>\n",
       "      <td>Jessica has a sister.</td>\n",
       "      <td>type5_possessive</td>\n",
       "      <td>NEUTRAL</td>\n",
       "    </tr>\n",
       "    <tr>\n",
       "      <th>1</th>\n",
       "      <td>It's not the case that if Jessica attends the conference, her colleague will meet her at the hotel.</td>\n",
       "      <td>Jessica has a sister.</td>\n",
       "      <td>type5_possessive</td>\n",
       "      <td>NEUTRAL</td>\n",
       "    </tr>\n",
       "    <tr>\n",
       "      <th>2</th>\n",
       "      <td>Sam believes that if Jessica attends the conference, her colleague will meet her at the hotel.</td>\n",
       "      <td>Jessica has a sister.</td>\n",
       "      <td>type5_possessive</td>\n",
       "      <td>NEUTRAL</td>\n",
       "    </tr>\n",
       "    <tr>\n",
       "      <th>3</th>\n",
       "      <td>Is it true that if Jessica attends the conference, her colleague will meet her at the hotel?</td>\n",
       "      <td>Jessica has a sister.</td>\n",
       "      <td>type5_possessive</td>\n",
       "      <td>NEUTRAL</td>\n",
       "    </tr>\n",
       "    <tr>\n",
       "      <th>4</th>\n",
       "      <td>If Mia's car breaks down, she'll never write a horror novel again.</td>\n",
       "      <td>Mia wrote a horror novel again.</td>\n",
       "      <td>type5_again</td>\n",
       "      <td>NEUTRAL</td>\n",
       "    </tr>\n",
       "    <tr>\n",
       "      <th>5</th>\n",
       "      <td>It's not the case that if Mia's car breaks down, she'll never write a horror novel again.</td>\n",
       "      <td>Mia wrote a horror novel again.</td>\n",
       "      <td>type5_again</td>\n",
       "      <td>NEUTRAL</td>\n",
       "    </tr>\n",
       "    <tr>\n",
       "      <th>6</th>\n",
       "      <td>Sam believes that if Mia's car breaks down, she'll never write a horror novel again.</td>\n",
       "      <td>Mia wrote a horror novel again.</td>\n",
       "      <td>type5_again</td>\n",
       "      <td>NEUTRAL</td>\n",
       "    </tr>\n",
       "    <tr>\n",
       "      <th>7</th>\n",
       "      <td>Is it true that if Mia's car breaks down, she'll never write a horror novel again?</td>\n",
       "      <td>Mia wrote a horror novel again.</td>\n",
       "      <td>type5_again</td>\n",
       "      <td>NEUTRAL</td>\n",
       "    </tr>\n",
       "    <tr>\n",
       "      <th>8</th>\n",
       "      <td>If the teacher watched a movie by Nolan, she'll never watch a movie by Nolan again.</td>\n",
       "      <td>The teacher did not watch a movie by Nolan</td>\n",
       "      <td>type1_again</td>\n",
       "      <td>NEUTRAL</td>\n",
       "    </tr>\n",
       "    <tr>\n",
       "      <th>9</th>\n",
       "      <td>If Angela wrote a horror novel, she'll never write a horror novel again.</td>\n",
       "      <td>Angela did not write a horror novel.</td>\n",
       "      <td>type1_again</td>\n",
       "      <td>NEUTRAL</td>\n",
       "    </tr>\n",
       "    <tr>\n",
       "      <th>10</th>\n",
       "      <td>If Ryan played a musical instrument at the talent show, he'll never play a musical instrument at a public event again.</td>\n",
       "      <td>Ryan did not play a musical instrument at the talent show.</td>\n",
       "      <td>type1_again</td>\n",
       "      <td>NEUTRAL</td>\n",
       "    </tr>\n",
       "    <tr>\n",
       "      <th>11</th>\n",
       "      <td>If the boss baked a chocolate cake, she'll never bake a chocolate cake again.</td>\n",
       "      <td>The boss did not bake a chocolate cake.</td>\n",
       "      <td>type1_again</td>\n",
       "      <td>NEUTRAL</td>\n",
       "    </tr>\n",
       "    <tr>\n",
       "      <th>12</th>\n",
       "      <td>Sam believes that if Michelle amended a contract, she'll never amend a contract again.</td>\n",
       "      <td>Michelle amended a contract after having amended a contract.</td>\n",
       "      <td>type1_again</td>\n",
       "      <td>CONTRADICTION</td>\n",
       "    </tr>\n",
       "    <tr>\n",
       "      <th>13</th>\n",
       "      <td>If Lisa picked a flower for Tammy, she'll never pick a flower for Tammy again.</td>\n",
       "      <td>Lisa picked a flower for Tammy after having picked a flower.</td>\n",
       "      <td>type1_again</td>\n",
       "      <td>CONTRADICTION</td>\n",
       "    </tr>\n",
       "    <tr>\n",
       "      <th>14</th>\n",
       "      <td>Is it true that if Martin opted for a health insurance, he'll never opt for a health insurance again?</td>\n",
       "      <td>Martin opted for a health insurance after having opted for health insurance</td>\n",
       "      <td>type1_again</td>\n",
       "      <td>CONTRADICTION</td>\n",
       "    </tr>\n",
       "    <tr>\n",
       "      <th>15</th>\n",
       "      <td>Sam believes that if Kimberley treated a symptom of the disease, she'll never treat a symptom of the disease again.</td>\n",
       "      <td>Kimberley treated a symptom of the disease after having treated a symptom of the disease.</td>\n",
       "      <td>type1_again</td>\n",
       "      <td>CONTRADICTION</td>\n",
       "    </tr>\n",
       "    <tr>\n",
       "      <th>16</th>\n",
       "      <td>Is it true that if Angela wrote a horror novel, she'll never write a horror novel again?</td>\n",
       "      <td>Angela wrote a horror novel after having written a horror novel.</td>\n",
       "      <td>type1_again</td>\n",
       "      <td>CONTRADICTION</td>\n",
       "    </tr>\n",
       "    <tr>\n",
       "      <th>17</th>\n",
       "      <td>Sam believes that if Grace misses the bus, she'll never check an email from Rob again.</td>\n",
       "      <td>Sam has checked an email from Rob before.</td>\n",
       "      <td>type5_again</td>\n",
       "      <td>NEUTRAL</td>\n",
       "    </tr>\n",
       "    <tr>\n",
       "      <th>18</th>\n",
       "      <td>If Victoria decides to move to New York, she'll never compete with a rival in the cosmetics market again.</td>\n",
       "      <td>Nancy has competed with a rival in the cosmetics market before.</td>\n",
       "      <td>type5_again</td>\n",
       "      <td>NEUTRAL</td>\n",
       "    </tr>\n",
       "    <tr>\n",
       "      <th>19</th>\n",
       "      <td>Sam believes that if Scarlett finishes her exam early, she'll never dance with a song by JLO again.</td>\n",
       "      <td>Sam has danced with a song by JLO before.</td>\n",
       "      <td>type5_again</td>\n",
       "      <td>NEUTRAL</td>\n",
       "    </tr>\n",
       "    <tr>\n",
       "      <th>20</th>\n",
       "      <td>It's not the case that if Margaret graduates from college, she'll never deny an allegation by the governor again.</td>\n",
       "      <td>Nancy has denied an allegation by the governor before.</td>\n",
       "      <td>type5_again</td>\n",
       "      <td>NEUTRAL</td>\n",
       "    </tr>\n",
       "  </tbody>\n",
       "</table>\n",
       "</div>"
      ],
      "text/plain": [
       "                                                                                                                   premise  \\\n",
       "0                                             If Jessica attends the conference, her colleague will meet her at the hotel.   \n",
       "1                      It's not the case that if Jessica attends the conference, her colleague will meet her at the hotel.   \n",
       "2                           Sam believes that if Jessica attends the conference, her colleague will meet her at the hotel.   \n",
       "3                             Is it true that if Jessica attends the conference, her colleague will meet her at the hotel?   \n",
       "4                                                       If Mia's car breaks down, she'll never write a horror novel again.   \n",
       "5                                It's not the case that if Mia's car breaks down, she'll never write a horror novel again.   \n",
       "6                                     Sam believes that if Mia's car breaks down, she'll never write a horror novel again.   \n",
       "7                                       Is it true that if Mia's car breaks down, she'll never write a horror novel again?   \n",
       "8                                      If the teacher watched a movie by Nolan, she'll never watch a movie by Nolan again.   \n",
       "9                                                 If Angela wrote a horror novel, she'll never write a horror novel again.   \n",
       "10  If Ryan played a musical instrument at the talent show, he'll never play a musical instrument at a public event again.   \n",
       "11                                           If the boss baked a chocolate cake, she'll never bake a chocolate cake again.   \n",
       "12                                  Sam believes that if Michelle amended a contract, she'll never amend a contract again.   \n",
       "13                                          If Lisa picked a flower for Tammy, she'll never pick a flower for Tammy again.   \n",
       "14                   Is it true that if Martin opted for a health insurance, he'll never opt for a health insurance again?   \n",
       "15     Sam believes that if Kimberley treated a symptom of the disease, she'll never treat a symptom of the disease again.   \n",
       "16                                Is it true that if Angela wrote a horror novel, she'll never write a horror novel again?   \n",
       "17                                  Sam believes that if Grace misses the bus, she'll never check an email from Rob again.   \n",
       "18               If Victoria decides to move to New York, she'll never compete with a rival in the cosmetics market again.   \n",
       "19                     Sam believes that if Scarlett finishes her exam early, she'll never dance with a song by JLO again.   \n",
       "20       It's not the case that if Margaret graduates from college, she'll never deny an allegation by the governor again.   \n",
       "\n",
       "                                                                                   hypothesis  \\\n",
       "0                                                                       Jessica has a sister.   \n",
       "1                                                                       Jessica has a sister.   \n",
       "2                                                                       Jessica has a sister.   \n",
       "3                                                                       Jessica has a sister.   \n",
       "4                                                             Mia wrote a horror novel again.   \n",
       "5                                                             Mia wrote a horror novel again.   \n",
       "6                                                             Mia wrote a horror novel again.   \n",
       "7                                                             Mia wrote a horror novel again.   \n",
       "8                                                  The teacher did not watch a movie by Nolan   \n",
       "9                                                        Angela did not write a horror novel.   \n",
       "10                                 Ryan did not play a musical instrument at the talent show.   \n",
       "11                                                    The boss did not bake a chocolate cake.   \n",
       "12                               Michelle amended a contract after having amended a contract.   \n",
       "13                               Lisa picked a flower for Tammy after having picked a flower.   \n",
       "14                Martin opted for a health insurance after having opted for health insurance   \n",
       "15  Kimberley treated a symptom of the disease after having treated a symptom of the disease.   \n",
       "16                           Angela wrote a horror novel after having written a horror novel.   \n",
       "17                                                  Sam has checked an email from Rob before.   \n",
       "18                            Nancy has competed with a rival in the cosmetics market before.   \n",
       "19                                                  Sam has danced with a song by JLO before.   \n",
       "20                                     Nancy has denied an allegation by the governor before.   \n",
       "\n",
       "                type          label  \n",
       "0   type5_possessive        NEUTRAL  \n",
       "1   type5_possessive        NEUTRAL  \n",
       "2   type5_possessive        NEUTRAL  \n",
       "3   type5_possessive        NEUTRAL  \n",
       "4        type5_again        NEUTRAL  \n",
       "5        type5_again        NEUTRAL  \n",
       "6        type5_again        NEUTRAL  \n",
       "7        type5_again        NEUTRAL  \n",
       "8        type1_again        NEUTRAL  \n",
       "9        type1_again        NEUTRAL  \n",
       "10       type1_again        NEUTRAL  \n",
       "11       type1_again        NEUTRAL  \n",
       "12       type1_again  CONTRADICTION  \n",
       "13       type1_again  CONTRADICTION  \n",
       "14       type1_again  CONTRADICTION  \n",
       "15       type1_again  CONTRADICTION  \n",
       "16       type1_again  CONTRADICTION  \n",
       "17       type5_again        NEUTRAL  \n",
       "18       type5_again        NEUTRAL  \n",
       "19       type5_again        NEUTRAL  \n",
       "20       type5_again        NEUTRAL  "
      ]
     },
     "execution_count": 21,
     "metadata": {},
     "output_type": "execute_result"
    }
   ],
   "source": [
    "hard_tests_df = pd.read_csv('/kaggle/input/nli-data/hard_tests.csv')\n",
    "hard_tests_df['label'] = hard_tests_df['gold_label'].map({'E':'ENTAILMENT','N':'NEUTRAL','C':'CONTRADICTION'})\n",
    "hard_tests_df = hard_tests_df[['premise','hypothesis','type','label']]\n",
    "hard_tests_df"
   ]
  },
  {
   "cell_type": "code",
   "execution_count": 22,
   "metadata": {
    "execution": {
     "iopub.execute_input": "2025-03-11T18:23:55.991847Z",
     "iopub.status.busy": "2025-03-11T18:23:55.991563Z",
     "iopub.status.idle": "2025-03-11T18:23:56.019613Z",
     "shell.execute_reply": "2025-03-11T18:23:56.018939Z",
     "shell.execute_reply.started": "2025-03-11T18:23:55.991818Z"
    },
    "trusted": true
   },
   "outputs": [
    {
     "data": {
      "text/plain": [
       "Dataset({\n",
       "    features: ['premise', 'hypothesis', 'label', '__index_level_0__'],\n",
       "    num_rows: 6486\n",
       "})"
      ]
     },
     "execution_count": 22,
     "metadata": {},
     "output_type": "execute_result"
    }
   ],
   "source": [
    "train_ds = Dataset.from_pandas(train_df)\n",
    "train_ds"
   ]
  },
  {
   "cell_type": "code",
   "execution_count": 23,
   "metadata": {
    "execution": {
     "iopub.execute_input": "2025-03-11T18:23:56.020620Z",
     "iopub.status.busy": "2025-03-11T18:23:56.020336Z",
     "iopub.status.idle": "2025-03-11T18:23:56.032711Z",
     "shell.execute_reply": "2025-03-11T18:23:56.031996Z",
     "shell.execute_reply.started": "2025-03-11T18:23:56.020582Z"
    },
    "trusted": true
   },
   "outputs": [
    {
     "data": {
      "text/plain": [
       "Dataset({\n",
       "    features: ['premise', 'hypothesis', 'label', '__index_level_0__'],\n",
       "    num_rows: 2348\n",
       "})"
      ]
     },
     "execution_count": 23,
     "metadata": {},
     "output_type": "execute_result"
    }
   ],
   "source": [
    "val_ds = Dataset.from_pandas(val_df)\n",
    "val_ds"
   ]
  },
  {
   "cell_type": "code",
   "execution_count": 24,
   "metadata": {
    "execution": {
     "iopub.execute_input": "2025-03-11T18:23:56.033743Z",
     "iopub.status.busy": "2025-03-11T18:23:56.033517Z",
     "iopub.status.idle": "2025-03-11T18:23:56.056551Z",
     "shell.execute_reply": "2025-03-11T18:23:56.055948Z",
     "shell.execute_reply.started": "2025-03-11T18:23:56.033709Z"
    },
    "trusted": true
   },
   "outputs": [
    {
     "data": {
      "text/plain": [
       "Dataset({\n",
       "    features: ['premise', 'hypothesis', 'type', 'label', '__index_level_0__'],\n",
       "    num_rows: 2367\n",
       "})"
      ]
     },
     "execution_count": 24,
     "metadata": {},
     "output_type": "execute_result"
    }
   ],
   "source": [
    "test_ds = Dataset.from_pandas(test_df)\n",
    "test_ds"
   ]
  },
  {
   "cell_type": "code",
   "execution_count": 25,
   "metadata": {
    "execution": {
     "iopub.execute_input": "2025-03-11T18:23:56.057489Z",
     "iopub.status.busy": "2025-03-11T18:23:56.057215Z",
     "iopub.status.idle": "2025-03-11T18:23:56.067943Z",
     "shell.execute_reply": "2025-03-11T18:23:56.067150Z",
     "shell.execute_reply.started": "2025-03-11T18:23:56.057462Z"
    },
    "trusted": true
   },
   "outputs": [
    {
     "data": {
      "text/plain": [
       "Dataset({\n",
       "    features: ['premise', 'hypothesis', 'type', 'label'],\n",
       "    num_rows: 28\n",
       "})"
      ]
     },
     "execution_count": 25,
     "metadata": {},
     "output_type": "execute_result"
    }
   ],
   "source": [
    "new_test_ds = Dataset.from_pandas(new_tests_df)\n",
    "new_test_ds"
   ]
  },
  {
   "cell_type": "code",
   "execution_count": 26,
   "metadata": {
    "execution": {
     "iopub.execute_input": "2025-03-11T18:23:56.068945Z",
     "iopub.status.busy": "2025-03-11T18:23:56.068718Z",
     "iopub.status.idle": "2025-03-11T18:23:56.087230Z",
     "shell.execute_reply": "2025-03-11T18:23:56.086616Z",
     "shell.execute_reply.started": "2025-03-11T18:23:56.068926Z"
    },
    "trusted": true
   },
   "outputs": [
    {
     "data": {
      "text/plain": [
       "Dataset({\n",
       "    features: ['premise', 'hypothesis', 'type', 'label'],\n",
       "    num_rows: 21\n",
       "})"
      ]
     },
     "execution_count": 26,
     "metadata": {},
     "output_type": "execute_result"
    }
   ],
   "source": [
    "hard_test_ds = Dataset.from_pandas(hard_tests_df)\n",
    "hard_test_ds"
   ]
  },
  {
   "cell_type": "markdown",
   "metadata": {},
   "source": [
    "# Models"
   ]
  },
  {
   "cell_type": "code",
   "execution_count": 27,
   "metadata": {
    "execution": {
     "iopub.execute_input": "2025-03-11T18:23:56.090601Z",
     "iopub.status.busy": "2025-03-11T18:23:56.090389Z",
     "iopub.status.idle": "2025-03-11T18:23:56.100977Z",
     "shell.execute_reply": "2025-03-11T18:23:56.100229Z",
     "shell.execute_reply.started": "2025-03-11T18:23:56.090575Z"
    },
    "trusted": true
   },
   "outputs": [],
   "source": [
    "def preprocess_function(examples,tokenizer):\n",
    "    try: \n",
    "        return tokenizer(examples[\"premise\"], examples['hypothesis'], padding=\"max_length\", truncation=True)\n",
    "    except TypeError as e:\n",
    "        print(f\"Error processing examples: {examples['premise']}\")\n",
    "        raise e"
   ]
  },
  {
   "cell_type": "code",
   "execution_count": 28,
   "metadata": {
    "execution": {
     "iopub.execute_input": "2025-03-11T18:23:56.102238Z",
     "iopub.status.busy": "2025-03-11T18:23:56.101931Z",
     "iopub.status.idle": "2025-03-11T18:23:56.115807Z",
     "shell.execute_reply": "2025-03-11T18:23:56.115070Z",
     "shell.execute_reply.started": "2025-03-11T18:23:56.102208Z"
    },
    "trusted": true
   },
   "outputs": [],
   "source": [
    "def compute_metrics(eval_pred):\n",
    "    logits, labels = eval_pred\n",
    "    predictions = np.argmax(logits, axis=-1)\n",
    "    acc = np.mean(predictions == labels)\n",
    "    precision = precision_score(labels, predictions, average='weighted')\n",
    "    recall = recall_score(labels, predictions, average='weighted')\n",
    "    f1 = f1_score(labels, predictions, average='weighted')\n",
    "    gmean = geometric_mean_score(labels, predictions, average='weighted')\n",
    "    return {'accuracy': acc, 'precision': precision, 'recall': recall, 'f1_score': f1, 'gmean': gmean}"
   ]
  },
  {
   "cell_type": "code",
   "execution_count": 29,
   "metadata": {
    "execution": {
     "iopub.execute_input": "2025-03-11T18:23:56.116885Z",
     "iopub.status.busy": "2025-03-11T18:23:56.116615Z",
     "iopub.status.idle": "2025-03-11T18:23:56.129934Z",
     "shell.execute_reply": "2025-03-11T18:23:56.129314Z",
     "shell.execute_reply.started": "2025-03-11T18:23:56.116857Z"
    },
    "trusted": true
   },
   "outputs": [],
   "source": [
    "def compute_metrics_by_type(group):\n",
    "    predictions = group['expected_label']\n",
    "    labels = group['predicted_label']\n",
    "    acc = np.mean(predictions == labels)\n",
    "    precision = precision_score(labels, predictions,average=\"weighted\")\n",
    "    recall = recall_score(labels, predictions,average=\"weighted\")\n",
    "    f1 = f1_score(labels, predictions,average=\"weighted\")\n",
    "    return pd.Series({'accuracy': round(acc,2), 'precision': round(precision,2), 'recall': round(recall,2), 'f1_score': round(f1,2)})"
   ]
  },
  {
   "cell_type": "markdown",
   "metadata": {},
   "source": [
    "## microsoft/deberta-large-mnli"
   ]
  },
  {
   "cell_type": "code",
   "execution_count": 54,
   "metadata": {
    "execution": {
     "iopub.execute_input": "2025-03-11T18:43:58.928126Z",
     "iopub.status.busy": "2025-03-11T18:43:58.927817Z",
     "iopub.status.idle": "2025-03-11T18:44:01.556265Z",
     "shell.execute_reply": "2025-03-11T18:44:01.555288Z",
     "shell.execute_reply.started": "2025-03-11T18:43:58.928099Z"
    },
    "trusted": true
   },
   "outputs": [
    {
     "name": "stderr",
     "output_type": "stream",
     "text": [
      "Some weights of the model checkpoint at microsoft/deberta-large-mnli were not used when initializing DebertaForSequenceClassification: ['config']\n",
      "- This IS expected if you are initializing DebertaForSequenceClassification from the checkpoint of a model trained on another task or with another architecture (e.g. initializing a BertForSequenceClassification model from a BertForPreTraining model).\n",
      "- This IS NOT expected if you are initializing DebertaForSequenceClassification from the checkpoint of a model that you expect to be exactly identical (initializing a BertForSequenceClassification model from a BertForSequenceClassification model).\n"
     ]
    }
   ],
   "source": [
    "checkpoint = \"microsoft/deberta-large-mnli\"\n",
    "tokenizer = AutoTokenizer.from_pretrained(checkpoint)\n",
    "model = AutoModelForSequenceClassification.from_pretrained(checkpoint, num_labels=3)"
   ]
  },
  {
   "cell_type": "code",
   "execution_count": 55,
   "metadata": {
    "execution": {
     "iopub.execute_input": "2025-03-11T18:44:09.806284Z",
     "iopub.status.busy": "2025-03-11T18:44:09.805847Z",
     "iopub.status.idle": "2025-03-11T18:44:10.830512Z",
     "shell.execute_reply": "2025-03-11T18:44:10.829886Z",
     "shell.execute_reply.started": "2025-03-11T18:44:09.806244Z"
    },
    "trusted": true
   },
   "outputs": [
    {
     "data": {
      "application/vnd.jupyter.widget-view+json": {
       "model_id": "4b54d01c0b744809af43182145a0fb51",
       "version_major": 2,
       "version_minor": 0
      },
      "text/plain": [
       "Map:   0%|          | 0/6486 [00:00<?, ? examples/s]"
      ]
     },
     "metadata": {},
     "output_type": "display_data"
    },
    {
     "name": "stderr",
     "output_type": "stream",
     "text": [
      "Asking to pad to max_length but no maximum length is provided and the model has no predefined maximum length. Default to no padding.\n",
      "Asking to truncate to max_length but no maximum length is provided and the model has no predefined maximum length. Default to no truncation.\n"
     ]
    },
    {
     "data": {
      "application/vnd.jupyter.widget-view+json": {
       "model_id": "e48ee8fc09cf444fb261424cbf5efd65",
       "version_major": 2,
       "version_minor": 0
      },
      "text/plain": [
       "Map:   0%|          | 0/2348 [00:00<?, ? examples/s]"
      ]
     },
     "metadata": {},
     "output_type": "display_data"
    }
   ],
   "source": [
    "tokenized_train_ds = train_ds.map(lambda x: preprocess_function(x, tokenizer), batched=True)\n",
    "tokenized_val_ds = val_ds.map(lambda x: preprocess_function(x, tokenizer), batched=True)\n",
    "data_collator = DataCollatorWithPadding(tokenizer=tokenizer)"
   ]
  },
  {
   "cell_type": "code",
   "execution_count": 36,
   "metadata": {
    "execution": {
     "iopub.execute_input": "2025-02-05T18:56:32.051963Z",
     "iopub.status.busy": "2025-02-05T18:56:32.051681Z",
     "iopub.status.idle": "2025-02-05T18:56:32.057073Z",
     "shell.execute_reply": "2025-02-05T18:56:32.056235Z",
     "shell.execute_reply.started": "2025-02-05T18:56:32.051942Z"
    },
    "trusted": true
   },
   "outputs": [
    {
     "data": {
      "text/plain": [
       "6439"
      ]
     },
     "execution_count": 36,
     "metadata": {},
     "output_type": "execute_result"
    }
   ],
   "source": [
    "len(train_ds)"
   ]
  },
  {
   "cell_type": "code",
   "execution_count": 56,
   "metadata": {
    "execution": {
     "iopub.execute_input": "2025-03-11T18:44:23.177490Z",
     "iopub.status.busy": "2025-03-11T18:44:23.177198Z",
     "iopub.status.idle": "2025-03-11T18:44:23.629842Z",
     "shell.execute_reply": "2025-03-11T18:44:23.629134Z",
     "shell.execute_reply.started": "2025-03-11T18:44:23.177467Z"
    },
    "trusted": true
   },
   "outputs": [
    {
     "name": "stderr",
     "output_type": "stream",
     "text": [
      "/usr/local/lib/python3.10/dist-packages/transformers/training_args.py:1575: FutureWarning: `evaluation_strategy` is deprecated and will be removed in version 4.46 of 🤗 Transformers. Use `eval_strategy` instead\n",
      "  warnings.warn(\n",
      "<ipython-input-56-84be40e1fc9f>:15: FutureWarning: `tokenizer` is deprecated and will be removed in version 5.0.0 for `Trainer.__init__`. Use `processing_class` instead.\n",
      "  trainer = Trainer(\n"
     ]
    }
   ],
   "source": [
    "random_seed = random.randint(0, 2**32 - 1)\n",
    "training_args = TrainingArguments(\n",
    "    output_dir=\"./results\",\n",
    "    num_train_epochs=1, # Set the number of epochs to 1\n",
    "    logging_steps=100,\n",
    "    evaluation_strategy=\"steps\",\n",
    "    eval_steps=100,\n",
    "    # evaluation_strategy=\"epoch\",  # Evaluate during training\n",
    "    # evaluation_strategy=\"no\",\n",
    "    save_strategy=\"epoch\",  # Save the model at the end of each epoch\n",
    "    # load_best_model_at_end=True,  # Load the best model at the end of training\n",
    "    report_to=\"none\",\n",
    "    seed=random_seed\n",
    ")\n",
    "trainer = Trainer(\n",
    "    model,\n",
    "    args=training_args,\n",
    "    train_dataset=tokenized_train_ds,\n",
    "    eval_dataset=tokenized_val_ds,\n",
    "    compute_metrics=compute_metrics,\n",
    "    data_collator=data_collator,\n",
    "    tokenizer=tokenizer,\n",
    "    callbacks=[]\n",
    ")"
   ]
  },
  {
   "cell_type": "code",
   "execution_count": 57,
   "metadata": {
    "execution": {
     "iopub.execute_input": "2025-03-11T18:44:39.811103Z",
     "iopub.status.busy": "2025-03-11T18:44:39.810795Z",
     "iopub.status.idle": "2025-03-11T18:52:18.629719Z",
     "shell.execute_reply": "2025-03-11T18:52:18.628929Z",
     "shell.execute_reply.started": "2025-03-11T18:44:39.811080Z"
    },
    "trusted": true
   },
   "outputs": [
    {
     "name": "stderr",
     "output_type": "stream",
     "text": [
      "/usr/local/lib/python3.10/dist-packages/torch/nn/parallel/_functions.py:71: UserWarning: Was asked to gather along dimension 0, but all input tensors were scalars; will instead unsqueeze and return a vector.\n",
      "  warnings.warn(\n"
     ]
    },
    {
     "data": {
      "text/html": [
       "\n",
       "    <div>\n",
       "      \n",
       "      <progress value='406' max='406' style='width:300px; height:20px; vertical-align: middle;'></progress>\n",
       "      [406/406 07:29, Epoch 1/1]\n",
       "    </div>\n",
       "    <table border=\"1\" class=\"dataframe\">\n",
       "  <thead>\n",
       " <tr style=\"text-align: left;\">\n",
       "      <th>Step</th>\n",
       "      <th>Training Loss</th>\n",
       "      <th>Validation Loss</th>\n",
       "      <th>Accuracy</th>\n",
       "      <th>Precision</th>\n",
       "      <th>Recall</th>\n",
       "      <th>F1 Score</th>\n",
       "      <th>Gmean</th>\n",
       "    </tr>\n",
       "  </thead>\n",
       "  <tbody>\n",
       "    <tr>\n",
       "      <td>100</td>\n",
       "      <td>0.148800</td>\n",
       "      <td>0.297744</td>\n",
       "      <td>0.951022</td>\n",
       "      <td>0.953616</td>\n",
       "      <td>0.951022</td>\n",
       "      <td>0.950511</td>\n",
       "      <td>0.963551</td>\n",
       "    </tr>\n",
       "    <tr>\n",
       "      <td>200</td>\n",
       "      <td>0.038700</td>\n",
       "      <td>0.375154</td>\n",
       "      <td>0.947615</td>\n",
       "      <td>0.948424</td>\n",
       "      <td>0.947615</td>\n",
       "      <td>0.947423</td>\n",
       "      <td>0.960593</td>\n",
       "    </tr>\n",
       "    <tr>\n",
       "      <td>300</td>\n",
       "      <td>0.034600</td>\n",
       "      <td>0.170836</td>\n",
       "      <td>0.964651</td>\n",
       "      <td>0.966520</td>\n",
       "      <td>0.964651</td>\n",
       "      <td>0.964393</td>\n",
       "      <td>0.973702</td>\n",
       "    </tr>\n",
       "    <tr>\n",
       "      <td>400</td>\n",
       "      <td>0.016600</td>\n",
       "      <td>0.200166</td>\n",
       "      <td>0.967632</td>\n",
       "      <td>0.967818</td>\n",
       "      <td>0.967632</td>\n",
       "      <td>0.967557</td>\n",
       "      <td>0.975681</td>\n",
       "    </tr>\n",
       "  </tbody>\n",
       "</table><p>"
      ],
      "text/plain": [
       "<IPython.core.display.HTML object>"
      ]
     },
     "metadata": {},
     "output_type": "display_data"
    },
    {
     "name": "stderr",
     "output_type": "stream",
     "text": [
      "/usr/local/lib/python3.10/dist-packages/torch/nn/parallel/_functions.py:71: UserWarning: Was asked to gather along dimension 0, but all input tensors were scalars; will instead unsqueeze and return a vector.\n",
      "  warnings.warn(\n",
      "/usr/local/lib/python3.10/dist-packages/torch/nn/parallel/_functions.py:71: UserWarning: Was asked to gather along dimension 0, but all input tensors were scalars; will instead unsqueeze and return a vector.\n",
      "  warnings.warn(\n",
      "/usr/local/lib/python3.10/dist-packages/torch/nn/parallel/_functions.py:71: UserWarning: Was asked to gather along dimension 0, but all input tensors were scalars; will instead unsqueeze and return a vector.\n",
      "  warnings.warn(\n",
      "/usr/local/lib/python3.10/dist-packages/torch/nn/parallel/_functions.py:71: UserWarning: Was asked to gather along dimension 0, but all input tensors were scalars; will instead unsqueeze and return a vector.\n",
      "  warnings.warn(\n"
     ]
    }
   ],
   "source": [
    "trainer.train() \n",
    "trainer.save_model(\"deberta\")"
   ]
  },
  {
   "cell_type": "code",
   "execution_count": 35,
   "metadata": {
    "execution": {
     "iopub.execute_input": "2025-03-11T18:26:35.849120Z",
     "iopub.status.busy": "2025-03-11T18:26:35.848838Z",
     "iopub.status.idle": "2025-03-11T18:34:09.112885Z",
     "shell.execute_reply": "2025-03-11T18:34:09.111910Z",
     "shell.execute_reply.started": "2025-03-11T18:26:35.849098Z"
    },
    "trusted": true
   },
   "outputs": [
    {
     "name": "stderr",
     "output_type": "stream",
     "text": [
      "/usr/local/lib/python3.10/dist-packages/torch/nn/parallel/_functions.py:71: UserWarning: Was asked to gather along dimension 0, but all input tensors were scalars; will instead unsqueeze and return a vector.\n",
      "  warnings.warn(\n"
     ]
    },
    {
     "data": {
      "text/html": [
       "\n",
       "    <div>\n",
       "      \n",
       "      <progress value='406' max='406' style='width:300px; height:20px; vertical-align: middle;'></progress>\n",
       "      [406/406 07:24, Epoch 1/1]\n",
       "    </div>\n",
       "    <table border=\"1\" class=\"dataframe\">\n",
       "  <thead>\n",
       " <tr style=\"text-align: left;\">\n",
       "      <th>Step</th>\n",
       "      <th>Training Loss</th>\n",
       "      <th>Validation Loss</th>\n",
       "      <th>Accuracy</th>\n",
       "      <th>Precision</th>\n",
       "      <th>Recall</th>\n",
       "      <th>F1 Score</th>\n",
       "      <th>Gmean</th>\n",
       "    </tr>\n",
       "  </thead>\n",
       "  <tbody>\n",
       "    <tr>\n",
       "      <td>100</td>\n",
       "      <td>0.104400</td>\n",
       "      <td>0.302638</td>\n",
       "      <td>0.957411</td>\n",
       "      <td>0.958047</td>\n",
       "      <td>0.957411</td>\n",
       "      <td>0.957222</td>\n",
       "      <td>0.968044</td>\n",
       "    </tr>\n",
       "    <tr>\n",
       "      <td>200</td>\n",
       "      <td>0.090200</td>\n",
       "      <td>0.245838</td>\n",
       "      <td>0.962095</td>\n",
       "      <td>0.964452</td>\n",
       "      <td>0.962095</td>\n",
       "      <td>0.962055</td>\n",
       "      <td>0.971766</td>\n",
       "    </tr>\n",
       "    <tr>\n",
       "      <td>300</td>\n",
       "      <td>0.021600</td>\n",
       "      <td>0.160739</td>\n",
       "      <td>0.964651</td>\n",
       "      <td>0.966573</td>\n",
       "      <td>0.964651</td>\n",
       "      <td>0.964203</td>\n",
       "      <td>0.973741</td>\n",
       "    </tr>\n",
       "    <tr>\n",
       "      <td>400</td>\n",
       "      <td>0.017100</td>\n",
       "      <td>0.148577</td>\n",
       "      <td>0.973169</td>\n",
       "      <td>0.973889</td>\n",
       "      <td>0.973169</td>\n",
       "      <td>0.973002</td>\n",
       "      <td>0.980016</td>\n",
       "    </tr>\n",
       "  </tbody>\n",
       "</table><p>"
      ],
      "text/plain": [
       "<IPython.core.display.HTML object>"
      ]
     },
     "metadata": {},
     "output_type": "display_data"
    },
    {
     "name": "stderr",
     "output_type": "stream",
     "text": [
      "/usr/local/lib/python3.10/dist-packages/torch/nn/parallel/_functions.py:71: UserWarning: Was asked to gather along dimension 0, but all input tensors were scalars; will instead unsqueeze and return a vector.\n",
      "  warnings.warn(\n",
      "/usr/local/lib/python3.10/dist-packages/torch/nn/parallel/_functions.py:71: UserWarning: Was asked to gather along dimension 0, but all input tensors were scalars; will instead unsqueeze and return a vector.\n",
      "  warnings.warn(\n",
      "/usr/local/lib/python3.10/dist-packages/torch/nn/parallel/_functions.py:71: UserWarning: Was asked to gather along dimension 0, but all input tensors were scalars; will instead unsqueeze and return a vector.\n",
      "  warnings.warn(\n",
      "/usr/local/lib/python3.10/dist-packages/torch/nn/parallel/_functions.py:71: UserWarning: Was asked to gather along dimension 0, but all input tensors were scalars; will instead unsqueeze and return a vector.\n",
      "  warnings.warn(\n"
     ]
    }
   ],
   "source": [
    "trainer.train() \n",
    "trainer.save_model(\"deberta\")"
   ]
  },
  {
   "cell_type": "code",
   "execution_count": 58,
   "metadata": {
    "execution": {
     "iopub.execute_input": "2025-03-11T01:46:29.244673Z",
     "iopub.status.busy": "2025-03-11T01:46:29.244320Z",
     "iopub.status.idle": "2025-03-11T01:53:46.361583Z",
     "shell.execute_reply": "2025-03-11T01:53:46.360613Z",
     "shell.execute_reply.started": "2025-03-11T01:46:29.244642Z"
    },
    "trusted": true
   },
   "outputs": [
    {
     "name": "stderr",
     "output_type": "stream",
     "text": [
      "/usr/local/lib/python3.10/dist-packages/torch/nn/parallel/_functions.py:71: UserWarning: Was asked to gather along dimension 0, but all input tensors were scalars; will instead unsqueeze and return a vector.\n",
      "  warnings.warn(\n"
     ]
    },
    {
     "data": {
      "text/html": [
       "\n",
       "    <div>\n",
       "      \n",
       "      <progress value='406' max='406' style='width:300px; height:20px; vertical-align: middle;'></progress>\n",
       "      [406/406 07:08, Epoch 1/1]\n",
       "    </div>\n",
       "    <table border=\"1\" class=\"dataframe\">\n",
       "  <thead>\n",
       " <tr style=\"text-align: left;\">\n",
       "      <th>Step</th>\n",
       "      <th>Training Loss</th>\n",
       "      <th>Validation Loss</th>\n",
       "      <th>Accuracy</th>\n",
       "      <th>Precision</th>\n",
       "      <th>Recall</th>\n",
       "      <th>F1 Score</th>\n",
       "      <th>Gmean</th>\n",
       "    </tr>\n",
       "  </thead>\n",
       "  <tbody>\n",
       "    <tr>\n",
       "      <td>100</td>\n",
       "      <td>0.116900</td>\n",
       "      <td>0.245718</td>\n",
       "      <td>0.957411</td>\n",
       "      <td>0.960145</td>\n",
       "      <td>0.957411</td>\n",
       "      <td>0.957435</td>\n",
       "      <td>0.968317</td>\n",
       "    </tr>\n",
       "    <tr>\n",
       "      <td>200</td>\n",
       "      <td>0.035300</td>\n",
       "      <td>0.315692</td>\n",
       "      <td>0.955281</td>\n",
       "      <td>0.957353</td>\n",
       "      <td>0.955281</td>\n",
       "      <td>0.955262</td>\n",
       "      <td>0.966552</td>\n",
       "    </tr>\n",
       "    <tr>\n",
       "      <td>300</td>\n",
       "      <td>0.015100</td>\n",
       "      <td>0.231446</td>\n",
       "      <td>0.968484</td>\n",
       "      <td>0.969088</td>\n",
       "      <td>0.968484</td>\n",
       "      <td>0.968330</td>\n",
       "      <td>0.976491</td>\n",
       "    </tr>\n",
       "    <tr>\n",
       "      <td>400</td>\n",
       "      <td>0.029900</td>\n",
       "      <td>0.199945</td>\n",
       "      <td>0.974020</td>\n",
       "      <td>0.974856</td>\n",
       "      <td>0.974020</td>\n",
       "      <td>0.973899</td>\n",
       "      <td>0.980667</td>\n",
       "    </tr>\n",
       "  </tbody>\n",
       "</table><p>"
      ],
      "text/plain": [
       "<IPython.core.display.HTML object>"
      ]
     },
     "metadata": {},
     "output_type": "display_data"
    },
    {
     "name": "stderr",
     "output_type": "stream",
     "text": [
      "/usr/local/lib/python3.10/dist-packages/torch/nn/parallel/_functions.py:71: UserWarning: Was asked to gather along dimension 0, but all input tensors were scalars; will instead unsqueeze and return a vector.\n",
      "  warnings.warn(\n",
      "/usr/local/lib/python3.10/dist-packages/torch/nn/parallel/_functions.py:71: UserWarning: Was asked to gather along dimension 0, but all input tensors were scalars; will instead unsqueeze and return a vector.\n",
      "  warnings.warn(\n",
      "/usr/local/lib/python3.10/dist-packages/torch/nn/parallel/_functions.py:71: UserWarning: Was asked to gather along dimension 0, but all input tensors were scalars; will instead unsqueeze and return a vector.\n",
      "  warnings.warn(\n",
      "/usr/local/lib/python3.10/dist-packages/torch/nn/parallel/_functions.py:71: UserWarning: Was asked to gather along dimension 0, but all input tensors were scalars; will instead unsqueeze and return a vector.\n",
      "  warnings.warn(\n"
     ]
    }
   ],
   "source": [
    "trainer.train() \n",
    "trainer.save_model(\"deberta\")"
   ]
  },
  {
   "cell_type": "code",
   "execution_count": 34,
   "metadata": {
    "execution": {
     "iopub.execute_input": "2025-03-11T01:25:26.626927Z",
     "iopub.status.busy": "2025-03-11T01:25:26.626638Z",
     "iopub.status.idle": "2025-03-11T01:32:39.451763Z",
     "shell.execute_reply": "2025-03-11T01:32:39.450843Z",
     "shell.execute_reply.started": "2025-03-11T01:25:26.626903Z"
    },
    "trusted": true
   },
   "outputs": [
    {
     "name": "stderr",
     "output_type": "stream",
     "text": [
      "/usr/local/lib/python3.10/dist-packages/torch/nn/parallel/_functions.py:71: UserWarning: Was asked to gather along dimension 0, but all input tensors were scalars; will instead unsqueeze and return a vector.\n",
      "  warnings.warn(\n"
     ]
    },
    {
     "data": {
      "text/html": [
       "\n",
       "    <div>\n",
       "      \n",
       "      <progress value='406' max='406' style='width:300px; height:20px; vertical-align: middle;'></progress>\n",
       "      [406/406 07:04, Epoch 1/1]\n",
       "    </div>\n",
       "    <table border=\"1\" class=\"dataframe\">\n",
       "  <thead>\n",
       " <tr style=\"text-align: left;\">\n",
       "      <th>Step</th>\n",
       "      <th>Training Loss</th>\n",
       "      <th>Validation Loss</th>\n",
       "      <th>Accuracy</th>\n",
       "      <th>Precision</th>\n",
       "      <th>Recall</th>\n",
       "      <th>F1 Score</th>\n",
       "      <th>Gmean</th>\n",
       "    </tr>\n",
       "  </thead>\n",
       "  <tbody>\n",
       "    <tr>\n",
       "      <td>100</td>\n",
       "      <td>0.116900</td>\n",
       "      <td>0.245718</td>\n",
       "      <td>0.957411</td>\n",
       "      <td>0.960145</td>\n",
       "      <td>0.957411</td>\n",
       "      <td>0.957435</td>\n",
       "      <td>0.968317</td>\n",
       "    </tr>\n",
       "    <tr>\n",
       "      <td>200</td>\n",
       "      <td>0.035300</td>\n",
       "      <td>0.315692</td>\n",
       "      <td>0.955281</td>\n",
       "      <td>0.957353</td>\n",
       "      <td>0.955281</td>\n",
       "      <td>0.955262</td>\n",
       "      <td>0.966552</td>\n",
       "    </tr>\n",
       "    <tr>\n",
       "      <td>300</td>\n",
       "      <td>0.015100</td>\n",
       "      <td>0.231446</td>\n",
       "      <td>0.968484</td>\n",
       "      <td>0.969088</td>\n",
       "      <td>0.968484</td>\n",
       "      <td>0.968330</td>\n",
       "      <td>0.976491</td>\n",
       "    </tr>\n",
       "    <tr>\n",
       "      <td>400</td>\n",
       "      <td>0.029900</td>\n",
       "      <td>0.199945</td>\n",
       "      <td>0.974020</td>\n",
       "      <td>0.974856</td>\n",
       "      <td>0.974020</td>\n",
       "      <td>0.973899</td>\n",
       "      <td>0.980667</td>\n",
       "    </tr>\n",
       "  </tbody>\n",
       "</table><p>"
      ],
      "text/plain": [
       "<IPython.core.display.HTML object>"
      ]
     },
     "metadata": {},
     "output_type": "display_data"
    },
    {
     "name": "stderr",
     "output_type": "stream",
     "text": [
      "/usr/local/lib/python3.10/dist-packages/torch/nn/parallel/_functions.py:71: UserWarning: Was asked to gather along dimension 0, but all input tensors were scalars; will instead unsqueeze and return a vector.\n",
      "  warnings.warn(\n",
      "/usr/local/lib/python3.10/dist-packages/torch/nn/parallel/_functions.py:71: UserWarning: Was asked to gather along dimension 0, but all input tensors were scalars; will instead unsqueeze and return a vector.\n",
      "  warnings.warn(\n",
      "/usr/local/lib/python3.10/dist-packages/torch/nn/parallel/_functions.py:71: UserWarning: Was asked to gather along dimension 0, but all input tensors were scalars; will instead unsqueeze and return a vector.\n",
      "  warnings.warn(\n",
      "/usr/local/lib/python3.10/dist-packages/torch/nn/parallel/_functions.py:71: UserWarning: Was asked to gather along dimension 0, but all input tensors were scalars; will instead unsqueeze and return a vector.\n",
      "  warnings.warn(\n"
     ]
    }
   ],
   "source": [
    "trainer.train() \n",
    "trainer.save_model(\"deberta\")"
   ]
  },
  {
   "cell_type": "code",
   "execution_count": null,
   "metadata": {
    "execution": {
     "iopub.execute_input": "2025-03-11T18:35:51.307493Z",
     "iopub.status.busy": "2025-03-11T18:35:51.307103Z",
     "iopub.status.idle": "2025-03-11T18:35:51.501348Z",
     "shell.execute_reply": "2025-03-11T18:35:51.500617Z",
     "shell.execute_reply.started": "2025-03-11T18:35:51.307463Z"
    },
    "trusted": true
   },
   "outputs": [
    {
     "name": "stderr",
     "output_type": "stream",
     "text": [
      "/usr/local/lib/python3.10/dist-packages/huggingface_hub/utils/_deprecation.py:100: FutureWarning: Deprecated argument(s) used in 'login': write_permission. Will not be supported from version '1.0'.\n",
      "\n",
      "Fine-grained tokens added complexity to the permissions, making it irrelevant to check if a token has 'write' access.\n",
      "  warnings.warn(message, FutureWarning)\n",
      "Token has not been saved to git credential helper.\n"
     ]
    },
    {
     "name": "stdout",
     "output_type": "stream",
     "text": [
      "\u001b[1m\u001b[31mCannot authenticate through git-credential as no helper is defined on your machine.\n",
      "You might have to re-authenticate when pushing to the Hugging Face Hub.\n",
      "Run the following command in your terminal in case you want to set the 'store' credential helper as default.\n",
      "\n",
      "git config --global credential.helper store\n",
      "\n",
      "Read https://git-scm.com/book/en/v2/Git-Tools-Credential-Storage for more details.\u001b[0m\n"
     ]
    }
   ],
   "source": [
    "# uploading to HuggingFace \n",
    "from huggingface_hub import login\n",
    "\n",
    "login(new_session=False, # Won’t request token if one is already saved on machine\n",
    "write_permission=True, # Requires a token with write permission\n",
    "token=\"\", # The name of your token\n",
    "add_to_git_credential=True)"
   ]
  },
  {
   "cell_type": "code",
   "execution_count": 58,
   "metadata": {
    "execution": {
     "iopub.execute_input": "2025-03-11T18:53:14.008874Z",
     "iopub.status.busy": "2025-03-11T18:53:14.008559Z",
     "iopub.status.idle": "2025-03-11T18:54:02.856435Z",
     "shell.execute_reply": "2025-03-11T18:54:02.855704Z",
     "shell.execute_reply.started": "2025-03-11T18:53:14.008849Z"
    },
    "trusted": true
   },
   "outputs": [
    {
     "data": {
      "application/vnd.jupyter.widget-view+json": {
       "model_id": "af39f7f116b8437083b475200a6e45a9",
       "version_major": 2,
       "version_minor": 0
      },
      "text/plain": [
       "Upload 2 LFS files:   0%|          | 0/2 [00:00<?, ?it/s]"
      ]
     },
     "metadata": {},
     "output_type": "display_data"
    },
    {
     "data": {
      "application/vnd.jupyter.widget-view+json": {
       "model_id": "da2f1afa3e444d50bfdba044db9442e7",
       "version_major": 2,
       "version_minor": 0
      },
      "text/plain": [
       "training_args.bin:   0%|          | 0.00/5.30k [00:00<?, ?B/s]"
      ]
     },
     "metadata": {},
     "output_type": "display_data"
    },
    {
     "data": {
      "application/vnd.jupyter.widget-view+json": {
       "model_id": "55981a8805444f5ea336ce2254b8f36b",
       "version_major": 2,
       "version_minor": 0
      },
      "text/plain": [
       "model.safetensors:   0%|          | 0.00/1.62G [00:00<?, ?B/s]"
      ]
     },
     "metadata": {},
     "output_type": "display_data"
    },
    {
     "data": {
      "text/plain": [
       "CommitInfo(commit_url='https://huggingface.co/ConditionalNLI/Exp5_deberta-large-mnli-new/commit/4cc64a310e5bdae4d1c83c1d8b4b6e9d4956d0fe', commit_message='Run 3', commit_description='', oid='4cc64a310e5bdae4d1c83c1d8b4b6e9d4956d0fe', pr_url=None, repo_url=RepoUrl('https://huggingface.co/ConditionalNLI/Exp5_deberta-large-mnli-new', endpoint='https://huggingface.co', repo_type='model', repo_id='ConditionalNLI/Exp5_deberta-large-mnli-new'), pr_revision=None, pr_num=None)"
      ]
     },
     "execution_count": 58,
     "metadata": {},
     "output_type": "execute_result"
    }
   ],
   "source": [
    "from huggingface_hub import HfApi\n",
    "api = HfApi()\n",
    "\n",
    "# Upload all the content from the local folder to your remote Space.\n",
    "# By default, files are uploaded at the root of the repo\n",
    "api.upload_folder(\n",
    "    folder_path='/kaggle/working/deberta',\n",
    "    repo_id=\"ConditionalNLI/Exp5_deberta-large-mnli-new\",\n",
    "    commit_message=\"Run 3\"\n",
    ")"
   ]
  },
  {
   "cell_type": "markdown",
   "metadata": {},
   "source": [
    "### Inferencing"
   ]
  },
  {
   "cell_type": "code",
   "execution_count": 40,
   "metadata": {
    "execution": {
     "iopub.execute_input": "2025-03-11T18:37:53.646119Z",
     "iopub.status.busy": "2025-03-11T18:37:53.645810Z",
     "iopub.status.idle": "2025-03-11T18:37:53.794465Z",
     "shell.execute_reply": "2025-03-11T18:37:53.793821Z",
     "shell.execute_reply.started": "2025-03-11T18:37:53.646092Z"
    },
    "trusted": true
   },
   "outputs": [],
   "source": [
    "from transformers import pipeline\n",
    "from datasets import load_dataset, Dataset\n",
    "from transformers.pipelines.pt_utils import KeyDataset, KeyPairDataset\n",
    "import torch"
   ]
  },
  {
   "cell_type": "code",
   "execution_count": 41,
   "metadata": {
    "execution": {
     "iopub.execute_input": "2025-03-11T18:37:57.941691Z",
     "iopub.status.busy": "2025-03-11T18:37:57.941389Z",
     "iopub.status.idle": "2025-03-11T18:37:57.946628Z",
     "shell.execute_reply": "2025-03-11T18:37:57.945676Z",
     "shell.execute_reply.started": "2025-03-11T18:37:57.941667Z"
    },
    "trusted": true
   },
   "outputs": [
    {
     "name": "stdout",
     "output_type": "stream",
     "text": [
      "GPU is available!\n"
     ]
    }
   ],
   "source": [
    "if torch.cuda.is_available():\n",
    "    print(\"GPU is available!\")\n",
    "    device = torch.device(\"cuda\")\n",
    "else:\n",
    "    print(\"GPU is not available, using CPU\")\n",
    "    device = torch.device(\"cpu\")"
   ]
  },
  {
   "cell_type": "code",
   "execution_count": 59,
   "metadata": {
    "execution": {
     "iopub.execute_input": "2025-03-11T18:54:18.127040Z",
     "iopub.status.busy": "2025-03-11T18:54:18.126747Z",
     "iopub.status.idle": "2025-03-11T18:54:39.622668Z",
     "shell.execute_reply": "2025-03-11T18:54:39.621927Z",
     "shell.execute_reply.started": "2025-03-11T18:54:18.127017Z"
    },
    "trusted": true
   },
   "outputs": [
    {
     "data": {
      "application/vnd.jupyter.widget-view+json": {
       "model_id": "7bf10a10cead4b63b6b6bdc2a1a8d9b2",
       "version_major": 2,
       "version_minor": 0
      },
      "text/plain": [
       "model.safetensors:   0%|          | 0.00/1.62G [00:00<?, ?B/s]"
      ]
     },
     "metadata": {},
     "output_type": "display_data"
    }
   ],
   "source": [
    "# loading model\n",
    "model = AutoModelForSequenceClassification.from_pretrained('ConditionalNLI/Exp5_deberta-large-mnli-new',num_labels=3).to(device)"
   ]
  },
  {
   "cell_type": "code",
   "execution_count": 60,
   "metadata": {
    "execution": {
     "iopub.execute_input": "2025-03-11T18:54:46.848024Z",
     "iopub.status.busy": "2025-03-11T18:54:46.847729Z",
     "iopub.status.idle": "2025-03-11T18:54:47.097831Z",
     "shell.execute_reply": "2025-03-11T18:54:47.096896Z",
     "shell.execute_reply.started": "2025-03-11T18:54:46.848000Z"
    },
    "trusted": true
   },
   "outputs": [],
   "source": [
    "tokenizer = AutoTokenizer.from_pretrained('ConditionalNLI/Exp5_deberta-large-mnli')"
   ]
  },
  {
   "cell_type": "code",
   "execution_count": 61,
   "metadata": {
    "execution": {
     "iopub.execute_input": "2025-03-11T18:54:50.893139Z",
     "iopub.status.busy": "2025-03-11T18:54:50.892823Z",
     "iopub.status.idle": "2025-03-11T18:54:50.915689Z",
     "shell.execute_reply": "2025-03-11T18:54:50.915013Z",
     "shell.execute_reply.started": "2025-03-11T18:54:50.893110Z"
    },
    "trusted": true
   },
   "outputs": [
    {
     "name": "stderr",
     "output_type": "stream",
     "text": [
      "Device set to use cuda\n"
     ]
    }
   ],
   "source": [
    "gen = pipeline('text-classification', model=model, tokenizer=tokenizer, device=device)"
   ]
  },
  {
   "cell_type": "code",
   "execution_count": 43,
   "metadata": {
    "execution": {
     "iopub.execute_input": "2025-03-11T01:37:26.167600Z",
     "iopub.status.busy": "2025-03-11T01:37:26.167303Z",
     "iopub.status.idle": "2025-03-11T01:38:02.906272Z",
     "shell.execute_reply": "2025-03-11T01:38:02.905382Z",
     "shell.execute_reply.started": "2025-03-11T01:37:26.167578Z"
    },
    "trusted": true
   },
   "outputs": [
    {
     "name": "stderr",
     "output_type": "stream",
     "text": [
      "Asking to truncate to max_length but no maximum length is provided and the model has no predefined maximum length. Default to no truncation.\n"
     ]
    },
    {
     "name": "stdout",
     "output_type": "stream",
     "text": [
      "0\n",
      "100\n",
      "200\n",
      "300\n",
      "400\n",
      "500\n",
      "600\n",
      "700\n",
      "800\n",
      "900\n",
      "1000\n",
      "1100\n",
      "1200\n",
      "1300\n",
      "1400\n",
      "1500\n",
      "1600\n",
      "1700\n",
      "1800\n",
      "1900\n",
      "2000\n",
      "2100\n",
      "2200\n",
      "2300\n"
     ]
    },
    {
     "data": {
      "text/plain": [
       "2348"
      ]
     },
     "execution_count": 43,
     "metadata": {},
     "output_type": "execute_result"
    }
   ],
   "source": [
    "id_num = 0\n",
    "val_results = pd.DataFrame(columns = ['id', 'premise', 'hypothesis', 'expected_label', 'predicted_label'])\n",
    "\n",
    "for predicted in gen(KeyPairDataset(val_ds,'premise', 'hypothesis'), batch_size=8, truncation=True):\n",
    "    if id_num % 100 == 0:\n",
    "        print(id_num)\n",
    "    val_results.loc[id_num] = [str(id_num), val_ds['premise'][id_num], val_ds['hypothesis'][id_num], val_ds['label'][id_num], predicted['label']]\n",
    "    id_num += 1\n",
    "\n",
    "len(val_results)"
   ]
  },
  {
   "cell_type": "code",
   "execution_count": 44,
   "metadata": {
    "execution": {
     "iopub.execute_input": "2025-03-11T01:38:18.511717Z",
     "iopub.status.busy": "2025-03-11T01:38:18.511393Z",
     "iopub.status.idle": "2025-03-11T01:38:18.518943Z",
     "shell.execute_reply": "2025-03-11T01:38:18.517437Z",
     "shell.execute_reply.started": "2025-03-11T01:38:18.511692Z"
    },
    "trusted": true
   },
   "outputs": [],
   "source": [
    "val_results['expected_label'] = val_results['expected_label'].map({0:'CONTRADICTION', 1:'NEUTRAL', 2:'ENTAILMENT'})"
   ]
  },
  {
   "cell_type": "code",
   "execution_count": 45,
   "metadata": {
    "execution": {
     "iopub.execute_input": "2025-03-11T01:38:22.678157Z",
     "iopub.status.busy": "2025-03-11T01:38:22.677863Z",
     "iopub.status.idle": "2025-03-11T01:38:22.688654Z",
     "shell.execute_reply": "2025-03-11T01:38:22.687815Z",
     "shell.execute_reply.started": "2025-03-11T01:38:22.678133Z"
    },
    "trusted": true
   },
   "outputs": [
    {
     "data": {
      "text/html": [
       "<div>\n",
       "<style scoped>\n",
       "    .dataframe tbody tr th:only-of-type {\n",
       "        vertical-align: middle;\n",
       "    }\n",
       "\n",
       "    .dataframe tbody tr th {\n",
       "        vertical-align: top;\n",
       "    }\n",
       "\n",
       "    .dataframe thead th {\n",
       "        text-align: right;\n",
       "    }\n",
       "</style>\n",
       "<table border=\"1\" class=\"dataframe\">\n",
       "  <thead>\n",
       "    <tr style=\"text-align: right;\">\n",
       "      <th></th>\n",
       "      <th>id</th>\n",
       "      <th>premise</th>\n",
       "      <th>hypothesis</th>\n",
       "      <th>expected_label</th>\n",
       "      <th>predicted_label</th>\n",
       "    </tr>\n",
       "  </thead>\n",
       "  <tbody>\n",
       "    <tr>\n",
       "      <th>0</th>\n",
       "      <td>0</td>\n",
       "      <td>If Jessica attends the conference, her colleague will meet her at the hotel.</td>\n",
       "      <td>Jessica has a colleague.</td>\n",
       "      <td>ENTAILMENT</td>\n",
       "      <td>ENTAILMENT</td>\n",
       "    </tr>\n",
       "    <tr>\n",
       "      <th>1</th>\n",
       "      <td>1</td>\n",
       "      <td>It's not the case that if Jessica attends the conference, her colleague will meet her at the hotel.</td>\n",
       "      <td>Jessica has a colleague.</td>\n",
       "      <td>ENTAILMENT</td>\n",
       "      <td>ENTAILMENT</td>\n",
       "    </tr>\n",
       "    <tr>\n",
       "      <th>2</th>\n",
       "      <td>2</td>\n",
       "      <td>Sam believes that if Jessica attends the conference, her colleague will meet her at the hotel.</td>\n",
       "      <td>Jessica has a colleague.</td>\n",
       "      <td>ENTAILMENT</td>\n",
       "      <td>ENTAILMENT</td>\n",
       "    </tr>\n",
       "    <tr>\n",
       "      <th>3</th>\n",
       "      <td>3</td>\n",
       "      <td>Is it true that if Jessica attends the conference, her colleague will meet her at the hotel?</td>\n",
       "      <td>Jessica has a colleague.</td>\n",
       "      <td>ENTAILMENT</td>\n",
       "      <td>ENTAILMENT</td>\n",
       "    </tr>\n",
       "    <tr>\n",
       "      <th>4</th>\n",
       "      <td>4</td>\n",
       "      <td>If Mia's car breaks down, her coworker will give her a ride to the office.</td>\n",
       "      <td>Mia has a coworker.</td>\n",
       "      <td>ENTAILMENT</td>\n",
       "      <td>ENTAILMENT</td>\n",
       "    </tr>\n",
       "    <tr>\n",
       "      <th>...</th>\n",
       "      <td>...</td>\n",
       "      <td>...</td>\n",
       "      <td>...</td>\n",
       "      <td>...</td>\n",
       "      <td>...</td>\n",
       "    </tr>\n",
       "    <tr>\n",
       "      <th>2343</th>\n",
       "      <td>2343</td>\n",
       "      <td>If Margaret graduates from college, her parents will throw her a big celebration party.</td>\n",
       "      <td>Margaret has siblings.</td>\n",
       "      <td>NEUTRAL</td>\n",
       "      <td>NEUTRAL</td>\n",
       "    </tr>\n",
       "    <tr>\n",
       "      <th>2344</th>\n",
       "      <td>2344</td>\n",
       "      <td>It's not the case that if Margaret graduates from college, her parents will throw her a big celebration party.</td>\n",
       "      <td>Margaret has siblings.</td>\n",
       "      <td>NEUTRAL</td>\n",
       "      <td>NEUTRAL</td>\n",
       "    </tr>\n",
       "    <tr>\n",
       "      <th>2345</th>\n",
       "      <td>2345</td>\n",
       "      <td>Sam believes that if Margaret graduates from college, her parents will throw her a big celebration party.</td>\n",
       "      <td>Margaret has siblings.</td>\n",
       "      <td>NEUTRAL</td>\n",
       "      <td>NEUTRAL</td>\n",
       "    </tr>\n",
       "    <tr>\n",
       "      <th>2346</th>\n",
       "      <td>2346</td>\n",
       "      <td>Is it true that if Margaret graduates from college, her parents will throw her a big celebration party?</td>\n",
       "      <td>Margaret has siblings.</td>\n",
       "      <td>NEUTRAL</td>\n",
       "      <td>NEUTRAL</td>\n",
       "    </tr>\n",
       "    <tr>\n",
       "      <th>2347</th>\n",
       "      <td>2347</td>\n",
       "      <td>If Margaret graduates from college, her parents will throw her a big celebration party.</td>\n",
       "      <td>Margaret has graduated from college, but her parents did not throw her a big celebration party..</td>\n",
       "      <td>CONTRADICTION</td>\n",
       "      <td>CONTRADICTION</td>\n",
       "    </tr>\n",
       "  </tbody>\n",
       "</table>\n",
       "<p>2348 rows × 5 columns</p>\n",
       "</div>"
      ],
      "text/plain": [
       "        id  \\\n",
       "0        0   \n",
       "1        1   \n",
       "2        2   \n",
       "3        3   \n",
       "4        4   \n",
       "...    ...   \n",
       "2343  2343   \n",
       "2344  2344   \n",
       "2345  2345   \n",
       "2346  2346   \n",
       "2347  2347   \n",
       "\n",
       "                                                                                                             premise  \\\n",
       "0                                       If Jessica attends the conference, her colleague will meet her at the hotel.   \n",
       "1                It's not the case that if Jessica attends the conference, her colleague will meet her at the hotel.   \n",
       "2                     Sam believes that if Jessica attends the conference, her colleague will meet her at the hotel.   \n",
       "3                       Is it true that if Jessica attends the conference, her colleague will meet her at the hotel?   \n",
       "4                                         If Mia's car breaks down, her coworker will give her a ride to the office.   \n",
       "...                                                                                                              ...   \n",
       "2343                         If Margaret graduates from college, her parents will throw her a big celebration party.   \n",
       "2344  It's not the case that if Margaret graduates from college, her parents will throw her a big celebration party.   \n",
       "2345       Sam believes that if Margaret graduates from college, her parents will throw her a big celebration party.   \n",
       "2346         Is it true that if Margaret graduates from college, her parents will throw her a big celebration party?   \n",
       "2347                         If Margaret graduates from college, her parents will throw her a big celebration party.   \n",
       "\n",
       "                                                                                            hypothesis  \\\n",
       "0                                                                             Jessica has a colleague.   \n",
       "1                                                                             Jessica has a colleague.   \n",
       "2                                                                             Jessica has a colleague.   \n",
       "3                                                                             Jessica has a colleague.   \n",
       "4                                                                                  Mia has a coworker.   \n",
       "...                                                                                                ...   \n",
       "2343                                                                            Margaret has siblings.   \n",
       "2344                                                                            Margaret has siblings.   \n",
       "2345                                                                            Margaret has siblings.   \n",
       "2346                                                                            Margaret has siblings.   \n",
       "2347  Margaret has graduated from college, but her parents did not throw her a big celebration party..   \n",
       "\n",
       "     expected_label predicted_label  \n",
       "0        ENTAILMENT      ENTAILMENT  \n",
       "1        ENTAILMENT      ENTAILMENT  \n",
       "2        ENTAILMENT      ENTAILMENT  \n",
       "3        ENTAILMENT      ENTAILMENT  \n",
       "4        ENTAILMENT      ENTAILMENT  \n",
       "...             ...             ...  \n",
       "2343        NEUTRAL         NEUTRAL  \n",
       "2344        NEUTRAL         NEUTRAL  \n",
       "2345        NEUTRAL         NEUTRAL  \n",
       "2346        NEUTRAL         NEUTRAL  \n",
       "2347  CONTRADICTION   CONTRADICTION  \n",
       "\n",
       "[2348 rows x 5 columns]"
      ]
     },
     "execution_count": 45,
     "metadata": {},
     "output_type": "execute_result"
    }
   ],
   "source": [
    "val_results"
   ]
  },
  {
   "cell_type": "code",
   "execution_count": 48,
   "metadata": {
    "execution": {
     "iopub.execute_input": "2025-03-11T18:40:04.555190Z",
     "iopub.status.busy": "2025-03-11T18:40:04.554884Z",
     "iopub.status.idle": "2025-03-11T18:40:04.755151Z",
     "shell.execute_reply": "2025-03-11T18:40:04.754461Z",
     "shell.execute_reply.started": "2025-03-11T18:40:04.555146Z"
    },
    "trusted": true
   },
   "outputs": [],
   "source": [
    "from sklearn.metrics import confusion_matrix, classification_report\n",
    "import seaborn as sns\n",
    "import matplotlib.pyplot as plt"
   ]
  },
  {
   "cell_type": "code",
   "execution_count": 48,
   "metadata": {
    "execution": {
     "iopub.execute_input": "2025-03-11T01:40:58.182415Z",
     "iopub.status.busy": "2025-03-11T01:40:58.181765Z",
     "iopub.status.idle": "2025-03-11T01:40:58.481165Z",
     "shell.execute_reply": "2025-03-11T01:40:58.480376Z",
     "shell.execute_reply.started": "2025-03-11T01:40:58.182381Z"
    },
    "trusted": true
   },
   "outputs": [
    {
     "data": {
      "image/png": "[encoded data removed]",
      "text/plain": [
       "<Figure size 800x600 with 2 Axes>"
      ]
     },
     "metadata": {},
     "output_type": "display_data"
    }
   ],
   "source": [
    "# Create the validation confusion matrix\n",
    "cm = confusion_matrix(val_results['expected_label'], val_results['predicted_label'],labels=[\"ENTAILMENT\",\"NEUTRAL\",\"CONTRADICTION\"])\n",
    "\n",
    "# Visualize the confusion matrix\n",
    "plt.figure(figsize=(8, 6))\n",
    "sns.heatmap(cm, annot=True, fmt=\"d\",cmap=\"Blues\")\n",
    "plt.xlabel(\"Predicted Label\")\n",
    "plt.ylabel(\"True Label\")\n",
    "plt.title(\"Confusion Matrix\")\n",
    "plt.show()"
   ]
  },
  {
   "cell_type": "code",
   "execution_count": 49,
   "metadata": {
    "execution": {
     "iopub.execute_input": "2025-03-11T01:41:15.353847Z",
     "iopub.status.busy": "2025-03-11T01:41:15.353547Z",
     "iopub.status.idle": "2025-03-11T01:41:15.366595Z",
     "shell.execute_reply": "2025-03-11T01:41:15.365842Z",
     "shell.execute_reply.started": "2025-03-11T01:41:15.353823Z"
    },
    "trusted": true
   },
   "outputs": [
    {
     "data": {
      "text/html": [
       "<div>\n",
       "<style scoped>\n",
       "    .dataframe tbody tr th:only-of-type {\n",
       "        vertical-align: middle;\n",
       "    }\n",
       "\n",
       "    .dataframe tbody tr th {\n",
       "        vertical-align: top;\n",
       "    }\n",
       "\n",
       "    .dataframe thead th {\n",
       "        text-align: right;\n",
       "    }\n",
       "</style>\n",
       "<table border=\"1\" class=\"dataframe\">\n",
       "  <thead>\n",
       "    <tr style=\"text-align: right;\">\n",
       "      <th></th>\n",
       "      <th>id</th>\n",
       "      <th>premise</th>\n",
       "      <th>hypothesis</th>\n",
       "      <th>expected_label</th>\n",
       "      <th>predicted_label</th>\n",
       "    </tr>\n",
       "  </thead>\n",
       "  <tbody>\n",
       "    <tr>\n",
       "      <th>2188</th>\n",
       "      <td>2188</td>\n",
       "      <td>If the president has a talented brother, he'll coach his talented brother.</td>\n",
       "      <td>The president did not coach his talented brother.</td>\n",
       "      <td>NEUTRAL</td>\n",
       "      <td>CONTRADICTION</td>\n",
       "    </tr>\n",
       "    <tr>\n",
       "      <th>2189</th>\n",
       "      <td>2189</td>\n",
       "      <td>It's not the case that if the president has a talented brother, he'll coach his talented brother.</td>\n",
       "      <td>The president did not coach his talented brother.</td>\n",
       "      <td>NEUTRAL</td>\n",
       "      <td>CONTRADICTION</td>\n",
       "    </tr>\n",
       "    <tr>\n",
       "      <th>2190</th>\n",
       "      <td>2190</td>\n",
       "      <td>Sam believes that if the president has a talented brother, he'll coach his talented brother.</td>\n",
       "      <td>The president did not coach his talented brother.</td>\n",
       "      <td>NEUTRAL</td>\n",
       "      <td>CONTRADICTION</td>\n",
       "    </tr>\n",
       "    <tr>\n",
       "      <th>2191</th>\n",
       "      <td>2191</td>\n",
       "      <td>Is it true that if the president has a talented brother, he'll coach his talented brother?</td>\n",
       "      <td>The president did not coach his talented brother.</td>\n",
       "      <td>NEUTRAL</td>\n",
       "      <td>CONTRADICTION</td>\n",
       "    </tr>\n",
       "    <tr>\n",
       "      <th>2192</th>\n",
       "      <td>2192</td>\n",
       "      <td>If the president has a talented brother, he'll coach his talented brother.</td>\n",
       "      <td>The president does coach his talented brother.</td>\n",
       "      <td>CONTRADICTION</td>\n",
       "      <td>ENTAILMENT</td>\n",
       "    </tr>\n",
       "    <tr>\n",
       "      <th>...</th>\n",
       "      <td>...</td>\n",
       "      <td>...</td>\n",
       "      <td>...</td>\n",
       "      <td>...</td>\n",
       "      <td>...</td>\n",
       "    </tr>\n",
       "    <tr>\n",
       "      <th>2336</th>\n",
       "      <td>2336</td>\n",
       "      <td>Is it true that if Mia's car breaks down, her coworker will give her a ride to the office?</td>\n",
       "      <td>Mia has a supportive coworker.</td>\n",
       "      <td>NEUTRAL</td>\n",
       "      <td>ENTAILMENT</td>\n",
       "    </tr>\n",
       "    <tr>\n",
       "      <th>2338</th>\n",
       "      <td>2338</td>\n",
       "      <td>If Scarlett finishes her exam early, her friend will take her out for lunch.</td>\n",
       "      <td>Scarlett has a generous friend.</td>\n",
       "      <td>NEUTRAL</td>\n",
       "      <td>ENTAILMENT</td>\n",
       "    </tr>\n",
       "    <tr>\n",
       "      <th>2339</th>\n",
       "      <td>2339</td>\n",
       "      <td>It's not the case that if Scarlett finishes her exam early, her friend will take her out for lunch.</td>\n",
       "      <td>Scarlett has a generous friend.</td>\n",
       "      <td>NEUTRAL</td>\n",
       "      <td>ENTAILMENT</td>\n",
       "    </tr>\n",
       "    <tr>\n",
       "      <th>2340</th>\n",
       "      <td>2340</td>\n",
       "      <td>Sam believes that if Scarlett finishes her exam early, her friend will take her out for lunch.</td>\n",
       "      <td>Scarlett has a generous friend.</td>\n",
       "      <td>NEUTRAL</td>\n",
       "      <td>ENTAILMENT</td>\n",
       "    </tr>\n",
       "    <tr>\n",
       "      <th>2341</th>\n",
       "      <td>2341</td>\n",
       "      <td>Is it true that if Scarlett finishes her exam early, her friend will take her out for lunch?</td>\n",
       "      <td>Scarlett has a generous friend.</td>\n",
       "      <td>NEUTRAL</td>\n",
       "      <td>ENTAILMENT</td>\n",
       "    </tr>\n",
       "  </tbody>\n",
       "</table>\n",
       "<p>61 rows × 5 columns</p>\n",
       "</div>"
      ],
      "text/plain": [
       "        id  \\\n",
       "2188  2188   \n",
       "2189  2189   \n",
       "2190  2190   \n",
       "2191  2191   \n",
       "2192  2192   \n",
       "...    ...   \n",
       "2336  2336   \n",
       "2338  2338   \n",
       "2339  2339   \n",
       "2340  2340   \n",
       "2341  2341   \n",
       "\n",
       "                                                                                                  premise  \\\n",
       "2188                           If the president has a talented brother, he'll coach his talented brother.   \n",
       "2189    It's not the case that if the president has a talented brother, he'll coach his talented brother.   \n",
       "2190         Sam believes that if the president has a talented brother, he'll coach his talented brother.   \n",
       "2191           Is it true that if the president has a talented brother, he'll coach his talented brother?   \n",
       "2192                           If the president has a talented brother, he'll coach his talented brother.   \n",
       "...                                                                                                   ...   \n",
       "2336           Is it true that if Mia's car breaks down, her coworker will give her a ride to the office?   \n",
       "2338                         If Scarlett finishes her exam early, her friend will take her out for lunch.   \n",
       "2339  It's not the case that if Scarlett finishes her exam early, her friend will take her out for lunch.   \n",
       "2340       Sam believes that if Scarlett finishes her exam early, her friend will take her out for lunch.   \n",
       "2341         Is it true that if Scarlett finishes her exam early, her friend will take her out for lunch?   \n",
       "\n",
       "                                             hypothesis expected_label  \\\n",
       "2188  The president did not coach his talented brother.        NEUTRAL   \n",
       "2189  The president did not coach his talented brother.        NEUTRAL   \n",
       "2190  The president did not coach his talented brother.        NEUTRAL   \n",
       "2191  The president did not coach his talented brother.        NEUTRAL   \n",
       "2192     The president does coach his talented brother.  CONTRADICTION   \n",
       "...                                                 ...            ...   \n",
       "2336                     Mia has a supportive coworker.        NEUTRAL   \n",
       "2338                    Scarlett has a generous friend.        NEUTRAL   \n",
       "2339                    Scarlett has a generous friend.        NEUTRAL   \n",
       "2340                    Scarlett has a generous friend.        NEUTRAL   \n",
       "2341                    Scarlett has a generous friend.        NEUTRAL   \n",
       "\n",
       "     predicted_label  \n",
       "2188   CONTRADICTION  \n",
       "2189   CONTRADICTION  \n",
       "2190   CONTRADICTION  \n",
       "2191   CONTRADICTION  \n",
       "2192      ENTAILMENT  \n",
       "...              ...  \n",
       "2336      ENTAILMENT  \n",
       "2338      ENTAILMENT  \n",
       "2339      ENTAILMENT  \n",
       "2340      ENTAILMENT  \n",
       "2341      ENTAILMENT  \n",
       "\n",
       "[61 rows x 5 columns]"
      ]
     },
     "execution_count": 49,
     "metadata": {},
     "output_type": "execute_result"
    }
   ],
   "source": [
    "val_results[val_results['expected_label'] != val_results['predicted_label']]"
   ]
  },
  {
   "cell_type": "code",
   "execution_count": 62,
   "metadata": {
    "execution": {
     "iopub.execute_input": "2025-03-11T18:54:58.398048Z",
     "iopub.status.busy": "2025-03-11T18:54:58.397749Z",
     "iopub.status.idle": "2025-03-11T18:55:40.225141Z",
     "shell.execute_reply": "2025-03-11T18:55:40.224177Z",
     "shell.execute_reply.started": "2025-03-11T18:54:58.398027Z"
    },
    "trusted": true
   },
   "outputs": [
    {
     "name": "stderr",
     "output_type": "stream",
     "text": [
      "Asking to truncate to max_length but no maximum length is provided and the model has no predefined maximum length. Default to no truncation.\n"
     ]
    },
    {
     "name": "stdout",
     "output_type": "stream",
     "text": [
      "0\n",
      "100\n",
      "200\n",
      "300\n",
      "400\n",
      "500\n",
      "600\n",
      "700\n",
      "800\n",
      "900\n",
      "1000\n",
      "1100\n",
      "1200\n",
      "1300\n",
      "1400\n",
      "1500\n",
      "1600\n",
      "1700\n",
      "1800\n",
      "1900\n",
      "2000\n",
      "2100\n",
      "2200\n",
      "2300\n"
     ]
    },
    {
     "data": {
      "text/plain": [
       "2367"
      ]
     },
     "execution_count": 62,
     "metadata": {},
     "output_type": "execute_result"
    }
   ],
   "source": [
    "id_num = 0\n",
    "test_results = pd.DataFrame(columns = ['id', 'premise', 'hypothesis', 'type', 'expected_label', 'predicted_label'])\n",
    "\n",
    "for predicted in gen(KeyPairDataset(test_ds,'premise', 'hypothesis'), batch_size=8, truncation=True):\n",
    "    if id_num % 100 == 0:\n",
    "        print(id_num)\n",
    "    test_results.loc[id_num] = [str(id_num), test_ds['premise'][id_num], test_ds['hypothesis'][id_num], test_ds['type'][id_num], test_ds['label'][id_num], predicted['label']]\n",
    "    id_num += 1\n",
    "\n",
    "len(test_results)"
   ]
  },
  {
   "cell_type": "code",
   "execution_count": 46,
   "metadata": {
    "execution": {
     "iopub.execute_input": "2025-02-05T19:13:42.470273Z",
     "iopub.status.busy": "2025-02-05T19:13:42.469942Z",
     "iopub.status.idle": "2025-02-05T19:13:42.481283Z",
     "shell.execute_reply": "2025-02-05T19:13:42.480526Z",
     "shell.execute_reply.started": "2025-02-05T19:13:42.470245Z"
    },
    "trusted": true
   },
   "outputs": [
    {
     "data": {
      "text/html": [
       "<div>\n",
       "<style scoped>\n",
       "    .dataframe tbody tr th:only-of-type {\n",
       "        vertical-align: middle;\n",
       "    }\n",
       "\n",
       "    .dataframe tbody tr th {\n",
       "        vertical-align: top;\n",
       "    }\n",
       "\n",
       "    .dataframe thead th {\n",
       "        text-align: right;\n",
       "    }\n",
       "</style>\n",
       "<table border=\"1\" class=\"dataframe\">\n",
       "  <thead>\n",
       "    <tr style=\"text-align: right;\">\n",
       "      <th></th>\n",
       "      <th>id</th>\n",
       "      <th>premise</th>\n",
       "      <th>hypothesis</th>\n",
       "      <th>type</th>\n",
       "      <th>expected_label</th>\n",
       "      <th>predicted_label</th>\n",
       "    </tr>\n",
       "  </thead>\n",
       "  <tbody>\n",
       "    <tr>\n",
       "      <th>0</th>\n",
       "      <td>0</td>\n",
       "      <td>If Jessica attends the conference, her colleague will meet her at the hotel.</td>\n",
       "      <td>Jessica has a colleague.</td>\n",
       "      <td>type5_possessive</td>\n",
       "      <td>ENTAILMENT</td>\n",
       "      <td>ENTAILMENT</td>\n",
       "    </tr>\n",
       "    <tr>\n",
       "      <th>1</th>\n",
       "      <td>1</td>\n",
       "      <td>It's not the case that if Jessica attends the conference, her colleague will meet her at the hotel.</td>\n",
       "      <td>Jessica has a colleague.</td>\n",
       "      <td>type5_possessive</td>\n",
       "      <td>ENTAILMENT</td>\n",
       "      <td>ENTAILMENT</td>\n",
       "    </tr>\n",
       "    <tr>\n",
       "      <th>2</th>\n",
       "      <td>2</td>\n",
       "      <td>Sam believes that if Jessica attends the conference, her colleague will meet her at the hotel.</td>\n",
       "      <td>Jessica has a colleague.</td>\n",
       "      <td>type5_possessive</td>\n",
       "      <td>ENTAILMENT</td>\n",
       "      <td>ENTAILMENT</td>\n",
       "    </tr>\n",
       "    <tr>\n",
       "      <th>3</th>\n",
       "      <td>3</td>\n",
       "      <td>Is it true that if Jessica attends the conference, her colleague will meet her at the hotel?</td>\n",
       "      <td>Jessica has a colleague.</td>\n",
       "      <td>type5_possessive</td>\n",
       "      <td>ENTAILMENT</td>\n",
       "      <td>ENTAILMENT</td>\n",
       "    </tr>\n",
       "    <tr>\n",
       "      <th>4</th>\n",
       "      <td>4</td>\n",
       "      <td>If Mia's car breaks down, her coworker will give her a ride to the office.</td>\n",
       "      <td>Mia has a coworker.</td>\n",
       "      <td>type5_possessive</td>\n",
       "      <td>ENTAILMENT</td>\n",
       "      <td>ENTAILMENT</td>\n",
       "    </tr>\n",
       "    <tr>\n",
       "      <th>...</th>\n",
       "      <td>...</td>\n",
       "      <td>...</td>\n",
       "      <td>...</td>\n",
       "      <td>...</td>\n",
       "      <td>...</td>\n",
       "      <td>...</td>\n",
       "    </tr>\n",
       "    <tr>\n",
       "      <th>2163</th>\n",
       "      <td>2163</td>\n",
       "      <td>If Andrew arrives early, he'll never express a deep conviction again.</td>\n",
       "      <td>Andrew has not expressed a deep conviction before.</td>\n",
       "      <td>type5_possessive</td>\n",
       "      <td>CONTRADICTION</td>\n",
       "      <td>CONTRADICTION</td>\n",
       "    </tr>\n",
       "    <tr>\n",
       "      <th>2164</th>\n",
       "      <td>2164</td>\n",
       "      <td>If Barbara finishes her project on time, she'll never enhance a backyard again.</td>\n",
       "      <td>Barbara has not enhanced a backyard before.</td>\n",
       "      <td>type5_possessive</td>\n",
       "      <td>CONTRADICTION</td>\n",
       "      <td>CONTRADICTION</td>\n",
       "    </tr>\n",
       "    <tr>\n",
       "      <th>2165</th>\n",
       "      <td>2165</td>\n",
       "      <td>If Andrew travels to London, he'll never raise a toast to celebrate his birthday again.</td>\n",
       "      <td>Andrew has not raised a toast to celebrate his birthday before.</td>\n",
       "      <td>type5_possessive</td>\n",
       "      <td>CONTRADICTION</td>\n",
       "      <td>CONTRADICTION</td>\n",
       "    </tr>\n",
       "    <tr>\n",
       "      <th>2166</th>\n",
       "      <td>2166</td>\n",
       "      <td>If Dorothy's car breaks down, she'll never obtain a job position again.</td>\n",
       "      <td>Dorothy has not obtained a job position before.</td>\n",
       "      <td>type5_possessive</td>\n",
       "      <td>CONTRADICTION</td>\n",
       "      <td>CONTRADICTION</td>\n",
       "    </tr>\n",
       "    <tr>\n",
       "      <th>2167</th>\n",
       "      <td>2167</td>\n",
       "      <td>If Susan finishes her work early, she'll never convey a confidential message again.</td>\n",
       "      <td>Susan has not conveyed a confidential message before.</td>\n",
       "      <td>type5_possessive</td>\n",
       "      <td>CONTRADICTION</td>\n",
       "      <td>CONTRADICTION</td>\n",
       "    </tr>\n",
       "  </tbody>\n",
       "</table>\n",
       "<p>2168 rows × 6 columns</p>\n",
       "</div>"
      ],
      "text/plain": [
       "        id  \\\n",
       "0        0   \n",
       "1        1   \n",
       "2        2   \n",
       "3        3   \n",
       "4        4   \n",
       "...    ...   \n",
       "2163  2163   \n",
       "2164  2164   \n",
       "2165  2165   \n",
       "2166  2166   \n",
       "2167  2167   \n",
       "\n",
       "                                                                                                  premise  \\\n",
       "0                            If Jessica attends the conference, her colleague will meet her at the hotel.   \n",
       "1     It's not the case that if Jessica attends the conference, her colleague will meet her at the hotel.   \n",
       "2          Sam believes that if Jessica attends the conference, her colleague will meet her at the hotel.   \n",
       "3            Is it true that if Jessica attends the conference, her colleague will meet her at the hotel?   \n",
       "4                              If Mia's car breaks down, her coworker will give her a ride to the office.   \n",
       "...                                                                                                   ...   \n",
       "2163                                If Andrew arrives early, he'll never express a deep conviction again.   \n",
       "2164                      If Barbara finishes her project on time, she'll never enhance a backyard again.   \n",
       "2165              If Andrew travels to London, he'll never raise a toast to celebrate his birthday again.   \n",
       "2166                              If Dorothy's car breaks down, she'll never obtain a job position again.   \n",
       "2167                  If Susan finishes her work early, she'll never convey a confidential message again.   \n",
       "\n",
       "                                                           hypothesis  \\\n",
       "0                                            Jessica has a colleague.   \n",
       "1                                            Jessica has a colleague.   \n",
       "2                                            Jessica has a colleague.   \n",
       "3                                            Jessica has a colleague.   \n",
       "4                                                 Mia has a coworker.   \n",
       "...                                                               ...   \n",
       "2163               Andrew has not expressed a deep conviction before.   \n",
       "2164                      Barbara has not enhanced a backyard before.   \n",
       "2165  Andrew has not raised a toast to celebrate his birthday before.   \n",
       "2166                  Dorothy has not obtained a job position before.   \n",
       "2167            Susan has not conveyed a confidential message before.   \n",
       "\n",
       "                  type expected_label predicted_label  \n",
       "0     type5_possessive     ENTAILMENT      ENTAILMENT  \n",
       "1     type5_possessive     ENTAILMENT      ENTAILMENT  \n",
       "2     type5_possessive     ENTAILMENT      ENTAILMENT  \n",
       "3     type5_possessive     ENTAILMENT      ENTAILMENT  \n",
       "4     type5_possessive     ENTAILMENT      ENTAILMENT  \n",
       "...                ...            ...             ...  \n",
       "2163  type5_possessive  CONTRADICTION   CONTRADICTION  \n",
       "2164  type5_possessive  CONTRADICTION   CONTRADICTION  \n",
       "2165  type5_possessive  CONTRADICTION   CONTRADICTION  \n",
       "2166  type5_possessive  CONTRADICTION   CONTRADICTION  \n",
       "2167  type5_possessive  CONTRADICTION   CONTRADICTION  \n",
       "\n",
       "[2168 rows x 6 columns]"
      ]
     },
     "execution_count": 46,
     "metadata": {},
     "output_type": "execute_result"
    }
   ],
   "source": [
    "test_results"
   ]
  },
  {
   "cell_type": "code",
   "execution_count": 63,
   "metadata": {
    "execution": {
     "iopub.execute_input": "2025-03-11T18:55:52.506039Z",
     "iopub.status.busy": "2025-03-11T18:55:52.505734Z",
     "iopub.status.idle": "2025-03-11T18:55:52.522982Z",
     "shell.execute_reply": "2025-03-11T18:55:52.522217Z",
     "shell.execute_reply.started": "2025-03-11T18:55:52.506016Z"
    },
    "trusted": true
   },
   "outputs": [],
   "source": [
    "test_results.to_csv('exp5_deberta_test_results_new_run3.csv')"
   ]
  },
  {
   "cell_type": "code",
   "execution_count": 64,
   "metadata": {
    "execution": {
     "iopub.execute_input": "2025-03-11T18:56:06.703116Z",
     "iopub.status.busy": "2025-03-11T18:56:06.702820Z",
     "iopub.status.idle": "2025-03-11T18:56:06.931890Z",
     "shell.execute_reply": "2025-03-11T18:56:06.931179Z",
     "shell.execute_reply.started": "2025-03-11T18:56:06.703092Z"
    },
    "trusted": true
   },
   "outputs": [
    {
     "data": {
      "image/png": "[encoded data removed]",
      "text/plain": [
       "<Figure size 800x600 with 2 Axes>"
      ]
     },
     "metadata": {},
     "output_type": "display_data"
    }
   ],
   "source": [
    "# Create the testing confusion matrix\n",
    "cm = confusion_matrix(test_results['expected_label'], test_results['predicted_label'])\n",
    "\n",
    "# Visualize the confusion matrix\n",
    "plt.figure(figsize=(8, 6))\n",
    "sns.heatmap(cm, annot=True, fmt=\"d\",cmap=\"Blues\")\n",
    "plt.xlabel(\"Predicted Label\")\n",
    "plt.ylabel(\"True Label\")\n",
    "plt.title(\"Confusion Matrix\")\n",
    "plt.show()"
   ]
  },
  {
   "cell_type": "code",
   "execution_count": 65,
   "metadata": {
    "execution": {
     "iopub.execute_input": "2025-03-11T18:57:37.473380Z",
     "iopub.status.busy": "2025-03-11T18:57:37.473034Z",
     "iopub.status.idle": "2025-03-11T18:57:37.547665Z",
     "shell.execute_reply": "2025-03-11T18:57:37.546724Z",
     "shell.execute_reply.started": "2025-03-11T18:57:37.473352Z"
    },
    "trusted": true
   },
   "outputs": [
    {
     "data": {
      "text/html": [
       "<div>\n",
       "<style scoped>\n",
       "    .dataframe tbody tr th:only-of-type {\n",
       "        vertical-align: middle;\n",
       "    }\n",
       "\n",
       "    .dataframe tbody tr th {\n",
       "        vertical-align: top;\n",
       "    }\n",
       "\n",
       "    .dataframe thead th {\n",
       "        text-align: right;\n",
       "    }\n",
       "</style>\n",
       "<table border=\"1\" class=\"dataframe\">\n",
       "  <thead>\n",
       "    <tr style=\"text-align: right;\">\n",
       "      <th>label</th>\n",
       "      <th>precision</th>\n",
       "      <th>recall</th>\n",
       "      <th>f1-score</th>\n",
       "      <th>support</th>\n",
       "    </tr>\n",
       "  </thead>\n",
       "  <tbody>\n",
       "    <tr>\n",
       "      <th>CONTRADICTION</th>\n",
       "      <td>0.954660</td>\n",
       "      <td>0.986979</td>\n",
       "      <td>0.970551</td>\n",
       "      <td>768.000000</td>\n",
       "    </tr>\n",
       "    <tr>\n",
       "      <th>ENTAILMENT</th>\n",
       "      <td>0.977901</td>\n",
       "      <td>0.983333</td>\n",
       "      <td>0.980609</td>\n",
       "      <td>720.000000</td>\n",
       "    </tr>\n",
       "    <tr>\n",
       "      <th>NEUTRAL</th>\n",
       "      <td>0.977621</td>\n",
       "      <td>0.944255</td>\n",
       "      <td>0.960648</td>\n",
       "      <td>879.000000</td>\n",
       "    </tr>\n",
       "    <tr>\n",
       "      <th>accuracy</th>\n",
       "      <td>0.970004</td>\n",
       "      <td>0.970004</td>\n",
       "      <td>0.970004</td>\n",
       "      <td>0.970004</td>\n",
       "    </tr>\n",
       "    <tr>\n",
       "      <th>macro avg</th>\n",
       "      <td>0.970060</td>\n",
       "      <td>0.971522</td>\n",
       "      <td>0.970603</td>\n",
       "      <td>2367.000000</td>\n",
       "    </tr>\n",
       "    <tr>\n",
       "      <th>weighted avg</th>\n",
       "      <td>0.970256</td>\n",
       "      <td>0.970004</td>\n",
       "      <td>0.969933</td>\n",
       "      <td>2367.000000</td>\n",
       "    </tr>\n",
       "  </tbody>\n",
       "</table>\n",
       "</div>"
      ],
      "text/plain": [
       "label          precision    recall  f1-score      support\n",
       "CONTRADICTION   0.954660  0.986979  0.970551   768.000000\n",
       "ENTAILMENT      0.977901  0.983333  0.980609   720.000000\n",
       "NEUTRAL         0.977621  0.944255  0.960648   879.000000\n",
       "accuracy        0.970004  0.970004  0.970004     0.970004\n",
       "macro avg       0.970060  0.971522  0.970603  2367.000000\n",
       "weighted avg    0.970256  0.970004  0.969933  2367.000000"
      ]
     },
     "execution_count": 65,
     "metadata": {},
     "output_type": "execute_result"
    }
   ],
   "source": [
    "report_dict = classification_report(test_results['expected_label'], test_results['predicted_label'], output_dict=True)\n",
    "report_df = pd.DataFrame(report_dict).transpose() \n",
    "report_df.columns.name = 'label'\n",
    "report_df"
   ]
  },
  {
   "cell_type": "code",
   "execution_count": 66,
   "metadata": {
    "execution": {
     "iopub.execute_input": "2025-03-11T18:57:51.351529Z",
     "iopub.status.busy": "2025-03-11T18:57:51.351222Z",
     "iopub.status.idle": "2025-03-11T18:57:51.482340Z",
     "shell.execute_reply": "2025-03-11T18:57:51.481272Z",
     "shell.execute_reply.started": "2025-03-11T18:57:51.351504Z"
    },
    "trusted": true
   },
   "outputs": [
    {
     "name": "stderr",
     "output_type": "stream",
     "text": [
      "/usr/local/lib/python3.10/dist-packages/sklearn/metrics/_classification.py:1344: UndefinedMetricWarning: Precision is ill-defined and being set to 0.0 in labels with no predicted samples. Use `zero_division` parameter to control this behavior.\n",
      "  _warn_prf(average, modifier, msg_start, len(result))\n",
      "/usr/local/lib/python3.10/dist-packages/sklearn/metrics/_classification.py:1344: UndefinedMetricWarning: Precision is ill-defined and being set to 0.0 in labels with no predicted samples. Use `zero_division` parameter to control this behavior.\n",
      "  _warn_prf(average, modifier, msg_start, len(result))\n",
      "<ipython-input-66-823762390d06>:1: DeprecationWarning: DataFrameGroupBy.apply operated on the grouping columns. This behavior is deprecated, and in a future version of pandas the grouping columns will be excluded from the operation. Either pass `include_groups=False` to exclude the groupings or explicitly select the grouping columns after groupby to silence this warning.\n",
      "  metrics_by_type = test_results.groupby('type').apply(compute_metrics_by_type).reset_index()\n"
     ]
    },
    {
     "data": {
      "text/html": [
       "<div>\n",
       "<style scoped>\n",
       "    .dataframe tbody tr th:only-of-type {\n",
       "        vertical-align: middle;\n",
       "    }\n",
       "\n",
       "    .dataframe tbody tr th {\n",
       "        vertical-align: top;\n",
       "    }\n",
       "\n",
       "    .dataframe thead th {\n",
       "        text-align: right;\n",
       "    }\n",
       "</style>\n",
       "<table border=\"1\" class=\"dataframe\">\n",
       "  <thead>\n",
       "    <tr style=\"text-align: right;\">\n",
       "      <th>ID</th>\n",
       "      <th>type</th>\n",
       "      <th>accuracy</th>\n",
       "      <th>precision</th>\n",
       "      <th>recall</th>\n",
       "      <th>f1_score</th>\n",
       "    </tr>\n",
       "  </thead>\n",
       "  <tbody>\n",
       "    <tr>\n",
       "      <th>0</th>\n",
       "      <td>type1_again</td>\n",
       "      <td>1.00</td>\n",
       "      <td>1.00</td>\n",
       "      <td>1.00</td>\n",
       "      <td>1.00</td>\n",
       "    </tr>\n",
       "    <tr>\n",
       "      <th>1</th>\n",
       "      <td>type1_possessive</td>\n",
       "      <td>0.91</td>\n",
       "      <td>0.90</td>\n",
       "      <td>0.91</td>\n",
       "      <td>0.90</td>\n",
       "    </tr>\n",
       "    <tr>\n",
       "      <th>2</th>\n",
       "      <td>type2_again</td>\n",
       "      <td>0.99</td>\n",
       "      <td>0.99</td>\n",
       "      <td>0.99</td>\n",
       "      <td>0.99</td>\n",
       "    </tr>\n",
       "    <tr>\n",
       "      <th>3</th>\n",
       "      <td>type2_possessive</td>\n",
       "      <td>0.99</td>\n",
       "      <td>0.98</td>\n",
       "      <td>0.99</td>\n",
       "      <td>0.98</td>\n",
       "    </tr>\n",
       "    <tr>\n",
       "      <th>4</th>\n",
       "      <td>type3_again</td>\n",
       "      <td>0.94</td>\n",
       "      <td>0.99</td>\n",
       "      <td>0.94</td>\n",
       "      <td>0.96</td>\n",
       "    </tr>\n",
       "    <tr>\n",
       "      <th>5</th>\n",
       "      <td>type3_possessive</td>\n",
       "      <td>1.00</td>\n",
       "      <td>1.00</td>\n",
       "      <td>1.00</td>\n",
       "      <td>1.00</td>\n",
       "    </tr>\n",
       "    <tr>\n",
       "      <th>6</th>\n",
       "      <td>type4_possessive</td>\n",
       "      <td>0.98</td>\n",
       "      <td>0.99</td>\n",
       "      <td>0.98</td>\n",
       "      <td>0.98</td>\n",
       "    </tr>\n",
       "    <tr>\n",
       "      <th>7</th>\n",
       "      <td>type5_again</td>\n",
       "      <td>0.94</td>\n",
       "      <td>0.95</td>\n",
       "      <td>0.94</td>\n",
       "      <td>0.95</td>\n",
       "    </tr>\n",
       "    <tr>\n",
       "      <th>8</th>\n",
       "      <td>type5_possessive</td>\n",
       "      <td>0.98</td>\n",
       "      <td>0.99</td>\n",
       "      <td>0.98</td>\n",
       "      <td>0.98</td>\n",
       "    </tr>\n",
       "  </tbody>\n",
       "</table>\n",
       "</div>"
      ],
      "text/plain": [
       "ID              type  accuracy  precision  recall  f1_score\n",
       "0        type1_again      1.00       1.00    1.00      1.00\n",
       "1   type1_possessive      0.91       0.90    0.91      0.90\n",
       "2        type2_again      0.99       0.99    0.99      0.99\n",
       "3   type2_possessive      0.99       0.98    0.99      0.98\n",
       "4        type3_again      0.94       0.99    0.94      0.96\n",
       "5   type3_possessive      1.00       1.00    1.00      1.00\n",
       "6   type4_possessive      0.98       0.99    0.98      0.98\n",
       "7        type5_again      0.94       0.95    0.94      0.95\n",
       "8   type5_possessive      0.98       0.99    0.98      0.98"
      ]
     },
     "execution_count": 66,
     "metadata": {},
     "output_type": "execute_result"
    }
   ],
   "source": [
    "metrics_by_type = test_results.groupby('type').apply(compute_metrics_by_type).reset_index()\n",
    "metrics_by_type.columns.name = 'ID'\n",
    "metrics_by_type"
   ]
  },
  {
   "cell_type": "markdown",
   "metadata": {},
   "source": [
    "## new tests"
   ]
  },
  {
   "cell_type": "code",
   "execution_count": 18,
   "metadata": {
    "execution": {
     "iopub.execute_input": "2025-02-03T01:08:47.607730Z",
     "iopub.status.busy": "2025-02-03T01:08:47.607421Z",
     "iopub.status.idle": "2025-02-03T01:08:48.377730Z",
     "shell.execute_reply": "2025-02-03T01:08:48.377005Z",
     "shell.execute_reply.started": "2025-02-03T01:08:47.607704Z"
    },
    "trusted": true
   },
   "outputs": [
    {
     "name": "stdout",
     "output_type": "stream",
     "text": [
      "0\n"
     ]
    },
    {
     "data": {
      "text/plain": [
       "28"
      ]
     },
     "execution_count": 18,
     "metadata": {},
     "output_type": "execute_result"
    }
   ],
   "source": [
    "id_num = 0\n",
    "new_test_results = pd.DataFrame(columns = ['id', 'premise', 'hypothesis', 'type', 'expected_label', 'predicted_label'])\n",
    "\n",
    "for predicted in gen(KeyPairDataset(new_test_ds,'premise', 'hypothesis'), batch_size=8, truncation=True):\n",
    "    if id_num % 100 == 0:\n",
    "        print(id_num)\n",
    "    new_test_results.loc[id_num] = [str(id_num), new_test_ds['premise'][id_num], new_test_ds['hypothesis'][id_num], new_test_ds['type'][id_num], new_test_ds['label'][id_num], predicted['label']]\n",
    "    id_num += 1\n",
    "\n",
    "len(new_test_results)"
   ]
  },
  {
   "cell_type": "code",
   "execution_count": 19,
   "metadata": {
    "execution": {
     "iopub.execute_input": "2025-02-03T01:09:09.527284Z",
     "iopub.status.busy": "2025-02-03T01:09:09.526985Z",
     "iopub.status.idle": "2025-02-03T01:09:09.539430Z",
     "shell.execute_reply": "2025-02-03T01:09:09.538620Z",
     "shell.execute_reply.started": "2025-02-03T01:09:09.527263Z"
    },
    "trusted": true
   },
   "outputs": [
    {
     "data": {
      "text/html": [
       "<div>\n",
       "<style scoped>\n",
       "    .dataframe tbody tr th:only-of-type {\n",
       "        vertical-align: middle;\n",
       "    }\n",
       "\n",
       "    .dataframe tbody tr th {\n",
       "        vertical-align: top;\n",
       "    }\n",
       "\n",
       "    .dataframe thead th {\n",
       "        text-align: right;\n",
       "    }\n",
       "</style>\n",
       "<table border=\"1\" class=\"dataframe\">\n",
       "  <thead>\n",
       "    <tr style=\"text-align: right;\">\n",
       "      <th></th>\n",
       "      <th>id</th>\n",
       "      <th>premise</th>\n",
       "      <th>hypothesis</th>\n",
       "      <th>type</th>\n",
       "      <th>expected_label</th>\n",
       "      <th>predicted_label</th>\n",
       "    </tr>\n",
       "  </thead>\n",
       "  <tbody>\n",
       "    <tr>\n",
       "      <th>0</th>\n",
       "      <td>0</td>\n",
       "      <td>Jessica's colleague will meet her at the hotel...</td>\n",
       "      <td>Jessica has a colleague.</td>\n",
       "      <td>type5_possessive</td>\n",
       "      <td>ENTAILMENT</td>\n",
       "      <td>ENTAILMENT</td>\n",
       "    </tr>\n",
       "    <tr>\n",
       "      <th>1</th>\n",
       "      <td>1</td>\n",
       "      <td>It's not the case that Jessica's colleague wil...</td>\n",
       "      <td>Jessica has a colleague.</td>\n",
       "      <td>type5_possessive</td>\n",
       "      <td>ENTAILMENT</td>\n",
       "      <td>ENTAILMENT</td>\n",
       "    </tr>\n",
       "    <tr>\n",
       "      <th>2</th>\n",
       "      <td>2</td>\n",
       "      <td>Sam believes that Jessica's colleague will mee...</td>\n",
       "      <td>Jessica has a colleague.</td>\n",
       "      <td>type5_possessive</td>\n",
       "      <td>ENTAILMENT</td>\n",
       "      <td>ENTAILMENT</td>\n",
       "    </tr>\n",
       "    <tr>\n",
       "      <th>3</th>\n",
       "      <td>3</td>\n",
       "      <td>Is it true tha tJessica's colleague will meet ...</td>\n",
       "      <td>Jessica has a colleague.</td>\n",
       "      <td>type5_possessive</td>\n",
       "      <td>ENTAILMENT</td>\n",
       "      <td>ENTAILMENT</td>\n",
       "    </tr>\n",
       "    <tr>\n",
       "      <th>4</th>\n",
       "      <td>4</td>\n",
       "      <td>Tiffany will bring her essential oils kit to t...</td>\n",
       "      <td>Tiffany has an essential oils kit.</td>\n",
       "      <td>type4_possessive</td>\n",
       "      <td>ENTAILMENT</td>\n",
       "      <td>ENTAILMENT</td>\n",
       "    </tr>\n",
       "    <tr>\n",
       "      <th>5</th>\n",
       "      <td>5</td>\n",
       "      <td>It's not the case that Tiffany will bring her ...</td>\n",
       "      <td>Tiffany has an essential oils kit.</td>\n",
       "      <td>type4_possessive</td>\n",
       "      <td>ENTAILMENT</td>\n",
       "      <td>ENTAILMENT</td>\n",
       "    </tr>\n",
       "    <tr>\n",
       "      <th>6</th>\n",
       "      <td>6</td>\n",
       "      <td>Sam believes that Tiffany will bring her essen...</td>\n",
       "      <td>Tiffany has an essential oils kit.</td>\n",
       "      <td>type4_possessive</td>\n",
       "      <td>ENTAILMENT</td>\n",
       "      <td>ENTAILMENT</td>\n",
       "    </tr>\n",
       "    <tr>\n",
       "      <th>7</th>\n",
       "      <td>7</td>\n",
       "      <td>Is it true that Tiffany will bring her essenti...</td>\n",
       "      <td>Tiffany has an essential oils kit.</td>\n",
       "      <td>type4_possessive</td>\n",
       "      <td>ENTAILMENT</td>\n",
       "      <td>ENTAILMENT</td>\n",
       "    </tr>\n",
       "    <tr>\n",
       "      <th>8</th>\n",
       "      <td>8</td>\n",
       "      <td>Andrew will never express a deep convistion ag...</td>\n",
       "      <td>Andrew has expressed a deep conviction before.</td>\n",
       "      <td>type5_again</td>\n",
       "      <td>ENTAILMENT</td>\n",
       "      <td>ENTAILMENT</td>\n",
       "    </tr>\n",
       "    <tr>\n",
       "      <th>9</th>\n",
       "      <td>9</td>\n",
       "      <td>It's not the case that Andrew will never expre...</td>\n",
       "      <td>Andrew has expressed a deep conviction before.</td>\n",
       "      <td>type5_again</td>\n",
       "      <td>ENTAILMENT</td>\n",
       "      <td>ENTAILMENT</td>\n",
       "    </tr>\n",
       "    <tr>\n",
       "      <th>10</th>\n",
       "      <td>10</td>\n",
       "      <td>Sam believes that Andrew will never express a ...</td>\n",
       "      <td>Andrew has expressed a deep conviction before.</td>\n",
       "      <td>type5_again</td>\n",
       "      <td>ENTAILMENT</td>\n",
       "      <td>ENTAILMENT</td>\n",
       "    </tr>\n",
       "    <tr>\n",
       "      <th>11</th>\n",
       "      <td>11</td>\n",
       "      <td>Is it true that Andrew will never express a de...</td>\n",
       "      <td>Andrew has expressed a deep conviction before.</td>\n",
       "      <td>type5_again</td>\n",
       "      <td>ENTAILMENT</td>\n",
       "      <td>ENTAILMENT</td>\n",
       "    </tr>\n",
       "    <tr>\n",
       "      <th>12</th>\n",
       "      <td>12</td>\n",
       "      <td>The boss will never collaborate with Joe as a ...</td>\n",
       "      <td>The boss collaborated with Joe as a partner.</td>\n",
       "      <td>type1_again</td>\n",
       "      <td>NEUTRAL</td>\n",
       "      <td>NEUTRAL</td>\n",
       "    </tr>\n",
       "    <tr>\n",
       "      <th>13</th>\n",
       "      <td>13</td>\n",
       "      <td>It's not the case that the boss will never col...</td>\n",
       "      <td>The boss collaborated with Joe as a partner.</td>\n",
       "      <td>type1_again</td>\n",
       "      <td>NEUTRAL</td>\n",
       "      <td>NEUTRAL</td>\n",
       "    </tr>\n",
       "    <tr>\n",
       "      <th>14</th>\n",
       "      <td>14</td>\n",
       "      <td>Sam believes that the boss will never collabor...</td>\n",
       "      <td>The boss collaborated with Joe as a partner.</td>\n",
       "      <td>type1_again</td>\n",
       "      <td>NEUTRAL</td>\n",
       "      <td>NEUTRAL</td>\n",
       "    </tr>\n",
       "    <tr>\n",
       "      <th>15</th>\n",
       "      <td>15</td>\n",
       "      <td>Is it true that the boss will never collaborat...</td>\n",
       "      <td>The boss collaborated with Joe as a partner.</td>\n",
       "      <td>type1_again</td>\n",
       "      <td>NEUTRAL</td>\n",
       "      <td>NEUTRAL</td>\n",
       "    </tr>\n",
       "    <tr>\n",
       "      <th>16</th>\n",
       "      <td>16</td>\n",
       "      <td>The doctor didn't watch Fox News again if he e...</td>\n",
       "      <td>The doctor has watched Fox News.</td>\n",
       "      <td>type3_again</td>\n",
       "      <td>NEUTRAL</td>\n",
       "      <td>NEUTRAL</td>\n",
       "    </tr>\n",
       "    <tr>\n",
       "      <th>17</th>\n",
       "      <td>17</td>\n",
       "      <td>It's not the case that the doctor didn't watch...</td>\n",
       "      <td>The doctor has watched Fox News.</td>\n",
       "      <td>type3_again</td>\n",
       "      <td>NEUTRAL</td>\n",
       "      <td>NEUTRAL</td>\n",
       "    </tr>\n",
       "    <tr>\n",
       "      <th>18</th>\n",
       "      <td>18</td>\n",
       "      <td>Sam believes that the doctor didn't watch Fox ...</td>\n",
       "      <td>The doctor has watched Fox News.</td>\n",
       "      <td>type3_again</td>\n",
       "      <td>NEUTRAL</td>\n",
       "      <td>NEUTRAL</td>\n",
       "    </tr>\n",
       "    <tr>\n",
       "      <th>19</th>\n",
       "      <td>19</td>\n",
       "      <td>Is it true that the doctor didn't watch Fox Ne...</td>\n",
       "      <td>The doctor has watched Fox News.</td>\n",
       "      <td>type3_again</td>\n",
       "      <td>NEUTRAL</td>\n",
       "      <td>NEUTRAL</td>\n",
       "    </tr>\n",
       "    <tr>\n",
       "      <th>20</th>\n",
       "      <td>20</td>\n",
       "      <td>The lady will wear her favorite bow tie if she...</td>\n",
       "      <td>The lady has a favorite bow tie.</td>\n",
       "      <td>type3_possessive</td>\n",
       "      <td>NEUTRAL</td>\n",
       "      <td>NEUTRAL</td>\n",
       "    </tr>\n",
       "    <tr>\n",
       "      <th>21</th>\n",
       "      <td>21</td>\n",
       "      <td>It's not the case that the lady will wear her ...</td>\n",
       "      <td>The lady has a favorite bow tie.</td>\n",
       "      <td>type3_possessive</td>\n",
       "      <td>NEUTRAL</td>\n",
       "      <td>NEUTRAL</td>\n",
       "    </tr>\n",
       "    <tr>\n",
       "      <th>22</th>\n",
       "      <td>22</td>\n",
       "      <td>Sam believe that the lady will wear her favori...</td>\n",
       "      <td>The lady has a favorite bow tie.</td>\n",
       "      <td>type3_possessive</td>\n",
       "      <td>NEUTRAL</td>\n",
       "      <td>NEUTRAL</td>\n",
       "    </tr>\n",
       "    <tr>\n",
       "      <th>23</th>\n",
       "      <td>23</td>\n",
       "      <td>Is it true that the lady will wear her favorit...</td>\n",
       "      <td>The lady has a favorite bow tie.</td>\n",
       "      <td>type3_possessive</td>\n",
       "      <td>NEUTRAL</td>\n",
       "      <td>NEUTRAL</td>\n",
       "    </tr>\n",
       "    <tr>\n",
       "      <th>24</th>\n",
       "      <td>24</td>\n",
       "      <td>Dan criticizes his roommate's behavior if he h...</td>\n",
       "      <td>Dan did not criticize his loving roommate's be...</td>\n",
       "      <td>type2_possessive</td>\n",
       "      <td>CONTRADICTION</td>\n",
       "      <td>CONTRADICTION</td>\n",
       "    </tr>\n",
       "    <tr>\n",
       "      <th>25</th>\n",
       "      <td>25</td>\n",
       "      <td>It's not the case that Dan criticizes his room...</td>\n",
       "      <td>Dan did not criticize his loving roommate's be...</td>\n",
       "      <td>type2_possessive</td>\n",
       "      <td>CONTRADICTION</td>\n",
       "      <td>CONTRADICTION</td>\n",
       "    </tr>\n",
       "    <tr>\n",
       "      <th>26</th>\n",
       "      <td>26</td>\n",
       "      <td>Sam believes that Dan criticizes his roommate'...</td>\n",
       "      <td>Dan did not criticize his loving roommate's be...</td>\n",
       "      <td>type2_possessive</td>\n",
       "      <td>CONTRADICTION</td>\n",
       "      <td>CONTRADICTION</td>\n",
       "    </tr>\n",
       "    <tr>\n",
       "      <th>27</th>\n",
       "      <td>27</td>\n",
       "      <td>Is it true that Dan criticizes his roommate's ...</td>\n",
       "      <td>Dan did not criticize his loving roommate's be...</td>\n",
       "      <td>type2_possessive</td>\n",
       "      <td>CONTRADICTION</td>\n",
       "      <td>CONTRADICTION</td>\n",
       "    </tr>\n",
       "  </tbody>\n",
       "</table>\n",
       "</div>"
      ],
      "text/plain": [
       "    id                                            premise  \\\n",
       "0    0  Jessica's colleague will meet her at the hotel...   \n",
       "1    1  It's not the case that Jessica's colleague wil...   \n",
       "2    2  Sam believes that Jessica's colleague will mee...   \n",
       "3    3  Is it true tha tJessica's colleague will meet ...   \n",
       "4    4  Tiffany will bring her essential oils kit to t...   \n",
       "5    5  It's not the case that Tiffany will bring her ...   \n",
       "6    6  Sam believes that Tiffany will bring her essen...   \n",
       "7    7  Is it true that Tiffany will bring her essenti...   \n",
       "8    8  Andrew will never express a deep convistion ag...   \n",
       "9    9  It's not the case that Andrew will never expre...   \n",
       "10  10  Sam believes that Andrew will never express a ...   \n",
       "11  11  Is it true that Andrew will never express a de...   \n",
       "12  12  The boss will never collaborate with Joe as a ...   \n",
       "13  13  It's not the case that the boss will never col...   \n",
       "14  14  Sam believes that the boss will never collabor...   \n",
       "15  15  Is it true that the boss will never collaborat...   \n",
       "16  16  The doctor didn't watch Fox News again if he e...   \n",
       "17  17  It's not the case that the doctor didn't watch...   \n",
       "18  18  Sam believes that the doctor didn't watch Fox ...   \n",
       "19  19  Is it true that the doctor didn't watch Fox Ne...   \n",
       "20  20  The lady will wear her favorite bow tie if she...   \n",
       "21  21  It's not the case that the lady will wear her ...   \n",
       "22  22  Sam believe that the lady will wear her favori...   \n",
       "23  23  Is it true that the lady will wear her favorit...   \n",
       "24  24  Dan criticizes his roommate's behavior if he h...   \n",
       "25  25  It's not the case that Dan criticizes his room...   \n",
       "26  26  Sam believes that Dan criticizes his roommate'...   \n",
       "27  27  Is it true that Dan criticizes his roommate's ...   \n",
       "\n",
       "                                           hypothesis              type  \\\n",
       "0                            Jessica has a colleague.  type5_possessive   \n",
       "1                            Jessica has a colleague.  type5_possessive   \n",
       "2                            Jessica has a colleague.  type5_possessive   \n",
       "3                            Jessica has a colleague.  type5_possessive   \n",
       "4                  Tiffany has an essential oils kit.  type4_possessive   \n",
       "5                  Tiffany has an essential oils kit.  type4_possessive   \n",
       "6                  Tiffany has an essential oils kit.  type4_possessive   \n",
       "7                  Tiffany has an essential oils kit.  type4_possessive   \n",
       "8      Andrew has expressed a deep conviction before.       type5_again   \n",
       "9      Andrew has expressed a deep conviction before.       type5_again   \n",
       "10     Andrew has expressed a deep conviction before.       type5_again   \n",
       "11     Andrew has expressed a deep conviction before.       type5_again   \n",
       "12       The boss collaborated with Joe as a partner.       type1_again   \n",
       "13       The boss collaborated with Joe as a partner.       type1_again   \n",
       "14       The boss collaborated with Joe as a partner.       type1_again   \n",
       "15       The boss collaborated with Joe as a partner.       type1_again   \n",
       "16                   The doctor has watched Fox News.       type3_again   \n",
       "17                   The doctor has watched Fox News.       type3_again   \n",
       "18                   The doctor has watched Fox News.       type3_again   \n",
       "19                   The doctor has watched Fox News.       type3_again   \n",
       "20                   The lady has a favorite bow tie.  type3_possessive   \n",
       "21                   The lady has a favorite bow tie.  type3_possessive   \n",
       "22                   The lady has a favorite bow tie.  type3_possessive   \n",
       "23                   The lady has a favorite bow tie.  type3_possessive   \n",
       "24  Dan did not criticize his loving roommate's be...  type2_possessive   \n",
       "25  Dan did not criticize his loving roommate's be...  type2_possessive   \n",
       "26  Dan did not criticize his loving roommate's be...  type2_possessive   \n",
       "27  Dan did not criticize his loving roommate's be...  type2_possessive   \n",
       "\n",
       "   expected_label predicted_label  \n",
       "0      ENTAILMENT      ENTAILMENT  \n",
       "1      ENTAILMENT      ENTAILMENT  \n",
       "2      ENTAILMENT      ENTAILMENT  \n",
       "3      ENTAILMENT      ENTAILMENT  \n",
       "4      ENTAILMENT      ENTAILMENT  \n",
       "5      ENTAILMENT      ENTAILMENT  \n",
       "6      ENTAILMENT      ENTAILMENT  \n",
       "7      ENTAILMENT      ENTAILMENT  \n",
       "8      ENTAILMENT      ENTAILMENT  \n",
       "9      ENTAILMENT      ENTAILMENT  \n",
       "10     ENTAILMENT      ENTAILMENT  \n",
       "11     ENTAILMENT      ENTAILMENT  \n",
       "12        NEUTRAL         NEUTRAL  \n",
       "13        NEUTRAL         NEUTRAL  \n",
       "14        NEUTRAL         NEUTRAL  \n",
       "15        NEUTRAL         NEUTRAL  \n",
       "16        NEUTRAL         NEUTRAL  \n",
       "17        NEUTRAL         NEUTRAL  \n",
       "18        NEUTRAL         NEUTRAL  \n",
       "19        NEUTRAL         NEUTRAL  \n",
       "20        NEUTRAL         NEUTRAL  \n",
       "21        NEUTRAL         NEUTRAL  \n",
       "22        NEUTRAL         NEUTRAL  \n",
       "23        NEUTRAL         NEUTRAL  \n",
       "24  CONTRADICTION   CONTRADICTION  \n",
       "25  CONTRADICTION   CONTRADICTION  \n",
       "26  CONTRADICTION   CONTRADICTION  \n",
       "27  CONTRADICTION   CONTRADICTION  "
      ]
     },
     "execution_count": 19,
     "metadata": {},
     "output_type": "execute_result"
    }
   ],
   "source": [
    "new_test_results"
   ]
  },
  {
   "cell_type": "markdown",
   "metadata": {},
   "source": [
    "# hard tests "
   ]
  },
  {
   "cell_type": "code",
   "execution_count": 16,
   "metadata": {
    "execution": {
     "iopub.execute_input": "2025-02-04T01:50:34.702285Z",
     "iopub.status.busy": "2025-02-04T01:50:34.702007Z",
     "iopub.status.idle": "2025-02-04T01:50:35.329166Z",
     "shell.execute_reply": "2025-02-04T01:50:35.328369Z",
     "shell.execute_reply.started": "2025-02-04T01:50:34.702264Z"
    },
    "trusted": true
   },
   "outputs": [
    {
     "name": "stdout",
     "output_type": "stream",
     "text": [
      "0\n"
     ]
    },
    {
     "data": {
      "text/plain": [
       "21"
      ]
     },
     "execution_count": 16,
     "metadata": {},
     "output_type": "execute_result"
    }
   ],
   "source": [
    "id_num = 0\n",
    "hard_test_results = pd.DataFrame(columns = ['id', 'premise', 'hypothesis', 'type', 'expected_label', 'predicted_label'])\n",
    "\n",
    "for predicted in gen(KeyPairDataset(hard_test_ds,'premise', 'hypothesis'), batch_size=8, truncation=True):\n",
    "    if id_num % 100 == 0:\n",
    "        print(id_num)\n",
    "    hard_test_results.loc[id_num] = [str(id_num), hard_test_ds['premise'][id_num], hard_test_ds['hypothesis'][id_num], hard_test_ds['type'][id_num], hard_test_ds['label'][id_num], predicted['label']]\n",
    "    id_num += 1\n",
    "\n",
    "len(hard_test_results)"
   ]
  },
  {
   "cell_type": "code",
   "execution_count": 17,
   "metadata": {
    "execution": {
     "iopub.execute_input": "2025-02-04T01:50:42.854489Z",
     "iopub.status.busy": "2025-02-04T01:50:42.854192Z",
     "iopub.status.idle": "2025-02-04T01:50:42.865577Z",
     "shell.execute_reply": "2025-02-04T01:50:42.864893Z",
     "shell.execute_reply.started": "2025-02-04T01:50:42.854468Z"
    },
    "trusted": true
   },
   "outputs": [
    {
     "data": {
      "text/html": [
       "<div>\n",
       "<style scoped>\n",
       "    .dataframe tbody tr th:only-of-type {\n",
       "        vertical-align: middle;\n",
       "    }\n",
       "\n",
       "    .dataframe tbody tr th {\n",
       "        vertical-align: top;\n",
       "    }\n",
       "\n",
       "    .dataframe thead th {\n",
       "        text-align: right;\n",
       "    }\n",
       "</style>\n",
       "<table border=\"1\" class=\"dataframe\">\n",
       "  <thead>\n",
       "    <tr style=\"text-align: right;\">\n",
       "      <th></th>\n",
       "      <th>id</th>\n",
       "      <th>premise</th>\n",
       "      <th>hypothesis</th>\n",
       "      <th>type</th>\n",
       "      <th>expected_label</th>\n",
       "      <th>predicted_label</th>\n",
       "    </tr>\n",
       "  </thead>\n",
       "  <tbody>\n",
       "    <tr>\n",
       "      <th>0</th>\n",
       "      <td>0</td>\n",
       "      <td>If Jessica attends the conference, her colleag...</td>\n",
       "      <td>Jessica has a sister.</td>\n",
       "      <td>type5_possessive</td>\n",
       "      <td>NEUTRAL</td>\n",
       "      <td>ENTAILMENT</td>\n",
       "    </tr>\n",
       "    <tr>\n",
       "      <th>1</th>\n",
       "      <td>1</td>\n",
       "      <td>It's not the case that if Jessica attends the ...</td>\n",
       "      <td>Jessica has a sister.</td>\n",
       "      <td>type5_possessive</td>\n",
       "      <td>NEUTRAL</td>\n",
       "      <td>ENTAILMENT</td>\n",
       "    </tr>\n",
       "    <tr>\n",
       "      <th>2</th>\n",
       "      <td>2</td>\n",
       "      <td>Sam believes that if Jessica attends the confe...</td>\n",
       "      <td>Jessica has a sister.</td>\n",
       "      <td>type5_possessive</td>\n",
       "      <td>NEUTRAL</td>\n",
       "      <td>ENTAILMENT</td>\n",
       "    </tr>\n",
       "    <tr>\n",
       "      <th>3</th>\n",
       "      <td>3</td>\n",
       "      <td>Is it true that if Jessica attends the confere...</td>\n",
       "      <td>Jessica has a sister.</td>\n",
       "      <td>type5_possessive</td>\n",
       "      <td>NEUTRAL</td>\n",
       "      <td>ENTAILMENT</td>\n",
       "    </tr>\n",
       "    <tr>\n",
       "      <th>4</th>\n",
       "      <td>4</td>\n",
       "      <td>If Mia's car breaks down, she'll never write a...</td>\n",
       "      <td>Mia wrote a horror novel again.</td>\n",
       "      <td>type5_again</td>\n",
       "      <td>NEUTRAL</td>\n",
       "      <td>CONTRADICTION</td>\n",
       "    </tr>\n",
       "    <tr>\n",
       "      <th>5</th>\n",
       "      <td>5</td>\n",
       "      <td>It's not the case that if Mia's car breaks dow...</td>\n",
       "      <td>Mia wrote a horror novel again.</td>\n",
       "      <td>type5_again</td>\n",
       "      <td>NEUTRAL</td>\n",
       "      <td>CONTRADICTION</td>\n",
       "    </tr>\n",
       "    <tr>\n",
       "      <th>6</th>\n",
       "      <td>6</td>\n",
       "      <td>Sam believes that if Mia's car breaks down, sh...</td>\n",
       "      <td>Mia wrote a horror novel again.</td>\n",
       "      <td>type5_again</td>\n",
       "      <td>NEUTRAL</td>\n",
       "      <td>CONTRADICTION</td>\n",
       "    </tr>\n",
       "    <tr>\n",
       "      <th>7</th>\n",
       "      <td>7</td>\n",
       "      <td>Is it true that if Mia's car breaks down, she'...</td>\n",
       "      <td>Mia wrote a horror novel again.</td>\n",
       "      <td>type5_again</td>\n",
       "      <td>NEUTRAL</td>\n",
       "      <td>CONTRADICTION</td>\n",
       "    </tr>\n",
       "    <tr>\n",
       "      <th>8</th>\n",
       "      <td>8</td>\n",
       "      <td>If the teacher watched a movie by Nolan, she'l...</td>\n",
       "      <td>The teacher did not watch a movie by Nolan</td>\n",
       "      <td>type1_again</td>\n",
       "      <td>NEUTRAL</td>\n",
       "      <td>CONTRADICTION</td>\n",
       "    </tr>\n",
       "    <tr>\n",
       "      <th>9</th>\n",
       "      <td>9</td>\n",
       "      <td>If Angela wrote a horror novel, she'll never w...</td>\n",
       "      <td>Angela did not write a horror novel.</td>\n",
       "      <td>type1_again</td>\n",
       "      <td>NEUTRAL</td>\n",
       "      <td>CONTRADICTION</td>\n",
       "    </tr>\n",
       "    <tr>\n",
       "      <th>10</th>\n",
       "      <td>10</td>\n",
       "      <td>If Ryan played a musical instrument at the tal...</td>\n",
       "      <td>Ryan did not play a musical instrument at the ...</td>\n",
       "      <td>type1_again</td>\n",
       "      <td>NEUTRAL</td>\n",
       "      <td>CONTRADICTION</td>\n",
       "    </tr>\n",
       "    <tr>\n",
       "      <th>11</th>\n",
       "      <td>11</td>\n",
       "      <td>If the boss baked a chocolate cake, she'll nev...</td>\n",
       "      <td>The boss did not bake a chocolate cake.</td>\n",
       "      <td>type1_again</td>\n",
       "      <td>NEUTRAL</td>\n",
       "      <td>CONTRADICTION</td>\n",
       "    </tr>\n",
       "    <tr>\n",
       "      <th>12</th>\n",
       "      <td>12</td>\n",
       "      <td>Sam believes that if Michelle amended a contra...</td>\n",
       "      <td>Michelle amended a contract after having amend...</td>\n",
       "      <td>type1_again</td>\n",
       "      <td>CONTRADICTION</td>\n",
       "      <td>NEUTRAL</td>\n",
       "    </tr>\n",
       "    <tr>\n",
       "      <th>13</th>\n",
       "      <td>13</td>\n",
       "      <td>If Lisa picked a flower for Tammy, she'll neve...</td>\n",
       "      <td>Lisa picked a flower for Tammy after having pi...</td>\n",
       "      <td>type1_again</td>\n",
       "      <td>CONTRADICTION</td>\n",
       "      <td>NEUTRAL</td>\n",
       "    </tr>\n",
       "    <tr>\n",
       "      <th>14</th>\n",
       "      <td>14</td>\n",
       "      <td>Is it true that if Martin opted for a health i...</td>\n",
       "      <td>Martin opted for a health insurance after havi...</td>\n",
       "      <td>type1_again</td>\n",
       "      <td>CONTRADICTION</td>\n",
       "      <td>NEUTRAL</td>\n",
       "    </tr>\n",
       "    <tr>\n",
       "      <th>15</th>\n",
       "      <td>15</td>\n",
       "      <td>Sam believes that if Kimberley treated a sympt...</td>\n",
       "      <td>Kimberley treated a symptom of the disease aft...</td>\n",
       "      <td>type1_again</td>\n",
       "      <td>CONTRADICTION</td>\n",
       "      <td>NEUTRAL</td>\n",
       "    </tr>\n",
       "    <tr>\n",
       "      <th>16</th>\n",
       "      <td>16</td>\n",
       "      <td>Is it true that if Angela wrote a horror novel...</td>\n",
       "      <td>Angela wrote a horror novel after having writt...</td>\n",
       "      <td>type1_again</td>\n",
       "      <td>CONTRADICTION</td>\n",
       "      <td>NEUTRAL</td>\n",
       "    </tr>\n",
       "    <tr>\n",
       "      <th>17</th>\n",
       "      <td>17</td>\n",
       "      <td>Sam believes that if Grace misses the bus, she...</td>\n",
       "      <td>Sam has checked an email from Rob before.</td>\n",
       "      <td>type5_again</td>\n",
       "      <td>NEUTRAL</td>\n",
       "      <td>ENTAILMENT</td>\n",
       "    </tr>\n",
       "    <tr>\n",
       "      <th>18</th>\n",
       "      <td>18</td>\n",
       "      <td>If Victoria decides to move to New York, she'l...</td>\n",
       "      <td>Nancy has competed with a rival in the cosmeti...</td>\n",
       "      <td>type5_again</td>\n",
       "      <td>NEUTRAL</td>\n",
       "      <td>ENTAILMENT</td>\n",
       "    </tr>\n",
       "    <tr>\n",
       "      <th>19</th>\n",
       "      <td>19</td>\n",
       "      <td>Sam believes that if Scarlett finishes her exa...</td>\n",
       "      <td>Sam has danced with a song by JLO before.</td>\n",
       "      <td>type5_again</td>\n",
       "      <td>NEUTRAL</td>\n",
       "      <td>ENTAILMENT</td>\n",
       "    </tr>\n",
       "    <tr>\n",
       "      <th>20</th>\n",
       "      <td>20</td>\n",
       "      <td>It's not the case that if Margaret graduates f...</td>\n",
       "      <td>Nancy has denied an allegation by the governor...</td>\n",
       "      <td>type5_again</td>\n",
       "      <td>NEUTRAL</td>\n",
       "      <td>ENTAILMENT</td>\n",
       "    </tr>\n",
       "  </tbody>\n",
       "</table>\n",
       "</div>"
      ],
      "text/plain": [
       "    id                                            premise  \\\n",
       "0    0  If Jessica attends the conference, her colleag...   \n",
       "1    1  It's not the case that if Jessica attends the ...   \n",
       "2    2  Sam believes that if Jessica attends the confe...   \n",
       "3    3  Is it true that if Jessica attends the confere...   \n",
       "4    4  If Mia's car breaks down, she'll never write a...   \n",
       "5    5  It's not the case that if Mia's car breaks dow...   \n",
       "6    6  Sam believes that if Mia's car breaks down, sh...   \n",
       "7    7  Is it true that if Mia's car breaks down, she'...   \n",
       "8    8  If the teacher watched a movie by Nolan, she'l...   \n",
       "9    9  If Angela wrote a horror novel, she'll never w...   \n",
       "10  10  If Ryan played a musical instrument at the tal...   \n",
       "11  11  If the boss baked a chocolate cake, she'll nev...   \n",
       "12  12  Sam believes that if Michelle amended a contra...   \n",
       "13  13  If Lisa picked a flower for Tammy, she'll neve...   \n",
       "14  14  Is it true that if Martin opted for a health i...   \n",
       "15  15  Sam believes that if Kimberley treated a sympt...   \n",
       "16  16  Is it true that if Angela wrote a horror novel...   \n",
       "17  17  Sam believes that if Grace misses the bus, she...   \n",
       "18  18  If Victoria decides to move to New York, she'l...   \n",
       "19  19  Sam believes that if Scarlett finishes her exa...   \n",
       "20  20  It's not the case that if Margaret graduates f...   \n",
       "\n",
       "                                           hypothesis              type  \\\n",
       "0                               Jessica has a sister.  type5_possessive   \n",
       "1                               Jessica has a sister.  type5_possessive   \n",
       "2                               Jessica has a sister.  type5_possessive   \n",
       "3                               Jessica has a sister.  type5_possessive   \n",
       "4                     Mia wrote a horror novel again.       type5_again   \n",
       "5                     Mia wrote a horror novel again.       type5_again   \n",
       "6                     Mia wrote a horror novel again.       type5_again   \n",
       "7                     Mia wrote a horror novel again.       type5_again   \n",
       "8          The teacher did not watch a movie by Nolan       type1_again   \n",
       "9                Angela did not write a horror novel.       type1_again   \n",
       "10  Ryan did not play a musical instrument at the ...       type1_again   \n",
       "11            The boss did not bake a chocolate cake.       type1_again   \n",
       "12  Michelle amended a contract after having amend...       type1_again   \n",
       "13  Lisa picked a flower for Tammy after having pi...       type1_again   \n",
       "14  Martin opted for a health insurance after havi...       type1_again   \n",
       "15  Kimberley treated a symptom of the disease aft...       type1_again   \n",
       "16  Angela wrote a horror novel after having writt...       type1_again   \n",
       "17          Sam has checked an email from Rob before.       type5_again   \n",
       "18  Nancy has competed with a rival in the cosmeti...       type5_again   \n",
       "19          Sam has danced with a song by JLO before.       type5_again   \n",
       "20  Nancy has denied an allegation by the governor...       type5_again   \n",
       "\n",
       "   expected_label predicted_label  \n",
       "0         NEUTRAL      ENTAILMENT  \n",
       "1         NEUTRAL      ENTAILMENT  \n",
       "2         NEUTRAL      ENTAILMENT  \n",
       "3         NEUTRAL      ENTAILMENT  \n",
       "4         NEUTRAL   CONTRADICTION  \n",
       "5         NEUTRAL   CONTRADICTION  \n",
       "6         NEUTRAL   CONTRADICTION  \n",
       "7         NEUTRAL   CONTRADICTION  \n",
       "8         NEUTRAL   CONTRADICTION  \n",
       "9         NEUTRAL   CONTRADICTION  \n",
       "10        NEUTRAL   CONTRADICTION  \n",
       "11        NEUTRAL   CONTRADICTION  \n",
       "12  CONTRADICTION         NEUTRAL  \n",
       "13  CONTRADICTION         NEUTRAL  \n",
       "14  CONTRADICTION         NEUTRAL  \n",
       "15  CONTRADICTION         NEUTRAL  \n",
       "16  CONTRADICTION         NEUTRAL  \n",
       "17        NEUTRAL      ENTAILMENT  \n",
       "18        NEUTRAL      ENTAILMENT  \n",
       "19        NEUTRAL      ENTAILMENT  \n",
       "20        NEUTRAL      ENTAILMENT  "
      ]
     },
     "execution_count": 17,
     "metadata": {},
     "output_type": "execute_result"
    }
   ],
   "source": [
    "hard_test_results"
   ]
  },
  {
   "cell_type": "code",
   "execution_count": 18,
   "metadata": {
    "execution": {
     "iopub.execute_input": "2025-02-04T01:53:44.026823Z",
     "iopub.status.busy": "2025-02-04T01:53:44.026457Z",
     "iopub.status.idle": "2025-02-04T01:53:44.036888Z",
     "shell.execute_reply": "2025-02-04T01:53:44.036107Z",
     "shell.execute_reply.started": "2025-02-04T01:53:44.026794Z"
    },
    "trusted": true
   },
   "outputs": [],
   "source": [
    "hard_test_results.to_csv('hard_test_results.csv')"
   ]
  },
  {
   "cell_type": "markdown",
   "metadata": {},
   "source": [
    "## FacebookAI/roberta-large-mnli"
   ]
  },
  {
   "cell_type": "code",
   "execution_count": 82,
   "metadata": {
    "execution": {
     "iopub.execute_input": "2025-03-11T19:36:23.864661Z",
     "iopub.status.busy": "2025-03-11T19:36:23.864320Z",
     "iopub.status.idle": "2025-03-11T19:36:24.614940Z",
     "shell.execute_reply": "2025-03-11T19:36:24.614216Z",
     "shell.execute_reply.started": "2025-03-11T19:36:23.864633Z"
    },
    "trusted": true
   },
   "outputs": [
    {
     "name": "stderr",
     "output_type": "stream",
     "text": [
      "Some weights of the model checkpoint at FacebookAI/roberta-large-mnli were not used when initializing RobertaForSequenceClassification: ['roberta.pooler.dense.bias', 'roberta.pooler.dense.weight']\n",
      "- This IS expected if you are initializing RobertaForSequenceClassification from the checkpoint of a model trained on another task or with another architecture (e.g. initializing a BertForSequenceClassification model from a BertForPreTraining model).\n",
      "- This IS NOT expected if you are initializing RobertaForSequenceClassification from the checkpoint of a model that you expect to be exactly identical (initializing a BertForSequenceClassification model from a BertForSequenceClassification model).\n"
     ]
    }
   ],
   "source": [
    "checkpoint = \"FacebookAI/roberta-large-mnli\"\n",
    "tokenizer = AutoTokenizer.from_pretrained(checkpoint)\n",
    "model = AutoModelForSequenceClassification.from_pretrained(checkpoint, num_labels=3)"
   ]
  },
  {
   "cell_type": "code",
   "execution_count": 83,
   "metadata": {
    "execution": {
     "iopub.execute_input": "2025-03-11T19:36:40.220754Z",
     "iopub.status.busy": "2025-03-11T19:36:40.220454Z",
     "iopub.status.idle": "2025-03-11T19:36:42.849631Z",
     "shell.execute_reply": "2025-03-11T19:36:42.848656Z",
     "shell.execute_reply.started": "2025-03-11T19:36:40.220730Z"
    },
    "trusted": true
   },
   "outputs": [
    {
     "data": {
      "application/vnd.jupyter.widget-view+json": {
       "model_id": "d0a1daa4eb3f4ee99fe28ea4796fcfc5",
       "version_major": 2,
       "version_minor": 0
      },
      "text/plain": [
       "Map:   0%|          | 0/6486 [00:00<?, ? examples/s]"
      ]
     },
     "metadata": {},
     "output_type": "display_data"
    },
    {
     "data": {
      "application/vnd.jupyter.widget-view+json": {
       "model_id": "498281b9ca7648118bb43696aa3b5000",
       "version_major": 2,
       "version_minor": 0
      },
      "text/plain": [
       "Map:   0%|          | 0/2348 [00:00<?, ? examples/s]"
      ]
     },
     "metadata": {},
     "output_type": "display_data"
    }
   ],
   "source": [
    "tokenized_train_ds = train_ds.map(lambda x: preprocess_function(x, tokenizer), batched=True)\n",
    "tokenized_val_ds = val_ds.map(lambda x: preprocess_function(x, tokenizer), batched=True)\n",
    "data_collator = DataCollatorWithPadding(tokenizer=tokenizer)"
   ]
  },
  {
   "cell_type": "code",
   "execution_count": 29,
   "metadata": {
    "execution": {
     "iopub.execute_input": "2025-02-01T01:01:02.548592Z",
     "iopub.status.busy": "2025-02-01T01:01:02.548270Z",
     "iopub.status.idle": "2025-02-01T01:01:02.553582Z",
     "shell.execute_reply": "2025-02-01T01:01:02.552853Z",
     "shell.execute_reply.started": "2025-02-01T01:01:02.548567Z"
    },
    "trusted": true
   },
   "outputs": [
    {
     "data": {
      "text/plain": [
       "2168"
      ]
     },
     "execution_count": 29,
     "metadata": {},
     "output_type": "execute_result"
    }
   ],
   "source": [
    "len(val_ds)"
   ]
  },
  {
   "cell_type": "code",
   "execution_count": 84,
   "metadata": {
    "execution": {
     "iopub.execute_input": "2025-03-11T19:36:47.878877Z",
     "iopub.status.busy": "2025-03-11T19:36:47.878551Z",
     "iopub.status.idle": "2025-03-11T19:36:48.525991Z",
     "shell.execute_reply": "2025-03-11T19:36:48.525093Z",
     "shell.execute_reply.started": "2025-03-11T19:36:47.878846Z"
    },
    "trusted": true
   },
   "outputs": [
    {
     "name": "stderr",
     "output_type": "stream",
     "text": [
      "/usr/local/lib/python3.10/dist-packages/transformers/training_args.py:1575: FutureWarning: `evaluation_strategy` is deprecated and will be removed in version 4.46 of 🤗 Transformers. Use `eval_strategy` instead\n",
      "  warnings.warn(\n",
      "<ipython-input-84-84be40e1fc9f>:15: FutureWarning: `tokenizer` is deprecated and will be removed in version 5.0.0 for `Trainer.__init__`. Use `processing_class` instead.\n",
      "  trainer = Trainer(\n"
     ]
    }
   ],
   "source": [
    "random_seed = random.randint(0, 2**32 - 1)\n",
    "training_args = TrainingArguments(\n",
    "    output_dir=\"./results\",\n",
    "    num_train_epochs=1, # Set the number of epochs to 1\n",
    "    logging_steps=100,\n",
    "    evaluation_strategy=\"steps\",\n",
    "    eval_steps=100,\n",
    "    # evaluation_strategy=\"epoch\",  # Evaluate during training\n",
    "    # evaluation_strategy=\"no\",\n",
    "    save_strategy=\"epoch\",  # Save the model at the end of each epoch\n",
    "    # load_best_model_at_end=True,  # Load the best model at the end of training\n",
    "    report_to=\"none\",\n",
    "    seed=random_seed\n",
    ")\n",
    "trainer = Trainer(\n",
    "    model,\n",
    "    args=training_args,\n",
    "    train_dataset=tokenized_train_ds,\n",
    "    eval_dataset=tokenized_val_ds,\n",
    "    compute_metrics=compute_metrics,\n",
    "    data_collator=data_collator,\n",
    "    tokenizer=tokenizer,\n",
    "    callbacks=[]\n",
    ")"
   ]
  },
  {
   "cell_type": "code",
   "execution_count": 85,
   "metadata": {
    "execution": {
     "iopub.execute_input": "2025-03-11T19:37:04.835223Z",
     "iopub.status.busy": "2025-03-11T19:37:04.834880Z",
     "iopub.status.idle": "2025-03-11T20:04:46.984971Z",
     "shell.execute_reply": "2025-03-11T20:04:46.984316Z",
     "shell.execute_reply.started": "2025-03-11T19:37:04.835192Z"
    },
    "trusted": true
   },
   "outputs": [
    {
     "name": "stderr",
     "output_type": "stream",
     "text": [
      "/usr/local/lib/python3.10/dist-packages/torch/nn/parallel/_functions.py:71: UserWarning: Was asked to gather along dimension 0, but all input tensors were scalars; will instead unsqueeze and return a vector.\n",
      "  warnings.warn(\n"
     ]
    },
    {
     "data": {
      "text/html": [
       "\n",
       "    <div>\n",
       "      \n",
       "      <progress value='406' max='406' style='width:300px; height:20px; vertical-align: middle;'></progress>\n",
       "      [406/406 27:38, Epoch 1/1]\n",
       "    </div>\n",
       "    <table border=\"1\" class=\"dataframe\">\n",
       "  <thead>\n",
       " <tr style=\"text-align: left;\">\n",
       "      <th>Step</th>\n",
       "      <th>Training Loss</th>\n",
       "      <th>Validation Loss</th>\n",
       "      <th>Accuracy</th>\n",
       "      <th>Precision</th>\n",
       "      <th>Recall</th>\n",
       "      <th>F1 Score</th>\n",
       "      <th>Gmean</th>\n",
       "    </tr>\n",
       "  </thead>\n",
       "  <tbody>\n",
       "    <tr>\n",
       "      <td>100</td>\n",
       "      <td>0.091900</td>\n",
       "      <td>0.339538</td>\n",
       "      <td>0.956985</td>\n",
       "      <td>0.958425</td>\n",
       "      <td>0.956985</td>\n",
       "      <td>0.956693</td>\n",
       "      <td>0.967844</td>\n",
       "    </tr>\n",
       "    <tr>\n",
       "      <td>200</td>\n",
       "      <td>0.047700</td>\n",
       "      <td>0.285400</td>\n",
       "      <td>0.955707</td>\n",
       "      <td>0.957470</td>\n",
       "      <td>0.955707</td>\n",
       "      <td>0.955445</td>\n",
       "      <td>0.966880</td>\n",
       "    </tr>\n",
       "    <tr>\n",
       "      <td>300</td>\n",
       "      <td>0.039100</td>\n",
       "      <td>0.282230</td>\n",
       "      <td>0.957836</td>\n",
       "      <td>0.959023</td>\n",
       "      <td>0.957836</td>\n",
       "      <td>0.957595</td>\n",
       "      <td>0.968450</td>\n",
       "    </tr>\n",
       "    <tr>\n",
       "      <td>400</td>\n",
       "      <td>0.019500</td>\n",
       "      <td>0.223497</td>\n",
       "      <td>0.968910</td>\n",
       "      <td>0.969237</td>\n",
       "      <td>0.968910</td>\n",
       "      <td>0.968812</td>\n",
       "      <td>0.976650</td>\n",
       "    </tr>\n",
       "  </tbody>\n",
       "</table><p>"
      ],
      "text/plain": [
       "<IPython.core.display.HTML object>"
      ]
     },
     "metadata": {},
     "output_type": "display_data"
    },
    {
     "name": "stderr",
     "output_type": "stream",
     "text": [
      "/usr/local/lib/python3.10/dist-packages/torch/nn/parallel/_functions.py:71: UserWarning: Was asked to gather along dimension 0, but all input tensors were scalars; will instead unsqueeze and return a vector.\n",
      "  warnings.warn(\n",
      "/usr/local/lib/python3.10/dist-packages/torch/nn/parallel/_functions.py:71: UserWarning: Was asked to gather along dimension 0, but all input tensors were scalars; will instead unsqueeze and return a vector.\n",
      "  warnings.warn(\n",
      "/usr/local/lib/python3.10/dist-packages/torch/nn/parallel/_functions.py:71: UserWarning: Was asked to gather along dimension 0, but all input tensors were scalars; will instead unsqueeze and return a vector.\n",
      "  warnings.warn(\n",
      "/usr/local/lib/python3.10/dist-packages/torch/nn/parallel/_functions.py:71: UserWarning: Was asked to gather along dimension 0, but all input tensors were scalars; will instead unsqueeze and return a vector.\n",
      "  warnings.warn(\n"
     ]
    },
    {
     "data": {
      "text/plain": [
       "TrainOutput(global_step=406, training_loss=0.048832890108512175, metrics={'train_runtime': 1661.2135, 'train_samples_per_second': 3.904, 'train_steps_per_second': 0.244, 'total_flos': 6044527245662208.0, 'train_loss': 0.048832890108512175, 'epoch': 1.0})"
      ]
     },
     "execution_count": 85,
     "metadata": {},
     "output_type": "execute_result"
    }
   ],
   "source": [
    "trainer.train()"
   ]
  },
  {
   "cell_type": "code",
   "execution_count": 70,
   "metadata": {
    "execution": {
     "iopub.execute_input": "2025-03-11T19:00:18.260466Z",
     "iopub.status.busy": "2025-03-11T19:00:18.260122Z",
     "iopub.status.idle": "2025-03-11T19:28:02.424230Z",
     "shell.execute_reply": "2025-03-11T19:28:02.423514Z",
     "shell.execute_reply.started": "2025-03-11T19:00:18.260441Z"
    },
    "trusted": true
   },
   "outputs": [
    {
     "name": "stderr",
     "output_type": "stream",
     "text": [
      "/usr/local/lib/python3.10/dist-packages/torch/nn/parallel/_functions.py:71: UserWarning: Was asked to gather along dimension 0, but all input tensors were scalars; will instead unsqueeze and return a vector.\n",
      "  warnings.warn(\n"
     ]
    },
    {
     "data": {
      "text/html": [
       "\n",
       "    <div>\n",
       "      \n",
       "      <progress value='406' max='406' style='width:300px; height:20px; vertical-align: middle;'></progress>\n",
       "      [406/406 27:40, Epoch 1/1]\n",
       "    </div>\n",
       "    <table border=\"1\" class=\"dataframe\">\n",
       "  <thead>\n",
       " <tr style=\"text-align: left;\">\n",
       "      <th>Step</th>\n",
       "      <th>Training Loss</th>\n",
       "      <th>Validation Loss</th>\n",
       "      <th>Accuracy</th>\n",
       "      <th>Precision</th>\n",
       "      <th>Recall</th>\n",
       "      <th>F1 Score</th>\n",
       "      <th>Gmean</th>\n",
       "    </tr>\n",
       "  </thead>\n",
       "  <tbody>\n",
       "    <tr>\n",
       "      <td>100</td>\n",
       "      <td>0.099600</td>\n",
       "      <td>0.303535</td>\n",
       "      <td>0.959540</td>\n",
       "      <td>0.960719</td>\n",
       "      <td>0.959540</td>\n",
       "      <td>0.959359</td>\n",
       "      <td>0.969676</td>\n",
       "    </tr>\n",
       "    <tr>\n",
       "      <td>200</td>\n",
       "      <td>0.045700</td>\n",
       "      <td>0.248404</td>\n",
       "      <td>0.958688</td>\n",
       "      <td>0.961505</td>\n",
       "      <td>0.958688</td>\n",
       "      <td>0.958663</td>\n",
       "      <td>0.969211</td>\n",
       "    </tr>\n",
       "    <tr>\n",
       "      <td>300</td>\n",
       "      <td>0.043700</td>\n",
       "      <td>0.171733</td>\n",
       "      <td>0.964225</td>\n",
       "      <td>0.965850</td>\n",
       "      <td>0.964225</td>\n",
       "      <td>0.963900</td>\n",
       "      <td>0.973400</td>\n",
       "    </tr>\n",
       "    <tr>\n",
       "      <td>400</td>\n",
       "      <td>0.018000</td>\n",
       "      <td>0.186670</td>\n",
       "      <td>0.959966</td>\n",
       "      <td>0.962769</td>\n",
       "      <td>0.959966</td>\n",
       "      <td>0.960065</td>\n",
       "      <td>0.970160</td>\n",
       "    </tr>\n",
       "  </tbody>\n",
       "</table><p>"
      ],
      "text/plain": [
       "<IPython.core.display.HTML object>"
      ]
     },
     "metadata": {},
     "output_type": "display_data"
    },
    {
     "name": "stderr",
     "output_type": "stream",
     "text": [
      "/usr/local/lib/python3.10/dist-packages/torch/nn/parallel/_functions.py:71: UserWarning: Was asked to gather along dimension 0, but all input tensors were scalars; will instead unsqueeze and return a vector.\n",
      "  warnings.warn(\n",
      "/usr/local/lib/python3.10/dist-packages/torch/nn/parallel/_functions.py:71: UserWarning: Was asked to gather along dimension 0, but all input tensors were scalars; will instead unsqueeze and return a vector.\n",
      "  warnings.warn(\n",
      "/usr/local/lib/python3.10/dist-packages/torch/nn/parallel/_functions.py:71: UserWarning: Was asked to gather along dimension 0, but all input tensors were scalars; will instead unsqueeze and return a vector.\n",
      "  warnings.warn(\n",
      "/usr/local/lib/python3.10/dist-packages/torch/nn/parallel/_functions.py:71: UserWarning: Was asked to gather along dimension 0, but all input tensors were scalars; will instead unsqueeze and return a vector.\n",
      "  warnings.warn(\n"
     ]
    },
    {
     "data": {
      "text/plain": [
       "TrainOutput(global_step=406, training_loss=0.051662018586849344, metrics={'train_runtime': 1663.3236, 'train_samples_per_second': 3.899, 'train_steps_per_second': 0.244, 'total_flos': 6044527245662208.0, 'train_loss': 0.051662018586849344, 'epoch': 1.0})"
      ]
     },
     "execution_count": 70,
     "metadata": {},
     "output_type": "execute_result"
    }
   ],
   "source": [
    "trainer.train()"
   ]
  },
  {
   "cell_type": "code",
   "execution_count": 33,
   "metadata": {
    "execution": {
     "iopub.execute_input": "2025-03-11T15:25:45.051452Z",
     "iopub.status.busy": "2025-03-11T15:25:45.051093Z",
     "iopub.status.idle": "2025-03-11T15:53:23.225224Z",
     "shell.execute_reply": "2025-03-11T15:53:23.224512Z",
     "shell.execute_reply.started": "2025-03-11T15:25:45.051421Z"
    },
    "trusted": true
   },
   "outputs": [
    {
     "name": "stderr",
     "output_type": "stream",
     "text": [
      "/usr/local/lib/python3.10/dist-packages/torch/nn/parallel/_functions.py:71: UserWarning: Was asked to gather along dimension 0, but all input tensors were scalars; will instead unsqueeze and return a vector.\n",
      "  warnings.warn(\n"
     ]
    },
    {
     "data": {
      "text/html": [
       "\n",
       "    <div>\n",
       "      \n",
       "      <progress value='406' max='406' style='width:300px; height:20px; vertical-align: middle;'></progress>\n",
       "      [406/406 27:33, Epoch 1/1]\n",
       "    </div>\n",
       "    <table border=\"1\" class=\"dataframe\">\n",
       "  <thead>\n",
       " <tr style=\"text-align: left;\">\n",
       "      <th>Step</th>\n",
       "      <th>Training Loss</th>\n",
       "      <th>Validation Loss</th>\n",
       "      <th>Accuracy</th>\n",
       "      <th>Precision</th>\n",
       "      <th>Recall</th>\n",
       "      <th>F1 Score</th>\n",
       "      <th>Gmean</th>\n",
       "    </tr>\n",
       "  </thead>\n",
       "  <tbody>\n",
       "    <tr>\n",
       "      <td>100</td>\n",
       "      <td>0.134500</td>\n",
       "      <td>0.347984</td>\n",
       "      <td>0.950596</td>\n",
       "      <td>0.951530</td>\n",
       "      <td>0.950596</td>\n",
       "      <td>0.950369</td>\n",
       "      <td>0.962905</td>\n",
       "    </tr>\n",
       "    <tr>\n",
       "      <td>200</td>\n",
       "      <td>0.027400</td>\n",
       "      <td>0.331316</td>\n",
       "      <td>0.952300</td>\n",
       "      <td>0.953408</td>\n",
       "      <td>0.952300</td>\n",
       "      <td>0.952303</td>\n",
       "      <td>0.964194</td>\n",
       "    </tr>\n",
       "    <tr>\n",
       "      <td>300</td>\n",
       "      <td>0.010100</td>\n",
       "      <td>0.307603</td>\n",
       "      <td>0.962947</td>\n",
       "      <td>0.962970</td>\n",
       "      <td>0.962947</td>\n",
       "      <td>0.962869</td>\n",
       "      <td>0.972110</td>\n",
       "    </tr>\n",
       "    <tr>\n",
       "      <td>400</td>\n",
       "      <td>0.031800</td>\n",
       "      <td>0.276054</td>\n",
       "      <td>0.966780</td>\n",
       "      <td>0.966882</td>\n",
       "      <td>0.966780</td>\n",
       "      <td>0.966762</td>\n",
       "      <td>0.974978</td>\n",
       "    </tr>\n",
       "  </tbody>\n",
       "</table><p>"
      ],
      "text/plain": [
       "<IPython.core.display.HTML object>"
      ]
     },
     "metadata": {},
     "output_type": "display_data"
    },
    {
     "name": "stderr",
     "output_type": "stream",
     "text": [
      "/usr/local/lib/python3.10/dist-packages/torch/nn/parallel/_functions.py:71: UserWarning: Was asked to gather along dimension 0, but all input tensors were scalars; will instead unsqueeze and return a vector.\n",
      "  warnings.warn(\n",
      "/usr/local/lib/python3.10/dist-packages/torch/nn/parallel/_functions.py:71: UserWarning: Was asked to gather along dimension 0, but all input tensors were scalars; will instead unsqueeze and return a vector.\n",
      "  warnings.warn(\n",
      "/usr/local/lib/python3.10/dist-packages/torch/nn/parallel/_functions.py:71: UserWarning: Was asked to gather along dimension 0, but all input tensors were scalars; will instead unsqueeze and return a vector.\n",
      "  warnings.warn(\n",
      "/usr/local/lib/python3.10/dist-packages/torch/nn/parallel/_functions.py:71: UserWarning: Was asked to gather along dimension 0, but all input tensors were scalars; will instead unsqueeze and return a vector.\n",
      "  warnings.warn(\n"
     ]
    },
    {
     "data": {
      "text/plain": [
       "TrainOutput(global_step=406, training_loss=0.05021810696891559, metrics={'train_runtime': 1657.8101, 'train_samples_per_second': 3.912, 'train_steps_per_second': 0.245, 'total_flos': 6044527245662208.0, 'train_loss': 0.05021810696891559, 'epoch': 1.0})"
      ]
     },
     "execution_count": 33,
     "metadata": {},
     "output_type": "execute_result"
    }
   ],
   "source": [
    "trainer.train()"
   ]
  },
  {
   "cell_type": "code",
   "execution_count": 87,
   "metadata": {
    "execution": {
     "iopub.execute_input": "2025-03-11T20:07:06.308637Z",
     "iopub.status.busy": "2025-03-11T20:07:06.308305Z",
     "iopub.status.idle": "2025-03-11T20:07:09.858016Z",
     "shell.execute_reply": "2025-03-11T20:07:09.857312Z",
     "shell.execute_reply.started": "2025-03-11T20:07:06.308606Z"
    },
    "trusted": true
   },
   "outputs": [],
   "source": [
    "trainer.save_model(\"roberta\")"
   ]
  },
  {
   "cell_type": "code",
   "execution_count": null,
   "metadata": {
    "execution": {
     "iopub.execute_input": "2025-03-11T15:54:13.966297Z",
     "iopub.status.busy": "2025-03-11T15:54:13.965895Z",
     "iopub.status.idle": "2025-03-11T15:54:14.206436Z",
     "shell.execute_reply": "2025-03-11T15:54:14.205773Z",
     "shell.execute_reply.started": "2025-03-11T15:54:13.966261Z"
    },
    "trusted": true
   },
   "outputs": [
    {
     "name": "stderr",
     "output_type": "stream",
     "text": [
      "/usr/local/lib/python3.10/dist-packages/huggingface_hub/utils/_deprecation.py:100: FutureWarning: Deprecated argument(s) used in 'login': write_permission. Will not be supported from version '1.0'.\n",
      "\n",
      "Fine-grained tokens added complexity to the permissions, making it irrelevant to check if a token has 'write' access.\n",
      "  warnings.warn(message, FutureWarning)\n",
      "Token has not been saved to git credential helper.\n"
     ]
    },
    {
     "name": "stdout",
     "output_type": "stream",
     "text": [
      "\u001b[1m\u001b[31mCannot authenticate through git-credential as no helper is defined on your machine.\n",
      "You might have to re-authenticate when pushing to the Hugging Face Hub.\n",
      "Run the following command in your terminal in case you want to set the 'store' credential helper as default.\n",
      "\n",
      "git config --global credential.helper store\n",
      "\n",
      "Read https://git-scm.com/book/en/v2/Git-Tools-Credential-Storage for more details.\u001b[0m\n"
     ]
    }
   ],
   "source": [
    "# uploading to HuggingFace \n",
    "from huggingface_hub import login\n",
    "\n",
    "login(new_session=False, # Won’t request token if one is already saved on machine\n",
    "write_permission=True, # Requires a token with write permission\n",
    "token=\"\", # The name of your token\n",
    "add_to_git_credential=True)"
   ]
  },
  {
   "cell_type": "code",
   "execution_count": 88,
   "metadata": {
    "execution": {
     "iopub.execute_input": "2025-03-11T20:07:16.852691Z",
     "iopub.status.busy": "2025-03-11T20:07:16.852227Z",
     "iopub.status.idle": "2025-03-11T20:08:04.641006Z",
     "shell.execute_reply": "2025-03-11T20:08:04.640104Z",
     "shell.execute_reply.started": "2025-03-11T20:07:16.852646Z"
    },
    "trusted": true
   },
   "outputs": [
    {
     "data": {
      "application/vnd.jupyter.widget-view+json": {
       "model_id": "5d4009774a12443f82329c7f484cab6c",
       "version_major": 2,
       "version_minor": 0
      },
      "text/plain": [
       "training_args.bin:   0%|          | 0.00/5.30k [00:00<?, ?B/s]"
      ]
     },
     "metadata": {},
     "output_type": "display_data"
    },
    {
     "data": {
      "application/vnd.jupyter.widget-view+json": {
       "model_id": "fd54e8f40e024c90b0e0c1986966d398",
       "version_major": 2,
       "version_minor": 0
      },
      "text/plain": [
       "model.safetensors:   0%|          | 0.00/1.42G [00:00<?, ?B/s]"
      ]
     },
     "metadata": {},
     "output_type": "display_data"
    },
    {
     "data": {
      "application/vnd.jupyter.widget-view+json": {
       "model_id": "8b9c532194924c2a82bbc538ffc78ca9",
       "version_major": 2,
       "version_minor": 0
      },
      "text/plain": [
       "Upload 2 LFS files:   0%|          | 0/2 [00:00<?, ?it/s]"
      ]
     },
     "metadata": {},
     "output_type": "display_data"
    },
    {
     "data": {
      "text/plain": [
       "CommitInfo(commit_url='https://huggingface.co/ConditionalNLI/Exp5_roberta-large-mnli/commit/4091ef04ed668debdf54e2bcc5c785af5fb23a6f', commit_message='Run 3', commit_description='', oid='4091ef04ed668debdf54e2bcc5c785af5fb23a6f', pr_url=None, repo_url=RepoUrl('https://huggingface.co/ConditionalNLI/Exp5_roberta-large-mnli', endpoint='https://huggingface.co', repo_type='model', repo_id='ConditionalNLI/Exp5_roberta-large-mnli'), pr_revision=None, pr_num=None)"
      ]
     },
     "execution_count": 88,
     "metadata": {},
     "output_type": "execute_result"
    }
   ],
   "source": [
    "from huggingface_hub import HfApi\n",
    "api = HfApi()\n",
    "\n",
    "# Upload all the content from the local folder to your remote Space.\n",
    "# By default, files are uploaded at the root of the repo\n",
    "api.upload_folder(\n",
    "    folder_path='/kaggle/working/roberta',\n",
    "    repo_id=\"ConditionalNLI/Exp5_roberta-large-mnli\",\n",
    "    commit_message=\"Run 3\"\n",
    ")"
   ]
  },
  {
   "cell_type": "markdown",
   "metadata": {},
   "source": [
    "### Inferencing"
   ]
  },
  {
   "cell_type": "code",
   "execution_count": 89,
   "metadata": {
    "execution": {
     "iopub.execute_input": "2025-03-11T20:08:10.526035Z",
     "iopub.status.busy": "2025-03-11T20:08:10.525740Z",
     "iopub.status.idle": "2025-03-11T20:08:10.530028Z",
     "shell.execute_reply": "2025-03-11T20:08:10.528972Z",
     "shell.execute_reply.started": "2025-03-11T20:08:10.526011Z"
    },
    "trusted": true
   },
   "outputs": [],
   "source": [
    "from transformers import pipeline\n",
    "from datasets import load_dataset, Dataset\n",
    "from transformers.pipelines.pt_utils import KeyDataset, KeyPairDataset\n",
    "import torch"
   ]
  },
  {
   "cell_type": "code",
   "execution_count": 90,
   "metadata": {
    "execution": {
     "iopub.execute_input": "2025-03-11T20:08:14.188147Z",
     "iopub.status.busy": "2025-03-11T20:08:14.187820Z",
     "iopub.status.idle": "2025-03-11T20:08:14.193415Z",
     "shell.execute_reply": "2025-03-11T20:08:14.192477Z",
     "shell.execute_reply.started": "2025-03-11T20:08:14.188115Z"
    },
    "trusted": true
   },
   "outputs": [
    {
     "name": "stdout",
     "output_type": "stream",
     "text": [
      "GPU is available!\n"
     ]
    }
   ],
   "source": [
    "if torch.cuda.is_available():\n",
    "    print(\"GPU is available!\")\n",
    "    device = torch.device(\"cuda\")\n",
    "else:\n",
    "    print(\"GPU is not available, using CPU\")\n",
    "    device = torch.device(\"cpu\")"
   ]
  },
  {
   "cell_type": "code",
   "execution_count": 91,
   "metadata": {
    "execution": {
     "iopub.execute_input": "2025-03-11T20:08:30.180818Z",
     "iopub.status.busy": "2025-03-11T20:08:30.180520Z",
     "iopub.status.idle": "2025-03-11T20:08:49.709195Z",
     "shell.execute_reply": "2025-03-11T20:08:49.708510Z",
     "shell.execute_reply.started": "2025-03-11T20:08:30.180794Z"
    },
    "trusted": true
   },
   "outputs": [
    {
     "data": {
      "application/vnd.jupyter.widget-view+json": {
       "model_id": "db4c9a28b30f44448a25f20162ffb17b",
       "version_major": 2,
       "version_minor": 0
      },
      "text/plain": [
       "model.safetensors:   0%|          | 0.00/1.42G [00:00<?, ?B/s]"
      ]
     },
     "metadata": {},
     "output_type": "display_data"
    }
   ],
   "source": [
    "# loading model\n",
    "model = AutoModelForSequenceClassification.from_pretrained('ConditionalNLI/Exp5_roberta-large-mnli',num_labels=3).to(device)"
   ]
  },
  {
   "cell_type": "code",
   "execution_count": 92,
   "metadata": {
    "execution": {
     "iopub.execute_input": "2025-03-11T20:09:21.158988Z",
     "iopub.status.busy": "2025-03-11T20:09:21.158693Z",
     "iopub.status.idle": "2025-03-11T20:09:21.170982Z",
     "shell.execute_reply": "2025-03-11T20:09:21.170060Z",
     "shell.execute_reply.started": "2025-03-11T20:09:21.158966Z"
    },
    "trusted": true
   },
   "outputs": [
    {
     "name": "stderr",
     "output_type": "stream",
     "text": [
      "Device set to use cuda\n"
     ]
    }
   ],
   "source": [
    "gen = pipeline('text-classification', model=model, tokenizer=tokenizer, device=device)"
   ]
  },
  {
   "cell_type": "code",
   "execution_count": 93,
   "metadata": {
    "execution": {
     "iopub.execute_input": "2025-03-11T20:09:27.992610Z",
     "iopub.status.busy": "2025-03-11T20:09:27.992282Z",
     "iopub.status.idle": "2025-03-11T20:10:05.229851Z",
     "shell.execute_reply": "2025-03-11T20:10:05.228993Z",
     "shell.execute_reply.started": "2025-03-11T20:09:27.992579Z"
    },
    "trusted": true
   },
   "outputs": [
    {
     "name": "stdout",
     "output_type": "stream",
     "text": [
      "0\n",
      "100\n",
      "200\n",
      "300\n",
      "400\n",
      "500\n",
      "600\n",
      "700\n",
      "800\n",
      "900\n",
      "1000\n",
      "1100\n",
      "1200\n",
      "1300\n",
      "1400\n",
      "1500\n",
      "1600\n",
      "1700\n",
      "1800\n",
      "1900\n",
      "2000\n",
      "2100\n",
      "2200\n",
      "2300\n"
     ]
    },
    {
     "data": {
      "text/plain": [
       "2367"
      ]
     },
     "execution_count": 93,
     "metadata": {},
     "output_type": "execute_result"
    }
   ],
   "source": [
    "id_num = 0\n",
    "test_results = pd.DataFrame(columns = ['id', 'premise', 'hypothesis', 'type', 'expected_label', 'predicted_label'])\n",
    "\n",
    "for predicted in gen(KeyPairDataset(test_ds,'premise', 'hypothesis'), batch_size=8, truncation=True):\n",
    "    if id_num % 100 == 0:\n",
    "        print(id_num)\n",
    "    test_results.loc[id_num] = [str(id_num), test_ds['premise'][id_num], test_ds['hypothesis'][id_num], test_ds['type'][id_num], test_ds['label'][id_num], predicted['label']]\n",
    "    id_num += 1\n",
    "\n",
    "len(test_results)"
   ]
  },
  {
   "cell_type": "code",
   "execution_count": 39,
   "metadata": {
    "execution": {
     "iopub.execute_input": "2025-02-02T22:11:44.054862Z",
     "iopub.status.busy": "2025-02-02T22:11:44.054572Z",
     "iopub.status.idle": "2025-02-02T22:11:44.066242Z",
     "shell.execute_reply": "2025-02-02T22:11:44.065498Z",
     "shell.execute_reply.started": "2025-02-02T22:11:44.054841Z"
    },
    "trusted": true
   },
   "outputs": [
    {
     "data": {
      "text/html": [
       "<div>\n",
       "<style scoped>\n",
       "    .dataframe tbody tr th:only-of-type {\n",
       "        vertical-align: middle;\n",
       "    }\n",
       "\n",
       "    .dataframe tbody tr th {\n",
       "        vertical-align: top;\n",
       "    }\n",
       "\n",
       "    .dataframe thead th {\n",
       "        text-align: right;\n",
       "    }\n",
       "</style>\n",
       "<table border=\"1\" class=\"dataframe\">\n",
       "  <thead>\n",
       "    <tr style=\"text-align: right;\">\n",
       "      <th></th>\n",
       "      <th>id</th>\n",
       "      <th>premise</th>\n",
       "      <th>hypothesis</th>\n",
       "      <th>type</th>\n",
       "      <th>expected_label</th>\n",
       "      <th>predicted_label</th>\n",
       "    </tr>\n",
       "  </thead>\n",
       "  <tbody>\n",
       "    <tr>\n",
       "      <th>0</th>\n",
       "      <td>0</td>\n",
       "      <td>If Jessica attends the conference, her colleague will meet her at the hotel.</td>\n",
       "      <td>Jessica has a colleague.</td>\n",
       "      <td>type5_possessive</td>\n",
       "      <td>ENTAILMENT</td>\n",
       "      <td>ENTAILMENT</td>\n",
       "    </tr>\n",
       "    <tr>\n",
       "      <th>1</th>\n",
       "      <td>1</td>\n",
       "      <td>It's not the case that if Jessica attends the conference, her colleague will meet her at the hotel.</td>\n",
       "      <td>Jessica has a colleague.</td>\n",
       "      <td>type5_possessive</td>\n",
       "      <td>ENTAILMENT</td>\n",
       "      <td>ENTAILMENT</td>\n",
       "    </tr>\n",
       "    <tr>\n",
       "      <th>2</th>\n",
       "      <td>2</td>\n",
       "      <td>Sam believes that if Jessica attends the conference, her colleague will meet her at the hotel.</td>\n",
       "      <td>Jessica has a colleague.</td>\n",
       "      <td>type5_possessive</td>\n",
       "      <td>ENTAILMENT</td>\n",
       "      <td>ENTAILMENT</td>\n",
       "    </tr>\n",
       "    <tr>\n",
       "      <th>3</th>\n",
       "      <td>3</td>\n",
       "      <td>Is it true that if Jessica attends the conference, her colleague will meet her at the hotel?</td>\n",
       "      <td>Jessica has a colleague.</td>\n",
       "      <td>type5_possessive</td>\n",
       "      <td>ENTAILMENT</td>\n",
       "      <td>ENTAILMENT</td>\n",
       "    </tr>\n",
       "    <tr>\n",
       "      <th>4</th>\n",
       "      <td>4</td>\n",
       "      <td>If Mia's car breaks down, her coworker will give her a ride to the office.</td>\n",
       "      <td>Mia has a coworker.</td>\n",
       "      <td>type5_possessive</td>\n",
       "      <td>ENTAILMENT</td>\n",
       "      <td>ENTAILMENT</td>\n",
       "    </tr>\n",
       "    <tr>\n",
       "      <th>...</th>\n",
       "      <td>...</td>\n",
       "      <td>...</td>\n",
       "      <td>...</td>\n",
       "      <td>...</td>\n",
       "      <td>...</td>\n",
       "      <td>...</td>\n",
       "    </tr>\n",
       "    <tr>\n",
       "      <th>2163</th>\n",
       "      <td>2163</td>\n",
       "      <td>If Andrew arrives early, he'll never express a deep conviction again.</td>\n",
       "      <td>Andrew has not expressed a deep conviction before.</td>\n",
       "      <td>type5_possessive</td>\n",
       "      <td>CONTRADICTION</td>\n",
       "      <td>CONTRADICTION</td>\n",
       "    </tr>\n",
       "    <tr>\n",
       "      <th>2164</th>\n",
       "      <td>2164</td>\n",
       "      <td>If Barbara finishes her project on time, she'll never enhance a backyard again.</td>\n",
       "      <td>Barbara has not enhanced a backyard before.</td>\n",
       "      <td>type5_possessive</td>\n",
       "      <td>CONTRADICTION</td>\n",
       "      <td>CONTRADICTION</td>\n",
       "    </tr>\n",
       "    <tr>\n",
       "      <th>2165</th>\n",
       "      <td>2165</td>\n",
       "      <td>If Andrew travels to London, he'll never raise a toast to celebrate his birthday again.</td>\n",
       "      <td>Andrew has not raised a toast to celebrate his birthday before.</td>\n",
       "      <td>type5_possessive</td>\n",
       "      <td>CONTRADICTION</td>\n",
       "      <td>CONTRADICTION</td>\n",
       "    </tr>\n",
       "    <tr>\n",
       "      <th>2166</th>\n",
       "      <td>2166</td>\n",
       "      <td>If Dorothy's car breaks down, she'll never obtain a job position again.</td>\n",
       "      <td>Dorothy has not obtained a job position before.</td>\n",
       "      <td>type5_possessive</td>\n",
       "      <td>CONTRADICTION</td>\n",
       "      <td>CONTRADICTION</td>\n",
       "    </tr>\n",
       "    <tr>\n",
       "      <th>2167</th>\n",
       "      <td>2167</td>\n",
       "      <td>If Susan finishes her work early, she'll never convey a confidential message again.</td>\n",
       "      <td>Susan has not conveyed a confidential message before.</td>\n",
       "      <td>type5_possessive</td>\n",
       "      <td>CONTRADICTION</td>\n",
       "      <td>CONTRADICTION</td>\n",
       "    </tr>\n",
       "  </tbody>\n",
       "</table>\n",
       "<p>2168 rows × 6 columns</p>\n",
       "</div>"
      ],
      "text/plain": [
       "        id  \\\n",
       "0        0   \n",
       "1        1   \n",
       "2        2   \n",
       "3        3   \n",
       "4        4   \n",
       "...    ...   \n",
       "2163  2163   \n",
       "2164  2164   \n",
       "2165  2165   \n",
       "2166  2166   \n",
       "2167  2167   \n",
       "\n",
       "                                                                                                  premise  \\\n",
       "0                            If Jessica attends the conference, her colleague will meet her at the hotel.   \n",
       "1     It's not the case that if Jessica attends the conference, her colleague will meet her at the hotel.   \n",
       "2          Sam believes that if Jessica attends the conference, her colleague will meet her at the hotel.   \n",
       "3            Is it true that if Jessica attends the conference, her colleague will meet her at the hotel?   \n",
       "4                              If Mia's car breaks down, her coworker will give her a ride to the office.   \n",
       "...                                                                                                   ...   \n",
       "2163                                If Andrew arrives early, he'll never express a deep conviction again.   \n",
       "2164                      If Barbara finishes her project on time, she'll never enhance a backyard again.   \n",
       "2165              If Andrew travels to London, he'll never raise a toast to celebrate his birthday again.   \n",
       "2166                              If Dorothy's car breaks down, she'll never obtain a job position again.   \n",
       "2167                  If Susan finishes her work early, she'll never convey a confidential message again.   \n",
       "\n",
       "                                                           hypothesis  \\\n",
       "0                                            Jessica has a colleague.   \n",
       "1                                            Jessica has a colleague.   \n",
       "2                                            Jessica has a colleague.   \n",
       "3                                            Jessica has a colleague.   \n",
       "4                                                 Mia has a coworker.   \n",
       "...                                                               ...   \n",
       "2163               Andrew has not expressed a deep conviction before.   \n",
       "2164                      Barbara has not enhanced a backyard before.   \n",
       "2165  Andrew has not raised a toast to celebrate his birthday before.   \n",
       "2166                  Dorothy has not obtained a job position before.   \n",
       "2167            Susan has not conveyed a confidential message before.   \n",
       "\n",
       "                  type expected_label predicted_label  \n",
       "0     type5_possessive     ENTAILMENT      ENTAILMENT  \n",
       "1     type5_possessive     ENTAILMENT      ENTAILMENT  \n",
       "2     type5_possessive     ENTAILMENT      ENTAILMENT  \n",
       "3     type5_possessive     ENTAILMENT      ENTAILMENT  \n",
       "4     type5_possessive     ENTAILMENT      ENTAILMENT  \n",
       "...                ...            ...             ...  \n",
       "2163  type5_possessive  CONTRADICTION   CONTRADICTION  \n",
       "2164  type5_possessive  CONTRADICTION   CONTRADICTION  \n",
       "2165  type5_possessive  CONTRADICTION   CONTRADICTION  \n",
       "2166  type5_possessive  CONTRADICTION   CONTRADICTION  \n",
       "2167  type5_possessive  CONTRADICTION   CONTRADICTION  \n",
       "\n",
       "[2168 rows x 6 columns]"
      ]
     },
     "execution_count": 39,
     "metadata": {},
     "output_type": "execute_result"
    }
   ],
   "source": [
    "test_results"
   ]
  },
  {
   "cell_type": "code",
   "execution_count": 94,
   "metadata": {
    "execution": {
     "iopub.execute_input": "2025-03-11T20:10:23.158104Z",
     "iopub.status.busy": "2025-03-11T20:10:23.157790Z",
     "iopub.status.idle": "2025-03-11T20:10:23.175334Z",
     "shell.execute_reply": "2025-03-11T20:10:23.174715Z",
     "shell.execute_reply.started": "2025-03-11T20:10:23.158074Z"
    },
    "trusted": true
   },
   "outputs": [],
   "source": [
    "test_results.to_csv('exp5-roberta_test_results_run3.csv')"
   ]
  },
  {
   "cell_type": "code",
   "execution_count": 95,
   "metadata": {
    "execution": {
     "iopub.execute_input": "2025-03-11T20:10:27.403931Z",
     "iopub.status.busy": "2025-03-11T20:10:27.403653Z",
     "iopub.status.idle": "2025-03-11T20:10:27.407701Z",
     "shell.execute_reply": "2025-03-11T20:10:27.406751Z",
     "shell.execute_reply.started": "2025-03-11T20:10:27.403910Z"
    },
    "trusted": true
   },
   "outputs": [],
   "source": [
    "from sklearn.metrics import confusion_matrix, classification_report\n",
    "import seaborn as sns\n",
    "import matplotlib.pyplot as plt"
   ]
  },
  {
   "cell_type": "code",
   "execution_count": 96,
   "metadata": {
    "execution": {
     "iopub.execute_input": "2025-03-11T20:10:33.039609Z",
     "iopub.status.busy": "2025-03-11T20:10:33.039313Z",
     "iopub.status.idle": "2025-03-11T20:10:33.254907Z",
     "shell.execute_reply": "2025-03-11T20:10:33.254094Z",
     "shell.execute_reply.started": "2025-03-11T20:10:33.039586Z"
    },
    "trusted": true
   },
   "outputs": [
    {
     "data": {
      "image/png": "[encoded data removed]",
      "text/plain": [
       "<Figure size 800x600 with 2 Axes>"
      ]
     },
     "metadata": {},
     "output_type": "display_data"
    }
   ],
   "source": [
    "# Create the testing confusion matrix\n",
    "cm = confusion_matrix(test_results['expected_label'], test_results['predicted_label'])\n",
    "\n",
    "# Visualize the confusion matrix\n",
    "plt.figure(figsize=(8, 6))\n",
    "sns.heatmap(cm, annot=True, fmt=\"d\",cmap=\"Blues\")\n",
    "plt.xlabel(\"Predicted Label\")\n",
    "plt.ylabel(\"True Label\")\n",
    "plt.title(\"Confusion Matrix\")\n",
    "plt.show()"
   ]
  },
  {
   "cell_type": "code",
   "execution_count": 98,
   "metadata": {
    "execution": {
     "iopub.execute_input": "2025-03-11T20:12:10.501806Z",
     "iopub.status.busy": "2025-03-11T20:12:10.501499Z",
     "iopub.status.idle": "2025-03-11T20:12:10.573651Z",
     "shell.execute_reply": "2025-03-11T20:12:10.572933Z",
     "shell.execute_reply.started": "2025-03-11T20:12:10.501780Z"
    },
    "trusted": true
   },
   "outputs": [
    {
     "data": {
      "text/html": [
       "<div>\n",
       "<style scoped>\n",
       "    .dataframe tbody tr th:only-of-type {\n",
       "        vertical-align: middle;\n",
       "    }\n",
       "\n",
       "    .dataframe tbody tr th {\n",
       "        vertical-align: top;\n",
       "    }\n",
       "\n",
       "    .dataframe thead th {\n",
       "        text-align: right;\n",
       "    }\n",
       "</style>\n",
       "<table border=\"1\" class=\"dataframe\">\n",
       "  <thead>\n",
       "    <tr style=\"text-align: right;\">\n",
       "      <th>label</th>\n",
       "      <th>precision</th>\n",
       "      <th>recall</th>\n",
       "      <th>f1-score</th>\n",
       "      <th>support</th>\n",
       "    </tr>\n",
       "  </thead>\n",
       "  <tbody>\n",
       "    <tr>\n",
       "      <th>CONTRADICTION</th>\n",
       "      <td>0.951372</td>\n",
       "      <td>0.993490</td>\n",
       "      <td>0.971975</td>\n",
       "      <td>768.000000</td>\n",
       "    </tr>\n",
       "    <tr>\n",
       "      <th>ENTAILMENT</th>\n",
       "      <td>0.981767</td>\n",
       "      <td>0.972222</td>\n",
       "      <td>0.976971</td>\n",
       "      <td>720.000000</td>\n",
       "    </tr>\n",
       "    <tr>\n",
       "      <th>NEUTRAL</th>\n",
       "      <td>0.971831</td>\n",
       "      <td>0.941980</td>\n",
       "      <td>0.956672</td>\n",
       "      <td>879.000000</td>\n",
       "    </tr>\n",
       "    <tr>\n",
       "      <th>accuracy</th>\n",
       "      <td>0.967892</td>\n",
       "      <td>0.967892</td>\n",
       "      <td>0.967892</td>\n",
       "      <td>0.967892</td>\n",
       "    </tr>\n",
       "    <tr>\n",
       "      <th>macro avg</th>\n",
       "      <td>0.968323</td>\n",
       "      <td>0.969230</td>\n",
       "      <td>0.968539</td>\n",
       "      <td>2367.000000</td>\n",
       "    </tr>\n",
       "    <tr>\n",
       "      <th>weighted avg</th>\n",
       "      <td>0.968215</td>\n",
       "      <td>0.967892</td>\n",
       "      <td>0.967812</td>\n",
       "      <td>2367.000000</td>\n",
       "    </tr>\n",
       "  </tbody>\n",
       "</table>\n",
       "</div>"
      ],
      "text/plain": [
       "label          precision    recall  f1-score      support\n",
       "CONTRADICTION   0.951372  0.993490  0.971975   768.000000\n",
       "ENTAILMENT      0.981767  0.972222  0.976971   720.000000\n",
       "NEUTRAL         0.971831  0.941980  0.956672   879.000000\n",
       "accuracy        0.967892  0.967892  0.967892     0.967892\n",
       "macro avg       0.968323  0.969230  0.968539  2367.000000\n",
       "weighted avg    0.968215  0.967892  0.967812  2367.000000"
      ]
     },
     "execution_count": 98,
     "metadata": {},
     "output_type": "execute_result"
    }
   ],
   "source": [
    "report_dict = classification_report(test_results['expected_label'], test_results['predicted_label'], output_dict=True)\n",
    "report_df = pd.DataFrame(report_dict).transpose() \n",
    "report_df.columns.name = 'label'\n",
    "report_df"
   ]
  },
  {
   "cell_type": "code",
   "execution_count": 99,
   "metadata": {
    "execution": {
     "iopub.execute_input": "2025-03-11T20:12:32.129440Z",
     "iopub.status.busy": "2025-03-11T20:12:32.129111Z",
     "iopub.status.idle": "2025-03-11T20:12:32.221542Z",
     "shell.execute_reply": "2025-03-11T20:12:32.220648Z",
     "shell.execute_reply.started": "2025-03-11T20:12:32.129412Z"
    },
    "trusted": true
   },
   "outputs": [
    {
     "name": "stderr",
     "output_type": "stream",
     "text": [
      "/usr/local/lib/python3.10/dist-packages/sklearn/metrics/_classification.py:1344: UndefinedMetricWarning: Precision is ill-defined and being set to 0.0 in labels with no predicted samples. Use `zero_division` parameter to control this behavior.\n",
      "  _warn_prf(average, modifier, msg_start, len(result))\n",
      "/usr/local/lib/python3.10/dist-packages/sklearn/metrics/_classification.py:1344: UndefinedMetricWarning: Recall is ill-defined and being set to 0.0 in labels with no true samples. Use `zero_division` parameter to control this behavior.\n",
      "  _warn_prf(average, modifier, msg_start, len(result))\n",
      "/usr/local/lib/python3.10/dist-packages/sklearn/metrics/_classification.py:1344: UndefinedMetricWarning: Recall is ill-defined and being set to 0.0 in labels with no true samples. Use `zero_division` parameter to control this behavior.\n",
      "  _warn_prf(average, modifier, msg_start, len(result))\n",
      "<ipython-input-99-823762390d06>:1: DeprecationWarning: DataFrameGroupBy.apply operated on the grouping columns. This behavior is deprecated, and in a future version of pandas the grouping columns will be excluded from the operation. Either pass `include_groups=False` to exclude the groupings or explicitly select the grouping columns after groupby to silence this warning.\n",
      "  metrics_by_type = test_results.groupby('type').apply(compute_metrics_by_type).reset_index()\n"
     ]
    },
    {
     "data": {
      "text/html": [
       "<div>\n",
       "<style scoped>\n",
       "    .dataframe tbody tr th:only-of-type {\n",
       "        vertical-align: middle;\n",
       "    }\n",
       "\n",
       "    .dataframe tbody tr th {\n",
       "        vertical-align: top;\n",
       "    }\n",
       "\n",
       "    .dataframe thead th {\n",
       "        text-align: right;\n",
       "    }\n",
       "</style>\n",
       "<table border=\"1\" class=\"dataframe\">\n",
       "  <thead>\n",
       "    <tr style=\"text-align: right;\">\n",
       "      <th>ID</th>\n",
       "      <th>type</th>\n",
       "      <th>accuracy</th>\n",
       "      <th>precision</th>\n",
       "      <th>recall</th>\n",
       "      <th>f1_score</th>\n",
       "    </tr>\n",
       "  </thead>\n",
       "  <tbody>\n",
       "    <tr>\n",
       "      <th>0</th>\n",
       "      <td>type1_again</td>\n",
       "      <td>0.99</td>\n",
       "      <td>0.99</td>\n",
       "      <td>0.99</td>\n",
       "      <td>0.99</td>\n",
       "    </tr>\n",
       "    <tr>\n",
       "      <th>1</th>\n",
       "      <td>type1_possessive</td>\n",
       "      <td>0.90</td>\n",
       "      <td>0.91</td>\n",
       "      <td>0.90</td>\n",
       "      <td>0.90</td>\n",
       "    </tr>\n",
       "    <tr>\n",
       "      <th>2</th>\n",
       "      <td>type2_again</td>\n",
       "      <td>1.00</td>\n",
       "      <td>1.00</td>\n",
       "      <td>1.00</td>\n",
       "      <td>1.00</td>\n",
       "    </tr>\n",
       "    <tr>\n",
       "      <th>3</th>\n",
       "      <td>type2_possessive</td>\n",
       "      <td>0.99</td>\n",
       "      <td>0.99</td>\n",
       "      <td>0.99</td>\n",
       "      <td>0.99</td>\n",
       "    </tr>\n",
       "    <tr>\n",
       "      <th>4</th>\n",
       "      <td>type3_again</td>\n",
       "      <td>0.92</td>\n",
       "      <td>1.00</td>\n",
       "      <td>0.92</td>\n",
       "      <td>0.96</td>\n",
       "    </tr>\n",
       "    <tr>\n",
       "      <th>5</th>\n",
       "      <td>type3_possessive</td>\n",
       "      <td>1.00</td>\n",
       "      <td>1.00</td>\n",
       "      <td>1.00</td>\n",
       "      <td>1.00</td>\n",
       "    </tr>\n",
       "    <tr>\n",
       "      <th>6</th>\n",
       "      <td>type4_possessive</td>\n",
       "      <td>0.98</td>\n",
       "      <td>0.99</td>\n",
       "      <td>0.98</td>\n",
       "      <td>0.98</td>\n",
       "    </tr>\n",
       "    <tr>\n",
       "      <th>7</th>\n",
       "      <td>type5_again</td>\n",
       "      <td>0.95</td>\n",
       "      <td>1.00</td>\n",
       "      <td>0.95</td>\n",
       "      <td>0.96</td>\n",
       "    </tr>\n",
       "    <tr>\n",
       "      <th>8</th>\n",
       "      <td>type5_possessive</td>\n",
       "      <td>0.97</td>\n",
       "      <td>0.98</td>\n",
       "      <td>0.97</td>\n",
       "      <td>0.97</td>\n",
       "    </tr>\n",
       "  </tbody>\n",
       "</table>\n",
       "</div>"
      ],
      "text/plain": [
       "ID              type  accuracy  precision  recall  f1_score\n",
       "0        type1_again      0.99       0.99    0.99      0.99\n",
       "1   type1_possessive      0.90       0.91    0.90      0.90\n",
       "2        type2_again      1.00       1.00    1.00      1.00\n",
       "3   type2_possessive      0.99       0.99    0.99      0.99\n",
       "4        type3_again      0.92       1.00    0.92      0.96\n",
       "5   type3_possessive      1.00       1.00    1.00      1.00\n",
       "6   type4_possessive      0.98       0.99    0.98      0.98\n",
       "7        type5_again      0.95       1.00    0.95      0.96\n",
       "8   type5_possessive      0.97       0.98    0.97      0.97"
      ]
     },
     "execution_count": 99,
     "metadata": {},
     "output_type": "execute_result"
    }
   ],
   "source": [
    "metrics_by_type = test_results.groupby('type').apply(compute_metrics_by_type).reset_index()\n",
    "metrics_by_type.columns.name = 'ID'\n",
    "metrics_by_type"
   ]
  }
 ],
 "metadata": {
  "kaggle": {
   "accelerator": "nvidiaTeslaT4",
   "dataSources": [
    {
     "datasetId": 6568489,
     "sourceId": 10680118,
     "sourceType": "datasetVersion"
    }
   ],
   "dockerImageVersionId": 30840,
   "isGpuEnabled": true,
   "isInternetEnabled": true,
   "language": "python",
   "sourceType": "notebook"
  },
  "kernelspec": {
   "display_name": "Python 3",
   "language": "python",
   "name": "python3"
  },
  "language_info": {
   "codemirror_mode": {
    "name": "ipython",
    "version": 3
   },
   "file_extension": ".py",
   "mimetype": "text/x-python",
   "name": "python",
   "nbconvert_exporter": "python",
   "pygments_lexer": "ipython3",
   "version": "3.10.12"
  }
 },
 "nbformat": 4,
 "nbformat_minor": 4
}
