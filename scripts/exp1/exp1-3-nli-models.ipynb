{
 "cells": [
  {
   "cell_type": "code",
   "execution_count": 1,
   "metadata": {
    "_cell_guid": "b1076dfc-b9ad-4769-8c92-a6c4dae69d19",
    "_uuid": "8f2839f25d086af736a60e9eeb907d3b93b6e0e5",
    "execution": {
     "iopub.execute_input": "2025-03-11T22:27:10.469049Z",
     "iopub.status.busy": "2025-03-11T22:27:10.468805Z",
     "iopub.status.idle": "2025-03-11T22:27:33.670427Z",
     "shell.execute_reply": "2025-03-11T22:27:33.669527Z",
     "shell.execute_reply.started": "2025-03-11T22:27:10.468999Z"
    },
    "trusted": true
   },
   "outputs": [],
   "source": [
    "import random\n",
    "import numpy as np # linear algebra\n",
    "import pandas as pd # data processing, CSV file I/O (e.g. pd.read_csv)\n",
    "import accelerate\n",
    "from transformers import TrainingArguments, Trainer, AutoTokenizer, AutoModelForSequenceClassification, DataCollatorWithPadding\n",
    "from datasets import load_dataset, Dataset\n",
    "from sklearn.model_selection import train_test_split\n",
    "from sklearn.metrics import confusion_matrix, ConfusionMatrixDisplay, precision_score, recall_score, f1_score\n",
    "from imblearn.metrics import geometric_mean_score"
   ]
  },
  {
   "cell_type": "markdown",
   "metadata": {},
   "source": [
    "# Data"
   ]
  },
  {
   "cell_type": "code",
   "execution_count": 2,
   "metadata": {
    "execution": {
     "iopub.execute_input": "2025-03-11T17:53:11.905787Z",
     "iopub.status.busy": "2025-03-11T17:53:11.905061Z",
     "iopub.status.idle": "2025-03-11T17:53:15.622809Z",
     "shell.execute_reply": "2025-03-11T17:53:15.622114Z",
     "shell.execute_reply.started": "2025-03-11T17:53:11.905733Z"
    },
    "trusted": true
   },
   "outputs": [
    {
     "data": {
      "application/vnd.jupyter.widget-view+json": {
       "model_id": "f0af58fa66974a06af172c35150c5730",
       "version_major": 2,
       "version_minor": 0
      },
      "text/plain": [
       "README.md:   0%|          | 0.00/419 [00:00<?, ?B/s]"
      ]
     },
     "metadata": {},
     "output_type": "display_data"
    },
    {
     "name": "stderr",
     "output_type": "stream",
     "text": [
      "Repo card metadata block was not found. Setting CardData to empty.\n"
     ]
    },
    {
     "data": {
      "application/vnd.jupyter.widget-view+json": {
       "model_id": "a74ab73a01f747a394cdac63b67628fa",
       "version_major": 2,
       "version_minor": 0
      },
      "text/plain": [
       "nli_corpus.train.jsonl:   0%|          | 0.00/2.40M [00:00<?, ?B/s]"
      ]
     },
     "metadata": {},
     "output_type": "display_data"
    },
    {
     "data": {
      "application/vnd.jupyter.widget-view+json": {
       "model_id": "8288f3a8b6dc43eb95df298ebfdd5ad3",
       "version_major": 2,
       "version_minor": 0
      },
      "text/plain": [
       "nli_corpus.eval.jsonl:   0%|          | 0.00/350k [00:00<?, ?B/s]"
      ]
     },
     "metadata": {},
     "output_type": "display_data"
    },
    {
     "data": {
      "application/vnd.jupyter.widget-view+json": {
       "model_id": "1e432b64a4214e6ea1f05ccc4572469a",
       "version_major": 2,
       "version_minor": 0
      },
      "text/plain": [
       "Generating train split:   0%|          | 0/2386 [00:00<?, ? examples/s]"
      ]
     },
     "metadata": {},
     "output_type": "display_data"
    },
    {
     "data": {
      "application/vnd.jupyter.widget-view+json": {
       "model_id": "90f173278f2c4806b25fea65bbb248f4",
       "version_major": 2,
       "version_minor": 0
      },
      "text/plain": [
       "Generating test split:   0%|          | 0/346 [00:00<?, ? examples/s]"
      ]
     },
     "metadata": {},
     "output_type": "display_data"
    },
    {
     "data": {
      "text/plain": [
       "Dataset({\n",
       "    features: ['uid', 'premise', 'hypothesis', 'label', 'metadata'],\n",
       "    num_rows: 2386\n",
       "})"
      ]
     },
     "execution_count": 2,
     "metadata": {},
     "output_type": "execute_result"
    }
   ],
   "source": [
    "nope_ds = load_dataset(\"tasksource/nope\",split=\"train\")\n",
    "nope_ds"
   ]
  },
  {
   "cell_type": "code",
   "execution_count": 3,
   "metadata": {
    "execution": {
     "iopub.execute_input": "2025-03-11T17:53:15.623923Z",
     "iopub.status.busy": "2025-03-11T17:53:15.623650Z",
     "iopub.status.idle": "2025-03-11T17:53:15.676897Z",
     "shell.execute_reply": "2025-03-11T17:53:15.675781Z",
     "shell.execute_reply.started": "2025-03-11T17:53:15.623902Z"
    },
    "trusted": true
   },
   "outputs": [
    {
     "data": {
      "text/html": [
       "<div>\n",
       "<style scoped>\n",
       "    .dataframe tbody tr th:only-of-type {\n",
       "        vertical-align: middle;\n",
       "    }\n",
       "\n",
       "    .dataframe tbody tr th {\n",
       "        vertical-align: top;\n",
       "    }\n",
       "\n",
       "    .dataframe thead th {\n",
       "        text-align: right;\n",
       "    }\n",
       "</style>\n",
       "<table border=\"1\" class=\"dataframe\">\n",
       "  <thead>\n",
       "    <tr style=\"text-align: right;\">\n",
       "      <th></th>\n",
       "      <th>premise</th>\n",
       "      <th>hypothesis</th>\n",
       "      <th>label</th>\n",
       "    </tr>\n",
       "  </thead>\n",
       "  <tbody>\n",
       "    <tr>\n",
       "      <th>0</th>\n",
       "      <td>The cops had him in their headlights. He ran h...</td>\n",
       "      <td>He was standing earlier.</td>\n",
       "      <td>0</td>\n",
       "    </tr>\n",
       "    <tr>\n",
       "      <th>1</th>\n",
       "      <td>The cops had him in their headlights. He ran h...</td>\n",
       "      <td>He was standing earlier.</td>\n",
       "      <td>0</td>\n",
       "    </tr>\n",
       "    <tr>\n",
       "      <th>2</th>\n",
       "      <td>For three nights a comet flared through the de...</td>\n",
       "      <td>A red smudge couldn't be seen on the moon before.</td>\n",
       "      <td>0</td>\n",
       "    </tr>\n",
       "    <tr>\n",
       "      <th>3</th>\n",
       "      <td>For three nights a comet flared through the de...</td>\n",
       "      <td>A red smudge couldn't be seen on the moon before.</td>\n",
       "      <td>0</td>\n",
       "    </tr>\n",
       "    <tr>\n",
       "      <th>4</th>\n",
       "      <td>\" He just thinks it's so much bull--. He's not...</td>\n",
       "      <td>We are someone.</td>\n",
       "      <td>1</td>\n",
       "    </tr>\n",
       "    <tr>\n",
       "      <th>...</th>\n",
       "      <td>...</td>\n",
       "      <td>...</td>\n",
       "      <td>...</td>\n",
       "    </tr>\n",
       "    <tr>\n",
       "      <th>2381</th>\n",
       "      <td>I've worked obviously suspicious gobblers for ...</td>\n",
       "      <td>They will react in some way.</td>\n",
       "      <td>0</td>\n",
       "    </tr>\n",
       "    <tr>\n",
       "      <th>2382</th>\n",
       "      <td>And, of course, at that time my dad was dying,...</td>\n",
       "      <td>Something happened.</td>\n",
       "      <td>0</td>\n",
       "    </tr>\n",
       "    <tr>\n",
       "      <th>2383</th>\n",
       "      <td>And, of course, at that time my dad was dying,...</td>\n",
       "      <td>Something happened.</td>\n",
       "      <td>0</td>\n",
       "    </tr>\n",
       "    <tr>\n",
       "      <th>2384</th>\n",
       "      <td>I felt grubby just looking at her.  I don't kn...</td>\n",
       "      <td>Elissa has a favorite hobby.</td>\n",
       "      <td>1</td>\n",
       "    </tr>\n",
       "    <tr>\n",
       "      <th>2385</th>\n",
       "      <td>I felt grubby just looking at her.  I know wha...</td>\n",
       "      <td>Elissa has a favorite hobby.</td>\n",
       "      <td>0</td>\n",
       "    </tr>\n",
       "  </tbody>\n",
       "</table>\n",
       "<p>2386 rows × 3 columns</p>\n",
       "</div>"
      ],
      "text/plain": [
       "                                                premise  \\\n",
       "0     The cops had him in their headlights. He ran h...   \n",
       "1     The cops had him in their headlights. He ran h...   \n",
       "2     For three nights a comet flared through the de...   \n",
       "3     For three nights a comet flared through the de...   \n",
       "4     \" He just thinks it's so much bull--. He's not...   \n",
       "...                                                 ...   \n",
       "2381  I've worked obviously suspicious gobblers for ...   \n",
       "2382  And, of course, at that time my dad was dying,...   \n",
       "2383  And, of course, at that time my dad was dying,...   \n",
       "2384  I felt grubby just looking at her.  I don't kn...   \n",
       "2385  I felt grubby just looking at her.  I know wha...   \n",
       "\n",
       "                                             hypothesis  label  \n",
       "0                              He was standing earlier.      0  \n",
       "1                              He was standing earlier.      0  \n",
       "2     A red smudge couldn't be seen on the moon before.      0  \n",
       "3     A red smudge couldn't be seen on the moon before.      0  \n",
       "4                                       We are someone.      1  \n",
       "...                                                 ...    ...  \n",
       "2381                       They will react in some way.      0  \n",
       "2382                                Something happened.      0  \n",
       "2383                                Something happened.      0  \n",
       "2384                       Elissa has a favorite hobby.      1  \n",
       "2385                       Elissa has a favorite hobby.      0  \n",
       "\n",
       "[2386 rows x 3 columns]"
      ]
     },
     "execution_count": 3,
     "metadata": {},
     "output_type": "execute_result"
    }
   ],
   "source": [
    "nope_df = nope_ds.to_pandas()\n",
    "nope_df = nope_df[['premise','hypothesis','label']]\n",
    "nope_df['label'] = nope_df['label'].map({'E': 0,'N': 1,'C': 2})\n",
    "train_df = nope_df[['premise','hypothesis','label']]\n",
    "train_df"
   ]
  },
  {
   "cell_type": "code",
   "execution_count": 4,
   "metadata": {
    "execution": {
     "iopub.execute_input": "2025-03-11T17:53:15.679186Z",
     "iopub.status.busy": "2025-03-11T17:53:15.678907Z",
     "iopub.status.idle": "2025-03-11T17:53:15.823922Z",
     "shell.execute_reply": "2025-03-11T17:53:15.822900Z",
     "shell.execute_reply.started": "2025-03-11T17:53:15.679164Z"
    },
    "trusted": true
   },
   "outputs": [
    {
     "data": {
      "text/plain": [
       "label\n",
       "0    1922\n",
       "1     419\n",
       "2      45\n",
       "Name: count, dtype: int64"
      ]
     },
     "execution_count": 4,
     "metadata": {},
     "output_type": "execute_result"
    }
   ],
   "source": [
    "train_df['label'].value_counts()"
   ]
  },
  {
   "cell_type": "code",
   "execution_count": 5,
   "metadata": {
    "execution": {
     "iopub.execute_input": "2025-03-11T17:53:15.828462Z",
     "iopub.status.busy": "2025-03-11T17:53:15.828129Z",
     "iopub.status.idle": "2025-03-11T17:53:15.836023Z",
     "shell.execute_reply": "2025-03-11T17:53:15.835305Z",
     "shell.execute_reply.started": "2025-03-11T17:53:15.828426Z"
    },
    "trusted": true
   },
   "outputs": [],
   "source": [
    "pd.set_option('display.max_colwidth', None)"
   ]
  },
  {
   "cell_type": "code",
   "execution_count": 6,
   "metadata": {
    "execution": {
     "iopub.execute_input": "2025-03-11T17:53:15.837251Z",
     "iopub.status.busy": "2025-03-11T17:53:15.836909Z",
     "iopub.status.idle": "2025-03-11T17:53:15.857758Z",
     "shell.execute_reply": "2025-03-11T17:53:15.857054Z",
     "shell.execute_reply.started": "2025-03-11T17:53:15.837217Z"
    },
    "trusted": true
   },
   "outputs": [
    {
     "data": {
      "text/html": [
       "<div>\n",
       "<style scoped>\n",
       "    .dataframe tbody tr th:only-of-type {\n",
       "        vertical-align: middle;\n",
       "    }\n",
       "\n",
       "    .dataframe tbody tr th {\n",
       "        vertical-align: top;\n",
       "    }\n",
       "\n",
       "    .dataframe thead th {\n",
       "        text-align: right;\n",
       "    }\n",
       "</style>\n",
       "<table border=\"1\" class=\"dataframe\">\n",
       "  <thead>\n",
       "    <tr style=\"text-align: right;\">\n",
       "      <th></th>\n",
       "      <th>premise</th>\n",
       "      <th>hypothesis</th>\n",
       "      <th>label</th>\n",
       "    </tr>\n",
       "  </thead>\n",
       "  <tbody>\n",
       "  </tbody>\n",
       "</table>\n",
       "</div>"
      ],
      "text/plain": [
       "Empty DataFrame\n",
       "Columns: [premise, hypothesis, label]\n",
       "Index: []"
      ]
     },
     "execution_count": 6,
     "metadata": {},
     "output_type": "execute_result"
    }
   ],
   "source": [
    "train_df[train_df['label'] == 'CONTRADICTION']"
   ]
  },
  {
   "cell_type": "code",
   "execution_count": 7,
   "metadata": {
    "execution": {
     "iopub.execute_input": "2025-03-11T17:53:15.858849Z",
     "iopub.status.busy": "2025-03-11T17:53:15.858583Z",
     "iopub.status.idle": "2025-03-11T17:53:15.879049Z",
     "shell.execute_reply": "2025-03-11T17:53:15.878169Z",
     "shell.execute_reply.started": "2025-03-11T17:53:15.858827Z"
    },
    "trusted": true
   },
   "outputs": [],
   "source": [
    "# split into training and validation\n",
    "train_df, val_df = train_test_split(train_df, test_size=0.2, random_state=42, stratify=train_df['label'])"
   ]
  },
  {
   "cell_type": "code",
   "execution_count": 8,
   "metadata": {
    "execution": {
     "iopub.execute_input": "2025-03-11T17:53:15.880252Z",
     "iopub.status.busy": "2025-03-11T17:53:15.879928Z",
     "iopub.status.idle": "2025-03-11T17:53:15.894162Z",
     "shell.execute_reply": "2025-03-11T17:53:15.892953Z",
     "shell.execute_reply.started": "2025-03-11T17:53:15.880217Z"
    },
    "trusted": true
   },
   "outputs": [
    {
     "data": {
      "text/html": [
       "<div>\n",
       "<style scoped>\n",
       "    .dataframe tbody tr th:only-of-type {\n",
       "        vertical-align: middle;\n",
       "    }\n",
       "\n",
       "    .dataframe tbody tr th {\n",
       "        vertical-align: top;\n",
       "    }\n",
       "\n",
       "    .dataframe thead th {\n",
       "        text-align: right;\n",
       "    }\n",
       "</style>\n",
       "<table border=\"1\" class=\"dataframe\">\n",
       "  <thead>\n",
       "    <tr style=\"text-align: right;\">\n",
       "      <th></th>\n",
       "      <th>premise</th>\n",
       "      <th>hypothesis</th>\n",
       "      <th>label</th>\n",
       "    </tr>\n",
       "  </thead>\n",
       "  <tbody>\n",
       "    <tr>\n",
       "      <th>1876</th>\n",
       "      <td>They won't be able to sit in circle time. They won't have any idea that the rules apply to them. it's not that kind of thing that often brings the child to first attention. GROSS</td>\n",
       "      <td>Something often brings the child to first attention.</td>\n",
       "      <td>0</td>\n",
       "    </tr>\n",
       "    <tr>\n",
       "      <th>224</th>\n",
       "      <td>Maybe a little, I mean after, b u t... \" land, with occasional spells aboard trains and busses. She hummed. Nuala hadn't alternated between the melody to Mendelsshon's Symphony No. 3, known as his silence and outbursts of anger, since learning of Hal's death.</td>\n",
       "      <td>Nuala learned of Hal's death.</td>\n",
       "      <td>0</td>\n",
       "    </tr>\n",
       "    <tr>\n",
       "      <th>2355</th>\n",
       "      <td>Sailors also received an allotment of butter and cheese, but these items spoiled rapidly resulting in noxious odors and inedible rations. ( n10 ) Alcoholic beverages were better alternatives than stale or putrid water but still lacked the nutrients necessary to fulfill daily requirements and suffered similar problems of fermentation and decay.</td>\n",
       "      <td>stale or putrid water were alternatives.</td>\n",
       "      <td>0</td>\n",
       "    </tr>\n",
       "    <tr>\n",
       "      <th>658</th>\n",
       "      <td>Abdul-Rauf, who was born Chris Jackson but changed his name after converting to Islam, said he never worried about Tourette's influencing his chances of being picked in the NBA. In 1993 Abdul-Rauf didn't sign a five-year contract with the Denver Nuggets after leaving after his sophomore year at Louisiana State University; he averages 19 points and seven assists per game.</td>\n",
       "      <td>Abdul-Rauf left after his sophomore year at Louisiana State University.</td>\n",
       "      <td>0</td>\n",
       "    </tr>\n",
       "    <tr>\n",
       "      <th>1303</th>\n",
       "      <td>It could get her into a lot of trouble and by association, him, too. CHAPTER 2 Animals are lower life-forms than humans.</td>\n",
       "      <td>Humans are life-forms.</td>\n",
       "      <td>0</td>\n",
       "    </tr>\n",
       "    <tr>\n",
       "      <th>...</th>\n",
       "      <td>...</td>\n",
       "      <td>...</td>\n",
       "      <td>...</td>\n",
       "    </tr>\n",
       "    <tr>\n",
       "      <th>883</th>\n",
       "      <td>In the ensuing days, Mr. Clinton was hailed for his gifts as a ham actor, and criticized for trivializing the status of his office. Mr. Clinton's loss of gravitas, of course, started with the video.</td>\n",
       "      <td>Mr. Clinton hadn't lost his gravitas at the time of the video</td>\n",
       "      <td>1</td>\n",
       "    </tr>\n",
       "    <tr>\n",
       "      <th>1238</th>\n",
       "      <td>It may well be that Brissot believed his own rhetoric and thought that the French army would be welcomed abroad as' armed liberators'. But by choosing war, Brissot and the Girondins--whether they understood the risks or not--were taking a path towards internal terror. Ironically, it wasn't Robespierre, who had opposed war, who took on political leadership at the height of the conflict as a member of the Committee of Public Safety to defend the embattled Republic.</td>\n",
       "      <td>Someone took on political leadership at the height of the conflict as a member of the Committee of Public Safety to defend the embattled Republic.</td>\n",
       "      <td>0</td>\n",
       "    </tr>\n",
       "    <tr>\n",
       "      <th>2092</th>\n",
       "      <td>Gao was there, too. He declared that he had collected enough evidence from Old Cop's bed and would give it directly to Chief Zhang tomorrow morning. Old Cop was lying on the ground, and wasn't covering his face with both hands in front of him.</td>\n",
       "      <td>Old Cop had two hands.</td>\n",
       "      <td>0</td>\n",
       "    </tr>\n",
       "    <tr>\n",
       "      <th>1333</th>\n",
       "      <td>Jensen is stilf notorious for an article he wrote in 1969, arguing that the disappointing results of programs like Head Start were due partly to racial differences in IQ. His lectures were disrupted for years afterward, and his name became publicly synonymous with racism. And Jensen's scientific output did not continue to shape the field.</td>\n",
       "      <td>Jensen's scientific output had previously been shaping the field.</td>\n",
       "      <td>0</td>\n",
       "    </tr>\n",
       "    <tr>\n",
       "      <th>477</th>\n",
       "      <td>qwq KROFT: And you think the police were part of this.</td>\n",
       "      <td>The police were part of this.</td>\n",
       "      <td>1</td>\n",
       "    </tr>\n",
       "  </tbody>\n",
       "</table>\n",
       "<p>1908 rows × 3 columns</p>\n",
       "</div>"
      ],
      "text/plain": [
       "                                                                                                                                                                                                                                                                                                                                                                                                                                                                                  premise  \\\n",
       "1876                                                                                                                                                                                                                                                                                                   They won't be able to sit in circle time. They won't have any idea that the rules apply to them. it's not that kind of thing that often brings the child to first attention. GROSS   \n",
       "224                                                                                                                                                                                                                   Maybe a little, I mean after, b u t... \" land, with occasional spells aboard trains and busses. She hummed. Nuala hadn't alternated between the melody to Mendelsshon's Symphony No. 3, known as his silence and outbursts of anger, since learning of Hal's death.   \n",
       "2355                                                                                                                            Sailors also received an allotment of butter and cheese, but these items spoiled rapidly resulting in noxious odors and inedible rations. ( n10 ) Alcoholic beverages were better alternatives than stale or putrid water but still lacked the nutrients necessary to fulfill daily requirements and suffered similar problems of fermentation and decay.   \n",
       "658                                                                                                 Abdul-Rauf, who was born Chris Jackson but changed his name after converting to Islam, said he never worried about Tourette's influencing his chances of being picked in the NBA. In 1993 Abdul-Rauf didn't sign a five-year contract with the Denver Nuggets after leaving after his sophomore year at Louisiana State University; he averages 19 points and seven assists per game.   \n",
       "1303                                                                                                                                                                                                                                                                                                                                                             It could get her into a lot of trouble and by association, him, too. CHAPTER 2 Animals are lower life-forms than humans.   \n",
       "...                                                                                                                                                                                                                                                                                                                                                                                                                                                                                   ...   \n",
       "883                                                                                                                                                                                                                                                                                In the ensuing days, Mr. Clinton was hailed for his gifts as a ham actor, and criticized for trivializing the status of his office. Mr. Clinton's loss of gravitas, of course, started with the video.   \n",
       "1238  It may well be that Brissot believed his own rhetoric and thought that the French army would be welcomed abroad as' armed liberators'. But by choosing war, Brissot and the Girondins--whether they understood the risks or not--were taking a path towards internal terror. Ironically, it wasn't Robespierre, who had opposed war, who took on political leadership at the height of the conflict as a member of the Committee of Public Safety to defend the embattled Republic.   \n",
       "2092                                                                                                                                                                                                                                  Gao was there, too. He declared that he had collected enough evidence from Old Cop's bed and would give it directly to Chief Zhang tomorrow morning. Old Cop was lying on the ground, and wasn't covering his face with both hands in front of him.   \n",
       "1333                                                                                                                                 Jensen is stilf notorious for an article he wrote in 1969, arguing that the disappointing results of programs like Head Start were due partly to racial differences in IQ. His lectures were disrupted for years afterward, and his name became publicly synonymous with racism. And Jensen's scientific output did not continue to shape the field.   \n",
       "477                                                                                                                                                                                                                                                                                                                                                                                                                                qwq KROFT: And you think the police were part of this.   \n",
       "\n",
       "                                                                                                                                              hypothesis  \\\n",
       "1876                                                                                                Something often brings the child to first attention.   \n",
       "224                                                                                                                        Nuala learned of Hal's death.   \n",
       "2355                                                                                                            stale or putrid water were alternatives.   \n",
       "658                                                                              Abdul-Rauf left after his sophomore year at Louisiana State University.   \n",
       "1303                                                                                                                              Humans are life-forms.   \n",
       "...                                                                                                                                                  ...   \n",
       "883                                                                                        Mr. Clinton hadn't lost his gravitas at the time of the video   \n",
       "1238  Someone took on political leadership at the height of the conflict as a member of the Committee of Public Safety to defend the embattled Republic.   \n",
       "2092                                                                                                                              Old Cop had two hands.   \n",
       "1333                                                                                   Jensen's scientific output had previously been shaping the field.   \n",
       "477                                                                                                                        The police were part of this.   \n",
       "\n",
       "      label  \n",
       "1876      0  \n",
       "224       0  \n",
       "2355      0  \n",
       "658       0  \n",
       "1303      0  \n",
       "...     ...  \n",
       "883       1  \n",
       "1238      0  \n",
       "2092      0  \n",
       "1333      0  \n",
       "477       1  \n",
       "\n",
       "[1908 rows x 3 columns]"
      ]
     },
     "execution_count": 8,
     "metadata": {},
     "output_type": "execute_result"
    }
   ],
   "source": [
    "train_df"
   ]
  },
  {
   "cell_type": "code",
   "execution_count": 9,
   "metadata": {
    "execution": {
     "iopub.execute_input": "2025-03-11T17:53:15.895381Z",
     "iopub.status.busy": "2025-03-11T17:53:15.894996Z",
     "iopub.status.idle": "2025-03-11T17:53:15.916988Z",
     "shell.execute_reply": "2025-03-11T17:53:15.916196Z",
     "shell.execute_reply.started": "2025-03-11T17:53:15.895282Z"
    },
    "trusted": true
   },
   "outputs": [
    {
     "data": {
      "text/html": [
       "<div>\n",
       "<style scoped>\n",
       "    .dataframe tbody tr th:only-of-type {\n",
       "        vertical-align: middle;\n",
       "    }\n",
       "\n",
       "    .dataframe tbody tr th {\n",
       "        vertical-align: top;\n",
       "    }\n",
       "\n",
       "    .dataframe thead th {\n",
       "        text-align: right;\n",
       "    }\n",
       "</style>\n",
       "<table border=\"1\" class=\"dataframe\">\n",
       "  <thead>\n",
       "    <tr style=\"text-align: right;\">\n",
       "      <th></th>\n",
       "      <th>premise</th>\n",
       "      <th>hypothesis</th>\n",
       "      <th>label</th>\n",
       "    </tr>\n",
       "  </thead>\n",
       "  <tbody>\n",
       "    <tr>\n",
       "      <th>1272</th>\n",
       "      <td>One of the notable aspects of the Wari' story is that it was just intellectuals who treated cannibalism with empathy and relativism.</td>\n",
       "      <td>Someone treated cannibalism with empathy and relativism.</td>\n",
       "      <td>0</td>\n",
       "    </tr>\n",
       "    <tr>\n",
       "      <th>1823</th>\n",
       "      <td>Judith's moment comes as Israel is being threatened by a neighboring power. The male Jewish leadership prepares to surrender, but Judith, a beautiful and pious widow, has another plan. Dressed in her alluring best, she enters the enemy's camp.</td>\n",
       "      <td>Judith was not in the enemy's camp before.</td>\n",
       "      <td>1</td>\n",
       "    </tr>\n",
       "    <tr>\n",
       "      <th>652</th>\n",
       "      <td>Coach Art Shell's Los Angeles Raiders slipped to 9-7 in' 91, but still earned a playoff wild card before losing in the opening round to Kansas City. And he's not hoping to pull off another reclamation project after acquiring RB Eric Dickerson.</td>\n",
       "      <td>He'll acquire RB Eric Dickerson.</td>\n",
       "      <td>0</td>\n",
       "    </tr>\n",
       "    <tr>\n",
       "      <th>1738</th>\n",
       "      <td>Greek Orthodoxy, Roman Catholicism, and Islam. Czechoslovakia is already loosening the ties between its Czech and Slovak regions. And, following a brief, unsuccessful attempt at a new repression by the right wing of the Communist Party, the Soviet Union will reorganize itself into a confederation of 12 largely independent states.</td>\n",
       "      <td>The Soviet Union area has been organized before.</td>\n",
       "      <td>0</td>\n",
       "    </tr>\n",
       "    <tr>\n",
       "      <th>1429</th>\n",
       "      <td>The proper response, truly, is a shower of pies across the nighttime sky upon Silicon Valley. \"  A letter of support the BBB disseminated didn't manage to bring in references to the new San Francisco Giants stadium currently being built, Mumia Abu-Jamal, the \"mysterious\" death of a San Francisco poll worker, and the international labor movement.</td>\n",
       "      <td>It would take effort to bring in references to the new San Francisco Giants stadium currently being built.</td>\n",
       "      <td>0</td>\n",
       "    </tr>\n",
       "    <tr>\n",
       "      <th>...</th>\n",
       "      <td>...</td>\n",
       "      <td>...</td>\n",
       "      <td>...</td>\n",
       "    </tr>\n",
       "    <tr>\n",
       "      <th>2153</th>\n",
       "      <td>I can probably figure it out from here. But it was familiar work, not at all difficult, and in half a minute Jim was done anyway. With a theatrical flourish, he didn't restart the program.</td>\n",
       "      <td>Jim started the program before.</td>\n",
       "      <td>0</td>\n",
       "    </tr>\n",
       "    <tr>\n",
       "      <th>929</th>\n",
       "      <td>Factors were allowed to be correlated. The analysis was conducted in two stages: First, the fit of each model was examined in isolation. Second, the models were compared to determine which was the preferred model for the data.</td>\n",
       "      <td>There was a preferred model for the data</td>\n",
       "      <td>0</td>\n",
       "    </tr>\n",
       "    <tr>\n",
       "      <th>507</th>\n",
       "      <td>She'd had short stories published in Scribner's Magazine. She had had poems published. But she had never dared to allow herself to think of herself as a professional writer.</td>\n",
       "      <td>Thinking of herself as a professional writer would take courage.</td>\n",
       "      <td>0</td>\n",
       "    </tr>\n",
       "    <tr>\n",
       "      <th>606</th>\n",
       "      <td>There are plans to market the album via the Internet. In typical Yankee fashion, a Newport, Maine, florist found a novel way to grow her business after moving into an old bank building. The place had a driveup window, so Carol Charters did not reopen it with a few modifications.</td>\n",
       "      <td>The driveup window was open before.</td>\n",
       "      <td>0</td>\n",
       "    </tr>\n",
       "    <tr>\n",
       "      <th>1111</th>\n",
       "      <td>The pilot brought us into position behind and to the left of the bears. Ramsay, like a modern day Buffalo Bill, rifle to his shoulder, leaned out the door, squinted through the scope, and fired a tranquilizer dart into the rump of the first bear. He quickly reloaded and darted the second bear.</td>\n",
       "      <td>His tranquilizer gun had been loaded before</td>\n",
       "      <td>0</td>\n",
       "    </tr>\n",
       "  </tbody>\n",
       "</table>\n",
       "<p>478 rows × 3 columns</p>\n",
       "</div>"
      ],
      "text/plain": [
       "                                                                                                                                                                                                                                                                                                                                                          premise  \\\n",
       "1272                                                                                                                                                                                                                         One of the notable aspects of the Wari' story is that it was just intellectuals who treated cannibalism with empathy and relativism.   \n",
       "1823                                                                                                          Judith's moment comes as Israel is being threatened by a neighboring power. The male Jewish leadership prepares to surrender, but Judith, a beautiful and pious widow, has another plan. Dressed in her alluring best, she enters the enemy's camp.   \n",
       "652                                                                                                           Coach Art Shell's Los Angeles Raiders slipped to 9-7 in' 91, but still earned a playoff wild card before losing in the opening round to Kansas City. And he's not hoping to pull off another reclamation project after acquiring RB Eric Dickerson.   \n",
       "1738                  Greek Orthodoxy, Roman Catholicism, and Islam. Czechoslovakia is already loosening the ties between its Czech and Slovak regions. And, following a brief, unsuccessful attempt at a new repression by the right wing of the Communist Party, the Soviet Union will reorganize itself into a confederation of 12 largely independent states.   \n",
       "1429  The proper response, truly, is a shower of pies across the nighttime sky upon Silicon Valley. \"  A letter of support the BBB disseminated didn't manage to bring in references to the new San Francisco Giants stadium currently being built, Mumia Abu-Jamal, the \"mysterious\" death of a San Francisco poll worker, and the international labor movement.   \n",
       "...                                                                                                                                                                                                                                                                                                                                                           ...   \n",
       "2153                                                                                                                                                                 I can probably figure it out from here. But it was familiar work, not at all difficult, and in half a minute Jim was done anyway. With a theatrical flourish, he didn't restart the program.   \n",
       "929                                                                                                                            Factors were allowed to be correlated. The analysis was conducted in two stages: First, the fit of each model was examined in isolation. Second, the models were compared to determine which was the preferred model for the data.   \n",
       "507                                                                                                                                                                                 She'd had short stories published in Scribner's Magazine. She had had poems published. But she had never dared to allow herself to think of herself as a professional writer.   \n",
       "606                                                                       There are plans to market the album via the Internet. In typical Yankee fashion, a Newport, Maine, florist found a novel way to grow her business after moving into an old bank building. The place had a driveup window, so Carol Charters did not reopen it with a few modifications.   \n",
       "1111                                                       The pilot brought us into position behind and to the left of the bears. Ramsay, like a modern day Buffalo Bill, rifle to his shoulder, leaned out the door, squinted through the scope, and fired a tranquilizer dart into the rump of the first bear. He quickly reloaded and darted the second bear.   \n",
       "\n",
       "                                                                                                      hypothesis  \\\n",
       "1272                                                    Someone treated cannibalism with empathy and relativism.   \n",
       "1823                                                                  Judith was not in the enemy's camp before.   \n",
       "652                                                                             He'll acquire RB Eric Dickerson.   \n",
       "1738                                                            The Soviet Union area has been organized before.   \n",
       "1429  It would take effort to bring in references to the new San Francisco Giants stadium currently being built.   \n",
       "...                                                                                                          ...   \n",
       "2153                                                                             Jim started the program before.   \n",
       "929                                                                     There was a preferred model for the data   \n",
       "507                                             Thinking of herself as a professional writer would take courage.   \n",
       "606                                                                          The driveup window was open before.   \n",
       "1111                                                                 His tranquilizer gun had been loaded before   \n",
       "\n",
       "      label  \n",
       "1272      0  \n",
       "1823      1  \n",
       "652       0  \n",
       "1738      0  \n",
       "1429      0  \n",
       "...     ...  \n",
       "2153      0  \n",
       "929       0  \n",
       "507       0  \n",
       "606       0  \n",
       "1111      0  \n",
       "\n",
       "[478 rows x 3 columns]"
      ]
     },
     "execution_count": 9,
     "metadata": {},
     "output_type": "execute_result"
    }
   ],
   "source": [
    "val_df"
   ]
  },
  {
   "cell_type": "code",
   "execution_count": 10,
   "metadata": {
    "execution": {
     "iopub.execute_input": "2025-03-11T17:53:15.918157Z",
     "iopub.status.busy": "2025-03-11T17:53:15.917841Z",
     "iopub.status.idle": "2025-03-11T17:53:15.936920Z",
     "shell.execute_reply": "2025-03-11T17:53:15.936158Z",
     "shell.execute_reply.started": "2025-03-11T17:53:15.918120Z"
    },
    "trusted": true
   },
   "outputs": [
    {
     "data": {
      "text/html": [
       "<div>\n",
       "<style scoped>\n",
       "    .dataframe tbody tr th:only-of-type {\n",
       "        vertical-align: middle;\n",
       "    }\n",
       "\n",
       "    .dataframe tbody tr th {\n",
       "        vertical-align: top;\n",
       "    }\n",
       "\n",
       "    .dataframe thead th {\n",
       "        text-align: right;\n",
       "    }\n",
       "</style>\n",
       "<table border=\"1\" class=\"dataframe\">\n",
       "  <thead>\n",
       "    <tr style=\"text-align: right;\">\n",
       "      <th></th>\n",
       "      <th>premise</th>\n",
       "      <th>hypothesis</th>\n",
       "      <th>label</th>\n",
       "    </tr>\n",
       "  </thead>\n",
       "  <tbody>\n",
       "  </tbody>\n",
       "</table>\n",
       "</div>"
      ],
      "text/plain": [
       "Empty DataFrame\n",
       "Columns: [premise, hypothesis, label]\n",
       "Index: []"
      ]
     },
     "execution_count": 10,
     "metadata": {},
     "output_type": "execute_result"
    }
   ],
   "source": [
    "train_df[train_df['premise'].isna()]"
   ]
  },
  {
   "cell_type": "code",
   "execution_count": 11,
   "metadata": {
    "execution": {
     "iopub.execute_input": "2025-03-11T17:53:15.937927Z",
     "iopub.status.busy": "2025-03-11T17:53:15.937643Z",
     "iopub.status.idle": "2025-03-11T17:53:15.958063Z",
     "shell.execute_reply": "2025-03-11T17:53:15.957164Z",
     "shell.execute_reply.started": "2025-03-11T17:53:15.937906Z"
    },
    "trusted": true
   },
   "outputs": [
    {
     "data": {
      "text/html": [
       "<div>\n",
       "<style scoped>\n",
       "    .dataframe tbody tr th:only-of-type {\n",
       "        vertical-align: middle;\n",
       "    }\n",
       "\n",
       "    .dataframe tbody tr th {\n",
       "        vertical-align: top;\n",
       "    }\n",
       "\n",
       "    .dataframe thead th {\n",
       "        text-align: right;\n",
       "    }\n",
       "</style>\n",
       "<table border=\"1\" class=\"dataframe\">\n",
       "  <thead>\n",
       "    <tr style=\"text-align: right;\">\n",
       "      <th></th>\n",
       "      <th>premise</th>\n",
       "      <th>hypothesis</th>\n",
       "      <th>label</th>\n",
       "    </tr>\n",
       "  </thead>\n",
       "  <tbody>\n",
       "  </tbody>\n",
       "</table>\n",
       "</div>"
      ],
      "text/plain": [
       "Empty DataFrame\n",
       "Columns: [premise, hypothesis, label]\n",
       "Index: []"
      ]
     },
     "execution_count": 11,
     "metadata": {},
     "output_type": "execute_result"
    }
   ],
   "source": [
    "train_df[train_df['hypothesis'].isna()]"
   ]
  },
  {
   "cell_type": "code",
   "execution_count": 12,
   "metadata": {
    "execution": {
     "iopub.execute_input": "2025-03-11T17:53:15.960708Z",
     "iopub.status.busy": "2025-03-11T17:53:15.960518Z",
     "iopub.status.idle": "2025-03-11T17:53:16.002728Z",
     "shell.execute_reply": "2025-03-11T17:53:16.001645Z",
     "shell.execute_reply.started": "2025-03-11T17:53:15.960691Z"
    },
    "trusted": true
   },
   "outputs": [
    {
     "name": "stderr",
     "output_type": "stream",
     "text": [
      "/usr/local/lib/python3.10/dist-packages/pandas/io/formats/format.py:1458: RuntimeWarning: invalid value encountered in greater\n",
      "  has_large_values = (abs_vals > 1e6).any()\n",
      "/usr/local/lib/python3.10/dist-packages/pandas/io/formats/format.py:1459: RuntimeWarning: invalid value encountered in less\n",
      "  has_small_values = ((abs_vals < 10 ** (-self.digits)) & (abs_vals > 0)).any()\n",
      "/usr/local/lib/python3.10/dist-packages/pandas/io/formats/format.py:1459: RuntimeWarning: invalid value encountered in greater\n",
      "  has_small_values = ((abs_vals < 10 ** (-self.digits)) & (abs_vals > 0)).any()\n"
     ]
    },
    {
     "data": {
      "text/html": [
       "<div>\n",
       "<style scoped>\n",
       "    .dataframe tbody tr th:only-of-type {\n",
       "        vertical-align: middle;\n",
       "    }\n",
       "\n",
       "    .dataframe tbody tr th {\n",
       "        vertical-align: top;\n",
       "    }\n",
       "\n",
       "    .dataframe thead th {\n",
       "        text-align: right;\n",
       "    }\n",
       "</style>\n",
       "<table border=\"1\" class=\"dataframe\">\n",
       "  <thead>\n",
       "    <tr style=\"text-align: right;\">\n",
       "      <th></th>\n",
       "      <th>premise</th>\n",
       "      <th>hypothesis</th>\n",
       "      <th>gold_label</th>\n",
       "      <th>type</th>\n",
       "    </tr>\n",
       "  </thead>\n",
       "  <tbody>\n",
       "    <tr>\n",
       "      <th>9616.0</th>\n",
       "      <td>If Charlotte passes her driving test, her parents will buy her a car.</td>\n",
       "      <td>Charlotte has parents.</td>\n",
       "      <td>E</td>\n",
       "      <td>type5_possessive</td>\n",
       "    </tr>\n",
       "    <tr>\n",
       "      <th>9617.0</th>\n",
       "      <td>It's not the case that if Charlotte passes her driving test, her parents will buy her a car.</td>\n",
       "      <td>Charlotte has parents.</td>\n",
       "      <td>E</td>\n",
       "      <td>type5_possessive</td>\n",
       "    </tr>\n",
       "    <tr>\n",
       "      <th>9618.0</th>\n",
       "      <td>Sam believes that if Charlotte passes her driving test, her parents will buy her a car.</td>\n",
       "      <td>Charlotte has parents.</td>\n",
       "      <td>E</td>\n",
       "      <td>type5_possessive</td>\n",
       "    </tr>\n",
       "    <tr>\n",
       "      <th>9619.0</th>\n",
       "      <td>Is it true that if Charlotte passes her driving test, her parents will buy her a car?</td>\n",
       "      <td>Charlotte has parents.</td>\n",
       "      <td>E</td>\n",
       "      <td>type5_possessive</td>\n",
       "    </tr>\n",
       "    <tr>\n",
       "      <th>9628.0</th>\n",
       "      <td>If Lily takes the train to the city, her friend will meet her at the station.</td>\n",
       "      <td>Lily has a friend.</td>\n",
       "      <td>E</td>\n",
       "      <td>type5_possessive</td>\n",
       "    </tr>\n",
       "    <tr>\n",
       "      <th>...</th>\n",
       "      <td>...</td>\n",
       "      <td>...</td>\n",
       "      <td>...</td>\n",
       "      <td>...</td>\n",
       "    </tr>\n",
       "    <tr>\n",
       "      <th>NaN</th>\n",
       "      <td>If Sophia decides to attend the concert, his best friend will drive him there.</td>\n",
       "      <td>Sophia has a close friend.</td>\n",
       "      <td>N</td>\n",
       "      <td>type5_possessive</td>\n",
       "    </tr>\n",
       "    <tr>\n",
       "      <th>NaN</th>\n",
       "      <td>It's not the case that if Sophia decides to attend the concert, his best friend will drive him there.</td>\n",
       "      <td>Sophia has a close friend.</td>\n",
       "      <td>N</td>\n",
       "      <td>type5_possessive</td>\n",
       "    </tr>\n",
       "    <tr>\n",
       "      <th>NaN</th>\n",
       "      <td>Sam believes that if Sophia decides to attend the concert, his best friend will drive him there.</td>\n",
       "      <td>Sophia has a close friend.</td>\n",
       "      <td>N</td>\n",
       "      <td>type5_possessive</td>\n",
       "    </tr>\n",
       "    <tr>\n",
       "      <th>NaN</th>\n",
       "      <td>Is it true that if Sophia decides to attend the concert, his best friend will drive him there?</td>\n",
       "      <td>Sophia has a close friend.</td>\n",
       "      <td>N</td>\n",
       "      <td>type5_possessive</td>\n",
       "    </tr>\n",
       "    <tr>\n",
       "      <th>NaN</th>\n",
       "      <td>If Sophia decides to attend the concert, his best friend will drive him there.</td>\n",
       "      <td>Sophia has decided to attend the concert, but his best friend will not drive him.</td>\n",
       "      <td>C</td>\n",
       "      <td>type5_possessive</td>\n",
       "    </tr>\n",
       "  </tbody>\n",
       "</table>\n",
       "<p>2367 rows × 4 columns</p>\n",
       "</div>"
      ],
      "text/plain": [
       "                                                                                                      premise  \\\n",
       "9616.0                                  If Charlotte passes her driving test, her parents will buy her a car.   \n",
       "9617.0           It's not the case that if Charlotte passes her driving test, her parents will buy her a car.   \n",
       "9618.0                Sam believes that if Charlotte passes her driving test, her parents will buy her a car.   \n",
       "9619.0                  Is it true that if Charlotte passes her driving test, her parents will buy her a car?   \n",
       "9628.0                          If Lily takes the train to the city, her friend will meet her at the station.   \n",
       "...                                                                                                       ...   \n",
       "NaN                            If Sophia decides to attend the concert, his best friend will drive him there.   \n",
       "NaN     It's not the case that if Sophia decides to attend the concert, his best friend will drive him there.   \n",
       "NaN          Sam believes that if Sophia decides to attend the concert, his best friend will drive him there.   \n",
       "NaN            Is it true that if Sophia decides to attend the concert, his best friend will drive him there?   \n",
       "NaN                            If Sophia decides to attend the concert, his best friend will drive him there.   \n",
       "\n",
       "                                                                               hypothesis  \\\n",
       "9616.0                                                             Charlotte has parents.   \n",
       "9617.0                                                             Charlotte has parents.   \n",
       "9618.0                                                             Charlotte has parents.   \n",
       "9619.0                                                             Charlotte has parents.   \n",
       "9628.0                                                                 Lily has a friend.   \n",
       "...                                                                                   ...   \n",
       "NaN                                                            Sophia has a close friend.   \n",
       "NaN                                                            Sophia has a close friend.   \n",
       "NaN                                                            Sophia has a close friend.   \n",
       "NaN                                                            Sophia has a close friend.   \n",
       "NaN     Sophia has decided to attend the concert, but his best friend will not drive him.   \n",
       "\n",
       "       gold_label              type  \n",
       "9616.0          E  type5_possessive  \n",
       "9617.0          E  type5_possessive  \n",
       "9618.0          E  type5_possessive  \n",
       "9619.0          E  type5_possessive  \n",
       "9628.0          E  type5_possessive  \n",
       "...           ...               ...  \n",
       "NaN             N  type5_possessive  \n",
       "NaN             N  type5_possessive  \n",
       "NaN             N  type5_possessive  \n",
       "NaN             N  type5_possessive  \n",
       "NaN             C  type5_possessive  \n",
       "\n",
       "[2367 rows x 4 columns]"
      ]
     },
     "execution_count": 12,
     "metadata": {},
     "output_type": "execute_result"
    }
   ],
   "source": [
    "test_df = pd.read_csv(\"/kaggle/input/nli-data/new_test_all.csv\",index_col=0)\n",
    "test_df"
   ]
  },
  {
   "cell_type": "code",
   "execution_count": 13,
   "metadata": {
    "execution": {
     "iopub.execute_input": "2025-03-11T17:53:16.004021Z",
     "iopub.status.busy": "2025-03-11T17:53:16.003793Z",
     "iopub.status.idle": "2025-03-11T17:53:16.012008Z",
     "shell.execute_reply": "2025-03-11T17:53:16.010922Z",
     "shell.execute_reply.started": "2025-03-11T17:53:16.004001Z"
    },
    "trusted": true
   },
   "outputs": [
    {
     "data": {
      "text/html": [
       "<div>\n",
       "<style scoped>\n",
       "    .dataframe tbody tr th:only-of-type {\n",
       "        vertical-align: middle;\n",
       "    }\n",
       "\n",
       "    .dataframe tbody tr th {\n",
       "        vertical-align: top;\n",
       "    }\n",
       "\n",
       "    .dataframe thead th {\n",
       "        text-align: right;\n",
       "    }\n",
       "</style>\n",
       "<table border=\"1\" class=\"dataframe\">\n",
       "  <thead>\n",
       "    <tr style=\"text-align: right;\">\n",
       "      <th></th>\n",
       "      <th>premise</th>\n",
       "      <th>hypothesis</th>\n",
       "      <th>gold_label</th>\n",
       "      <th>type</th>\n",
       "    </tr>\n",
       "  </thead>\n",
       "  <tbody>\n",
       "  </tbody>\n",
       "</table>\n",
       "</div>"
      ],
      "text/plain": [
       "Empty DataFrame\n",
       "Columns: [premise, hypothesis, gold_label, type]\n",
       "Index: []"
      ]
     },
     "execution_count": 13,
     "metadata": {},
     "output_type": "execute_result"
    }
   ],
   "source": [
    "test_df[test_df['premise'].isna()]"
   ]
  },
  {
   "cell_type": "code",
   "execution_count": 14,
   "metadata": {
    "execution": {
     "iopub.execute_input": "2025-03-11T17:53:16.013184Z",
     "iopub.status.busy": "2025-03-11T17:53:16.012906Z",
     "iopub.status.idle": "2025-03-11T17:53:16.031724Z",
     "shell.execute_reply": "2025-03-11T17:53:16.030945Z",
     "shell.execute_reply.started": "2025-03-11T17:53:16.013162Z"
    },
    "trusted": true
   },
   "outputs": [
    {
     "data": {
      "text/html": [
       "<div>\n",
       "<style scoped>\n",
       "    .dataframe tbody tr th:only-of-type {\n",
       "        vertical-align: middle;\n",
       "    }\n",
       "\n",
       "    .dataframe tbody tr th {\n",
       "        vertical-align: top;\n",
       "    }\n",
       "\n",
       "    .dataframe thead th {\n",
       "        text-align: right;\n",
       "    }\n",
       "</style>\n",
       "<table border=\"1\" class=\"dataframe\">\n",
       "  <thead>\n",
       "    <tr style=\"text-align: right;\">\n",
       "      <th></th>\n",
       "      <th>premise</th>\n",
       "      <th>hypothesis</th>\n",
       "      <th>gold_label</th>\n",
       "      <th>type</th>\n",
       "    </tr>\n",
       "  </thead>\n",
       "  <tbody>\n",
       "  </tbody>\n",
       "</table>\n",
       "</div>"
      ],
      "text/plain": [
       "Empty DataFrame\n",
       "Columns: [premise, hypothesis, gold_label, type]\n",
       "Index: []"
      ]
     },
     "execution_count": 14,
     "metadata": {},
     "output_type": "execute_result"
    }
   ],
   "source": [
    "test_df[test_df['hypothesis'].isna()]"
   ]
  },
  {
   "cell_type": "code",
   "execution_count": 15,
   "metadata": {
    "execution": {
     "iopub.execute_input": "2025-03-11T17:53:16.033140Z",
     "iopub.status.busy": "2025-03-11T17:53:16.032797Z",
     "iopub.status.idle": "2025-03-11T17:53:16.059918Z",
     "shell.execute_reply": "2025-03-11T17:53:16.059010Z",
     "shell.execute_reply.started": "2025-03-11T17:53:16.033089Z"
    },
    "trusted": true
   },
   "outputs": [
    {
     "name": "stderr",
     "output_type": "stream",
     "text": [
      "/usr/local/lib/python3.10/dist-packages/pandas/io/formats/format.py:1458: RuntimeWarning: invalid value encountered in greater\n",
      "  has_large_values = (abs_vals > 1e6).any()\n",
      "/usr/local/lib/python3.10/dist-packages/pandas/io/formats/format.py:1459: RuntimeWarning: invalid value encountered in less\n",
      "  has_small_values = ((abs_vals < 10 ** (-self.digits)) & (abs_vals > 0)).any()\n",
      "/usr/local/lib/python3.10/dist-packages/pandas/io/formats/format.py:1459: RuntimeWarning: invalid value encountered in greater\n",
      "  has_small_values = ((abs_vals < 10 ** (-self.digits)) & (abs_vals > 0)).any()\n"
     ]
    },
    {
     "data": {
      "text/html": [
       "<div>\n",
       "<style scoped>\n",
       "    .dataframe tbody tr th:only-of-type {\n",
       "        vertical-align: middle;\n",
       "    }\n",
       "\n",
       "    .dataframe tbody tr th {\n",
       "        vertical-align: top;\n",
       "    }\n",
       "\n",
       "    .dataframe thead th {\n",
       "        text-align: right;\n",
       "    }\n",
       "</style>\n",
       "<table border=\"1\" class=\"dataframe\">\n",
       "  <thead>\n",
       "    <tr style=\"text-align: right;\">\n",
       "      <th></th>\n",
       "      <th>premise</th>\n",
       "      <th>hypothesis</th>\n",
       "      <th>type</th>\n",
       "      <th>label</th>\n",
       "    </tr>\n",
       "  </thead>\n",
       "  <tbody>\n",
       "    <tr>\n",
       "      <th>9616.0</th>\n",
       "      <td>If Charlotte passes her driving test, her parents will buy her a car.</td>\n",
       "      <td>Charlotte has parents.</td>\n",
       "      <td>type5_possessive</td>\n",
       "      <td>ENTAILMENT</td>\n",
       "    </tr>\n",
       "    <tr>\n",
       "      <th>9617.0</th>\n",
       "      <td>It's not the case that if Charlotte passes her driving test, her parents will buy her a car.</td>\n",
       "      <td>Charlotte has parents.</td>\n",
       "      <td>type5_possessive</td>\n",
       "      <td>ENTAILMENT</td>\n",
       "    </tr>\n",
       "    <tr>\n",
       "      <th>9618.0</th>\n",
       "      <td>Sam believes that if Charlotte passes her driving test, her parents will buy her a car.</td>\n",
       "      <td>Charlotte has parents.</td>\n",
       "      <td>type5_possessive</td>\n",
       "      <td>ENTAILMENT</td>\n",
       "    </tr>\n",
       "    <tr>\n",
       "      <th>9619.0</th>\n",
       "      <td>Is it true that if Charlotte passes her driving test, her parents will buy her a car?</td>\n",
       "      <td>Charlotte has parents.</td>\n",
       "      <td>type5_possessive</td>\n",
       "      <td>ENTAILMENT</td>\n",
       "    </tr>\n",
       "    <tr>\n",
       "      <th>9628.0</th>\n",
       "      <td>If Lily takes the train to the city, her friend will meet her at the station.</td>\n",
       "      <td>Lily has a friend.</td>\n",
       "      <td>type5_possessive</td>\n",
       "      <td>ENTAILMENT</td>\n",
       "    </tr>\n",
       "    <tr>\n",
       "      <th>...</th>\n",
       "      <td>...</td>\n",
       "      <td>...</td>\n",
       "      <td>...</td>\n",
       "      <td>...</td>\n",
       "    </tr>\n",
       "    <tr>\n",
       "      <th>NaN</th>\n",
       "      <td>If Sophia decides to attend the concert, his best friend will drive him there.</td>\n",
       "      <td>Sophia has a close friend.</td>\n",
       "      <td>type5_possessive</td>\n",
       "      <td>NEUTRAL</td>\n",
       "    </tr>\n",
       "    <tr>\n",
       "      <th>NaN</th>\n",
       "      <td>It's not the case that if Sophia decides to attend the concert, his best friend will drive him there.</td>\n",
       "      <td>Sophia has a close friend.</td>\n",
       "      <td>type5_possessive</td>\n",
       "      <td>NEUTRAL</td>\n",
       "    </tr>\n",
       "    <tr>\n",
       "      <th>NaN</th>\n",
       "      <td>Sam believes that if Sophia decides to attend the concert, his best friend will drive him there.</td>\n",
       "      <td>Sophia has a close friend.</td>\n",
       "      <td>type5_possessive</td>\n",
       "      <td>NEUTRAL</td>\n",
       "    </tr>\n",
       "    <tr>\n",
       "      <th>NaN</th>\n",
       "      <td>Is it true that if Sophia decides to attend the concert, his best friend will drive him there?</td>\n",
       "      <td>Sophia has a close friend.</td>\n",
       "      <td>type5_possessive</td>\n",
       "      <td>NEUTRAL</td>\n",
       "    </tr>\n",
       "    <tr>\n",
       "      <th>NaN</th>\n",
       "      <td>If Sophia decides to attend the concert, his best friend will drive him there.</td>\n",
       "      <td>Sophia has decided to attend the concert, but his best friend will not drive him.</td>\n",
       "      <td>type5_possessive</td>\n",
       "      <td>CONTRADICTION</td>\n",
       "    </tr>\n",
       "  </tbody>\n",
       "</table>\n",
       "<p>2367 rows × 4 columns</p>\n",
       "</div>"
      ],
      "text/plain": [
       "                                                                                                      premise  \\\n",
       "9616.0                                  If Charlotte passes her driving test, her parents will buy her a car.   \n",
       "9617.0           It's not the case that if Charlotte passes her driving test, her parents will buy her a car.   \n",
       "9618.0                Sam believes that if Charlotte passes her driving test, her parents will buy her a car.   \n",
       "9619.0                  Is it true that if Charlotte passes her driving test, her parents will buy her a car?   \n",
       "9628.0                          If Lily takes the train to the city, her friend will meet her at the station.   \n",
       "...                                                                                                       ...   \n",
       "NaN                            If Sophia decides to attend the concert, his best friend will drive him there.   \n",
       "NaN     It's not the case that if Sophia decides to attend the concert, his best friend will drive him there.   \n",
       "NaN          Sam believes that if Sophia decides to attend the concert, his best friend will drive him there.   \n",
       "NaN            Is it true that if Sophia decides to attend the concert, his best friend will drive him there?   \n",
       "NaN                            If Sophia decides to attend the concert, his best friend will drive him there.   \n",
       "\n",
       "                                                                               hypothesis  \\\n",
       "9616.0                                                             Charlotte has parents.   \n",
       "9617.0                                                             Charlotte has parents.   \n",
       "9618.0                                                             Charlotte has parents.   \n",
       "9619.0                                                             Charlotte has parents.   \n",
       "9628.0                                                                 Lily has a friend.   \n",
       "...                                                                                   ...   \n",
       "NaN                                                            Sophia has a close friend.   \n",
       "NaN                                                            Sophia has a close friend.   \n",
       "NaN                                                            Sophia has a close friend.   \n",
       "NaN                                                            Sophia has a close friend.   \n",
       "NaN     Sophia has decided to attend the concert, but his best friend will not drive him.   \n",
       "\n",
       "                    type          label  \n",
       "9616.0  type5_possessive     ENTAILMENT  \n",
       "9617.0  type5_possessive     ENTAILMENT  \n",
       "9618.0  type5_possessive     ENTAILMENT  \n",
       "9619.0  type5_possessive     ENTAILMENT  \n",
       "9628.0  type5_possessive     ENTAILMENT  \n",
       "...                  ...            ...  \n",
       "NaN     type5_possessive        NEUTRAL  \n",
       "NaN     type5_possessive        NEUTRAL  \n",
       "NaN     type5_possessive        NEUTRAL  \n",
       "NaN     type5_possessive        NEUTRAL  \n",
       "NaN     type5_possessive  CONTRADICTION  \n",
       "\n",
       "[2367 rows x 4 columns]"
      ]
     },
     "execution_count": 15,
     "metadata": {},
     "output_type": "execute_result"
    }
   ],
   "source": [
    "test_df['label'] = test_df['gold_label'].map({'E':'ENTAILMENT','N':'NEUTRAL','C':'CONTRADICTION'})\n",
    "test_df = test_df[['premise','hypothesis','type','label']]\n",
    "test_df"
   ]
  },
  {
   "cell_type": "code",
   "execution_count": 16,
   "metadata": {
    "execution": {
     "iopub.execute_input": "2025-03-11T17:53:16.061181Z",
     "iopub.status.busy": "2025-03-11T17:53:16.060794Z",
     "iopub.status.idle": "2025-03-11T17:53:16.087636Z",
     "shell.execute_reply": "2025-03-11T17:53:16.086911Z",
     "shell.execute_reply.started": "2025-03-11T17:53:16.061147Z"
    },
    "trusted": true
   },
   "outputs": [
    {
     "data": {
      "text/plain": [
       "Dataset({\n",
       "    features: ['premise', 'hypothesis', 'label', '__index_level_0__'],\n",
       "    num_rows: 1908\n",
       "})"
      ]
     },
     "execution_count": 16,
     "metadata": {},
     "output_type": "execute_result"
    }
   ],
   "source": [
    "train_ds = Dataset.from_pandas(train_df)\n",
    "train_ds"
   ]
  },
  {
   "cell_type": "code",
   "execution_count": 17,
   "metadata": {
    "execution": {
     "iopub.execute_input": "2025-03-11T17:53:16.088886Z",
     "iopub.status.busy": "2025-03-11T17:53:16.088654Z",
     "iopub.status.idle": "2025-03-11T17:53:16.101567Z",
     "shell.execute_reply": "2025-03-11T17:53:16.100846Z",
     "shell.execute_reply.started": "2025-03-11T17:53:16.088865Z"
    },
    "trusted": true
   },
   "outputs": [
    {
     "data": {
      "text/plain": [
       "Dataset({\n",
       "    features: ['premise', 'hypothesis', 'label', '__index_level_0__'],\n",
       "    num_rows: 478\n",
       "})"
      ]
     },
     "execution_count": 17,
     "metadata": {},
     "output_type": "execute_result"
    }
   ],
   "source": [
    "val_ds = Dataset.from_pandas(val_df)\n",
    "val_ds"
   ]
  },
  {
   "cell_type": "code",
   "execution_count": 18,
   "metadata": {
    "execution": {
     "iopub.execute_input": "2025-03-11T17:53:16.102693Z",
     "iopub.status.busy": "2025-03-11T17:53:16.102389Z",
     "iopub.status.idle": "2025-03-11T17:53:16.118552Z",
     "shell.execute_reply": "2025-03-11T17:53:16.117732Z",
     "shell.execute_reply.started": "2025-03-11T17:53:16.102662Z"
    },
    "trusted": true
   },
   "outputs": [
    {
     "data": {
      "text/plain": [
       "Dataset({\n",
       "    features: ['premise', 'hypothesis', 'type', 'label', '__index_level_0__'],\n",
       "    num_rows: 2367\n",
       "})"
      ]
     },
     "execution_count": 18,
     "metadata": {},
     "output_type": "execute_result"
    }
   ],
   "source": [
    "test_ds = Dataset.from_pandas(test_df)\n",
    "test_ds"
   ]
  },
  {
   "cell_type": "markdown",
   "metadata": {},
   "source": [
    "# Models"
   ]
  },
  {
   "cell_type": "code",
   "execution_count": 19,
   "metadata": {
    "execution": {
     "iopub.execute_input": "2025-03-11T17:53:16.119721Z",
     "iopub.status.busy": "2025-03-11T17:53:16.119432Z",
     "iopub.status.idle": "2025-03-11T17:53:16.123676Z",
     "shell.execute_reply": "2025-03-11T17:53:16.122961Z",
     "shell.execute_reply.started": "2025-03-11T17:53:16.119692Z"
    },
    "trusted": true
   },
   "outputs": [],
   "source": [
    "def preprocess_function(examples,tokenizer):\n",
    "    try: \n",
    "        return tokenizer(examples[\"premise\"], examples['hypothesis'], padding=\"max_length\", truncation=True)\n",
    "    except TypeError as e:\n",
    "        print(f\"Error processing examples: {examples['premise']}\")\n",
    "        raise e"
   ]
  },
  {
   "cell_type": "code",
   "execution_count": 20,
   "metadata": {
    "execution": {
     "iopub.execute_input": "2025-03-11T17:53:16.124711Z",
     "iopub.status.busy": "2025-03-11T17:53:16.124437Z",
     "iopub.status.idle": "2025-03-11T17:53:16.141232Z",
     "shell.execute_reply": "2025-03-11T17:53:16.140407Z",
     "shell.execute_reply.started": "2025-03-11T17:53:16.124690Z"
    },
    "trusted": true
   },
   "outputs": [],
   "source": [
    "def compute_metrics(eval_pred):\n",
    "    logits, labels = eval_pred\n",
    "    predictions = np.argmax(logits, axis=-1)\n",
    "    acc = np.mean(predictions == labels)\n",
    "    precision = precision_score(labels, predictions, average='weighted')\n",
    "    recall = recall_score(labels, predictions, average='weighted')\n",
    "    f1 = f1_score(labels, predictions, average='weighted')\n",
    "    gmean = geometric_mean_score(labels, predictions, average='weighted')\n",
    "    return {'accuracy': acc, 'precision': precision, 'recall': recall, 'f1_score': f1, 'gmean': gmean}"
   ]
  },
  {
   "cell_type": "code",
   "execution_count": 21,
   "metadata": {
    "execution": {
     "iopub.execute_input": "2025-03-11T17:53:16.142381Z",
     "iopub.status.busy": "2025-03-11T17:53:16.142032Z",
     "iopub.status.idle": "2025-03-11T17:53:16.161704Z",
     "shell.execute_reply": "2025-03-11T17:53:16.160861Z",
     "shell.execute_reply.started": "2025-03-11T17:53:16.142355Z"
    },
    "trusted": true
   },
   "outputs": [],
   "source": [
    "def compute_metrics_by_type(group):\n",
    "    predictions = group['expected_label']\n",
    "    labels = group['predicted_label']\n",
    "    acc = np.mean(predictions == labels)\n",
    "    precision = precision_score(labels, predictions,average=\"weighted\")\n",
    "    recall = recall_score(labels, predictions,average=\"weighted\")\n",
    "    f1 = f1_score(labels, predictions,average=\"weighted\")\n",
    "    return pd.Series({'accuracy': round(acc,2), 'precision': round(precision,2), 'recall': round(recall,2), 'f1_score': round(f1,2)})"
   ]
  },
  {
   "cell_type": "markdown",
   "metadata": {},
   "source": [
    "## deberta-large-mnli"
   ]
  },
  {
   "cell_type": "code",
   "execution_count": 22,
   "metadata": {
    "execution": {
     "iopub.execute_input": "2025-03-11T17:53:33.407634Z",
     "iopub.status.busy": "2025-03-11T17:53:33.407266Z",
     "iopub.status.idle": "2025-03-11T17:53:34.520579Z",
     "shell.execute_reply": "2025-03-11T17:53:34.519867Z",
     "shell.execute_reply.started": "2025-03-11T17:53:33.407605Z"
    },
    "trusted": true
   },
   "outputs": [
    {
     "data": {
      "application/vnd.jupyter.widget-view+json": {
       "model_id": "f07665c7e38b47f2b505ace33f2475ca",
       "version_major": 2,
       "version_minor": 0
      },
      "text/plain": [
       "tokenizer_config.json:   0%|          | 0.00/52.0 [00:00<?, ?B/s]"
      ]
     },
     "metadata": {},
     "output_type": "display_data"
    },
    {
     "data": {
      "application/vnd.jupyter.widget-view+json": {
       "model_id": "f908a7f6e44b4581b782df5ed9950136",
       "version_major": 2,
       "version_minor": 0
      },
      "text/plain": [
       "config.json:   0%|          | 0.00/729 [00:00<?, ?B/s]"
      ]
     },
     "metadata": {},
     "output_type": "display_data"
    },
    {
     "data": {
      "application/vnd.jupyter.widget-view+json": {
       "model_id": "d615840e264f4ac0bccd7a01b96a295c",
       "version_major": 2,
       "version_minor": 0
      },
      "text/plain": [
       "vocab.json:   0%|          | 0.00/899k [00:00<?, ?B/s]"
      ]
     },
     "metadata": {},
     "output_type": "display_data"
    },
    {
     "data": {
      "application/vnd.jupyter.widget-view+json": {
       "model_id": "17e3f967407e40b5abbcb07192174e66",
       "version_major": 2,
       "version_minor": 0
      },
      "text/plain": [
       "merges.txt:   0%|          | 0.00/456k [00:00<?, ?B/s]"
      ]
     },
     "metadata": {},
     "output_type": "display_data"
    }
   ],
   "source": [
    "checkpoint = \"microsoft/deberta-large-mnli\"\n",
    "tokenizer = AutoTokenizer.from_pretrained(checkpoint)"
   ]
  },
  {
   "cell_type": "code",
   "execution_count": 23,
   "metadata": {
    "execution": {
     "iopub.execute_input": "2025-03-11T17:53:36.817577Z",
     "iopub.status.busy": "2025-03-11T17:53:36.817289Z",
     "iopub.status.idle": "2025-03-11T17:54:17.817102Z",
     "shell.execute_reply": "2025-03-11T17:54:17.815912Z",
     "shell.execute_reply.started": "2025-03-11T17:53:36.817555Z"
    },
    "trusted": true
   },
   "outputs": [
    {
     "data": {
      "application/vnd.jupyter.widget-view+json": {
       "model_id": "99a3399a0d7f44e28005e8172da5f46b",
       "version_major": 2,
       "version_minor": 0
      },
      "text/plain": [
       "pytorch_model.bin:   0%|          | 0.00/1.62G [00:00<?, ?B/s]"
      ]
     },
     "metadata": {},
     "output_type": "display_data"
    },
    {
     "name": "stderr",
     "output_type": "stream",
     "text": [
      "Some weights of the model checkpoint at microsoft/deberta-large-mnli were not used when initializing DebertaForSequenceClassification: ['config']\n",
      "- This IS expected if you are initializing DebertaForSequenceClassification from the checkpoint of a model trained on another task or with another architecture (e.g. initializing a BertForSequenceClassification model from a BertForPreTraining model).\n",
      "- This IS NOT expected if you are initializing DebertaForSequenceClassification from the checkpoint of a model that you expect to be exactly identical (initializing a BertForSequenceClassification model from a BertForSequenceClassification model).\n"
     ]
    }
   ],
   "source": [
    "model = AutoModelForSequenceClassification.from_pretrained(checkpoint, num_labels=3)"
   ]
  },
  {
   "cell_type": "code",
   "execution_count": 24,
   "metadata": {
    "execution": {
     "iopub.execute_input": "2025-03-11T17:54:23.582745Z",
     "iopub.status.busy": "2025-03-11T17:54:23.582349Z",
     "iopub.status.idle": "2025-03-11T17:54:24.262040Z",
     "shell.execute_reply": "2025-03-11T17:54:24.261177Z",
     "shell.execute_reply.started": "2025-03-11T17:54:23.582710Z"
    },
    "trusted": true
   },
   "outputs": [
    {
     "data": {
      "application/vnd.jupyter.widget-view+json": {
       "model_id": "608ef8952b444987a1291ec0cbac4d3c",
       "version_major": 2,
       "version_minor": 0
      },
      "text/plain": [
       "Map:   0%|          | 0/1908 [00:00<?, ? examples/s]"
      ]
     },
     "metadata": {},
     "output_type": "display_data"
    },
    {
     "name": "stderr",
     "output_type": "stream",
     "text": [
      "Asking to pad to max_length but no maximum length is provided and the model has no predefined maximum length. Default to no padding.\n",
      "Asking to truncate to max_length but no maximum length is provided and the model has no predefined maximum length. Default to no truncation.\n"
     ]
    },
    {
     "data": {
      "application/vnd.jupyter.widget-view+json": {
       "model_id": "31e1fb3ead174bd8ac315d051b91b73c",
       "version_major": 2,
       "version_minor": 0
      },
      "text/plain": [
       "Map:   0%|          | 0/478 [00:00<?, ? examples/s]"
      ]
     },
     "metadata": {},
     "output_type": "display_data"
    },
    {
     "data": {
      "application/vnd.jupyter.widget-view+json": {
       "model_id": "3ff75492df1e42be80f557dddc396a9a",
       "version_major": 2,
       "version_minor": 0
      },
      "text/plain": [
       "Map:   0%|          | 0/2367 [00:00<?, ? examples/s]"
      ]
     },
     "metadata": {},
     "output_type": "display_data"
    }
   ],
   "source": [
    "tokenized_train_ds = train_ds.map(lambda x: preprocess_function(x, tokenizer), batched=True)\n",
    "tokenized_val_ds = val_ds.map(lambda x: preprocess_function(x, tokenizer), batched=True)\n",
    "tokenized_test_ds = test_ds.map(lambda x: preprocess_function(x, tokenizer), batched=True)\n",
    "data_collator = DataCollatorWithPadding(tokenizer=tokenizer)"
   ]
  },
  {
   "cell_type": "code",
   "execution_count": 25,
   "metadata": {
    "execution": {
     "iopub.execute_input": "2025-03-09T22:56:23.793403Z",
     "iopub.status.busy": "2025-03-09T22:56:23.792941Z",
     "iopub.status.idle": "2025-03-09T22:56:23.801066Z",
     "shell.execute_reply": "2025-03-09T22:56:23.799942Z",
     "shell.execute_reply.started": "2025-03-09T22:56:23.793348Z"
    },
    "trusted": true
   },
   "outputs": [
    {
     "data": {
      "text/plain": [
       "1908"
      ]
     },
     "execution_count": 25,
     "metadata": {},
     "output_type": "execute_result"
    }
   ],
   "source": [
    "len(train_ds)"
   ]
  },
  {
   "cell_type": "code",
   "execution_count": 27,
   "metadata": {
    "execution": {
     "iopub.execute_input": "2025-03-11T17:55:05.464077Z",
     "iopub.status.busy": "2025-03-11T17:55:05.463761Z",
     "iopub.status.idle": "2025-03-11T17:55:06.336441Z",
     "shell.execute_reply": "2025-03-11T17:55:06.335591Z",
     "shell.execute_reply.started": "2025-03-11T17:55:05.464053Z"
    },
    "trusted": true
   },
   "outputs": [
    {
     "name": "stderr",
     "output_type": "stream",
     "text": [
      "/usr/local/lib/python3.10/dist-packages/transformers/training_args.py:1575: FutureWarning: `evaluation_strategy` is deprecated and will be removed in version 4.46 of 🤗 Transformers. Use `eval_strategy` instead\n",
      "  warnings.warn(\n",
      "<ipython-input-27-4cdc4dbd706f>:14: FutureWarning: `tokenizer` is deprecated and will be removed in version 5.0.0 for `Trainer.__init__`. Use `processing_class` instead.\n",
      "  trainer = Trainer(\n"
     ]
    }
   ],
   "source": [
    "random_seed = random.randint(0, 2**32 - 1)\n",
    "training_args = TrainingArguments(\n",
    "    output_dir=\"./results\",\n",
    "    num_train_epochs=3, # Set the number of epochs to 1\n",
    "    logging_steps=100,\n",
    "    evaluation_strategy=\"epoch\",\n",
    "    eval_steps=100,\n",
    "    # evaluation_strategy=\"no\",\n",
    "    save_strategy=\"epoch\",  # Save the model at the end of each epoch\n",
    "    load_best_model_at_end=True,  # Load the best model at the end of training\n",
    "    report_to=\"none\",\n",
    "    seed=random_seed\n",
    ")\n",
    "trainer = Trainer(\n",
    "    model,\n",
    "    args=training_args,\n",
    "    train_dataset=tokenized_train_ds,\n",
    "    eval_dataset=tokenized_val_ds,\n",
    "    compute_metrics=compute_metrics,\n",
    "    data_collator=data_collator,\n",
    "    tokenizer=tokenizer,\n",
    "    callbacks=[]\n",
    ")"
   ]
  },
  {
   "cell_type": "code",
   "execution_count": 28,
   "metadata": {
    "execution": {
     "iopub.execute_input": "2025-03-11T17:55:15.734646Z",
     "iopub.status.busy": "2025-03-11T17:55:15.734330Z",
     "iopub.status.idle": "2025-03-11T18:01:52.890297Z",
     "shell.execute_reply": "2025-03-11T18:01:52.889469Z",
     "shell.execute_reply.started": "2025-03-11T17:55:15.734623Z"
    },
    "trusted": true
   },
   "outputs": [
    {
     "data": {
      "text/html": [
       "\n",
       "    <div>\n",
       "      \n",
       "      <progress value='717' max='717' style='width:300px; height:20px; vertical-align: middle;'></progress>\n",
       "      [717/717 06:30, Epoch 3/3]\n",
       "    </div>\n",
       "    <table border=\"1\" class=\"dataframe\">\n",
       "  <thead>\n",
       " <tr style=\"text-align: left;\">\n",
       "      <th>Epoch</th>\n",
       "      <th>Training Loss</th>\n",
       "      <th>Validation Loss</th>\n",
       "      <th>Accuracy</th>\n",
       "      <th>Precision</th>\n",
       "      <th>Recall</th>\n",
       "      <th>F1 Score</th>\n",
       "      <th>Gmean</th>\n",
       "    </tr>\n",
       "  </thead>\n",
       "  <tbody>\n",
       "    <tr>\n",
       "      <td>1</td>\n",
       "      <td>0.599400</td>\n",
       "      <td>0.588759</td>\n",
       "      <td>0.805439</td>\n",
       "      <td>0.648733</td>\n",
       "      <td>0.805439</td>\n",
       "      <td>0.718642</td>\n",
       "      <td>0.395862</td>\n",
       "    </tr>\n",
       "    <tr>\n",
       "      <td>2</td>\n",
       "      <td>0.553000</td>\n",
       "      <td>0.559639</td>\n",
       "      <td>0.805439</td>\n",
       "      <td>0.648733</td>\n",
       "      <td>0.805439</td>\n",
       "      <td>0.718642</td>\n",
       "      <td>0.395862</td>\n",
       "    </tr>\n",
       "    <tr>\n",
       "      <td>3</td>\n",
       "      <td>0.557400</td>\n",
       "      <td>0.560513</td>\n",
       "      <td>0.805439</td>\n",
       "      <td>0.648733</td>\n",
       "      <td>0.805439</td>\n",
       "      <td>0.718642</td>\n",
       "      <td>0.395862</td>\n",
       "    </tr>\n",
       "  </tbody>\n",
       "</table><p>"
      ],
      "text/plain": [
       "<IPython.core.display.HTML object>"
      ]
     },
     "metadata": {},
     "output_type": "display_data"
    },
    {
     "name": "stderr",
     "output_type": "stream",
     "text": [
      "/usr/local/lib/python3.10/dist-packages/sklearn/metrics/_classification.py:1344: UndefinedMetricWarning: Precision is ill-defined and being set to 0.0 in labels with no predicted samples. Use `zero_division` parameter to control this behavior.\n",
      "  _warn_prf(average, modifier, msg_start, len(result))\n",
      "/usr/local/lib/python3.10/dist-packages/sklearn/metrics/_classification.py:1344: UndefinedMetricWarning: Precision is ill-defined and being set to 0.0 in labels with no predicted samples. Use `zero_division` parameter to control this behavior.\n",
      "  _warn_prf(average, modifier, msg_start, len(result))\n",
      "/usr/local/lib/python3.10/dist-packages/sklearn/metrics/_classification.py:1344: UndefinedMetricWarning: Precision is ill-defined and being set to 0.0 in labels with no predicted samples. Use `zero_division` parameter to control this behavior.\n",
      "  _warn_prf(average, modifier, msg_start, len(result))\n"
     ]
    }
   ],
   "source": [
    "trainer.train() \n",
    "trainer.save_model(\"deberta\")"
   ]
  },
  {
   "cell_type": "code",
   "execution_count": 26,
   "metadata": {
    "execution": {
     "iopub.execute_input": "2025-03-11T01:07:28.770274Z",
     "iopub.status.busy": "2025-03-11T01:07:28.769904Z",
     "iopub.status.idle": "2025-03-11T01:14:01.103446Z",
     "shell.execute_reply": "2025-03-11T01:14:01.102737Z",
     "shell.execute_reply.started": "2025-03-11T01:07:28.770242Z"
    },
    "trusted": true
   },
   "outputs": [
    {
     "data": {
      "text/html": [
       "\n",
       "    <div>\n",
       "      \n",
       "      <progress value='717' max='717' style='width:300px; height:20px; vertical-align: middle;'></progress>\n",
       "      [717/717 06:26, Epoch 3/3]\n",
       "    </div>\n",
       "    <table border=\"1\" class=\"dataframe\">\n",
       "  <thead>\n",
       " <tr style=\"text-align: left;\">\n",
       "      <th>Epoch</th>\n",
       "      <th>Training Loss</th>\n",
       "      <th>Validation Loss</th>\n",
       "      <th>Accuracy</th>\n",
       "      <th>Precision</th>\n",
       "      <th>Recall</th>\n",
       "      <th>F1 Score</th>\n",
       "      <th>Gmean</th>\n",
       "    </tr>\n",
       "  </thead>\n",
       "  <tbody>\n",
       "    <tr>\n",
       "      <td>1</td>\n",
       "      <td>0.511200</td>\n",
       "      <td>0.564696</td>\n",
       "      <td>0.807531</td>\n",
       "      <td>0.768289</td>\n",
       "      <td>0.807531</td>\n",
       "      <td>0.727356</td>\n",
       "      <td>0.413208</td>\n",
       "    </tr>\n",
       "    <tr>\n",
       "      <td>2</td>\n",
       "      <td>0.404700</td>\n",
       "      <td>0.521664</td>\n",
       "      <td>0.817992</td>\n",
       "      <td>0.784650</td>\n",
       "      <td>0.817992</td>\n",
       "      <td>0.798228</td>\n",
       "      <td>0.635012</td>\n",
       "    </tr>\n",
       "    <tr>\n",
       "      <td>3</td>\n",
       "      <td>0.266100</td>\n",
       "      <td>0.750749</td>\n",
       "      <td>0.826360</td>\n",
       "      <td>0.799239</td>\n",
       "      <td>0.826360</td>\n",
       "      <td>0.811310</td>\n",
       "      <td>0.670499</td>\n",
       "    </tr>\n",
       "  </tbody>\n",
       "</table><p>"
      ],
      "text/plain": [
       "<IPython.core.display.HTML object>"
      ]
     },
     "metadata": {},
     "output_type": "display_data"
    },
    {
     "name": "stderr",
     "output_type": "stream",
     "text": [
      "/usr/local/lib/python3.10/dist-packages/sklearn/metrics/_classification.py:1344: UndefinedMetricWarning: Precision is ill-defined and being set to 0.0 in labels with no predicted samples. Use `zero_division` parameter to control this behavior.\n",
      "  _warn_prf(average, modifier, msg_start, len(result))\n",
      "/usr/local/lib/python3.10/dist-packages/sklearn/metrics/_classification.py:1344: UndefinedMetricWarning: Precision is ill-defined and being set to 0.0 in labels with no predicted samples. Use `zero_division` parameter to control this behavior.\n",
      "  _warn_prf(average, modifier, msg_start, len(result))\n",
      "/usr/local/lib/python3.10/dist-packages/sklearn/metrics/_classification.py:1344: UndefinedMetricWarning: Precision is ill-defined and being set to 0.0 in labels with no predicted samples. Use `zero_division` parameter to control this behavior.\n",
      "  _warn_prf(average, modifier, msg_start, len(result))\n"
     ]
    }
   ],
   "source": [
    "trainer.train() \n",
    "trainer.save_model(\"deberta\")"
   ]
  },
  {
   "cell_type": "code",
   "execution_count": 29,
   "metadata": {
    "execution": {
     "iopub.execute_input": "2025-02-01T20:02:37.409253Z",
     "iopub.status.busy": "2025-02-01T20:02:37.408893Z",
     "iopub.status.idle": "2025-02-01T20:05:32.921920Z",
     "shell.execute_reply": "2025-02-01T20:05:32.920317Z",
     "shell.execute_reply.started": "2025-02-01T20:02:37.409223Z"
    },
    "trusted": true
   },
   "outputs": [
    {
     "name": "stderr",
     "output_type": "stream",
     "text": [
      "/usr/local/lib/python3.10/dist-packages/torch/nn/parallel/_functions.py:71: UserWarning: Was asked to gather along dimension 0, but all input tensors were scalars; will instead unsqueeze and return a vector.\n",
      "  warnings.warn(\n"
     ]
    },
    {
     "data": {
      "text/html": [
       "\n",
       "    <div>\n",
       "      \n",
       "      <progress value='120' max='120' style='width:300px; height:20px; vertical-align: middle;'></progress>\n",
       "      [120/120 02:44, Epoch 1/1]\n",
       "    </div>\n",
       "    <table border=\"1\" class=\"dataframe\">\n",
       "  <thead>\n",
       " <tr style=\"text-align: left;\">\n",
       "      <th>Step</th>\n",
       "      <th>Training Loss</th>\n",
       "      <th>Validation Loss</th>\n",
       "      <th>Accuracy</th>\n",
       "      <th>Precision</th>\n",
       "      <th>Recall</th>\n",
       "      <th>F1 Score</th>\n",
       "      <th>Gmean</th>\n",
       "    </tr>\n",
       "  </thead>\n",
       "  <tbody>\n",
       "    <tr>\n",
       "      <td>100</td>\n",
       "      <td>0.557000</td>\n",
       "      <td>0.460474</td>\n",
       "      <td>0.826360</td>\n",
       "      <td>0.800157</td>\n",
       "      <td>0.826360</td>\n",
       "      <td>0.811925</td>\n",
       "      <td>0.670499</td>\n",
       "    </tr>\n",
       "  </tbody>\n",
       "</table><p>"
      ],
      "text/plain": [
       "<IPython.core.display.HTML object>"
      ]
     },
     "metadata": {},
     "output_type": "display_data"
    },
    {
     "name": "stderr",
     "output_type": "stream",
     "text": [
      "/usr/local/lib/python3.10/dist-packages/sklearn/metrics/_classification.py:1344: UndefinedMetricWarning: Precision is ill-defined and being set to 0.0 in labels with no predicted samples. Use `zero_division` parameter to control this behavior.\n",
      "  _warn_prf(average, modifier, msg_start, len(result))\n",
      "/usr/local/lib/python3.10/dist-packages/torch/nn/parallel/_functions.py:71: UserWarning: Was asked to gather along dimension 0, but all input tensors were scalars; will instead unsqueeze and return a vector.\n",
      "  warnings.warn(\n"
     ]
    }
   ],
   "source": [
    "trainer.train() \n",
    "trainer.save_model(\"deberta\")"
   ]
  },
  {
   "cell_type": "code",
   "execution_count": 33,
   "metadata": {
    "execution": {
     "iopub.execute_input": "2025-02-01T20:14:13.566939Z",
     "iopub.status.busy": "2025-02-01T20:14:13.566557Z",
     "iopub.status.idle": "2025-02-01T20:14:13.713936Z",
     "shell.execute_reply": "2025-02-01T20:14:13.713236Z",
     "shell.execute_reply.started": "2025-02-01T20:14:13.566914Z"
    },
    "trusted": true
   },
   "outputs": [],
   "source": [
    "model = AutoModelForSequenceClassification.from_pretrained(\"deberta\")"
   ]
  },
  {
   "cell_type": "code",
   "execution_count": 35,
   "metadata": {
    "execution": {
     "iopub.execute_input": "2025-02-01T20:14:36.808291Z",
     "iopub.status.busy": "2025-02-01T20:14:36.807971Z",
     "iopub.status.idle": "2025-02-01T20:20:28.979454Z",
     "shell.execute_reply": "2025-02-01T20:20:28.978734Z",
     "shell.execute_reply.started": "2025-02-01T20:14:36.808267Z"
    },
    "trusted": true
   },
   "outputs": [
    {
     "name": "stderr",
     "output_type": "stream",
     "text": [
      "/usr/local/lib/python3.10/dist-packages/transformers/trainer.py:3418: FutureWarning: You are using `torch.load` with `weights_only=False` (the current default value), which uses the default pickle module implicitly. It is possible to construct malicious pickle data which will execute arbitrary code during unpickling (See https://github.com/pytorch/pytorch/blob/main/SECURITY.md#untrusted-models for more details). In a future release, the default value for `weights_only` will be flipped to `True`. This limits the functions that could be executed during unpickling. Arbitrary objects will no longer be allowed to be loaded via this mode unless they are explicitly allowlisted by the user via `torch.serialization.add_safe_globals`. We recommend you start setting `weights_only=True` for any use case where you don't have full control of the loaded file. Please open an issue on GitHub for any issues related to this experimental feature.\n",
      "  torch.load(os.path.join(checkpoint, OPTIMIZER_NAME), map_location=map_location)\n",
      "/usr/local/lib/python3.10/dist-packages/transformers/trainer.py:3081: FutureWarning: You are using `torch.load` with `weights_only=False` (the current default value), which uses the default pickle module implicitly. It is possible to construct malicious pickle data which will execute arbitrary code during unpickling (See https://github.com/pytorch/pytorch/blob/main/SECURITY.md#untrusted-models for more details). In a future release, the default value for `weights_only` will be flipped to `True`. This limits the functions that could be executed during unpickling. Arbitrary objects will no longer be allowed to be loaded via this mode unless they are explicitly allowlisted by the user via `torch.serialization.add_safe_globals`. We recommend you start setting `weights_only=True` for any use case where you don't have full control of the loaded file. Please open an issue on GitHub for any issues related to this experimental feature.\n",
      "  checkpoint_rng_state = torch.load(rng_file)\n",
      "/usr/local/lib/python3.10/dist-packages/torch/nn/parallel/_functions.py:71: UserWarning: Was asked to gather along dimension 0, but all input tensors were scalars; will instead unsqueeze and return a vector.\n",
      "  warnings.warn(\n"
     ]
    },
    {
     "data": {
      "text/html": [
       "\n",
       "    <div>\n",
       "      \n",
       "      <progress value='360' max='360' style='width:300px; height:20px; vertical-align: middle;'></progress>\n",
       "      [360/360 05:46, Epoch 3/3]\n",
       "    </div>\n",
       "    <table border=\"1\" class=\"dataframe\">\n",
       "  <thead>\n",
       " <tr style=\"text-align: left;\">\n",
       "      <th>Step</th>\n",
       "      <th>Training Loss</th>\n",
       "      <th>Validation Loss</th>\n",
       "      <th>Accuracy</th>\n",
       "      <th>Precision</th>\n",
       "      <th>Recall</th>\n",
       "      <th>F1 Score</th>\n",
       "      <th>Gmean</th>\n",
       "    </tr>\n",
       "  </thead>\n",
       "  <tbody>\n",
       "    <tr>\n",
       "      <td>200</td>\n",
       "      <td>0.366000</td>\n",
       "      <td>0.548623</td>\n",
       "      <td>0.803347</td>\n",
       "      <td>0.795407</td>\n",
       "      <td>0.803347</td>\n",
       "      <td>0.799101</td>\n",
       "      <td>0.692316</td>\n",
       "    </tr>\n",
       "    <tr>\n",
       "      <td>300</td>\n",
       "      <td>0.262100</td>\n",
       "      <td>0.733578</td>\n",
       "      <td>0.811715</td>\n",
       "      <td>0.795133</td>\n",
       "      <td>0.811715</td>\n",
       "      <td>0.803328</td>\n",
       "      <td>0.682451</td>\n",
       "    </tr>\n",
       "  </tbody>\n",
       "</table><p>"
      ],
      "text/plain": [
       "<IPython.core.display.HTML object>"
      ]
     },
     "metadata": {},
     "output_type": "display_data"
    },
    {
     "name": "stderr",
     "output_type": "stream",
     "text": [
      "/usr/local/lib/python3.10/dist-packages/sklearn/metrics/_classification.py:1344: UndefinedMetricWarning: Precision is ill-defined and being set to 0.0 in labels with no predicted samples. Use `zero_division` parameter to control this behavior.\n",
      "  _warn_prf(average, modifier, msg_start, len(result))\n",
      "/usr/local/lib/python3.10/dist-packages/torch/nn/parallel/_functions.py:71: UserWarning: Was asked to gather along dimension 0, but all input tensors were scalars; will instead unsqueeze and return a vector.\n",
      "  warnings.warn(\n",
      "/usr/local/lib/python3.10/dist-packages/torch/nn/parallel/_functions.py:71: UserWarning: Was asked to gather along dimension 0, but all input tensors were scalars; will instead unsqueeze and return a vector.\n",
      "  warnings.warn(\n",
      "/usr/local/lib/python3.10/dist-packages/sklearn/metrics/_classification.py:1344: UndefinedMetricWarning: Precision is ill-defined and being set to 0.0 in labels with no predicted samples. Use `zero_division` parameter to control this behavior.\n",
      "  _warn_prf(average, modifier, msg_start, len(result))\n",
      "/usr/local/lib/python3.10/dist-packages/torch/nn/parallel/_functions.py:71: UserWarning: Was asked to gather along dimension 0, but all input tensors were scalars; will instead unsqueeze and return a vector.\n",
      "  warnings.warn(\n"
     ]
    },
    {
     "data": {
      "text/plain": [
       "TrainOutput(global_step=360, training_loss=0.18835104836357963, metrics={'train_runtime': 347.1466, 'train_samples_per_second': 16.489, 'train_steps_per_second': 1.037, 'total_flos': 1440421685308536.0, 'train_loss': 0.18835104836357963, 'epoch': 3.0})"
      ]
     },
     "execution_count": 35,
     "metadata": {},
     "output_type": "execute_result"
    }
   ],
   "source": [
    "trainer.train(resume_from_checkpoint=True)"
   ]
  },
  {
   "cell_type": "code",
   "execution_count": 36,
   "metadata": {
    "execution": {
     "iopub.execute_input": "2025-02-01T20:23:46.474384Z",
     "iopub.status.busy": "2025-02-01T20:23:46.473993Z",
     "iopub.status.idle": "2025-02-01T20:23:46.618199Z",
     "shell.execute_reply": "2025-02-01T20:23:46.617438Z",
     "shell.execute_reply.started": "2025-02-01T20:23:46.474341Z"
    },
    "trusted": true
   },
   "outputs": [],
   "source": [
    "# metrics decrease after training for more than one epoch - reload from one epoch \n",
    "model = AutoModelForSequenceClassification.from_pretrained(\"deberta\")"
   ]
  },
  {
   "cell_type": "code",
   "execution_count": null,
   "metadata": {
    "execution": {
     "iopub.execute_input": "2025-03-11T18:02:29.257556Z",
     "iopub.status.busy": "2025-03-11T18:02:29.257225Z",
     "iopub.status.idle": "2025-03-11T18:02:29.424333Z",
     "shell.execute_reply": "2025-03-11T18:02:29.423541Z",
     "shell.execute_reply.started": "2025-03-11T18:02:29.257532Z"
    },
    "trusted": true
   },
   "outputs": [
    {
     "name": "stderr",
     "output_type": "stream",
     "text": [
      "/usr/local/lib/python3.10/dist-packages/huggingface_hub/utils/_deprecation.py:100: FutureWarning: Deprecated argument(s) used in 'login': write_permission. Will not be supported from version '1.0'.\n",
      "\n",
      "Fine-grained tokens added complexity to the permissions, making it irrelevant to check if a token has 'write' access.\n",
      "  warnings.warn(message, FutureWarning)\n",
      "Token has not been saved to git credential helper.\n"
     ]
    },
    {
     "name": "stdout",
     "output_type": "stream",
     "text": [
      "\u001b[1m\u001b[31mCannot authenticate through git-credential as no helper is defined on your machine.\n",
      "You might have to re-authenticate when pushing to the Hugging Face Hub.\n",
      "Run the following command in your terminal in case you want to set the 'store' credential helper as default.\n",
      "\n",
      "git config --global credential.helper store\n",
      "\n",
      "Read https://git-scm.com/book/en/v2/Git-Tools-Credential-Storage for more details.\u001b[0m\n"
     ]
    }
   ],
   "source": [
    "# uploading to HuggingFace \n",
    "from huggingface_hub import login\n",
    "\n",
    "login(new_session=False, # Won’t request token if one is already saved on machine\n",
    "write_permission=True, # Requires a token with write permission\n",
    "token=\"\", # The name of your token\n",
    "add_to_git_credential=True)"
   ]
  },
  {
   "cell_type": "code",
   "execution_count": 30,
   "metadata": {
    "execution": {
     "iopub.execute_input": "2025-03-11T18:04:14.123932Z",
     "iopub.status.busy": "2025-03-11T18:04:14.123595Z",
     "iopub.status.idle": "2025-03-11T18:04:57.672769Z",
     "shell.execute_reply": "2025-03-11T18:04:57.671789Z",
     "shell.execute_reply.started": "2025-03-11T18:04:14.123906Z"
    },
    "trusted": true
   },
   "outputs": [
    {
     "data": {
      "application/vnd.jupyter.widget-view+json": {
       "model_id": "9004bdad6dbd42b79e7fee3cae90476e",
       "version_major": 2,
       "version_minor": 0
      },
      "text/plain": [
       "Upload 2 LFS files:   0%|          | 0/2 [00:00<?, ?it/s]"
      ]
     },
     "metadata": {},
     "output_type": "display_data"
    },
    {
     "data": {
      "application/vnd.jupyter.widget-view+json": {
       "model_id": "750f75250e0a423cadcbd39f4b046000",
       "version_major": 2,
       "version_minor": 0
      },
      "text/plain": [
       "model.safetensors:   0%|          | 0.00/1.62G [00:00<?, ?B/s]"
      ]
     },
     "metadata": {},
     "output_type": "display_data"
    },
    {
     "data": {
      "application/vnd.jupyter.widget-view+json": {
       "model_id": "a1d250605e5c41bba015907b21e1e5d6",
       "version_major": 2,
       "version_minor": 0
      },
      "text/plain": [
       "training_args.bin:   0%|          | 0.00/5.30k [00:00<?, ?B/s]"
      ]
     },
     "metadata": {},
     "output_type": "display_data"
    },
    {
     "data": {
      "text/plain": [
       "CommitInfo(commit_url='https://huggingface.co/ConditionalNLI/exp3_deberta-large-mnli/commit/7f579f9816edc93884a4e41d5fb7dc799d56a76e', commit_message='Run 3', commit_description='', oid='7f579f9816edc93884a4e41d5fb7dc799d56a76e', pr_url=None, repo_url=RepoUrl('https://huggingface.co/ConditionalNLI/exp3_deberta-large-mnli', endpoint='https://huggingface.co', repo_type='model', repo_id='ConditionalNLI/exp3_deberta-large-mnli'), pr_revision=None, pr_num=None)"
      ]
     },
     "execution_count": 30,
     "metadata": {},
     "output_type": "execute_result"
    }
   ],
   "source": [
    "from huggingface_hub import HfApi\n",
    "api = HfApi()\n",
    "\n",
    "# Upload all the content from the local folder to your remote Space.\n",
    "# By default, files are uploaded at the root of the repo\n",
    "api.upload_folder(\n",
    "    folder_path='/kaggle/working/deberta',\n",
    "    repo_id=\"ConditionalNLI/exp3_deberta-large-mnli\",\n",
    "    commit_message=\"Run 3\" \n",
    ")"
   ]
  },
  {
   "cell_type": "markdown",
   "metadata": {},
   "source": [
    "### Inferencing"
   ]
  },
  {
   "cell_type": "code",
   "execution_count": 31,
   "metadata": {
    "execution": {
     "iopub.execute_input": "2025-03-11T18:05:02.124691Z",
     "iopub.status.busy": "2025-03-11T18:05:02.124388Z",
     "iopub.status.idle": "2025-03-11T18:05:02.270304Z",
     "shell.execute_reply": "2025-03-11T18:05:02.269349Z",
     "shell.execute_reply.started": "2025-03-11T18:05:02.124668Z"
    },
    "trusted": true
   },
   "outputs": [],
   "source": [
    "from transformers import pipeline\n",
    "from datasets import load_dataset, Dataset\n",
    "from transformers.pipelines.pt_utils import KeyDataset, KeyPairDataset\n",
    "import torch"
   ]
  },
  {
   "cell_type": "code",
   "execution_count": 32,
   "metadata": {
    "execution": {
     "iopub.execute_input": "2025-03-11T18:05:05.307669Z",
     "iopub.status.busy": "2025-03-11T18:05:05.307250Z",
     "iopub.status.idle": "2025-03-11T18:05:05.313491Z",
     "shell.execute_reply": "2025-03-11T18:05:05.312523Z",
     "shell.execute_reply.started": "2025-03-11T18:05:05.307631Z"
    },
    "trusted": true
   },
   "outputs": [
    {
     "name": "stdout",
     "output_type": "stream",
     "text": [
      "GPU is available!\n"
     ]
    }
   ],
   "source": [
    "if torch.cuda.is_available():\n",
    "    print(\"GPU is available!\")\n",
    "    device = torch.device(\"cuda\")\n",
    "else:\n",
    "    print(\"GPU is not available, using CPU\")\n",
    "    device = torch.device(\"cpu\")"
   ]
  },
  {
   "cell_type": "code",
   "execution_count": 33,
   "metadata": {
    "execution": {
     "iopub.execute_input": "2025-03-11T18:05:43.799913Z",
     "iopub.status.busy": "2025-03-11T18:05:43.799530Z",
     "iopub.status.idle": "2025-03-11T18:06:01.164739Z",
     "shell.execute_reply": "2025-03-11T18:06:01.163854Z",
     "shell.execute_reply.started": "2025-03-11T18:05:43.799880Z"
    },
    "trusted": true
   },
   "outputs": [
    {
     "data": {
      "application/vnd.jupyter.widget-view+json": {
       "model_id": "8f2ec0fabdd5467281b0d2edb6926068",
       "version_major": 2,
       "version_minor": 0
      },
      "text/plain": [
       "config.json:   0%|          | 0.00/985 [00:00<?, ?B/s]"
      ]
     },
     "metadata": {},
     "output_type": "display_data"
    },
    {
     "data": {
      "application/vnd.jupyter.widget-view+json": {
       "model_id": "ab42db7f41b34e4e9d67fd1682ee3868",
       "version_major": 2,
       "version_minor": 0
      },
      "text/plain": [
       "model.safetensors:   0%|          | 0.00/1.62G [00:00<?, ?B/s]"
      ]
     },
     "metadata": {},
     "output_type": "display_data"
    }
   ],
   "source": [
    "# loading model\n",
    "checkpoint = \"ConditionalNLI/exp3_deberta-large-mnli\"\n",
    "model = AutoModelForSequenceClassification.from_pretrained('ConditionalNLI/exp3_deberta-large-mnli',num_labels=3).to(device)"
   ]
  },
  {
   "cell_type": "code",
   "execution_count": 34,
   "metadata": {
    "execution": {
     "iopub.execute_input": "2025-03-11T18:06:20.970056Z",
     "iopub.status.busy": "2025-03-11T18:06:20.969701Z",
     "iopub.status.idle": "2025-03-11T18:06:22.222104Z",
     "shell.execute_reply": "2025-03-11T18:06:22.221381Z",
     "shell.execute_reply.started": "2025-03-11T18:06:20.970025Z"
    },
    "trusted": true
   },
   "outputs": [
    {
     "data": {
      "application/vnd.jupyter.widget-view+json": {
       "model_id": "d3f5a6e45590415fafe81a81fe073b99",
       "version_major": 2,
       "version_minor": 0
      },
      "text/plain": [
       "tokenizer_config.json:   0%|          | 0.00/1.34k [00:00<?, ?B/s]"
      ]
     },
     "metadata": {},
     "output_type": "display_data"
    },
    {
     "data": {
      "application/vnd.jupyter.widget-view+json": {
       "model_id": "769eaae9e4b945bcaf9b2407c86029d3",
       "version_major": 2,
       "version_minor": 0
      },
      "text/plain": [
       "vocab.json:   0%|          | 0.00/798k [00:00<?, ?B/s]"
      ]
     },
     "metadata": {},
     "output_type": "display_data"
    },
    {
     "data": {
      "application/vnd.jupyter.widget-view+json": {
       "model_id": "492c8b9156e44362b3fa497614124b6b",
       "version_major": 2,
       "version_minor": 0
      },
      "text/plain": [
       "merges.txt:   0%|          | 0.00/456k [00:00<?, ?B/s]"
      ]
     },
     "metadata": {},
     "output_type": "display_data"
    },
    {
     "data": {
      "application/vnd.jupyter.widget-view+json": {
       "model_id": "387b9a4eccc647f5ac08f210bd43bf08",
       "version_major": 2,
       "version_minor": 0
      },
      "text/plain": [
       "tokenizer.json:   0%|          | 0.00/3.56M [00:00<?, ?B/s]"
      ]
     },
     "metadata": {},
     "output_type": "display_data"
    },
    {
     "data": {
      "application/vnd.jupyter.widget-view+json": {
       "model_id": "17a763714d98459b8e97afda19b7789d",
       "version_major": 2,
       "version_minor": 0
      },
      "text/plain": [
       "special_tokens_map.json:   0%|          | 0.00/969 [00:00<?, ?B/s]"
      ]
     },
     "metadata": {},
     "output_type": "display_data"
    }
   ],
   "source": [
    "tokenizer = AutoTokenizer.from_pretrained(checkpoint)"
   ]
  },
  {
   "cell_type": "code",
   "execution_count": 35,
   "metadata": {
    "execution": {
     "iopub.execute_input": "2025-03-11T18:06:25.468123Z",
     "iopub.status.busy": "2025-03-11T18:06:25.467784Z",
     "iopub.status.idle": "2025-03-11T18:06:25.478661Z",
     "shell.execute_reply": "2025-03-11T18:06:25.477885Z",
     "shell.execute_reply.started": "2025-03-11T18:06:25.468075Z"
    },
    "trusted": true
   },
   "outputs": [
    {
     "name": "stderr",
     "output_type": "stream",
     "text": [
      "Device set to use cuda\n"
     ]
    }
   ],
   "source": [
    "gen = pipeline('text-classification', model=model, tokenizer=tokenizer, device=device)"
   ]
  },
  {
   "cell_type": "code",
   "execution_count": 36,
   "metadata": {
    "execution": {
     "iopub.execute_input": "2025-03-11T18:06:28.824931Z",
     "iopub.status.busy": "2025-03-11T18:06:28.824639Z",
     "iopub.status.idle": "2025-03-11T18:07:08.441363Z",
     "shell.execute_reply": "2025-03-11T18:07:08.440572Z",
     "shell.execute_reply.started": "2025-03-11T18:06:28.824907Z"
    },
    "trusted": true
   },
   "outputs": [
    {
     "name": "stderr",
     "output_type": "stream",
     "text": [
      "Asking to truncate to max_length but no maximum length is provided and the model has no predefined maximum length. Default to no truncation.\n"
     ]
    },
    {
     "name": "stdout",
     "output_type": "stream",
     "text": [
      "0\n",
      "100\n",
      "200\n",
      "300\n",
      "400\n",
      "500\n",
      "600\n",
      "700\n",
      "800\n",
      "900\n",
      "1000\n",
      "1100\n",
      "1200\n",
      "1300\n",
      "1400\n",
      "1500\n",
      "1600\n",
      "1700\n",
      "1800\n",
      "1900\n",
      "2000\n",
      "2100\n",
      "2200\n",
      "2300\n"
     ]
    },
    {
     "data": {
      "text/plain": [
       "2367"
      ]
     },
     "execution_count": 36,
     "metadata": {},
     "output_type": "execute_result"
    }
   ],
   "source": [
    "id_num = 0\n",
    "test_results = pd.DataFrame(columns = ['id', 'premise', 'hypothesis', 'type', 'expected_label', 'predicted_label'])\n",
    "\n",
    "for predicted in gen(KeyPairDataset(test_ds,'premise', 'hypothesis'), batch_size=8, truncation=True):\n",
    "    if id_num % 100 == 0:\n",
    "        print(id_num)\n",
    "    test_results.loc[id_num] = [str(id_num), test_ds['premise'][id_num], test_ds['hypothesis'][id_num], test_ds['type'][id_num], test_ds['label'][id_num], predicted['label']]\n",
    "    id_num += 1\n",
    "\n",
    "len(test_results)"
   ]
  },
  {
   "cell_type": "code",
   "execution_count": 37,
   "metadata": {
    "execution": {
     "iopub.execute_input": "2025-03-11T18:07:46.462762Z",
     "iopub.status.busy": "2025-03-11T18:07:46.462397Z",
     "iopub.status.idle": "2025-03-11T18:07:46.476795Z",
     "shell.execute_reply": "2025-03-11T18:07:46.475725Z",
     "shell.execute_reply.started": "2025-03-11T18:07:46.462734Z"
    },
    "trusted": true
   },
   "outputs": [
    {
     "data": {
      "text/html": [
       "<div>\n",
       "<style scoped>\n",
       "    .dataframe tbody tr th:only-of-type {\n",
       "        vertical-align: middle;\n",
       "    }\n",
       "\n",
       "    .dataframe tbody tr th {\n",
       "        vertical-align: top;\n",
       "    }\n",
       "\n",
       "    .dataframe thead th {\n",
       "        text-align: right;\n",
       "    }\n",
       "</style>\n",
       "<table border=\"1\" class=\"dataframe\">\n",
       "  <thead>\n",
       "    <tr style=\"text-align: right;\">\n",
       "      <th></th>\n",
       "      <th>id</th>\n",
       "      <th>premise</th>\n",
       "      <th>hypothesis</th>\n",
       "      <th>type</th>\n",
       "      <th>expected_label</th>\n",
       "      <th>predicted_label</th>\n",
       "    </tr>\n",
       "  </thead>\n",
       "  <tbody>\n",
       "    <tr>\n",
       "      <th>0</th>\n",
       "      <td>0</td>\n",
       "      <td>If Charlotte passes her driving test, her parents will buy her a car.</td>\n",
       "      <td>Charlotte has parents.</td>\n",
       "      <td>type5_possessive</td>\n",
       "      <td>ENTAILMENT</td>\n",
       "      <td>CONTRADICTION</td>\n",
       "    </tr>\n",
       "    <tr>\n",
       "      <th>1</th>\n",
       "      <td>1</td>\n",
       "      <td>It's not the case that if Charlotte passes her driving test, her parents will buy her a car.</td>\n",
       "      <td>Charlotte has parents.</td>\n",
       "      <td>type5_possessive</td>\n",
       "      <td>ENTAILMENT</td>\n",
       "      <td>CONTRADICTION</td>\n",
       "    </tr>\n",
       "    <tr>\n",
       "      <th>2</th>\n",
       "      <td>2</td>\n",
       "      <td>Sam believes that if Charlotte passes her driving test, her parents will buy her a car.</td>\n",
       "      <td>Charlotte has parents.</td>\n",
       "      <td>type5_possessive</td>\n",
       "      <td>ENTAILMENT</td>\n",
       "      <td>CONTRADICTION</td>\n",
       "    </tr>\n",
       "    <tr>\n",
       "      <th>3</th>\n",
       "      <td>3</td>\n",
       "      <td>Is it true that if Charlotte passes her driving test, her parents will buy her a car?</td>\n",
       "      <td>Charlotte has parents.</td>\n",
       "      <td>type5_possessive</td>\n",
       "      <td>ENTAILMENT</td>\n",
       "      <td>CONTRADICTION</td>\n",
       "    </tr>\n",
       "    <tr>\n",
       "      <th>4</th>\n",
       "      <td>4</td>\n",
       "      <td>If Lily takes the train to the city, her friend will meet her at the station.</td>\n",
       "      <td>Lily has a friend.</td>\n",
       "      <td>type5_possessive</td>\n",
       "      <td>ENTAILMENT</td>\n",
       "      <td>CONTRADICTION</td>\n",
       "    </tr>\n",
       "    <tr>\n",
       "      <th>...</th>\n",
       "      <td>...</td>\n",
       "      <td>...</td>\n",
       "      <td>...</td>\n",
       "      <td>...</td>\n",
       "      <td>...</td>\n",
       "      <td>...</td>\n",
       "    </tr>\n",
       "    <tr>\n",
       "      <th>2362</th>\n",
       "      <td>2362</td>\n",
       "      <td>If Sophia decides to attend the concert, his best friend will drive him there.</td>\n",
       "      <td>Sophia has a close friend.</td>\n",
       "      <td>type5_possessive</td>\n",
       "      <td>NEUTRAL</td>\n",
       "      <td>CONTRADICTION</td>\n",
       "    </tr>\n",
       "    <tr>\n",
       "      <th>2363</th>\n",
       "      <td>2363</td>\n",
       "      <td>It's not the case that if Sophia decides to attend the concert, his best friend will drive him there.</td>\n",
       "      <td>Sophia has a close friend.</td>\n",
       "      <td>type5_possessive</td>\n",
       "      <td>NEUTRAL</td>\n",
       "      <td>CONTRADICTION</td>\n",
       "    </tr>\n",
       "    <tr>\n",
       "      <th>2364</th>\n",
       "      <td>2364</td>\n",
       "      <td>Sam believes that if Sophia decides to attend the concert, his best friend will drive him there.</td>\n",
       "      <td>Sophia has a close friend.</td>\n",
       "      <td>type5_possessive</td>\n",
       "      <td>NEUTRAL</td>\n",
       "      <td>CONTRADICTION</td>\n",
       "    </tr>\n",
       "    <tr>\n",
       "      <th>2365</th>\n",
       "      <td>2365</td>\n",
       "      <td>Is it true that if Sophia decides to attend the concert, his best friend will drive him there?</td>\n",
       "      <td>Sophia has a close friend.</td>\n",
       "      <td>type5_possessive</td>\n",
       "      <td>NEUTRAL</td>\n",
       "      <td>CONTRADICTION</td>\n",
       "    </tr>\n",
       "    <tr>\n",
       "      <th>2366</th>\n",
       "      <td>2366</td>\n",
       "      <td>If Sophia decides to attend the concert, his best friend will drive him there.</td>\n",
       "      <td>Sophia has decided to attend the concert, but his best friend will not drive him.</td>\n",
       "      <td>type5_possessive</td>\n",
       "      <td>CONTRADICTION</td>\n",
       "      <td>CONTRADICTION</td>\n",
       "    </tr>\n",
       "  </tbody>\n",
       "</table>\n",
       "<p>2367 rows × 6 columns</p>\n",
       "</div>"
      ],
      "text/plain": [
       "        id  \\\n",
       "0        0   \n",
       "1        1   \n",
       "2        2   \n",
       "3        3   \n",
       "4        4   \n",
       "...    ...   \n",
       "2362  2362   \n",
       "2363  2363   \n",
       "2364  2364   \n",
       "2365  2365   \n",
       "2366  2366   \n",
       "\n",
       "                                                                                                    premise  \\\n",
       "0                                     If Charlotte passes her driving test, her parents will buy her a car.   \n",
       "1              It's not the case that if Charlotte passes her driving test, her parents will buy her a car.   \n",
       "2                   Sam believes that if Charlotte passes her driving test, her parents will buy her a car.   \n",
       "3                     Is it true that if Charlotte passes her driving test, her parents will buy her a car?   \n",
       "4                             If Lily takes the train to the city, her friend will meet her at the station.   \n",
       "...                                                                                                     ...   \n",
       "2362                         If Sophia decides to attend the concert, his best friend will drive him there.   \n",
       "2363  It's not the case that if Sophia decides to attend the concert, his best friend will drive him there.   \n",
       "2364       Sam believes that if Sophia decides to attend the concert, his best friend will drive him there.   \n",
       "2365         Is it true that if Sophia decides to attend the concert, his best friend will drive him there?   \n",
       "2366                         If Sophia decides to attend the concert, his best friend will drive him there.   \n",
       "\n",
       "                                                                             hypothesis  \\\n",
       "0                                                                Charlotte has parents.   \n",
       "1                                                                Charlotte has parents.   \n",
       "2                                                                Charlotte has parents.   \n",
       "3                                                                Charlotte has parents.   \n",
       "4                                                                    Lily has a friend.   \n",
       "...                                                                                 ...   \n",
       "2362                                                         Sophia has a close friend.   \n",
       "2363                                                         Sophia has a close friend.   \n",
       "2364                                                         Sophia has a close friend.   \n",
       "2365                                                         Sophia has a close friend.   \n",
       "2366  Sophia has decided to attend the concert, but his best friend will not drive him.   \n",
       "\n",
       "                  type expected_label predicted_label  \n",
       "0     type5_possessive     ENTAILMENT   CONTRADICTION  \n",
       "1     type5_possessive     ENTAILMENT   CONTRADICTION  \n",
       "2     type5_possessive     ENTAILMENT   CONTRADICTION  \n",
       "3     type5_possessive     ENTAILMENT   CONTRADICTION  \n",
       "4     type5_possessive     ENTAILMENT   CONTRADICTION  \n",
       "...                ...            ...             ...  \n",
       "2362  type5_possessive        NEUTRAL   CONTRADICTION  \n",
       "2363  type5_possessive        NEUTRAL   CONTRADICTION  \n",
       "2364  type5_possessive        NEUTRAL   CONTRADICTION  \n",
       "2365  type5_possessive        NEUTRAL   CONTRADICTION  \n",
       "2366  type5_possessive  CONTRADICTION   CONTRADICTION  \n",
       "\n",
       "[2367 rows x 6 columns]"
      ]
     },
     "execution_count": 37,
     "metadata": {},
     "output_type": "execute_result"
    }
   ],
   "source": [
    "test_results"
   ]
  },
  {
   "cell_type": "code",
   "execution_count": 38,
   "metadata": {
    "execution": {
     "iopub.execute_input": "2025-03-11T18:07:51.986814Z",
     "iopub.status.busy": "2025-03-11T18:07:51.986523Z",
     "iopub.status.idle": "2025-03-11T18:07:51.995060Z",
     "shell.execute_reply": "2025-03-11T18:07:51.994375Z",
     "shell.execute_reply.started": "2025-03-11T18:07:51.986791Z"
    },
    "trusted": true
   },
   "outputs": [
    {
     "data": {
      "text/plain": [
       "predicted_label\n",
       "CONTRADICTION    2367\n",
       "Name: count, dtype: int64"
      ]
     },
     "execution_count": 38,
     "metadata": {},
     "output_type": "execute_result"
    }
   ],
   "source": [
    "test_results['predicted_label'].value_counts()"
   ]
  },
  {
   "cell_type": "code",
   "execution_count": 39,
   "metadata": {
    "execution": {
     "iopub.execute_input": "2025-03-11T18:09:09.889485Z",
     "iopub.status.busy": "2025-03-11T18:09:09.889126Z",
     "iopub.status.idle": "2025-03-11T18:09:09.912170Z",
     "shell.execute_reply": "2025-03-11T18:09:09.911111Z",
     "shell.execute_reply.started": "2025-03-11T18:09:09.889456Z"
    },
    "trusted": true
   },
   "outputs": [],
   "source": [
    "test_results.to_csv('exp3_deberta_test_results_run3.csv')"
   ]
  },
  {
   "cell_type": "code",
   "execution_count": 40,
   "metadata": {
    "execution": {
     "iopub.execute_input": "2025-03-11T18:09:12.065139Z",
     "iopub.status.busy": "2025-03-11T18:09:12.064762Z",
     "iopub.status.idle": "2025-03-11T18:09:12.297231Z",
     "shell.execute_reply": "2025-03-11T18:09:12.296339Z",
     "shell.execute_reply.started": "2025-03-11T18:09:12.065101Z"
    },
    "trusted": true
   },
   "outputs": [],
   "source": [
    "from sklearn.metrics import confusion_matrix, classification_report\n",
    "import seaborn as sns\n",
    "import matplotlib.pyplot as plt"
   ]
  },
  {
   "cell_type": "code",
   "execution_count": 41,
   "metadata": {
    "execution": {
     "iopub.execute_input": "2025-03-11T18:09:15.524316Z",
     "iopub.status.busy": "2025-03-11T18:09:15.523638Z",
     "iopub.status.idle": "2025-03-11T18:09:15.848452Z",
     "shell.execute_reply": "2025-03-11T18:09:15.847562Z",
     "shell.execute_reply.started": "2025-03-11T18:09:15.524273Z"
    },
    "trusted": true
   },
   "outputs": [
    {
     "data": {
      "image/png": "[encoded data removed]",
      "text/plain": [
       "<Figure size 800x600 with 2 Axes>"
      ]
     },
     "metadata": {},
     "output_type": "display_data"
    }
   ],
   "source": [
    "# Create the testing confusion matrix\n",
    "cm = confusion_matrix(test_results['expected_label'], test_results['predicted_label'],labels=[\"ENTAILMENT\",\"NEUTRAL\",\"CONTRADICTION\"])\n",
    "\n",
    "# Visualize the confusion matrix\n",
    "plt.figure(figsize=(8, 6))\n",
    "sns.heatmap(cm, annot=True, fmt=\"d\",cmap=\"Blues\")\n",
    "plt.xlabel(\"Predicted Label\")\n",
    "plt.ylabel(\"True Label\")\n",
    "plt.title(\"Confusion Matrix\")\n",
    "plt.show()"
   ]
  },
  {
   "cell_type": "code",
   "execution_count": 42,
   "metadata": {
    "execution": {
     "iopub.execute_input": "2025-03-11T18:10:26.180289Z",
     "iopub.status.busy": "2025-03-11T18:10:26.179872Z",
     "iopub.status.idle": "2025-03-11T18:10:26.263175Z",
     "shell.execute_reply": "2025-03-11T18:10:26.262177Z",
     "shell.execute_reply.started": "2025-03-11T18:10:26.180255Z"
    },
    "trusted": true
   },
   "outputs": [
    {
     "name": "stderr",
     "output_type": "stream",
     "text": [
      "/usr/local/lib/python3.10/dist-packages/sklearn/metrics/_classification.py:1344: UndefinedMetricWarning: Precision and F-score are ill-defined and being set to 0.0 in labels with no predicted samples. Use `zero_division` parameter to control this behavior.\n",
      "  _warn_prf(average, modifier, msg_start, len(result))\n",
      "/usr/local/lib/python3.10/dist-packages/sklearn/metrics/_classification.py:1344: UndefinedMetricWarning: Precision and F-score are ill-defined and being set to 0.0 in labels with no predicted samples. Use `zero_division` parameter to control this behavior.\n",
      "  _warn_prf(average, modifier, msg_start, len(result))\n",
      "/usr/local/lib/python3.10/dist-packages/sklearn/metrics/_classification.py:1344: UndefinedMetricWarning: Precision and F-score are ill-defined and being set to 0.0 in labels with no predicted samples. Use `zero_division` parameter to control this behavior.\n",
      "  _warn_prf(average, modifier, msg_start, len(result))\n"
     ]
    },
    {
     "data": {
      "text/html": [
       "<div>\n",
       "<style scoped>\n",
       "    .dataframe tbody tr th:only-of-type {\n",
       "        vertical-align: middle;\n",
       "    }\n",
       "\n",
       "    .dataframe tbody tr th {\n",
       "        vertical-align: top;\n",
       "    }\n",
       "\n",
       "    .dataframe thead th {\n",
       "        text-align: right;\n",
       "    }\n",
       "</style>\n",
       "<table border=\"1\" class=\"dataframe\">\n",
       "  <thead>\n",
       "    <tr style=\"text-align: right;\">\n",
       "      <th>label</th>\n",
       "      <th>precision</th>\n",
       "      <th>recall</th>\n",
       "      <th>f1-score</th>\n",
       "      <th>support</th>\n",
       "    </tr>\n",
       "  </thead>\n",
       "  <tbody>\n",
       "    <tr>\n",
       "      <th>CONTRADICTION</th>\n",
       "      <td>0.324461</td>\n",
       "      <td>1.000000</td>\n",
       "      <td>0.489952</td>\n",
       "      <td>768.000000</td>\n",
       "    </tr>\n",
       "    <tr>\n",
       "      <th>ENTAILMENT</th>\n",
       "      <td>0.000000</td>\n",
       "      <td>0.000000</td>\n",
       "      <td>0.000000</td>\n",
       "      <td>720.000000</td>\n",
       "    </tr>\n",
       "    <tr>\n",
       "      <th>NEUTRAL</th>\n",
       "      <td>0.000000</td>\n",
       "      <td>0.000000</td>\n",
       "      <td>0.000000</td>\n",
       "      <td>879.000000</td>\n",
       "    </tr>\n",
       "    <tr>\n",
       "      <th>accuracy</th>\n",
       "      <td>0.324461</td>\n",
       "      <td>0.324461</td>\n",
       "      <td>0.324461</td>\n",
       "      <td>0.324461</td>\n",
       "    </tr>\n",
       "    <tr>\n",
       "      <th>macro avg</th>\n",
       "      <td>0.108154</td>\n",
       "      <td>0.333333</td>\n",
       "      <td>0.163317</td>\n",
       "      <td>2367.000000</td>\n",
       "    </tr>\n",
       "    <tr>\n",
       "      <th>weighted avg</th>\n",
       "      <td>0.105275</td>\n",
       "      <td>0.324461</td>\n",
       "      <td>0.158971</td>\n",
       "      <td>2367.000000</td>\n",
       "    </tr>\n",
       "  </tbody>\n",
       "</table>\n",
       "</div>"
      ],
      "text/plain": [
       "label          precision    recall  f1-score      support\n",
       "CONTRADICTION   0.324461  1.000000  0.489952   768.000000\n",
       "ENTAILMENT      0.000000  0.000000  0.000000   720.000000\n",
       "NEUTRAL         0.000000  0.000000  0.000000   879.000000\n",
       "accuracy        0.324461  0.324461  0.324461     0.324461\n",
       "macro avg       0.108154  0.333333  0.163317  2367.000000\n",
       "weighted avg    0.105275  0.324461  0.158971  2367.000000"
      ]
     },
     "execution_count": 42,
     "metadata": {},
     "output_type": "execute_result"
    }
   ],
   "source": [
    "report_dict = classification_report(test_results['expected_label'], test_results['predicted_label'], output_dict=True)\n",
    "report_df = pd.DataFrame(report_dict).transpose() \n",
    "report_df.columns.name = 'label'\n",
    "report_df"
   ]
  },
  {
   "cell_type": "code",
   "execution_count": 43,
   "metadata": {
    "execution": {
     "iopub.execute_input": "2025-03-11T18:10:41.771651Z",
     "iopub.status.busy": "2025-03-11T18:10:41.771319Z",
     "iopub.status.idle": "2025-03-11T18:10:41.888835Z",
     "shell.execute_reply": "2025-03-11T18:10:41.887986Z",
     "shell.execute_reply.started": "2025-03-11T18:10:41.771622Z"
    },
    "trusted": true
   },
   "outputs": [
    {
     "name": "stderr",
     "output_type": "stream",
     "text": [
      "/usr/local/lib/python3.10/dist-packages/sklearn/metrics/_classification.py:1344: UndefinedMetricWarning: Recall is ill-defined and being set to 0.0 in labels with no true samples. Use `zero_division` parameter to control this behavior.\n",
      "  _warn_prf(average, modifier, msg_start, len(result))\n",
      "/usr/local/lib/python3.10/dist-packages/sklearn/metrics/_classification.py:1344: UndefinedMetricWarning: Recall is ill-defined and being set to 0.0 in labels with no true samples. Use `zero_division` parameter to control this behavior.\n",
      "  _warn_prf(average, modifier, msg_start, len(result))\n",
      "/usr/local/lib/python3.10/dist-packages/sklearn/metrics/_classification.py:1344: UndefinedMetricWarning: Recall is ill-defined and being set to 0.0 in labels with no true samples. Use `zero_division` parameter to control this behavior.\n",
      "  _warn_prf(average, modifier, msg_start, len(result))\n",
      "/usr/local/lib/python3.10/dist-packages/sklearn/metrics/_classification.py:1344: UndefinedMetricWarning: Recall is ill-defined and being set to 0.0 in labels with no true samples. Use `zero_division` parameter to control this behavior.\n",
      "  _warn_prf(average, modifier, msg_start, len(result))\n",
      "/usr/local/lib/python3.10/dist-packages/sklearn/metrics/_classification.py:1344: UndefinedMetricWarning: Recall is ill-defined and being set to 0.0 in labels with no true samples. Use `zero_division` parameter to control this behavior.\n",
      "  _warn_prf(average, modifier, msg_start, len(result))\n",
      "/usr/local/lib/python3.10/dist-packages/sklearn/metrics/_classification.py:1344: UndefinedMetricWarning: Recall is ill-defined and being set to 0.0 in labels with no true samples. Use `zero_division` parameter to control this behavior.\n",
      "  _warn_prf(average, modifier, msg_start, len(result))\n",
      "/usr/local/lib/python3.10/dist-packages/sklearn/metrics/_classification.py:1344: UndefinedMetricWarning: Recall is ill-defined and being set to 0.0 in labels with no true samples. Use `zero_division` parameter to control this behavior.\n",
      "  _warn_prf(average, modifier, msg_start, len(result))\n",
      "/usr/local/lib/python3.10/dist-packages/sklearn/metrics/_classification.py:1344: UndefinedMetricWarning: Recall is ill-defined and being set to 0.0 in labels with no true samples. Use `zero_division` parameter to control this behavior.\n",
      "  _warn_prf(average, modifier, msg_start, len(result))\n",
      "/usr/local/lib/python3.10/dist-packages/sklearn/metrics/_classification.py:1344: UndefinedMetricWarning: Recall is ill-defined and being set to 0.0 in labels with no true samples. Use `zero_division` parameter to control this behavior.\n",
      "  _warn_prf(average, modifier, msg_start, len(result))\n",
      "<ipython-input-43-823762390d06>:1: DeprecationWarning: DataFrameGroupBy.apply operated on the grouping columns. This behavior is deprecated, and in a future version of pandas the grouping columns will be excluded from the operation. Either pass `include_groups=False` to exclude the groupings or explicitly select the grouping columns after groupby to silence this warning.\n",
      "  metrics_by_type = test_results.groupby('type').apply(compute_metrics_by_type).reset_index()\n"
     ]
    },
    {
     "data": {
      "text/html": [
       "<div>\n",
       "<style scoped>\n",
       "    .dataframe tbody tr th:only-of-type {\n",
       "        vertical-align: middle;\n",
       "    }\n",
       "\n",
       "    .dataframe tbody tr th {\n",
       "        vertical-align: top;\n",
       "    }\n",
       "\n",
       "    .dataframe thead th {\n",
       "        text-align: right;\n",
       "    }\n",
       "</style>\n",
       "<table border=\"1\" class=\"dataframe\">\n",
       "  <thead>\n",
       "    <tr style=\"text-align: right;\">\n",
       "      <th>ID</th>\n",
       "      <th>type</th>\n",
       "      <th>accuracy</th>\n",
       "      <th>precision</th>\n",
       "      <th>recall</th>\n",
       "      <th>f1_score</th>\n",
       "    </tr>\n",
       "  </thead>\n",
       "  <tbody>\n",
       "    <tr>\n",
       "      <th>0</th>\n",
       "      <td>type1_again</td>\n",
       "      <td>0.40</td>\n",
       "      <td>1.0</td>\n",
       "      <td>0.40</td>\n",
       "      <td>0.57</td>\n",
       "    </tr>\n",
       "    <tr>\n",
       "      <th>1</th>\n",
       "      <td>type1_possessive</td>\n",
       "      <td>0.40</td>\n",
       "      <td>1.0</td>\n",
       "      <td>0.40</td>\n",
       "      <td>0.57</td>\n",
       "    </tr>\n",
       "    <tr>\n",
       "      <th>2</th>\n",
       "      <td>type2_again</td>\n",
       "      <td>0.40</td>\n",
       "      <td>1.0</td>\n",
       "      <td>0.40</td>\n",
       "      <td>0.57</td>\n",
       "    </tr>\n",
       "    <tr>\n",
       "      <th>3</th>\n",
       "      <td>type2_possessive</td>\n",
       "      <td>0.40</td>\n",
       "      <td>1.0</td>\n",
       "      <td>0.40</td>\n",
       "      <td>0.57</td>\n",
       "    </tr>\n",
       "    <tr>\n",
       "      <th>4</th>\n",
       "      <td>type3_again</td>\n",
       "      <td>0.40</td>\n",
       "      <td>1.0</td>\n",
       "      <td>0.40</td>\n",
       "      <td>0.57</td>\n",
       "    </tr>\n",
       "    <tr>\n",
       "      <th>5</th>\n",
       "      <td>type3_possessive</td>\n",
       "      <td>0.40</td>\n",
       "      <td>1.0</td>\n",
       "      <td>0.40</td>\n",
       "      <td>0.57</td>\n",
       "    </tr>\n",
       "    <tr>\n",
       "      <th>6</th>\n",
       "      <td>type4_possessive</td>\n",
       "      <td>0.37</td>\n",
       "      <td>1.0</td>\n",
       "      <td>0.37</td>\n",
       "      <td>0.54</td>\n",
       "    </tr>\n",
       "    <tr>\n",
       "      <th>7</th>\n",
       "      <td>type5_again</td>\n",
       "      <td>0.01</td>\n",
       "      <td>1.0</td>\n",
       "      <td>0.01</td>\n",
       "      <td>0.02</td>\n",
       "    </tr>\n",
       "    <tr>\n",
       "      <th>8</th>\n",
       "      <td>type5_possessive</td>\n",
       "      <td>0.33</td>\n",
       "      <td>1.0</td>\n",
       "      <td>0.33</td>\n",
       "      <td>0.49</td>\n",
       "    </tr>\n",
       "  </tbody>\n",
       "</table>\n",
       "</div>"
      ],
      "text/plain": [
       "ID              type  accuracy  precision  recall  f1_score\n",
       "0        type1_again      0.40        1.0    0.40      0.57\n",
       "1   type1_possessive      0.40        1.0    0.40      0.57\n",
       "2        type2_again      0.40        1.0    0.40      0.57\n",
       "3   type2_possessive      0.40        1.0    0.40      0.57\n",
       "4        type3_again      0.40        1.0    0.40      0.57\n",
       "5   type3_possessive      0.40        1.0    0.40      0.57\n",
       "6   type4_possessive      0.37        1.0    0.37      0.54\n",
       "7        type5_again      0.01        1.0    0.01      0.02\n",
       "8   type5_possessive      0.33        1.0    0.33      0.49"
      ]
     },
     "execution_count": 43,
     "metadata": {},
     "output_type": "execute_result"
    }
   ],
   "source": [
    "metrics_by_type = test_results.groupby('type').apply(compute_metrics_by_type).reset_index()\n",
    "metrics_by_type.columns.name = 'ID'\n",
    "metrics_by_type"
   ]
  },
  {
   "cell_type": "markdown",
   "metadata": {},
   "source": [
    "## facebook/roberta-large-mnli "
   ]
  },
  {
   "cell_type": "code",
   "execution_count": 66,
   "metadata": {
    "execution": {
     "iopub.execute_input": "2025-03-10T17:08:32.366338Z",
     "iopub.status.busy": "2025-03-10T17:08:32.365897Z",
     "iopub.status.idle": "2025-03-10T17:08:32.634438Z",
     "shell.execute_reply": "2025-03-10T17:08:32.633739Z",
     "shell.execute_reply.started": "2025-03-10T17:08:32.366303Z"
    },
    "trusted": true
   },
   "outputs": [],
   "source": [
    "checkpoint = \"FacebookAI/roberta-large-mnli\"\n",
    "tokenizer = AutoTokenizer.from_pretrained(checkpoint)"
   ]
  },
  {
   "cell_type": "code",
   "execution_count": 67,
   "metadata": {
    "execution": {
     "iopub.execute_input": "2025-03-10T17:08:36.084018Z",
     "iopub.status.busy": "2025-03-10T17:08:36.083478Z",
     "iopub.status.idle": "2025-03-10T17:08:42.844503Z",
     "shell.execute_reply": "2025-03-10T17:08:42.843850Z",
     "shell.execute_reply.started": "2025-03-10T17:08:36.083959Z"
    },
    "trusted": true
   },
   "outputs": [
    {
     "data": {
      "application/vnd.jupyter.widget-view+json": {
       "model_id": "6ef3d98bc13d42ebb3e7132e11c27260",
       "version_major": 2,
       "version_minor": 0
      },
      "text/plain": [
       "model.safetensors:   0%|          | 0.00/1.43G [00:00<?, ?B/s]"
      ]
     },
     "metadata": {},
     "output_type": "display_data"
    },
    {
     "name": "stderr",
     "output_type": "stream",
     "text": [
      "Some weights of the model checkpoint at FacebookAI/roberta-large-mnli were not used when initializing RobertaForSequenceClassification: ['roberta.pooler.dense.bias', 'roberta.pooler.dense.weight']\n",
      "- This IS expected if you are initializing RobertaForSequenceClassification from the checkpoint of a model trained on another task or with another architecture (e.g. initializing a BertForSequenceClassification model from a BertForPreTraining model).\n",
      "- This IS NOT expected if you are initializing RobertaForSequenceClassification from the checkpoint of a model that you expect to be exactly identical (initializing a BertForSequenceClassification model from a BertForSequenceClassification model).\n"
     ]
    }
   ],
   "source": [
    "model = AutoModelForSequenceClassification.from_pretrained(checkpoint, num_labels=3)"
   ]
  },
  {
   "cell_type": "code",
   "execution_count": 68,
   "metadata": {
    "execution": {
     "iopub.execute_input": "2025-03-10T17:08:47.210498Z",
     "iopub.status.busy": "2025-03-10T17:08:47.210207Z",
     "iopub.status.idle": "2025-03-10T17:08:48.446158Z",
     "shell.execute_reply": "2025-03-10T17:08:48.445226Z",
     "shell.execute_reply.started": "2025-03-10T17:08:47.210475Z"
    },
    "trusted": true
   },
   "outputs": [
    {
     "data": {
      "application/vnd.jupyter.widget-view+json": {
       "model_id": "af5f970fb6c14c5ba8eae189136610dd",
       "version_major": 2,
       "version_minor": 0
      },
      "text/plain": [
       "Map:   0%|          | 0/1908 [00:00<?, ? examples/s]"
      ]
     },
     "metadata": {},
     "output_type": "display_data"
    },
    {
     "data": {
      "application/vnd.jupyter.widget-view+json": {
       "model_id": "7613d4c9a3014899beff02db4a54435c",
       "version_major": 2,
       "version_minor": 0
      },
      "text/plain": [
       "Map:   0%|          | 0/478 [00:00<?, ? examples/s]"
      ]
     },
     "metadata": {},
     "output_type": "display_data"
    }
   ],
   "source": [
    "tokenized_train_ds = train_ds.map(lambda x: preprocess_function(x, tokenizer), batched=True)\n",
    "tokenized_val_ds = val_ds.map(lambda x: preprocess_function(x, tokenizer), batched=True)\n",
    "data_collator = DataCollatorWithPadding(tokenizer=tokenizer)"
   ]
  },
  {
   "cell_type": "code",
   "execution_count": 69,
   "metadata": {
    "execution": {
     "iopub.execute_input": "2025-03-10T17:08:52.961072Z",
     "iopub.status.busy": "2025-03-10T17:08:52.960761Z",
     "iopub.status.idle": "2025-03-10T17:08:52.965845Z",
     "shell.execute_reply": "2025-03-10T17:08:52.965204Z",
     "shell.execute_reply.started": "2025-03-10T17:08:52.961045Z"
    },
    "trusted": true
   },
   "outputs": [
    {
     "data": {
      "text/plain": [
       "478"
      ]
     },
     "execution_count": 69,
     "metadata": {},
     "output_type": "execute_result"
    }
   ],
   "source": [
    "len(val_ds)"
   ]
  },
  {
   "cell_type": "code",
   "execution_count": 70,
   "metadata": {
    "execution": {
     "iopub.execute_input": "2025-03-10T17:08:57.209259Z",
     "iopub.status.busy": "2025-03-10T17:08:57.208926Z",
     "iopub.status.idle": "2025-03-10T17:08:57.726670Z",
     "shell.execute_reply": "2025-03-10T17:08:57.726004Z",
     "shell.execute_reply.started": "2025-03-10T17:08:57.209231Z"
    },
    "trusted": true
   },
   "outputs": [
    {
     "name": "stderr",
     "output_type": "stream",
     "text": [
      "/usr/local/lib/python3.10/dist-packages/transformers/training_args.py:1575: FutureWarning: `evaluation_strategy` is deprecated and will be removed in version 4.46 of 🤗 Transformers. Use `eval_strategy` instead\n",
      "  warnings.warn(\n",
      "<ipython-input-70-f4b124f3c7cc>:14: FutureWarning: `tokenizer` is deprecated and will be removed in version 5.0.0 for `Trainer.__init__`. Use `processing_class` instead.\n",
      "  trainer = Trainer(\n"
     ]
    }
   ],
   "source": [
    "training_args = TrainingArguments(\n",
    "    output_dir=\"./results\",\n",
    "    num_train_epochs=2, # Set the number of epochs to 1\n",
    "    logging_steps=100,\n",
    "    # evaluation_strategy=\"steps\",\n",
    "    eval_steps=100,\n",
    "    evaluation_strategy=\"epoch\",  # Evaluate during training\n",
    "    # evaluation_strategy=\"no\",\n",
    "    save_strategy=\"epoch\",  # Save the model at the end of each epoch\n",
    "    load_best_model_at_end=True,  # Load the best model at the end of training\n",
    "    report_to=\"none\",\n",
    "    fp16=True\n",
    ")\n",
    "trainer = Trainer(\n",
    "    model,\n",
    "    args=training_args,\n",
    "    train_dataset=tokenized_train_ds,\n",
    "    eval_dataset=tokenized_val_ds,\n",
    "    compute_metrics=compute_metrics,\n",
    "    data_collator=data_collator,\n",
    "    tokenizer=tokenizer,\n",
    "    callbacks=[]\n",
    ")"
   ]
  },
  {
   "cell_type": "code",
   "execution_count": 71,
   "metadata": {
    "execution": {
     "iopub.execute_input": "2025-03-10T17:09:15.298971Z",
     "iopub.status.busy": "2025-03-10T17:09:15.298687Z",
     "iopub.status.idle": "2025-03-10T17:21:53.459266Z",
     "shell.execute_reply": "2025-03-10T17:21:53.458372Z",
     "shell.execute_reply.started": "2025-03-10T17:09:15.298949Z"
    },
    "trusted": true
   },
   "outputs": [
    {
     "data": {
      "text/html": [
       "\n",
       "    <div>\n",
       "      \n",
       "      <progress value='478' max='478' style='width:300px; height:20px; vertical-align: middle;'></progress>\n",
       "      [478/478 12:36, Epoch 2/2]\n",
       "    </div>\n",
       "    <table border=\"1\" class=\"dataframe\">\n",
       "  <thead>\n",
       " <tr style=\"text-align: left;\">\n",
       "      <th>Epoch</th>\n",
       "      <th>Training Loss</th>\n",
       "      <th>Validation Loss</th>\n",
       "      <th>Accuracy</th>\n",
       "      <th>Precision</th>\n",
       "      <th>Recall</th>\n",
       "      <th>F1 Score</th>\n",
       "      <th>Gmean</th>\n",
       "    </tr>\n",
       "  </thead>\n",
       "  <tbody>\n",
       "    <tr>\n",
       "      <td>1</td>\n",
       "      <td>0.561500</td>\n",
       "      <td>0.620440</td>\n",
       "      <td>0.797071</td>\n",
       "      <td>0.744437</td>\n",
       "      <td>0.797071</td>\n",
       "      <td>0.760178</td>\n",
       "      <td>0.521070</td>\n",
       "    </tr>\n",
       "    <tr>\n",
       "      <td>2</td>\n",
       "      <td>0.473300</td>\n",
       "      <td>0.514479</td>\n",
       "      <td>0.811715</td>\n",
       "      <td>0.783144</td>\n",
       "      <td>0.811715</td>\n",
       "      <td>0.796035</td>\n",
       "      <td>0.647351</td>\n",
       "    </tr>\n",
       "  </tbody>\n",
       "</table><p>"
      ],
      "text/plain": [
       "<IPython.core.display.HTML object>"
      ]
     },
     "metadata": {},
     "output_type": "display_data"
    },
    {
     "name": "stderr",
     "output_type": "stream",
     "text": [
      "/usr/local/lib/python3.10/dist-packages/sklearn/metrics/_classification.py:1344: UndefinedMetricWarning: Precision is ill-defined and being set to 0.0 in labels with no predicted samples. Use `zero_division` parameter to control this behavior.\n",
      "  _warn_prf(average, modifier, msg_start, len(result))\n",
      "/usr/local/lib/python3.10/dist-packages/sklearn/metrics/_classification.py:1344: UndefinedMetricWarning: Precision is ill-defined and being set to 0.0 in labels with no predicted samples. Use `zero_division` parameter to control this behavior.\n",
      "  _warn_prf(average, modifier, msg_start, len(result))\n"
     ]
    },
    {
     "data": {
      "text/plain": [
       "TrainOutput(global_step=478, training_loss=0.5458907682027777, metrics={'train_runtime': 757.4741, 'train_samples_per_second': 5.038, 'train_steps_per_second': 0.631, 'total_flos': 3556262098280448.0, 'train_loss': 0.5458907682027777, 'epoch': 2.0})"
      ]
     },
     "execution_count": 71,
     "metadata": {},
     "output_type": "execute_result"
    }
   ],
   "source": [
    "trainer.train()"
   ]
  },
  {
   "cell_type": "code",
   "execution_count": 72,
   "metadata": {
    "execution": {
     "iopub.execute_input": "2025-03-10T17:22:35.621770Z",
     "iopub.status.busy": "2025-03-10T17:22:35.621457Z",
     "iopub.status.idle": "2025-03-10T17:22:39.106580Z",
     "shell.execute_reply": "2025-03-10T17:22:39.105901Z",
     "shell.execute_reply.started": "2025-03-10T17:22:35.621745Z"
    },
    "trusted": true
   },
   "outputs": [],
   "source": [
    "trainer.save_model(\"roberta-large-mnli\")"
   ]
  },
  {
   "cell_type": "code",
   "execution_count": 50,
   "metadata": {
    "execution": {
     "iopub.execute_input": "2025-03-10T16:49:32.425887Z",
     "iopub.status.busy": "2025-03-10T16:49:32.425598Z",
     "iopub.status.idle": "2025-03-10T16:49:32.431890Z",
     "shell.execute_reply": "2025-03-10T16:49:32.430890Z",
     "shell.execute_reply.started": "2025-03-10T16:49:32.425865Z"
    },
    "trusted": true
   },
   "outputs": [
    {
     "name": "stdout",
     "output_type": "stream",
     "text": [
      "GPU is available!\n"
     ]
    }
   ],
   "source": [
    "if torch.cuda.is_available():\n",
    "    print(\"GPU is available!\")\n",
    "    device = torch.device(\"cuda\")\n",
    "else:\n",
    "    print(\"GPU is not available, using CPU\")\n",
    "    device = torch.device(\"cpu\")"
   ]
  },
  {
   "cell_type": "code",
   "execution_count": 37,
   "metadata": {
    "execution": {
     "iopub.execute_input": "2025-02-01T23:19:26.879904Z",
     "iopub.status.busy": "2025-02-01T23:19:26.879595Z",
     "iopub.status.idle": "2025-02-01T23:19:27.569954Z",
     "shell.execute_reply": "2025-02-01T23:19:27.569036Z",
     "shell.execute_reply.started": "2025-02-01T23:19:26.879871Z"
    },
    "trusted": true
   },
   "outputs": [],
   "source": [
    "model = AutoModelForSequenceClassification.from_pretrained('ConditionalNLI/exp3_roberta-large-mnli',num_labels=3).to(device)"
   ]
  },
  {
   "cell_type": "code",
   "execution_count": 40,
   "metadata": {
    "execution": {
     "iopub.execute_input": "2025-02-01T23:20:30.304512Z",
     "iopub.status.busy": "2025-02-01T23:20:30.304196Z",
     "iopub.status.idle": "2025-02-01T23:27:17.003538Z",
     "shell.execute_reply": "2025-02-01T23:27:17.002707Z",
     "shell.execute_reply.started": "2025-02-01T23:20:30.304486Z"
    },
    "trusted": true
   },
   "outputs": [
    {
     "name": "stderr",
     "output_type": "stream",
     "text": [
      "/usr/local/lib/python3.10/dist-packages/transformers/trainer.py:3418: FutureWarning: You are using `torch.load` with `weights_only=False` (the current default value), which uses the default pickle module implicitly. It is possible to construct malicious pickle data which will execute arbitrary code during unpickling (See https://github.com/pytorch/pytorch/blob/main/SECURITY.md#untrusted-models for more details). In a future release, the default value for `weights_only` will be flipped to `True`. This limits the functions that could be executed during unpickling. Arbitrary objects will no longer be allowed to be loaded via this mode unless they are explicitly allowlisted by the user via `torch.serialization.add_safe_globals`. We recommend you start setting `weights_only=True` for any use case where you don't have full control of the loaded file. Please open an issue on GitHub for any issues related to this experimental feature.\n",
      "  torch.load(os.path.join(checkpoint, OPTIMIZER_NAME), map_location=map_location)\n",
      "/usr/local/lib/python3.10/dist-packages/transformers/trainer.py:3081: FutureWarning: You are using `torch.load` with `weights_only=False` (the current default value), which uses the default pickle module implicitly. It is possible to construct malicious pickle data which will execute arbitrary code during unpickling (See https://github.com/pytorch/pytorch/blob/main/SECURITY.md#untrusted-models for more details). In a future release, the default value for `weights_only` will be flipped to `True`. This limits the functions that could be executed during unpickling. Arbitrary objects will no longer be allowed to be loaded via this mode unless they are explicitly allowlisted by the user via `torch.serialization.add_safe_globals`. We recommend you start setting `weights_only=True` for any use case where you don't have full control of the loaded file. Please open an issue on GitHub for any issues related to this experimental feature.\n",
      "  checkpoint_rng_state = torch.load(rng_file)\n"
     ]
    },
    {
     "data": {
      "text/html": [
       "\n",
       "    <div>\n",
       "      \n",
       "      <progress value='478' max='478' style='width:300px; height:20px; vertical-align: middle;'></progress>\n",
       "      [478/478 06:41, Epoch 2/2]\n",
       "    </div>\n",
       "    <table border=\"1\" class=\"dataframe\">\n",
       "  <thead>\n",
       " <tr style=\"text-align: left;\">\n",
       "      <th>Step</th>\n",
       "      <th>Training Loss</th>\n",
       "      <th>Validation Loss</th>\n",
       "      <th>Accuracy</th>\n",
       "      <th>Precision</th>\n",
       "      <th>Recall</th>\n",
       "      <th>F1 Score</th>\n",
       "      <th>Gmean</th>\n",
       "    </tr>\n",
       "  </thead>\n",
       "  <tbody>\n",
       "    <tr>\n",
       "      <td>300</td>\n",
       "      <td>0.402100</td>\n",
       "      <td>0.533843</td>\n",
       "      <td>0.832636</td>\n",
       "      <td>0.805418</td>\n",
       "      <td>0.832636</td>\n",
       "      <td>0.817321</td>\n",
       "      <td>0.678923</td>\n",
       "    </tr>\n",
       "    <tr>\n",
       "      <td>400</td>\n",
       "      <td>0.489500</td>\n",
       "      <td>0.516850</td>\n",
       "      <td>0.817992</td>\n",
       "      <td>0.783886</td>\n",
       "      <td>0.817992</td>\n",
       "      <td>0.751352</td>\n",
       "      <td>0.470971</td>\n",
       "    </tr>\n",
       "  </tbody>\n",
       "</table><p>"
      ],
      "text/plain": [
       "<IPython.core.display.HTML object>"
      ]
     },
     "metadata": {},
     "output_type": "display_data"
    },
    {
     "name": "stderr",
     "output_type": "stream",
     "text": [
      "/usr/local/lib/python3.10/dist-packages/sklearn/metrics/_classification.py:1344: UndefinedMetricWarning: Precision is ill-defined and being set to 0.0 in labels with no predicted samples. Use `zero_division` parameter to control this behavior.\n",
      "  _warn_prf(average, modifier, msg_start, len(result))\n",
      "/usr/local/lib/python3.10/dist-packages/sklearn/metrics/_classification.py:1344: UndefinedMetricWarning: Precision is ill-defined and being set to 0.0 in labels with no predicted samples. Use `zero_division` parameter to control this behavior.\n",
      "  _warn_prf(average, modifier, msg_start, len(result))\n"
     ]
    },
    {
     "data": {
      "text/plain": [
       "TrainOutput(global_step=478, training_loss=0.22376699726950675, metrics={'train_runtime': 402.9653, 'train_samples_per_second': 9.47, 'train_steps_per_second': 1.186, 'total_flos': 3556262098280448.0, 'train_loss': 0.22376699726950675, 'epoch': 2.0})"
      ]
     },
     "execution_count": 40,
     "metadata": {},
     "output_type": "execute_result"
    }
   ],
   "source": [
    "trainer.train(resume_from_checkpoint=True)"
   ]
  },
  {
   "cell_type": "code",
   "execution_count": 41,
   "metadata": {
    "execution": {
     "iopub.execute_input": "2025-02-01T23:28:20.178753Z",
     "iopub.status.busy": "2025-02-01T23:28:20.178388Z",
     "iopub.status.idle": "2025-02-01T23:28:45.478548Z",
     "shell.execute_reply": "2025-02-01T23:28:45.477611Z",
     "shell.execute_reply.started": "2025-02-01T23:28:20.178722Z"
    },
    "trusted": true
   },
   "outputs": [
    {
     "data": {
      "text/html": [
       "\n",
       "    <div>\n",
       "      \n",
       "      <progress value='60' max='60' style='width:300px; height:20px; vertical-align: middle;'></progress>\n",
       "      [60/60 00:24]\n",
       "    </div>\n",
       "    "
      ],
      "text/plain": [
       "<IPython.core.display.HTML object>"
      ]
     },
     "metadata": {},
     "output_type": "display_data"
    },
    {
     "name": "stderr",
     "output_type": "stream",
     "text": [
      "/usr/local/lib/python3.10/dist-packages/sklearn/metrics/_classification.py:1344: UndefinedMetricWarning: Precision is ill-defined and being set to 0.0 in labels with no predicted samples. Use `zero_division` parameter to control this behavior.\n",
      "  _warn_prf(average, modifier, msg_start, len(result))\n"
     ]
    },
    {
     "data": {
      "text/plain": [
       "{'eval_loss': 0.5066624879837036,\n",
       " 'eval_accuracy': 0.8179916317991632,\n",
       " 'eval_precision': 0.8179301009106571,\n",
       " 'eval_recall': 0.8179916317991632,\n",
       " 'eval_f1_score': 0.8166969217251964,\n",
       " 'eval_gmean': 0.7423397836784894,\n",
       " 'eval_runtime': 25.291,\n",
       " 'eval_samples_per_second': 18.9,\n",
       " 'eval_steps_per_second': 2.372,\n",
       " 'epoch': 2.0}"
      ]
     },
     "execution_count": 41,
     "metadata": {},
     "output_type": "execute_result"
    }
   ],
   "source": [
    "trainer.evaluate()"
   ]
  },
  {
   "cell_type": "code",
   "execution_count": 43,
   "metadata": {
    "execution": {
     "iopub.execute_input": "2025-02-01T23:30:38.165482Z",
     "iopub.status.busy": "2025-02-01T23:30:38.165162Z",
     "iopub.status.idle": "2025-02-01T23:30:41.469700Z",
     "shell.execute_reply": "2025-02-01T23:30:41.468764Z",
     "shell.execute_reply.started": "2025-02-01T23:30:38.165454Z"
    },
    "trusted": true
   },
   "outputs": [],
   "source": [
    "trainer.save_model(\"roberta-large-mnli\")"
   ]
  },
  {
   "cell_type": "code",
   "execution_count": null,
   "metadata": {
    "execution": {
     "iopub.execute_input": "2025-03-10T17:22:57.807841Z",
     "iopub.status.busy": "2025-03-10T17:22:57.807550Z",
     "iopub.status.idle": "2025-03-10T17:22:58.009738Z",
     "shell.execute_reply": "2025-03-10T17:22:58.008897Z",
     "shell.execute_reply.started": "2025-03-10T17:22:57.807818Z"
    },
    "trusted": true
   },
   "outputs": [
    {
     "name": "stderr",
     "output_type": "stream",
     "text": [
      "/usr/local/lib/python3.10/dist-packages/huggingface_hub/utils/_deprecation.py:100: FutureWarning: Deprecated argument(s) used in 'login': write_permission. Will not be supported from version '1.0'.\n",
      "\n",
      "Fine-grained tokens added complexity to the permissions, making it irrelevant to check if a token has 'write' access.\n",
      "  warnings.warn(message, FutureWarning)\n",
      "Token has not been saved to git credential helper.\n"
     ]
    },
    {
     "name": "stdout",
     "output_type": "stream",
     "text": [
      "\u001b[1m\u001b[31mCannot authenticate through git-credential as no helper is defined on your machine.\n",
      "You might have to re-authenticate when pushing to the Hugging Face Hub.\n",
      "Run the following command in your terminal in case you want to set the 'store' credential helper as default.\n",
      "\n",
      "git config --global credential.helper store\n",
      "\n",
      "Read https://git-scm.com/book/en/v2/Git-Tools-Credential-Storage for more details.\u001b[0m\n"
     ]
    }
   ],
   "source": [
    "# uploading to HuggingFace \n",
    "from huggingface_hub import login\n",
    "\n",
    "login(new_session=False, # Won’t request token if one is already saved on machine\n",
    "write_permission=True, # Requires a token with write permission\n",
    "token=\"\", # The name of your token\n",
    "add_to_git_credential=True)"
   ]
  },
  {
   "cell_type": "code",
   "execution_count": 74,
   "metadata": {
    "execution": {
     "iopub.execute_input": "2025-03-10T17:23:04.599011Z",
     "iopub.status.busy": "2025-03-10T17:23:04.598712Z",
     "iopub.status.idle": "2025-03-10T17:23:49.148450Z",
     "shell.execute_reply": "2025-03-10T17:23:49.147733Z",
     "shell.execute_reply.started": "2025-03-10T17:23:04.598986Z"
    },
    "trusted": true
   },
   "outputs": [
    {
     "data": {
      "application/vnd.jupyter.widget-view+json": {
       "model_id": "216bfbe9ee1f469cacc942d2e476a9ee",
       "version_major": 2,
       "version_minor": 0
      },
      "text/plain": [
       "model.safetensors:   0%|          | 0.00/1.42G [00:00<?, ?B/s]"
      ]
     },
     "metadata": {},
     "output_type": "display_data"
    },
    {
     "data": {
      "application/vnd.jupyter.widget-view+json": {
       "model_id": "61cd4d2b8d154f83b644d9f1558fdcee",
       "version_major": 2,
       "version_minor": 0
      },
      "text/plain": [
       "training_args.bin:   0%|          | 0.00/5.30k [00:00<?, ?B/s]"
      ]
     },
     "metadata": {},
     "output_type": "display_data"
    },
    {
     "data": {
      "application/vnd.jupyter.widget-view+json": {
       "model_id": "b0aadf45fcf94f1b8617b9488f2a2982",
       "version_major": 2,
       "version_minor": 0
      },
      "text/plain": [
       "Upload 2 LFS files:   0%|          | 0/2 [00:00<?, ?it/s]"
      ]
     },
     "metadata": {},
     "output_type": "display_data"
    },
    {
     "data": {
      "text/plain": [
       "CommitInfo(commit_url='https://huggingface.co/ConditionalNLI/exp3_roberta-large-mnli/commit/e34b896049701d6069f2dbc5b7486428e871be8a', commit_message='Upload folder using huggingface_hub', commit_description='', oid='e34b896049701d6069f2dbc5b7486428e871be8a', pr_url=None, repo_url=RepoUrl('https://huggingface.co/ConditionalNLI/exp3_roberta-large-mnli', endpoint='https://huggingface.co', repo_type='model', repo_id='ConditionalNLI/exp3_roberta-large-mnli'), pr_revision=None, pr_num=None)"
      ]
     },
     "execution_count": 74,
     "metadata": {},
     "output_type": "execute_result"
    }
   ],
   "source": [
    "from huggingface_hub import HfApi\n",
    "api = HfApi()\n",
    "\n",
    "# Upload all the content from the local folder to your remote Space.\n",
    "# By default, files are uploaded at the root of the repo\n",
    "api.upload_folder(\n",
    "    folder_path='/kaggle/working/roberta-large-mnli',\n",
    "    repo_id=\"ConditionalNLI/exp3_roberta-large-mnli\",\n",
    ")"
   ]
  },
  {
   "cell_type": "markdown",
   "metadata": {},
   "source": [
    "### Inferencing"
   ]
  },
  {
   "cell_type": "code",
   "execution_count": 75,
   "metadata": {
    "execution": {
     "iopub.execute_input": "2025-03-10T17:24:01.551011Z",
     "iopub.status.busy": "2025-03-10T17:24:01.550711Z",
     "iopub.status.idle": "2025-03-10T17:24:01.555000Z",
     "shell.execute_reply": "2025-03-10T17:24:01.554045Z",
     "shell.execute_reply.started": "2025-03-10T17:24:01.550986Z"
    },
    "trusted": true
   },
   "outputs": [],
   "source": [
    "from transformers import pipeline\n",
    "from datasets import load_dataset, Dataset\n",
    "from transformers.pipelines.pt_utils import KeyDataset, KeyPairDataset\n",
    "import torch"
   ]
  },
  {
   "cell_type": "code",
   "execution_count": 54,
   "metadata": {
    "execution": {
     "iopub.execute_input": "2025-03-10T16:51:22.975363Z",
     "iopub.status.busy": "2025-03-10T16:51:22.975022Z",
     "iopub.status.idle": "2025-03-10T16:51:22.980092Z",
     "shell.execute_reply": "2025-03-10T16:51:22.979355Z",
     "shell.execute_reply.started": "2025-03-10T16:51:22.975336Z"
    },
    "trusted": true
   },
   "outputs": [
    {
     "name": "stdout",
     "output_type": "stream",
     "text": [
      "GPU is available!\n"
     ]
    }
   ],
   "source": [
    "if torch.cuda.is_available():\n",
    "    print(\"GPU is available!\")\n",
    "    device = torch.device(\"cuda\")\n",
    "else:\n",
    "    print(\"GPU is not available, using CPU\")\n",
    "    device = torch.device(\"cpu\")"
   ]
  },
  {
   "cell_type": "code",
   "execution_count": 76,
   "metadata": {
    "execution": {
     "iopub.execute_input": "2025-03-10T17:24:05.691842Z",
     "iopub.status.busy": "2025-03-10T17:24:05.691526Z",
     "iopub.status.idle": "2025-03-10T17:24:24.525029Z",
     "shell.execute_reply": "2025-03-10T17:24:24.524366Z",
     "shell.execute_reply.started": "2025-03-10T17:24:05.691816Z"
    },
    "trusted": true
   },
   "outputs": [
    {
     "data": {
      "application/vnd.jupyter.widget-view+json": {
       "model_id": "f44b30839ad04c5bbae2ba408d65b156",
       "version_major": 2,
       "version_minor": 0
      },
      "text/plain": [
       "model.safetensors:   0%|          | 0.00/1.42G [00:00<?, ?B/s]"
      ]
     },
     "metadata": {},
     "output_type": "display_data"
    }
   ],
   "source": [
    "# loading model\n",
    "model = AutoModelForSequenceClassification.from_pretrained('ConditionalNLI/exp3_roberta-large-mnli',num_labels=3).to(device)"
   ]
  },
  {
   "cell_type": "code",
   "execution_count": 77,
   "metadata": {
    "execution": {
     "iopub.execute_input": "2025-03-10T17:24:29.520349Z",
     "iopub.status.busy": "2025-03-10T17:24:29.520040Z",
     "iopub.status.idle": "2025-03-10T17:24:29.531653Z",
     "shell.execute_reply": "2025-03-10T17:24:29.530803Z",
     "shell.execute_reply.started": "2025-03-10T17:24:29.520327Z"
    },
    "trusted": true
   },
   "outputs": [
    {
     "name": "stderr",
     "output_type": "stream",
     "text": [
      "Device set to use cuda\n"
     ]
    }
   ],
   "source": [
    "gen = pipeline('text-classification', model=model, tokenizer=tokenizer, device=device)"
   ]
  },
  {
   "cell_type": "code",
   "execution_count": 78,
   "metadata": {
    "execution": {
     "iopub.execute_input": "2025-03-10T17:24:36.413363Z",
     "iopub.status.busy": "2025-03-10T17:24:36.413012Z",
     "iopub.status.idle": "2025-03-10T17:25:11.081960Z",
     "shell.execute_reply": "2025-03-10T17:25:11.081074Z",
     "shell.execute_reply.started": "2025-03-10T17:24:36.413335Z"
    },
    "trusted": true
   },
   "outputs": [
    {
     "name": "stdout",
     "output_type": "stream",
     "text": [
      "0\n",
      "100\n",
      "200\n",
      "300\n",
      "400\n",
      "500\n",
      "600\n",
      "700\n",
      "800\n",
      "900\n",
      "1000\n",
      "1100\n",
      "1200\n",
      "1300\n",
      "1400\n",
      "1500\n",
      "1600\n",
      "1700\n",
      "1800\n",
      "1900\n",
      "2000\n",
      "2100\n",
      "2200\n",
      "2300\n"
     ]
    },
    {
     "data": {
      "text/plain": [
       "2367"
      ]
     },
     "execution_count": 78,
     "metadata": {},
     "output_type": "execute_result"
    }
   ],
   "source": [
    "id_num = 0\n",
    "test_results = pd.DataFrame(columns = ['id', 'premise', 'hypothesis', 'type', 'expected_label', 'predicted_label'])\n",
    "\n",
    "for predicted in gen(KeyPairDataset(test_ds,'premise', 'hypothesis'), batch_size=8, truncation=True):\n",
    "    if id_num % 100 == 0:\n",
    "        print(id_num)\n",
    "    test_results.loc[id_num] = [str(id_num), test_ds['premise'][id_num], test_ds['hypothesis'][id_num], test_ds['type'][id_num], test_ds['label'][id_num], predicted['label']]\n",
    "    id_num += 1\n",
    "\n",
    "len(test_results)"
   ]
  },
  {
   "cell_type": "code",
   "execution_count": 58,
   "metadata": {
    "execution": {
     "iopub.execute_input": "2025-03-10T16:53:43.077713Z",
     "iopub.status.busy": "2025-03-10T16:53:43.077410Z",
     "iopub.status.idle": "2025-03-10T16:53:43.088784Z",
     "shell.execute_reply": "2025-03-10T16:53:43.088033Z",
     "shell.execute_reply.started": "2025-03-10T16:53:43.077690Z"
    },
    "trusted": true
   },
   "outputs": [
    {
     "data": {
      "text/html": [
       "<div>\n",
       "<style scoped>\n",
       "    .dataframe tbody tr th:only-of-type {\n",
       "        vertical-align: middle;\n",
       "    }\n",
       "\n",
       "    .dataframe tbody tr th {\n",
       "        vertical-align: top;\n",
       "    }\n",
       "\n",
       "    .dataframe thead th {\n",
       "        text-align: right;\n",
       "    }\n",
       "</style>\n",
       "<table border=\"1\" class=\"dataframe\">\n",
       "  <thead>\n",
       "    <tr style=\"text-align: right;\">\n",
       "      <th></th>\n",
       "      <th>id</th>\n",
       "      <th>premise</th>\n",
       "      <th>hypothesis</th>\n",
       "      <th>type</th>\n",
       "      <th>expected_label</th>\n",
       "      <th>predicted_label</th>\n",
       "    </tr>\n",
       "  </thead>\n",
       "  <tbody>\n",
       "    <tr>\n",
       "      <th>0</th>\n",
       "      <td>0</td>\n",
       "      <td>If Charlotte passes her driving test, her parents will buy her a car.</td>\n",
       "      <td>Charlotte has parents.</td>\n",
       "      <td>type5_possessive</td>\n",
       "      <td>ENTAILMENT</td>\n",
       "      <td>CONTRADICTION</td>\n",
       "    </tr>\n",
       "    <tr>\n",
       "      <th>1</th>\n",
       "      <td>1</td>\n",
       "      <td>It's not the case that if Charlotte passes her driving test, her parents will buy her a car.</td>\n",
       "      <td>Charlotte has parents.</td>\n",
       "      <td>type5_possessive</td>\n",
       "      <td>ENTAILMENT</td>\n",
       "      <td>CONTRADICTION</td>\n",
       "    </tr>\n",
       "    <tr>\n",
       "      <th>2</th>\n",
       "      <td>2</td>\n",
       "      <td>Sam believes that if Charlotte passes her driving test, her parents will buy her a car.</td>\n",
       "      <td>Charlotte has parents.</td>\n",
       "      <td>type5_possessive</td>\n",
       "      <td>ENTAILMENT</td>\n",
       "      <td>CONTRADICTION</td>\n",
       "    </tr>\n",
       "    <tr>\n",
       "      <th>3</th>\n",
       "      <td>3</td>\n",
       "      <td>Is it true that if Charlotte passes her driving test, her parents will buy her a car?</td>\n",
       "      <td>Charlotte has parents.</td>\n",
       "      <td>type5_possessive</td>\n",
       "      <td>ENTAILMENT</td>\n",
       "      <td>CONTRADICTION</td>\n",
       "    </tr>\n",
       "    <tr>\n",
       "      <th>4</th>\n",
       "      <td>4</td>\n",
       "      <td>If Lily takes the train to the city, her friend will meet her at the station.</td>\n",
       "      <td>Lily has a friend.</td>\n",
       "      <td>type5_possessive</td>\n",
       "      <td>ENTAILMENT</td>\n",
       "      <td>CONTRADICTION</td>\n",
       "    </tr>\n",
       "    <tr>\n",
       "      <th>...</th>\n",
       "      <td>...</td>\n",
       "      <td>...</td>\n",
       "      <td>...</td>\n",
       "      <td>...</td>\n",
       "      <td>...</td>\n",
       "      <td>...</td>\n",
       "    </tr>\n",
       "    <tr>\n",
       "      <th>2362</th>\n",
       "      <td>2362</td>\n",
       "      <td>If Sophia decides to attend the concert, his best friend will drive him there.</td>\n",
       "      <td>Sophia has a close friend.</td>\n",
       "      <td>type5_possessive</td>\n",
       "      <td>NEUTRAL</td>\n",
       "      <td>CONTRADICTION</td>\n",
       "    </tr>\n",
       "    <tr>\n",
       "      <th>2363</th>\n",
       "      <td>2363</td>\n",
       "      <td>It's not the case that if Sophia decides to attend the concert, his best friend will drive him there.</td>\n",
       "      <td>Sophia has a close friend.</td>\n",
       "      <td>type5_possessive</td>\n",
       "      <td>NEUTRAL</td>\n",
       "      <td>CONTRADICTION</td>\n",
       "    </tr>\n",
       "    <tr>\n",
       "      <th>2364</th>\n",
       "      <td>2364</td>\n",
       "      <td>Sam believes that if Sophia decides to attend the concert, his best friend will drive him there.</td>\n",
       "      <td>Sophia has a close friend.</td>\n",
       "      <td>type5_possessive</td>\n",
       "      <td>NEUTRAL</td>\n",
       "      <td>CONTRADICTION</td>\n",
       "    </tr>\n",
       "    <tr>\n",
       "      <th>2365</th>\n",
       "      <td>2365</td>\n",
       "      <td>Is it true that if Sophia decides to attend the concert, his best friend will drive him there?</td>\n",
       "      <td>Sophia has a close friend.</td>\n",
       "      <td>type5_possessive</td>\n",
       "      <td>NEUTRAL</td>\n",
       "      <td>CONTRADICTION</td>\n",
       "    </tr>\n",
       "    <tr>\n",
       "      <th>2366</th>\n",
       "      <td>2366</td>\n",
       "      <td>If Sophia decides to attend the concert, his best friend will drive him there.</td>\n",
       "      <td>Sophia has decided to attend the concert, but his best friend will not drive him.</td>\n",
       "      <td>type5_possessive</td>\n",
       "      <td>CONTRADICTION</td>\n",
       "      <td>CONTRADICTION</td>\n",
       "    </tr>\n",
       "  </tbody>\n",
       "</table>\n",
       "<p>2367 rows × 6 columns</p>\n",
       "</div>"
      ],
      "text/plain": [
       "        id  \\\n",
       "0        0   \n",
       "1        1   \n",
       "2        2   \n",
       "3        3   \n",
       "4        4   \n",
       "...    ...   \n",
       "2362  2362   \n",
       "2363  2363   \n",
       "2364  2364   \n",
       "2365  2365   \n",
       "2366  2366   \n",
       "\n",
       "                                                                                                    premise  \\\n",
       "0                                     If Charlotte passes her driving test, her parents will buy her a car.   \n",
       "1              It's not the case that if Charlotte passes her driving test, her parents will buy her a car.   \n",
       "2                   Sam believes that if Charlotte passes her driving test, her parents will buy her a car.   \n",
       "3                     Is it true that if Charlotte passes her driving test, her parents will buy her a car?   \n",
       "4                             If Lily takes the train to the city, her friend will meet her at the station.   \n",
       "...                                                                                                     ...   \n",
       "2362                         If Sophia decides to attend the concert, his best friend will drive him there.   \n",
       "2363  It's not the case that if Sophia decides to attend the concert, his best friend will drive him there.   \n",
       "2364       Sam believes that if Sophia decides to attend the concert, his best friend will drive him there.   \n",
       "2365         Is it true that if Sophia decides to attend the concert, his best friend will drive him there?   \n",
       "2366                         If Sophia decides to attend the concert, his best friend will drive him there.   \n",
       "\n",
       "                                                                             hypothesis  \\\n",
       "0                                                                Charlotte has parents.   \n",
       "1                                                                Charlotte has parents.   \n",
       "2                                                                Charlotte has parents.   \n",
       "3                                                                Charlotte has parents.   \n",
       "4                                                                    Lily has a friend.   \n",
       "...                                                                                 ...   \n",
       "2362                                                         Sophia has a close friend.   \n",
       "2363                                                         Sophia has a close friend.   \n",
       "2364                                                         Sophia has a close friend.   \n",
       "2365                                                         Sophia has a close friend.   \n",
       "2366  Sophia has decided to attend the concert, but his best friend will not drive him.   \n",
       "\n",
       "                  type expected_label predicted_label  \n",
       "0     type5_possessive     ENTAILMENT   CONTRADICTION  \n",
       "1     type5_possessive     ENTAILMENT   CONTRADICTION  \n",
       "2     type5_possessive     ENTAILMENT   CONTRADICTION  \n",
       "3     type5_possessive     ENTAILMENT   CONTRADICTION  \n",
       "4     type5_possessive     ENTAILMENT   CONTRADICTION  \n",
       "...                ...            ...             ...  \n",
       "2362  type5_possessive        NEUTRAL   CONTRADICTION  \n",
       "2363  type5_possessive        NEUTRAL   CONTRADICTION  \n",
       "2364  type5_possessive        NEUTRAL   CONTRADICTION  \n",
       "2365  type5_possessive        NEUTRAL   CONTRADICTION  \n",
       "2366  type5_possessive  CONTRADICTION   CONTRADICTION  \n",
       "\n",
       "[2367 rows x 6 columns]"
      ]
     },
     "execution_count": 58,
     "metadata": {},
     "output_type": "execute_result"
    }
   ],
   "source": [
    "test_results"
   ]
  },
  {
   "cell_type": "code",
   "execution_count": 79,
   "metadata": {
    "execution": {
     "iopub.execute_input": "2025-03-10T17:25:23.562005Z",
     "iopub.status.busy": "2025-03-10T17:25:23.561704Z",
     "iopub.status.idle": "2025-03-10T17:25:23.568865Z",
     "shell.execute_reply": "2025-03-10T17:25:23.568003Z",
     "shell.execute_reply.started": "2025-03-10T17:25:23.561982Z"
    },
    "trusted": true
   },
   "outputs": [
    {
     "data": {
      "text/plain": [
       "predicted_label\n",
       "CONTRADICTION    2317\n",
       "NEUTRAL            50\n",
       "Name: count, dtype: int64"
      ]
     },
     "execution_count": 79,
     "metadata": {},
     "output_type": "execute_result"
    }
   ],
   "source": [
    "test_results['predicted_label'].value_counts()"
   ]
  },
  {
   "cell_type": "code",
   "execution_count": 81,
   "metadata": {
    "execution": {
     "iopub.execute_input": "2025-03-10T17:25:39.176515Z",
     "iopub.status.busy": "2025-03-10T17:25:39.176214Z",
     "iopub.status.idle": "2025-03-10T17:25:39.193599Z",
     "shell.execute_reply": "2025-03-10T17:25:39.192788Z",
     "shell.execute_reply.started": "2025-03-10T17:25:39.176492Z"
    },
    "trusted": true
   },
   "outputs": [],
   "source": [
    "test_results.to_csv('roberta-mnli_test_results_run3.csv')"
   ]
  },
  {
   "cell_type": "code",
   "execution_count": 83,
   "metadata": {
    "execution": {
     "iopub.execute_input": "2025-03-10T17:25:51.598099Z",
     "iopub.status.busy": "2025-03-10T17:25:51.597806Z",
     "iopub.status.idle": "2025-03-10T17:25:51.602064Z",
     "shell.execute_reply": "2025-03-10T17:25:51.601145Z",
     "shell.execute_reply.started": "2025-03-10T17:25:51.598078Z"
    },
    "trusted": true
   },
   "outputs": [],
   "source": [
    "from sklearn.metrics import confusion_matrix, classification_report\n",
    "import seaborn as sns\n",
    "import matplotlib.pyplot as plt"
   ]
  },
  {
   "cell_type": "code",
   "execution_count": 84,
   "metadata": {
    "execution": {
     "iopub.execute_input": "2025-03-10T17:25:54.527930Z",
     "iopub.status.busy": "2025-03-10T17:25:54.527533Z",
     "iopub.status.idle": "2025-03-10T17:25:54.771417Z",
     "shell.execute_reply": "2025-03-10T17:25:54.770552Z",
     "shell.execute_reply.started": "2025-03-10T17:25:54.527897Z"
    },
    "trusted": true
   },
   "outputs": [
    {
     "data": {
      "image/png": "[encoded data removed]",
      "text/plain": [
       "<Figure size 800x600 with 2 Axes>"
      ]
     },
     "metadata": {},
     "output_type": "display_data"
    }
   ],
   "source": [
    "# Create the testing confusion matrix\n",
    "cm = confusion_matrix(test_results['expected_label'], test_results['predicted_label'],labels=[\"ENTAILMENT\",\"NEUTRAL\",\"CONTRADICTION\"])\n",
    "\n",
    "# Visualize the confusion matrix\n",
    "plt.figure(figsize=(8, 6))\n",
    "sns.heatmap(cm, annot=True, fmt=\"d\",cmap=\"Blues\")\n",
    "plt.xlabel(\"Predicted Label\")\n",
    "plt.ylabel(\"True Label\")\n",
    "plt.title(\"Confusion Matrix\")\n",
    "plt.show()"
   ]
  },
  {
   "cell_type": "code",
   "execution_count": 85,
   "metadata": {
    "execution": {
     "iopub.execute_input": "2025-03-10T17:27:03.433447Z",
     "iopub.status.busy": "2025-03-10T17:27:03.433037Z",
     "iopub.status.idle": "2025-03-10T17:27:03.518349Z",
     "shell.execute_reply": "2025-03-10T17:27:03.517511Z",
     "shell.execute_reply.started": "2025-03-10T17:27:03.433415Z"
    },
    "trusted": true
   },
   "outputs": [
    {
     "name": "stderr",
     "output_type": "stream",
     "text": [
      "/usr/local/lib/python3.10/dist-packages/sklearn/metrics/_classification.py:1344: UndefinedMetricWarning: Precision and F-score are ill-defined and being set to 0.0 in labels with no predicted samples. Use `zero_division` parameter to control this behavior.\n",
      "  _warn_prf(average, modifier, msg_start, len(result))\n",
      "/usr/local/lib/python3.10/dist-packages/sklearn/metrics/_classification.py:1344: UndefinedMetricWarning: Precision and F-score are ill-defined and being set to 0.0 in labels with no predicted samples. Use `zero_division` parameter to control this behavior.\n",
      "  _warn_prf(average, modifier, msg_start, len(result))\n",
      "/usr/local/lib/python3.10/dist-packages/sklearn/metrics/_classification.py:1344: UndefinedMetricWarning: Precision and F-score are ill-defined and being set to 0.0 in labels with no predicted samples. Use `zero_division` parameter to control this behavior.\n",
      "  _warn_prf(average, modifier, msg_start, len(result))\n"
     ]
    },
    {
     "data": {
      "text/html": [
       "<div>\n",
       "<style scoped>\n",
       "    .dataframe tbody tr th:only-of-type {\n",
       "        vertical-align: middle;\n",
       "    }\n",
       "\n",
       "    .dataframe tbody tr th {\n",
       "        vertical-align: top;\n",
       "    }\n",
       "\n",
       "    .dataframe thead th {\n",
       "        text-align: right;\n",
       "    }\n",
       "</style>\n",
       "<table border=\"1\" class=\"dataframe\">\n",
       "  <thead>\n",
       "    <tr style=\"text-align: right;\">\n",
       "      <th>label</th>\n",
       "      <th>precision</th>\n",
       "      <th>recall</th>\n",
       "      <th>f1-score</th>\n",
       "      <th>support</th>\n",
       "    </tr>\n",
       "  </thead>\n",
       "  <tbody>\n",
       "    <tr>\n",
       "      <th>CONTRADICTION</th>\n",
       "      <td>0.331032</td>\n",
       "      <td>0.998698</td>\n",
       "      <td>0.497245</td>\n",
       "      <td>768.000000</td>\n",
       "    </tr>\n",
       "    <tr>\n",
       "      <th>ENTAILMENT</th>\n",
       "      <td>0.000000</td>\n",
       "      <td>0.000000</td>\n",
       "      <td>0.000000</td>\n",
       "      <td>720.000000</td>\n",
       "    </tr>\n",
       "    <tr>\n",
       "      <th>NEUTRAL</th>\n",
       "      <td>0.940000</td>\n",
       "      <td>0.053470</td>\n",
       "      <td>0.101184</td>\n",
       "      <td>879.000000</td>\n",
       "    </tr>\n",
       "    <tr>\n",
       "      <th>accuracy</th>\n",
       "      <td>0.343895</td>\n",
       "      <td>0.343895</td>\n",
       "      <td>0.343895</td>\n",
       "      <td>0.343895</td>\n",
       "    </tr>\n",
       "    <tr>\n",
       "      <th>macro avg</th>\n",
       "      <td>0.423677</td>\n",
       "      <td>0.350723</td>\n",
       "      <td>0.199476</td>\n",
       "      <td>2367.000000</td>\n",
       "    </tr>\n",
       "    <tr>\n",
       "      <th>weighted avg</th>\n",
       "      <td>0.456482</td>\n",
       "      <td>0.343895</td>\n",
       "      <td>0.198912</td>\n",
       "      <td>2367.000000</td>\n",
       "    </tr>\n",
       "  </tbody>\n",
       "</table>\n",
       "</div>"
      ],
      "text/plain": [
       "label          precision    recall  f1-score      support\n",
       "CONTRADICTION   0.331032  0.998698  0.497245   768.000000\n",
       "ENTAILMENT      0.000000  0.000000  0.000000   720.000000\n",
       "NEUTRAL         0.940000  0.053470  0.101184   879.000000\n",
       "accuracy        0.343895  0.343895  0.343895     0.343895\n",
       "macro avg       0.423677  0.350723  0.199476  2367.000000\n",
       "weighted avg    0.456482  0.343895  0.198912  2367.000000"
      ]
     },
     "execution_count": 85,
     "metadata": {},
     "output_type": "execute_result"
    }
   ],
   "source": [
    "report_dict = classification_report(test_results['expected_label'], test_results['predicted_label'], output_dict=True)\n",
    "report_df = pd.DataFrame(report_dict).transpose() \n",
    "report_df.columns.name = 'label'\n",
    "report_df"
   ]
  },
  {
   "cell_type": "code",
   "execution_count": 86,
   "metadata": {
    "execution": {
     "iopub.execute_input": "2025-03-10T17:27:20.479696Z",
     "iopub.status.busy": "2025-03-10T17:27:20.479416Z",
     "iopub.status.idle": "2025-03-10T17:27:20.574004Z",
     "shell.execute_reply": "2025-03-10T17:27:20.573173Z",
     "shell.execute_reply.started": "2025-03-10T17:27:20.479674Z"
    },
    "trusted": true
   },
   "outputs": [
    {
     "name": "stderr",
     "output_type": "stream",
     "text": [
      "/usr/local/lib/python3.10/dist-packages/sklearn/metrics/_classification.py:1344: UndefinedMetricWarning: Recall is ill-defined and being set to 0.0 in labels with no true samples. Use `zero_division` parameter to control this behavior.\n",
      "  _warn_prf(average, modifier, msg_start, len(result))\n",
      "/usr/local/lib/python3.10/dist-packages/sklearn/metrics/_classification.py:1344: UndefinedMetricWarning: Recall is ill-defined and being set to 0.0 in labels with no true samples. Use `zero_division` parameter to control this behavior.\n",
      "  _warn_prf(average, modifier, msg_start, len(result))\n",
      "/usr/local/lib/python3.10/dist-packages/sklearn/metrics/_classification.py:1344: UndefinedMetricWarning: Recall is ill-defined and being set to 0.0 in labels with no true samples. Use `zero_division` parameter to control this behavior.\n",
      "  _warn_prf(average, modifier, msg_start, len(result))\n",
      "/usr/local/lib/python3.10/dist-packages/sklearn/metrics/_classification.py:1344: UndefinedMetricWarning: Recall is ill-defined and being set to 0.0 in labels with no true samples. Use `zero_division` parameter to control this behavior.\n",
      "  _warn_prf(average, modifier, msg_start, len(result))\n",
      "<ipython-input-86-823762390d06>:1: DeprecationWarning: DataFrameGroupBy.apply operated on the grouping columns. This behavior is deprecated, and in a future version of pandas the grouping columns will be excluded from the operation. Either pass `include_groups=False` to exclude the groupings or explicitly select the grouping columns after groupby to silence this warning.\n",
      "  metrics_by_type = test_results.groupby('type').apply(compute_metrics_by_type).reset_index()\n"
     ]
    },
    {
     "data": {
      "text/html": [
       "<div>\n",
       "<style scoped>\n",
       "    .dataframe tbody tr th:only-of-type {\n",
       "        vertical-align: middle;\n",
       "    }\n",
       "\n",
       "    .dataframe tbody tr th {\n",
       "        vertical-align: top;\n",
       "    }\n",
       "\n",
       "    .dataframe thead th {\n",
       "        text-align: right;\n",
       "    }\n",
       "</style>\n",
       "<table border=\"1\" class=\"dataframe\">\n",
       "  <thead>\n",
       "    <tr style=\"text-align: right;\">\n",
       "      <th>ID</th>\n",
       "      <th>type</th>\n",
       "      <th>accuracy</th>\n",
       "      <th>precision</th>\n",
       "      <th>recall</th>\n",
       "      <th>f1_score</th>\n",
       "    </tr>\n",
       "  </thead>\n",
       "  <tbody>\n",
       "    <tr>\n",
       "      <th>0</th>\n",
       "      <td>type1_again</td>\n",
       "      <td>0.40</td>\n",
       "      <td>1.00</td>\n",
       "      <td>0.40</td>\n",
       "      <td>0.57</td>\n",
       "    </tr>\n",
       "    <tr>\n",
       "      <th>1</th>\n",
       "      <td>type1_possessive</td>\n",
       "      <td>0.48</td>\n",
       "      <td>0.93</td>\n",
       "      <td>0.48</td>\n",
       "      <td>0.58</td>\n",
       "    </tr>\n",
       "    <tr>\n",
       "      <th>2</th>\n",
       "      <td>type2_again</td>\n",
       "      <td>0.45</td>\n",
       "      <td>0.95</td>\n",
       "      <td>0.45</td>\n",
       "      <td>0.57</td>\n",
       "    </tr>\n",
       "    <tr>\n",
       "      <th>3</th>\n",
       "      <td>type2_possessive</td>\n",
       "      <td>0.41</td>\n",
       "      <td>0.99</td>\n",
       "      <td>0.41</td>\n",
       "      <td>0.57</td>\n",
       "    </tr>\n",
       "    <tr>\n",
       "      <th>4</th>\n",
       "      <td>type3_again</td>\n",
       "      <td>0.40</td>\n",
       "      <td>0.97</td>\n",
       "      <td>0.40</td>\n",
       "      <td>0.56</td>\n",
       "    </tr>\n",
       "    <tr>\n",
       "      <th>5</th>\n",
       "      <td>type3_possessive</td>\n",
       "      <td>0.42</td>\n",
       "      <td>0.98</td>\n",
       "      <td>0.42</td>\n",
       "      <td>0.57</td>\n",
       "    </tr>\n",
       "    <tr>\n",
       "      <th>6</th>\n",
       "      <td>type4_possessive</td>\n",
       "      <td>0.39</td>\n",
       "      <td>0.99</td>\n",
       "      <td>0.39</td>\n",
       "      <td>0.54</td>\n",
       "    </tr>\n",
       "    <tr>\n",
       "      <th>7</th>\n",
       "      <td>type5_again</td>\n",
       "      <td>0.01</td>\n",
       "      <td>1.00</td>\n",
       "      <td>0.01</td>\n",
       "      <td>0.02</td>\n",
       "    </tr>\n",
       "    <tr>\n",
       "      <th>8</th>\n",
       "      <td>type5_possessive</td>\n",
       "      <td>0.34</td>\n",
       "      <td>0.99</td>\n",
       "      <td>0.34</td>\n",
       "      <td>0.50</td>\n",
       "    </tr>\n",
       "  </tbody>\n",
       "</table>\n",
       "</div>"
      ],
      "text/plain": [
       "ID              type  accuracy  precision  recall  f1_score\n",
       "0        type1_again      0.40       1.00    0.40      0.57\n",
       "1   type1_possessive      0.48       0.93    0.48      0.58\n",
       "2        type2_again      0.45       0.95    0.45      0.57\n",
       "3   type2_possessive      0.41       0.99    0.41      0.57\n",
       "4        type3_again      0.40       0.97    0.40      0.56\n",
       "5   type3_possessive      0.42       0.98    0.42      0.57\n",
       "6   type4_possessive      0.39       0.99    0.39      0.54\n",
       "7        type5_again      0.01       1.00    0.01      0.02\n",
       "8   type5_possessive      0.34       0.99    0.34      0.50"
      ]
     },
     "execution_count": 86,
     "metadata": {},
     "output_type": "execute_result"
    }
   ],
   "source": [
    "metrics_by_type = test_results.groupby('type').apply(compute_metrics_by_type).reset_index()\n",
    "metrics_by_type.columns.name = 'ID'\n",
    "metrics_by_type"
   ]
  }
 ],
 "metadata": {
  "kaggle": {
   "accelerator": "gpu",
   "dataSources": [
    {
     "datasetId": 6568489,
     "sourceId": 10631150,
     "sourceType": "datasetVersion"
    },
    {
     "datasetId": 6586364,
     "sourceId": 10683329,
     "sourceType": "datasetVersion"
    }
   ],
   "dockerImageVersionId": 30840,
   "isGpuEnabled": true,
   "isInternetEnabled": true,
   "language": "python",
   "sourceType": "notebook"
  },
  "kernelspec": {
   "display_name": "Python 3",
   "language": "python",
   "name": "python3"
  },
  "language_info": {
   "codemirror_mode": {
    "name": "ipython",
    "version": 3
   },
   "file_extension": ".py",
   "mimetype": "text/x-python",
   "name": "python",
   "nbconvert_exporter": "python",
   "pygments_lexer": "ipython3",
   "version": "3.10.12"
  }
 },
 "nbformat": 4,
 "nbformat_minor": 4
}
