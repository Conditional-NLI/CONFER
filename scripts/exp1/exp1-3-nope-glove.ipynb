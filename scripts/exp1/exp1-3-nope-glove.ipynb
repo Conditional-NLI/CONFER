{
 "cells": [
  {
   "cell_type": "code",
   "execution_count": 1,
   "metadata": {
    "_cell_guid": "b1076dfc-b9ad-4769-8c92-a6c4dae69d19",
    "_uuid": "8f2839f25d086af736a60e9eeb907d3b93b6e0e5",
    "execution": {
     "iopub.execute_input": "2025-03-09T18:49:01.584763Z",
     "iopub.status.busy": "2025-03-09T18:49:01.584466Z",
     "iopub.status.idle": "2025-03-09T18:49:16.859143Z",
     "shell.execute_reply": "2025-03-09T18:49:16.858203Z",
     "shell.execute_reply.started": "2025-03-09T18:49:01.584721Z"
    },
    "trusted": true
   },
   "outputs": [],
   "source": [
    "import numpy as np # linear algebra\n",
    "import pandas as pd # data processing, CSV file I/O (e.g. pd.read_csv)\n",
    "import pickle\n",
    "import gensim.downloader as api\n",
    "from gensim.models import KeyedVectors\n",
    "from datasets import load_dataset, Dataset"
   ]
  },
  {
   "cell_type": "markdown",
   "metadata": {},
   "source": [
    "# Dataset"
   ]
  },
  {
   "cell_type": "code",
   "execution_count": 2,
   "metadata": {
    "execution": {
     "iopub.execute_input": "2025-03-09T18:49:16.860768Z",
     "iopub.status.busy": "2025-03-09T18:49:16.860283Z",
     "iopub.status.idle": "2025-03-09T18:49:19.591578Z",
     "shell.execute_reply": "2025-03-09T18:49:19.590686Z",
     "shell.execute_reply.started": "2025-03-09T18:49:16.860732Z"
    },
    "trusted": true
   },
   "outputs": [
    {
     "data": {
      "application/vnd.jupyter.widget-view+json": {
       "model_id": "0468d653309c470d99d0617c3ff77590",
       "version_major": 2,
       "version_minor": 0
      },
      "text/plain": [
       "README.md:   0%|          | 0.00/419 [00:00<?, ?B/s]"
      ]
     },
     "metadata": {},
     "output_type": "display_data"
    },
    {
     "name": "stderr",
     "output_type": "stream",
     "text": [
      "Repo card metadata block was not found. Setting CardData to empty.\n"
     ]
    },
    {
     "data": {
      "application/vnd.jupyter.widget-view+json": {
       "model_id": "56a5d921901743989ddda61235cf644b",
       "version_major": 2,
       "version_minor": 0
      },
      "text/plain": [
       "nli_corpus.train.jsonl:   0%|          | 0.00/2.40M [00:00<?, ?B/s]"
      ]
     },
     "metadata": {},
     "output_type": "display_data"
    },
    {
     "data": {
      "application/vnd.jupyter.widget-view+json": {
       "model_id": "36621b3e60f44fbaabc98679a9297cf0",
       "version_major": 2,
       "version_minor": 0
      },
      "text/plain": [
       "nli_corpus.eval.jsonl:   0%|          | 0.00/350k [00:00<?, ?B/s]"
      ]
     },
     "metadata": {},
     "output_type": "display_data"
    },
    {
     "data": {
      "application/vnd.jupyter.widget-view+json": {
       "model_id": "511aa9309a3d408192f2a34c1af30fd3",
       "version_major": 2,
       "version_minor": 0
      },
      "text/plain": [
       "Generating train split:   0%|          | 0/2386 [00:00<?, ? examples/s]"
      ]
     },
     "metadata": {},
     "output_type": "display_data"
    },
    {
     "data": {
      "application/vnd.jupyter.widget-view+json": {
       "model_id": "8356694a57974550a89f0a5538b4fd11",
       "version_major": 2,
       "version_minor": 0
      },
      "text/plain": [
       "Generating test split:   0%|          | 0/346 [00:00<?, ? examples/s]"
      ]
     },
     "metadata": {},
     "output_type": "display_data"
    },
    {
     "data": {
      "text/plain": [
       "Dataset({\n",
       "    features: ['uid', 'premise', 'hypothesis', 'label', 'metadata'],\n",
       "    num_rows: 2386\n",
       "})"
      ]
     },
     "execution_count": 2,
     "metadata": {},
     "output_type": "execute_result"
    }
   ],
   "source": [
    "nope_ds = load_dataset(\"tasksource/nope\",split=\"train\")\n",
    "nope_ds "
   ]
  },
  {
   "cell_type": "code",
   "execution_count": 3,
   "metadata": {
    "execution": {
     "iopub.execute_input": "2025-03-09T18:49:19.596127Z",
     "iopub.status.busy": "2025-03-09T18:49:19.595933Z",
     "iopub.status.idle": "2025-03-09T18:49:19.645848Z",
     "shell.execute_reply": "2025-03-09T18:49:19.644920Z",
     "shell.execute_reply.started": "2025-03-09T18:49:19.596108Z"
    },
    "trusted": true
   },
   "outputs": [
    {
     "data": {
      "text/html": [
       "<div>\n",
       "<style scoped>\n",
       "    .dataframe tbody tr th:only-of-type {\n",
       "        vertical-align: middle;\n",
       "    }\n",
       "\n",
       "    .dataframe tbody tr th {\n",
       "        vertical-align: top;\n",
       "    }\n",
       "\n",
       "    .dataframe thead th {\n",
       "        text-align: right;\n",
       "    }\n",
       "</style>\n",
       "<table border=\"1\" class=\"dataframe\">\n",
       "  <thead>\n",
       "    <tr style=\"text-align: right;\">\n",
       "      <th></th>\n",
       "      <th>premise</th>\n",
       "      <th>hypothesis</th>\n",
       "      <th>label</th>\n",
       "    </tr>\n",
       "  </thead>\n",
       "  <tbody>\n",
       "    <tr>\n",
       "      <th>0</th>\n",
       "      <td>The cops had him in their headlights. He ran h...</td>\n",
       "      <td>He was standing earlier.</td>\n",
       "      <td>E</td>\n",
       "    </tr>\n",
       "    <tr>\n",
       "      <th>1</th>\n",
       "      <td>The cops had him in their headlights. He ran h...</td>\n",
       "      <td>He was standing earlier.</td>\n",
       "      <td>E</td>\n",
       "    </tr>\n",
       "    <tr>\n",
       "      <th>2</th>\n",
       "      <td>For three nights a comet flared through the de...</td>\n",
       "      <td>A red smudge couldn't be seen on the moon before.</td>\n",
       "      <td>E</td>\n",
       "    </tr>\n",
       "    <tr>\n",
       "      <th>3</th>\n",
       "      <td>For three nights a comet flared through the de...</td>\n",
       "      <td>A red smudge couldn't be seen on the moon before.</td>\n",
       "      <td>E</td>\n",
       "    </tr>\n",
       "    <tr>\n",
       "      <th>4</th>\n",
       "      <td>\" He just thinks it's so much bull--. He's not...</td>\n",
       "      <td>We are someone.</td>\n",
       "      <td>N</td>\n",
       "    </tr>\n",
       "    <tr>\n",
       "      <th>...</th>\n",
       "      <td>...</td>\n",
       "      <td>...</td>\n",
       "      <td>...</td>\n",
       "    </tr>\n",
       "    <tr>\n",
       "      <th>2381</th>\n",
       "      <td>I've worked obviously suspicious gobblers for ...</td>\n",
       "      <td>They will react in some way.</td>\n",
       "      <td>E</td>\n",
       "    </tr>\n",
       "    <tr>\n",
       "      <th>2382</th>\n",
       "      <td>And, of course, at that time my dad was dying,...</td>\n",
       "      <td>Something happened.</td>\n",
       "      <td>E</td>\n",
       "    </tr>\n",
       "    <tr>\n",
       "      <th>2383</th>\n",
       "      <td>And, of course, at that time my dad was dying,...</td>\n",
       "      <td>Something happened.</td>\n",
       "      <td>E</td>\n",
       "    </tr>\n",
       "    <tr>\n",
       "      <th>2384</th>\n",
       "      <td>I felt grubby just looking at her.  I don't kn...</td>\n",
       "      <td>Elissa has a favorite hobby.</td>\n",
       "      <td>N</td>\n",
       "    </tr>\n",
       "    <tr>\n",
       "      <th>2385</th>\n",
       "      <td>I felt grubby just looking at her.  I know wha...</td>\n",
       "      <td>Elissa has a favorite hobby.</td>\n",
       "      <td>E</td>\n",
       "    </tr>\n",
       "  </tbody>\n",
       "</table>\n",
       "<p>2386 rows × 3 columns</p>\n",
       "</div>"
      ],
      "text/plain": [
       "                                                premise  \\\n",
       "0     The cops had him in their headlights. He ran h...   \n",
       "1     The cops had him in their headlights. He ran h...   \n",
       "2     For three nights a comet flared through the de...   \n",
       "3     For three nights a comet flared through the de...   \n",
       "4     \" He just thinks it's so much bull--. He's not...   \n",
       "...                                                 ...   \n",
       "2381  I've worked obviously suspicious gobblers for ...   \n",
       "2382  And, of course, at that time my dad was dying,...   \n",
       "2383  And, of course, at that time my dad was dying,...   \n",
       "2384  I felt grubby just looking at her.  I don't kn...   \n",
       "2385  I felt grubby just looking at her.  I know wha...   \n",
       "\n",
       "                                             hypothesis label  \n",
       "0                              He was standing earlier.     E  \n",
       "1                              He was standing earlier.     E  \n",
       "2     A red smudge couldn't be seen on the moon before.     E  \n",
       "3     A red smudge couldn't be seen on the moon before.     E  \n",
       "4                                       We are someone.     N  \n",
       "...                                                 ...   ...  \n",
       "2381                       They will react in some way.     E  \n",
       "2382                                Something happened.     E  \n",
       "2383                                Something happened.     E  \n",
       "2384                       Elissa has a favorite hobby.     N  \n",
       "2385                       Elissa has a favorite hobby.     E  \n",
       "\n",
       "[2386 rows x 3 columns]"
      ]
     },
     "execution_count": 3,
     "metadata": {},
     "output_type": "execute_result"
    }
   ],
   "source": [
    "train_df = nope_ds.to_pandas()\n",
    "train_df = train_df[['premise','hypothesis','label']]\n",
    "train_df"
   ]
  },
  {
   "cell_type": "code",
   "execution_count": null,
   "metadata": {
    "execution": {
     "iopub.execute_input": "2025-03-09T18:49:19.647053Z",
     "iopub.status.busy": "2025-03-09T18:49:19.646726Z",
     "iopub.status.idle": "2025-03-09T18:49:19.687466Z",
     "shell.execute_reply": "2025-03-09T18:49:19.686572Z",
     "shell.execute_reply.started": "2025-03-09T18:49:19.647020Z"
    },
    "trusted": true
   },
   "outputs": [
    {
     "name": "stderr",
     "output_type": "stream",
     "text": [
      "/usr/local/lib/python3.10/dist-packages/pandas/io/formats/format.py:1458: RuntimeWarning: invalid value encountered in greater\n",
      "  has_large_values = (abs_vals > 1e6).any()\n",
      "/usr/local/lib/python3.10/dist-packages/pandas/io/formats/format.py:1459: RuntimeWarning: invalid value encountered in less\n",
      "  has_small_values = ((abs_vals < 10 ** (-self.digits)) & (abs_vals > 0)).any()\n",
      "/usr/local/lib/python3.10/dist-packages/pandas/io/formats/format.py:1459: RuntimeWarning: invalid value encountered in greater\n",
      "  has_small_values = ((abs_vals < 10 ** (-self.digits)) & (abs_vals > 0)).any()\n"
     ]
    },
    {
     "data": {
      "text/html": [
       "<div>\n",
       "<style scoped>\n",
       "    .dataframe tbody tr th:only-of-type {\n",
       "        vertical-align: middle;\n",
       "    }\n",
       "\n",
       "    .dataframe tbody tr th {\n",
       "        vertical-align: top;\n",
       "    }\n",
       "\n",
       "    .dataframe thead th {\n",
       "        text-align: right;\n",
       "    }\n",
       "</style>\n",
       "<table border=\"1\" class=\"dataframe\">\n",
       "  <thead>\n",
       "    <tr style=\"text-align: right;\">\n",
       "      <th></th>\n",
       "      <th>premise</th>\n",
       "      <th>hypothesis</th>\n",
       "      <th>gold_label</th>\n",
       "      <th>type</th>\n",
       "    </tr>\n",
       "  </thead>\n",
       "  <tbody>\n",
       "    <tr>\n",
       "      <th>9600.0</th>\n",
       "      <td>If Jessica attends the conference, her colleag...</td>\n",
       "      <td>Jessica has a colleague.</td>\n",
       "      <td>E</td>\n",
       "      <td>type5_possessive</td>\n",
       "    </tr>\n",
       "    <tr>\n",
       "      <th>9601.0</th>\n",
       "      <td>It's not the case that if Jessica attends the ...</td>\n",
       "      <td>Jessica has a colleague.</td>\n",
       "      <td>E</td>\n",
       "      <td>type5_possessive</td>\n",
       "    </tr>\n",
       "    <tr>\n",
       "      <th>9602.0</th>\n",
       "      <td>Sam believes that if Jessica attends the confe...</td>\n",
       "      <td>Jessica has a colleague.</td>\n",
       "      <td>E</td>\n",
       "      <td>type5_possessive</td>\n",
       "    </tr>\n",
       "    <tr>\n",
       "      <th>9603.0</th>\n",
       "      <td>Is it true that if Jessica attends the confere...</td>\n",
       "      <td>Jessica has a colleague.</td>\n",
       "      <td>E</td>\n",
       "      <td>type5_possessive</td>\n",
       "    </tr>\n",
       "    <tr>\n",
       "      <th>9620.0</th>\n",
       "      <td>If Mia's car breaks down, her coworker will gi...</td>\n",
       "      <td>Mia has a coworker.</td>\n",
       "      <td>E</td>\n",
       "      <td>type5_possessive</td>\n",
       "    </tr>\n",
       "    <tr>\n",
       "      <th>...</th>\n",
       "      <td>...</td>\n",
       "      <td>...</td>\n",
       "      <td>...</td>\n",
       "      <td>...</td>\n",
       "    </tr>\n",
       "    <tr>\n",
       "      <th>NaN</th>\n",
       "      <td>If Margaret graduates from college, her parent...</td>\n",
       "      <td>Margaret has siblings.</td>\n",
       "      <td>N</td>\n",
       "      <td>type5_possessive</td>\n",
       "    </tr>\n",
       "    <tr>\n",
       "      <th>NaN</th>\n",
       "      <td>It's not the case that if Margaret graduates f...</td>\n",
       "      <td>Margaret has siblings.</td>\n",
       "      <td>N</td>\n",
       "      <td>type5_possessive</td>\n",
       "    </tr>\n",
       "    <tr>\n",
       "      <th>NaN</th>\n",
       "      <td>Sam believes that if Margaret graduates from c...</td>\n",
       "      <td>Margaret has siblings.</td>\n",
       "      <td>N</td>\n",
       "      <td>type5_possessive</td>\n",
       "    </tr>\n",
       "    <tr>\n",
       "      <th>NaN</th>\n",
       "      <td>Is it true that if Margaret graduates from col...</td>\n",
       "      <td>Margaret has siblings.</td>\n",
       "      <td>N</td>\n",
       "      <td>type5_possessive</td>\n",
       "    </tr>\n",
       "    <tr>\n",
       "      <th>NaN</th>\n",
       "      <td>If Margaret graduates from college, her parent...</td>\n",
       "      <td>Margaret has graduated from college, but her p...</td>\n",
       "      <td>C</td>\n",
       "      <td>type5_possessive</td>\n",
       "    </tr>\n",
       "  </tbody>\n",
       "</table>\n",
       "<p>2348 rows × 4 columns</p>\n",
       "</div>"
      ],
      "text/plain": [
       "                                                  premise  \\\n",
       "9600.0  If Jessica attends the conference, her colleag...   \n",
       "9601.0  It's not the case that if Jessica attends the ...   \n",
       "9602.0  Sam believes that if Jessica attends the confe...   \n",
       "9603.0  Is it true that if Jessica attends the confere...   \n",
       "9620.0  If Mia's car breaks down, her coworker will gi...   \n",
       "...                                                   ...   \n",
       "NaN     If Margaret graduates from college, her parent...   \n",
       "NaN     It's not the case that if Margaret graduates f...   \n",
       "NaN     Sam believes that if Margaret graduates from c...   \n",
       "NaN     Is it true that if Margaret graduates from col...   \n",
       "NaN     If Margaret graduates from college, her parent...   \n",
       "\n",
       "                                               hypothesis gold_label  \\\n",
       "9600.0                           Jessica has a colleague.          E   \n",
       "9601.0                           Jessica has a colleague.          E   \n",
       "9602.0                           Jessica has a colleague.          E   \n",
       "9603.0                           Jessica has a colleague.          E   \n",
       "9620.0                                Mia has a coworker.          E   \n",
       "...                                                   ...        ...   \n",
       "NaN                                Margaret has siblings.          N   \n",
       "NaN                                Margaret has siblings.          N   \n",
       "NaN                                Margaret has siblings.          N   \n",
       "NaN                                Margaret has siblings.          N   \n",
       "NaN     Margaret has graduated from college, but her p...          C   \n",
       "\n",
       "                    type  \n",
       "9600.0  type5_possessive  \n",
       "9601.0  type5_possessive  \n",
       "9602.0  type5_possessive  \n",
       "9603.0  type5_possessive  \n",
       "9620.0  type5_possessive  \n",
       "...                  ...  \n",
       "NaN     type5_possessive  \n",
       "NaN     type5_possessive  \n",
       "NaN     type5_possessive  \n",
       "NaN     type5_possessive  \n",
       "NaN     type5_possessive  \n",
       "\n",
       "[2348 rows x 4 columns]"
      ]
     },
     "execution_count": 4,
     "metadata": {},
     "output_type": "execute_result"
    }
   ],
   "source": [
    "valid_df = pd.read_csv('../../data/processed/validation.csv',index_col=0)\n",
    "valid_df"
   ]
  },
  {
   "cell_type": "code",
   "execution_count": null,
   "metadata": {
    "execution": {
     "iopub.execute_input": "2025-03-09T18:49:19.688649Z",
     "iopub.status.busy": "2025-03-09T18:49:19.688403Z",
     "iopub.status.idle": "2025-03-09T18:49:19.715302Z",
     "shell.execute_reply": "2025-03-09T18:49:19.714305Z",
     "shell.execute_reply.started": "2025-03-09T18:49:19.688627Z"
    },
    "trusted": true
   },
   "outputs": [
    {
     "name": "stderr",
     "output_type": "stream",
     "text": [
      "/usr/local/lib/python3.10/dist-packages/pandas/io/formats/format.py:1458: RuntimeWarning: invalid value encountered in greater\n",
      "  has_large_values = (abs_vals > 1e6).any()\n",
      "/usr/local/lib/python3.10/dist-packages/pandas/io/formats/format.py:1459: RuntimeWarning: invalid value encountered in less\n",
      "  has_small_values = ((abs_vals < 10 ** (-self.digits)) & (abs_vals > 0)).any()\n",
      "/usr/local/lib/python3.10/dist-packages/pandas/io/formats/format.py:1459: RuntimeWarning: invalid value encountered in greater\n",
      "  has_small_values = ((abs_vals < 10 ** (-self.digits)) & (abs_vals > 0)).any()\n"
     ]
    },
    {
     "data": {
      "text/html": [
       "<div>\n",
       "<style scoped>\n",
       "    .dataframe tbody tr th:only-of-type {\n",
       "        vertical-align: middle;\n",
       "    }\n",
       "\n",
       "    .dataframe tbody tr th {\n",
       "        vertical-align: top;\n",
       "    }\n",
       "\n",
       "    .dataframe thead th {\n",
       "        text-align: right;\n",
       "    }\n",
       "</style>\n",
       "<table border=\"1\" class=\"dataframe\">\n",
       "  <thead>\n",
       "    <tr style=\"text-align: right;\">\n",
       "      <th></th>\n",
       "      <th>premise</th>\n",
       "      <th>hypothesis</th>\n",
       "      <th>gold_label</th>\n",
       "      <th>type</th>\n",
       "    </tr>\n",
       "  </thead>\n",
       "  <tbody>\n",
       "    <tr>\n",
       "      <th>9616.0</th>\n",
       "      <td>If Charlotte passes her driving test, her pare...</td>\n",
       "      <td>Charlotte has parents.</td>\n",
       "      <td>E</td>\n",
       "      <td>type5_possessive</td>\n",
       "    </tr>\n",
       "    <tr>\n",
       "      <th>9617.0</th>\n",
       "      <td>It's not the case that if Charlotte passes her...</td>\n",
       "      <td>Charlotte has parents.</td>\n",
       "      <td>E</td>\n",
       "      <td>type5_possessive</td>\n",
       "    </tr>\n",
       "    <tr>\n",
       "      <th>9618.0</th>\n",
       "      <td>Sam believes that if Charlotte passes her driv...</td>\n",
       "      <td>Charlotte has parents.</td>\n",
       "      <td>E</td>\n",
       "      <td>type5_possessive</td>\n",
       "    </tr>\n",
       "    <tr>\n",
       "      <th>9619.0</th>\n",
       "      <td>Is it true that if Charlotte passes her drivin...</td>\n",
       "      <td>Charlotte has parents.</td>\n",
       "      <td>E</td>\n",
       "      <td>type5_possessive</td>\n",
       "    </tr>\n",
       "    <tr>\n",
       "      <th>9628.0</th>\n",
       "      <td>If Lily takes the train to the city, her frien...</td>\n",
       "      <td>Lily has a friend.</td>\n",
       "      <td>E</td>\n",
       "      <td>type5_possessive</td>\n",
       "    </tr>\n",
       "    <tr>\n",
       "      <th>...</th>\n",
       "      <td>...</td>\n",
       "      <td>...</td>\n",
       "      <td>...</td>\n",
       "      <td>...</td>\n",
       "    </tr>\n",
       "    <tr>\n",
       "      <th>NaN</th>\n",
       "      <td>If Sophia decides to attend the concert, his b...</td>\n",
       "      <td>Sophia has a close friend.</td>\n",
       "      <td>N</td>\n",
       "      <td>type5_possessive</td>\n",
       "    </tr>\n",
       "    <tr>\n",
       "      <th>NaN</th>\n",
       "      <td>It's not the case that if Sophia decides to at...</td>\n",
       "      <td>Sophia has a close friend.</td>\n",
       "      <td>N</td>\n",
       "      <td>type5_possessive</td>\n",
       "    </tr>\n",
       "    <tr>\n",
       "      <th>NaN</th>\n",
       "      <td>Sam believes that if Sophia decides to attend ...</td>\n",
       "      <td>Sophia has a close friend.</td>\n",
       "      <td>N</td>\n",
       "      <td>type5_possessive</td>\n",
       "    </tr>\n",
       "    <tr>\n",
       "      <th>NaN</th>\n",
       "      <td>Is it true that if Sophia decides to attend th...</td>\n",
       "      <td>Sophia has a close friend.</td>\n",
       "      <td>N</td>\n",
       "      <td>type5_possessive</td>\n",
       "    </tr>\n",
       "    <tr>\n",
       "      <th>NaN</th>\n",
       "      <td>If Sophia decides to attend the concert, his b...</td>\n",
       "      <td>Sophia has decided to attend the concert, but ...</td>\n",
       "      <td>C</td>\n",
       "      <td>type5_possessive</td>\n",
       "    </tr>\n",
       "  </tbody>\n",
       "</table>\n",
       "<p>2367 rows × 4 columns</p>\n",
       "</div>"
      ],
      "text/plain": [
       "                                                  premise  \\\n",
       "9616.0  If Charlotte passes her driving test, her pare...   \n",
       "9617.0  It's not the case that if Charlotte passes her...   \n",
       "9618.0  Sam believes that if Charlotte passes her driv...   \n",
       "9619.0  Is it true that if Charlotte passes her drivin...   \n",
       "9628.0  If Lily takes the train to the city, her frien...   \n",
       "...                                                   ...   \n",
       "NaN     If Sophia decides to attend the concert, his b...   \n",
       "NaN     It's not the case that if Sophia decides to at...   \n",
       "NaN     Sam believes that if Sophia decides to attend ...   \n",
       "NaN     Is it true that if Sophia decides to attend th...   \n",
       "NaN     If Sophia decides to attend the concert, his b...   \n",
       "\n",
       "                                               hypothesis gold_label  \\\n",
       "9616.0                             Charlotte has parents.          E   \n",
       "9617.0                             Charlotte has parents.          E   \n",
       "9618.0                             Charlotte has parents.          E   \n",
       "9619.0                             Charlotte has parents.          E   \n",
       "9628.0                                 Lily has a friend.          E   \n",
       "...                                                   ...        ...   \n",
       "NaN                            Sophia has a close friend.          N   \n",
       "NaN                            Sophia has a close friend.          N   \n",
       "NaN                            Sophia has a close friend.          N   \n",
       "NaN                            Sophia has a close friend.          N   \n",
       "NaN     Sophia has decided to attend the concert, but ...          C   \n",
       "\n",
       "                    type  \n",
       "9616.0  type5_possessive  \n",
       "9617.0  type5_possessive  \n",
       "9618.0  type5_possessive  \n",
       "9619.0  type5_possessive  \n",
       "9628.0  type5_possessive  \n",
       "...                  ...  \n",
       "NaN     type5_possessive  \n",
       "NaN     type5_possessive  \n",
       "NaN     type5_possessive  \n",
       "NaN     type5_possessive  \n",
       "NaN     type5_possessive  \n",
       "\n",
       "[2367 rows x 4 columns]"
      ]
     },
     "execution_count": 5,
     "metadata": {},
     "output_type": "execute_result"
    }
   ],
   "source": [
    "test_df = pd.read_csv('../../data/processed/test.csv',index_col=0)\n",
    "test_df"
   ]
  },
  {
   "cell_type": "code",
   "execution_count": 6,
   "metadata": {
    "execution": {
     "iopub.execute_input": "2025-03-09T18:49:19.716500Z",
     "iopub.status.busy": "2025-03-09T18:49:19.716182Z",
     "iopub.status.idle": "2025-03-09T18:49:19.722912Z",
     "shell.execute_reply": "2025-03-09T18:49:19.721869Z",
     "shell.execute_reply.started": "2025-03-09T18:49:19.716454Z"
    },
    "trusted": true
   },
   "outputs": [
    {
     "data": {
      "text/plain": [
       "0"
      ]
     },
     "execution_count": 6,
     "metadata": {},
     "output_type": "execute_result"
    }
   ],
   "source": [
    "train_df['premise'].isna().sum()"
   ]
  },
  {
   "cell_type": "code",
   "execution_count": 7,
   "metadata": {
    "execution": {
     "iopub.execute_input": "2025-03-09T18:49:19.724039Z",
     "iopub.status.busy": "2025-03-09T18:49:19.723762Z",
     "iopub.status.idle": "2025-03-09T18:49:19.740416Z",
     "shell.execute_reply": "2025-03-09T18:49:19.739475Z",
     "shell.execute_reply.started": "2025-03-09T18:49:19.724015Z"
    },
    "trusted": true
   },
   "outputs": [
    {
     "data": {
      "text/plain": [
       "0"
      ]
     },
     "execution_count": 7,
     "metadata": {},
     "output_type": "execute_result"
    }
   ],
   "source": [
    "train_df['hypothesis'].isna().sum()"
   ]
  },
  {
   "cell_type": "code",
   "execution_count": 8,
   "metadata": {
    "execution": {
     "iopub.execute_input": "2025-03-09T18:49:19.744994Z",
     "iopub.status.busy": "2025-03-09T18:49:19.744677Z",
     "iopub.status.idle": "2025-03-09T18:49:19.758678Z",
     "shell.execute_reply": "2025-03-09T18:49:19.757561Z",
     "shell.execute_reply.started": "2025-03-09T18:49:19.744964Z"
    },
    "trusted": true
   },
   "outputs": [
    {
     "data": {
      "text/html": [
       "<div>\n",
       "<style scoped>\n",
       "    .dataframe tbody tr th:only-of-type {\n",
       "        vertical-align: middle;\n",
       "    }\n",
       "\n",
       "    .dataframe tbody tr th {\n",
       "        vertical-align: top;\n",
       "    }\n",
       "\n",
       "    .dataframe thead th {\n",
       "        text-align: right;\n",
       "    }\n",
       "</style>\n",
       "<table border=\"1\" class=\"dataframe\">\n",
       "  <thead>\n",
       "    <tr style=\"text-align: right;\">\n",
       "      <th></th>\n",
       "      <th>premise</th>\n",
       "      <th>hypothesis</th>\n",
       "      <th>label</th>\n",
       "    </tr>\n",
       "  </thead>\n",
       "  <tbody>\n",
       "  </tbody>\n",
       "</table>\n",
       "</div>"
      ],
      "text/plain": [
       "Empty DataFrame\n",
       "Columns: [premise, hypothesis, label]\n",
       "Index: []"
      ]
     },
     "execution_count": 8,
     "metadata": {},
     "output_type": "execute_result"
    }
   ],
   "source": [
    "train_df[train_df['hypothesis'].isna()]"
   ]
  },
  {
   "cell_type": "code",
   "execution_count": 9,
   "metadata": {
    "execution": {
     "iopub.execute_input": "2025-03-09T18:49:19.761176Z",
     "iopub.status.busy": "2025-03-09T18:49:19.760880Z",
     "iopub.status.idle": "2025-03-09T18:49:19.775459Z",
     "shell.execute_reply": "2025-03-09T18:49:19.774687Z",
     "shell.execute_reply.started": "2025-03-09T18:49:19.761147Z"
    },
    "trusted": true
   },
   "outputs": [],
   "source": [
    "train_df.loc[train_df['hypothesis'].isna(), 'hypothesis'] = \"Martin has incited a response before\""
   ]
  },
  {
   "cell_type": "code",
   "execution_count": 10,
   "metadata": {
    "execution": {
     "iopub.execute_input": "2025-03-09T18:49:19.776712Z",
     "iopub.status.busy": "2025-03-09T18:49:19.776357Z",
     "iopub.status.idle": "2025-03-09T18:49:19.798051Z",
     "shell.execute_reply": "2025-03-09T18:49:19.797305Z",
     "shell.execute_reply.started": "2025-03-09T18:49:19.776691Z"
    },
    "trusted": true
   },
   "outputs": [
    {
     "data": {
      "text/html": [
       "<div>\n",
       "<style scoped>\n",
       "    .dataframe tbody tr th:only-of-type {\n",
       "        vertical-align: middle;\n",
       "    }\n",
       "\n",
       "    .dataframe tbody tr th {\n",
       "        vertical-align: top;\n",
       "    }\n",
       "\n",
       "    .dataframe thead th {\n",
       "        text-align: right;\n",
       "    }\n",
       "</style>\n",
       "<table border=\"1\" class=\"dataframe\">\n",
       "  <thead>\n",
       "    <tr style=\"text-align: right;\">\n",
       "      <th></th>\n",
       "      <th>premise</th>\n",
       "      <th>hypothesis</th>\n",
       "      <th>label</th>\n",
       "    </tr>\n",
       "  </thead>\n",
       "  <tbody>\n",
       "  </tbody>\n",
       "</table>\n",
       "</div>"
      ],
      "text/plain": [
       "Empty DataFrame\n",
       "Columns: [premise, hypothesis, label]\n",
       "Index: []"
      ]
     },
     "execution_count": 10,
     "metadata": {},
     "output_type": "execute_result"
    }
   ],
   "source": [
    "train_df[train_df['hypothesis'].isna()]"
   ]
  },
  {
   "cell_type": "code",
   "execution_count": 11,
   "metadata": {
    "execution": {
     "iopub.execute_input": "2025-03-09T18:49:19.799160Z",
     "iopub.status.busy": "2025-03-09T18:49:19.798870Z",
     "iopub.status.idle": "2025-03-09T18:49:19.820885Z",
     "shell.execute_reply": "2025-03-09T18:49:19.820143Z",
     "shell.execute_reply.started": "2025-03-09T18:49:19.799138Z"
    },
    "trusted": true
   },
   "outputs": [
    {
     "data": {
      "text/plain": [
       "label\n",
       "E    1922\n",
       "N     419\n",
       "C      45\n",
       "Name: count, dtype: int64"
      ]
     },
     "execution_count": 11,
     "metadata": {},
     "output_type": "execute_result"
    }
   ],
   "source": [
    "train_df['label'].value_counts()"
   ]
  },
  {
   "cell_type": "markdown",
   "metadata": {},
   "source": [
    "# Glove"
   ]
  },
  {
   "cell_type": "code",
   "execution_count": 12,
   "metadata": {
    "execution": {
     "iopub.execute_input": "2025-03-09T18:49:19.822107Z",
     "iopub.status.busy": "2025-03-09T18:49:19.821802Z",
     "iopub.status.idle": "2025-03-09T18:49:42.405748Z",
     "shell.execute_reply": "2025-03-09T18:49:42.404847Z",
     "shell.execute_reply.started": "2025-03-09T18:49:19.822075Z"
    },
    "trusted": true
   },
   "outputs": [
    {
     "name": "stdout",
     "output_type": "stream",
     "text": [
      "[==================================================] 100.0% 66.0/66.0MB downloaded\n"
     ]
    }
   ],
   "source": [
    "glove_vectors = api.load(\"glove-wiki-gigaword-50\")"
   ]
  },
  {
   "cell_type": "code",
   "execution_count": 13,
   "metadata": {
    "execution": {
     "iopub.execute_input": "2025-03-09T18:49:42.407088Z",
     "iopub.status.busy": "2025-03-09T18:49:42.406789Z",
     "iopub.status.idle": "2025-03-09T18:49:42.411628Z",
     "shell.execute_reply": "2025-03-09T18:49:42.410818Z",
     "shell.execute_reply.started": "2025-03-09T18:49:42.407056Z"
    },
    "trusted": true
   },
   "outputs": [],
   "source": [
    "def encode_glove_sentence(sentence,model):\n",
    "    words = sentence.split()\n",
    "    valid_words = [word for word in words if word in model]\n",
    "    if not valid_words:\n",
    "        return np.zeros(model.vector_size)\n",
    "    return np.mean([model[word] for word in valid_words], axis=0)"
   ]
  },
  {
   "cell_type": "code",
   "execution_count": 14,
   "metadata": {
    "execution": {
     "iopub.execute_input": "2025-03-09T18:49:42.412742Z",
     "iopub.status.busy": "2025-03-09T18:49:42.412537Z",
     "iopub.status.idle": "2025-03-09T18:49:42.431006Z",
     "shell.execute_reply": "2025-03-09T18:49:42.430225Z",
     "shell.execute_reply.started": "2025-03-09T18:49:42.412723Z"
    },
    "trusted": true
   },
   "outputs": [],
   "source": [
    "def encode_infersent_sentence(sentence,model):\n",
    "    return model.encode([sentence], tokenize=True)[0]"
   ]
  },
  {
   "cell_type": "code",
   "execution_count": 15,
   "metadata": {
    "execution": {
     "iopub.execute_input": "2025-03-09T18:49:42.431903Z",
     "iopub.status.busy": "2025-03-09T18:49:42.431678Z",
     "iopub.status.idle": "2025-03-09T18:49:42.446482Z",
     "shell.execute_reply": "2025-03-09T18:49:42.445756Z",
     "shell.execute_reply.started": "2025-03-09T18:49:42.431871Z"
    },
    "trusted": true
   },
   "outputs": [],
   "source": [
    "def get_sentence_embedding(row, model, glove):\n",
    "    premise = row['premise']\n",
    "    hypothesis = row['hypothesis'] \n",
    "    if glove:\n",
    "        embedded_premise = encode_glove_sentence(premise,model)\n",
    "        embedded_hypothesis = encode_glove_sentence(hypothesis,model)\n",
    "    else:\n",
    "        embedded_premise = encode_infersent_sentence(premise,model)\n",
    "        embedded_hypothesis = encode_infersent_sentence(hypothesis,model)\n",
    "    return np.concatenate((embedded_premise, embedded_hypothesis), axis=0)"
   ]
  },
  {
   "cell_type": "code",
   "execution_count": 16,
   "metadata": {
    "execution": {
     "iopub.execute_input": "2025-03-09T18:49:42.447431Z",
     "iopub.status.busy": "2025-03-09T18:49:42.447163Z",
     "iopub.status.idle": "2025-03-09T18:49:42.764306Z",
     "shell.execute_reply": "2025-03-09T18:49:42.763606Z",
     "shell.execute_reply.started": "2025-03-09T18:49:42.447410Z"
    },
    "trusted": true
   },
   "outputs": [],
   "source": [
    "train_df['glove_embedding'] = train_df.apply(lambda row: get_sentence_embedding(row, glove_vectors,True), axis=1)"
   ]
  },
  {
   "cell_type": "code",
   "execution_count": 17,
   "metadata": {
    "execution": {
     "iopub.execute_input": "2025-03-09T18:49:42.765380Z",
     "iopub.status.busy": "2025-03-09T18:49:42.765048Z",
     "iopub.status.idle": "2025-03-09T18:49:42.782902Z",
     "shell.execute_reply": "2025-03-09T18:49:42.782050Z",
     "shell.execute_reply.started": "2025-03-09T18:49:42.765348Z"
    },
    "trusted": true
   },
   "outputs": [
    {
     "data": {
      "text/html": [
       "<div>\n",
       "<style scoped>\n",
       "    .dataframe tbody tr th:only-of-type {\n",
       "        vertical-align: middle;\n",
       "    }\n",
       "\n",
       "    .dataframe tbody tr th {\n",
       "        vertical-align: top;\n",
       "    }\n",
       "\n",
       "    .dataframe thead th {\n",
       "        text-align: right;\n",
       "    }\n",
       "</style>\n",
       "<table border=\"1\" class=\"dataframe\">\n",
       "  <thead>\n",
       "    <tr style=\"text-align: right;\">\n",
       "      <th></th>\n",
       "      <th>premise</th>\n",
       "      <th>hypothesis</th>\n",
       "      <th>label</th>\n",
       "      <th>glove_embedding</th>\n",
       "    </tr>\n",
       "  </thead>\n",
       "  <tbody>\n",
       "    <tr>\n",
       "      <th>0</th>\n",
       "      <td>The cops had him in their headlights. He ran h...</td>\n",
       "      <td>He was standing earlier.</td>\n",
       "      <td>E</td>\n",
       "      <td>[0.1080766, -0.06463448, -0.008149904, -0.3922...</td>\n",
       "    </tr>\n",
       "    <tr>\n",
       "      <th>1</th>\n",
       "      <td>The cops had him in their headlights. He ran h...</td>\n",
       "      <td>He was standing earlier.</td>\n",
       "      <td>E</td>\n",
       "      <td>[0.097190194, -0.07713229, 0.017246034, -0.372...</td>\n",
       "    </tr>\n",
       "    <tr>\n",
       "      <th>2</th>\n",
       "      <td>For three nights a comet flared through the de...</td>\n",
       "      <td>A red smudge couldn't be seen on the moon before.</td>\n",
       "      <td>E</td>\n",
       "      <td>[0.34750566, 0.17037466, -0.14509213, -0.12106...</td>\n",
       "    </tr>\n",
       "    <tr>\n",
       "      <th>3</th>\n",
       "      <td>For three nights a comet flared through the de...</td>\n",
       "      <td>A red smudge couldn't be seen on the moon before.</td>\n",
       "      <td>E</td>\n",
       "      <td>[0.30822316, 0.1631484, -0.1443007, -0.1370523...</td>\n",
       "    </tr>\n",
       "    <tr>\n",
       "      <th>4</th>\n",
       "      <td>\" He just thinks it's so much bull--. He's not...</td>\n",
       "      <td>We are someone.</td>\n",
       "      <td>N</td>\n",
       "      <td>[0.33230892, -0.07523354, 0.04652412, -0.28750...</td>\n",
       "    </tr>\n",
       "    <tr>\n",
       "      <th>...</th>\n",
       "      <td>...</td>\n",
       "      <td>...</td>\n",
       "      <td>...</td>\n",
       "      <td>...</td>\n",
       "    </tr>\n",
       "    <tr>\n",
       "      <th>2381</th>\n",
       "      <td>I've worked obviously suspicious gobblers for ...</td>\n",
       "      <td>They will react in some way.</td>\n",
       "      <td>E</td>\n",
       "      <td>[0.3023783, -0.034597863, 0.058286563, -0.2748...</td>\n",
       "    </tr>\n",
       "    <tr>\n",
       "      <th>2382</th>\n",
       "      <td>And, of course, at that time my dad was dying,...</td>\n",
       "      <td>Something happened.</td>\n",
       "      <td>E</td>\n",
       "      <td>[0.29299741983413696, 0.16054096817970276, -0....</td>\n",
       "    </tr>\n",
       "    <tr>\n",
       "      <th>2383</th>\n",
       "      <td>And, of course, at that time my dad was dying,...</td>\n",
       "      <td>Something happened.</td>\n",
       "      <td>E</td>\n",
       "      <td>[0.2848474979400635, 0.13998642563819885, -0.1...</td>\n",
       "    </tr>\n",
       "    <tr>\n",
       "      <th>2384</th>\n",
       "      <td>I felt grubby just looking at her.  I don't kn...</td>\n",
       "      <td>Elissa has a favorite hobby.</td>\n",
       "      <td>N</td>\n",
       "      <td>[0.15838921, 0.14894426, -0.2213993, -0.121760...</td>\n",
       "    </tr>\n",
       "    <tr>\n",
       "      <th>2385</th>\n",
       "      <td>I felt grubby just looking at her.  I know wha...</td>\n",
       "      <td>Elissa has a favorite hobby.</td>\n",
       "      <td>E</td>\n",
       "      <td>[0.15838921, 0.14894426, -0.2213993, -0.121760...</td>\n",
       "    </tr>\n",
       "  </tbody>\n",
       "</table>\n",
       "<p>2386 rows × 4 columns</p>\n",
       "</div>"
      ],
      "text/plain": [
       "                                                premise  \\\n",
       "0     The cops had him in their headlights. He ran h...   \n",
       "1     The cops had him in their headlights. He ran h...   \n",
       "2     For three nights a comet flared through the de...   \n",
       "3     For three nights a comet flared through the de...   \n",
       "4     \" He just thinks it's so much bull--. He's not...   \n",
       "...                                                 ...   \n",
       "2381  I've worked obviously suspicious gobblers for ...   \n",
       "2382  And, of course, at that time my dad was dying,...   \n",
       "2383  And, of course, at that time my dad was dying,...   \n",
       "2384  I felt grubby just looking at her.  I don't kn...   \n",
       "2385  I felt grubby just looking at her.  I know wha...   \n",
       "\n",
       "                                             hypothesis label  \\\n",
       "0                              He was standing earlier.     E   \n",
       "1                              He was standing earlier.     E   \n",
       "2     A red smudge couldn't be seen on the moon before.     E   \n",
       "3     A red smudge couldn't be seen on the moon before.     E   \n",
       "4                                       We are someone.     N   \n",
       "...                                                 ...   ...   \n",
       "2381                       They will react in some way.     E   \n",
       "2382                                Something happened.     E   \n",
       "2383                                Something happened.     E   \n",
       "2384                       Elissa has a favorite hobby.     N   \n",
       "2385                       Elissa has a favorite hobby.     E   \n",
       "\n",
       "                                        glove_embedding  \n",
       "0     [0.1080766, -0.06463448, -0.008149904, -0.3922...  \n",
       "1     [0.097190194, -0.07713229, 0.017246034, -0.372...  \n",
       "2     [0.34750566, 0.17037466, -0.14509213, -0.12106...  \n",
       "3     [0.30822316, 0.1631484, -0.1443007, -0.1370523...  \n",
       "4     [0.33230892, -0.07523354, 0.04652412, -0.28750...  \n",
       "...                                                 ...  \n",
       "2381  [0.3023783, -0.034597863, 0.058286563, -0.2748...  \n",
       "2382  [0.29299741983413696, 0.16054096817970276, -0....  \n",
       "2383  [0.2848474979400635, 0.13998642563819885, -0.1...  \n",
       "2384  [0.15838921, 0.14894426, -0.2213993, -0.121760...  \n",
       "2385  [0.15838921, 0.14894426, -0.2213993, -0.121760...  \n",
       "\n",
       "[2386 rows x 4 columns]"
      ]
     },
     "execution_count": 17,
     "metadata": {},
     "output_type": "execute_result"
    }
   ],
   "source": [
    "train_df"
   ]
  },
  {
   "cell_type": "code",
   "execution_count": 18,
   "metadata": {
    "execution": {
     "iopub.execute_input": "2025-03-09T18:49:42.784324Z",
     "iopub.status.busy": "2025-03-09T18:49:42.783986Z",
     "iopub.status.idle": "2025-03-09T18:49:44.119012Z",
     "shell.execute_reply": "2025-03-09T18:49:44.118339Z",
     "shell.execute_reply.started": "2025-03-09T18:49:42.784290Z"
    },
    "trusted": true
   },
   "outputs": [],
   "source": [
    "train_df.to_csv('train_glove_embeddings.csv')"
   ]
  },
  {
   "cell_type": "code",
   "execution_count": 19,
   "metadata": {
    "execution": {
     "iopub.execute_input": "2025-03-09T18:49:44.120119Z",
     "iopub.status.busy": "2025-03-09T18:49:44.119834Z",
     "iopub.status.idle": "2025-03-09T18:49:44.315421Z",
     "shell.execute_reply": "2025-03-09T18:49:44.314777Z",
     "shell.execute_reply.started": "2025-03-09T18:49:44.120085Z"
    },
    "trusted": true
   },
   "outputs": [],
   "source": [
    "valid_df['glove_embedding'] = valid_df.apply(lambda row: get_sentence_embedding(row, glove_vectors,True), axis=1)"
   ]
  },
  {
   "cell_type": "code",
   "execution_count": 20,
   "metadata": {
    "execution": {
     "iopub.execute_input": "2025-03-09T18:49:44.316517Z",
     "iopub.status.busy": "2025-03-09T18:49:44.316196Z",
     "iopub.status.idle": "2025-03-09T18:49:44.335594Z",
     "shell.execute_reply": "2025-03-09T18:49:44.334893Z",
     "shell.execute_reply.started": "2025-03-09T18:49:44.316485Z"
    },
    "trusted": true
   },
   "outputs": [
    {
     "name": "stderr",
     "output_type": "stream",
     "text": [
      "/usr/local/lib/python3.10/dist-packages/pandas/io/formats/format.py:1458: RuntimeWarning: invalid value encountered in greater\n",
      "  has_large_values = (abs_vals > 1e6).any()\n",
      "/usr/local/lib/python3.10/dist-packages/pandas/io/formats/format.py:1459: RuntimeWarning: invalid value encountered in less\n",
      "  has_small_values = ((abs_vals < 10 ** (-self.digits)) & (abs_vals > 0)).any()\n",
      "/usr/local/lib/python3.10/dist-packages/pandas/io/formats/format.py:1459: RuntimeWarning: invalid value encountered in greater\n",
      "  has_small_values = ((abs_vals < 10 ** (-self.digits)) & (abs_vals > 0)).any()\n"
     ]
    },
    {
     "data": {
      "text/html": [
       "<div>\n",
       "<style scoped>\n",
       "    .dataframe tbody tr th:only-of-type {\n",
       "        vertical-align: middle;\n",
       "    }\n",
       "\n",
       "    .dataframe tbody tr th {\n",
       "        vertical-align: top;\n",
       "    }\n",
       "\n",
       "    .dataframe thead th {\n",
       "        text-align: right;\n",
       "    }\n",
       "</style>\n",
       "<table border=\"1\" class=\"dataframe\">\n",
       "  <thead>\n",
       "    <tr style=\"text-align: right;\">\n",
       "      <th></th>\n",
       "      <th>premise</th>\n",
       "      <th>hypothesis</th>\n",
       "      <th>gold_label</th>\n",
       "      <th>type</th>\n",
       "      <th>glove_embedding</th>\n",
       "    </tr>\n",
       "  </thead>\n",
       "  <tbody>\n",
       "    <tr>\n",
       "      <th>9600.0</th>\n",
       "      <td>If Jessica attends the conference, her colleag...</td>\n",
       "      <td>Jessica has a colleague.</td>\n",
       "      <td>E</td>\n",
       "      <td>type5_possessive</td>\n",
       "      <td>[0.23507889, 0.7431433, -0.3087911, -0.1263506...</td>\n",
       "    </tr>\n",
       "    <tr>\n",
       "      <th>9601.0</th>\n",
       "      <td>It's not the case that if Jessica attends the ...</td>\n",
       "      <td>Jessica has a colleague.</td>\n",
       "      <td>E</td>\n",
       "      <td>type5_possessive</td>\n",
       "      <td>[0.3690707, 0.44162574, -0.21020706, -0.037490...</td>\n",
       "    </tr>\n",
       "    <tr>\n",
       "      <th>9602.0</th>\n",
       "      <td>Sam believes that if Jessica attends the confe...</td>\n",
       "      <td>Jessica has a colleague.</td>\n",
       "      <td>E</td>\n",
       "      <td>type5_possessive</td>\n",
       "      <td>[0.31066418, 0.5372636, -0.17693633, -0.088790...</td>\n",
       "    </tr>\n",
       "    <tr>\n",
       "      <th>9603.0</th>\n",
       "      <td>Is it true that if Jessica attends the confere...</td>\n",
       "      <td>Jessica has a colleague.</td>\n",
       "      <td>E</td>\n",
       "      <td>type5_possessive</td>\n",
       "      <td>[0.34069696, 0.5280746, -0.19675462, -0.083821...</td>\n",
       "    </tr>\n",
       "    <tr>\n",
       "      <th>9620.0</th>\n",
       "      <td>If Mia's car breaks down, her coworker will gi...</td>\n",
       "      <td>Mia has a coworker.</td>\n",
       "      <td>E</td>\n",
       "      <td>type5_possessive</td>\n",
       "      <td>[0.3414782, 0.34566912, -0.010364906, -0.10675...</td>\n",
       "    </tr>\n",
       "    <tr>\n",
       "      <th>...</th>\n",
       "      <td>...</td>\n",
       "      <td>...</td>\n",
       "      <td>...</td>\n",
       "      <td>...</td>\n",
       "      <td>...</td>\n",
       "    </tr>\n",
       "    <tr>\n",
       "      <th>NaN</th>\n",
       "      <td>If Margaret graduates from college, her parent...</td>\n",
       "      <td>Margaret has siblings.</td>\n",
       "      <td>N</td>\n",
       "      <td>type5_possessive</td>\n",
       "      <td>[-0.08452601, 0.478575, -0.1825016, -0.4008751...</td>\n",
       "    </tr>\n",
       "    <tr>\n",
       "      <th>NaN</th>\n",
       "      <td>It's not the case that if Margaret graduates f...</td>\n",
       "      <td>Margaret has siblings.</td>\n",
       "      <td>N</td>\n",
       "      <td>type5_possessive</td>\n",
       "      <td>[0.14706801, 0.285348, -0.1325863, -0.22643042...</td>\n",
       "    </tr>\n",
       "    <tr>\n",
       "      <th>NaN</th>\n",
       "      <td>Sam believes that if Margaret graduates from c...</td>\n",
       "      <td>Margaret has siblings.</td>\n",
       "      <td>N</td>\n",
       "      <td>type5_possessive</td>\n",
       "      <td>[0.05899999, 0.34958637, -0.08993324, -0.30285...</td>\n",
       "    </tr>\n",
       "    <tr>\n",
       "      <th>NaN</th>\n",
       "      <td>Is it true that if Margaret graduates from col...</td>\n",
       "      <td>Margaret has siblings.</td>\n",
       "      <td>N</td>\n",
       "      <td>type5_possessive</td>\n",
       "      <td>[0.10486356, 0.3544593, -0.11455043, -0.282948...</td>\n",
       "    </tr>\n",
       "    <tr>\n",
       "      <th>NaN</th>\n",
       "      <td>If Margaret graduates from college, her parent...</td>\n",
       "      <td>Margaret has graduated from college, but her p...</td>\n",
       "      <td>C</td>\n",
       "      <td>type5_possessive</td>\n",
       "      <td>[-0.08452601, 0.478575, -0.1825016, -0.4008751...</td>\n",
       "    </tr>\n",
       "  </tbody>\n",
       "</table>\n",
       "<p>2348 rows × 5 columns</p>\n",
       "</div>"
      ],
      "text/plain": [
       "                                                  premise  \\\n",
       "9600.0  If Jessica attends the conference, her colleag...   \n",
       "9601.0  It's not the case that if Jessica attends the ...   \n",
       "9602.0  Sam believes that if Jessica attends the confe...   \n",
       "9603.0  Is it true that if Jessica attends the confere...   \n",
       "9620.0  If Mia's car breaks down, her coworker will gi...   \n",
       "...                                                   ...   \n",
       "NaN     If Margaret graduates from college, her parent...   \n",
       "NaN     It's not the case that if Margaret graduates f...   \n",
       "NaN     Sam believes that if Margaret graduates from c...   \n",
       "NaN     Is it true that if Margaret graduates from col...   \n",
       "NaN     If Margaret graduates from college, her parent...   \n",
       "\n",
       "                                               hypothesis gold_label  \\\n",
       "9600.0                           Jessica has a colleague.          E   \n",
       "9601.0                           Jessica has a colleague.          E   \n",
       "9602.0                           Jessica has a colleague.          E   \n",
       "9603.0                           Jessica has a colleague.          E   \n",
       "9620.0                                Mia has a coworker.          E   \n",
       "...                                                   ...        ...   \n",
       "NaN                                Margaret has siblings.          N   \n",
       "NaN                                Margaret has siblings.          N   \n",
       "NaN                                Margaret has siblings.          N   \n",
       "NaN                                Margaret has siblings.          N   \n",
       "NaN     Margaret has graduated from college, but her p...          C   \n",
       "\n",
       "                    type                                    glove_embedding  \n",
       "9600.0  type5_possessive  [0.23507889, 0.7431433, -0.3087911, -0.1263506...  \n",
       "9601.0  type5_possessive  [0.3690707, 0.44162574, -0.21020706, -0.037490...  \n",
       "9602.0  type5_possessive  [0.31066418, 0.5372636, -0.17693633, -0.088790...  \n",
       "9603.0  type5_possessive  [0.34069696, 0.5280746, -0.19675462, -0.083821...  \n",
       "9620.0  type5_possessive  [0.3414782, 0.34566912, -0.010364906, -0.10675...  \n",
       "...                  ...                                                ...  \n",
       "NaN     type5_possessive  [-0.08452601, 0.478575, -0.1825016, -0.4008751...  \n",
       "NaN     type5_possessive  [0.14706801, 0.285348, -0.1325863, -0.22643042...  \n",
       "NaN     type5_possessive  [0.05899999, 0.34958637, -0.08993324, -0.30285...  \n",
       "NaN     type5_possessive  [0.10486356, 0.3544593, -0.11455043, -0.282948...  \n",
       "NaN     type5_possessive  [-0.08452601, 0.478575, -0.1825016, -0.4008751...  \n",
       "\n",
       "[2348 rows x 5 columns]"
      ]
     },
     "execution_count": 20,
     "metadata": {},
     "output_type": "execute_result"
    }
   ],
   "source": [
    "valid_df"
   ]
  },
  {
   "cell_type": "code",
   "execution_count": 21,
   "metadata": {
    "execution": {
     "iopub.execute_input": "2025-03-09T18:49:44.336626Z",
     "iopub.status.busy": "2025-03-09T18:49:44.336378Z",
     "iopub.status.idle": "2025-03-09T18:49:44.546070Z",
     "shell.execute_reply": "2025-03-09T18:49:44.545318Z",
     "shell.execute_reply.started": "2025-03-09T18:49:44.336606Z"
    },
    "trusted": true
   },
   "outputs": [],
   "source": [
    "test_df['glove_embedding'] = test_df.apply(lambda row: get_sentence_embedding(row, glove_vectors,True), axis=1)"
   ]
  },
  {
   "cell_type": "code",
   "execution_count": 22,
   "metadata": {
    "execution": {
     "iopub.execute_input": "2025-03-09T18:49:44.547096Z",
     "iopub.status.busy": "2025-03-09T18:49:44.546875Z",
     "iopub.status.idle": "2025-03-09T18:49:44.567052Z",
     "shell.execute_reply": "2025-03-09T18:49:44.566191Z",
     "shell.execute_reply.started": "2025-03-09T18:49:44.547076Z"
    },
    "trusted": true
   },
   "outputs": [
    {
     "name": "stderr",
     "output_type": "stream",
     "text": [
      "/usr/local/lib/python3.10/dist-packages/pandas/io/formats/format.py:1458: RuntimeWarning: invalid value encountered in greater\n",
      "  has_large_values = (abs_vals > 1e6).any()\n",
      "/usr/local/lib/python3.10/dist-packages/pandas/io/formats/format.py:1459: RuntimeWarning: invalid value encountered in less\n",
      "  has_small_values = ((abs_vals < 10 ** (-self.digits)) & (abs_vals > 0)).any()\n",
      "/usr/local/lib/python3.10/dist-packages/pandas/io/formats/format.py:1459: RuntimeWarning: invalid value encountered in greater\n",
      "  has_small_values = ((abs_vals < 10 ** (-self.digits)) & (abs_vals > 0)).any()\n"
     ]
    },
    {
     "data": {
      "text/html": [
       "<div>\n",
       "<style scoped>\n",
       "    .dataframe tbody tr th:only-of-type {\n",
       "        vertical-align: middle;\n",
       "    }\n",
       "\n",
       "    .dataframe tbody tr th {\n",
       "        vertical-align: top;\n",
       "    }\n",
       "\n",
       "    .dataframe thead th {\n",
       "        text-align: right;\n",
       "    }\n",
       "</style>\n",
       "<table border=\"1\" class=\"dataframe\">\n",
       "  <thead>\n",
       "    <tr style=\"text-align: right;\">\n",
       "      <th></th>\n",
       "      <th>premise</th>\n",
       "      <th>hypothesis</th>\n",
       "      <th>gold_label</th>\n",
       "      <th>type</th>\n",
       "      <th>glove_embedding</th>\n",
       "    </tr>\n",
       "  </thead>\n",
       "  <tbody>\n",
       "    <tr>\n",
       "      <th>9616.0</th>\n",
       "      <td>If Charlotte passes her driving test, her pare...</td>\n",
       "      <td>Charlotte has parents.</td>\n",
       "      <td>E</td>\n",
       "      <td>type5_possessive</td>\n",
       "      <td>[0.17170888, 0.4655589, 0.017628895, -0.365464...</td>\n",
       "    </tr>\n",
       "    <tr>\n",
       "      <th>9617.0</th>\n",
       "      <td>It's not the case that if Charlotte passes her...</td>\n",
       "      <td>Charlotte has parents.</td>\n",
       "      <td>E</td>\n",
       "      <td>type5_possessive</td>\n",
       "      <td>[0.32833287, 0.2631786, -0.0003656149, -0.1912...</td>\n",
       "    </tr>\n",
       "    <tr>\n",
       "      <th>9618.0</th>\n",
       "      <td>Sam believes that if Charlotte passes her driv...</td>\n",
       "      <td>Charlotte has parents.</td>\n",
       "      <td>E</td>\n",
       "      <td>type5_possessive</td>\n",
       "      <td>[0.26313668, 0.32907525, 0.06787867, -0.268126...</td>\n",
       "    </tr>\n",
       "    <tr>\n",
       "      <th>9619.0</th>\n",
       "      <td>Is it true that if Charlotte passes her drivin...</td>\n",
       "      <td>Charlotte has parents.</td>\n",
       "      <td>E</td>\n",
       "      <td>type5_possessive</td>\n",
       "      <td>[0.29682538, 0.33590078, 0.029228458, -0.24936...</td>\n",
       "    </tr>\n",
       "    <tr>\n",
       "      <th>9628.0</th>\n",
       "      <td>If Lily takes the train to the city, her frien...</td>\n",
       "      <td>Lily has a friend.</td>\n",
       "      <td>E</td>\n",
       "      <td>type5_possessive</td>\n",
       "      <td>[0.41779414, 0.5672047, -0.12455517, -0.113467...</td>\n",
       "    </tr>\n",
       "    <tr>\n",
       "      <th>...</th>\n",
       "      <td>...</td>\n",
       "      <td>...</td>\n",
       "      <td>...</td>\n",
       "      <td>...</td>\n",
       "      <td>...</td>\n",
       "    </tr>\n",
       "    <tr>\n",
       "      <th>NaN</th>\n",
       "      <td>If Sophia decides to attend the concert, his b...</td>\n",
       "      <td>Sophia has a close friend.</td>\n",
       "      <td>N</td>\n",
       "      <td>type5_possessive</td>\n",
       "      <td>[0.19257289, 0.39037293, -0.009387304, -0.1870...</td>\n",
       "    </tr>\n",
       "    <tr>\n",
       "      <th>NaN</th>\n",
       "      <td>It's not the case that if Sophia decides to at...</td>\n",
       "      <td>Sophia has a close friend.</td>\n",
       "      <td>N</td>\n",
       "      <td>type5_possessive</td>\n",
       "      <td>[0.3318006, 0.22654662, -0.017176786, -0.08385...</td>\n",
       "    </tr>\n",
       "    <tr>\n",
       "      <th>NaN</th>\n",
       "      <td>Sam believes that if Sophia decides to attend ...</td>\n",
       "      <td>Sophia has a close friend.</td>\n",
       "      <td>N</td>\n",
       "      <td>type5_possessive</td>\n",
       "      <td>[0.27215302, 0.28173864, 0.043231603, -0.13834...</td>\n",
       "    </tr>\n",
       "    <tr>\n",
       "      <th>NaN</th>\n",
       "      <td>Is it true that if Sophia decides to attend th...</td>\n",
       "      <td>Sophia has a close friend.</td>\n",
       "      <td>N</td>\n",
       "      <td>type5_possessive</td>\n",
       "      <td>[0.30279136, 0.29145783, 0.009102633, -0.13019...</td>\n",
       "    </tr>\n",
       "    <tr>\n",
       "      <th>NaN</th>\n",
       "      <td>If Sophia decides to attend the concert, his b...</td>\n",
       "      <td>Sophia has decided to attend the concert, but ...</td>\n",
       "      <td>C</td>\n",
       "      <td>type5_possessive</td>\n",
       "      <td>[0.19257289, 0.39037293, -0.009387304, -0.1870...</td>\n",
       "    </tr>\n",
       "  </tbody>\n",
       "</table>\n",
       "<p>2367 rows × 5 columns</p>\n",
       "</div>"
      ],
      "text/plain": [
       "                                                  premise  \\\n",
       "9616.0  If Charlotte passes her driving test, her pare...   \n",
       "9617.0  It's not the case that if Charlotte passes her...   \n",
       "9618.0  Sam believes that if Charlotte passes her driv...   \n",
       "9619.0  Is it true that if Charlotte passes her drivin...   \n",
       "9628.0  If Lily takes the train to the city, her frien...   \n",
       "...                                                   ...   \n",
       "NaN     If Sophia decides to attend the concert, his b...   \n",
       "NaN     It's not the case that if Sophia decides to at...   \n",
       "NaN     Sam believes that if Sophia decides to attend ...   \n",
       "NaN     Is it true that if Sophia decides to attend th...   \n",
       "NaN     If Sophia decides to attend the concert, his b...   \n",
       "\n",
       "                                               hypothesis gold_label  \\\n",
       "9616.0                             Charlotte has parents.          E   \n",
       "9617.0                             Charlotte has parents.          E   \n",
       "9618.0                             Charlotte has parents.          E   \n",
       "9619.0                             Charlotte has parents.          E   \n",
       "9628.0                                 Lily has a friend.          E   \n",
       "...                                                   ...        ...   \n",
       "NaN                            Sophia has a close friend.          N   \n",
       "NaN                            Sophia has a close friend.          N   \n",
       "NaN                            Sophia has a close friend.          N   \n",
       "NaN                            Sophia has a close friend.          N   \n",
       "NaN     Sophia has decided to attend the concert, but ...          C   \n",
       "\n",
       "                    type                                    glove_embedding  \n",
       "9616.0  type5_possessive  [0.17170888, 0.4655589, 0.017628895, -0.365464...  \n",
       "9617.0  type5_possessive  [0.32833287, 0.2631786, -0.0003656149, -0.1912...  \n",
       "9618.0  type5_possessive  [0.26313668, 0.32907525, 0.06787867, -0.268126...  \n",
       "9619.0  type5_possessive  [0.29682538, 0.33590078, 0.029228458, -0.24936...  \n",
       "9628.0  type5_possessive  [0.41779414, 0.5672047, -0.12455517, -0.113467...  \n",
       "...                  ...                                                ...  \n",
       "NaN     type5_possessive  [0.19257289, 0.39037293, -0.009387304, -0.1870...  \n",
       "NaN     type5_possessive  [0.3318006, 0.22654662, -0.017176786, -0.08385...  \n",
       "NaN     type5_possessive  [0.27215302, 0.28173864, 0.043231603, -0.13834...  \n",
       "NaN     type5_possessive  [0.30279136, 0.29145783, 0.009102633, -0.13019...  \n",
       "NaN     type5_possessive  [0.19257289, 0.39037293, -0.009387304, -0.1870...  \n",
       "\n",
       "[2367 rows x 5 columns]"
      ]
     },
     "execution_count": 22,
     "metadata": {},
     "output_type": "execute_result"
    }
   ],
   "source": [
    "test_df"
   ]
  },
  {
   "cell_type": "code",
   "execution_count": 23,
   "metadata": {
    "execution": {
     "iopub.execute_input": "2025-03-09T18:49:44.568308Z",
     "iopub.status.busy": "2025-03-09T18:49:44.567982Z",
     "iopub.status.idle": "2025-03-09T18:49:45.909420Z",
     "shell.execute_reply": "2025-03-09T18:49:45.908322Z",
     "shell.execute_reply.started": "2025-03-09T18:49:44.568276Z"
    },
    "trusted": true
   },
   "outputs": [],
   "source": [
    "train_df.to_csv('train_glove_embeddings.csv')"
   ]
  },
  {
   "cell_type": "code",
   "execution_count": 24,
   "metadata": {
    "execution": {
     "iopub.execute_input": "2025-03-09T18:49:45.910751Z",
     "iopub.status.busy": "2025-03-09T18:49:45.910427Z",
     "iopub.status.idle": "2025-03-09T18:49:47.178737Z",
     "shell.execute_reply": "2025-03-09T18:49:47.177834Z",
     "shell.execute_reply.started": "2025-03-09T18:49:45.910713Z"
    },
    "trusted": true
   },
   "outputs": [],
   "source": [
    "valid_df.to_csv('valid_glove_embeddings.csv')"
   ]
  },
  {
   "cell_type": "code",
   "execution_count": 25,
   "metadata": {
    "execution": {
     "iopub.execute_input": "2025-03-09T18:49:47.179993Z",
     "iopub.status.busy": "2025-03-09T18:49:47.179679Z",
     "iopub.status.idle": "2025-03-09T18:49:48.498961Z",
     "shell.execute_reply": "2025-03-09T18:49:48.498292Z",
     "shell.execute_reply.started": "2025-03-09T18:49:47.179962Z"
    },
    "trusted": true
   },
   "outputs": [],
   "source": [
    "test_df.to_csv('test_glove_embeddings.csv')"
   ]
  },
  {
   "cell_type": "code",
   "execution_count": 26,
   "metadata": {
    "execution": {
     "iopub.execute_input": "2025-03-09T18:49:48.502328Z",
     "iopub.status.busy": "2025-03-09T18:49:48.502105Z",
     "iopub.status.idle": "2025-03-09T18:49:48.507418Z",
     "shell.execute_reply": "2025-03-09T18:49:48.506718Z",
     "shell.execute_reply.started": "2025-03-09T18:49:48.502308Z"
    },
    "trusted": true
   },
   "outputs": [
    {
     "data": {
      "text/html": [
       "Path (<tt>glove_embeddings.csv</tt>) doesn't exist. It may still be in the process of being generated, or you may have the incorrect path."
      ],
      "text/plain": [
       "/kaggle/working/glove_embeddings.csv"
      ]
     },
     "execution_count": 26,
     "metadata": {},
     "output_type": "execute_result"
    }
   ],
   "source": [
    "from IPython.display import FileLink\n",
    "\n",
    "FileLink('glove_embeddings.csv')"
   ]
  },
  {
   "cell_type": "markdown",
   "metadata": {},
   "source": [
    "## ClassificationNet"
   ]
  },
  {
   "cell_type": "code",
   "execution_count": 27,
   "metadata": {
    "execution": {
     "iopub.execute_input": "2025-03-09T18:51:06.064410Z",
     "iopub.status.busy": "2025-03-09T18:51:06.064055Z",
     "iopub.status.idle": "2025-03-09T18:51:09.480085Z",
     "shell.execute_reply": "2025-03-09T18:51:09.479390Z",
     "shell.execute_reply.started": "2025-03-09T18:51:06.064380Z"
    },
    "trusted": true
   },
   "outputs": [],
   "source": [
    "from torch.utils.data import Dataset, DataLoader\n",
    "import torch.nn as nn\n",
    "import torch.optim as optim\n",
    "import torch\n",
    "from sklearn.model_selection import train_test_split"
   ]
  },
  {
   "cell_type": "code",
   "execution_count": 28,
   "metadata": {
    "execution": {
     "iopub.execute_input": "2025-03-09T18:51:13.773084Z",
     "iopub.status.busy": "2025-03-09T18:51:13.772791Z",
     "iopub.status.idle": "2025-03-09T18:51:13.777479Z",
     "shell.execute_reply": "2025-03-09T18:51:13.776632Z",
     "shell.execute_reply.started": "2025-03-09T18:51:13.773061Z"
    },
    "trusted": true
   },
   "outputs": [],
   "source": [
    "X_val = np.array(valid_df['glove_embedding'])\n",
    "X_train = np.array(train_df['glove_embedding'])"
   ]
  },
  {
   "cell_type": "code",
   "execution_count": 29,
   "metadata": {
    "execution": {
     "iopub.execute_input": "2025-03-09T18:51:30.079952Z",
     "iopub.status.busy": "2025-03-09T18:51:30.079633Z",
     "iopub.status.idle": "2025-03-09T18:51:30.086638Z",
     "shell.execute_reply": "2025-03-09T18:51:30.085768Z",
     "shell.execute_reply.started": "2025-03-09T18:51:30.079924Z"
    },
    "trusted": true
   },
   "outputs": [],
   "source": [
    "y_val = np.array(valid_df['gold_label'].map({'E': 0,'N': 1,'C':2})) \n",
    "y_train = np.array(train_df['label'].map({'E': 0,'N': 1,'C':2})) "
   ]
  },
  {
   "cell_type": "code",
   "execution_count": null,
   "metadata": {
    "trusted": true
   },
   "outputs": [],
   "source": [
    "X_train"
   ]
  },
  {
   "cell_type": "code",
   "execution_count": 31,
   "metadata": {
    "execution": {
     "iopub.execute_input": "2025-03-09T18:52:01.893774Z",
     "iopub.status.busy": "2025-03-09T18:52:01.893443Z",
     "iopub.status.idle": "2025-03-09T18:52:01.898887Z",
     "shell.execute_reply": "2025-03-09T18:52:01.898067Z",
     "shell.execute_reply.started": "2025-03-09T18:52:01.893746Z"
    },
    "trusted": true
   },
   "outputs": [
    {
     "data": {
      "text/plain": [
       "array([0, 0, 0, ..., 0, 1, 0])"
      ]
     },
     "execution_count": 31,
     "metadata": {},
     "output_type": "execute_result"
    }
   ],
   "source": [
    "y_train"
   ]
  },
  {
   "cell_type": "code",
   "execution_count": 32,
   "metadata": {
    "execution": {
     "iopub.execute_input": "2025-03-09T18:52:10.814722Z",
     "iopub.status.busy": "2025-03-09T18:52:10.814410Z",
     "iopub.status.idle": "2025-03-09T18:52:10.820032Z",
     "shell.execute_reply": "2025-03-09T18:52:10.819326Z",
     "shell.execute_reply.started": "2025-03-09T18:52:10.814697Z"
    },
    "trusted": true
   },
   "outputs": [
    {
     "data": {
      "text/plain": [
       "array([0, 0, 0, ..., 1, 1, 2])"
      ]
     },
     "execution_count": 32,
     "metadata": {},
     "output_type": "execute_result"
    }
   ],
   "source": [
    "y_val"
   ]
  },
  {
   "cell_type": "code",
   "execution_count": 33,
   "metadata": {
    "execution": {
     "iopub.execute_input": "2025-03-09T18:52:19.102190Z",
     "iopub.status.busy": "2025-03-09T18:52:19.101911Z",
     "iopub.status.idle": "2025-03-09T18:52:19.107149Z",
     "shell.execute_reply": "2025-03-09T18:52:19.106180Z",
     "shell.execute_reply.started": "2025-03-09T18:52:19.102168Z"
    },
    "trusted": true
   },
   "outputs": [],
   "source": [
    "# DataLoader\n",
    "\n",
    "class EmbeddingsDataset(Dataset):\n",
    "    def __init__(self, embeddings, labels):\n",
    "        self.embeddings = embeddings\n",
    "        self.labels = labels\n",
    "\n",
    "    def __len__(self):\n",
    "        return len(self.embeddings)\n",
    "\n",
    "    def __getitem__(self, idx):\n",
    "        embedding = self.embeddings[idx]\n",
    "        label = self.labels[idx]\n",
    "        return torch.tensor(embedding, dtype=torch.float32), torch.tensor(label, dtype=torch.long)"
   ]
  },
  {
   "cell_type": "code",
   "execution_count": 34,
   "metadata": {
    "execution": {
     "iopub.execute_input": "2025-03-09T18:52:23.970757Z",
     "iopub.status.busy": "2025-03-09T18:52:23.970434Z",
     "iopub.status.idle": "2025-03-09T18:52:23.976282Z",
     "shell.execute_reply": "2025-03-09T18:52:23.975448Z",
     "shell.execute_reply.started": "2025-03-09T18:52:23.970723Z"
    },
    "trusted": true
   },
   "outputs": [
    {
     "name": "stdout",
     "output_type": "stream",
     "text": [
      "299\n",
      "294\n"
     ]
    }
   ],
   "source": [
    "# Create the dataset\n",
    "train_dataset = EmbeddingsDataset(X_train, y_train)\n",
    "val_dataset = EmbeddingsDataset(X_val, y_val)\n",
    "\n",
    "# Create the DataLoader\n",
    "train_loader = DataLoader(train_dataset, batch_size=8, shuffle=True)\n",
    "val_loader = DataLoader(val_dataset, batch_size=8, shuffle=True)\n",
    "print(len(train_loader))\n",
    "print(len(val_loader))"
   ]
  },
  {
   "cell_type": "code",
   "execution_count": null,
   "metadata": {
    "execution": {
     "iopub.execute_input": "2025-03-09T18:52:32.120583Z",
     "iopub.status.busy": "2025-03-09T18:52:32.120257Z",
     "iopub.status.idle": "2025-03-09T18:52:32.218650Z",
     "shell.execute_reply": "2025-03-09T18:52:32.217902Z",
     "shell.execute_reply.started": "2025-03-09T18:52:32.120552Z"
    },
    "trusted": true
   },
   "outputs": [
    {
     "name": "stdout",
     "output_type": "stream",
     "text": [
      "Data: tensor([ 0.4953,  0.1970, -0.0055,  0.0400,  0.2693,  0.2301, -0.0775, -0.2967,\n",
      "        -0.0157, -0.0995,  0.2346,  0.0074, -0.2884, -0.0510,  0.0953,  0.1822,\n",
      "         0.1049, -0.0428, -0.2295, -0.4647,  0.1409, -0.1290,  0.0745, -0.0602,\n",
      "         0.0180, -1.3191, -0.4084, -0.1790, -0.0818,  0.1371,  3.3670,  0.0494,\n",
      "        -0.2391, -0.7461,  0.1307, -0.1063, -0.0746,  0.1295, -0.0723,  0.0152,\n",
      "        -0.2109, -0.0322,  0.0421,  0.1957, -0.2885, -0.0096,  0.0885,  0.1558,\n",
      "        -0.0497, -0.0641,  0.4179,  0.1216,  0.1367, -0.0292,  0.2627,  0.1271,\n",
      "         0.1203, -0.2702, -0.0435, -0.0707,  0.3449,  0.0681, -0.2024, -0.0541,\n",
      "        -0.0355,  0.2754,  0.1601, -0.1407, -0.1781, -0.6062,  0.0968, -0.2562,\n",
      "         0.1684, -0.0378, -0.0165, -1.2768, -0.3132, -0.2383, -0.0318,  0.1611,\n",
      "         3.5458,  0.2122, -0.1247, -0.8285,  0.1284, -0.0893, -0.1213,  0.0696,\n",
      "        -0.1015,  0.1131, -0.2394,  0.0296,  0.1282,  0.3384, -0.4048, -0.0305,\n",
      "         0.0921,  0.1175, -0.0407, -0.1574])\n",
      "Label: tensor(1)\n"
     ]
    }
   ],
   "source": [
    "for batch in train_loader:\n",
    "    # Extract the data and labels\n",
    "    data, labels = batch\n",
    "    # Print the first example in the batch\n",
    "    print(\"Data:\", data[0])\n",
    "    print(\"Label:\", labels[0])\n",
    "    break"
   ]
  },
  {
   "cell_type": "code",
   "execution_count": 36,
   "metadata": {
    "execution": {
     "iopub.execute_input": "2025-03-09T18:52:39.710535Z",
     "iopub.status.busy": "2025-03-09T18:52:39.710176Z",
     "iopub.status.idle": "2025-03-09T18:52:39.714131Z",
     "shell.execute_reply": "2025-03-09T18:52:39.713292Z",
     "shell.execute_reply.started": "2025-03-09T18:52:39.710496Z"
    },
    "trusted": true
   },
   "outputs": [],
   "source": [
    "# for glove\n",
    "config = {\n",
    "    'n_classes': 3,\n",
    "    'fc_dim': 512, # fully connected dimensions\n",
    "    'word_emb_dim': 100, # size of embeddings\n",
    "    'dpout_fc': 0.5,\n",
    "}"
   ]
  },
  {
   "cell_type": "code",
   "execution_count": 38,
   "metadata": {
    "execution": {
     "iopub.execute_input": "2025-03-09T18:52:58.492437Z",
     "iopub.status.busy": "2025-03-09T18:52:58.492026Z",
     "iopub.status.idle": "2025-03-09T18:52:58.499387Z",
     "shell.execute_reply": "2025-03-09T18:52:58.498516Z",
     "shell.execute_reply.started": "2025-03-09T18:52:58.492399Z"
    },
    "trusted": true
   },
   "outputs": [],
   "source": [
    "# modified \n",
    "class ClassificationNet(nn.Module):\n",
    "    def __init__(self, config):\n",
    "        super(ClassificationNet, self).__init__()\n",
    "        \n",
    "        self.n_classes = config['n_classes']\n",
    "        self.fc_dim = config['fc_dim']\n",
    "        self.embedding_dim = config['word_emb_dim']\n",
    "        \n",
    "        self.classifier = nn.Sequential(\n",
    "            nn.Linear(self.embedding_dim, self.fc_dim),\n",
    "            nn.ReLU(),\n",
    "            nn.Dropout(p=config['dpout_fc']),\n",
    "            nn.Linear(self.fc_dim, self.n_classes),\n",
    "        )\n",
    "\n",
    "    def forward(self, embeddings):\n",
    "        output = self.classifier(embeddings)\n",
    "        return output"
   ]
  },
  {
   "cell_type": "code",
   "execution_count": 39,
   "metadata": {
    "execution": {
     "iopub.execute_input": "2025-03-09T18:53:07.945113Z",
     "iopub.status.busy": "2025-03-09T18:53:07.944825Z",
     "iopub.status.idle": "2025-03-09T18:53:08.177545Z",
     "shell.execute_reply": "2025-03-09T18:53:08.176813Z",
     "shell.execute_reply.started": "2025-03-09T18:53:07.945091Z"
    },
    "trusted": true
   },
   "outputs": [],
   "source": [
    "model = ClassificationNet(config)\n",
    "if torch.cuda.is_available():\n",
    "    model.cuda() "
   ]
  },
  {
   "cell_type": "code",
   "execution_count": 40,
   "metadata": {
    "execution": {
     "iopub.execute_input": "2025-03-09T18:53:14.489430Z",
     "iopub.status.busy": "2025-03-09T18:53:14.489120Z",
     "iopub.status.idle": "2025-03-09T18:53:16.481621Z",
     "shell.execute_reply": "2025-03-09T18:53:16.480704Z",
     "shell.execute_reply.started": "2025-03-09T18:53:14.489404Z"
    },
    "trusted": true
   },
   "outputs": [],
   "source": [
    "criterion = nn.CrossEntropyLoss()\n",
    "optimizer = optim.Adam(model.parameters(), lr=0.001)\n",
    "num_epochs = 50"
   ]
  },
  {
   "cell_type": "code",
   "execution_count": 42,
   "metadata": {
    "execution": {
     "iopub.execute_input": "2025-03-09T18:53:22.569603Z",
     "iopub.status.busy": "2025-03-09T18:53:22.569284Z",
     "iopub.status.idle": "2025-03-09T18:53:22.576858Z",
     "shell.execute_reply": "2025-03-09T18:53:22.575973Z",
     "shell.execute_reply.started": "2025-03-09T18:53:22.569577Z"
    },
    "trusted": true
   },
   "outputs": [],
   "source": [
    "def train_model(model): \n",
    "    if torch.cuda.is_available():\n",
    "        model.cuda()\n",
    "    \n",
    "    for epoch in range(num_epochs):\n",
    "        model.train()  # Set the model to training mode\n",
    "    \n",
    "        running_loss = 0.0\n",
    "        correct_predictions = 0\n",
    "        total_samples = 0\n",
    "    \n",
    "        for s1_batch, labels in train_loader:  # train_loader is a DataLoader for training data\n",
    "            if torch.cuda.is_available():\n",
    "                s1_batch = s1_batch.cuda()\n",
    "                labels = labels.cuda()\n",
    "    \n",
    "            # Zero the parameter gradients\n",
    "            optimizer.zero_grad()\n",
    "\n",
    "            # Forward pass\n",
    "            outputs = model(s1_batch)\n",
    "            loss = criterion(outputs, labels)\n",
    "    \n",
    "            # Backward pass and optimize\n",
    "            loss.backward()\n",
    "            optimizer.step()\n",
    "    \n",
    "            # Accumulate loss\n",
    "            running_loss += loss.item()\n",
    "    \n",
    "            # Compute accuracy\n",
    "            _, predicted = torch.max(outputs.data, 1)\n",
    "            total_samples += labels.size(0)\n",
    "            correct_predictions += (predicted == labels).sum().item()\n",
    "    \n",
    "        accuracy = 100 * correct_predictions / total_samples\n",
    "        print(f'Epoch [{epoch + 1}/{num_epochs}], Loss: {running_loss / len(train_loader):.4f}, Accuracy: {accuracy:.2f}%')\n",
    "    \n",
    "        # Validation phase\n",
    "        model.eval()  # Set the model to evaluation mode\n",
    "        val_running_loss = 0.0\n",
    "        val_correct_predictions = 0\n",
    "        val_total_samples = 0\n",
    "        \n",
    "        with torch.no_grad():  # No need to calculate gradients during validation\n",
    "            for s1_batch, labels in val_loader:  # val_loader is a DataLoader for validation data\n",
    "                if torch.cuda.is_available():\n",
    "                    s1_batch = s1_batch.cuda()\n",
    "                    labels = labels.cuda()\n",
    "    \n",
    "                # Forward pass\n",
    "                outputs = model(s1_batch)\n",
    "                loss = criterion(outputs, labels)\n",
    "    \n",
    "                # Accumulate loss\n",
    "                val_running_loss += loss.item()\n",
    "    \n",
    "                # Compute accuracy\n",
    "                _, predicted = torch.max(outputs.data, 1)\n",
    "                val_total_samples += labels.size(0)\n",
    "                val_correct_predictions += (predicted == labels).sum().item()\n",
    "    \n",
    "        val_accuracy = 100 * val_correct_predictions / val_total_samples\n",
    "        print(f'Epoch [{epoch + 1}/{num_epochs}], Validation Loss: {val_running_loss / len(val_loader):.4f}, Validation Accuracy: {val_accuracy:.2f}%')\n"
   ]
  },
  {
   "cell_type": "code",
   "execution_count": 57,
   "metadata": {
    "execution": {
     "iopub.execute_input": "2025-03-09T18:59:55.581693Z",
     "iopub.status.busy": "2025-03-09T18:59:55.581378Z",
     "iopub.status.idle": "2025-03-09T19:00:27.199730Z",
     "shell.execute_reply": "2025-03-09T19:00:27.198816Z",
     "shell.execute_reply.started": "2025-03-09T18:59:55.581669Z"
    },
    "trusted": true
   },
   "outputs": [
    {
     "name": "stdout",
     "output_type": "stream",
     "text": [
      "Epoch [1/50], Loss: 0.3341, Accuracy: 85.25%\n",
      "Epoch [1/50], Validation Loss: 4.0236, Validation Accuracy: 33.13%\n",
      "Epoch [2/50], Loss: 0.3256, Accuracy: 85.46%\n",
      "Epoch [2/50], Validation Loss: 4.3566, Validation Accuracy: 32.79%\n",
      "Epoch [3/50], Loss: 0.3243, Accuracy: 85.79%\n",
      "Epoch [3/50], Validation Loss: 4.4754, Validation Accuracy: 32.67%\n",
      "Epoch [4/50], Loss: 0.3137, Accuracy: 86.00%\n",
      "Epoch [4/50], Validation Loss: 4.3040, Validation Accuracy: 32.92%\n",
      "Epoch [5/50], Loss: 0.3260, Accuracy: 85.75%\n",
      "Epoch [5/50], Validation Loss: 4.1173, Validation Accuracy: 32.84%\n",
      "Epoch [6/50], Loss: 0.2947, Accuracy: 86.55%\n",
      "Epoch [6/50], Validation Loss: 4.4357, Validation Accuracy: 32.84%\n",
      "Epoch [7/50], Loss: 0.3034, Accuracy: 87.30%\n",
      "Epoch [7/50], Validation Loss: 5.0134, Validation Accuracy: 32.84%\n",
      "Epoch [8/50], Loss: 0.2989, Accuracy: 86.55%\n",
      "Epoch [8/50], Validation Loss: 4.9778, Validation Accuracy: 32.62%\n",
      "Epoch [9/50], Loss: 0.3139, Accuracy: 85.25%\n",
      "Epoch [9/50], Validation Loss: 5.0686, Validation Accuracy: 32.71%\n",
      "Epoch [10/50], Loss: 0.2999, Accuracy: 86.30%\n",
      "Epoch [10/50], Validation Loss: 4.8911, Validation Accuracy: 32.62%\n",
      "Epoch [11/50], Loss: 0.2970, Accuracy: 86.34%\n",
      "Epoch [11/50], Validation Loss: 4.2802, Validation Accuracy: 32.67%\n",
      "Epoch [12/50], Loss: 0.3064, Accuracy: 86.76%\n",
      "Epoch [12/50], Validation Loss: 4.7765, Validation Accuracy: 32.50%\n",
      "Epoch [13/50], Loss: 0.3017, Accuracy: 86.04%\n",
      "Epoch [13/50], Validation Loss: 4.3413, Validation Accuracy: 32.54%\n",
      "Epoch [14/50], Loss: 0.2935, Accuracy: 87.05%\n",
      "Epoch [14/50], Validation Loss: 4.6298, Validation Accuracy: 32.96%\n",
      "Epoch [15/50], Loss: 0.3012, Accuracy: 86.63%\n",
      "Epoch [15/50], Validation Loss: 4.4086, Validation Accuracy: 32.71%\n",
      "Epoch [16/50], Loss: 0.2881, Accuracy: 87.30%\n",
      "Epoch [16/50], Validation Loss: 4.6538, Validation Accuracy: 32.45%\n",
      "Epoch [17/50], Loss: 0.2984, Accuracy: 86.84%\n",
      "Epoch [17/50], Validation Loss: 4.6605, Validation Accuracy: 32.71%\n",
      "Epoch [18/50], Loss: 0.2987, Accuracy: 86.55%\n",
      "Epoch [18/50], Validation Loss: 4.9147, Validation Accuracy: 32.54%\n",
      "Epoch [19/50], Loss: 0.2840, Accuracy: 86.63%\n",
      "Epoch [19/50], Validation Loss: 5.4000, Validation Accuracy: 32.88%\n",
      "Epoch [20/50], Loss: 0.2958, Accuracy: 87.18%\n",
      "Epoch [20/50], Validation Loss: 5.1876, Validation Accuracy: 32.54%\n",
      "Epoch [21/50], Loss: 0.2833, Accuracy: 86.42%\n",
      "Epoch [21/50], Validation Loss: 5.0719, Validation Accuracy: 32.58%\n",
      "Epoch [22/50], Loss: 0.2835, Accuracy: 87.05%\n",
      "Epoch [22/50], Validation Loss: 5.5150, Validation Accuracy: 32.71%\n",
      "Epoch [23/50], Loss: 0.2914, Accuracy: 86.88%\n",
      "Epoch [23/50], Validation Loss: 5.2089, Validation Accuracy: 32.75%\n",
      "Epoch [24/50], Loss: 0.2861, Accuracy: 86.92%\n",
      "Epoch [24/50], Validation Loss: 4.7741, Validation Accuracy: 32.54%\n",
      "Epoch [25/50], Loss: 0.2848, Accuracy: 87.18%\n",
      "Epoch [25/50], Validation Loss: 5.1132, Validation Accuracy: 32.50%\n",
      "Epoch [26/50], Loss: 0.2909, Accuracy: 86.59%\n",
      "Epoch [26/50], Validation Loss: 5.8577, Validation Accuracy: 32.62%\n",
      "Epoch [27/50], Loss: 0.2918, Accuracy: 86.63%\n",
      "Epoch [27/50], Validation Loss: 5.2867, Validation Accuracy: 32.96%\n",
      "Epoch [28/50], Loss: 0.2910, Accuracy: 86.84%\n",
      "Epoch [28/50], Validation Loss: 5.1278, Validation Accuracy: 32.62%\n",
      "Epoch [29/50], Loss: 0.2802, Accuracy: 87.72%\n",
      "Epoch [29/50], Validation Loss: 5.6682, Validation Accuracy: 32.62%\n",
      "Epoch [30/50], Loss: 0.2932, Accuracy: 86.59%\n",
      "Epoch [30/50], Validation Loss: 6.2659, Validation Accuracy: 32.67%\n",
      "Epoch [31/50], Loss: 0.2825, Accuracy: 86.84%\n",
      "Epoch [31/50], Validation Loss: 5.0870, Validation Accuracy: 32.58%\n",
      "Epoch [32/50], Loss: 0.2747, Accuracy: 87.26%\n",
      "Epoch [32/50], Validation Loss: 5.2607, Validation Accuracy: 32.75%\n",
      "Epoch [33/50], Loss: 0.2732, Accuracy: 87.30%\n",
      "Epoch [33/50], Validation Loss: 5.6964, Validation Accuracy: 32.71%\n",
      "Epoch [34/50], Loss: 0.2846, Accuracy: 87.01%\n",
      "Epoch [34/50], Validation Loss: 5.7052, Validation Accuracy: 32.62%\n",
      "Epoch [35/50], Loss: 0.2803, Accuracy: 87.47%\n",
      "Epoch [35/50], Validation Loss: 5.9247, Validation Accuracy: 32.88%\n",
      "Epoch [36/50], Loss: 0.2939, Accuracy: 86.13%\n",
      "Epoch [36/50], Validation Loss: 5.3358, Validation Accuracy: 33.01%\n",
      "Epoch [37/50], Loss: 0.2753, Accuracy: 87.30%\n",
      "Epoch [37/50], Validation Loss: 5.6308, Validation Accuracy: 32.58%\n",
      "Epoch [38/50], Loss: 0.2853, Accuracy: 86.63%\n",
      "Epoch [38/50], Validation Loss: 5.8305, Validation Accuracy: 32.62%\n",
      "Epoch [39/50], Loss: 0.2854, Accuracy: 87.05%\n",
      "Epoch [39/50], Validation Loss: 6.7017, Validation Accuracy: 32.75%\n",
      "Epoch [40/50], Loss: 0.2644, Accuracy: 87.47%\n",
      "Epoch [40/50], Validation Loss: 7.1268, Validation Accuracy: 32.62%\n",
      "Epoch [41/50], Loss: 0.2579, Accuracy: 87.64%\n",
      "Epoch [41/50], Validation Loss: 6.1794, Validation Accuracy: 32.71%\n",
      "Epoch [42/50], Loss: 0.2714, Accuracy: 86.92%\n",
      "Epoch [42/50], Validation Loss: 6.0972, Validation Accuracy: 32.71%\n",
      "Epoch [43/50], Loss: 0.2728, Accuracy: 88.26%\n",
      "Epoch [43/50], Validation Loss: 5.9959, Validation Accuracy: 32.54%\n",
      "Epoch [44/50], Loss: 0.2880, Accuracy: 86.97%\n",
      "Epoch [44/50], Validation Loss: 6.4371, Validation Accuracy: 32.88%\n",
      "Epoch [45/50], Loss: 0.2673, Accuracy: 88.22%\n",
      "Epoch [45/50], Validation Loss: 6.3695, Validation Accuracy: 32.50%\n",
      "Epoch [46/50], Loss: 0.2756, Accuracy: 87.80%\n",
      "Epoch [46/50], Validation Loss: 6.0509, Validation Accuracy: 32.54%\n",
      "Epoch [47/50], Loss: 0.2679, Accuracy: 87.85%\n",
      "Epoch [47/50], Validation Loss: 6.0605, Validation Accuracy: 32.37%\n",
      "Epoch [48/50], Loss: 0.2621, Accuracy: 87.80%\n",
      "Epoch [48/50], Validation Loss: 6.7678, Validation Accuracy: 32.79%\n",
      "Epoch [49/50], Loss: 0.2741, Accuracy: 87.72%\n",
      "Epoch [49/50], Validation Loss: 5.8693, Validation Accuracy: 32.58%\n",
      "Epoch [50/50], Loss: 0.2769, Accuracy: 87.18%\n",
      "Epoch [50/50], Validation Loss: 6.5550, Validation Accuracy: 32.67%\n"
     ]
    }
   ],
   "source": [
    "train_model(model)"
   ]
  },
  {
   "cell_type": "code",
   "execution_count": 33,
   "metadata": {
    "execution": {
     "iopub.execute_input": "2025-02-08T02:54:52.038821Z",
     "iopub.status.busy": "2025-02-08T02:54:52.038531Z",
     "iopub.status.idle": "2025-02-08T02:55:25.078186Z",
     "shell.execute_reply": "2025-02-08T02:55:25.077275Z",
     "shell.execute_reply.started": "2025-02-08T02:54:52.038798Z"
    },
    "trusted": true
   },
   "outputs": [
    {
     "name": "stdout",
     "output_type": "stream",
     "text": [
      "Epoch [1/50], Loss: 0.5547, Accuracy: 79.80%\n",
      "Epoch [1/50], Validation Loss: 1.9915, Validation Accuracy: 32.37%\n",
      "Epoch [2/50], Loss: 0.5194, Accuracy: 80.39%\n",
      "Epoch [2/50], Validation Loss: 2.0499, Validation Accuracy: 32.37%\n",
      "Epoch [3/50], Loss: 0.5204, Accuracy: 80.34%\n",
      "Epoch [3/50], Validation Loss: 2.0192, Validation Accuracy: 32.37%\n",
      "Epoch [4/50], Loss: 0.5091, Accuracy: 80.55%\n",
      "Epoch [4/50], Validation Loss: 2.2068, Validation Accuracy: 32.37%\n",
      "Epoch [5/50], Loss: 0.5073, Accuracy: 79.97%\n",
      "Epoch [5/50], Validation Loss: 2.1940, Validation Accuracy: 32.41%\n",
      "Epoch [6/50], Loss: 0.4929, Accuracy: 80.93%\n",
      "Epoch [6/50], Validation Loss: 2.3740, Validation Accuracy: 32.37%\n",
      "Epoch [7/50], Loss: 0.4880, Accuracy: 80.30%\n",
      "Epoch [7/50], Validation Loss: 2.2602, Validation Accuracy: 32.37%\n",
      "Epoch [8/50], Loss: 0.4866, Accuracy: 80.89%\n",
      "Epoch [8/50], Validation Loss: 2.4781, Validation Accuracy: 32.37%\n",
      "Epoch [9/50], Loss: 0.4795, Accuracy: 80.89%\n",
      "Epoch [9/50], Validation Loss: 2.1828, Validation Accuracy: 32.45%\n",
      "Epoch [10/50], Loss: 0.4763, Accuracy: 81.31%\n",
      "Epoch [10/50], Validation Loss: 2.5632, Validation Accuracy: 32.41%\n",
      "Epoch [11/50], Loss: 0.4659, Accuracy: 81.39%\n",
      "Epoch [11/50], Validation Loss: 2.5724, Validation Accuracy: 32.45%\n",
      "Epoch [12/50], Loss: 0.4603, Accuracy: 81.01%\n",
      "Epoch [12/50], Validation Loss: 2.4668, Validation Accuracy: 32.41%\n",
      "Epoch [13/50], Loss: 0.4551, Accuracy: 81.85%\n",
      "Epoch [13/50], Validation Loss: 2.5722, Validation Accuracy: 32.45%\n",
      "Epoch [14/50], Loss: 0.4480, Accuracy: 81.85%\n",
      "Epoch [14/50], Validation Loss: 2.6798, Validation Accuracy: 32.41%\n",
      "Epoch [15/50], Loss: 0.4368, Accuracy: 81.89%\n",
      "Epoch [15/50], Validation Loss: 2.4901, Validation Accuracy: 32.28%\n",
      "Epoch [16/50], Loss: 0.4339, Accuracy: 82.69%\n",
      "Epoch [16/50], Validation Loss: 2.3780, Validation Accuracy: 32.28%\n",
      "Epoch [17/50], Loss: 0.4308, Accuracy: 82.23%\n",
      "Epoch [17/50], Validation Loss: 2.6940, Validation Accuracy: 32.33%\n",
      "Epoch [18/50], Loss: 0.4224, Accuracy: 82.44%\n",
      "Epoch [18/50], Validation Loss: 3.2178, Validation Accuracy: 32.28%\n",
      "Epoch [19/50], Loss: 0.4312, Accuracy: 82.61%\n",
      "Epoch [19/50], Validation Loss: 2.6153, Validation Accuracy: 32.41%\n",
      "Epoch [20/50], Loss: 0.4184, Accuracy: 82.19%\n",
      "Epoch [20/50], Validation Loss: 2.7233, Validation Accuracy: 32.45%\n",
      "Epoch [21/50], Loss: 0.4096, Accuracy: 83.15%\n",
      "Epoch [21/50], Validation Loss: 2.7645, Validation Accuracy: 32.24%\n",
      "Epoch [22/50], Loss: 0.4075, Accuracy: 83.40%\n",
      "Epoch [22/50], Validation Loss: 3.3467, Validation Accuracy: 32.41%\n",
      "Epoch [23/50], Loss: 0.3922, Accuracy: 83.65%\n",
      "Epoch [23/50], Validation Loss: 2.6779, Validation Accuracy: 32.62%\n",
      "Epoch [24/50], Loss: 0.4020, Accuracy: 83.24%\n",
      "Epoch [24/50], Validation Loss: 2.9791, Validation Accuracy: 32.54%\n",
      "Epoch [25/50], Loss: 0.3987, Accuracy: 83.91%\n",
      "Epoch [25/50], Validation Loss: 3.1176, Validation Accuracy: 32.41%\n",
      "Epoch [26/50], Loss: 0.3970, Accuracy: 83.24%\n",
      "Epoch [26/50], Validation Loss: 3.3227, Validation Accuracy: 32.28%\n",
      "Epoch [27/50], Loss: 0.3838, Accuracy: 83.61%\n",
      "Epoch [27/50], Validation Loss: 3.1300, Validation Accuracy: 32.58%\n",
      "Epoch [28/50], Loss: 0.3753, Accuracy: 84.49%\n",
      "Epoch [28/50], Validation Loss: 3.1629, Validation Accuracy: 32.45%\n",
      "Epoch [29/50], Loss: 0.3789, Accuracy: 84.41%\n",
      "Epoch [29/50], Validation Loss: 3.0068, Validation Accuracy: 32.50%\n",
      "Epoch [30/50], Loss: 0.3776, Accuracy: 84.03%\n",
      "Epoch [30/50], Validation Loss: 3.0538, Validation Accuracy: 32.50%\n",
      "Epoch [31/50], Loss: 0.3732, Accuracy: 83.95%\n",
      "Epoch [31/50], Validation Loss: 3.2814, Validation Accuracy: 32.37%\n",
      "Epoch [32/50], Loss: 0.3782, Accuracy: 83.57%\n",
      "Epoch [32/50], Validation Loss: 3.1394, Validation Accuracy: 32.54%\n",
      "Epoch [33/50], Loss: 0.3632, Accuracy: 84.45%\n",
      "Epoch [33/50], Validation Loss: 3.8300, Validation Accuracy: 32.33%\n",
      "Epoch [34/50], Loss: 0.3589, Accuracy: 84.49%\n",
      "Epoch [34/50], Validation Loss: 2.9092, Validation Accuracy: 33.39%\n",
      "Epoch [35/50], Loss: 0.3629, Accuracy: 84.24%\n",
      "Epoch [35/50], Validation Loss: 3.7127, Validation Accuracy: 32.37%\n",
      "Epoch [36/50], Loss: 0.3492, Accuracy: 85.29%\n",
      "Epoch [36/50], Validation Loss: 3.9880, Validation Accuracy: 32.41%\n",
      "Epoch [37/50], Loss: 0.3515, Accuracy: 84.53%\n",
      "Epoch [37/50], Validation Loss: 3.6298, Validation Accuracy: 32.50%\n",
      "Epoch [38/50], Loss: 0.3413, Accuracy: 85.08%\n",
      "Epoch [38/50], Validation Loss: 3.9311, Validation Accuracy: 32.37%\n",
      "Epoch [39/50], Loss: 0.3524, Accuracy: 84.20%\n",
      "Epoch [39/50], Validation Loss: 4.2541, Validation Accuracy: 32.37%\n",
      "Epoch [40/50], Loss: 0.3453, Accuracy: 85.41%\n",
      "Epoch [40/50], Validation Loss: 3.8330, Validation Accuracy: 32.45%\n",
      "Epoch [41/50], Loss: 0.3401, Accuracy: 84.74%\n",
      "Epoch [41/50], Validation Loss: 3.6741, Validation Accuracy: 32.28%\n",
      "Epoch [42/50], Loss: 0.3351, Accuracy: 85.21%\n",
      "Epoch [42/50], Validation Loss: 3.6157, Validation Accuracy: 32.41%\n",
      "Epoch [43/50], Loss: 0.3377, Accuracy: 85.33%\n",
      "Epoch [43/50], Validation Loss: 3.5132, Validation Accuracy: 32.50%\n",
      "Epoch [44/50], Loss: 0.3275, Accuracy: 85.37%\n",
      "Epoch [44/50], Validation Loss: 3.5015, Validation Accuracy: 32.28%\n",
      "Epoch [45/50], Loss: 0.3241, Accuracy: 86.00%\n",
      "Epoch [45/50], Validation Loss: 3.9083, Validation Accuracy: 32.28%\n",
      "Epoch [46/50], Loss: 0.3343, Accuracy: 85.04%\n",
      "Epoch [46/50], Validation Loss: 4.4471, Validation Accuracy: 32.62%\n",
      "Epoch [47/50], Loss: 0.3229, Accuracy: 85.67%\n",
      "Epoch [47/50], Validation Loss: 3.8883, Validation Accuracy: 32.37%\n",
      "Epoch [48/50], Loss: 0.3212, Accuracy: 85.58%\n",
      "Epoch [48/50], Validation Loss: 4.3703, Validation Accuracy: 32.45%\n",
      "Epoch [49/50], Loss: 0.3164, Accuracy: 85.37%\n",
      "Epoch [49/50], Validation Loss: 4.0493, Validation Accuracy: 32.50%\n",
      "Epoch [50/50], Loss: 0.3287, Accuracy: 85.54%\n",
      "Epoch [50/50], Validation Loss: 4.4809, Validation Accuracy: 32.37%\n"
     ]
    }
   ],
   "source": [
    "train_model(model)"
   ]
  },
  {
   "cell_type": "code",
   "execution_count": 58,
   "metadata": {
    "execution": {
     "iopub.execute_input": "2025-03-09T19:00:38.677770Z",
     "iopub.status.busy": "2025-03-09T19:00:38.677460Z",
     "iopub.status.idle": "2025-03-09T19:00:38.686057Z",
     "shell.execute_reply": "2025-03-09T19:00:38.685164Z",
     "shell.execute_reply.started": "2025-03-09T19:00:38.677745Z"
    },
    "trusted": true
   },
   "outputs": [
    {
     "data": {
      "text/plain": [
       "[array([ 1.71708882e-01,  4.65558887e-01,  1.76288951e-02, -3.65464866e-01,\n",
       "         5.26058912e-01,  6.26763284e-01, -7.50754535e-01,  2.18887269e-01,\n",
       "         1.71126664e-01,  5.52145578e-02, -1.20569095e-01,  1.72553331e-01,\n",
       "        -3.09216648e-01, -7.29010031e-02,  5.01276731e-01,  7.06233382e-02,\n",
       "        -4.13173348e-01, -4.02955487e-02, -1.57736745e-02, -5.40122271e-01,\n",
       "         1.96113780e-01,  7.71107793e-01, -1.15851671e-01,  5.32580093e-02,\n",
       "         3.89301360e-01, -1.98683333e+00, -2.09934428e-01,  2.90544368e-02,\n",
       "         4.32764471e-01, -5.49106658e-01,  2.96866679e+00,  4.34161007e-01,\n",
       "        -3.64409000e-01, -9.44377948e-03,  3.82882535e-01,  4.85129990e-02,\n",
       "         3.25472541e-02,  2.71809101e-01,  1.97061554e-01, -5.51656663e-01,\n",
       "        -1.06356889e-01,  1.95198774e-01,  7.75347650e-02,  2.74355919e-03,\n",
       "         2.34851129e-02, -3.04380000e-01,  2.49822196e-02, -6.22125745e-01,\n",
       "         1.50862336e-01,  1.09368801e-01,  5.48219979e-01,  3.88469994e-02,\n",
       "         1.01269998e-01,  3.13190013e-01,  9.54869986e-02,  4.18139994e-01,\n",
       "        -7.94929981e-01, -5.82960010e-01,  2.66430005e-02,  1.23920001e-01,\n",
       "         3.51940006e-01, -2.16300003e-02, -8.70180011e-01, -2.71780014e-01,\n",
       "         6.54489994e-01,  4.29340005e-01,  9.75439996e-02,  3.17790002e-01,\n",
       "        -1.19209997e-01, -9.71060023e-02, -4.75849986e-01,  2.49070004e-01,\n",
       "         1.22299999e-01, -2.90789992e-01, -1.68660000e-01, -2.10719991e+00,\n",
       "         2.21740007e-02,  4.52769995e-01, -6.44850016e-01,  1.31809995e-01,\n",
       "         3.65939999e+00, -1.71399996e-01,  2.39189997e-01, -4.22490001e-01,\n",
       "        -8.83309990e-02, -3.29250008e-01, -1.28470004e-01,  4.70550001e-01,\n",
       "        -7.59529993e-02, -2.77469993e-01, -4.19050008e-01,  6.08030021e-01,\n",
       "        -2.42609993e-01,  1.48850000e-02, -2.32040003e-01,  2.08790004e-02,\n",
       "        -8.21749985e-01,  2.65879989e-01, -4.02669996e-01, -1.71110004e-01],\n",
       "       dtype=float32),\n",
       " array([ 3.2833287e-01,  2.6317859e-01, -3.6561489e-04, -1.9120635e-01,\n",
       "         5.3925997e-01,  5.3705806e-01, -5.4217333e-01,  1.6922583e-01,\n",
       "         1.0008498e-01,  1.0891068e-02, -4.0376283e-02,  2.2257431e-01,\n",
       "        -4.0424857e-01, -9.6388511e-02,  6.2516934e-01,  2.3488306e-01,\n",
       "        -2.1516715e-01, -1.3040857e-01, -5.4271493e-02, -5.5580574e-01,\n",
       "         5.5200141e-02,  5.0568813e-01,  2.4387496e-02,  6.2396610e-03,\n",
       "         2.7470657e-01, -2.1203785e+00, -3.0947787e-01,  1.0239165e-01,\n",
       "         3.6117005e-01, -4.7076997e-01,  3.1906929e+00,  2.0184137e-01,\n",
       "        -4.4778934e-01, -2.3954669e-01,  2.5392106e-01, -9.3394160e-02,\n",
       "         1.3099323e-01,  1.5854800e-01,  1.5952328e-01, -4.3075389e-01,\n",
       "        -1.8545160e-01,  2.0812277e-01,  5.6895204e-02,  1.6963823e-01,\n",
       "        -1.9064644e-02, -1.9579493e-01, -9.0412430e-02, -3.1146225e-01,\n",
       "         8.5966870e-02,  9.4648883e-02,  5.4821998e-01,  3.8846999e-02,\n",
       "         1.0127000e-01,  3.1319001e-01,  9.5486999e-02,  4.1813999e-01,\n",
       "        -7.9492998e-01, -5.8296001e-01,  2.6643001e-02,  1.2392000e-01,\n",
       "         3.5194001e-01, -2.1630000e-02, -8.7018001e-01, -2.7178001e-01,\n",
       "         6.5448999e-01,  4.2934000e-01,  9.7544000e-02,  3.1779000e-01,\n",
       "        -1.1921000e-01, -9.7106002e-02, -4.7584999e-01,  2.4907000e-01,\n",
       "         1.2230000e-01, -2.9078999e-01, -1.6866000e-01, -2.1071999e+00,\n",
       "         2.2174001e-02,  4.5276999e-01, -6.4485002e-01,  1.3180999e-01,\n",
       "         3.6594000e+00, -1.7140000e-01,  2.3919000e-01, -4.2249000e-01,\n",
       "        -8.8330999e-02, -3.2925001e-01, -1.2847000e-01,  4.7055000e-01,\n",
       "        -7.5952999e-02, -2.7746999e-01, -4.1905001e-01,  6.0803002e-01,\n",
       "        -2.4260999e-01,  1.4885000e-02, -2.3204000e-01,  2.0879000e-02,\n",
       "        -8.2174999e-01,  2.6587999e-01, -4.0267000e-01, -1.7111000e-01],\n",
       "       dtype=float32),\n",
       " array([ 0.26313668,  0.32907525,  0.06787867, -0.26812658,  0.56438917,\n",
       "         0.52810234, -0.6331364 ,  0.18250756,  0.12443918,  0.07511592,\n",
       "        -0.03850649,  0.24921586, -0.3989825 , -0.12523156,  0.59527004,\n",
       "         0.23856498, -0.18522501, -0.08100575,  0.0316464 , -0.5396833 ,\n",
       "         0.03233283,  0.6319178 , -0.04210874,  0.00896184,  0.39333263,\n",
       "        -2.0518248 , -0.22324835,  0.06636249,  0.39661765, -0.4702264 ,\n",
       "         3.0099335 ,  0.33336163, -0.4044993 , -0.14625949,  0.23366024,\n",
       "        -0.08302609,  0.05298044,  0.21794516,  0.1695716 , -0.50294006,\n",
       "        -0.13491811,  0.212368  ,  0.04612591,  0.08037832,  0.03621967,\n",
       "        -0.22897756, -0.08641001, -0.34931597,  0.08850002,  0.18358622,\n",
       "         0.54822   ,  0.038847  ,  0.10127   ,  0.31319   ,  0.095487  ,\n",
       "         0.41814   , -0.79493   , -0.58296   ,  0.026643  ,  0.12392   ,\n",
       "         0.35194   , -0.02163   , -0.87018   , -0.27178   ,  0.65449   ,\n",
       "         0.42934   ,  0.097544  ,  0.31779   , -0.11921   , -0.097106  ,\n",
       "        -0.47585   ,  0.24907   ,  0.1223    , -0.29079   , -0.16866   ,\n",
       "        -2.1072    ,  0.022174  ,  0.45277   , -0.64485   ,  0.13181   ,\n",
       "         3.6594    , -0.1714    ,  0.23919   , -0.42249   , -0.088331  ,\n",
       "        -0.32925   , -0.12847   ,  0.47055   , -0.075953  , -0.27747   ,\n",
       "        -0.41905   ,  0.60803   , -0.24261   ,  0.014885  , -0.23204   ,\n",
       "         0.020879  , -0.82175   ,  0.26588   , -0.40267   , -0.17111   ],\n",
       "       dtype=float32)]"
      ]
     },
     "execution_count": 58,
     "metadata": {},
     "output_type": "execute_result"
    }
   ],
   "source": [
    "# evaluating on test set\n",
    "test_embeddings = list(test_df['glove_embedding'])\n",
    "test_embeddings[:3]"
   ]
  },
  {
   "cell_type": "code",
   "execution_count": 59,
   "metadata": {
    "execution": {
     "iopub.execute_input": "2025-03-09T19:00:45.568736Z",
     "iopub.status.busy": "2025-03-09T19:00:45.568441Z",
     "iopub.status.idle": "2025-03-09T19:00:45.573783Z",
     "shell.execute_reply": "2025-03-09T19:00:45.572877Z",
     "shell.execute_reply.started": "2025-03-09T19:00:45.568712Z"
    },
    "trusted": true
   },
   "outputs": [
    {
     "name": "stdout",
     "output_type": "stream",
     "text": [
      "GPU is available!\n"
     ]
    }
   ],
   "source": [
    "if torch.cuda.is_available():\n",
    "    print(\"GPU is available!\")\n",
    "    device = torch.device(\"cuda\")\n",
    "else:\n",
    "    print(\"GPU is not available, using CPU\")\n",
    "    device = torch.device(\"cpu\")"
   ]
  },
  {
   "cell_type": "code",
   "execution_count": 60,
   "metadata": {
    "execution": {
     "iopub.execute_input": "2025-03-09T19:00:50.000971Z",
     "iopub.status.busy": "2025-03-09T19:00:50.000545Z",
     "iopub.status.idle": "2025-03-09T19:00:50.048706Z",
     "shell.execute_reply": "2025-03-09T19:00:50.047924Z",
     "shell.execute_reply.started": "2025-03-09T19:00:50.000932Z"
    },
    "trusted": true
   },
   "outputs": [],
   "source": [
    "test_embeddings = torch.tensor(test_embeddings).to(device)"
   ]
  },
  {
   "cell_type": "code",
   "execution_count": 61,
   "metadata": {
    "execution": {
     "iopub.execute_input": "2025-03-09T19:00:54.791379Z",
     "iopub.status.busy": "2025-03-09T19:00:54.791035Z",
     "iopub.status.idle": "2025-03-09T19:00:54.798475Z",
     "shell.execute_reply": "2025-03-09T19:00:54.797646Z",
     "shell.execute_reply.started": "2025-03-09T19:00:54.791347Z"
    },
    "trusted": true
   },
   "outputs": [
    {
     "data": {
      "text/plain": [
       "tensor([0, 0, 0,  ..., 0, 0, 0], device='cuda:0')"
      ]
     },
     "execution_count": 61,
     "metadata": {},
     "output_type": "execute_result"
    }
   ],
   "source": [
    "with torch.no_grad():\n",
    "    outputs = model(test_embeddings)\n",
    "predictions = torch.argmax(outputs, dim=1)\n",
    "predictions"
   ]
  },
  {
   "cell_type": "code",
   "execution_count": 48,
   "metadata": {
    "execution": {
     "iopub.execute_input": "2025-03-09T18:54:45.625406Z",
     "iopub.status.busy": "2025-03-09T18:54:45.625071Z",
     "iopub.status.idle": "2025-03-09T18:54:45.644465Z",
     "shell.execute_reply": "2025-03-09T18:54:45.643748Z",
     "shell.execute_reply.started": "2025-03-09T18:54:45.625377Z"
    },
    "trusted": true
   },
   "outputs": [
    {
     "name": "stderr",
     "output_type": "stream",
     "text": [
      "/usr/local/lib/python3.10/dist-packages/pandas/io/formats/format.py:1458: RuntimeWarning: invalid value encountered in greater\n",
      "  has_large_values = (abs_vals > 1e6).any()\n",
      "/usr/local/lib/python3.10/dist-packages/pandas/io/formats/format.py:1459: RuntimeWarning: invalid value encountered in less\n",
      "  has_small_values = ((abs_vals < 10 ** (-self.digits)) & (abs_vals > 0)).any()\n",
      "/usr/local/lib/python3.10/dist-packages/pandas/io/formats/format.py:1459: RuntimeWarning: invalid value encountered in greater\n",
      "  has_small_values = ((abs_vals < 10 ** (-self.digits)) & (abs_vals > 0)).any()\n"
     ]
    },
    {
     "data": {
      "text/html": [
       "<div>\n",
       "<style scoped>\n",
       "    .dataframe tbody tr th:only-of-type {\n",
       "        vertical-align: middle;\n",
       "    }\n",
       "\n",
       "    .dataframe tbody tr th {\n",
       "        vertical-align: top;\n",
       "    }\n",
       "\n",
       "    .dataframe thead th {\n",
       "        text-align: right;\n",
       "    }\n",
       "</style>\n",
       "<table border=\"1\" class=\"dataframe\">\n",
       "  <thead>\n",
       "    <tr style=\"text-align: right;\">\n",
       "      <th></th>\n",
       "      <th>premise</th>\n",
       "      <th>hypothesis</th>\n",
       "      <th>gold_label</th>\n",
       "      <th>type</th>\n",
       "      <th>glove_embedding</th>\n",
       "    </tr>\n",
       "  </thead>\n",
       "  <tbody>\n",
       "    <tr>\n",
       "      <th>9616.0</th>\n",
       "      <td>If Charlotte passes her driving test, her pare...</td>\n",
       "      <td>Charlotte has parents.</td>\n",
       "      <td>E</td>\n",
       "      <td>type5_possessive</td>\n",
       "      <td>[0.17170888, 0.4655589, 0.017628895, -0.365464...</td>\n",
       "    </tr>\n",
       "    <tr>\n",
       "      <th>9617.0</th>\n",
       "      <td>It's not the case that if Charlotte passes her...</td>\n",
       "      <td>Charlotte has parents.</td>\n",
       "      <td>E</td>\n",
       "      <td>type5_possessive</td>\n",
       "      <td>[0.32833287, 0.2631786, -0.0003656149, -0.1912...</td>\n",
       "    </tr>\n",
       "    <tr>\n",
       "      <th>9618.0</th>\n",
       "      <td>Sam believes that if Charlotte passes her driv...</td>\n",
       "      <td>Charlotte has parents.</td>\n",
       "      <td>E</td>\n",
       "      <td>type5_possessive</td>\n",
       "      <td>[0.26313668, 0.32907525, 0.06787867, -0.268126...</td>\n",
       "    </tr>\n",
       "    <tr>\n",
       "      <th>9619.0</th>\n",
       "      <td>Is it true that if Charlotte passes her drivin...</td>\n",
       "      <td>Charlotte has parents.</td>\n",
       "      <td>E</td>\n",
       "      <td>type5_possessive</td>\n",
       "      <td>[0.29682538, 0.33590078, 0.029228458, -0.24936...</td>\n",
       "    </tr>\n",
       "    <tr>\n",
       "      <th>9628.0</th>\n",
       "      <td>If Lily takes the train to the city, her frien...</td>\n",
       "      <td>Lily has a friend.</td>\n",
       "      <td>E</td>\n",
       "      <td>type5_possessive</td>\n",
       "      <td>[0.41779414, 0.5672047, -0.12455517, -0.113467...</td>\n",
       "    </tr>\n",
       "    <tr>\n",
       "      <th>...</th>\n",
       "      <td>...</td>\n",
       "      <td>...</td>\n",
       "      <td>...</td>\n",
       "      <td>...</td>\n",
       "      <td>...</td>\n",
       "    </tr>\n",
       "    <tr>\n",
       "      <th>NaN</th>\n",
       "      <td>If Sophia decides to attend the concert, his b...</td>\n",
       "      <td>Sophia has a close friend.</td>\n",
       "      <td>N</td>\n",
       "      <td>type5_possessive</td>\n",
       "      <td>[0.19257289, 0.39037293, -0.009387304, -0.1870...</td>\n",
       "    </tr>\n",
       "    <tr>\n",
       "      <th>NaN</th>\n",
       "      <td>It's not the case that if Sophia decides to at...</td>\n",
       "      <td>Sophia has a close friend.</td>\n",
       "      <td>N</td>\n",
       "      <td>type5_possessive</td>\n",
       "      <td>[0.3318006, 0.22654662, -0.017176786, -0.08385...</td>\n",
       "    </tr>\n",
       "    <tr>\n",
       "      <th>NaN</th>\n",
       "      <td>Sam believes that if Sophia decides to attend ...</td>\n",
       "      <td>Sophia has a close friend.</td>\n",
       "      <td>N</td>\n",
       "      <td>type5_possessive</td>\n",
       "      <td>[0.27215302, 0.28173864, 0.043231603, -0.13834...</td>\n",
       "    </tr>\n",
       "    <tr>\n",
       "      <th>NaN</th>\n",
       "      <td>Is it true that if Sophia decides to attend th...</td>\n",
       "      <td>Sophia has a close friend.</td>\n",
       "      <td>N</td>\n",
       "      <td>type5_possessive</td>\n",
       "      <td>[0.30279136, 0.29145783, 0.009102633, -0.13019...</td>\n",
       "    </tr>\n",
       "    <tr>\n",
       "      <th>NaN</th>\n",
       "      <td>If Sophia decides to attend the concert, his b...</td>\n",
       "      <td>Sophia has decided to attend the concert, but ...</td>\n",
       "      <td>C</td>\n",
       "      <td>type5_possessive</td>\n",
       "      <td>[0.19257289, 0.39037293, -0.009387304, -0.1870...</td>\n",
       "    </tr>\n",
       "  </tbody>\n",
       "</table>\n",
       "<p>2367 rows × 5 columns</p>\n",
       "</div>"
      ],
      "text/plain": [
       "                                                  premise  \\\n",
       "9616.0  If Charlotte passes her driving test, her pare...   \n",
       "9617.0  It's not the case that if Charlotte passes her...   \n",
       "9618.0  Sam believes that if Charlotte passes her driv...   \n",
       "9619.0  Is it true that if Charlotte passes her drivin...   \n",
       "9628.0  If Lily takes the train to the city, her frien...   \n",
       "...                                                   ...   \n",
       "NaN     If Sophia decides to attend the concert, his b...   \n",
       "NaN     It's not the case that if Sophia decides to at...   \n",
       "NaN     Sam believes that if Sophia decides to attend ...   \n",
       "NaN     Is it true that if Sophia decides to attend th...   \n",
       "NaN     If Sophia decides to attend the concert, his b...   \n",
       "\n",
       "                                               hypothesis gold_label  \\\n",
       "9616.0                             Charlotte has parents.          E   \n",
       "9617.0                             Charlotte has parents.          E   \n",
       "9618.0                             Charlotte has parents.          E   \n",
       "9619.0                             Charlotte has parents.          E   \n",
       "9628.0                                 Lily has a friend.          E   \n",
       "...                                                   ...        ...   \n",
       "NaN                            Sophia has a close friend.          N   \n",
       "NaN                            Sophia has a close friend.          N   \n",
       "NaN                            Sophia has a close friend.          N   \n",
       "NaN                            Sophia has a close friend.          N   \n",
       "NaN     Sophia has decided to attend the concert, but ...          C   \n",
       "\n",
       "                    type                                    glove_embedding  \n",
       "9616.0  type5_possessive  [0.17170888, 0.4655589, 0.017628895, -0.365464...  \n",
       "9617.0  type5_possessive  [0.32833287, 0.2631786, -0.0003656149, -0.1912...  \n",
       "9618.0  type5_possessive  [0.26313668, 0.32907525, 0.06787867, -0.268126...  \n",
       "9619.0  type5_possessive  [0.29682538, 0.33590078, 0.029228458, -0.24936...  \n",
       "9628.0  type5_possessive  [0.41779414, 0.5672047, -0.12455517, -0.113467...  \n",
       "...                  ...                                                ...  \n",
       "NaN     type5_possessive  [0.19257289, 0.39037293, -0.009387304, -0.1870...  \n",
       "NaN     type5_possessive  [0.3318006, 0.22654662, -0.017176786, -0.08385...  \n",
       "NaN     type5_possessive  [0.27215302, 0.28173864, 0.043231603, -0.13834...  \n",
       "NaN     type5_possessive  [0.30279136, 0.29145783, 0.009102633, -0.13019...  \n",
       "NaN     type5_possessive  [0.19257289, 0.39037293, -0.009387304, -0.1870...  \n",
       "\n",
       "[2367 rows x 5 columns]"
      ]
     },
     "execution_count": 48,
     "metadata": {},
     "output_type": "execute_result"
    }
   ],
   "source": [
    "test_df"
   ]
  },
  {
   "cell_type": "code",
   "execution_count": 62,
   "metadata": {
    "execution": {
     "iopub.execute_input": "2025-03-09T19:01:06.628543Z",
     "iopub.status.busy": "2025-03-09T19:01:06.628200Z",
     "iopub.status.idle": "2025-03-09T19:01:06.649280Z",
     "shell.execute_reply": "2025-03-09T19:01:06.648527Z",
     "shell.execute_reply.started": "2025-03-09T19:01:06.628516Z"
    },
    "trusted": true
   },
   "outputs": [
    {
     "name": "stderr",
     "output_type": "stream",
     "text": [
      "/usr/local/lib/python3.10/dist-packages/pandas/io/formats/format.py:1458: RuntimeWarning: invalid value encountered in greater\n",
      "  has_large_values = (abs_vals > 1e6).any()\n",
      "/usr/local/lib/python3.10/dist-packages/pandas/io/formats/format.py:1459: RuntimeWarning: invalid value encountered in less\n",
      "  has_small_values = ((abs_vals < 10 ** (-self.digits)) & (abs_vals > 0)).any()\n",
      "/usr/local/lib/python3.10/dist-packages/pandas/io/formats/format.py:1459: RuntimeWarning: invalid value encountered in greater\n",
      "  has_small_values = ((abs_vals < 10 ** (-self.digits)) & (abs_vals > 0)).any()\n"
     ]
    },
    {
     "data": {
      "text/html": [
       "<div>\n",
       "<style scoped>\n",
       "    .dataframe tbody tr th:only-of-type {\n",
       "        vertical-align: middle;\n",
       "    }\n",
       "\n",
       "    .dataframe tbody tr th {\n",
       "        vertical-align: top;\n",
       "    }\n",
       "\n",
       "    .dataframe thead th {\n",
       "        text-align: right;\n",
       "    }\n",
       "</style>\n",
       "<table border=\"1\" class=\"dataframe\">\n",
       "  <thead>\n",
       "    <tr style=\"text-align: right;\">\n",
       "      <th></th>\n",
       "      <th>premise</th>\n",
       "      <th>hypothesis</th>\n",
       "      <th>gold_label</th>\n",
       "      <th>type</th>\n",
       "      <th>glove_embedding</th>\n",
       "      <th>predicted_label</th>\n",
       "    </tr>\n",
       "  </thead>\n",
       "  <tbody>\n",
       "    <tr>\n",
       "      <th>9616.0</th>\n",
       "      <td>If Charlotte passes her driving test, her pare...</td>\n",
       "      <td>Charlotte has parents.</td>\n",
       "      <td>E</td>\n",
       "      <td>type5_possessive</td>\n",
       "      <td>[0.17170888, 0.4655589, 0.017628895, -0.365464...</td>\n",
       "      <td>0</td>\n",
       "    </tr>\n",
       "    <tr>\n",
       "      <th>9617.0</th>\n",
       "      <td>It's not the case that if Charlotte passes her...</td>\n",
       "      <td>Charlotte has parents.</td>\n",
       "      <td>E</td>\n",
       "      <td>type5_possessive</td>\n",
       "      <td>[0.32833287, 0.2631786, -0.0003656149, -0.1912...</td>\n",
       "      <td>0</td>\n",
       "    </tr>\n",
       "    <tr>\n",
       "      <th>9618.0</th>\n",
       "      <td>Sam believes that if Charlotte passes her driv...</td>\n",
       "      <td>Charlotte has parents.</td>\n",
       "      <td>E</td>\n",
       "      <td>type5_possessive</td>\n",
       "      <td>[0.26313668, 0.32907525, 0.06787867, -0.268126...</td>\n",
       "      <td>0</td>\n",
       "    </tr>\n",
       "    <tr>\n",
       "      <th>9619.0</th>\n",
       "      <td>Is it true that if Charlotte passes her drivin...</td>\n",
       "      <td>Charlotte has parents.</td>\n",
       "      <td>E</td>\n",
       "      <td>type5_possessive</td>\n",
       "      <td>[0.29682538, 0.33590078, 0.029228458, -0.24936...</td>\n",
       "      <td>0</td>\n",
       "    </tr>\n",
       "    <tr>\n",
       "      <th>9628.0</th>\n",
       "      <td>If Lily takes the train to the city, her frien...</td>\n",
       "      <td>Lily has a friend.</td>\n",
       "      <td>E</td>\n",
       "      <td>type5_possessive</td>\n",
       "      <td>[0.41779414, 0.5672047, -0.12455517, -0.113467...</td>\n",
       "      <td>0</td>\n",
       "    </tr>\n",
       "    <tr>\n",
       "      <th>...</th>\n",
       "      <td>...</td>\n",
       "      <td>...</td>\n",
       "      <td>...</td>\n",
       "      <td>...</td>\n",
       "      <td>...</td>\n",
       "      <td>...</td>\n",
       "    </tr>\n",
       "    <tr>\n",
       "      <th>NaN</th>\n",
       "      <td>If Sophia decides to attend the concert, his b...</td>\n",
       "      <td>Sophia has a close friend.</td>\n",
       "      <td>N</td>\n",
       "      <td>type5_possessive</td>\n",
       "      <td>[0.19257289, 0.39037293, -0.009387304, -0.1870...</td>\n",
       "      <td>0</td>\n",
       "    </tr>\n",
       "    <tr>\n",
       "      <th>NaN</th>\n",
       "      <td>It's not the case that if Sophia decides to at...</td>\n",
       "      <td>Sophia has a close friend.</td>\n",
       "      <td>N</td>\n",
       "      <td>type5_possessive</td>\n",
       "      <td>[0.3318006, 0.22654662, -0.017176786, -0.08385...</td>\n",
       "      <td>0</td>\n",
       "    </tr>\n",
       "    <tr>\n",
       "      <th>NaN</th>\n",
       "      <td>Sam believes that if Sophia decides to attend ...</td>\n",
       "      <td>Sophia has a close friend.</td>\n",
       "      <td>N</td>\n",
       "      <td>type5_possessive</td>\n",
       "      <td>[0.27215302, 0.28173864, 0.043231603, -0.13834...</td>\n",
       "      <td>0</td>\n",
       "    </tr>\n",
       "    <tr>\n",
       "      <th>NaN</th>\n",
       "      <td>Is it true that if Sophia decides to attend th...</td>\n",
       "      <td>Sophia has a close friend.</td>\n",
       "      <td>N</td>\n",
       "      <td>type5_possessive</td>\n",
       "      <td>[0.30279136, 0.29145783, 0.009102633, -0.13019...</td>\n",
       "      <td>0</td>\n",
       "    </tr>\n",
       "    <tr>\n",
       "      <th>NaN</th>\n",
       "      <td>If Sophia decides to attend the concert, his b...</td>\n",
       "      <td>Sophia has decided to attend the concert, but ...</td>\n",
       "      <td>C</td>\n",
       "      <td>type5_possessive</td>\n",
       "      <td>[0.19257289, 0.39037293, -0.009387304, -0.1870...</td>\n",
       "      <td>0</td>\n",
       "    </tr>\n",
       "  </tbody>\n",
       "</table>\n",
       "<p>2367 rows × 6 columns</p>\n",
       "</div>"
      ],
      "text/plain": [
       "                                                  premise  \\\n",
       "9616.0  If Charlotte passes her driving test, her pare...   \n",
       "9617.0  It's not the case that if Charlotte passes her...   \n",
       "9618.0  Sam believes that if Charlotte passes her driv...   \n",
       "9619.0  Is it true that if Charlotte passes her drivin...   \n",
       "9628.0  If Lily takes the train to the city, her frien...   \n",
       "...                                                   ...   \n",
       "NaN     If Sophia decides to attend the concert, his b...   \n",
       "NaN     It's not the case that if Sophia decides to at...   \n",
       "NaN     Sam believes that if Sophia decides to attend ...   \n",
       "NaN     Is it true that if Sophia decides to attend th...   \n",
       "NaN     If Sophia decides to attend the concert, his b...   \n",
       "\n",
       "                                               hypothesis gold_label  \\\n",
       "9616.0                             Charlotte has parents.          E   \n",
       "9617.0                             Charlotte has parents.          E   \n",
       "9618.0                             Charlotte has parents.          E   \n",
       "9619.0                             Charlotte has parents.          E   \n",
       "9628.0                                 Lily has a friend.          E   \n",
       "...                                                   ...        ...   \n",
       "NaN                            Sophia has a close friend.          N   \n",
       "NaN                            Sophia has a close friend.          N   \n",
       "NaN                            Sophia has a close friend.          N   \n",
       "NaN                            Sophia has a close friend.          N   \n",
       "NaN     Sophia has decided to attend the concert, but ...          C   \n",
       "\n",
       "                    type                                    glove_embedding  \\\n",
       "9616.0  type5_possessive  [0.17170888, 0.4655589, 0.017628895, -0.365464...   \n",
       "9617.0  type5_possessive  [0.32833287, 0.2631786, -0.0003656149, -0.1912...   \n",
       "9618.0  type5_possessive  [0.26313668, 0.32907525, 0.06787867, -0.268126...   \n",
       "9619.0  type5_possessive  [0.29682538, 0.33590078, 0.029228458, -0.24936...   \n",
       "9628.0  type5_possessive  [0.41779414, 0.5672047, -0.12455517, -0.113467...   \n",
       "...                  ...                                                ...   \n",
       "NaN     type5_possessive  [0.19257289, 0.39037293, -0.009387304, -0.1870...   \n",
       "NaN     type5_possessive  [0.3318006, 0.22654662, -0.017176786, -0.08385...   \n",
       "NaN     type5_possessive  [0.27215302, 0.28173864, 0.043231603, -0.13834...   \n",
       "NaN     type5_possessive  [0.30279136, 0.29145783, 0.009102633, -0.13019...   \n",
       "NaN     type5_possessive  [0.19257289, 0.39037293, -0.009387304, -0.1870...   \n",
       "\n",
       "        predicted_label  \n",
       "9616.0                0  \n",
       "9617.0                0  \n",
       "9618.0                0  \n",
       "9619.0                0  \n",
       "9628.0                0  \n",
       "...                 ...  \n",
       "NaN                   0  \n",
       "NaN                   0  \n",
       "NaN                   0  \n",
       "NaN                   0  \n",
       "NaN                   0  \n",
       "\n",
       "[2367 rows x 6 columns]"
      ]
     },
     "execution_count": 62,
     "metadata": {},
     "output_type": "execute_result"
    }
   ],
   "source": [
    "test_df['predicted_label'] = predictions.cpu()\n",
    "test_df "
   ]
  },
  {
   "cell_type": "code",
   "execution_count": 63,
   "metadata": {
    "execution": {
     "iopub.execute_input": "2025-03-09T19:01:18.283489Z",
     "iopub.status.busy": "2025-03-09T19:01:18.283144Z",
     "iopub.status.idle": "2025-03-09T19:01:18.305247Z",
     "shell.execute_reply": "2025-03-09T19:01:18.304562Z",
     "shell.execute_reply.started": "2025-03-09T19:01:18.283452Z"
    },
    "trusted": true
   },
   "outputs": [
    {
     "name": "stderr",
     "output_type": "stream",
     "text": [
      "/usr/local/lib/python3.10/dist-packages/pandas/io/formats/format.py:1458: RuntimeWarning: invalid value encountered in greater\n",
      "  has_large_values = (abs_vals > 1e6).any()\n",
      "/usr/local/lib/python3.10/dist-packages/pandas/io/formats/format.py:1459: RuntimeWarning: invalid value encountered in less\n",
      "  has_small_values = ((abs_vals < 10 ** (-self.digits)) & (abs_vals > 0)).any()\n",
      "/usr/local/lib/python3.10/dist-packages/pandas/io/formats/format.py:1459: RuntimeWarning: invalid value encountered in greater\n",
      "  has_small_values = ((abs_vals < 10 ** (-self.digits)) & (abs_vals > 0)).any()\n"
     ]
    },
    {
     "data": {
      "text/html": [
       "<div>\n",
       "<style scoped>\n",
       "    .dataframe tbody tr th:only-of-type {\n",
       "        vertical-align: middle;\n",
       "    }\n",
       "\n",
       "    .dataframe tbody tr th {\n",
       "        vertical-align: top;\n",
       "    }\n",
       "\n",
       "    .dataframe thead th {\n",
       "        text-align: right;\n",
       "    }\n",
       "</style>\n",
       "<table border=\"1\" class=\"dataframe\">\n",
       "  <thead>\n",
       "    <tr style=\"text-align: right;\">\n",
       "      <th></th>\n",
       "      <th>premise</th>\n",
       "      <th>hypothesis</th>\n",
       "      <th>gold_label</th>\n",
       "      <th>type</th>\n",
       "      <th>glove_embedding</th>\n",
       "      <th>predicted_label</th>\n",
       "    </tr>\n",
       "  </thead>\n",
       "  <tbody>\n",
       "    <tr>\n",
       "      <th>9616.0</th>\n",
       "      <td>If Charlotte passes her driving test, her pare...</td>\n",
       "      <td>Charlotte has parents.</td>\n",
       "      <td>E</td>\n",
       "      <td>type5_possessive</td>\n",
       "      <td>[0.17170888, 0.4655589, 0.017628895, -0.365464...</td>\n",
       "      <td>E</td>\n",
       "    </tr>\n",
       "    <tr>\n",
       "      <th>9617.0</th>\n",
       "      <td>It's not the case that if Charlotte passes her...</td>\n",
       "      <td>Charlotte has parents.</td>\n",
       "      <td>E</td>\n",
       "      <td>type5_possessive</td>\n",
       "      <td>[0.32833287, 0.2631786, -0.0003656149, -0.1912...</td>\n",
       "      <td>E</td>\n",
       "    </tr>\n",
       "    <tr>\n",
       "      <th>9618.0</th>\n",
       "      <td>Sam believes that if Charlotte passes her driv...</td>\n",
       "      <td>Charlotte has parents.</td>\n",
       "      <td>E</td>\n",
       "      <td>type5_possessive</td>\n",
       "      <td>[0.26313668, 0.32907525, 0.06787867, -0.268126...</td>\n",
       "      <td>E</td>\n",
       "    </tr>\n",
       "    <tr>\n",
       "      <th>9619.0</th>\n",
       "      <td>Is it true that if Charlotte passes her drivin...</td>\n",
       "      <td>Charlotte has parents.</td>\n",
       "      <td>E</td>\n",
       "      <td>type5_possessive</td>\n",
       "      <td>[0.29682538, 0.33590078, 0.029228458, -0.24936...</td>\n",
       "      <td>E</td>\n",
       "    </tr>\n",
       "    <tr>\n",
       "      <th>9628.0</th>\n",
       "      <td>If Lily takes the train to the city, her frien...</td>\n",
       "      <td>Lily has a friend.</td>\n",
       "      <td>E</td>\n",
       "      <td>type5_possessive</td>\n",
       "      <td>[0.41779414, 0.5672047, -0.12455517, -0.113467...</td>\n",
       "      <td>E</td>\n",
       "    </tr>\n",
       "    <tr>\n",
       "      <th>...</th>\n",
       "      <td>...</td>\n",
       "      <td>...</td>\n",
       "      <td>...</td>\n",
       "      <td>...</td>\n",
       "      <td>...</td>\n",
       "      <td>...</td>\n",
       "    </tr>\n",
       "    <tr>\n",
       "      <th>NaN</th>\n",
       "      <td>If Sophia decides to attend the concert, his b...</td>\n",
       "      <td>Sophia has a close friend.</td>\n",
       "      <td>N</td>\n",
       "      <td>type5_possessive</td>\n",
       "      <td>[0.19257289, 0.39037293, -0.009387304, -0.1870...</td>\n",
       "      <td>E</td>\n",
       "    </tr>\n",
       "    <tr>\n",
       "      <th>NaN</th>\n",
       "      <td>It's not the case that if Sophia decides to at...</td>\n",
       "      <td>Sophia has a close friend.</td>\n",
       "      <td>N</td>\n",
       "      <td>type5_possessive</td>\n",
       "      <td>[0.3318006, 0.22654662, -0.017176786, -0.08385...</td>\n",
       "      <td>E</td>\n",
       "    </tr>\n",
       "    <tr>\n",
       "      <th>NaN</th>\n",
       "      <td>Sam believes that if Sophia decides to attend ...</td>\n",
       "      <td>Sophia has a close friend.</td>\n",
       "      <td>N</td>\n",
       "      <td>type5_possessive</td>\n",
       "      <td>[0.27215302, 0.28173864, 0.043231603, -0.13834...</td>\n",
       "      <td>E</td>\n",
       "    </tr>\n",
       "    <tr>\n",
       "      <th>NaN</th>\n",
       "      <td>Is it true that if Sophia decides to attend th...</td>\n",
       "      <td>Sophia has a close friend.</td>\n",
       "      <td>N</td>\n",
       "      <td>type5_possessive</td>\n",
       "      <td>[0.30279136, 0.29145783, 0.009102633, -0.13019...</td>\n",
       "      <td>E</td>\n",
       "    </tr>\n",
       "    <tr>\n",
       "      <th>NaN</th>\n",
       "      <td>If Sophia decides to attend the concert, his b...</td>\n",
       "      <td>Sophia has decided to attend the concert, but ...</td>\n",
       "      <td>C</td>\n",
       "      <td>type5_possessive</td>\n",
       "      <td>[0.19257289, 0.39037293, -0.009387304, -0.1870...</td>\n",
       "      <td>E</td>\n",
       "    </tr>\n",
       "  </tbody>\n",
       "</table>\n",
       "<p>2367 rows × 6 columns</p>\n",
       "</div>"
      ],
      "text/plain": [
       "                                                  premise  \\\n",
       "9616.0  If Charlotte passes her driving test, her pare...   \n",
       "9617.0  It's not the case that if Charlotte passes her...   \n",
       "9618.0  Sam believes that if Charlotte passes her driv...   \n",
       "9619.0  Is it true that if Charlotte passes her drivin...   \n",
       "9628.0  If Lily takes the train to the city, her frien...   \n",
       "...                                                   ...   \n",
       "NaN     If Sophia decides to attend the concert, his b...   \n",
       "NaN     It's not the case that if Sophia decides to at...   \n",
       "NaN     Sam believes that if Sophia decides to attend ...   \n",
       "NaN     Is it true that if Sophia decides to attend th...   \n",
       "NaN     If Sophia decides to attend the concert, his b...   \n",
       "\n",
       "                                               hypothesis gold_label  \\\n",
       "9616.0                             Charlotte has parents.          E   \n",
       "9617.0                             Charlotte has parents.          E   \n",
       "9618.0                             Charlotte has parents.          E   \n",
       "9619.0                             Charlotte has parents.          E   \n",
       "9628.0                                 Lily has a friend.          E   \n",
       "...                                                   ...        ...   \n",
       "NaN                            Sophia has a close friend.          N   \n",
       "NaN                            Sophia has a close friend.          N   \n",
       "NaN                            Sophia has a close friend.          N   \n",
       "NaN                            Sophia has a close friend.          N   \n",
       "NaN     Sophia has decided to attend the concert, but ...          C   \n",
       "\n",
       "                    type                                    glove_embedding  \\\n",
       "9616.0  type5_possessive  [0.17170888, 0.4655589, 0.017628895, -0.365464...   \n",
       "9617.0  type5_possessive  [0.32833287, 0.2631786, -0.0003656149, -0.1912...   \n",
       "9618.0  type5_possessive  [0.26313668, 0.32907525, 0.06787867, -0.268126...   \n",
       "9619.0  type5_possessive  [0.29682538, 0.33590078, 0.029228458, -0.24936...   \n",
       "9628.0  type5_possessive  [0.41779414, 0.5672047, -0.12455517, -0.113467...   \n",
       "...                  ...                                                ...   \n",
       "NaN     type5_possessive  [0.19257289, 0.39037293, -0.009387304, -0.1870...   \n",
       "NaN     type5_possessive  [0.3318006, 0.22654662, -0.017176786, -0.08385...   \n",
       "NaN     type5_possessive  [0.27215302, 0.28173864, 0.043231603, -0.13834...   \n",
       "NaN     type5_possessive  [0.30279136, 0.29145783, 0.009102633, -0.13019...   \n",
       "NaN     type5_possessive  [0.19257289, 0.39037293, -0.009387304, -0.1870...   \n",
       "\n",
       "       predicted_label  \n",
       "9616.0               E  \n",
       "9617.0               E  \n",
       "9618.0               E  \n",
       "9619.0               E  \n",
       "9628.0               E  \n",
       "...                ...  \n",
       "NaN                  E  \n",
       "NaN                  E  \n",
       "NaN                  E  \n",
       "NaN                  E  \n",
       "NaN                  E  \n",
       "\n",
       "[2367 rows x 6 columns]"
      ]
     },
     "execution_count": 63,
     "metadata": {},
     "output_type": "execute_result"
    }
   ],
   "source": [
    "test_df['predicted_label'] = test_df['predicted_label'].map({0: 'E',1: 'N', 2: 'C'})\n",
    "test_df "
   ]
  },
  {
   "cell_type": "code",
   "execution_count": 64,
   "metadata": {
    "execution": {
     "iopub.execute_input": "2025-03-09T19:01:33.156688Z",
     "iopub.status.busy": "2025-03-09T19:01:33.156366Z",
     "iopub.status.idle": "2025-03-09T19:01:34.434172Z",
     "shell.execute_reply": "2025-03-09T19:01:34.433264Z",
     "shell.execute_reply.started": "2025-03-09T19:01:33.156659Z"
    },
    "trusted": true
   },
   "outputs": [],
   "source": [
    "test_df.to_csv('exp3_glove_results_run3.csv')"
   ]
  },
  {
   "cell_type": "code",
   "execution_count": 65,
   "metadata": {
    "execution": {
     "iopub.execute_input": "2025-03-09T19:01:38.138365Z",
     "iopub.status.busy": "2025-03-09T19:01:38.138018Z",
     "iopub.status.idle": "2025-03-09T19:01:38.142106Z",
     "shell.execute_reply": "2025-03-09T19:01:38.141311Z",
     "shell.execute_reply.started": "2025-03-09T19:01:38.138333Z"
    },
    "trusted": true
   },
   "outputs": [],
   "source": [
    "from sklearn.metrics import confusion_matrix, classification_report, precision_score, recall_score, f1_score\n",
    "import seaborn as sns\n",
    "import matplotlib.pyplot as plt"
   ]
  },
  {
   "cell_type": "code",
   "execution_count": 66,
   "metadata": {
    "execution": {
     "iopub.execute_input": "2025-03-09T19:01:42.754226Z",
     "iopub.status.busy": "2025-03-09T19:01:42.753943Z",
     "iopub.status.idle": "2025-03-09T19:01:42.969391Z",
     "shell.execute_reply": "2025-03-09T19:01:42.968634Z",
     "shell.execute_reply.started": "2025-03-09T19:01:42.754203Z"
    },
    "trusted": true
   },
   "outputs": [
    {
     "data": {
      "image/png": "[encoded data removed]",
      "text/plain": [
       "<Figure size 800x600 with 2 Axes>"
      ]
     },
     "metadata": {},
     "output_type": "display_data"
    }
   ],
   "source": [
    "# Create the testing confusion matrix\n",
    "cm = confusion_matrix(test_df['gold_label'], test_df['predicted_label'])\n",
    "\n",
    "# Visualize the confusion matrix\n",
    "plt.figure(figsize=(8, 6))\n",
    "sns.heatmap(cm, annot=True, fmt=\"d\",cmap=\"Blues\")\n",
    "plt.xlabel(\"Predicted Label\")\n",
    "plt.ylabel(\"True Label\")\n",
    "plt.title(\"Confusion Matrix\")\n",
    "plt.show()"
   ]
  },
  {
   "cell_type": "code",
   "execution_count": 67,
   "metadata": {
    "execution": {
     "iopub.execute_input": "2025-03-09T19:03:12.759942Z",
     "iopub.status.busy": "2025-03-09T19:03:12.759626Z",
     "iopub.status.idle": "2025-03-09T19:03:12.843393Z",
     "shell.execute_reply": "2025-03-09T19:03:12.842368Z",
     "shell.execute_reply.started": "2025-03-09T19:03:12.759917Z"
    },
    "trusted": true
   },
   "outputs": [
    {
     "data": {
      "text/html": [
       "<div>\n",
       "<style scoped>\n",
       "    .dataframe tbody tr th:only-of-type {\n",
       "        vertical-align: middle;\n",
       "    }\n",
       "\n",
       "    .dataframe tbody tr th {\n",
       "        vertical-align: top;\n",
       "    }\n",
       "\n",
       "    .dataframe thead th {\n",
       "        text-align: right;\n",
       "    }\n",
       "</style>\n",
       "<table border=\"1\" class=\"dataframe\">\n",
       "  <thead>\n",
       "    <tr style=\"text-align: right;\">\n",
       "      <th>label</th>\n",
       "      <th>precision</th>\n",
       "      <th>recall</th>\n",
       "      <th>f1-score</th>\n",
       "      <th>support</th>\n",
       "    </tr>\n",
       "  </thead>\n",
       "  <tbody>\n",
       "    <tr>\n",
       "      <th>C</th>\n",
       "      <td>0.250000</td>\n",
       "      <td>0.001302</td>\n",
       "      <td>0.002591</td>\n",
       "      <td>768.000000</td>\n",
       "    </tr>\n",
       "    <tr>\n",
       "      <th>E</th>\n",
       "      <td>0.312857</td>\n",
       "      <td>0.990278</td>\n",
       "      <td>0.475492</td>\n",
       "      <td>720.000000</td>\n",
       "    </tr>\n",
       "    <tr>\n",
       "      <th>N</th>\n",
       "      <td>0.178571</td>\n",
       "      <td>0.017065</td>\n",
       "      <td>0.031153</td>\n",
       "      <td>879.000000</td>\n",
       "    </tr>\n",
       "    <tr>\n",
       "      <th>accuracy</th>\n",
       "      <td>0.307985</td>\n",
       "      <td>0.307985</td>\n",
       "      <td>0.307985</td>\n",
       "      <td>0.307985</td>\n",
       "    </tr>\n",
       "    <tr>\n",
       "      <th>macro avg</th>\n",
       "      <td>0.247143</td>\n",
       "      <td>0.336215</td>\n",
       "      <td>0.169745</td>\n",
       "      <td>2367.000000</td>\n",
       "    </tr>\n",
       "    <tr>\n",
       "      <th>weighted avg</th>\n",
       "      <td>0.242594</td>\n",
       "      <td>0.307985</td>\n",
       "      <td>0.157046</td>\n",
       "      <td>2367.000000</td>\n",
       "    </tr>\n",
       "  </tbody>\n",
       "</table>\n",
       "</div>"
      ],
      "text/plain": [
       "label         precision    recall  f1-score      support\n",
       "C              0.250000  0.001302  0.002591   768.000000\n",
       "E              0.312857  0.990278  0.475492   720.000000\n",
       "N              0.178571  0.017065  0.031153   879.000000\n",
       "accuracy       0.307985  0.307985  0.307985     0.307985\n",
       "macro avg      0.247143  0.336215  0.169745  2367.000000\n",
       "weighted avg   0.242594  0.307985  0.157046  2367.000000"
      ]
     },
     "execution_count": 67,
     "metadata": {},
     "output_type": "execute_result"
    }
   ],
   "source": [
    "report_dict = classification_report(test_df['gold_label'], test_df['predicted_label'], output_dict=True)\n",
    "report_df = pd.DataFrame(report_dict).transpose() \n",
    "report_df.columns.name = 'label'\n",
    "report_df"
   ]
  },
  {
   "cell_type": "code",
   "execution_count": 68,
   "metadata": {
    "execution": {
     "iopub.execute_input": "2025-03-09T19:03:36.334590Z",
     "iopub.status.busy": "2025-03-09T19:03:36.334265Z",
     "iopub.status.idle": "2025-03-09T19:03:36.339436Z",
     "shell.execute_reply": "2025-03-09T19:03:36.338522Z",
     "shell.execute_reply.started": "2025-03-09T19:03:36.334561Z"
    },
    "trusted": true
   },
   "outputs": [],
   "source": [
    "def compute_metrics_by_type(group):\n",
    "    predictions = group['gold_label']\n",
    "    labels = group['predicted_label']\n",
    "    acc = np.mean(predictions == labels)\n",
    "    precision = precision_score(labels, predictions,average=\"weighted\")\n",
    "    recall = recall_score(labels, predictions,average=\"weighted\")\n",
    "    f1 = f1_score(labels, predictions,average=\"weighted\")\n",
    "    return pd.Series({'accuracy': round(acc,2), 'precision': round(precision,2), 'recall': round(recall,2), 'f1_score': round(f1,2)})"
   ]
  },
  {
   "cell_type": "code",
   "execution_count": 69,
   "metadata": {
    "execution": {
     "iopub.execute_input": "2025-03-09T19:03:40.316984Z",
     "iopub.status.busy": "2025-03-09T19:03:40.316696Z",
     "iopub.status.idle": "2025-03-09T19:03:40.418912Z",
     "shell.execute_reply": "2025-03-09T19:03:40.418019Z",
     "shell.execute_reply.started": "2025-03-09T19:03:40.316961Z"
    },
    "trusted": true
   },
   "outputs": [
    {
     "name": "stderr",
     "output_type": "stream",
     "text": [
      "/usr/local/lib/python3.10/dist-packages/sklearn/metrics/_classification.py:1344: UndefinedMetricWarning: Precision is ill-defined and being set to 0.0 in labels with no predicted samples. Use `zero_division` parameter to control this behavior.\n",
      "  _warn_prf(average, modifier, msg_start, len(result))\n",
      "/usr/local/lib/python3.10/dist-packages/sklearn/metrics/_classification.py:1344: UndefinedMetricWarning: Precision is ill-defined and being set to 0.0 in labels with no predicted samples. Use `zero_division` parameter to control this behavior.\n",
      "  _warn_prf(average, modifier, msg_start, len(result))\n",
      "/usr/local/lib/python3.10/dist-packages/sklearn/metrics/_classification.py:1344: UndefinedMetricWarning: Recall is ill-defined and being set to 0.0 in labels with no true samples. Use `zero_division` parameter to control this behavior.\n",
      "  _warn_prf(average, modifier, msg_start, len(result))\n",
      "/usr/local/lib/python3.10/dist-packages/sklearn/metrics/_classification.py:1344: UndefinedMetricWarning: Precision is ill-defined and being set to 0.0 in labels with no predicted samples. Use `zero_division` parameter to control this behavior.\n",
      "  _warn_prf(average, modifier, msg_start, len(result))\n",
      "/usr/local/lib/python3.10/dist-packages/sklearn/metrics/_classification.py:1344: UndefinedMetricWarning: Recall is ill-defined and being set to 0.0 in labels with no true samples. Use `zero_division` parameter to control this behavior.\n",
      "  _warn_prf(average, modifier, msg_start, len(result))\n",
      "/usr/local/lib/python3.10/dist-packages/sklearn/metrics/_classification.py:1344: UndefinedMetricWarning: Precision is ill-defined and being set to 0.0 in labels with no predicted samples. Use `zero_division` parameter to control this behavior.\n",
      "  _warn_prf(average, modifier, msg_start, len(result))\n",
      "/usr/local/lib/python3.10/dist-packages/sklearn/metrics/_classification.py:1344: UndefinedMetricWarning: Recall is ill-defined and being set to 0.0 in labels with no true samples. Use `zero_division` parameter to control this behavior.\n",
      "  _warn_prf(average, modifier, msg_start, len(result))\n",
      "/usr/local/lib/python3.10/dist-packages/sklearn/metrics/_classification.py:1344: UndefinedMetricWarning: Recall is ill-defined and being set to 0.0 in labels with no true samples. Use `zero_division` parameter to control this behavior.\n",
      "  _warn_prf(average, modifier, msg_start, len(result))\n",
      "/usr/local/lib/python3.10/dist-packages/sklearn/metrics/_classification.py:1344: UndefinedMetricWarning: Precision is ill-defined and being set to 0.0 in labels with no predicted samples. Use `zero_division` parameter to control this behavior.\n",
      "  _warn_prf(average, modifier, msg_start, len(result))\n",
      "/usr/local/lib/python3.10/dist-packages/sklearn/metrics/_classification.py:1344: UndefinedMetricWarning: Recall is ill-defined and being set to 0.0 in labels with no true samples. Use `zero_division` parameter to control this behavior.\n",
      "  _warn_prf(average, modifier, msg_start, len(result))\n",
      "/usr/local/lib/python3.10/dist-packages/sklearn/metrics/_classification.py:1344: UndefinedMetricWarning: Recall is ill-defined and being set to 0.0 in labels with no true samples. Use `zero_division` parameter to control this behavior.\n",
      "  _warn_prf(average, modifier, msg_start, len(result))\n",
      "/usr/local/lib/python3.10/dist-packages/sklearn/metrics/_classification.py:1344: UndefinedMetricWarning: Recall is ill-defined and being set to 0.0 in labels with no true samples. Use `zero_division` parameter to control this behavior.\n",
      "  _warn_prf(average, modifier, msg_start, len(result))\n",
      "/usr/local/lib/python3.10/dist-packages/sklearn/metrics/_classification.py:1344: UndefinedMetricWarning: Recall is ill-defined and being set to 0.0 in labels with no true samples. Use `zero_division` parameter to control this behavior.\n",
      "  _warn_prf(average, modifier, msg_start, len(result))\n",
      "<ipython-input-69-5261ab470594>:1: DeprecationWarning: DataFrameGroupBy.apply operated on the grouping columns. This behavior is deprecated, and in a future version of pandas the grouping columns will be excluded from the operation. Either pass `include_groups=False` to exclude the groupings or explicitly select the grouping columns after groupby to silence this warning.\n",
      "  metrics_by_type = test_df.groupby('type').apply(compute_metrics_by_type).reset_index()\n"
     ]
    },
    {
     "data": {
      "text/html": [
       "<div>\n",
       "<style scoped>\n",
       "    .dataframe tbody tr th:only-of-type {\n",
       "        vertical-align: middle;\n",
       "    }\n",
       "\n",
       "    .dataframe tbody tr th {\n",
       "        vertical-align: top;\n",
       "    }\n",
       "\n",
       "    .dataframe thead th {\n",
       "        text-align: right;\n",
       "    }\n",
       "</style>\n",
       "<table border=\"1\" class=\"dataframe\">\n",
       "  <thead>\n",
       "    <tr style=\"text-align: right;\">\n",
       "      <th>ID</th>\n",
       "      <th>type</th>\n",
       "      <th>accuracy</th>\n",
       "      <th>precision</th>\n",
       "      <th>recall</th>\n",
       "      <th>f1_score</th>\n",
       "    </tr>\n",
       "  </thead>\n",
       "  <tbody>\n",
       "    <tr>\n",
       "      <th>0</th>\n",
       "      <td>type1_again</td>\n",
       "      <td>0.00</td>\n",
       "      <td>0.00</td>\n",
       "      <td>0.00</td>\n",
       "      <td>0.00</td>\n",
       "    </tr>\n",
       "    <tr>\n",
       "      <th>1</th>\n",
       "      <td>type1_possessive</td>\n",
       "      <td>0.03</td>\n",
       "      <td>0.01</td>\n",
       "      <td>0.03</td>\n",
       "      <td>0.01</td>\n",
       "    </tr>\n",
       "    <tr>\n",
       "      <th>2</th>\n",
       "      <td>type2_again</td>\n",
       "      <td>0.02</td>\n",
       "      <td>0.00</td>\n",
       "      <td>0.02</td>\n",
       "      <td>0.00</td>\n",
       "    </tr>\n",
       "    <tr>\n",
       "      <th>3</th>\n",
       "      <td>type2_possessive</td>\n",
       "      <td>0.00</td>\n",
       "      <td>0.00</td>\n",
       "      <td>0.00</td>\n",
       "      <td>0.00</td>\n",
       "    </tr>\n",
       "    <tr>\n",
       "      <th>4</th>\n",
       "      <td>type3_again</td>\n",
       "      <td>0.08</td>\n",
       "      <td>0.99</td>\n",
       "      <td>0.08</td>\n",
       "      <td>0.14</td>\n",
       "    </tr>\n",
       "    <tr>\n",
       "      <th>5</th>\n",
       "      <td>type3_possessive</td>\n",
       "      <td>0.00</td>\n",
       "      <td>0.00</td>\n",
       "      <td>0.00</td>\n",
       "      <td>0.00</td>\n",
       "    </tr>\n",
       "    <tr>\n",
       "      <th>6</th>\n",
       "      <td>type4_possessive</td>\n",
       "      <td>0.26</td>\n",
       "      <td>0.93</td>\n",
       "      <td>0.26</td>\n",
       "      <td>0.39</td>\n",
       "    </tr>\n",
       "    <tr>\n",
       "      <th>7</th>\n",
       "      <td>type5_again</td>\n",
       "      <td>0.92</td>\n",
       "      <td>0.96</td>\n",
       "      <td>0.92</td>\n",
       "      <td>0.94</td>\n",
       "    </tr>\n",
       "    <tr>\n",
       "      <th>8</th>\n",
       "      <td>type5_possessive</td>\n",
       "      <td>0.64</td>\n",
       "      <td>0.97</td>\n",
       "      <td>0.64</td>\n",
       "      <td>0.77</td>\n",
       "    </tr>\n",
       "  </tbody>\n",
       "</table>\n",
       "</div>"
      ],
      "text/plain": [
       "ID              type  accuracy  precision  recall  f1_score\n",
       "0        type1_again      0.00       0.00    0.00      0.00\n",
       "1   type1_possessive      0.03       0.01    0.03      0.01\n",
       "2        type2_again      0.02       0.00    0.02      0.00\n",
       "3   type2_possessive      0.00       0.00    0.00      0.00\n",
       "4        type3_again      0.08       0.99    0.08      0.14\n",
       "5   type3_possessive      0.00       0.00    0.00      0.00\n",
       "6   type4_possessive      0.26       0.93    0.26      0.39\n",
       "7        type5_again      0.92       0.96    0.92      0.94\n",
       "8   type5_possessive      0.64       0.97    0.64      0.77"
      ]
     },
     "execution_count": 69,
     "metadata": {},
     "output_type": "execute_result"
    }
   ],
   "source": [
    "metrics_by_type = test_df.groupby('type').apply(compute_metrics_by_type).reset_index()\n",
    "metrics_by_type.columns.name = 'ID'\n",
    "metrics_by_type"
   ]
  }
 ],
 "metadata": {
  "kaggle": {
   "accelerator": "gpu",
   "dataSources": [
    {
     "datasetId": 6570658,
     "sourceId": 10620586,
     "sourceType": "datasetVersion"
    },
    {
     "datasetId": 6576147,
     "sourceId": 10621169,
     "sourceType": "datasetVersion"
    },
    {
     "datasetId": 6586364,
     "sourceId": 10637710,
     "sourceType": "datasetVersion"
    },
    {
     "datasetId": 6568489,
     "sourceId": 10680118,
     "sourceType": "datasetVersion"
    }
   ],
   "dockerImageVersionId": 30840,
   "isGpuEnabled": true,
   "isInternetEnabled": true,
   "language": "python",
   "sourceType": "notebook"
  },
  "kernelspec": {
   "display_name": "Python 3",
   "language": "python",
   "name": "python3"
  },
  "language_info": {
   "codemirror_mode": {
    "name": "ipython",
    "version": 3
   },
   "file_extension": ".py",
   "mimetype": "text/x-python",
   "name": "python",
   "nbconvert_exporter": "python",
   "pygments_lexer": "ipython3",
   "version": "3.10.12"
  }
 },
 "nbformat": 4,
 "nbformat_minor": 4
}
