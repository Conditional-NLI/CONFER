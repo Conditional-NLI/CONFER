{
 "cells": [
  {
   "cell_type": "code",
   "execution_count": 28,
   "metadata": {
    "_cell_guid": "b1076dfc-b9ad-4769-8c92-a6c4dae69d19",
    "_uuid": "8f2839f25d086af736a60e9eeb907d3b93b6e0e5",
    "execution": {
     "iopub.execute_input": "2025-03-11T18:21:31.972543Z",
     "iopub.status.busy": "2025-03-11T18:21:31.972228Z",
     "iopub.status.idle": "2025-03-11T18:21:31.976906Z",
     "shell.execute_reply": "2025-03-11T18:21:31.976122Z",
     "shell.execute_reply.started": "2025-03-11T18:21:31.972516Z"
    },
    "trusted": true
   },
   "outputs": [],
   "source": [
    "import random\n",
    "import numpy as np # linear algebra\n",
    "import pandas as pd # data processing, CSV file I/O (e.g. pd.read_csv)\n",
    "import accelerate\n",
    "from transformers import TrainingArguments, Trainer, AutoTokenizer, AutoModelForSequenceClassification, DataCollatorWithPadding\n",
    "from datasets import load_dataset, Dataset\n",
    "from sklearn.model_selection import train_test_split\n",
    "from sklearn.metrics import confusion_matrix, ConfusionMatrixDisplay, precision_score, recall_score, f1_score\n",
    "from imblearn.metrics import geometric_mean_score"
   ]
  },
  {
   "cell_type": "code",
   "execution_count": 2,
   "metadata": {
    "execution": {
     "iopub.execute_input": "2025-03-11T18:18:50.061118Z",
     "iopub.status.busy": "2025-03-11T18:18:50.060419Z",
     "iopub.status.idle": "2025-03-11T18:18:50.207234Z",
     "shell.execute_reply": "2025-03-11T18:18:50.206110Z",
     "shell.execute_reply.started": "2025-03-11T18:18:50.061085Z"
    },
    "trusted": true
   },
   "outputs": [],
   "source": [
    "!rm -rf /kaggle/working/*"
   ]
  },
  {
   "cell_type": "markdown",
   "metadata": {},
   "source": [
    "# Data"
   ]
  },
  {
   "cell_type": "code",
   "execution_count": 3,
   "metadata": {
    "execution": {
     "iopub.execute_input": "2025-03-11T18:18:50.209255Z",
     "iopub.status.busy": "2025-03-11T18:18:50.208983Z",
     "iopub.status.idle": "2025-03-11T18:18:50.305024Z",
     "shell.execute_reply": "2025-03-11T18:18:50.304121Z",
     "shell.execute_reply.started": "2025-03-11T18:18:50.209230Z"
    },
    "trusted": true
   },
   "outputs": [
    {
     "data": {
      "text/html": [
       "<div>\n",
       "<style scoped>\n",
       "    .dataframe tbody tr th:only-of-type {\n",
       "        vertical-align: middle;\n",
       "    }\n",
       "\n",
       "    .dataframe tbody tr th {\n",
       "        vertical-align: top;\n",
       "    }\n",
       "\n",
       "    .dataframe thead th {\n",
       "        text-align: right;\n",
       "    }\n",
       "</style>\n",
       "<table border=\"1\" class=\"dataframe\">\n",
       "  <thead>\n",
       "    <tr style=\"text-align: right;\">\n",
       "      <th></th>\n",
       "      <th>premise</th>\n",
       "      <th>hypothesis</th>\n",
       "      <th>label</th>\n",
       "    </tr>\n",
       "  </thead>\n",
       "  <tbody>\n",
       "    <tr>\n",
       "      <th>0</th>\n",
       "      <td>All ten guys that proved to boast were divorcing.</td>\n",
       "      <td>There are exactly ten guys that proved to boast.</td>\n",
       "      <td>0</td>\n",
       "    </tr>\n",
       "    <tr>\n",
       "      <th>1</th>\n",
       "      <td>All ten guys that proved to boast were divorcing.</td>\n",
       "      <td>There are exactly eleven guys that proved to b...</td>\n",
       "      <td>2</td>\n",
       "    </tr>\n",
       "    <tr>\n",
       "      <th>2</th>\n",
       "      <td>All ten guys that proved to boast were divorcing.</td>\n",
       "      <td>There are exactly ten senators that proved to ...</td>\n",
       "      <td>1</td>\n",
       "    </tr>\n",
       "    <tr>\n",
       "      <th>3</th>\n",
       "      <td>All ten guys that proved to boast weren't divo...</td>\n",
       "      <td>There are exactly ten guys that proved to boast.</td>\n",
       "      <td>0</td>\n",
       "    </tr>\n",
       "    <tr>\n",
       "      <th>4</th>\n",
       "      <td>All ten guys that proved to boast weren't divo...</td>\n",
       "      <td>There are exactly eleven guys that proved to b...</td>\n",
       "      <td>2</td>\n",
       "    </tr>\n",
       "    <tr>\n",
       "      <th>...</th>\n",
       "      <td>...</td>\n",
       "      <td>...</td>\n",
       "      <td>...</td>\n",
       "    </tr>\n",
       "    <tr>\n",
       "      <th>17095</th>\n",
       "      <td>If the actors do conceal where that mall shock...</td>\n",
       "      <td>Travel shocks Janet.</td>\n",
       "      <td>1</td>\n",
       "    </tr>\n",
       "    <tr>\n",
       "      <th>17096</th>\n",
       "      <td>The actors didn't conceal where that mall shoc...</td>\n",
       "      <td>The actors do conceal where that mall shocks J...</td>\n",
       "      <td>2</td>\n",
       "    </tr>\n",
       "    <tr>\n",
       "      <th>17097</th>\n",
       "      <td>Did the actors conceal where that mall shocks ...</td>\n",
       "      <td>The actors do conceal where that mall shocks J...</td>\n",
       "      <td>1</td>\n",
       "    </tr>\n",
       "    <tr>\n",
       "      <th>17098</th>\n",
       "      <td>The actors might have concealed where that mal...</td>\n",
       "      <td>The actors do conceal where that mall shocks J...</td>\n",
       "      <td>1</td>\n",
       "    </tr>\n",
       "    <tr>\n",
       "      <th>17099</th>\n",
       "      <td>If the actors do conceal where that mall shock...</td>\n",
       "      <td>The actors do conceal where that mall shocks J...</td>\n",
       "      <td>1</td>\n",
       "    </tr>\n",
       "  </tbody>\n",
       "</table>\n",
       "<p>17100 rows × 3 columns</p>\n",
       "</div>"
      ],
      "text/plain": [
       "                                                 premise  \\\n",
       "0      All ten guys that proved to boast were divorcing.   \n",
       "1      All ten guys that proved to boast were divorcing.   \n",
       "2      All ten guys that proved to boast were divorcing.   \n",
       "3      All ten guys that proved to boast weren't divo...   \n",
       "4      All ten guys that proved to boast weren't divo...   \n",
       "...                                                  ...   \n",
       "17095  If the actors do conceal where that mall shock...   \n",
       "17096  The actors didn't conceal where that mall shoc...   \n",
       "17097  Did the actors conceal where that mall shocks ...   \n",
       "17098  The actors might have concealed where that mal...   \n",
       "17099  If the actors do conceal where that mall shock...   \n",
       "\n",
       "                                              hypothesis  label  \n",
       "0       There are exactly ten guys that proved to boast.      0  \n",
       "1      There are exactly eleven guys that proved to b...      2  \n",
       "2      There are exactly ten senators that proved to ...      1  \n",
       "3       There are exactly ten guys that proved to boast.      0  \n",
       "4      There are exactly eleven guys that proved to b...      2  \n",
       "...                                                  ...    ...  \n",
       "17095                               Travel shocks Janet.      1  \n",
       "17096  The actors do conceal where that mall shocks J...      2  \n",
       "17097  The actors do conceal where that mall shocks J...      1  \n",
       "17098  The actors do conceal where that mall shocks J...      1  \n",
       "17099  The actors do conceal where that mall shocks J...      1  \n",
       "\n",
       "[17100 rows x 3 columns]"
      ]
     },
     "execution_count": 3,
     "metadata": {},
     "output_type": "execute_result"
    }
   ],
   "source": [
    "imppres_df = pd.read_csv('/kaggle/input/imppres/imppres.csv',index_col=0)\n",
    "imppres_df = imppres_df.rename({'gold_label':'label'},axis=1)\n",
    "imppres_df"
   ]
  },
  {
   "cell_type": "code",
   "execution_count": 4,
   "metadata": {
    "execution": {
     "iopub.execute_input": "2025-03-11T18:18:50.306523Z",
     "iopub.status.busy": "2025-03-11T18:18:50.306300Z",
     "iopub.status.idle": "2025-03-11T18:18:50.315586Z",
     "shell.execute_reply": "2025-03-11T18:18:50.314802Z",
     "shell.execute_reply.started": "2025-03-11T18:18:50.306505Z"
    },
    "trusted": true
   },
   "outputs": [
    {
     "data": {
      "text/plain": [
       "label\n",
       "1    7200\n",
       "2    5400\n",
       "0    4500\n",
       "Name: count, dtype: int64"
      ]
     },
     "execution_count": 4,
     "metadata": {},
     "output_type": "execute_result"
    }
   ],
   "source": [
    "imppres_df['label'].value_counts()"
   ]
  },
  {
   "cell_type": "code",
   "execution_count": 5,
   "metadata": {
    "execution": {
     "iopub.execute_input": "2025-03-11T18:18:50.316718Z",
     "iopub.status.busy": "2025-03-11T18:18:50.316448Z",
     "iopub.status.idle": "2025-03-11T18:18:50.329668Z",
     "shell.execute_reply": "2025-03-11T18:18:50.328947Z",
     "shell.execute_reply.started": "2025-03-11T18:18:50.316692Z"
    },
    "trusted": true
   },
   "outputs": [],
   "source": [
    "pd.set_option('display.max_colwidth', None)"
   ]
  },
  {
   "cell_type": "code",
   "execution_count": 6,
   "metadata": {
    "execution": {
     "iopub.execute_input": "2025-03-11T18:18:50.330671Z",
     "iopub.status.busy": "2025-03-11T18:18:50.330405Z",
     "iopub.status.idle": "2025-03-11T18:18:50.359281Z",
     "shell.execute_reply": "2025-03-11T18:18:50.358573Z",
     "shell.execute_reply.started": "2025-03-11T18:18:50.330646Z"
    },
    "trusted": true
   },
   "outputs": [],
   "source": [
    "# split into training and validation\n",
    "train_df, val_df = train_test_split(imppres_df, test_size=0.2, random_state=42, stratify=imppres_df['label'])"
   ]
  },
  {
   "cell_type": "code",
   "execution_count": 7,
   "metadata": {
    "execution": {
     "iopub.execute_input": "2025-03-11T18:18:50.360430Z",
     "iopub.status.busy": "2025-03-11T18:18:50.360143Z",
     "iopub.status.idle": "2025-03-11T18:18:50.370900Z",
     "shell.execute_reply": "2025-03-11T18:18:50.370141Z",
     "shell.execute_reply.started": "2025-03-11T18:18:50.360404Z"
    },
    "trusted": true
   },
   "outputs": [
    {
     "data": {
      "text/html": [
       "<div>\n",
       "<style scoped>\n",
       "    .dataframe tbody tr th:only-of-type {\n",
       "        vertical-align: middle;\n",
       "    }\n",
       "\n",
       "    .dataframe tbody tr th {\n",
       "        vertical-align: top;\n",
       "    }\n",
       "\n",
       "    .dataframe thead th {\n",
       "        text-align: right;\n",
       "    }\n",
       "</style>\n",
       "<table border=\"1\" class=\"dataframe\">\n",
       "  <thead>\n",
       "    <tr style=\"text-align: right;\">\n",
       "      <th></th>\n",
       "      <th>premise</th>\n",
       "      <th>hypothesis</th>\n",
       "      <th>label</th>\n",
       "    </tr>\n",
       "  </thead>\n",
       "  <tbody>\n",
       "    <tr>\n",
       "      <th>13429</th>\n",
       "      <td>Brian's skateboard that wasn't disgusting Allison doesn't shock Sheila.</td>\n",
       "      <td>Brian's skateboard that wasn't disgusting Allison does shock Sheila.</td>\n",
       "      <td>2</td>\n",
       "    </tr>\n",
       "    <tr>\n",
       "      <th>14245</th>\n",
       "      <td>If Homer's skateboard that has aggravated men did astound Deborah, it's okay.</td>\n",
       "      <td>That driver has exactly one skateboard that has aggravated men.</td>\n",
       "      <td>1</td>\n",
       "    </tr>\n",
       "    <tr>\n",
       "      <th>3500</th>\n",
       "      <td>Both teachers that prompted Julie's brothers to nod didn't realize who isn't wearing some blouse.</td>\n",
       "      <td>There are dozens of teachers that prompted Julie's brothers to nod.</td>\n",
       "      <td>2</td>\n",
       "    </tr>\n",
       "    <tr>\n",
       "      <th>5190</th>\n",
       "      <td>Walter didn't get a job.</td>\n",
       "      <td>Walter was unemployed.</td>\n",
       "      <td>0</td>\n",
       "    </tr>\n",
       "    <tr>\n",
       "      <th>11164</th>\n",
       "      <td>These senators might only correspond.</td>\n",
       "      <td>Nephews of the pedestrian correspond.</td>\n",
       "      <td>1</td>\n",
       "    </tr>\n",
       "    <tr>\n",
       "      <th>...</th>\n",
       "      <td>...</td>\n",
       "      <td>...</td>\n",
       "      <td>...</td>\n",
       "    </tr>\n",
       "    <tr>\n",
       "      <th>9884</th>\n",
       "      <td>This actress doesn't only stand up.</td>\n",
       "      <td>This actress doesn't stand up.</td>\n",
       "      <td>2</td>\n",
       "    </tr>\n",
       "    <tr>\n",
       "      <th>6170</th>\n",
       "      <td>If it is Monica that did seem to slump over, it's okay</td>\n",
       "      <td>Someone did seem to embrace</td>\n",
       "      <td>1</td>\n",
       "    </tr>\n",
       "    <tr>\n",
       "      <th>14616</th>\n",
       "      <td>Donald's door that disgusts Sonia doesn't waste away.</td>\n",
       "      <td>Katherine has exactly one door that disgusts Sonia.</td>\n",
       "      <td>1</td>\n",
       "    </tr>\n",
       "    <tr>\n",
       "      <th>13855</th>\n",
       "      <td>Elizabeth's mouth that has confused Barbara didn't impress Meredith.</td>\n",
       "      <td>Elizabeth doesn't have exactly one mouth that has confused Barbara.</td>\n",
       "      <td>2</td>\n",
       "    </tr>\n",
       "    <tr>\n",
       "      <th>16670</th>\n",
       "      <td>Does Grace realize how the Lutherans donate?</td>\n",
       "      <td>The Lutherans don't donate.</td>\n",
       "      <td>2</td>\n",
       "    </tr>\n",
       "  </tbody>\n",
       "</table>\n",
       "<p>13680 rows × 3 columns</p>\n",
       "</div>"
      ],
      "text/plain": [
       "                                                                                                 premise  \\\n",
       "13429                            Brian's skateboard that wasn't disgusting Allison doesn't shock Sheila.   \n",
       "14245                      If Homer's skateboard that has aggravated men did astound Deborah, it's okay.   \n",
       "3500   Both teachers that prompted Julie's brothers to nod didn't realize who isn't wearing some blouse.   \n",
       "5190                                                                            Walter didn't get a job.   \n",
       "11164                                                              These senators might only correspond.   \n",
       "...                                                                                                  ...   \n",
       "9884                                                                 This actress doesn't only stand up.   \n",
       "6170                                              If it is Monica that did seem to slump over, it's okay   \n",
       "14616                                              Donald's door that disgusts Sonia doesn't waste away.   \n",
       "13855                               Elizabeth's mouth that has confused Barbara didn't impress Meredith.   \n",
       "16670                                                       Does Grace realize how the Lutherans donate?   \n",
       "\n",
       "                                                                 hypothesis  \\\n",
       "13429  Brian's skateboard that wasn't disgusting Allison does shock Sheila.   \n",
       "14245       That driver has exactly one skateboard that has aggravated men.   \n",
       "3500    There are dozens of teachers that prompted Julie's brothers to nod.   \n",
       "5190                                                 Walter was unemployed.   \n",
       "11164                                 Nephews of the pedestrian correspond.   \n",
       "...                                                                     ...   \n",
       "9884                                         This actress doesn't stand up.   \n",
       "6170                                            Someone did seem to embrace   \n",
       "14616                   Katherine has exactly one door that disgusts Sonia.   \n",
       "13855   Elizabeth doesn't have exactly one mouth that has confused Barbara.   \n",
       "16670                                           The Lutherans don't donate.   \n",
       "\n",
       "       label  \n",
       "13429      2  \n",
       "14245      1  \n",
       "3500       2  \n",
       "5190       0  \n",
       "11164      1  \n",
       "...      ...  \n",
       "9884       2  \n",
       "6170       1  \n",
       "14616      1  \n",
       "13855      2  \n",
       "16670      2  \n",
       "\n",
       "[13680 rows x 3 columns]"
      ]
     },
     "execution_count": 7,
     "metadata": {},
     "output_type": "execute_result"
    }
   ],
   "source": [
    "train_df"
   ]
  },
  {
   "cell_type": "code",
   "execution_count": 8,
   "metadata": {
    "execution": {
     "iopub.execute_input": "2025-03-11T18:18:50.373691Z",
     "iopub.status.busy": "2025-03-11T18:18:50.373423Z",
     "iopub.status.idle": "2025-03-11T18:18:50.394627Z",
     "shell.execute_reply": "2025-03-11T18:18:50.393867Z",
     "shell.execute_reply.started": "2025-03-11T18:18:50.373666Z"
    },
    "trusted": true
   },
   "outputs": [
    {
     "data": {
      "text/html": [
       "<div>\n",
       "<style scoped>\n",
       "    .dataframe tbody tr th:only-of-type {\n",
       "        vertical-align: middle;\n",
       "    }\n",
       "\n",
       "    .dataframe tbody tr th {\n",
       "        vertical-align: top;\n",
       "    }\n",
       "\n",
       "    .dataframe thead th {\n",
       "        text-align: right;\n",
       "    }\n",
       "</style>\n",
       "<table border=\"1\" class=\"dataframe\">\n",
       "  <thead>\n",
       "    <tr style=\"text-align: right;\">\n",
       "      <th></th>\n",
       "      <th>premise</th>\n",
       "      <th>hypothesis</th>\n",
       "      <th>label</th>\n",
       "    </tr>\n",
       "  </thead>\n",
       "  <tbody>\n",
       "    <tr>\n",
       "      <th>14145</th>\n",
       "      <td>Christina's face that has disappeared might aggravate Danielle.</td>\n",
       "      <td>Christina has exactly one face that has disappeared.</td>\n",
       "      <td>0</td>\n",
       "    </tr>\n",
       "    <tr>\n",
       "      <th>3740</th>\n",
       "      <td>Did both girls who have departed boast?</td>\n",
       "      <td>Both girls who have departed did boast.</td>\n",
       "      <td>1</td>\n",
       "    </tr>\n",
       "    <tr>\n",
       "      <th>7060</th>\n",
       "      <td>It might be Tonya who did advise Rodney to lift that steak.</td>\n",
       "      <td>Someone did advise the teachers to astound some hospital</td>\n",
       "      <td>1</td>\n",
       "    </tr>\n",
       "    <tr>\n",
       "      <th>5546</th>\n",
       "      <td>Todd might have woken up.</td>\n",
       "      <td>Todd did wake up.</td>\n",
       "      <td>1</td>\n",
       "    </tr>\n",
       "    <tr>\n",
       "      <th>4547</th>\n",
       "      <td>Had Rodney found Alice?</td>\n",
       "      <td>Alice used to be in an unknown location.</td>\n",
       "      <td>0</td>\n",
       "    </tr>\n",
       "    <tr>\n",
       "      <th>...</th>\n",
       "      <td>...</td>\n",
       "      <td>...</td>\n",
       "      <td>...</td>\n",
       "    </tr>\n",
       "    <tr>\n",
       "      <th>14128</th>\n",
       "      <td>Sally's hat that has irritated Derek might have shrunk.</td>\n",
       "      <td>Winston Churchill has exactly one hat that has irritated Derek.</td>\n",
       "      <td>1</td>\n",
       "    </tr>\n",
       "    <tr>\n",
       "      <th>15685</th>\n",
       "      <td>Rhonda might have learned when that plate shocks that company.</td>\n",
       "      <td>That plate doesn't shock that company.</td>\n",
       "      <td>2</td>\n",
       "    </tr>\n",
       "    <tr>\n",
       "      <th>13839</th>\n",
       "      <td>Does Sally's car that annoys Vincent bore Tina?</td>\n",
       "      <td>Sally doesn't have exactly one car that annoys Vincent.</td>\n",
       "      <td>2</td>\n",
       "    </tr>\n",
       "    <tr>\n",
       "      <th>7319</th>\n",
       "      <td>It isn't Nina that climbed up those slopes.</td>\n",
       "      <td>No one climbed up those slopes</td>\n",
       "      <td>2</td>\n",
       "    </tr>\n",
       "    <tr>\n",
       "      <th>708</th>\n",
       "      <td>All seven dancers who joked around don't return to Clyde.</td>\n",
       "      <td>There are exactly seven women who joked around.</td>\n",
       "      <td>1</td>\n",
       "    </tr>\n",
       "  </tbody>\n",
       "</table>\n",
       "<p>3420 rows × 3 columns</p>\n",
       "</div>"
      ],
      "text/plain": [
       "                                                               premise  \\\n",
       "14145  Christina's face that has disappeared might aggravate Danielle.   \n",
       "3740                           Did both girls who have departed boast?   \n",
       "7060       It might be Tonya who did advise Rodney to lift that steak.   \n",
       "5546                                         Todd might have woken up.   \n",
       "4547                                           Had Rodney found Alice?   \n",
       "...                                                                ...   \n",
       "14128          Sally's hat that has irritated Derek might have shrunk.   \n",
       "15685   Rhonda might have learned when that plate shocks that company.   \n",
       "13839                  Does Sally's car that annoys Vincent bore Tina?   \n",
       "7319                       It isn't Nina that climbed up those slopes.   \n",
       "708          All seven dancers who joked around don't return to Clyde.   \n",
       "\n",
       "                                                            hypothesis  label  \n",
       "14145             Christina has exactly one face that has disappeared.      0  \n",
       "3740                           Both girls who have departed did boast.      1  \n",
       "7060          Someone did advise the teachers to astound some hospital      1  \n",
       "5546                                                 Todd did wake up.      1  \n",
       "4547                          Alice used to be in an unknown location.      0  \n",
       "...                                                                ...    ...  \n",
       "14128  Winston Churchill has exactly one hat that has irritated Derek.      1  \n",
       "15685                           That plate doesn't shock that company.      2  \n",
       "13839          Sally doesn't have exactly one car that annoys Vincent.      2  \n",
       "7319                                    No one climbed up those slopes      2  \n",
       "708                    There are exactly seven women who joked around.      1  \n",
       "\n",
       "[3420 rows x 3 columns]"
      ]
     },
     "execution_count": 8,
     "metadata": {},
     "output_type": "execute_result"
    }
   ],
   "source": [
    "val_df"
   ]
  },
  {
   "cell_type": "code",
   "execution_count": 9,
   "metadata": {
    "execution": {
     "iopub.execute_input": "2025-03-11T18:18:50.395990Z",
     "iopub.status.busy": "2025-03-11T18:18:50.395762Z",
     "iopub.status.idle": "2025-03-11T18:18:50.415983Z",
     "shell.execute_reply": "2025-03-11T18:18:50.415114Z",
     "shell.execute_reply.started": "2025-03-11T18:18:50.395972Z"
    },
    "trusted": true
   },
   "outputs": [
    {
     "data": {
      "text/html": [
       "<div>\n",
       "<style scoped>\n",
       "    .dataframe tbody tr th:only-of-type {\n",
       "        vertical-align: middle;\n",
       "    }\n",
       "\n",
       "    .dataframe tbody tr th {\n",
       "        vertical-align: top;\n",
       "    }\n",
       "\n",
       "    .dataframe thead th {\n",
       "        text-align: right;\n",
       "    }\n",
       "</style>\n",
       "<table border=\"1\" class=\"dataframe\">\n",
       "  <thead>\n",
       "    <tr style=\"text-align: right;\">\n",
       "      <th></th>\n",
       "      <th>premise</th>\n",
       "      <th>hypothesis</th>\n",
       "      <th>label</th>\n",
       "    </tr>\n",
       "  </thead>\n",
       "  <tbody>\n",
       "  </tbody>\n",
       "</table>\n",
       "</div>"
      ],
      "text/plain": [
       "Empty DataFrame\n",
       "Columns: [premise, hypothesis, label]\n",
       "Index: []"
      ]
     },
     "execution_count": 9,
     "metadata": {},
     "output_type": "execute_result"
    }
   ],
   "source": [
    "train_df[train_df['premise'].isna()]"
   ]
  },
  {
   "cell_type": "code",
   "execution_count": 10,
   "metadata": {
    "execution": {
     "iopub.execute_input": "2025-03-11T18:18:50.417162Z",
     "iopub.status.busy": "2025-03-11T18:18:50.416836Z",
     "iopub.status.idle": "2025-03-11T18:18:50.433788Z",
     "shell.execute_reply": "2025-03-11T18:18:50.432974Z",
     "shell.execute_reply.started": "2025-03-11T18:18:50.417134Z"
    },
    "trusted": true
   },
   "outputs": [
    {
     "data": {
      "text/html": [
       "<div>\n",
       "<style scoped>\n",
       "    .dataframe tbody tr th:only-of-type {\n",
       "        vertical-align: middle;\n",
       "    }\n",
       "\n",
       "    .dataframe tbody tr th {\n",
       "        vertical-align: top;\n",
       "    }\n",
       "\n",
       "    .dataframe thead th {\n",
       "        text-align: right;\n",
       "    }\n",
       "</style>\n",
       "<table border=\"1\" class=\"dataframe\">\n",
       "  <thead>\n",
       "    <tr style=\"text-align: right;\">\n",
       "      <th></th>\n",
       "      <th>premise</th>\n",
       "      <th>hypothesis</th>\n",
       "      <th>label</th>\n",
       "    </tr>\n",
       "  </thead>\n",
       "  <tbody>\n",
       "  </tbody>\n",
       "</table>\n",
       "</div>"
      ],
      "text/plain": [
       "Empty DataFrame\n",
       "Columns: [premise, hypothesis, label]\n",
       "Index: []"
      ]
     },
     "execution_count": 10,
     "metadata": {},
     "output_type": "execute_result"
    }
   ],
   "source": [
    "train_df[train_df['hypothesis'].isna()]"
   ]
  },
  {
   "cell_type": "code",
   "execution_count": 11,
   "metadata": {
    "execution": {
     "iopub.execute_input": "2025-03-11T18:18:50.434994Z",
     "iopub.status.busy": "2025-03-11T18:18:50.434695Z",
     "iopub.status.idle": "2025-03-11T18:18:50.474521Z",
     "shell.execute_reply": "2025-03-11T18:18:50.473751Z",
     "shell.execute_reply.started": "2025-03-11T18:18:50.434965Z"
    },
    "trusted": true
   },
   "outputs": [
    {
     "name": "stderr",
     "output_type": "stream",
     "text": [
      "/usr/local/lib/python3.10/dist-packages/pandas/io/formats/format.py:1458: RuntimeWarning: invalid value encountered in greater\n",
      "  has_large_values = (abs_vals > 1e6).any()\n",
      "/usr/local/lib/python3.10/dist-packages/pandas/io/formats/format.py:1459: RuntimeWarning: invalid value encountered in less\n",
      "  has_small_values = ((abs_vals < 10 ** (-self.digits)) & (abs_vals > 0)).any()\n",
      "/usr/local/lib/python3.10/dist-packages/pandas/io/formats/format.py:1459: RuntimeWarning: invalid value encountered in greater\n",
      "  has_small_values = ((abs_vals < 10 ** (-self.digits)) & (abs_vals > 0)).any()\n"
     ]
    },
    {
     "data": {
      "text/html": [
       "<div>\n",
       "<style scoped>\n",
       "    .dataframe tbody tr th:only-of-type {\n",
       "        vertical-align: middle;\n",
       "    }\n",
       "\n",
       "    .dataframe tbody tr th {\n",
       "        vertical-align: top;\n",
       "    }\n",
       "\n",
       "    .dataframe thead th {\n",
       "        text-align: right;\n",
       "    }\n",
       "</style>\n",
       "<table border=\"1\" class=\"dataframe\">\n",
       "  <thead>\n",
       "    <tr style=\"text-align: right;\">\n",
       "      <th></th>\n",
       "      <th>premise</th>\n",
       "      <th>hypothesis</th>\n",
       "      <th>gold_label</th>\n",
       "      <th>type</th>\n",
       "    </tr>\n",
       "  </thead>\n",
       "  <tbody>\n",
       "    <tr>\n",
       "      <th>9616.0</th>\n",
       "      <td>If Charlotte passes her driving test, her parents will buy her a car.</td>\n",
       "      <td>Charlotte has parents.</td>\n",
       "      <td>E</td>\n",
       "      <td>type5_possessive</td>\n",
       "    </tr>\n",
       "    <tr>\n",
       "      <th>9617.0</th>\n",
       "      <td>It's not the case that if Charlotte passes her driving test, her parents will buy her a car.</td>\n",
       "      <td>Charlotte has parents.</td>\n",
       "      <td>E</td>\n",
       "      <td>type5_possessive</td>\n",
       "    </tr>\n",
       "    <tr>\n",
       "      <th>9618.0</th>\n",
       "      <td>Sam believes that if Charlotte passes her driving test, her parents will buy her a car.</td>\n",
       "      <td>Charlotte has parents.</td>\n",
       "      <td>E</td>\n",
       "      <td>type5_possessive</td>\n",
       "    </tr>\n",
       "    <tr>\n",
       "      <th>9619.0</th>\n",
       "      <td>Is it true that if Charlotte passes her driving test, her parents will buy her a car?</td>\n",
       "      <td>Charlotte has parents.</td>\n",
       "      <td>E</td>\n",
       "      <td>type5_possessive</td>\n",
       "    </tr>\n",
       "    <tr>\n",
       "      <th>9628.0</th>\n",
       "      <td>If Lily takes the train to the city, her friend will meet her at the station.</td>\n",
       "      <td>Lily has a friend.</td>\n",
       "      <td>E</td>\n",
       "      <td>type5_possessive</td>\n",
       "    </tr>\n",
       "    <tr>\n",
       "      <th>...</th>\n",
       "      <td>...</td>\n",
       "      <td>...</td>\n",
       "      <td>...</td>\n",
       "      <td>...</td>\n",
       "    </tr>\n",
       "    <tr>\n",
       "      <th>NaN</th>\n",
       "      <td>If Sophia decides to attend the concert, his best friend will drive him there.</td>\n",
       "      <td>Sophia has a close friend.</td>\n",
       "      <td>N</td>\n",
       "      <td>type5_possessive</td>\n",
       "    </tr>\n",
       "    <tr>\n",
       "      <th>NaN</th>\n",
       "      <td>It's not the case that if Sophia decides to attend the concert, his best friend will drive him there.</td>\n",
       "      <td>Sophia has a close friend.</td>\n",
       "      <td>N</td>\n",
       "      <td>type5_possessive</td>\n",
       "    </tr>\n",
       "    <tr>\n",
       "      <th>NaN</th>\n",
       "      <td>Sam believes that if Sophia decides to attend the concert, his best friend will drive him there.</td>\n",
       "      <td>Sophia has a close friend.</td>\n",
       "      <td>N</td>\n",
       "      <td>type5_possessive</td>\n",
       "    </tr>\n",
       "    <tr>\n",
       "      <th>NaN</th>\n",
       "      <td>Is it true that if Sophia decides to attend the concert, his best friend will drive him there?</td>\n",
       "      <td>Sophia has a close friend.</td>\n",
       "      <td>N</td>\n",
       "      <td>type5_possessive</td>\n",
       "    </tr>\n",
       "    <tr>\n",
       "      <th>NaN</th>\n",
       "      <td>If Sophia decides to attend the concert, his best friend will drive him there.</td>\n",
       "      <td>Sophia has decided to attend the concert, but his best friend will not drive him.</td>\n",
       "      <td>C</td>\n",
       "      <td>type5_possessive</td>\n",
       "    </tr>\n",
       "  </tbody>\n",
       "</table>\n",
       "<p>2367 rows × 4 columns</p>\n",
       "</div>"
      ],
      "text/plain": [
       "                                                                                                      premise  \\\n",
       "9616.0                                  If Charlotte passes her driving test, her parents will buy her a car.   \n",
       "9617.0           It's not the case that if Charlotte passes her driving test, her parents will buy her a car.   \n",
       "9618.0                Sam believes that if Charlotte passes her driving test, her parents will buy her a car.   \n",
       "9619.0                  Is it true that if Charlotte passes her driving test, her parents will buy her a car?   \n",
       "9628.0                          If Lily takes the train to the city, her friend will meet her at the station.   \n",
       "...                                                                                                       ...   \n",
       "NaN                            If Sophia decides to attend the concert, his best friend will drive him there.   \n",
       "NaN     It's not the case that if Sophia decides to attend the concert, his best friend will drive him there.   \n",
       "NaN          Sam believes that if Sophia decides to attend the concert, his best friend will drive him there.   \n",
       "NaN            Is it true that if Sophia decides to attend the concert, his best friend will drive him there?   \n",
       "NaN                            If Sophia decides to attend the concert, his best friend will drive him there.   \n",
       "\n",
       "                                                                               hypothesis  \\\n",
       "9616.0                                                             Charlotte has parents.   \n",
       "9617.0                                                             Charlotte has parents.   \n",
       "9618.0                                                             Charlotte has parents.   \n",
       "9619.0                                                             Charlotte has parents.   \n",
       "9628.0                                                                 Lily has a friend.   \n",
       "...                                                                                   ...   \n",
       "NaN                                                            Sophia has a close friend.   \n",
       "NaN                                                            Sophia has a close friend.   \n",
       "NaN                                                            Sophia has a close friend.   \n",
       "NaN                                                            Sophia has a close friend.   \n",
       "NaN     Sophia has decided to attend the concert, but his best friend will not drive him.   \n",
       "\n",
       "       gold_label              type  \n",
       "9616.0          E  type5_possessive  \n",
       "9617.0          E  type5_possessive  \n",
       "9618.0          E  type5_possessive  \n",
       "9619.0          E  type5_possessive  \n",
       "9628.0          E  type5_possessive  \n",
       "...           ...               ...  \n",
       "NaN             N  type5_possessive  \n",
       "NaN             N  type5_possessive  \n",
       "NaN             N  type5_possessive  \n",
       "NaN             N  type5_possessive  \n",
       "NaN             C  type5_possessive  \n",
       "\n",
       "[2367 rows x 4 columns]"
      ]
     },
     "execution_count": 11,
     "metadata": {},
     "output_type": "execute_result"
    }
   ],
   "source": [
    "test_df = pd.read_csv(\"../../data/processed/test.csv\",index_col=0)\n",
    "test_df"
   ]
  },
  {
   "cell_type": "code",
   "execution_count": 12,
   "metadata": {
    "execution": {
     "iopub.execute_input": "2025-03-11T18:18:50.475626Z",
     "iopub.status.busy": "2025-03-11T18:18:50.475346Z",
     "iopub.status.idle": "2025-03-11T18:18:50.484162Z",
     "shell.execute_reply": "2025-03-11T18:18:50.483373Z",
     "shell.execute_reply.started": "2025-03-11T18:18:50.475598Z"
    },
    "trusted": true
   },
   "outputs": [
    {
     "data": {
      "text/html": [
       "<div>\n",
       "<style scoped>\n",
       "    .dataframe tbody tr th:only-of-type {\n",
       "        vertical-align: middle;\n",
       "    }\n",
       "\n",
       "    .dataframe tbody tr th {\n",
       "        vertical-align: top;\n",
       "    }\n",
       "\n",
       "    .dataframe thead th {\n",
       "        text-align: right;\n",
       "    }\n",
       "</style>\n",
       "<table border=\"1\" class=\"dataframe\">\n",
       "  <thead>\n",
       "    <tr style=\"text-align: right;\">\n",
       "      <th></th>\n",
       "      <th>premise</th>\n",
       "      <th>hypothesis</th>\n",
       "      <th>gold_label</th>\n",
       "      <th>type</th>\n",
       "    </tr>\n",
       "  </thead>\n",
       "  <tbody>\n",
       "  </tbody>\n",
       "</table>\n",
       "</div>"
      ],
      "text/plain": [
       "Empty DataFrame\n",
       "Columns: [premise, hypothesis, gold_label, type]\n",
       "Index: []"
      ]
     },
     "execution_count": 12,
     "metadata": {},
     "output_type": "execute_result"
    }
   ],
   "source": [
    "test_df[test_df['premise'].isna()]"
   ]
  },
  {
   "cell_type": "code",
   "execution_count": 13,
   "metadata": {
    "execution": {
     "iopub.execute_input": "2025-03-11T18:18:50.485347Z",
     "iopub.status.busy": "2025-03-11T18:18:50.485059Z",
     "iopub.status.idle": "2025-03-11T18:18:50.502413Z",
     "shell.execute_reply": "2025-03-11T18:18:50.501594Z",
     "shell.execute_reply.started": "2025-03-11T18:18:50.485321Z"
    },
    "trusted": true
   },
   "outputs": [
    {
     "data": {
      "text/html": [
       "<div>\n",
       "<style scoped>\n",
       "    .dataframe tbody tr th:only-of-type {\n",
       "        vertical-align: middle;\n",
       "    }\n",
       "\n",
       "    .dataframe tbody tr th {\n",
       "        vertical-align: top;\n",
       "    }\n",
       "\n",
       "    .dataframe thead th {\n",
       "        text-align: right;\n",
       "    }\n",
       "</style>\n",
       "<table border=\"1\" class=\"dataframe\">\n",
       "  <thead>\n",
       "    <tr style=\"text-align: right;\">\n",
       "      <th></th>\n",
       "      <th>premise</th>\n",
       "      <th>hypothesis</th>\n",
       "      <th>gold_label</th>\n",
       "      <th>type</th>\n",
       "    </tr>\n",
       "  </thead>\n",
       "  <tbody>\n",
       "  </tbody>\n",
       "</table>\n",
       "</div>"
      ],
      "text/plain": [
       "Empty DataFrame\n",
       "Columns: [premise, hypothesis, gold_label, type]\n",
       "Index: []"
      ]
     },
     "execution_count": 13,
     "metadata": {},
     "output_type": "execute_result"
    }
   ],
   "source": [
    "test_df[test_df['hypothesis'].isna()]"
   ]
  },
  {
   "cell_type": "code",
   "execution_count": 14,
   "metadata": {
    "execution": {
     "iopub.execute_input": "2025-03-11T18:18:50.503427Z",
     "iopub.status.busy": "2025-03-11T18:18:50.503200Z",
     "iopub.status.idle": "2025-03-11T18:18:50.530352Z",
     "shell.execute_reply": "2025-03-11T18:18:50.529585Z",
     "shell.execute_reply.started": "2025-03-11T18:18:50.503409Z"
    },
    "trusted": true
   },
   "outputs": [
    {
     "name": "stderr",
     "output_type": "stream",
     "text": [
      "/usr/local/lib/python3.10/dist-packages/pandas/io/formats/format.py:1458: RuntimeWarning: invalid value encountered in greater\n",
      "  has_large_values = (abs_vals > 1e6).any()\n",
      "/usr/local/lib/python3.10/dist-packages/pandas/io/formats/format.py:1459: RuntimeWarning: invalid value encountered in less\n",
      "  has_small_values = ((abs_vals < 10 ** (-self.digits)) & (abs_vals > 0)).any()\n",
      "/usr/local/lib/python3.10/dist-packages/pandas/io/formats/format.py:1459: RuntimeWarning: invalid value encountered in greater\n",
      "  has_small_values = ((abs_vals < 10 ** (-self.digits)) & (abs_vals > 0)).any()\n"
     ]
    },
    {
     "data": {
      "text/html": [
       "<div>\n",
       "<style scoped>\n",
       "    .dataframe tbody tr th:only-of-type {\n",
       "        vertical-align: middle;\n",
       "    }\n",
       "\n",
       "    .dataframe tbody tr th {\n",
       "        vertical-align: top;\n",
       "    }\n",
       "\n",
       "    .dataframe thead th {\n",
       "        text-align: right;\n",
       "    }\n",
       "</style>\n",
       "<table border=\"1\" class=\"dataframe\">\n",
       "  <thead>\n",
       "    <tr style=\"text-align: right;\">\n",
       "      <th></th>\n",
       "      <th>premise</th>\n",
       "      <th>hypothesis</th>\n",
       "      <th>type</th>\n",
       "      <th>label</th>\n",
       "    </tr>\n",
       "  </thead>\n",
       "  <tbody>\n",
       "    <tr>\n",
       "      <th>9616.0</th>\n",
       "      <td>If Charlotte passes her driving test, her parents will buy her a car.</td>\n",
       "      <td>Charlotte has parents.</td>\n",
       "      <td>type5_possessive</td>\n",
       "      <td>ENTAILMENT</td>\n",
       "    </tr>\n",
       "    <tr>\n",
       "      <th>9617.0</th>\n",
       "      <td>It's not the case that if Charlotte passes her driving test, her parents will buy her a car.</td>\n",
       "      <td>Charlotte has parents.</td>\n",
       "      <td>type5_possessive</td>\n",
       "      <td>ENTAILMENT</td>\n",
       "    </tr>\n",
       "    <tr>\n",
       "      <th>9618.0</th>\n",
       "      <td>Sam believes that if Charlotte passes her driving test, her parents will buy her a car.</td>\n",
       "      <td>Charlotte has parents.</td>\n",
       "      <td>type5_possessive</td>\n",
       "      <td>ENTAILMENT</td>\n",
       "    </tr>\n",
       "    <tr>\n",
       "      <th>9619.0</th>\n",
       "      <td>Is it true that if Charlotte passes her driving test, her parents will buy her a car?</td>\n",
       "      <td>Charlotte has parents.</td>\n",
       "      <td>type5_possessive</td>\n",
       "      <td>ENTAILMENT</td>\n",
       "    </tr>\n",
       "    <tr>\n",
       "      <th>9628.0</th>\n",
       "      <td>If Lily takes the train to the city, her friend will meet her at the station.</td>\n",
       "      <td>Lily has a friend.</td>\n",
       "      <td>type5_possessive</td>\n",
       "      <td>ENTAILMENT</td>\n",
       "    </tr>\n",
       "    <tr>\n",
       "      <th>...</th>\n",
       "      <td>...</td>\n",
       "      <td>...</td>\n",
       "      <td>...</td>\n",
       "      <td>...</td>\n",
       "    </tr>\n",
       "    <tr>\n",
       "      <th>NaN</th>\n",
       "      <td>If Sophia decides to attend the concert, his best friend will drive him there.</td>\n",
       "      <td>Sophia has a close friend.</td>\n",
       "      <td>type5_possessive</td>\n",
       "      <td>NEUTRAL</td>\n",
       "    </tr>\n",
       "    <tr>\n",
       "      <th>NaN</th>\n",
       "      <td>It's not the case that if Sophia decides to attend the concert, his best friend will drive him there.</td>\n",
       "      <td>Sophia has a close friend.</td>\n",
       "      <td>type5_possessive</td>\n",
       "      <td>NEUTRAL</td>\n",
       "    </tr>\n",
       "    <tr>\n",
       "      <th>NaN</th>\n",
       "      <td>Sam believes that if Sophia decides to attend the concert, his best friend will drive him there.</td>\n",
       "      <td>Sophia has a close friend.</td>\n",
       "      <td>type5_possessive</td>\n",
       "      <td>NEUTRAL</td>\n",
       "    </tr>\n",
       "    <tr>\n",
       "      <th>NaN</th>\n",
       "      <td>Is it true that if Sophia decides to attend the concert, his best friend will drive him there?</td>\n",
       "      <td>Sophia has a close friend.</td>\n",
       "      <td>type5_possessive</td>\n",
       "      <td>NEUTRAL</td>\n",
       "    </tr>\n",
       "    <tr>\n",
       "      <th>NaN</th>\n",
       "      <td>If Sophia decides to attend the concert, his best friend will drive him there.</td>\n",
       "      <td>Sophia has decided to attend the concert, but his best friend will not drive him.</td>\n",
       "      <td>type5_possessive</td>\n",
       "      <td>CONTRADICTION</td>\n",
       "    </tr>\n",
       "  </tbody>\n",
       "</table>\n",
       "<p>2367 rows × 4 columns</p>\n",
       "</div>"
      ],
      "text/plain": [
       "                                                                                                      premise  \\\n",
       "9616.0                                  If Charlotte passes her driving test, her parents will buy her a car.   \n",
       "9617.0           It's not the case that if Charlotte passes her driving test, her parents will buy her a car.   \n",
       "9618.0                Sam believes that if Charlotte passes her driving test, her parents will buy her a car.   \n",
       "9619.0                  Is it true that if Charlotte passes her driving test, her parents will buy her a car?   \n",
       "9628.0                          If Lily takes the train to the city, her friend will meet her at the station.   \n",
       "...                                                                                                       ...   \n",
       "NaN                            If Sophia decides to attend the concert, his best friend will drive him there.   \n",
       "NaN     It's not the case that if Sophia decides to attend the concert, his best friend will drive him there.   \n",
       "NaN          Sam believes that if Sophia decides to attend the concert, his best friend will drive him there.   \n",
       "NaN            Is it true that if Sophia decides to attend the concert, his best friend will drive him there?   \n",
       "NaN                            If Sophia decides to attend the concert, his best friend will drive him there.   \n",
       "\n",
       "                                                                               hypothesis  \\\n",
       "9616.0                                                             Charlotte has parents.   \n",
       "9617.0                                                             Charlotte has parents.   \n",
       "9618.0                                                             Charlotte has parents.   \n",
       "9619.0                                                             Charlotte has parents.   \n",
       "9628.0                                                                 Lily has a friend.   \n",
       "...                                                                                   ...   \n",
       "NaN                                                            Sophia has a close friend.   \n",
       "NaN                                                            Sophia has a close friend.   \n",
       "NaN                                                            Sophia has a close friend.   \n",
       "NaN                                                            Sophia has a close friend.   \n",
       "NaN     Sophia has decided to attend the concert, but his best friend will not drive him.   \n",
       "\n",
       "                    type          label  \n",
       "9616.0  type5_possessive     ENTAILMENT  \n",
       "9617.0  type5_possessive     ENTAILMENT  \n",
       "9618.0  type5_possessive     ENTAILMENT  \n",
       "9619.0  type5_possessive     ENTAILMENT  \n",
       "9628.0  type5_possessive     ENTAILMENT  \n",
       "...                  ...            ...  \n",
       "NaN     type5_possessive        NEUTRAL  \n",
       "NaN     type5_possessive        NEUTRAL  \n",
       "NaN     type5_possessive        NEUTRAL  \n",
       "NaN     type5_possessive        NEUTRAL  \n",
       "NaN     type5_possessive  CONTRADICTION  \n",
       "\n",
       "[2367 rows x 4 columns]"
      ]
     },
     "execution_count": 14,
     "metadata": {},
     "output_type": "execute_result"
    }
   ],
   "source": [
    "test_df['label'] = test_df['gold_label'].map({'E':'ENTAILMENT','N':'NEUTRAL','C':'CONTRADICTION'})\n",
    "test_df = test_df[['premise','hypothesis','type','label']]\n",
    "test_df"
   ]
  },
  {
   "cell_type": "code",
   "execution_count": 15,
   "metadata": {
    "execution": {
     "iopub.execute_input": "2025-03-11T18:18:50.531466Z",
     "iopub.status.busy": "2025-03-11T18:18:50.531213Z",
     "iopub.status.idle": "2025-03-11T18:18:50.570404Z",
     "shell.execute_reply": "2025-03-11T18:18:50.569599Z",
     "shell.execute_reply.started": "2025-03-11T18:18:50.531448Z"
    },
    "trusted": true
   },
   "outputs": [
    {
     "data": {
      "text/plain": [
       "Dataset({\n",
       "    features: ['premise', 'hypothesis', 'label', '__index_level_0__'],\n",
       "    num_rows: 13680\n",
       "})"
      ]
     },
     "execution_count": 15,
     "metadata": {},
     "output_type": "execute_result"
    }
   ],
   "source": [
    "train_ds = Dataset.from_pandas(train_df)\n",
    "train_ds"
   ]
  },
  {
   "cell_type": "code",
   "execution_count": 16,
   "metadata": {
    "execution": {
     "iopub.execute_input": "2025-03-11T18:18:50.571507Z",
     "iopub.status.busy": "2025-03-11T18:18:50.571201Z",
     "iopub.status.idle": "2025-03-11T18:18:50.587832Z",
     "shell.execute_reply": "2025-03-11T18:18:50.587002Z",
     "shell.execute_reply.started": "2025-03-11T18:18:50.571476Z"
    },
    "trusted": true
   },
   "outputs": [
    {
     "data": {
      "text/plain": [
       "Dataset({\n",
       "    features: ['premise', 'hypothesis', 'label', '__index_level_0__'],\n",
       "    num_rows: 3420\n",
       "})"
      ]
     },
     "execution_count": 16,
     "metadata": {},
     "output_type": "execute_result"
    }
   ],
   "source": [
    "val_ds = Dataset.from_pandas(val_df)\n",
    "val_ds"
   ]
  },
  {
   "cell_type": "code",
   "execution_count": 17,
   "metadata": {
    "execution": {
     "iopub.execute_input": "2025-03-11T18:18:50.589085Z",
     "iopub.status.busy": "2025-03-11T18:18:50.588719Z",
     "iopub.status.idle": "2025-03-11T18:18:50.603647Z",
     "shell.execute_reply": "2025-03-11T18:18:50.602813Z",
     "shell.execute_reply.started": "2025-03-11T18:18:50.589054Z"
    },
    "trusted": true
   },
   "outputs": [
    {
     "data": {
      "text/plain": [
       "Dataset({\n",
       "    features: ['premise', 'hypothesis', 'type', 'label', '__index_level_0__'],\n",
       "    num_rows: 2367\n",
       "})"
      ]
     },
     "execution_count": 17,
     "metadata": {},
     "output_type": "execute_result"
    }
   ],
   "source": [
    "test_ds = Dataset.from_pandas(test_df)\n",
    "test_ds"
   ]
  },
  {
   "cell_type": "markdown",
   "metadata": {},
   "source": [
    "# Models"
   ]
  },
  {
   "cell_type": "code",
   "execution_count": 21,
   "metadata": {
    "execution": {
     "iopub.execute_input": "2025-03-11T18:19:27.724382Z",
     "iopub.status.busy": "2025-03-11T18:19:27.724055Z",
     "iopub.status.idle": "2025-03-11T18:19:27.728866Z",
     "shell.execute_reply": "2025-03-11T18:19:27.727981Z",
     "shell.execute_reply.started": "2025-03-11T18:19:27.724361Z"
    },
    "trusted": true
   },
   "outputs": [],
   "source": [
    "def preprocess_function(examples,tokenizer):\n",
    "    try: \n",
    "        return tokenizer(examples[\"premise\"], examples['hypothesis'], padding=\"max_length\", truncation=True)\n",
    "    except TypeError as e:\n",
    "        print(f\"Error processing examples: {examples['premise']}\")\n",
    "        raise e"
   ]
  },
  {
   "cell_type": "code",
   "execution_count": 22,
   "metadata": {
    "execution": {
     "iopub.execute_input": "2025-03-11T18:19:30.818562Z",
     "iopub.status.busy": "2025-03-11T18:19:30.818277Z",
     "iopub.status.idle": "2025-03-11T18:19:30.823896Z",
     "shell.execute_reply": "2025-03-11T18:19:30.823069Z",
     "shell.execute_reply.started": "2025-03-11T18:19:30.818542Z"
    },
    "trusted": true
   },
   "outputs": [],
   "source": [
    "def compute_metrics(eval_pred):\n",
    "    logits, labels = eval_pred\n",
    "    predictions = np.argmax(logits, axis=-1)\n",
    "    acc = np.mean(predictions == labels)\n",
    "    precision = precision_score(labels, predictions, average='weighted')\n",
    "    recall = recall_score(labels, predictions, average='weighted')\n",
    "    f1 = f1_score(labels, predictions, average='weighted')\n",
    "    gmean = geometric_mean_score(labels, predictions, average='weighted')\n",
    "    return {'accuracy': acc, 'precision': precision, 'recall': recall, 'f1_score': f1, 'gmean': gmean}"
   ]
  },
  {
   "cell_type": "code",
   "execution_count": 23,
   "metadata": {
    "execution": {
     "iopub.execute_input": "2025-03-11T18:19:34.320095Z",
     "iopub.status.busy": "2025-03-11T18:19:34.319626Z",
     "iopub.status.idle": "2025-03-11T18:19:34.326020Z",
     "shell.execute_reply": "2025-03-11T18:19:34.325089Z",
     "shell.execute_reply.started": "2025-03-11T18:19:34.320055Z"
    },
    "trusted": true
   },
   "outputs": [],
   "source": [
    "def compute_metrics_by_type(group):\n",
    "    predictions = group['expected_label']\n",
    "    labels = group['predicted_label']\n",
    "    acc = np.mean(predictions == labels)\n",
    "    precision = precision_score(labels, predictions,average=\"weighted\")\n",
    "    recall = recall_score(labels, predictions,average=\"weighted\")\n",
    "    f1 = f1_score(labels, predictions,average=\"weighted\")\n",
    "    return pd.Series({'accuracy': round(acc,2), 'precision': round(precision,2), 'recall': round(recall,2), 'f1_score': round(f1,2)})"
   ]
  },
  {
   "cell_type": "markdown",
   "metadata": {},
   "source": [
    "## microsoft/deberta-large-mnli"
   ]
  },
  {
   "cell_type": "code",
   "execution_count": 45,
   "metadata": {
    "execution": {
     "iopub.execute_input": "2025-03-11T18:36:25.229772Z",
     "iopub.status.busy": "2025-03-11T18:36:25.229468Z",
     "iopub.status.idle": "2025-03-11T18:36:25.482896Z",
     "shell.execute_reply": "2025-03-11T18:36:25.481970Z",
     "shell.execute_reply.started": "2025-03-11T18:36:25.229750Z"
    },
    "trusted": true
   },
   "outputs": [],
   "source": [
    "checkpoint = \"microsoft/deberta-large-mnli\"\n",
    "tokenizer = AutoTokenizer.from_pretrained(checkpoint)"
   ]
  },
  {
   "cell_type": "code",
   "execution_count": 46,
   "metadata": {
    "execution": {
     "iopub.execute_input": "2025-03-11T18:36:29.513800Z",
     "iopub.status.busy": "2025-03-11T18:36:29.513476Z",
     "iopub.status.idle": "2025-03-11T18:36:31.812737Z",
     "shell.execute_reply": "2025-03-11T18:36:31.811817Z",
     "shell.execute_reply.started": "2025-03-11T18:36:29.513776Z"
    },
    "trusted": true
   },
   "outputs": [
    {
     "name": "stderr",
     "output_type": "stream",
     "text": [
      "Some weights of the model checkpoint at microsoft/deberta-large-mnli were not used when initializing DebertaForSequenceClassification: ['config']\n",
      "- This IS expected if you are initializing DebertaForSequenceClassification from the checkpoint of a model trained on another task or with another architecture (e.g. initializing a BertForSequenceClassification model from a BertForPreTraining model).\n",
      "- This IS NOT expected if you are initializing DebertaForSequenceClassification from the checkpoint of a model that you expect to be exactly identical (initializing a BertForSequenceClassification model from a BertForSequenceClassification model).\n"
     ]
    }
   ],
   "source": [
    "model = AutoModelForSequenceClassification.from_pretrained(checkpoint, num_labels=3)"
   ]
  },
  {
   "cell_type": "code",
   "execution_count": 47,
   "metadata": {
    "execution": {
     "iopub.execute_input": "2025-03-11T18:36:37.401623Z",
     "iopub.status.busy": "2025-03-11T18:36:37.401250Z",
     "iopub.status.idle": "2025-03-11T18:36:39.670386Z",
     "shell.execute_reply": "2025-03-11T18:36:39.669712Z",
     "shell.execute_reply.started": "2025-03-11T18:36:37.401587Z"
    },
    "trusted": true
   },
   "outputs": [
    {
     "data": {
      "application/vnd.jupyter.widget-view+json": {
       "model_id": "cfdddecf03d84983971d66c421e6f260",
       "version_major": 2,
       "version_minor": 0
      },
      "text/plain": [
       "Map:   0%|          | 0/13680 [00:00<?, ? examples/s]"
      ]
     },
     "metadata": {},
     "output_type": "display_data"
    },
    {
     "name": "stderr",
     "output_type": "stream",
     "text": [
      "Asking to pad to max_length but no maximum length is provided and the model has no predefined maximum length. Default to no padding.\n",
      "Asking to truncate to max_length but no maximum length is provided and the model has no predefined maximum length. Default to no truncation.\n"
     ]
    },
    {
     "data": {
      "application/vnd.jupyter.widget-view+json": {
       "model_id": "63a80c2a65be4f67907b217d00f13796",
       "version_major": 2,
       "version_minor": 0
      },
      "text/plain": [
       "Map:   0%|          | 0/3420 [00:00<?, ? examples/s]"
      ]
     },
     "metadata": {},
     "output_type": "display_data"
    },
    {
     "data": {
      "application/vnd.jupyter.widget-view+json": {
       "model_id": "3190116d88cb496c89e92b40ec9e1cc8",
       "version_major": 2,
       "version_minor": 0
      },
      "text/plain": [
       "Map:   0%|          | 0/2367 [00:00<?, ? examples/s]"
      ]
     },
     "metadata": {},
     "output_type": "display_data"
    }
   ],
   "source": [
    "tokenized_train_ds = train_ds.map(lambda x: preprocess_function(x, tokenizer), batched=True)\n",
    "tokenized_val_ds = val_ds.map(lambda x: preprocess_function(x, tokenizer), batched=True)\n",
    "tokenized_test_ds = test_ds.map(lambda x: preprocess_function(x, tokenizer), batched=True)\n",
    "data_collator = DataCollatorWithPadding(tokenizer=tokenizer)"
   ]
  },
  {
   "cell_type": "code",
   "execution_count": 46,
   "metadata": {
    "execution": {
     "iopub.execute_input": "2025-03-10T19:29:32.140176Z",
     "iopub.status.busy": "2025-03-10T19:29:32.139890Z",
     "iopub.status.idle": "2025-03-10T19:29:32.145344Z",
     "shell.execute_reply": "2025-03-10T19:29:32.144705Z",
     "shell.execute_reply.started": "2025-03-10T19:29:32.140156Z"
    },
    "trusted": true
   },
   "outputs": [
    {
     "data": {
      "text/plain": [
       "13680"
      ]
     },
     "execution_count": 46,
     "metadata": {},
     "output_type": "execute_result"
    }
   ],
   "source": [
    "len(train_ds)"
   ]
  },
  {
   "cell_type": "code",
   "execution_count": 48,
   "metadata": {
    "execution": {
     "iopub.execute_input": "2025-03-11T18:36:53.930925Z",
     "iopub.status.busy": "2025-03-11T18:36:53.930574Z",
     "iopub.status.idle": "2025-03-11T18:36:54.378593Z",
     "shell.execute_reply": "2025-03-11T18:36:54.377945Z",
     "shell.execute_reply.started": "2025-03-11T18:36:53.930895Z"
    },
    "trusted": true
   },
   "outputs": [
    {
     "name": "stderr",
     "output_type": "stream",
     "text": [
      "/usr/local/lib/python3.10/dist-packages/transformers/training_args.py:1575: FutureWarning: `evaluation_strategy` is deprecated and will be removed in version 4.46 of 🤗 Transformers. Use `eval_strategy` instead\n",
      "  warnings.warn(\n",
      "<ipython-input-48-42e70bd8ecdc>:14: FutureWarning: `tokenizer` is deprecated and will be removed in version 5.0.0 for `Trainer.__init__`. Use `processing_class` instead.\n",
      "  trainer = Trainer(\n"
     ]
    }
   ],
   "source": [
    "random_seed = random.randint(0, 2**32 - 1)\n",
    "training_args = TrainingArguments(\n",
    "    output_dir=\"./results\",\n",
    "    num_train_epochs=1, # Set the number of epochs to 1\n",
    "    logging_steps=100,\n",
    "    evaluation_strategy=\"steps\",\n",
    "    eval_steps=500,\n",
    "    # evaluation_strategy=\"no\",\n",
    "    save_strategy=\"epoch\",  # Save the model at the end of each epoch\n",
    "    # load_best_model_at_end=True,  # Load the best model at the end of training\n",
    "    report_to=\"none\",\n",
    "    seed=random_seed\n",
    ")\n",
    "trainer = Trainer(\n",
    "    model,\n",
    "    args=training_args,\n",
    "    train_dataset=tokenized_train_ds,\n",
    "    eval_dataset=tokenized_val_ds,\n",
    "    compute_metrics=compute_metrics,\n",
    "    data_collator=data_collator,\n",
    "    tokenizer=tokenizer,\n",
    "    callbacks=[]\n",
    ")"
   ]
  },
  {
   "cell_type": "code",
   "execution_count": 49,
   "metadata": {
    "execution": {
     "iopub.execute_input": "2025-03-11T18:37:02.969348Z",
     "iopub.status.busy": "2025-03-11T18:37:02.969050Z",
     "iopub.status.idle": "2025-03-11T18:44:28.695672Z",
     "shell.execute_reply": "2025-03-11T18:44:28.694716Z",
     "shell.execute_reply.started": "2025-03-11T18:37:02.969329Z"
    },
    "trusted": true
   },
   "outputs": [
    {
     "data": {
      "text/html": [
       "\n",
       "    <div>\n",
       "      \n",
       "      <progress value='1710' max='1710' style='width:300px; height:20px; vertical-align: middle;'></progress>\n",
       "      [1710/1710 07:18, Epoch 1/1]\n",
       "    </div>\n",
       "    <table border=\"1\" class=\"dataframe\">\n",
       "  <thead>\n",
       " <tr style=\"text-align: left;\">\n",
       "      <th>Step</th>\n",
       "      <th>Training Loss</th>\n",
       "      <th>Validation Loss</th>\n",
       "      <th>Accuracy</th>\n",
       "      <th>Precision</th>\n",
       "      <th>Recall</th>\n",
       "      <th>F1 Score</th>\n",
       "      <th>Gmean</th>\n",
       "    </tr>\n",
       "  </thead>\n",
       "  <tbody>\n",
       "    <tr>\n",
       "      <td>500</td>\n",
       "      <td>0.112800</td>\n",
       "      <td>0.059513</td>\n",
       "      <td>0.990936</td>\n",
       "      <td>0.991051</td>\n",
       "      <td>0.990936</td>\n",
       "      <td>0.990943</td>\n",
       "      <td>0.993678</td>\n",
       "    </tr>\n",
       "    <tr>\n",
       "      <td>1000</td>\n",
       "      <td>0.049000</td>\n",
       "      <td>0.026206</td>\n",
       "      <td>0.995614</td>\n",
       "      <td>0.995633</td>\n",
       "      <td>0.995614</td>\n",
       "      <td>0.995616</td>\n",
       "      <td>0.996908</td>\n",
       "    </tr>\n",
       "    <tr>\n",
       "      <td>1500</td>\n",
       "      <td>0.025100</td>\n",
       "      <td>0.022780</td>\n",
       "      <td>0.996491</td>\n",
       "      <td>0.996537</td>\n",
       "      <td>0.996491</td>\n",
       "      <td>0.996496</td>\n",
       "      <td>0.997618</td>\n",
       "    </tr>\n",
       "  </tbody>\n",
       "</table><p>"
      ],
      "text/plain": [
       "<IPython.core.display.HTML object>"
      ]
     },
     "metadata": {},
     "output_type": "display_data"
    }
   ],
   "source": [
    "trainer.train() \n",
    "trainer.save_model(\"deberta\")"
   ]
  },
  {
   "cell_type": "code",
   "execution_count": 30,
   "metadata": {
    "execution": {
     "iopub.execute_input": "2025-03-11T18:21:46.845349Z",
     "iopub.status.busy": "2025-03-11T18:21:46.845049Z",
     "iopub.status.idle": "2025-03-11T18:29:11.572804Z",
     "shell.execute_reply": "2025-03-11T18:29:11.571870Z",
     "shell.execute_reply.started": "2025-03-11T18:21:46.845328Z"
    },
    "trusted": true
   },
   "outputs": [
    {
     "data": {
      "text/html": [
       "\n",
       "    <div>\n",
       "      \n",
       "      <progress value='1710' max='1710' style='width:300px; height:20px; vertical-align: middle;'></progress>\n",
       "      [1710/1710 07:16, Epoch 1/1]\n",
       "    </div>\n",
       "    <table border=\"1\" class=\"dataframe\">\n",
       "  <thead>\n",
       " <tr style=\"text-align: left;\">\n",
       "      <th>Step</th>\n",
       "      <th>Training Loss</th>\n",
       "      <th>Validation Loss</th>\n",
       "      <th>Accuracy</th>\n",
       "      <th>Precision</th>\n",
       "      <th>Recall</th>\n",
       "      <th>F1 Score</th>\n",
       "      <th>Gmean</th>\n",
       "    </tr>\n",
       "  </thead>\n",
       "  <tbody>\n",
       "    <tr>\n",
       "      <td>500</td>\n",
       "      <td>0.134900</td>\n",
       "      <td>0.178944</td>\n",
       "      <td>0.966374</td>\n",
       "      <td>0.968590</td>\n",
       "      <td>0.966374</td>\n",
       "      <td>0.966674</td>\n",
       "      <td>0.976206</td>\n",
       "    </tr>\n",
       "    <tr>\n",
       "      <td>1000</td>\n",
       "      <td>0.079300</td>\n",
       "      <td>0.043068</td>\n",
       "      <td>0.994152</td>\n",
       "      <td>0.994189</td>\n",
       "      <td>0.994152</td>\n",
       "      <td>0.994160</td>\n",
       "      <td>0.995900</td>\n",
       "    </tr>\n",
       "    <tr>\n",
       "      <td>1500</td>\n",
       "      <td>0.050700</td>\n",
       "      <td>0.033769</td>\n",
       "      <td>0.995029</td>\n",
       "      <td>0.995038</td>\n",
       "      <td>0.995029</td>\n",
       "      <td>0.995032</td>\n",
       "      <td>0.996403</td>\n",
       "    </tr>\n",
       "  </tbody>\n",
       "</table><p>"
      ],
      "text/plain": [
       "<IPython.core.display.HTML object>"
      ]
     },
     "metadata": {},
     "output_type": "display_data"
    }
   ],
   "source": [
    "trainer.train() \n",
    "trainer.save_model(\"deberta\")"
   ]
  },
  {
   "cell_type": "code",
   "execution_count": 25,
   "metadata": {
    "execution": {
     "iopub.execute_input": "2025-03-10T19:53:04.623396Z",
     "iopub.status.busy": "2025-03-10T19:53:04.622984Z",
     "iopub.status.idle": "2025-03-10T20:00:35.093609Z",
     "shell.execute_reply": "2025-03-10T20:00:35.092921Z",
     "shell.execute_reply.started": "2025-03-10T19:53:04.623364Z"
    },
    "trusted": true
   },
   "outputs": [
    {
     "data": {
      "text/html": [
       "\n",
       "    <div>\n",
       "      \n",
       "      <progress value='1710' max='1710' style='width:300px; height:20px; vertical-align: middle;'></progress>\n",
       "      [1710/1710 07:21, Epoch 1/1]\n",
       "    </div>\n",
       "    <table border=\"1\" class=\"dataframe\">\n",
       "  <thead>\n",
       " <tr style=\"text-align: left;\">\n",
       "      <th>Step</th>\n",
       "      <th>Training Loss</th>\n",
       "      <th>Validation Loss</th>\n",
       "      <th>Accuracy</th>\n",
       "      <th>Precision</th>\n",
       "      <th>Recall</th>\n",
       "      <th>F1 Score</th>\n",
       "      <th>Gmean</th>\n",
       "    </tr>\n",
       "  </thead>\n",
       "  <tbody>\n",
       "    <tr>\n",
       "      <td>500</td>\n",
       "      <td>0.175500</td>\n",
       "      <td>0.080836</td>\n",
       "      <td>0.975731</td>\n",
       "      <td>0.977398</td>\n",
       "      <td>0.975731</td>\n",
       "      <td>0.975949</td>\n",
       "      <td>0.983387</td>\n",
       "    </tr>\n",
       "    <tr>\n",
       "      <td>1000</td>\n",
       "      <td>0.072600</td>\n",
       "      <td>0.038992</td>\n",
       "      <td>0.993275</td>\n",
       "      <td>0.993331</td>\n",
       "      <td>0.993275</td>\n",
       "      <td>0.993286</td>\n",
       "      <td>0.995265</td>\n",
       "    </tr>\n",
       "    <tr>\n",
       "      <td>1500</td>\n",
       "      <td>0.029700</td>\n",
       "      <td>0.029937</td>\n",
       "      <td>0.995614</td>\n",
       "      <td>0.995618</td>\n",
       "      <td>0.995614</td>\n",
       "      <td>0.995614</td>\n",
       "      <td>0.996800</td>\n",
       "    </tr>\n",
       "  </tbody>\n",
       "</table><p>"
      ],
      "text/plain": [
       "<IPython.core.display.HTML object>"
      ]
     },
     "metadata": {},
     "output_type": "display_data"
    }
   ],
   "source": [
    "trainer.train() \n",
    "trainer.save_model(\"deberta\")"
   ]
  },
  {
   "cell_type": "code",
   "execution_count": 33,
   "metadata": {
    "execution": {
     "iopub.execute_input": "2025-02-01T20:14:13.566939Z",
     "iopub.status.busy": "2025-02-01T20:14:13.566557Z",
     "iopub.status.idle": "2025-02-01T20:14:13.713936Z",
     "shell.execute_reply": "2025-02-01T20:14:13.713236Z",
     "shell.execute_reply.started": "2025-02-01T20:14:13.566914Z"
    },
    "trusted": true
   },
   "outputs": [],
   "source": [
    "model = AutoModelForSequenceClassification.from_pretrained(\"deberta\")"
   ]
  },
  {
   "cell_type": "code",
   "execution_count": 35,
   "metadata": {
    "execution": {
     "iopub.execute_input": "2025-02-01T20:14:36.808291Z",
     "iopub.status.busy": "2025-02-01T20:14:36.807971Z",
     "iopub.status.idle": "2025-02-01T20:20:28.979454Z",
     "shell.execute_reply": "2025-02-01T20:20:28.978734Z",
     "shell.execute_reply.started": "2025-02-01T20:14:36.808267Z"
    },
    "trusted": true
   },
   "outputs": [
    {
     "name": "stderr",
     "output_type": "stream",
     "text": [
      "/usr/local/lib/python3.10/dist-packages/transformers/trainer.py:3418: FutureWarning: You are using `torch.load` with `weights_only=False` (the current default value), which uses the default pickle module implicitly. It is possible to construct malicious pickle data which will execute arbitrary code during unpickling (See https://github.com/pytorch/pytorch/blob/main/SECURITY.md#untrusted-models for more details). In a future release, the default value for `weights_only` will be flipped to `True`. This limits the functions that could be executed during unpickling. Arbitrary objects will no longer be allowed to be loaded via this mode unless they are explicitly allowlisted by the user via `torch.serialization.add_safe_globals`. We recommend you start setting `weights_only=True` for any use case where you don't have full control of the loaded file. Please open an issue on GitHub for any issues related to this experimental feature.\n",
      "  torch.load(os.path.join(checkpoint, OPTIMIZER_NAME), map_location=map_location)\n",
      "/usr/local/lib/python3.10/dist-packages/transformers/trainer.py:3081: FutureWarning: You are using `torch.load` with `weights_only=False` (the current default value), which uses the default pickle module implicitly. It is possible to construct malicious pickle data which will execute arbitrary code during unpickling (See https://github.com/pytorch/pytorch/blob/main/SECURITY.md#untrusted-models for more details). In a future release, the default value for `weights_only` will be flipped to `True`. This limits the functions that could be executed during unpickling. Arbitrary objects will no longer be allowed to be loaded via this mode unless they are explicitly allowlisted by the user via `torch.serialization.add_safe_globals`. We recommend you start setting `weights_only=True` for any use case where you don't have full control of the loaded file. Please open an issue on GitHub for any issues related to this experimental feature.\n",
      "  checkpoint_rng_state = torch.load(rng_file)\n",
      "/usr/local/lib/python3.10/dist-packages/torch/nn/parallel/_functions.py:71: UserWarning: Was asked to gather along dimension 0, but all input tensors were scalars; will instead unsqueeze and return a vector.\n",
      "  warnings.warn(\n"
     ]
    },
    {
     "data": {
      "text/html": [
       "\n",
       "    <div>\n",
       "      \n",
       "      <progress value='360' max='360' style='width:300px; height:20px; vertical-align: middle;'></progress>\n",
       "      [360/360 05:46, Epoch 3/3]\n",
       "    </div>\n",
       "    <table border=\"1\" class=\"dataframe\">\n",
       "  <thead>\n",
       " <tr style=\"text-align: left;\">\n",
       "      <th>Step</th>\n",
       "      <th>Training Loss</th>\n",
       "      <th>Validation Loss</th>\n",
       "      <th>Accuracy</th>\n",
       "      <th>Precision</th>\n",
       "      <th>Recall</th>\n",
       "      <th>F1 Score</th>\n",
       "      <th>Gmean</th>\n",
       "    </tr>\n",
       "  </thead>\n",
       "  <tbody>\n",
       "    <tr>\n",
       "      <td>200</td>\n",
       "      <td>0.366000</td>\n",
       "      <td>0.548623</td>\n",
       "      <td>0.803347</td>\n",
       "      <td>0.795407</td>\n",
       "      <td>0.803347</td>\n",
       "      <td>0.799101</td>\n",
       "      <td>0.692316</td>\n",
       "    </tr>\n",
       "    <tr>\n",
       "      <td>300</td>\n",
       "      <td>0.262100</td>\n",
       "      <td>0.733578</td>\n",
       "      <td>0.811715</td>\n",
       "      <td>0.795133</td>\n",
       "      <td>0.811715</td>\n",
       "      <td>0.803328</td>\n",
       "      <td>0.682451</td>\n",
       "    </tr>\n",
       "  </tbody>\n",
       "</table><p>"
      ],
      "text/plain": [
       "<IPython.core.display.HTML object>"
      ]
     },
     "metadata": {},
     "output_type": "display_data"
    },
    {
     "name": "stderr",
     "output_type": "stream",
     "text": [
      "/usr/local/lib/python3.10/dist-packages/sklearn/metrics/_classification.py:1344: UndefinedMetricWarning: Precision is ill-defined and being set to 0.0 in labels with no predicted samples. Use `zero_division` parameter to control this behavior.\n",
      "  _warn_prf(average, modifier, msg_start, len(result))\n",
      "/usr/local/lib/python3.10/dist-packages/torch/nn/parallel/_functions.py:71: UserWarning: Was asked to gather along dimension 0, but all input tensors were scalars; will instead unsqueeze and return a vector.\n",
      "  warnings.warn(\n",
      "/usr/local/lib/python3.10/dist-packages/torch/nn/parallel/_functions.py:71: UserWarning: Was asked to gather along dimension 0, but all input tensors were scalars; will instead unsqueeze and return a vector.\n",
      "  warnings.warn(\n",
      "/usr/local/lib/python3.10/dist-packages/sklearn/metrics/_classification.py:1344: UndefinedMetricWarning: Precision is ill-defined and being set to 0.0 in labels with no predicted samples. Use `zero_division` parameter to control this behavior.\n",
      "  _warn_prf(average, modifier, msg_start, len(result))\n",
      "/usr/local/lib/python3.10/dist-packages/torch/nn/parallel/_functions.py:71: UserWarning: Was asked to gather along dimension 0, but all input tensors were scalars; will instead unsqueeze and return a vector.\n",
      "  warnings.warn(\n"
     ]
    },
    {
     "data": {
      "text/plain": [
       "TrainOutput(global_step=360, training_loss=0.18835104836357963, metrics={'train_runtime': 347.1466, 'train_samples_per_second': 16.489, 'train_steps_per_second': 1.037, 'total_flos': 1440421685308536.0, 'train_loss': 0.18835104836357963, 'epoch': 3.0})"
      ]
     },
     "execution_count": 35,
     "metadata": {},
     "output_type": "execute_result"
    }
   ],
   "source": [
    "trainer.train(resume_from_checkpoint=True)"
   ]
  },
  {
   "cell_type": "code",
   "execution_count": 36,
   "metadata": {
    "execution": {
     "iopub.execute_input": "2025-02-01T20:23:46.474384Z",
     "iopub.status.busy": "2025-02-01T20:23:46.473993Z",
     "iopub.status.idle": "2025-02-01T20:23:46.618199Z",
     "shell.execute_reply": "2025-02-01T20:23:46.617438Z",
     "shell.execute_reply.started": "2025-02-01T20:23:46.474341Z"
    },
    "trusted": true
   },
   "outputs": [],
   "source": [
    "# metrics decrease after training for more than one epoch - reload from one epoch \n",
    "model = AutoModelForSequenceClassification.from_pretrained(\"deberta\")"
   ]
  },
  {
   "cell_type": "code",
   "execution_count": null,
   "metadata": {
    "execution": {
     "iopub.execute_input": "2025-03-11T18:45:19.194796Z",
     "iopub.status.busy": "2025-03-11T18:45:19.194463Z",
     "iopub.status.idle": "2025-03-11T18:45:19.317016Z",
     "shell.execute_reply": "2025-03-11T18:45:19.316273Z",
     "shell.execute_reply.started": "2025-03-11T18:45:19.194775Z"
    },
    "trusted": true
   },
   "outputs": [
    {
     "name": "stderr",
     "output_type": "stream",
     "text": [
      "/usr/local/lib/python3.10/dist-packages/huggingface_hub/utils/_deprecation.py:100: FutureWarning: Deprecated argument(s) used in 'login': write_permission. Will not be supported from version '1.0'.\n",
      "\n",
      "Fine-grained tokens added complexity to the permissions, making it irrelevant to check if a token has 'write' access.\n",
      "  warnings.warn(message, FutureWarning)\n",
      "Token has not been saved to git credential helper.\n"
     ]
    },
    {
     "name": "stdout",
     "output_type": "stream",
     "text": [
      "\u001b[1m\u001b[31mCannot authenticate through git-credential as no helper is defined on your machine.\n",
      "You might have to re-authenticate when pushing to the Hugging Face Hub.\n",
      "Run the following command in your terminal in case you want to set the 'store' credential helper as default.\n",
      "\n",
      "git config --global credential.helper store\n",
      "\n",
      "Read https://git-scm.com/book/en/v2/Git-Tools-Credential-Storage for more details.\u001b[0m\n"
     ]
    }
   ],
   "source": [
    "# uploading to HuggingFace \n",
    "from huggingface_hub import login\n",
    "\n",
    "login(new_session=False, # Won’t request token if one is already saved on machine\n",
    "write_permission=True, # Requires a token with write permission\n",
    "token=\"\", # The name of your token\n",
    "add_to_git_credential=True)"
   ]
  },
  {
   "cell_type": "code",
   "execution_count": 51,
   "metadata": {
    "execution": {
     "iopub.execute_input": "2025-03-11T18:45:32.937955Z",
     "iopub.status.busy": "2025-03-11T18:45:32.937648Z",
     "iopub.status.idle": "2025-03-11T18:46:13.185395Z",
     "shell.execute_reply": "2025-03-11T18:46:13.184576Z",
     "shell.execute_reply.started": "2025-03-11T18:45:32.937931Z"
    },
    "trusted": true
   },
   "outputs": [
    {
     "data": {
      "application/vnd.jupyter.widget-view+json": {
       "model_id": "4fe0e3a639254530b526d92c46e851a0",
       "version_major": 2,
       "version_minor": 0
      },
      "text/plain": [
       "training_args.bin:   0%|          | 0.00/5.30k [00:00<?, ?B/s]"
      ]
     },
     "metadata": {},
     "output_type": "display_data"
    },
    {
     "data": {
      "application/vnd.jupyter.widget-view+json": {
       "model_id": "445c1e0eedd74fbb86eb7763258ed0fd",
       "version_major": 2,
       "version_minor": 0
      },
      "text/plain": [
       "Upload 2 LFS files:   0%|          | 0/2 [00:00<?, ?it/s]"
      ]
     },
     "metadata": {},
     "output_type": "display_data"
    },
    {
     "data": {
      "application/vnd.jupyter.widget-view+json": {
       "model_id": "c7d7527a756c4d1d8471de8630424f7a",
       "version_major": 2,
       "version_minor": 0
      },
      "text/plain": [
       "model.safetensors:   0%|          | 0.00/1.62G [00:00<?, ?B/s]"
      ]
     },
     "metadata": {},
     "output_type": "display_data"
    },
    {
     "data": {
      "text/plain": [
       "CommitInfo(commit_url='https://huggingface.co/ConditionalNLI/Exp4_deberta-large-mnli/commit/c15b4011e542117bab4ed137fcc31907090d7e51', commit_message='Run 3', commit_description='', oid='c15b4011e542117bab4ed137fcc31907090d7e51', pr_url=None, repo_url=RepoUrl('https://huggingface.co/ConditionalNLI/Exp4_deberta-large-mnli', endpoint='https://huggingface.co', repo_type='model', repo_id='ConditionalNLI/Exp4_deberta-large-mnli'), pr_revision=None, pr_num=None)"
      ]
     },
     "execution_count": 51,
     "metadata": {},
     "output_type": "execute_result"
    }
   ],
   "source": [
    "from huggingface_hub import HfApi\n",
    "api = HfApi()\n",
    "\n",
    "# Upload all the content from the local folder to your remote Space.\n",
    "# By default, files are uploaded at the root of the repo\n",
    "api.upload_folder(\n",
    "    folder_path='/kaggle/working/deberta',\n",
    "    repo_id=\"ConditionalNLI/Exp4_deberta-large-mnli\",\n",
    "    commit_message=\"Run 3\"\n",
    ")"
   ]
  },
  {
   "cell_type": "markdown",
   "metadata": {},
   "source": [
    "### Inferencing"
   ]
  },
  {
   "cell_type": "code",
   "execution_count": 52,
   "metadata": {
    "execution": {
     "iopub.execute_input": "2025-03-11T18:46:21.716036Z",
     "iopub.status.busy": "2025-03-11T18:46:21.715699Z",
     "iopub.status.idle": "2025-03-11T18:46:21.719916Z",
     "shell.execute_reply": "2025-03-11T18:46:21.719091Z",
     "shell.execute_reply.started": "2025-03-11T18:46:21.716013Z"
    },
    "trusted": true
   },
   "outputs": [],
   "source": [
    "from transformers import pipeline\n",
    "from datasets import load_dataset, Dataset\n",
    "from transformers.pipelines.pt_utils import KeyDataset, KeyPairDataset\n",
    "import torch"
   ]
  },
  {
   "cell_type": "code",
   "execution_count": 53,
   "metadata": {
    "execution": {
     "iopub.execute_input": "2025-03-11T18:46:24.633455Z",
     "iopub.status.busy": "2025-03-11T18:46:24.632980Z",
     "iopub.status.idle": "2025-03-11T18:46:24.638526Z",
     "shell.execute_reply": "2025-03-11T18:46:24.637687Z",
     "shell.execute_reply.started": "2025-03-11T18:46:24.633414Z"
    },
    "trusted": true
   },
   "outputs": [
    {
     "name": "stdout",
     "output_type": "stream",
     "text": [
      "GPU is available!\n"
     ]
    }
   ],
   "source": [
    "if torch.cuda.is_available():\n",
    "    print(\"GPU is available!\")\n",
    "    device = torch.device(\"cuda\")\n",
    "else:\n",
    "    print(\"GPU is not available, using CPU\")\n",
    "    device = torch.device(\"cpu\")"
   ]
  },
  {
   "cell_type": "code",
   "execution_count": 54,
   "metadata": {
    "execution": {
     "iopub.execute_input": "2025-03-11T18:46:31.092786Z",
     "iopub.status.busy": "2025-03-11T18:46:31.092451Z",
     "iopub.status.idle": "2025-03-11T18:46:48.286245Z",
     "shell.execute_reply": "2025-03-11T18:46:48.285249Z",
     "shell.execute_reply.started": "2025-03-11T18:46:31.092759Z"
    },
    "trusted": true
   },
   "outputs": [
    {
     "data": {
      "application/vnd.jupyter.widget-view+json": {
       "model_id": "d34e2478858149a9b6f2cea566be8a15",
       "version_major": 2,
       "version_minor": 0
      },
      "text/plain": [
       "model.safetensors:   0%|          | 0.00/1.62G [00:00<?, ?B/s]"
      ]
     },
     "metadata": {},
     "output_type": "display_data"
    }
   ],
   "source": [
    "# loading model\n",
    "model = AutoModelForSequenceClassification.from_pretrained('ConditionalNLI/Exp4_deberta-large-mnli',num_labels=3).to(device)"
   ]
  },
  {
   "cell_type": "code",
   "execution_count": 55,
   "metadata": {
    "execution": {
     "iopub.execute_input": "2025-03-11T18:47:02.777934Z",
     "iopub.status.busy": "2025-03-11T18:47:02.777594Z",
     "iopub.status.idle": "2025-03-11T18:47:02.792712Z",
     "shell.execute_reply": "2025-03-11T18:47:02.791985Z",
     "shell.execute_reply.started": "2025-03-11T18:47:02.777908Z"
    },
    "trusted": true
   },
   "outputs": [
    {
     "name": "stderr",
     "output_type": "stream",
     "text": [
      "Device set to use cuda\n"
     ]
    }
   ],
   "source": [
    "gen = pipeline('text-classification', model=model, tokenizer=tokenizer, device=device)"
   ]
  },
  {
   "cell_type": "code",
   "execution_count": 56,
   "metadata": {
    "execution": {
     "iopub.execute_input": "2025-03-11T18:47:05.744506Z",
     "iopub.status.busy": "2025-03-11T18:47:05.744210Z",
     "iopub.status.idle": "2025-03-11T18:47:44.909392Z",
     "shell.execute_reply": "2025-03-11T18:47:44.908538Z",
     "shell.execute_reply.started": "2025-03-11T18:47:05.744485Z"
    },
    "trusted": true
   },
   "outputs": [
    {
     "name": "stdout",
     "output_type": "stream",
     "text": [
      "0\n",
      "100\n",
      "200\n",
      "300\n",
      "400\n",
      "500\n",
      "600\n",
      "700\n",
      "800\n",
      "900\n",
      "1000\n",
      "1100\n",
      "1200\n",
      "1300\n",
      "1400\n",
      "1500\n",
      "1600\n",
      "1700\n",
      "1800\n",
      "1900\n",
      "2000\n",
      "2100\n",
      "2200\n",
      "2300\n"
     ]
    },
    {
     "data": {
      "text/plain": [
       "2367"
      ]
     },
     "execution_count": 56,
     "metadata": {},
     "output_type": "execute_result"
    }
   ],
   "source": [
    "id_num = 0\n",
    "test_results = pd.DataFrame(columns = ['id', 'premise', 'hypothesis', 'type', 'expected_label', 'predicted_label'])\n",
    "\n",
    "for predicted in gen(KeyPairDataset(test_ds,'premise', 'hypothesis'), batch_size=8, truncation=True):\n",
    "    if id_num % 100 == 0:\n",
    "        print(id_num)\n",
    "    test_results.loc[id_num] = [str(id_num), test_ds['premise'][id_num], test_ds['hypothesis'][id_num], test_ds['type'][id_num], test_ds['label'][id_num], predicted['label']]\n",
    "    id_num += 1\n",
    "\n",
    "len(test_results)"
   ]
  },
  {
   "cell_type": "code",
   "execution_count": 57,
   "metadata": {
    "execution": {
     "iopub.execute_input": "2025-03-11T18:47:58.124378Z",
     "iopub.status.busy": "2025-03-11T18:47:58.124064Z",
     "iopub.status.idle": "2025-03-11T18:47:58.135742Z",
     "shell.execute_reply": "2025-03-11T18:47:58.134831Z",
     "shell.execute_reply.started": "2025-03-11T18:47:58.124356Z"
    },
    "trusted": true
   },
   "outputs": [
    {
     "data": {
      "text/html": [
       "<div>\n",
       "<style scoped>\n",
       "    .dataframe tbody tr th:only-of-type {\n",
       "        vertical-align: middle;\n",
       "    }\n",
       "\n",
       "    .dataframe tbody tr th {\n",
       "        vertical-align: top;\n",
       "    }\n",
       "\n",
       "    .dataframe thead th {\n",
       "        text-align: right;\n",
       "    }\n",
       "</style>\n",
       "<table border=\"1\" class=\"dataframe\">\n",
       "  <thead>\n",
       "    <tr style=\"text-align: right;\">\n",
       "      <th></th>\n",
       "      <th>id</th>\n",
       "      <th>premise</th>\n",
       "      <th>hypothesis</th>\n",
       "      <th>type</th>\n",
       "      <th>expected_label</th>\n",
       "      <th>predicted_label</th>\n",
       "    </tr>\n",
       "  </thead>\n",
       "  <tbody>\n",
       "    <tr>\n",
       "      <th>0</th>\n",
       "      <td>0</td>\n",
       "      <td>If Charlotte passes her driving test, her parents will buy her a car.</td>\n",
       "      <td>Charlotte has parents.</td>\n",
       "      <td>type5_possessive</td>\n",
       "      <td>ENTAILMENT</td>\n",
       "      <td>CONTRADICTION</td>\n",
       "    </tr>\n",
       "    <tr>\n",
       "      <th>1</th>\n",
       "      <td>1</td>\n",
       "      <td>It's not the case that if Charlotte passes her driving test, her parents will buy her a car.</td>\n",
       "      <td>Charlotte has parents.</td>\n",
       "      <td>type5_possessive</td>\n",
       "      <td>ENTAILMENT</td>\n",
       "      <td>CONTRADICTION</td>\n",
       "    </tr>\n",
       "    <tr>\n",
       "      <th>2</th>\n",
       "      <td>2</td>\n",
       "      <td>Sam believes that if Charlotte passes her driving test, her parents will buy her a car.</td>\n",
       "      <td>Charlotte has parents.</td>\n",
       "      <td>type5_possessive</td>\n",
       "      <td>ENTAILMENT</td>\n",
       "      <td>CONTRADICTION</td>\n",
       "    </tr>\n",
       "    <tr>\n",
       "      <th>3</th>\n",
       "      <td>3</td>\n",
       "      <td>Is it true that if Charlotte passes her driving test, her parents will buy her a car?</td>\n",
       "      <td>Charlotte has parents.</td>\n",
       "      <td>type5_possessive</td>\n",
       "      <td>ENTAILMENT</td>\n",
       "      <td>CONTRADICTION</td>\n",
       "    </tr>\n",
       "    <tr>\n",
       "      <th>4</th>\n",
       "      <td>4</td>\n",
       "      <td>If Lily takes the train to the city, her friend will meet her at the station.</td>\n",
       "      <td>Lily has a friend.</td>\n",
       "      <td>type5_possessive</td>\n",
       "      <td>ENTAILMENT</td>\n",
       "      <td>CONTRADICTION</td>\n",
       "    </tr>\n",
       "    <tr>\n",
       "      <th>...</th>\n",
       "      <td>...</td>\n",
       "      <td>...</td>\n",
       "      <td>...</td>\n",
       "      <td>...</td>\n",
       "      <td>...</td>\n",
       "      <td>...</td>\n",
       "    </tr>\n",
       "    <tr>\n",
       "      <th>2362</th>\n",
       "      <td>2362</td>\n",
       "      <td>If Sophia decides to attend the concert, his best friend will drive him there.</td>\n",
       "      <td>Sophia has a close friend.</td>\n",
       "      <td>type5_possessive</td>\n",
       "      <td>NEUTRAL</td>\n",
       "      <td>CONTRADICTION</td>\n",
       "    </tr>\n",
       "    <tr>\n",
       "      <th>2363</th>\n",
       "      <td>2363</td>\n",
       "      <td>It's not the case that if Sophia decides to attend the concert, his best friend will drive him there.</td>\n",
       "      <td>Sophia has a close friend.</td>\n",
       "      <td>type5_possessive</td>\n",
       "      <td>NEUTRAL</td>\n",
       "      <td>CONTRADICTION</td>\n",
       "    </tr>\n",
       "    <tr>\n",
       "      <th>2364</th>\n",
       "      <td>2364</td>\n",
       "      <td>Sam believes that if Sophia decides to attend the concert, his best friend will drive him there.</td>\n",
       "      <td>Sophia has a close friend.</td>\n",
       "      <td>type5_possessive</td>\n",
       "      <td>NEUTRAL</td>\n",
       "      <td>CONTRADICTION</td>\n",
       "    </tr>\n",
       "    <tr>\n",
       "      <th>2365</th>\n",
       "      <td>2365</td>\n",
       "      <td>Is it true that if Sophia decides to attend the concert, his best friend will drive him there?</td>\n",
       "      <td>Sophia has a close friend.</td>\n",
       "      <td>type5_possessive</td>\n",
       "      <td>NEUTRAL</td>\n",
       "      <td>CONTRADICTION</td>\n",
       "    </tr>\n",
       "    <tr>\n",
       "      <th>2366</th>\n",
       "      <td>2366</td>\n",
       "      <td>If Sophia decides to attend the concert, his best friend will drive him there.</td>\n",
       "      <td>Sophia has decided to attend the concert, but his best friend will not drive him.</td>\n",
       "      <td>type5_possessive</td>\n",
       "      <td>CONTRADICTION</td>\n",
       "      <td>NEUTRAL</td>\n",
       "    </tr>\n",
       "  </tbody>\n",
       "</table>\n",
       "<p>2367 rows × 6 columns</p>\n",
       "</div>"
      ],
      "text/plain": [
       "        id  \\\n",
       "0        0   \n",
       "1        1   \n",
       "2        2   \n",
       "3        3   \n",
       "4        4   \n",
       "...    ...   \n",
       "2362  2362   \n",
       "2363  2363   \n",
       "2364  2364   \n",
       "2365  2365   \n",
       "2366  2366   \n",
       "\n",
       "                                                                                                    premise  \\\n",
       "0                                     If Charlotte passes her driving test, her parents will buy her a car.   \n",
       "1              It's not the case that if Charlotte passes her driving test, her parents will buy her a car.   \n",
       "2                   Sam believes that if Charlotte passes her driving test, her parents will buy her a car.   \n",
       "3                     Is it true that if Charlotte passes her driving test, her parents will buy her a car?   \n",
       "4                             If Lily takes the train to the city, her friend will meet her at the station.   \n",
       "...                                                                                                     ...   \n",
       "2362                         If Sophia decides to attend the concert, his best friend will drive him there.   \n",
       "2363  It's not the case that if Sophia decides to attend the concert, his best friend will drive him there.   \n",
       "2364       Sam believes that if Sophia decides to attend the concert, his best friend will drive him there.   \n",
       "2365         Is it true that if Sophia decides to attend the concert, his best friend will drive him there?   \n",
       "2366                         If Sophia decides to attend the concert, his best friend will drive him there.   \n",
       "\n",
       "                                                                             hypothesis  \\\n",
       "0                                                                Charlotte has parents.   \n",
       "1                                                                Charlotte has parents.   \n",
       "2                                                                Charlotte has parents.   \n",
       "3                                                                Charlotte has parents.   \n",
       "4                                                                    Lily has a friend.   \n",
       "...                                                                                 ...   \n",
       "2362                                                         Sophia has a close friend.   \n",
       "2363                                                         Sophia has a close friend.   \n",
       "2364                                                         Sophia has a close friend.   \n",
       "2365                                                         Sophia has a close friend.   \n",
       "2366  Sophia has decided to attend the concert, but his best friend will not drive him.   \n",
       "\n",
       "                  type expected_label predicted_label  \n",
       "0     type5_possessive     ENTAILMENT   CONTRADICTION  \n",
       "1     type5_possessive     ENTAILMENT   CONTRADICTION  \n",
       "2     type5_possessive     ENTAILMENT   CONTRADICTION  \n",
       "3     type5_possessive     ENTAILMENT   CONTRADICTION  \n",
       "4     type5_possessive     ENTAILMENT   CONTRADICTION  \n",
       "...                ...            ...             ...  \n",
       "2362  type5_possessive        NEUTRAL   CONTRADICTION  \n",
       "2363  type5_possessive        NEUTRAL   CONTRADICTION  \n",
       "2364  type5_possessive        NEUTRAL   CONTRADICTION  \n",
       "2365  type5_possessive        NEUTRAL   CONTRADICTION  \n",
       "2366  type5_possessive  CONTRADICTION         NEUTRAL  \n",
       "\n",
       "[2367 rows x 6 columns]"
      ]
     },
     "execution_count": 57,
     "metadata": {},
     "output_type": "execute_result"
    }
   ],
   "source": [
    "test_results"
   ]
  },
  {
   "cell_type": "code",
   "execution_count": 58,
   "metadata": {
    "execution": {
     "iopub.execute_input": "2025-03-11T18:48:03.802791Z",
     "iopub.status.busy": "2025-03-11T18:48:03.802417Z",
     "iopub.status.idle": "2025-03-11T18:48:03.810861Z",
     "shell.execute_reply": "2025-03-11T18:48:03.810115Z",
     "shell.execute_reply.started": "2025-03-11T18:48:03.802762Z"
    },
    "trusted": true
   },
   "outputs": [
    {
     "data": {
      "text/plain": [
       "predicted_label\n",
       "CONTRADICTION    1493\n",
       "ENTAILMENT        776\n",
       "NEUTRAL            98\n",
       "Name: count, dtype: int64"
      ]
     },
     "execution_count": 58,
     "metadata": {},
     "output_type": "execute_result"
    }
   ],
   "source": [
    "test_results['predicted_label'].value_counts()"
   ]
  },
  {
   "cell_type": "markdown",
   "metadata": {},
   "source": []
  },
  {
   "cell_type": "code",
   "execution_count": 59,
   "metadata": {
    "execution": {
     "iopub.execute_input": "2025-03-11T18:48:10.271614Z",
     "iopub.status.busy": "2025-03-11T18:48:10.271322Z",
     "iopub.status.idle": "2025-03-11T18:48:10.290516Z",
     "shell.execute_reply": "2025-03-11T18:48:10.289571Z",
     "shell.execute_reply.started": "2025-03-11T18:48:10.271592Z"
    },
    "trusted": true
   },
   "outputs": [],
   "source": [
    "test_results.to_csv('exp4_deberta_test_results_run3.csv')"
   ]
  },
  {
   "cell_type": "code",
   "execution_count": 60,
   "metadata": {
    "execution": {
     "iopub.execute_input": "2025-03-11T18:48:12.395601Z",
     "iopub.status.busy": "2025-03-11T18:48:12.395245Z",
     "iopub.status.idle": "2025-03-11T18:48:12.399691Z",
     "shell.execute_reply": "2025-03-11T18:48:12.398629Z",
     "shell.execute_reply.started": "2025-03-11T18:48:12.395572Z"
    },
    "trusted": true
   },
   "outputs": [],
   "source": [
    "from sklearn.metrics import confusion_matrix, classification_report\n",
    "import seaborn as sns\n",
    "import matplotlib.pyplot as plt"
   ]
  },
  {
   "cell_type": "code",
   "execution_count": 61,
   "metadata": {
    "execution": {
     "iopub.execute_input": "2025-03-11T18:48:17.891731Z",
     "iopub.status.busy": "2025-03-11T18:48:17.891316Z",
     "iopub.status.idle": "2025-03-11T18:48:18.128691Z",
     "shell.execute_reply": "2025-03-11T18:48:18.127773Z",
     "shell.execute_reply.started": "2025-03-11T18:48:17.891699Z"
    },
    "trusted": true
   },
   "outputs": [
    {
     "data": {
      "image/png": "[encoded data removed]",
      "text/plain": [
       "<Figure size 800x600 with 2 Axes>"
      ]
     },
     "metadata": {},
     "output_type": "display_data"
    }
   ],
   "source": [
    "# Create the testing confusion matrix\n",
    "cm = confusion_matrix(test_results['expected_label'], test_results['predicted_label'],labels=[\"ENTAILMENT\",\"NEUTRAL\",\"CONTRADICTION\"])\n",
    "\n",
    "# Visualize the confusion matrix\n",
    "plt.figure(figsize=(8, 6))\n",
    "sns.heatmap(cm, annot=True, fmt=\"d\",cmap=\"Blues\")\n",
    "plt.xlabel(\"Predicted Label\")\n",
    "plt.ylabel(\"True Label\")\n",
    "plt.title(\"Confusion Matrix\")\n",
    "plt.show()"
   ]
  },
  {
   "cell_type": "code",
   "execution_count": 62,
   "metadata": {
    "execution": {
     "iopub.execute_input": "2025-03-11T18:48:34.884188Z",
     "iopub.status.busy": "2025-03-11T18:48:34.883842Z",
     "iopub.status.idle": "2025-03-11T18:48:34.961892Z",
     "shell.execute_reply": "2025-03-11T18:48:34.961149Z",
     "shell.execute_reply.started": "2025-03-11T18:48:34.884164Z"
    },
    "trusted": true
   },
   "outputs": [
    {
     "data": {
      "text/html": [
       "<div>\n",
       "<style scoped>\n",
       "    .dataframe tbody tr th:only-of-type {\n",
       "        vertical-align: middle;\n",
       "    }\n",
       "\n",
       "    .dataframe tbody tr th {\n",
       "        vertical-align: top;\n",
       "    }\n",
       "\n",
       "    .dataframe thead th {\n",
       "        text-align: right;\n",
       "    }\n",
       "</style>\n",
       "<table border=\"1\" class=\"dataframe\">\n",
       "  <thead>\n",
       "    <tr style=\"text-align: right;\">\n",
       "      <th>label</th>\n",
       "      <th>precision</th>\n",
       "      <th>recall</th>\n",
       "      <th>f1-score</th>\n",
       "      <th>support</th>\n",
       "    </tr>\n",
       "  </thead>\n",
       "  <tbody>\n",
       "    <tr>\n",
       "      <th>CONTRADICTION</th>\n",
       "      <td>0.003349</td>\n",
       "      <td>0.006510</td>\n",
       "      <td>0.004423</td>\n",
       "      <td>768.000000</td>\n",
       "    </tr>\n",
       "    <tr>\n",
       "      <th>ENTAILMENT</th>\n",
       "      <td>0.015464</td>\n",
       "      <td>0.016667</td>\n",
       "      <td>0.016043</td>\n",
       "      <td>720.000000</td>\n",
       "    </tr>\n",
       "    <tr>\n",
       "      <th>NEUTRAL</th>\n",
       "      <td>0.387755</td>\n",
       "      <td>0.043231</td>\n",
       "      <td>0.077789</td>\n",
       "      <td>879.000000</td>\n",
       "    </tr>\n",
       "    <tr>\n",
       "      <th>accuracy</th>\n",
       "      <td>0.023236</td>\n",
       "      <td>0.023236</td>\n",
       "      <td>0.023236</td>\n",
       "      <td>0.023236</td>\n",
       "    </tr>\n",
       "    <tr>\n",
       "      <th>macro avg</th>\n",
       "      <td>0.135523</td>\n",
       "      <td>0.022136</td>\n",
       "      <td>0.032752</td>\n",
       "      <td>2367.000000</td>\n",
       "    </tr>\n",
       "    <tr>\n",
       "      <th>weighted avg</th>\n",
       "      <td>0.149786</td>\n",
       "      <td>0.023236</td>\n",
       "      <td>0.035202</td>\n",
       "      <td>2367.000000</td>\n",
       "    </tr>\n",
       "  </tbody>\n",
       "</table>\n",
       "</div>"
      ],
      "text/plain": [
       "label          precision    recall  f1-score      support\n",
       "CONTRADICTION   0.003349  0.006510  0.004423   768.000000\n",
       "ENTAILMENT      0.015464  0.016667  0.016043   720.000000\n",
       "NEUTRAL         0.387755  0.043231  0.077789   879.000000\n",
       "accuracy        0.023236  0.023236  0.023236     0.023236\n",
       "macro avg       0.135523  0.022136  0.032752  2367.000000\n",
       "weighted avg    0.149786  0.023236  0.035202  2367.000000"
      ]
     },
     "execution_count": 62,
     "metadata": {},
     "output_type": "execute_result"
    }
   ],
   "source": [
    "report_dict = classification_report(test_results['expected_label'], test_results['predicted_label'], output_dict=True)\n",
    "report_df = pd.DataFrame(report_dict).transpose() \n",
    "report_df.columns.name = 'label'\n",
    "report_df"
   ]
  },
  {
   "cell_type": "code",
   "execution_count": 63,
   "metadata": {
    "execution": {
     "iopub.execute_input": "2025-03-11T18:49:37.796868Z",
     "iopub.status.busy": "2025-03-11T18:49:37.796436Z",
     "iopub.status.idle": "2025-03-11T18:49:37.920178Z",
     "shell.execute_reply": "2025-03-11T18:49:37.919015Z",
     "shell.execute_reply.started": "2025-03-11T18:49:37.796831Z"
    },
    "trusted": true
   },
   "outputs": [
    {
     "name": "stderr",
     "output_type": "stream",
     "text": [
      "/usr/local/lib/python3.10/dist-packages/sklearn/metrics/_classification.py:1344: UndefinedMetricWarning: Precision is ill-defined and being set to 0.0 in labels with no predicted samples. Use `zero_division` parameter to control this behavior.\n",
      "  _warn_prf(average, modifier, msg_start, len(result))\n",
      "/usr/local/lib/python3.10/dist-packages/sklearn/metrics/_classification.py:1344: UndefinedMetricWarning: Precision is ill-defined and being set to 0.0 in labels with no predicted samples. Use `zero_division` parameter to control this behavior.\n",
      "  _warn_prf(average, modifier, msg_start, len(result))\n",
      "/usr/local/lib/python3.10/dist-packages/sklearn/metrics/_classification.py:1344: UndefinedMetricWarning: Precision is ill-defined and being set to 0.0 in labels with no predicted samples. Use `zero_division` parameter to control this behavior.\n",
      "  _warn_prf(average, modifier, msg_start, len(result))\n",
      "/usr/local/lib/python3.10/dist-packages/sklearn/metrics/_classification.py:1344: UndefinedMetricWarning: Precision is ill-defined and being set to 0.0 in labels with no predicted samples. Use `zero_division` parameter to control this behavior.\n",
      "  _warn_prf(average, modifier, msg_start, len(result))\n",
      "/usr/local/lib/python3.10/dist-packages/sklearn/metrics/_classification.py:1344: UndefinedMetricWarning: Recall is ill-defined and being set to 0.0 in labels with no true samples. Use `zero_division` parameter to control this behavior.\n",
      "  _warn_prf(average, modifier, msg_start, len(result))\n",
      "/usr/local/lib/python3.10/dist-packages/sklearn/metrics/_classification.py:1344: UndefinedMetricWarning: Precision is ill-defined and being set to 0.0 in labels with no predicted samples. Use `zero_division` parameter to control this behavior.\n",
      "  _warn_prf(average, modifier, msg_start, len(result))\n",
      "/usr/local/lib/python3.10/dist-packages/sklearn/metrics/_classification.py:1344: UndefinedMetricWarning: Recall is ill-defined and being set to 0.0 in labels with no true samples. Use `zero_division` parameter to control this behavior.\n",
      "  _warn_prf(average, modifier, msg_start, len(result))\n",
      "<ipython-input-63-823762390d06>:1: DeprecationWarning: DataFrameGroupBy.apply operated on the grouping columns. This behavior is deprecated, and in a future version of pandas the grouping columns will be excluded from the operation. Either pass `include_groups=False` to exclude the groupings or explicitly select the grouping columns after groupby to silence this warning.\n",
      "  metrics_by_type = test_results.groupby('type').apply(compute_metrics_by_type).reset_index()\n"
     ]
    },
    {
     "data": {
      "text/html": [
       "<div>\n",
       "<style scoped>\n",
       "    .dataframe tbody tr th:only-of-type {\n",
       "        vertical-align: middle;\n",
       "    }\n",
       "\n",
       "    .dataframe tbody tr th {\n",
       "        vertical-align: top;\n",
       "    }\n",
       "\n",
       "    .dataframe thead th {\n",
       "        text-align: right;\n",
       "    }\n",
       "</style>\n",
       "<table border=\"1\" class=\"dataframe\">\n",
       "  <thead>\n",
       "    <tr style=\"text-align: right;\">\n",
       "      <th>ID</th>\n",
       "      <th>type</th>\n",
       "      <th>accuracy</th>\n",
       "      <th>precision</th>\n",
       "      <th>recall</th>\n",
       "      <th>f1_score</th>\n",
       "    </tr>\n",
       "  </thead>\n",
       "  <tbody>\n",
       "    <tr>\n",
       "      <th>0</th>\n",
       "      <td>type1_again</td>\n",
       "      <td>0.02</td>\n",
       "      <td>0.01</td>\n",
       "      <td>0.02</td>\n",
       "      <td>0.01</td>\n",
       "    </tr>\n",
       "    <tr>\n",
       "      <th>1</th>\n",
       "      <td>type1_possessive</td>\n",
       "      <td>0.07</td>\n",
       "      <td>0.01</td>\n",
       "      <td>0.07</td>\n",
       "      <td>0.02</td>\n",
       "    </tr>\n",
       "    <tr>\n",
       "      <th>2</th>\n",
       "      <td>type2_again</td>\n",
       "      <td>0.02</td>\n",
       "      <td>0.02</td>\n",
       "      <td>0.02</td>\n",
       "      <td>0.02</td>\n",
       "    </tr>\n",
       "    <tr>\n",
       "      <th>3</th>\n",
       "      <td>type2_possessive</td>\n",
       "      <td>0.00</td>\n",
       "      <td>0.00</td>\n",
       "      <td>0.00</td>\n",
       "      <td>0.00</td>\n",
       "    </tr>\n",
       "    <tr>\n",
       "      <th>4</th>\n",
       "      <td>type3_again</td>\n",
       "      <td>0.07</td>\n",
       "      <td>0.35</td>\n",
       "      <td>0.07</td>\n",
       "      <td>0.11</td>\n",
       "    </tr>\n",
       "    <tr>\n",
       "      <th>5</th>\n",
       "      <td>type3_possessive</td>\n",
       "      <td>0.00</td>\n",
       "      <td>0.00</td>\n",
       "      <td>0.00</td>\n",
       "      <td>0.00</td>\n",
       "    </tr>\n",
       "    <tr>\n",
       "      <th>6</th>\n",
       "      <td>type4_possessive</td>\n",
       "      <td>0.04</td>\n",
       "      <td>0.00</td>\n",
       "      <td>0.04</td>\n",
       "      <td>0.01</td>\n",
       "    </tr>\n",
       "    <tr>\n",
       "      <th>7</th>\n",
       "      <td>type5_again</td>\n",
       "      <td>0.00</td>\n",
       "      <td>0.00</td>\n",
       "      <td>0.00</td>\n",
       "      <td>0.00</td>\n",
       "    </tr>\n",
       "    <tr>\n",
       "      <th>8</th>\n",
       "      <td>type5_possessive</td>\n",
       "      <td>0.01</td>\n",
       "      <td>0.00</td>\n",
       "      <td>0.01</td>\n",
       "      <td>0.01</td>\n",
       "    </tr>\n",
       "  </tbody>\n",
       "</table>\n",
       "</div>"
      ],
      "text/plain": [
       "ID              type  accuracy  precision  recall  f1_score\n",
       "0        type1_again      0.02       0.01    0.02      0.01\n",
       "1   type1_possessive      0.07       0.01    0.07      0.02\n",
       "2        type2_again      0.02       0.02    0.02      0.02\n",
       "3   type2_possessive      0.00       0.00    0.00      0.00\n",
       "4        type3_again      0.07       0.35    0.07      0.11\n",
       "5   type3_possessive      0.00       0.00    0.00      0.00\n",
       "6   type4_possessive      0.04       0.00    0.04      0.01\n",
       "7        type5_again      0.00       0.00    0.00      0.00\n",
       "8   type5_possessive      0.01       0.00    0.01      0.01"
      ]
     },
     "execution_count": 63,
     "metadata": {},
     "output_type": "execute_result"
    }
   ],
   "source": [
    "metrics_by_type = test_results.groupby('type').apply(compute_metrics_by_type).reset_index()\n",
    "metrics_by_type.columns.name = 'ID'\n",
    "metrics_by_type"
   ]
  },
  {
   "cell_type": "markdown",
   "metadata": {},
   "source": [
    "## FacebookAI/roberta-large-mnli"
   ]
  },
  {
   "cell_type": "code",
   "execution_count": 82,
   "metadata": {
    "execution": {
     "iopub.execute_input": "2025-03-11T20:05:22.105190Z",
     "iopub.status.busy": "2025-03-11T20:05:22.104828Z",
     "iopub.status.idle": "2025-03-11T20:05:22.335767Z",
     "shell.execute_reply": "2025-03-11T20:05:22.335059Z",
     "shell.execute_reply.started": "2025-03-11T20:05:22.105162Z"
    },
    "trusted": true
   },
   "outputs": [],
   "source": [
    "checkpoint = \"FacebookAI/roberta-large-mnli\"\n",
    "tokenizer = AutoTokenizer.from_pretrained(checkpoint)"
   ]
  },
  {
   "cell_type": "code",
   "execution_count": 83,
   "metadata": {
    "execution": {
     "iopub.execute_input": "2025-03-11T20:05:27.428310Z",
     "iopub.status.busy": "2025-03-11T20:05:27.427994Z",
     "iopub.status.idle": "2025-03-11T20:05:27.612567Z",
     "shell.execute_reply": "2025-03-11T20:05:27.611946Z",
     "shell.execute_reply.started": "2025-03-11T20:05:27.428287Z"
    },
    "trusted": true
   },
   "outputs": [
    {
     "name": "stderr",
     "output_type": "stream",
     "text": [
      "Some weights of the model checkpoint at FacebookAI/roberta-large-mnli were not used when initializing RobertaForSequenceClassification: ['roberta.pooler.dense.bias', 'roberta.pooler.dense.weight']\n",
      "- This IS expected if you are initializing RobertaForSequenceClassification from the checkpoint of a model trained on another task or with another architecture (e.g. initializing a BertForSequenceClassification model from a BertForPreTraining model).\n",
      "- This IS NOT expected if you are initializing RobertaForSequenceClassification from the checkpoint of a model that you expect to be exactly identical (initializing a BertForSequenceClassification model from a BertForSequenceClassification model).\n"
     ]
    }
   ],
   "source": [
    "model = AutoModelForSequenceClassification.from_pretrained(checkpoint, num_labels=3)"
   ]
  },
  {
   "cell_type": "code",
   "execution_count": 84,
   "metadata": {
    "execution": {
     "iopub.execute_input": "2025-03-11T20:05:32.659769Z",
     "iopub.status.busy": "2025-03-11T20:05:32.659470Z",
     "iopub.status.idle": "2025-03-11T20:05:37.533184Z",
     "shell.execute_reply": "2025-03-11T20:05:37.532434Z",
     "shell.execute_reply.started": "2025-03-11T20:05:32.659746Z"
    },
    "trusted": true
   },
   "outputs": [
    {
     "data": {
      "application/vnd.jupyter.widget-view+json": {
       "model_id": "4dd3a3d07fb54b138213f1178b131fdb",
       "version_major": 2,
       "version_minor": 0
      },
      "text/plain": [
       "Map:   0%|          | 0/13680 [00:00<?, ? examples/s]"
      ]
     },
     "metadata": {},
     "output_type": "display_data"
    },
    {
     "data": {
      "application/vnd.jupyter.widget-view+json": {
       "model_id": "2190e7a6e5bf4455842ea5f704cd7a10",
       "version_major": 2,
       "version_minor": 0
      },
      "text/plain": [
       "Map:   0%|          | 0/3420 [00:00<?, ? examples/s]"
      ]
     },
     "metadata": {},
     "output_type": "display_data"
    }
   ],
   "source": [
    "tokenized_train_ds = train_ds.map(lambda x: preprocess_function(x, tokenizer), batched=True)\n",
    "tokenized_val_ds = val_ds.map(lambda x: preprocess_function(x, tokenizer), batched=True)\n",
    "data_collator = DataCollatorWithPadding(tokenizer=tokenizer)"
   ]
  },
  {
   "cell_type": "code",
   "execution_count": 29,
   "metadata": {
    "execution": {
     "iopub.execute_input": "2025-02-01T01:01:02.548592Z",
     "iopub.status.busy": "2025-02-01T01:01:02.548270Z",
     "iopub.status.idle": "2025-02-01T01:01:02.553582Z",
     "shell.execute_reply": "2025-02-01T01:01:02.552853Z",
     "shell.execute_reply.started": "2025-02-01T01:01:02.548567Z"
    },
    "trusted": true
   },
   "outputs": [
    {
     "data": {
      "text/plain": [
       "2168"
      ]
     },
     "execution_count": 29,
     "metadata": {},
     "output_type": "execute_result"
    }
   ],
   "source": [
    "len(val_ds)"
   ]
  },
  {
   "cell_type": "code",
   "execution_count": 85,
   "metadata": {
    "execution": {
     "iopub.execute_input": "2025-03-11T20:05:41.282412Z",
     "iopub.status.busy": "2025-03-11T20:05:41.282129Z",
     "iopub.status.idle": "2025-03-11T20:05:42.312121Z",
     "shell.execute_reply": "2025-03-11T20:05:42.311446Z",
     "shell.execute_reply.started": "2025-03-11T20:05:41.282389Z"
    },
    "trusted": true
   },
   "outputs": [
    {
     "name": "stderr",
     "output_type": "stream",
     "text": [
      "/usr/local/lib/python3.10/dist-packages/transformers/training_args.py:1575: FutureWarning: `evaluation_strategy` is deprecated and will be removed in version 4.46 of 🤗 Transformers. Use `eval_strategy` instead\n",
      "  warnings.warn(\n",
      "<ipython-input-85-698a483ddfe9>:16: FutureWarning: `tokenizer` is deprecated and will be removed in version 5.0.0 for `Trainer.__init__`. Use `processing_class` instead.\n",
      "  trainer = Trainer(\n"
     ]
    }
   ],
   "source": [
    "random_seed = random.randint(0, 2**32 - 1)\n",
    "training_args = TrainingArguments(\n",
    "    output_dir=\"./results\",\n",
    "    num_train_epochs=1, # Set the number of epochs to 1\n",
    "    logging_steps=200,\n",
    "    evaluation_strategy=\"steps\",\n",
    "    eval_steps=200,\n",
    "    # evaluation_strategy=\"epoch\",  # Evaluate during training\n",
    "    # evaluation_strategy=\"no\",\n",
    "    save_strategy=\"epoch\",  # Save the model at the end of each epoch\n",
    "    # load_best_model_at_end=True,  # Load the best model at the end of training\n",
    "    report_to=\"none\",\n",
    "    fp16=True,\n",
    "    seed=random_seed\n",
    ")\n",
    "trainer = Trainer(\n",
    "    model,\n",
    "    args=training_args,\n",
    "    train_dataset=tokenized_train_ds,\n",
    "    eval_dataset=tokenized_val_ds,\n",
    "    compute_metrics=compute_metrics,\n",
    "    data_collator=data_collator,\n",
    "    tokenizer=tokenizer,\n",
    "    callbacks=[]\n",
    ")"
   ]
  },
  {
   "cell_type": "code",
   "execution_count": 86,
   "metadata": {
    "execution": {
     "iopub.execute_input": "2025-03-11T20:05:54.855486Z",
     "iopub.status.busy": "2025-03-11T20:05:54.855172Z",
     "iopub.status.idle": "2025-03-11T21:11:17.833238Z",
     "shell.execute_reply": "2025-03-11T21:11:17.832206Z",
     "shell.execute_reply.started": "2025-03-11T20:05:54.855462Z"
    },
    "trusted": true
   },
   "outputs": [
    {
     "data": {
      "text/html": [
       "\n",
       "    <div>\n",
       "      \n",
       "      <progress value='1710' max='1710' style='width:300px; height:20px; vertical-align: middle;'></progress>\n",
       "      [1710/1710 1:05:20, Epoch 1/1]\n",
       "    </div>\n",
       "    <table border=\"1\" class=\"dataframe\">\n",
       "  <thead>\n",
       " <tr style=\"text-align: left;\">\n",
       "      <th>Step</th>\n",
       "      <th>Training Loss</th>\n",
       "      <th>Validation Loss</th>\n",
       "      <th>Accuracy</th>\n",
       "      <th>Precision</th>\n",
       "      <th>Recall</th>\n",
       "      <th>F1 Score</th>\n",
       "      <th>Gmean</th>\n",
       "    </tr>\n",
       "  </thead>\n",
       "  <tbody>\n",
       "    <tr>\n",
       "      <td>200</td>\n",
       "      <td>0.474800</td>\n",
       "      <td>0.206427</td>\n",
       "      <td>0.952047</td>\n",
       "      <td>0.953401</td>\n",
       "      <td>0.952047</td>\n",
       "      <td>0.952331</td>\n",
       "      <td>0.965725</td>\n",
       "    </tr>\n",
       "    <tr>\n",
       "      <td>400</td>\n",
       "      <td>0.332600</td>\n",
       "      <td>0.190800</td>\n",
       "      <td>0.969883</td>\n",
       "      <td>0.972119</td>\n",
       "      <td>0.969883</td>\n",
       "      <td>0.970128</td>\n",
       "      <td>0.979026</td>\n",
       "    </tr>\n",
       "    <tr>\n",
       "      <td>600</td>\n",
       "      <td>0.181400</td>\n",
       "      <td>0.170102</td>\n",
       "      <td>0.966374</td>\n",
       "      <td>0.969362</td>\n",
       "      <td>0.966374</td>\n",
       "      <td>0.966818</td>\n",
       "      <td>0.976795</td>\n",
       "    </tr>\n",
       "    <tr>\n",
       "      <td>800</td>\n",
       "      <td>0.124900</td>\n",
       "      <td>0.116466</td>\n",
       "      <td>0.981287</td>\n",
       "      <td>0.981614</td>\n",
       "      <td>0.981287</td>\n",
       "      <td>0.981269</td>\n",
       "      <td>0.986523</td>\n",
       "    </tr>\n",
       "    <tr>\n",
       "      <td>1000</td>\n",
       "      <td>0.094400</td>\n",
       "      <td>0.056724</td>\n",
       "      <td>0.991813</td>\n",
       "      <td>0.991851</td>\n",
       "      <td>0.991813</td>\n",
       "      <td>0.991822</td>\n",
       "      <td>0.993871</td>\n",
       "    </tr>\n",
       "    <tr>\n",
       "      <td>1200</td>\n",
       "      <td>0.058700</td>\n",
       "      <td>0.087679</td>\n",
       "      <td>0.988304</td>\n",
       "      <td>0.988358</td>\n",
       "      <td>0.988304</td>\n",
       "      <td>0.988287</td>\n",
       "      <td>0.991398</td>\n",
       "    </tr>\n",
       "    <tr>\n",
       "      <td>1400</td>\n",
       "      <td>0.047500</td>\n",
       "      <td>0.033187</td>\n",
       "      <td>0.994444</td>\n",
       "      <td>0.994539</td>\n",
       "      <td>0.994444</td>\n",
       "      <td>0.994454</td>\n",
       "      <td>0.996175</td>\n",
       "    </tr>\n",
       "    <tr>\n",
       "      <td>1600</td>\n",
       "      <td>0.055000</td>\n",
       "      <td>0.024403</td>\n",
       "      <td>0.995906</td>\n",
       "      <td>0.995954</td>\n",
       "      <td>0.995906</td>\n",
       "      <td>0.995911</td>\n",
       "      <td>0.997167</td>\n",
       "    </tr>\n",
       "  </tbody>\n",
       "</table><p>"
      ],
      "text/plain": [
       "<IPython.core.display.HTML object>"
      ]
     },
     "metadata": {},
     "output_type": "display_data"
    },
    {
     "data": {
      "text/plain": [
       "TrainOutput(global_step=1710, training_loss=0.16204024086221616, metrics={'train_runtime': 3922.2796, 'train_samples_per_second': 3.488, 'train_steps_per_second': 0.436, 'total_flos': 1.274886412591104e+16, 'train_loss': 0.16204024086221616, 'epoch': 1.0})"
      ]
     },
     "execution_count": 86,
     "metadata": {},
     "output_type": "execute_result"
    }
   ],
   "source": [
    "trainer.train()"
   ]
  },
  {
   "cell_type": "code",
   "execution_count": 68,
   "metadata": {
    "execution": {
     "iopub.execute_input": "2025-03-11T18:52:14.273636Z",
     "iopub.status.busy": "2025-03-11T18:52:14.273238Z",
     "iopub.status.idle": "2025-03-11T19:57:35.595576Z",
     "shell.execute_reply": "2025-03-11T19:57:35.594607Z",
     "shell.execute_reply.started": "2025-03-11T18:52:14.273609Z"
    },
    "trusted": true
   },
   "outputs": [
    {
     "data": {
      "text/html": [
       "\n",
       "    <div>\n",
       "      \n",
       "      <progress value='1710' max='1710' style='width:300px; height:20px; vertical-align: middle;'></progress>\n",
       "      [1710/1710 1:05:19, Epoch 1/1]\n",
       "    </div>\n",
       "    <table border=\"1\" class=\"dataframe\">\n",
       "  <thead>\n",
       " <tr style=\"text-align: left;\">\n",
       "      <th>Step</th>\n",
       "      <th>Training Loss</th>\n",
       "      <th>Validation Loss</th>\n",
       "      <th>Accuracy</th>\n",
       "      <th>Precision</th>\n",
       "      <th>Recall</th>\n",
       "      <th>F1 Score</th>\n",
       "      <th>Gmean</th>\n",
       "    </tr>\n",
       "  </thead>\n",
       "  <tbody>\n",
       "    <tr>\n",
       "      <td>200</td>\n",
       "      <td>0.405100</td>\n",
       "      <td>0.176783</td>\n",
       "      <td>0.966959</td>\n",
       "      <td>0.969815</td>\n",
       "      <td>0.966959</td>\n",
       "      <td>0.967386</td>\n",
       "      <td>0.977270</td>\n",
       "    </tr>\n",
       "    <tr>\n",
       "      <td>400</td>\n",
       "      <td>0.210300</td>\n",
       "      <td>0.088936</td>\n",
       "      <td>0.988304</td>\n",
       "      <td>0.988372</td>\n",
       "      <td>0.988304</td>\n",
       "      <td>0.988311</td>\n",
       "      <td>0.991488</td>\n",
       "    </tr>\n",
       "    <tr>\n",
       "      <td>600</td>\n",
       "      <td>0.078700</td>\n",
       "      <td>0.051106</td>\n",
       "      <td>0.991813</td>\n",
       "      <td>0.991935</td>\n",
       "      <td>0.991813</td>\n",
       "      <td>0.991827</td>\n",
       "      <td>0.994350</td>\n",
       "    </tr>\n",
       "    <tr>\n",
       "      <td>800</td>\n",
       "      <td>0.088700</td>\n",
       "      <td>0.037735</td>\n",
       "      <td>0.993567</td>\n",
       "      <td>0.993629</td>\n",
       "      <td>0.993567</td>\n",
       "      <td>0.993570</td>\n",
       "      <td>0.995511</td>\n",
       "    </tr>\n",
       "    <tr>\n",
       "      <td>1000</td>\n",
       "      <td>0.076900</td>\n",
       "      <td>0.048800</td>\n",
       "      <td>0.992690</td>\n",
       "      <td>0.992844</td>\n",
       "      <td>0.992690</td>\n",
       "      <td>0.992705</td>\n",
       "      <td>0.995006</td>\n",
       "    </tr>\n",
       "    <tr>\n",
       "      <td>1200</td>\n",
       "      <td>0.039700</td>\n",
       "      <td>0.029933</td>\n",
       "      <td>0.994737</td>\n",
       "      <td>0.994806</td>\n",
       "      <td>0.994737</td>\n",
       "      <td>0.994744</td>\n",
       "      <td>0.996358</td>\n",
       "    </tr>\n",
       "    <tr>\n",
       "      <td>1400</td>\n",
       "      <td>0.036900</td>\n",
       "      <td>0.017991</td>\n",
       "      <td>0.997076</td>\n",
       "      <td>0.997108</td>\n",
       "      <td>0.997076</td>\n",
       "      <td>0.997079</td>\n",
       "      <td>0.998015</td>\n",
       "    </tr>\n",
       "    <tr>\n",
       "      <td>1600</td>\n",
       "      <td>0.016300</td>\n",
       "      <td>0.015712</td>\n",
       "      <td>0.997661</td>\n",
       "      <td>0.997681</td>\n",
       "      <td>0.997661</td>\n",
       "      <td>0.997663</td>\n",
       "      <td>0.998412</td>\n",
       "    </tr>\n",
       "  </tbody>\n",
       "</table><p>"
      ],
      "text/plain": [
       "<IPython.core.display.HTML object>"
      ]
     },
     "metadata": {},
     "output_type": "display_data"
    },
    {
     "data": {
      "text/plain": [
       "TrainOutput(global_step=1710, training_loss=0.11233260401508265, metrics={'train_runtime': 3920.6578, 'train_samples_per_second': 3.489, 'train_steps_per_second': 0.436, 'total_flos': 1.274886412591104e+16, 'train_loss': 0.11233260401508265, 'epoch': 1.0})"
      ]
     },
     "execution_count": 68,
     "metadata": {},
     "output_type": "execute_result"
    }
   ],
   "source": [
    "trainer.train()"
   ]
  },
  {
   "cell_type": "code",
   "execution_count": 45,
   "metadata": {
    "execution": {
     "iopub.execute_input": "2025-03-11T15:41:13.543926Z",
     "iopub.status.busy": "2025-03-11T15:41:13.543542Z",
     "iopub.status.idle": "2025-03-11T16:46:38.680089Z",
     "shell.execute_reply": "2025-03-11T16:46:38.678985Z",
     "shell.execute_reply.started": "2025-03-11T15:41:13.543898Z"
    },
    "trusted": true
   },
   "outputs": [
    {
     "data": {
      "text/html": [
       "\n",
       "    <div>\n",
       "      \n",
       "      <progress value='1710' max='1710' style='width:300px; height:20px; vertical-align: middle;'></progress>\n",
       "      [1710/1710 1:05:22, Epoch 1/1]\n",
       "    </div>\n",
       "    <table border=\"1\" class=\"dataframe\">\n",
       "  <thead>\n",
       " <tr style=\"text-align: left;\">\n",
       "      <th>Step</th>\n",
       "      <th>Training Loss</th>\n",
       "      <th>Validation Loss</th>\n",
       "      <th>Accuracy</th>\n",
       "      <th>Precision</th>\n",
       "      <th>Recall</th>\n",
       "      <th>F1 Score</th>\n",
       "      <th>Gmean</th>\n",
       "    </tr>\n",
       "  </thead>\n",
       "  <tbody>\n",
       "    <tr>\n",
       "      <td>200</td>\n",
       "      <td>0.415000</td>\n",
       "      <td>0.165543</td>\n",
       "      <td>0.962281</td>\n",
       "      <td>0.965294</td>\n",
       "      <td>0.962281</td>\n",
       "      <td>0.962693</td>\n",
       "      <td>0.973414</td>\n",
       "    </tr>\n",
       "    <tr>\n",
       "      <td>400</td>\n",
       "      <td>0.302200</td>\n",
       "      <td>0.183648</td>\n",
       "      <td>0.966959</td>\n",
       "      <td>0.967810</td>\n",
       "      <td>0.966959</td>\n",
       "      <td>0.967105</td>\n",
       "      <td>0.975971</td>\n",
       "    </tr>\n",
       "    <tr>\n",
       "      <td>600</td>\n",
       "      <td>0.172800</td>\n",
       "      <td>0.172620</td>\n",
       "      <td>0.969591</td>\n",
       "      <td>0.970200</td>\n",
       "      <td>0.969591</td>\n",
       "      <td>0.969753</td>\n",
       "      <td>0.977287</td>\n",
       "    </tr>\n",
       "    <tr>\n",
       "      <td>800</td>\n",
       "      <td>0.084100</td>\n",
       "      <td>0.069898</td>\n",
       "      <td>0.988889</td>\n",
       "      <td>0.989164</td>\n",
       "      <td>0.988889</td>\n",
       "      <td>0.988943</td>\n",
       "      <td>0.992184</td>\n",
       "    </tr>\n",
       "    <tr>\n",
       "      <td>1000</td>\n",
       "      <td>0.092700</td>\n",
       "      <td>0.021725</td>\n",
       "      <td>0.996199</td>\n",
       "      <td>0.996239</td>\n",
       "      <td>0.996199</td>\n",
       "      <td>0.996203</td>\n",
       "      <td>0.997366</td>\n",
       "    </tr>\n",
       "    <tr>\n",
       "      <td>1200</td>\n",
       "      <td>0.040900</td>\n",
       "      <td>0.030639</td>\n",
       "      <td>0.994737</td>\n",
       "      <td>0.994840</td>\n",
       "      <td>0.994737</td>\n",
       "      <td>0.994746</td>\n",
       "      <td>0.996427</td>\n",
       "    </tr>\n",
       "    <tr>\n",
       "      <td>1400</td>\n",
       "      <td>0.040400</td>\n",
       "      <td>0.028239</td>\n",
       "      <td>0.995322</td>\n",
       "      <td>0.995403</td>\n",
       "      <td>0.995322</td>\n",
       "      <td>0.995329</td>\n",
       "      <td>0.996824</td>\n",
       "    </tr>\n",
       "    <tr>\n",
       "      <td>1600</td>\n",
       "      <td>0.027600</td>\n",
       "      <td>0.022823</td>\n",
       "      <td>0.996491</td>\n",
       "      <td>0.996537</td>\n",
       "      <td>0.996491</td>\n",
       "      <td>0.996496</td>\n",
       "      <td>0.997618</td>\n",
       "    </tr>\n",
       "  </tbody>\n",
       "</table><p>"
      ],
      "text/plain": [
       "<IPython.core.display.HTML object>"
      ]
     },
     "metadata": {},
     "output_type": "display_data"
    },
    {
     "data": {
      "text/plain": [
       "TrainOutput(global_step=1710, training_loss=0.1389521998968738, metrics={'train_runtime': 3924.6863, 'train_samples_per_second': 3.486, 'train_steps_per_second': 0.436, 'total_flos': 1.274886412591104e+16, 'train_loss': 0.1389521998968738, 'epoch': 1.0})"
      ]
     },
     "execution_count": 45,
     "metadata": {},
     "output_type": "execute_result"
    }
   ],
   "source": [
    "trainer.train()"
   ]
  },
  {
   "cell_type": "code",
   "execution_count": 23,
   "metadata": {
    "execution": {
     "iopub.execute_input": "2025-02-02T01:08:37.682776Z",
     "iopub.status.busy": "2025-02-02T01:08:37.682441Z",
     "iopub.status.idle": "2025-02-02T02:40:30.501846Z",
     "shell.execute_reply": "2025-02-02T02:40:30.500959Z",
     "shell.execute_reply.started": "2025-02-02T01:08:37.682748Z"
    },
    "trusted": true
   },
   "outputs": [
    {
     "data": {
      "text/html": [
       "\n",
       "    <div>\n",
       "      \n",
       "      <progress value='1710' max='1710' style='width:300px; height:20px; vertical-align: middle;'></progress>\n",
       "      [1710/1710 1:31:50, Epoch 1/1]\n",
       "    </div>\n",
       "    <table border=\"1\" class=\"dataframe\">\n",
       "  <thead>\n",
       " <tr style=\"text-align: left;\">\n",
       "      <th>Step</th>\n",
       "      <th>Training Loss</th>\n",
       "      <th>Validation Loss</th>\n",
       "      <th>Accuracy</th>\n",
       "      <th>Precision</th>\n",
       "      <th>Recall</th>\n",
       "      <th>F1 Score</th>\n",
       "      <th>Gmean</th>\n",
       "    </tr>\n",
       "  </thead>\n",
       "  <tbody>\n",
       "    <tr>\n",
       "      <td>100</td>\n",
       "      <td>0.579500</td>\n",
       "      <td>0.192009</td>\n",
       "      <td>0.964620</td>\n",
       "      <td>0.966564</td>\n",
       "      <td>0.964620</td>\n",
       "      <td>0.964910</td>\n",
       "      <td>0.974803</td>\n",
       "    </tr>\n",
       "    <tr>\n",
       "      <td>200</td>\n",
       "      <td>0.250500</td>\n",
       "      <td>0.165543</td>\n",
       "      <td>0.962281</td>\n",
       "      <td>0.965294</td>\n",
       "      <td>0.962281</td>\n",
       "      <td>0.962693</td>\n",
       "      <td>0.973414</td>\n",
       "    </tr>\n",
       "    <tr>\n",
       "      <td>300</td>\n",
       "      <td>0.333500</td>\n",
       "      <td>0.164875</td>\n",
       "      <td>0.964327</td>\n",
       "      <td>0.966764</td>\n",
       "      <td>0.964327</td>\n",
       "      <td>0.964685</td>\n",
       "      <td>0.974756</td>\n",
       "    </tr>\n",
       "    <tr>\n",
       "      <td>400</td>\n",
       "      <td>0.270800</td>\n",
       "      <td>0.183648</td>\n",
       "      <td>0.966959</td>\n",
       "      <td>0.967810</td>\n",
       "      <td>0.966959</td>\n",
       "      <td>0.967105</td>\n",
       "      <td>0.975971</td>\n",
       "    </tr>\n",
       "    <tr>\n",
       "      <td>500</td>\n",
       "      <td>0.207500</td>\n",
       "      <td>0.117007</td>\n",
       "      <td>0.982749</td>\n",
       "      <td>0.983019</td>\n",
       "      <td>0.982749</td>\n",
       "      <td>0.982756</td>\n",
       "      <td>0.986940</td>\n",
       "    </tr>\n",
       "    <tr>\n",
       "      <td>600</td>\n",
       "      <td>0.138000</td>\n",
       "      <td>0.172620</td>\n",
       "      <td>0.969591</td>\n",
       "      <td>0.970200</td>\n",
       "      <td>0.969591</td>\n",
       "      <td>0.969753</td>\n",
       "      <td>0.977287</td>\n",
       "    </tr>\n",
       "    <tr>\n",
       "      <td>700</td>\n",
       "      <td>0.134200</td>\n",
       "      <td>0.044299</td>\n",
       "      <td>0.992105</td>\n",
       "      <td>0.992119</td>\n",
       "      <td>0.992105</td>\n",
       "      <td>0.992109</td>\n",
       "      <td>0.994093</td>\n",
       "    </tr>\n",
       "    <tr>\n",
       "      <td>800</td>\n",
       "      <td>0.034000</td>\n",
       "      <td>0.069898</td>\n",
       "      <td>0.988889</td>\n",
       "      <td>0.989164</td>\n",
       "      <td>0.988889</td>\n",
       "      <td>0.988943</td>\n",
       "      <td>0.992184</td>\n",
       "    </tr>\n",
       "    <tr>\n",
       "      <td>900</td>\n",
       "      <td>0.103700</td>\n",
       "      <td>0.057799</td>\n",
       "      <td>0.988889</td>\n",
       "      <td>0.989224</td>\n",
       "      <td>0.988889</td>\n",
       "      <td>0.988939</td>\n",
       "      <td>0.992292</td>\n",
       "    </tr>\n",
       "    <tr>\n",
       "      <td>1000</td>\n",
       "      <td>0.081600</td>\n",
       "      <td>0.021725</td>\n",
       "      <td>0.996199</td>\n",
       "      <td>0.996239</td>\n",
       "      <td>0.996199</td>\n",
       "      <td>0.996203</td>\n",
       "      <td>0.997366</td>\n",
       "    </tr>\n",
       "    <tr>\n",
       "      <td>1100</td>\n",
       "      <td>0.033000</td>\n",
       "      <td>0.042798</td>\n",
       "      <td>0.993567</td>\n",
       "      <td>0.993721</td>\n",
       "      <td>0.993567</td>\n",
       "      <td>0.993588</td>\n",
       "      <td>0.995633</td>\n",
       "    </tr>\n",
       "    <tr>\n",
       "      <td>1200</td>\n",
       "      <td>0.048700</td>\n",
       "      <td>0.030639</td>\n",
       "      <td>0.994737</td>\n",
       "      <td>0.994840</td>\n",
       "      <td>0.994737</td>\n",
       "      <td>0.994746</td>\n",
       "      <td>0.996427</td>\n",
       "    </tr>\n",
       "    <tr>\n",
       "      <td>1300</td>\n",
       "      <td>0.047200</td>\n",
       "      <td>0.032198</td>\n",
       "      <td>0.994444</td>\n",
       "      <td>0.994559</td>\n",
       "      <td>0.994444</td>\n",
       "      <td>0.994455</td>\n",
       "      <td>0.996229</td>\n",
       "    </tr>\n",
       "    <tr>\n",
       "      <td>1400</td>\n",
       "      <td>0.033600</td>\n",
       "      <td>0.028239</td>\n",
       "      <td>0.995322</td>\n",
       "      <td>0.995403</td>\n",
       "      <td>0.995322</td>\n",
       "      <td>0.995329</td>\n",
       "      <td>0.996824</td>\n",
       "    </tr>\n",
       "    <tr>\n",
       "      <td>1500</td>\n",
       "      <td>0.019600</td>\n",
       "      <td>0.024679</td>\n",
       "      <td>0.996199</td>\n",
       "      <td>0.996253</td>\n",
       "      <td>0.996199</td>\n",
       "      <td>0.996204</td>\n",
       "      <td>0.997420</td>\n",
       "    </tr>\n",
       "    <tr>\n",
       "      <td>1600</td>\n",
       "      <td>0.035500</td>\n",
       "      <td>0.022823</td>\n",
       "      <td>0.996491</td>\n",
       "      <td>0.996537</td>\n",
       "      <td>0.996491</td>\n",
       "      <td>0.996496</td>\n",
       "      <td>0.997618</td>\n",
       "    </tr>\n",
       "    <tr>\n",
       "      <td>1700</td>\n",
       "      <td>0.025000</td>\n",
       "      <td>0.022887</td>\n",
       "      <td>0.996491</td>\n",
       "      <td>0.996537</td>\n",
       "      <td>0.996491</td>\n",
       "      <td>0.996496</td>\n",
       "      <td>0.997618</td>\n",
       "    </tr>\n",
       "  </tbody>\n",
       "</table><p>"
      ],
      "text/plain": [
       "<IPython.core.display.HTML object>"
      ]
     },
     "metadata": {},
     "output_type": "display_data"
    },
    {
     "data": {
      "text/plain": [
       "TrainOutput(global_step=1710, training_loss=0.13895218430729636, metrics={'train_runtime': 5512.4525, 'train_samples_per_second': 2.482, 'train_steps_per_second': 0.31, 'total_flos': 1.274886412591104e+16, 'train_loss': 0.13895218430729636, 'epoch': 1.0})"
      ]
     },
     "execution_count": 23,
     "metadata": {},
     "output_type": "execute_result"
    }
   ],
   "source": [
    "trainer.train()   "
   ]
  },
  {
   "cell_type": "code",
   "execution_count": 93,
   "metadata": {
    "execution": {
     "iopub.execute_input": "2025-03-11T21:17:40.980097Z",
     "iopub.status.busy": "2025-03-11T21:17:40.979717Z",
     "iopub.status.idle": "2025-03-11T21:17:44.605977Z",
     "shell.execute_reply": "2025-03-11T21:17:44.605206Z",
     "shell.execute_reply.started": "2025-03-11T21:17:40.980067Z"
    },
    "trusted": true
   },
   "outputs": [],
   "source": [
    "trainer.save_model(\"roberta-large-mnli\")"
   ]
  },
  {
   "cell_type": "code",
   "execution_count": null,
   "metadata": {
    "execution": {
     "iopub.execute_input": "2025-03-11T16:47:19.692660Z",
     "iopub.status.busy": "2025-03-11T16:47:19.692348Z",
     "iopub.status.idle": "2025-03-11T16:47:19.814290Z",
     "shell.execute_reply": "2025-03-11T16:47:19.813568Z",
     "shell.execute_reply.started": "2025-03-11T16:47:19.692633Z"
    },
    "trusted": true
   },
   "outputs": [
    {
     "name": "stderr",
     "output_type": "stream",
     "text": [
      "/usr/local/lib/python3.10/dist-packages/huggingface_hub/utils/_deprecation.py:100: FutureWarning: Deprecated argument(s) used in 'login': write_permission. Will not be supported from version '1.0'.\n",
      "\n",
      "Fine-grained tokens added complexity to the permissions, making it irrelevant to check if a token has 'write' access.\n",
      "  warnings.warn(message, FutureWarning)\n",
      "Token has not been saved to git credential helper.\n"
     ]
    },
    {
     "name": "stdout",
     "output_type": "stream",
     "text": [
      "\u001b[1m\u001b[31mCannot authenticate through git-credential as no helper is defined on your machine.\n",
      "You might have to re-authenticate when pushing to the Hugging Face Hub.\n",
      "Run the following command in your terminal in case you want to set the 'store' credential helper as default.\n",
      "\n",
      "git config --global credential.helper store\n",
      "\n",
      "Read https://git-scm.com/book/en/v2/Git-Tools-Credential-Storage for more details.\u001b[0m\n"
     ]
    }
   ],
   "source": [
    "# uploading to HuggingFace \n",
    "from huggingface_hub import login\n",
    "\n",
    "login(new_session=False, # Won’t request token if one is already saved on machine\n",
    "write_permission=True, # Requires a token with write permission\n",
    "token=\"\", # The name of your token\n",
    "add_to_git_credential=True)"
   ]
  },
  {
   "cell_type": "code",
   "execution_count": 94,
   "metadata": {
    "execution": {
     "iopub.execute_input": "2025-03-11T21:17:50.094095Z",
     "iopub.status.busy": "2025-03-11T21:17:50.093685Z",
     "iopub.status.idle": "2025-03-11T21:18:30.051364Z",
     "shell.execute_reply": "2025-03-11T21:18:30.050541Z",
     "shell.execute_reply.started": "2025-03-11T21:17:50.094064Z"
    },
    "trusted": true
   },
   "outputs": [
    {
     "data": {
      "application/vnd.jupyter.widget-view+json": {
       "model_id": "878d8fd3d18c471fa5cdd60065c63123",
       "version_major": 2,
       "version_minor": 0
      },
      "text/plain": [
       "training_args.bin:   0%|          | 0.00/5.30k [00:00<?, ?B/s]"
      ]
     },
     "metadata": {},
     "output_type": "display_data"
    },
    {
     "data": {
      "application/vnd.jupyter.widget-view+json": {
       "model_id": "6543b86a1de347a789a964750670cbb2",
       "version_major": 2,
       "version_minor": 0
      },
      "text/plain": [
       "Upload 2 LFS files:   0%|          | 0/2 [00:00<?, ?it/s]"
      ]
     },
     "metadata": {},
     "output_type": "display_data"
    },
    {
     "data": {
      "application/vnd.jupyter.widget-view+json": {
       "model_id": "cb9212cd5c314c64862f0ea244eda89f",
       "version_major": 2,
       "version_minor": 0
      },
      "text/plain": [
       "model.safetensors:   0%|          | 0.00/1.42G [00:00<?, ?B/s]"
      ]
     },
     "metadata": {},
     "output_type": "display_data"
    },
    {
     "data": {
      "text/plain": [
       "CommitInfo(commit_url='https://huggingface.co/ConditionalNLI/Exp4_roberta-large-mnli/commit/b4fedb4062e61875a8769a67264bb29b62b8e974', commit_message='Run 3', commit_description='', oid='b4fedb4062e61875a8769a67264bb29b62b8e974', pr_url=None, repo_url=RepoUrl('https://huggingface.co/ConditionalNLI/Exp4_roberta-large-mnli', endpoint='https://huggingface.co', repo_type='model', repo_id='ConditionalNLI/Exp4_roberta-large-mnli'), pr_revision=None, pr_num=None)"
      ]
     },
     "execution_count": 94,
     "metadata": {},
     "output_type": "execute_result"
    }
   ],
   "source": [
    "from huggingface_hub import HfApi\n",
    "api = HfApi()\n",
    "\n",
    "# Upload all the content from the local folder to your remote Space.\n",
    "# By default, files are uploaded at the root of the repo\n",
    "api.upload_folder(\n",
    "    folder_path='/kaggle/working/roberta-large-mnli',\n",
    "    repo_id=\"ConditionalNLI/Exp4_roberta-large-mnli\",\n",
    "    commit_message=\"Run 3\"\n",
    ")"
   ]
  },
  {
   "cell_type": "markdown",
   "metadata": {},
   "source": [
    "### Inferencing"
   ]
  },
  {
   "cell_type": "code",
   "execution_count": 71,
   "metadata": {
    "execution": {
     "iopub.execute_input": "2025-03-11T19:59:48.222612Z",
     "iopub.status.busy": "2025-03-11T19:59:48.222303Z",
     "iopub.status.idle": "2025-03-11T19:59:48.226424Z",
     "shell.execute_reply": "2025-03-11T19:59:48.225459Z",
     "shell.execute_reply.started": "2025-03-11T19:59:48.222587Z"
    },
    "trusted": true
   },
   "outputs": [],
   "source": [
    "from transformers import pipeline\n",
    "from datasets import load_dataset, Dataset\n",
    "from transformers.pipelines.pt_utils import KeyDataset, KeyPairDataset\n",
    "import torch"
   ]
  },
  {
   "cell_type": "code",
   "execution_count": 72,
   "metadata": {
    "execution": {
     "iopub.execute_input": "2025-03-11T19:59:54.417265Z",
     "iopub.status.busy": "2025-03-11T19:59:54.416961Z",
     "iopub.status.idle": "2025-03-11T19:59:54.422583Z",
     "shell.execute_reply": "2025-03-11T19:59:54.421675Z",
     "shell.execute_reply.started": "2025-03-11T19:59:54.417242Z"
    },
    "trusted": true
   },
   "outputs": [
    {
     "name": "stdout",
     "output_type": "stream",
     "text": [
      "GPU is available!\n"
     ]
    }
   ],
   "source": [
    "if torch.cuda.is_available():\n",
    "    print(\"GPU is available!\")\n",
    "    device = torch.device(\"cuda\")\n",
    "else:\n",
    "    print(\"GPU is not available, using CPU\")\n",
    "    device = torch.device(\"cpu\")"
   ]
  },
  {
   "cell_type": "code",
   "execution_count": 95,
   "metadata": {
    "execution": {
     "iopub.execute_input": "2025-03-11T21:18:41.771247Z",
     "iopub.status.busy": "2025-03-11T21:18:41.770806Z",
     "iopub.status.idle": "2025-03-11T21:18:57.090093Z",
     "shell.execute_reply": "2025-03-11T21:18:57.089228Z",
     "shell.execute_reply.started": "2025-03-11T21:18:41.771214Z"
    },
    "trusted": true
   },
   "outputs": [
    {
     "data": {
      "application/vnd.jupyter.widget-view+json": {
       "model_id": "791f4afadc61482db651337862e96672",
       "version_major": 2,
       "version_minor": 0
      },
      "text/plain": [
       "model.safetensors:   0%|          | 0.00/1.42G [00:00<?, ?B/s]"
      ]
     },
     "metadata": {},
     "output_type": "display_data"
    }
   ],
   "source": [
    "checkpoint = \"ConditionalNLI/Exp4_roberta-large-mnli\"\n",
    "tokenizer = AutoTokenizer.from_pretrained(checkpoint)\n",
    "model = AutoModelForSequenceClassification.from_pretrained(checkpoint, num_labels=3)"
   ]
  },
  {
   "cell_type": "code",
   "execution_count": 96,
   "metadata": {
    "execution": {
     "iopub.execute_input": "2025-03-11T21:19:00.337553Z",
     "iopub.status.busy": "2025-03-11T21:19:00.337230Z",
     "iopub.status.idle": "2025-03-11T21:19:00.874351Z",
     "shell.execute_reply": "2025-03-11T21:19:00.873452Z",
     "shell.execute_reply.started": "2025-03-11T21:19:00.337520Z"
    },
    "trusted": true
   },
   "outputs": [
    {
     "name": "stderr",
     "output_type": "stream",
     "text": [
      "Device set to use cuda\n"
     ]
    }
   ],
   "source": [
    "gen = pipeline('text-classification', model=model, tokenizer=tokenizer, device=device)"
   ]
  },
  {
   "cell_type": "code",
   "execution_count": 97,
   "metadata": {
    "execution": {
     "iopub.execute_input": "2025-03-11T21:19:03.406566Z",
     "iopub.status.busy": "2025-03-11T21:19:03.406231Z",
     "iopub.status.idle": "2025-03-11T21:19:43.424790Z",
     "shell.execute_reply": "2025-03-11T21:19:43.423981Z",
     "shell.execute_reply.started": "2025-03-11T21:19:03.406538Z"
    },
    "trusted": true
   },
   "outputs": [
    {
     "name": "stdout",
     "output_type": "stream",
     "text": [
      "0\n",
      "100\n",
      "200\n",
      "300\n",
      "400\n",
      "500\n",
      "600\n",
      "700\n",
      "800\n",
      "900\n",
      "1000\n",
      "1100\n",
      "1200\n",
      "1300\n",
      "1400\n",
      "1500\n",
      "1600\n",
      "1700\n",
      "1800\n",
      "1900\n",
      "2000\n",
      "2100\n",
      "2200\n",
      "2300\n"
     ]
    },
    {
     "data": {
      "text/plain": [
       "2367"
      ]
     },
     "execution_count": 97,
     "metadata": {},
     "output_type": "execute_result"
    }
   ],
   "source": [
    "id_num = 0\n",
    "test_results = pd.DataFrame(columns = ['id', 'premise', 'hypothesis', 'type', 'expected_label', 'predicted_label'])\n",
    "\n",
    "for predicted in gen(KeyPairDataset(test_ds,'premise', 'hypothesis'), batch_size=8, truncation=True):\n",
    "    if id_num % 100 == 0:\n",
    "        print(id_num)\n",
    "    test_results.loc[id_num] = [str(id_num), test_ds['premise'][id_num], test_ds['hypothesis'][id_num], test_ds['type'][id_num], test_ds['label'][id_num], predicted['label']]\n",
    "    id_num += 1\n",
    "\n",
    "len(test_results)"
   ]
  },
  {
   "cell_type": "code",
   "execution_count": 55,
   "metadata": {
    "execution": {
     "iopub.execute_input": "2025-03-11T16:49:41.189854Z",
     "iopub.status.busy": "2025-03-11T16:49:41.189508Z",
     "iopub.status.idle": "2025-03-11T16:49:41.202103Z",
     "shell.execute_reply": "2025-03-11T16:49:41.201198Z",
     "shell.execute_reply.started": "2025-03-11T16:49:41.189823Z"
    },
    "trusted": true
   },
   "outputs": [
    {
     "data": {
      "text/html": [
       "<div>\n",
       "<style scoped>\n",
       "    .dataframe tbody tr th:only-of-type {\n",
       "        vertical-align: middle;\n",
       "    }\n",
       "\n",
       "    .dataframe tbody tr th {\n",
       "        vertical-align: top;\n",
       "    }\n",
       "\n",
       "    .dataframe thead th {\n",
       "        text-align: right;\n",
       "    }\n",
       "</style>\n",
       "<table border=\"1\" class=\"dataframe\">\n",
       "  <thead>\n",
       "    <tr style=\"text-align: right;\">\n",
       "      <th></th>\n",
       "      <th>id</th>\n",
       "      <th>premise</th>\n",
       "      <th>hypothesis</th>\n",
       "      <th>type</th>\n",
       "      <th>expected_label</th>\n",
       "      <th>predicted_label</th>\n",
       "    </tr>\n",
       "  </thead>\n",
       "  <tbody>\n",
       "    <tr>\n",
       "      <th>0</th>\n",
       "      <td>0</td>\n",
       "      <td>If Charlotte passes her driving test, her parents will buy her a car.</td>\n",
       "      <td>Charlotte has parents.</td>\n",
       "      <td>type5_possessive</td>\n",
       "      <td>ENTAILMENT</td>\n",
       "      <td>CONTRADICTION</td>\n",
       "    </tr>\n",
       "    <tr>\n",
       "      <th>1</th>\n",
       "      <td>1</td>\n",
       "      <td>It's not the case that if Charlotte passes her driving test, her parents will buy her a car.</td>\n",
       "      <td>Charlotte has parents.</td>\n",
       "      <td>type5_possessive</td>\n",
       "      <td>ENTAILMENT</td>\n",
       "      <td>CONTRADICTION</td>\n",
       "    </tr>\n",
       "    <tr>\n",
       "      <th>2</th>\n",
       "      <td>2</td>\n",
       "      <td>Sam believes that if Charlotte passes her driving test, her parents will buy her a car.</td>\n",
       "      <td>Charlotte has parents.</td>\n",
       "      <td>type5_possessive</td>\n",
       "      <td>ENTAILMENT</td>\n",
       "      <td>CONTRADICTION</td>\n",
       "    </tr>\n",
       "    <tr>\n",
       "      <th>3</th>\n",
       "      <td>3</td>\n",
       "      <td>Is it true that if Charlotte passes her driving test, her parents will buy her a car?</td>\n",
       "      <td>Charlotte has parents.</td>\n",
       "      <td>type5_possessive</td>\n",
       "      <td>ENTAILMENT</td>\n",
       "      <td>CONTRADICTION</td>\n",
       "    </tr>\n",
       "    <tr>\n",
       "      <th>4</th>\n",
       "      <td>4</td>\n",
       "      <td>If Lily takes the train to the city, her friend will meet her at the station.</td>\n",
       "      <td>Lily has a friend.</td>\n",
       "      <td>type5_possessive</td>\n",
       "      <td>ENTAILMENT</td>\n",
       "      <td>CONTRADICTION</td>\n",
       "    </tr>\n",
       "    <tr>\n",
       "      <th>...</th>\n",
       "      <td>...</td>\n",
       "      <td>...</td>\n",
       "      <td>...</td>\n",
       "      <td>...</td>\n",
       "      <td>...</td>\n",
       "      <td>...</td>\n",
       "    </tr>\n",
       "    <tr>\n",
       "      <th>2362</th>\n",
       "      <td>2362</td>\n",
       "      <td>If Sophia decides to attend the concert, his best friend will drive him there.</td>\n",
       "      <td>Sophia has a close friend.</td>\n",
       "      <td>type5_possessive</td>\n",
       "      <td>NEUTRAL</td>\n",
       "      <td>CONTRADICTION</td>\n",
       "    </tr>\n",
       "    <tr>\n",
       "      <th>2363</th>\n",
       "      <td>2363</td>\n",
       "      <td>It's not the case that if Sophia decides to attend the concert, his best friend will drive him there.</td>\n",
       "      <td>Sophia has a close friend.</td>\n",
       "      <td>type5_possessive</td>\n",
       "      <td>NEUTRAL</td>\n",
       "      <td>CONTRADICTION</td>\n",
       "    </tr>\n",
       "    <tr>\n",
       "      <th>2364</th>\n",
       "      <td>2364</td>\n",
       "      <td>Sam believes that if Sophia decides to attend the concert, his best friend will drive him there.</td>\n",
       "      <td>Sophia has a close friend.</td>\n",
       "      <td>type5_possessive</td>\n",
       "      <td>NEUTRAL</td>\n",
       "      <td>CONTRADICTION</td>\n",
       "    </tr>\n",
       "    <tr>\n",
       "      <th>2365</th>\n",
       "      <td>2365</td>\n",
       "      <td>Is it true that if Sophia decides to attend the concert, his best friend will drive him there?</td>\n",
       "      <td>Sophia has a close friend.</td>\n",
       "      <td>type5_possessive</td>\n",
       "      <td>NEUTRAL</td>\n",
       "      <td>CONTRADICTION</td>\n",
       "    </tr>\n",
       "    <tr>\n",
       "      <th>2366</th>\n",
       "      <td>2366</td>\n",
       "      <td>If Sophia decides to attend the concert, his best friend will drive him there.</td>\n",
       "      <td>Sophia has decided to attend the concert, but his best friend will not drive him.</td>\n",
       "      <td>type5_possessive</td>\n",
       "      <td>CONTRADICTION</td>\n",
       "      <td>ENTAILMENT</td>\n",
       "    </tr>\n",
       "  </tbody>\n",
       "</table>\n",
       "<p>2367 rows × 6 columns</p>\n",
       "</div>"
      ],
      "text/plain": [
       "        id  \\\n",
       "0        0   \n",
       "1        1   \n",
       "2        2   \n",
       "3        3   \n",
       "4        4   \n",
       "...    ...   \n",
       "2362  2362   \n",
       "2363  2363   \n",
       "2364  2364   \n",
       "2365  2365   \n",
       "2366  2366   \n",
       "\n",
       "                                                                                                    premise  \\\n",
       "0                                     If Charlotte passes her driving test, her parents will buy her a car.   \n",
       "1              It's not the case that if Charlotte passes her driving test, her parents will buy her a car.   \n",
       "2                   Sam believes that if Charlotte passes her driving test, her parents will buy her a car.   \n",
       "3                     Is it true that if Charlotte passes her driving test, her parents will buy her a car?   \n",
       "4                             If Lily takes the train to the city, her friend will meet her at the station.   \n",
       "...                                                                                                     ...   \n",
       "2362                         If Sophia decides to attend the concert, his best friend will drive him there.   \n",
       "2363  It's not the case that if Sophia decides to attend the concert, his best friend will drive him there.   \n",
       "2364       Sam believes that if Sophia decides to attend the concert, his best friend will drive him there.   \n",
       "2365         Is it true that if Sophia decides to attend the concert, his best friend will drive him there?   \n",
       "2366                         If Sophia decides to attend the concert, his best friend will drive him there.   \n",
       "\n",
       "                                                                             hypothesis  \\\n",
       "0                                                                Charlotte has parents.   \n",
       "1                                                                Charlotte has parents.   \n",
       "2                                                                Charlotte has parents.   \n",
       "3                                                                Charlotte has parents.   \n",
       "4                                                                    Lily has a friend.   \n",
       "...                                                                                 ...   \n",
       "2362                                                         Sophia has a close friend.   \n",
       "2363                                                         Sophia has a close friend.   \n",
       "2364                                                         Sophia has a close friend.   \n",
       "2365                                                         Sophia has a close friend.   \n",
       "2366  Sophia has decided to attend the concert, but his best friend will not drive him.   \n",
       "\n",
       "                  type expected_label predicted_label  \n",
       "0     type5_possessive     ENTAILMENT   CONTRADICTION  \n",
       "1     type5_possessive     ENTAILMENT   CONTRADICTION  \n",
       "2     type5_possessive     ENTAILMENT   CONTRADICTION  \n",
       "3     type5_possessive     ENTAILMENT   CONTRADICTION  \n",
       "4     type5_possessive     ENTAILMENT   CONTRADICTION  \n",
       "...                ...            ...             ...  \n",
       "2362  type5_possessive        NEUTRAL   CONTRADICTION  \n",
       "2363  type5_possessive        NEUTRAL   CONTRADICTION  \n",
       "2364  type5_possessive        NEUTRAL   CONTRADICTION  \n",
       "2365  type5_possessive        NEUTRAL   CONTRADICTION  \n",
       "2366  type5_possessive  CONTRADICTION      ENTAILMENT  \n",
       "\n",
       "[2367 rows x 6 columns]"
      ]
     },
     "execution_count": 55,
     "metadata": {},
     "output_type": "execute_result"
    }
   ],
   "source": [
    "test_results"
   ]
  },
  {
   "cell_type": "code",
   "execution_count": 98,
   "metadata": {
    "execution": {
     "iopub.execute_input": "2025-03-11T21:19:46.789737Z",
     "iopub.status.busy": "2025-03-11T21:19:46.789421Z",
     "iopub.status.idle": "2025-03-11T21:19:46.810806Z",
     "shell.execute_reply": "2025-03-11T21:19:46.809664Z",
     "shell.execute_reply.started": "2025-03-11T21:19:46.789713Z"
    },
    "trusted": true
   },
   "outputs": [],
   "source": [
    "test_results.to_csv('exp4_roberta_test_results_run3.csv')"
   ]
  },
  {
   "cell_type": "code",
   "execution_count": 77,
   "metadata": {
    "execution": {
     "iopub.execute_input": "2025-03-11T20:01:18.533415Z",
     "iopub.status.busy": "2025-03-11T20:01:18.533138Z",
     "iopub.status.idle": "2025-03-11T20:01:18.537173Z",
     "shell.execute_reply": "2025-03-11T20:01:18.536279Z",
     "shell.execute_reply.started": "2025-03-11T20:01:18.533395Z"
    },
    "trusted": true
   },
   "outputs": [],
   "source": [
    "from sklearn.metrics import confusion_matrix, classification_report\n",
    "import seaborn as sns\n",
    "import matplotlib.pyplot as plt"
   ]
  },
  {
   "cell_type": "code",
   "execution_count": 99,
   "metadata": {
    "execution": {
     "iopub.execute_input": "2025-03-11T21:19:49.773252Z",
     "iopub.status.busy": "2025-03-11T21:19:49.772855Z",
     "iopub.status.idle": "2025-03-11T21:19:50.025225Z",
     "shell.execute_reply": "2025-03-11T21:19:50.024253Z",
     "shell.execute_reply.started": "2025-03-11T21:19:49.773224Z"
    },
    "trusted": true
   },
   "outputs": [
    {
     "data": {
      "image/png": "[encoded data removed]",
      "text/plain": [
       "<Figure size 800x600 with 2 Axes>"
      ]
     },
     "metadata": {},
     "output_type": "display_data"
    }
   ],
   "source": [
    "# Create the testing confusion matrix\n",
    "cm = confusion_matrix(test_results['expected_label'], test_results['predicted_label'],labels=[\"ENTAILMENT\",\"NEUTRAL\",\"CONTRADICTION\"])\n",
    "\n",
    "# Visualize the confusion matrix\n",
    "plt.figure(figsize=(8, 6))\n",
    "sns.heatmap(cm, annot=True, fmt=\"d\",cmap=\"Blues\")\n",
    "plt.xlabel(\"Predicted Label\")\n",
    "plt.ylabel(\"True Label\")\n",
    "plt.title(\"Confusion Matrix\")\n",
    "plt.show()"
   ]
  },
  {
   "cell_type": "code",
   "execution_count": 100,
   "metadata": {
    "execution": {
     "iopub.execute_input": "2025-03-11T21:21:05.074301Z",
     "iopub.status.busy": "2025-03-11T21:21:05.073948Z",
     "iopub.status.idle": "2025-03-11T21:21:05.160763Z",
     "shell.execute_reply": "2025-03-11T21:21:05.159969Z",
     "shell.execute_reply.started": "2025-03-11T21:21:05.074274Z"
    },
    "trusted": true
   },
   "outputs": [
    {
     "data": {
      "text/html": [
       "<div>\n",
       "<style scoped>\n",
       "    .dataframe tbody tr th:only-of-type {\n",
       "        vertical-align: middle;\n",
       "    }\n",
       "\n",
       "    .dataframe tbody tr th {\n",
       "        vertical-align: top;\n",
       "    }\n",
       "\n",
       "    .dataframe thead th {\n",
       "        text-align: right;\n",
       "    }\n",
       "</style>\n",
       "<table border=\"1\" class=\"dataframe\">\n",
       "  <thead>\n",
       "    <tr style=\"text-align: right;\">\n",
       "      <th>label</th>\n",
       "      <th>precision</th>\n",
       "      <th>recall</th>\n",
       "      <th>f1-score</th>\n",
       "      <th>support</th>\n",
       "    </tr>\n",
       "  </thead>\n",
       "  <tbody>\n",
       "    <tr>\n",
       "      <th>CONTRADICTION</th>\n",
       "      <td>0.000000</td>\n",
       "      <td>0.000000</td>\n",
       "      <td>0.000000</td>\n",
       "      <td>768.000000</td>\n",
       "    </tr>\n",
       "    <tr>\n",
       "      <th>ENTAILMENT</th>\n",
       "      <td>0.012162</td>\n",
       "      <td>0.012500</td>\n",
       "      <td>0.012329</td>\n",
       "      <td>720.000000</td>\n",
       "    </tr>\n",
       "    <tr>\n",
       "      <th>NEUTRAL</th>\n",
       "      <td>0.619632</td>\n",
       "      <td>0.229807</td>\n",
       "      <td>0.335270</td>\n",
       "      <td>879.000000</td>\n",
       "    </tr>\n",
       "    <tr>\n",
       "      <th>accuracy</th>\n",
       "      <td>0.089142</td>\n",
       "      <td>0.089142</td>\n",
       "      <td>0.089142</td>\n",
       "      <td>0.089142</td>\n",
       "    </tr>\n",
       "    <tr>\n",
       "      <th>macro avg</th>\n",
       "      <td>0.210598</td>\n",
       "      <td>0.080769</td>\n",
       "      <td>0.115866</td>\n",
       "      <td>2367.000000</td>\n",
       "    </tr>\n",
       "    <tr>\n",
       "      <th>weighted avg</th>\n",
       "      <td>0.233804</td>\n",
       "      <td>0.089142</td>\n",
       "      <td>0.128255</td>\n",
       "      <td>2367.000000</td>\n",
       "    </tr>\n",
       "  </tbody>\n",
       "</table>\n",
       "</div>"
      ],
      "text/plain": [
       "label          precision    recall  f1-score      support\n",
       "CONTRADICTION   0.000000  0.000000  0.000000   768.000000\n",
       "ENTAILMENT      0.012162  0.012500  0.012329   720.000000\n",
       "NEUTRAL         0.619632  0.229807  0.335270   879.000000\n",
       "accuracy        0.089142  0.089142  0.089142     0.089142\n",
       "macro avg       0.210598  0.080769  0.115866  2367.000000\n",
       "weighted avg    0.233804  0.089142  0.128255  2367.000000"
      ]
     },
     "execution_count": 100,
     "metadata": {},
     "output_type": "execute_result"
    }
   ],
   "source": [
    "report_dict = classification_report(test_results['expected_label'], test_results['predicted_label'], output_dict=True)\n",
    "report_df = pd.DataFrame(report_dict).transpose() \n",
    "report_df.columns.name = 'label'\n",
    "report_df"
   ]
  },
  {
   "cell_type": "code",
   "execution_count": 101,
   "metadata": {
    "execution": {
     "iopub.execute_input": "2025-03-11T21:21:20.005374Z",
     "iopub.status.busy": "2025-03-11T21:21:20.005047Z",
     "iopub.status.idle": "2025-03-11T21:21:20.129652Z",
     "shell.execute_reply": "2025-03-11T21:21:20.128776Z",
     "shell.execute_reply.started": "2025-03-11T21:21:20.005350Z"
    },
    "trusted": true
   },
   "outputs": [
    {
     "name": "stderr",
     "output_type": "stream",
     "text": [
      "/usr/local/lib/python3.10/dist-packages/sklearn/metrics/_classification.py:1344: UndefinedMetricWarning: Precision is ill-defined and being set to 0.0 in labels with no predicted samples. Use `zero_division` parameter to control this behavior.\n",
      "  _warn_prf(average, modifier, msg_start, len(result))\n",
      "/usr/local/lib/python3.10/dist-packages/sklearn/metrics/_classification.py:1344: UndefinedMetricWarning: Precision is ill-defined and being set to 0.0 in labels with no predicted samples. Use `zero_division` parameter to control this behavior.\n",
      "  _warn_prf(average, modifier, msg_start, len(result))\n",
      "/usr/local/lib/python3.10/dist-packages/sklearn/metrics/_classification.py:1344: UndefinedMetricWarning: Precision is ill-defined and being set to 0.0 in labels with no predicted samples. Use `zero_division` parameter to control this behavior.\n",
      "  _warn_prf(average, modifier, msg_start, len(result))\n",
      "/usr/local/lib/python3.10/dist-packages/sklearn/metrics/_classification.py:1344: UndefinedMetricWarning: Precision is ill-defined and being set to 0.0 in labels with no predicted samples. Use `zero_division` parameter to control this behavior.\n",
      "  _warn_prf(average, modifier, msg_start, len(result))\n",
      "/usr/local/lib/python3.10/dist-packages/sklearn/metrics/_classification.py:1344: UndefinedMetricWarning: Precision is ill-defined and being set to 0.0 in labels with no predicted samples. Use `zero_division` parameter to control this behavior.\n",
      "  _warn_prf(average, modifier, msg_start, len(result))\n",
      "<ipython-input-101-823762390d06>:1: DeprecationWarning: DataFrameGroupBy.apply operated on the grouping columns. This behavior is deprecated, and in a future version of pandas the grouping columns will be excluded from the operation. Either pass `include_groups=False` to exclude the groupings or explicitly select the grouping columns after groupby to silence this warning.\n",
      "  metrics_by_type = test_results.groupby('type').apply(compute_metrics_by_type).reset_index()\n"
     ]
    },
    {
     "data": {
      "text/html": [
       "<div>\n",
       "<style scoped>\n",
       "    .dataframe tbody tr th:only-of-type {\n",
       "        vertical-align: middle;\n",
       "    }\n",
       "\n",
       "    .dataframe tbody tr th {\n",
       "        vertical-align: top;\n",
       "    }\n",
       "\n",
       "    .dataframe thead th {\n",
       "        text-align: right;\n",
       "    }\n",
       "</style>\n",
       "<table border=\"1\" class=\"dataframe\">\n",
       "  <thead>\n",
       "    <tr style=\"text-align: right;\">\n",
       "      <th>ID</th>\n",
       "      <th>type</th>\n",
       "      <th>accuracy</th>\n",
       "      <th>precision</th>\n",
       "      <th>recall</th>\n",
       "      <th>f1_score</th>\n",
       "    </tr>\n",
       "  </thead>\n",
       "  <tbody>\n",
       "    <tr>\n",
       "      <th>0</th>\n",
       "      <td>type1_again</td>\n",
       "      <td>0.27</td>\n",
       "      <td>0.24</td>\n",
       "      <td>0.27</td>\n",
       "      <td>0.26</td>\n",
       "    </tr>\n",
       "    <tr>\n",
       "      <th>1</th>\n",
       "      <td>type1_possessive</td>\n",
       "      <td>0.29</td>\n",
       "      <td>0.15</td>\n",
       "      <td>0.29</td>\n",
       "      <td>0.19</td>\n",
       "    </tr>\n",
       "    <tr>\n",
       "      <th>2</th>\n",
       "      <td>type2_again</td>\n",
       "      <td>0.10</td>\n",
       "      <td>0.07</td>\n",
       "      <td>0.10</td>\n",
       "      <td>0.08</td>\n",
       "    </tr>\n",
       "    <tr>\n",
       "      <th>3</th>\n",
       "      <td>type2_possessive</td>\n",
       "      <td>0.00</td>\n",
       "      <td>0.00</td>\n",
       "      <td>0.00</td>\n",
       "      <td>0.00</td>\n",
       "    </tr>\n",
       "    <tr>\n",
       "      <th>4</th>\n",
       "      <td>type3_again</td>\n",
       "      <td>0.08</td>\n",
       "      <td>0.28</td>\n",
       "      <td>0.08</td>\n",
       "      <td>0.08</td>\n",
       "    </tr>\n",
       "    <tr>\n",
       "      <th>5</th>\n",
       "      <td>type3_possessive</td>\n",
       "      <td>0.07</td>\n",
       "      <td>0.01</td>\n",
       "      <td>0.07</td>\n",
       "      <td>0.01</td>\n",
       "    </tr>\n",
       "    <tr>\n",
       "      <th>6</th>\n",
       "      <td>type4_possessive</td>\n",
       "      <td>0.13</td>\n",
       "      <td>0.05</td>\n",
       "      <td>0.13</td>\n",
       "      <td>0.07</td>\n",
       "    </tr>\n",
       "    <tr>\n",
       "      <th>7</th>\n",
       "      <td>type5_again</td>\n",
       "      <td>0.00</td>\n",
       "      <td>0.00</td>\n",
       "      <td>0.00</td>\n",
       "      <td>0.00</td>\n",
       "    </tr>\n",
       "    <tr>\n",
       "      <th>8</th>\n",
       "      <td>type5_possessive</td>\n",
       "      <td>0.01</td>\n",
       "      <td>0.00</td>\n",
       "      <td>0.01</td>\n",
       "      <td>0.00</td>\n",
       "    </tr>\n",
       "  </tbody>\n",
       "</table>\n",
       "</div>"
      ],
      "text/plain": [
       "ID              type  accuracy  precision  recall  f1_score\n",
       "0        type1_again      0.27       0.24    0.27      0.26\n",
       "1   type1_possessive      0.29       0.15    0.29      0.19\n",
       "2        type2_again      0.10       0.07    0.10      0.08\n",
       "3   type2_possessive      0.00       0.00    0.00      0.00\n",
       "4        type3_again      0.08       0.28    0.08      0.08\n",
       "5   type3_possessive      0.07       0.01    0.07      0.01\n",
       "6   type4_possessive      0.13       0.05    0.13      0.07\n",
       "7        type5_again      0.00       0.00    0.00      0.00\n",
       "8   type5_possessive      0.01       0.00    0.01      0.00"
      ]
     },
     "execution_count": 101,
     "metadata": {},
     "output_type": "execute_result"
    }
   ],
   "source": [
    "metrics_by_type = test_results.groupby('type').apply(compute_metrics_by_type).reset_index()\n",
    "metrics_by_type.columns.name = 'ID'\n",
    "metrics_by_type"
   ]
  }
 ],
 "metadata": {
  "kaggle": {
   "accelerator": "gpu",
   "dataSources": [
    {
     "datasetId": 6586364,
     "sourceId": 10637710,
     "sourceType": "datasetVersion"
    },
    {
     "datasetId": 6586986,
     "sourceId": 10638606,
     "sourceType": "datasetVersion"
    },
    {
     "datasetId": 6611530,
     "sourceId": 10674614,
     "sourceType": "datasetVersion"
    },
    {
     "datasetId": 6568489,
     "sourceId": 10680118,
     "sourceType": "datasetVersion"
    }
   ],
   "dockerImageVersionId": 30919,
   "isGpuEnabled": true,
   "isInternetEnabled": true,
   "language": "python",
   "sourceType": "notebook"
  },
  "kernelspec": {
   "display_name": "Python 3",
   "language": "python",
   "name": "python3"
  },
  "language_info": {
   "codemirror_mode": {
    "name": "ipython",
    "version": 3
   },
   "file_extension": ".py",
   "mimetype": "text/x-python",
   "name": "python",
   "nbconvert_exporter": "python",
   "pygments_lexer": "ipython3",
   "version": "3.10.12"
  }
 },
 "nbformat": 4,
 "nbformat_minor": 4
}
