{
 "cells": [
  {
   "cell_type": "code",
   "execution_count": 11,
   "metadata": {
    "_cell_guid": "b1076dfc-b9ad-4769-8c92-a6c4dae69d19",
    "_uuid": "8f2839f25d086af736a60e9eeb907d3b93b6e0e5",
    "execution": {
     "iopub.execute_input": "2025-03-09T20:42:58.857798Z",
     "iopub.status.busy": "2025-03-09T20:42:58.857415Z",
     "iopub.status.idle": "2025-03-09T20:42:58.861838Z",
     "shell.execute_reply": "2025-03-09T20:42:58.860811Z",
     "shell.execute_reply.started": "2025-03-09T20:42:58.857770Z"
    },
    "trusted": true
   },
   "outputs": [],
   "source": [
    "import numpy as np # linear algebra\n",
    "import pandas as pd # data processing, CSV file I/O (e.g. pd.read_csv)\n",
    "import pickle\n",
    "import gensim.downloader as api\n",
    "from gensim.models import KeyedVectors"
   ]
  },
  {
   "cell_type": "markdown",
   "metadata": {},
   "source": [
    "# Dataset"
   ]
  },
  {
   "cell_type": "code",
   "execution_count": 4,
   "metadata": {
    "execution": {
     "iopub.execute_input": "2025-03-09T20:42:58.863207Z",
     "iopub.status.busy": "2025-03-09T20:42:58.862992Z",
     "iopub.status.idle": "2025-03-09T20:42:58.906429Z",
     "shell.execute_reply": "2025-03-09T20:42:58.905741Z",
     "shell.execute_reply.started": "2025-03-09T20:42:58.863188Z"
    },
    "trusted": true
   },
   "outputs": [
    {
     "data": {
      "text/html": [
       "<div>\n",
       "<style scoped>\n",
       "    .dataframe tbody tr th:only-of-type {\n",
       "        vertical-align: middle;\n",
       "    }\n",
       "\n",
       "    .dataframe tbody tr th {\n",
       "        vertical-align: top;\n",
       "    }\n",
       "\n",
       "    .dataframe thead th {\n",
       "        text-align: right;\n",
       "    }\n",
       "</style>\n",
       "<table border=\"1\" class=\"dataframe\">\n",
       "  <thead>\n",
       "    <tr style=\"text-align: right;\">\n",
       "      <th></th>\n",
       "      <th>hypothesis</th>\n",
       "      <th>gold_label</th>\n",
       "      <th>type</th>\n",
       "      <th>uid</th>\n",
       "    </tr>\n",
       "    <tr>\n",
       "      <th>premise</th>\n",
       "      <th></th>\n",
       "      <th></th>\n",
       "      <th></th>\n",
       "      <th></th>\n",
       "    </tr>\n",
       "  </thead>\n",
       "  <tbody>\n",
       "    <tr>\n",
       "      <th>If Emily passes her driving test, her best friend will take her out for a celebratory dinner.</th>\n",
       "      <td>Emily has a best friend.</td>\n",
       "      <td>E</td>\n",
       "      <td>type5_possessive</td>\n",
       "      <td>train_type5_possessive_0001</td>\n",
       "    </tr>\n",
       "    <tr>\n",
       "      <th>It's not the case that if Emily passes her driving test, her best friend will take her out for a celebratory dinner.</th>\n",
       "      <td>Emily has a best friend.</td>\n",
       "      <td>E</td>\n",
       "      <td>type5_possessive</td>\n",
       "      <td>train_type5_possessive_0002</td>\n",
       "    </tr>\n",
       "    <tr>\n",
       "      <th>Sam believes that if Emily passes her driving test, her best friend will take her out for a celebratory dinner.</th>\n",
       "      <td>Emily has a best friend.</td>\n",
       "      <td>E</td>\n",
       "      <td>type5_possessive</td>\n",
       "      <td>train_type5_possessive_0003</td>\n",
       "    </tr>\n",
       "    <tr>\n",
       "      <th>Is it true that if Emily passes her driving test, her best friend will take her out for a celebratory dinner?</th>\n",
       "      <td>Emily has a best friend.</td>\n",
       "      <td>E</td>\n",
       "      <td>type5_possessive</td>\n",
       "      <td>train_type5_possessive_0004</td>\n",
       "    </tr>\n",
       "    <tr>\n",
       "      <th>If Scarlett finishes her work early, her husband will take her out for dinner.</th>\n",
       "      <td>Scarlett has a husband.</td>\n",
       "      <td>E</td>\n",
       "      <td>type5_possessive</td>\n",
       "      <td>train_type5_possessive_0005</td>\n",
       "    </tr>\n",
       "    <tr>\n",
       "      <th>...</th>\n",
       "      <td>...</td>\n",
       "      <td>...</td>\n",
       "      <td>...</td>\n",
       "      <td>...</td>\n",
       "    </tr>\n",
       "    <tr>\n",
       "      <th>If Elizabeth finishes her presentation early, her colleagues will take her out for celebratory drinks.</th>\n",
       "      <td>Elizabeth has supportive colleagues.</td>\n",
       "      <td>N</td>\n",
       "      <td>type5_possessive</td>\n",
       "      <td>train_type5_possessive_6977</td>\n",
       "    </tr>\n",
       "    <tr>\n",
       "      <th>It's not the case that if Elizabeth finishes her presentation early, her colleagues will take her out for celebratory drinks.</th>\n",
       "      <td>Elizabeth has supportive colleagues.</td>\n",
       "      <td>N</td>\n",
       "      <td>type5_possessive</td>\n",
       "      <td>train_type5_possessive_6978</td>\n",
       "    </tr>\n",
       "    <tr>\n",
       "      <th>Sam believes that if Elizabeth finishes her presentation early, her colleagues will take her out for celebratory drinks.</th>\n",
       "      <td>Elizabeth has supportive colleagues.</td>\n",
       "      <td>N</td>\n",
       "      <td>type5_possessive</td>\n",
       "      <td>train_type5_possessive_6979</td>\n",
       "    </tr>\n",
       "    <tr>\n",
       "      <th>Is it true that if Elizabeth finishes her presentation early, her colleagues will take her out for celebratory drinks?</th>\n",
       "      <td>Elizabeth has supportive colleagues.</td>\n",
       "      <td>N</td>\n",
       "      <td>type5_possessive</td>\n",
       "      <td>train_type5_possessive_6980</td>\n",
       "    </tr>\n",
       "    <tr>\n",
       "      <th>If Elizabeth finishes her presentation early, her colleagues will take her out for celebratory drinks.</th>\n",
       "      <td>Elizabeth does not have colleagues.</td>\n",
       "      <td>C</td>\n",
       "      <td>type5_possessive</td>\n",
       "      <td>train_type5_possessive_6981</td>\n",
       "    </tr>\n",
       "  </tbody>\n",
       "</table>\n",
       "<p>6981 rows × 4 columns</p>\n",
       "</div>"
      ],
      "text/plain": [
       "                                                                              hypothesis  \\\n",
       "premise                                                                                    \n",
       "If Emily passes her driving test, her best frie...              Emily has a best friend.   \n",
       "It's not the case that if Emily passes her driv...              Emily has a best friend.   \n",
       "Sam believes that if Emily passes her driving t...              Emily has a best friend.   \n",
       "Is it true that if Emily passes her driving tes...              Emily has a best friend.   \n",
       "If Scarlett finishes her work early, her husban...               Scarlett has a husband.   \n",
       "...                                                                                  ...   \n",
       "If Elizabeth finishes her presentation early, h...  Elizabeth has supportive colleagues.   \n",
       "It's not the case that if Elizabeth finishes he...  Elizabeth has supportive colleagues.   \n",
       "Sam believes that if Elizabeth finishes her pre...  Elizabeth has supportive colleagues.   \n",
       "Is it true that if Elizabeth finishes her prese...  Elizabeth has supportive colleagues.   \n",
       "If Elizabeth finishes her presentation early, h...   Elizabeth does not have colleagues.   \n",
       "\n",
       "                                                   gold_label  \\\n",
       "premise                                                         \n",
       "If Emily passes her driving test, her best frie...          E   \n",
       "It's not the case that if Emily passes her driv...          E   \n",
       "Sam believes that if Emily passes her driving t...          E   \n",
       "Is it true that if Emily passes her driving tes...          E   \n",
       "If Scarlett finishes her work early, her husban...          E   \n",
       "...                                                       ...   \n",
       "If Elizabeth finishes her presentation early, h...          N   \n",
       "It's not the case that if Elizabeth finishes he...          N   \n",
       "Sam believes that if Elizabeth finishes her pre...          N   \n",
       "Is it true that if Elizabeth finishes her prese...          N   \n",
       "If Elizabeth finishes her presentation early, h...          C   \n",
       "\n",
       "                                                                type  \\\n",
       "premise                                                                \n",
       "If Emily passes her driving test, her best frie...  type5_possessive   \n",
       "It's not the case that if Emily passes her driv...  type5_possessive   \n",
       "Sam believes that if Emily passes her driving t...  type5_possessive   \n",
       "Is it true that if Emily passes her driving tes...  type5_possessive   \n",
       "If Scarlett finishes her work early, her husban...  type5_possessive   \n",
       "...                                                              ...   \n",
       "If Elizabeth finishes her presentation early, h...  type5_possessive   \n",
       "It's not the case that if Elizabeth finishes he...  type5_possessive   \n",
       "Sam believes that if Elizabeth finishes her pre...  type5_possessive   \n",
       "Is it true that if Elizabeth finishes her prese...  type5_possessive   \n",
       "If Elizabeth finishes her presentation early, h...  type5_possessive   \n",
       "\n",
       "                                                                            uid  \n",
       "premise                                                                          \n",
       "If Emily passes her driving test, her best frie...  train_type5_possessive_0001  \n",
       "It's not the case that if Emily passes her driv...  train_type5_possessive_0002  \n",
       "Sam believes that if Emily passes her driving t...  train_type5_possessive_0003  \n",
       "Is it true that if Emily passes her driving tes...  train_type5_possessive_0004  \n",
       "If Scarlett finishes her work early, her husban...  train_type5_possessive_0005  \n",
       "...                                                                         ...  \n",
       "If Elizabeth finishes her presentation early, h...  train_type5_possessive_6977  \n",
       "It's not the case that if Elizabeth finishes he...  train_type5_possessive_6978  \n",
       "Sam believes that if Elizabeth finishes her pre...  train_type5_possessive_6979  \n",
       "Is it true that if Elizabeth finishes her prese...  train_type5_possessive_6980  \n",
       "If Elizabeth finishes her presentation early, h...  train_type5_possessive_6981  \n",
       "\n",
       "[6981 rows x 4 columns]"
      ]
     },
     "execution_count": 4,
     "metadata": {},
     "output_type": "execute_result"
    }
   ],
   "source": [
    "train_df = pd.read_csv('../../data/processed/train.csv',index_col=0)\n",
    "train_df"
   ]
  },
  {
   "cell_type": "code",
   "execution_count": 3,
   "metadata": {
    "execution": {
     "iopub.execute_input": "2025-03-09T20:42:58.908211Z",
     "iopub.status.busy": "2025-03-09T20:42:58.907972Z",
     "iopub.status.idle": "2025-03-09T20:42:58.930127Z",
     "shell.execute_reply": "2025-03-09T20:42:58.929287Z",
     "shell.execute_reply.started": "2025-03-09T20:42:58.908190Z"
    },
    "trusted": true
   },
   "outputs": [
    {
     "data": {
      "text/html": [
       "<div>\n",
       "<style scoped>\n",
       "    .dataframe tbody tr th:only-of-type {\n",
       "        vertical-align: middle;\n",
       "    }\n",
       "\n",
       "    .dataframe tbody tr th {\n",
       "        vertical-align: top;\n",
       "    }\n",
       "\n",
       "    .dataframe thead th {\n",
       "        text-align: right;\n",
       "    }\n",
       "</style>\n",
       "<table border=\"1\" class=\"dataframe\">\n",
       "  <thead>\n",
       "    <tr style=\"text-align: right;\">\n",
       "      <th></th>\n",
       "      <th>hypothesis</th>\n",
       "      <th>gold_label</th>\n",
       "      <th>type</th>\n",
       "      <th>uid</th>\n",
       "    </tr>\n",
       "    <tr>\n",
       "      <th>premise</th>\n",
       "      <th></th>\n",
       "      <th></th>\n",
       "      <th></th>\n",
       "      <th></th>\n",
       "    </tr>\n",
       "  </thead>\n",
       "  <tbody>\n",
       "    <tr>\n",
       "      <th>If Charlotte passes her driving test, her parents will buy her a car.</th>\n",
       "      <td>Charlotte has parents.</td>\n",
       "      <td>E</td>\n",
       "      <td>type5_possessive</td>\n",
       "      <td>validation_type5_possessive_0001</td>\n",
       "    </tr>\n",
       "    <tr>\n",
       "      <th>It's not the case that if Charlotte passes her driving test, her parents will buy her a car.</th>\n",
       "      <td>Charlotte has parents.</td>\n",
       "      <td>E</td>\n",
       "      <td>type5_possessive</td>\n",
       "      <td>validation_type5_possessive_0002</td>\n",
       "    </tr>\n",
       "    <tr>\n",
       "      <th>Sam believes that if Charlotte passes her driving test, her parents will buy her a car.</th>\n",
       "      <td>Charlotte has parents.</td>\n",
       "      <td>E</td>\n",
       "      <td>type5_possessive</td>\n",
       "      <td>validation_type5_possessive_0003</td>\n",
       "    </tr>\n",
       "    <tr>\n",
       "      <th>Is it true that if Charlotte passes her driving test, her parents will buy her a car?</th>\n",
       "      <td>Charlotte has parents.</td>\n",
       "      <td>E</td>\n",
       "      <td>type5_possessive</td>\n",
       "      <td>validation_type5_possessive_0004</td>\n",
       "    </tr>\n",
       "    <tr>\n",
       "      <th>If Lily takes the train to the city, her friend will meet her at the station.</th>\n",
       "      <td>Lily has a friend.</td>\n",
       "      <td>E</td>\n",
       "      <td>type5_possessive</td>\n",
       "      <td>validation_type5_possessive_0005</td>\n",
       "    </tr>\n",
       "    <tr>\n",
       "      <th>...</th>\n",
       "      <td>...</td>\n",
       "      <td>...</td>\n",
       "      <td>...</td>\n",
       "      <td>...</td>\n",
       "    </tr>\n",
       "    <tr>\n",
       "      <th>If Sophia decides to attend the concert, his best friend will drive him there.</th>\n",
       "      <td>Sophia has a close friend.</td>\n",
       "      <td>N</td>\n",
       "      <td>type5_possessive</td>\n",
       "      <td>validation_type5_possessive_2363</td>\n",
       "    </tr>\n",
       "    <tr>\n",
       "      <th>It's not the case that if Sophia decides to attend the concert, his best friend will drive him there.</th>\n",
       "      <td>Sophia has a close friend.</td>\n",
       "      <td>N</td>\n",
       "      <td>type5_possessive</td>\n",
       "      <td>validation_type5_possessive_2364</td>\n",
       "    </tr>\n",
       "    <tr>\n",
       "      <th>Sam believes that if Sophia decides to attend the concert, his best friend will drive him there.</th>\n",
       "      <td>Sophia has a close friend.</td>\n",
       "      <td>N</td>\n",
       "      <td>type5_possessive</td>\n",
       "      <td>validation_type5_possessive_2365</td>\n",
       "    </tr>\n",
       "    <tr>\n",
       "      <th>Is it true that if Sophia decides to attend the concert, his best friend will drive him there?</th>\n",
       "      <td>Sophia has a close friend.</td>\n",
       "      <td>N</td>\n",
       "      <td>type5_possessive</td>\n",
       "      <td>validation_type5_possessive_2366</td>\n",
       "    </tr>\n",
       "    <tr>\n",
       "      <th>If Sophia decides to attend the concert, his best friend will drive him there.</th>\n",
       "      <td>Sophia has decided to attend the concert, but ...</td>\n",
       "      <td>C</td>\n",
       "      <td>type5_possessive</td>\n",
       "      <td>validation_type5_possessive_2367</td>\n",
       "    </tr>\n",
       "  </tbody>\n",
       "</table>\n",
       "<p>2367 rows × 4 columns</p>\n",
       "</div>"
      ],
      "text/plain": [
       "                                                                                           hypothesis  \\\n",
       "premise                                                                                                 \n",
       "If Charlotte passes her driving test, her paren...                             Charlotte has parents.   \n",
       "It's not the case that if Charlotte passes her ...                             Charlotte has parents.   \n",
       "Sam believes that if Charlotte passes her drivi...                             Charlotte has parents.   \n",
       "Is it true that if Charlotte passes her driving...                             Charlotte has parents.   \n",
       "If Lily takes the train to the city, her friend...                                 Lily has a friend.   \n",
       "...                                                                                               ...   \n",
       "If Sophia decides to attend the concert, his be...                         Sophia has a close friend.   \n",
       "It's not the case that if Sophia decides to att...                         Sophia has a close friend.   \n",
       "Sam believes that if Sophia decides to attend t...                         Sophia has a close friend.   \n",
       "Is it true that if Sophia decides to attend the...                         Sophia has a close friend.   \n",
       "If Sophia decides to attend the concert, his be...  Sophia has decided to attend the concert, but ...   \n",
       "\n",
       "                                                   gold_label  \\\n",
       "premise                                                         \n",
       "If Charlotte passes her driving test, her paren...          E   \n",
       "It's not the case that if Charlotte passes her ...          E   \n",
       "Sam believes that if Charlotte passes her drivi...          E   \n",
       "Is it true that if Charlotte passes her driving...          E   \n",
       "If Lily takes the train to the city, her friend...          E   \n",
       "...                                                       ...   \n",
       "If Sophia decides to attend the concert, his be...          N   \n",
       "It's not the case that if Sophia decides to att...          N   \n",
       "Sam believes that if Sophia decides to attend t...          N   \n",
       "Is it true that if Sophia decides to attend the...          N   \n",
       "If Sophia decides to attend the concert, his be...          C   \n",
       "\n",
       "                                                                type  \\\n",
       "premise                                                                \n",
       "If Charlotte passes her driving test, her paren...  type5_possessive   \n",
       "It's not the case that if Charlotte passes her ...  type5_possessive   \n",
       "Sam believes that if Charlotte passes her drivi...  type5_possessive   \n",
       "Is it true that if Charlotte passes her driving...  type5_possessive   \n",
       "If Lily takes the train to the city, her friend...  type5_possessive   \n",
       "...                                                              ...   \n",
       "If Sophia decides to attend the concert, his be...  type5_possessive   \n",
       "It's not the case that if Sophia decides to att...  type5_possessive   \n",
       "Sam believes that if Sophia decides to attend t...  type5_possessive   \n",
       "Is it true that if Sophia decides to attend the...  type5_possessive   \n",
       "If Sophia decides to attend the concert, his be...  type5_possessive   \n",
       "\n",
       "                                                                                 uid  \n",
       "premise                                                                               \n",
       "If Charlotte passes her driving test, her paren...  validation_type5_possessive_0001  \n",
       "It's not the case that if Charlotte passes her ...  validation_type5_possessive_0002  \n",
       "Sam believes that if Charlotte passes her drivi...  validation_type5_possessive_0003  \n",
       "Is it true that if Charlotte passes her driving...  validation_type5_possessive_0004  \n",
       "If Lily takes the train to the city, her friend...  validation_type5_possessive_0005  \n",
       "...                                                                              ...  \n",
       "If Sophia decides to attend the concert, his be...  validation_type5_possessive_2363  \n",
       "It's not the case that if Sophia decides to att...  validation_type5_possessive_2364  \n",
       "Sam believes that if Sophia decides to attend t...  validation_type5_possessive_2365  \n",
       "Is it true that if Sophia decides to attend the...  validation_type5_possessive_2366  \n",
       "If Sophia decides to attend the concert, his be...  validation_type5_possessive_2367  \n",
       "\n",
       "[2367 rows x 4 columns]"
      ]
     },
     "execution_count": 3,
     "metadata": {},
     "output_type": "execute_result"
    }
   ],
   "source": [
    "valid_df = pd.read_csv('../../data/processed/validation.csv',index_col=0)\n",
    "valid_df"
   ]
  },
  {
   "cell_type": "code",
   "execution_count": 14,
   "metadata": {
    "execution": {
     "iopub.execute_input": "2025-03-09T20:42:58.931549Z",
     "iopub.status.busy": "2025-03-09T20:42:58.931270Z",
     "iopub.status.idle": "2025-03-09T20:42:58.951921Z",
     "shell.execute_reply": "2025-03-09T20:42:58.951154Z",
     "shell.execute_reply.started": "2025-03-09T20:42:58.931526Z"
    },
    "trusted": true
   },
   "outputs": [
    {
     "name": "stderr",
     "output_type": "stream",
     "text": [
      "/usr/local/lib/python3.10/dist-packages/pandas/io/formats/format.py:1458: RuntimeWarning: invalid value encountered in greater\n",
      "  has_large_values = (abs_vals > 1e6).any()\n",
      "/usr/local/lib/python3.10/dist-packages/pandas/io/formats/format.py:1459: RuntimeWarning: invalid value encountered in less\n",
      "  has_small_values = ((abs_vals < 10 ** (-self.digits)) & (abs_vals > 0)).any()\n",
      "/usr/local/lib/python3.10/dist-packages/pandas/io/formats/format.py:1459: RuntimeWarning: invalid value encountered in greater\n",
      "  has_small_values = ((abs_vals < 10 ** (-self.digits)) & (abs_vals > 0)).any()\n"
     ]
    },
    {
     "data": {
      "text/html": [
       "<div>\n",
       "<style scoped>\n",
       "    .dataframe tbody tr th:only-of-type {\n",
       "        vertical-align: middle;\n",
       "    }\n",
       "\n",
       "    .dataframe tbody tr th {\n",
       "        vertical-align: top;\n",
       "    }\n",
       "\n",
       "    .dataframe thead th {\n",
       "        text-align: right;\n",
       "    }\n",
       "</style>\n",
       "<table border=\"1\" class=\"dataframe\">\n",
       "  <thead>\n",
       "    <tr style=\"text-align: right;\">\n",
       "      <th></th>\n",
       "      <th>premise</th>\n",
       "      <th>hypothesis</th>\n",
       "      <th>gold_label</th>\n",
       "      <th>type</th>\n",
       "    </tr>\n",
       "  </thead>\n",
       "  <tbody>\n",
       "    <tr>\n",
       "      <th>9616.0</th>\n",
       "      <td>If Charlotte passes her driving test, her pare...</td>\n",
       "      <td>Charlotte has parents.</td>\n",
       "      <td>E</td>\n",
       "      <td>type5_possessive</td>\n",
       "    </tr>\n",
       "    <tr>\n",
       "      <th>9617.0</th>\n",
       "      <td>It's not the case that if Charlotte passes her...</td>\n",
       "      <td>Charlotte has parents.</td>\n",
       "      <td>E</td>\n",
       "      <td>type5_possessive</td>\n",
       "    </tr>\n",
       "    <tr>\n",
       "      <th>9618.0</th>\n",
       "      <td>Sam believes that if Charlotte passes her driv...</td>\n",
       "      <td>Charlotte has parents.</td>\n",
       "      <td>E</td>\n",
       "      <td>type5_possessive</td>\n",
       "    </tr>\n",
       "    <tr>\n",
       "      <th>9619.0</th>\n",
       "      <td>Is it true that if Charlotte passes her drivin...</td>\n",
       "      <td>Charlotte has parents.</td>\n",
       "      <td>E</td>\n",
       "      <td>type5_possessive</td>\n",
       "    </tr>\n",
       "    <tr>\n",
       "      <th>9628.0</th>\n",
       "      <td>If Lily takes the train to the city, her frien...</td>\n",
       "      <td>Lily has a friend.</td>\n",
       "      <td>E</td>\n",
       "      <td>type5_possessive</td>\n",
       "    </tr>\n",
       "    <tr>\n",
       "      <th>...</th>\n",
       "      <td>...</td>\n",
       "      <td>...</td>\n",
       "      <td>...</td>\n",
       "      <td>...</td>\n",
       "    </tr>\n",
       "    <tr>\n",
       "      <th>NaN</th>\n",
       "      <td>If Sophia decides to attend the concert, his b...</td>\n",
       "      <td>Sophia has a close friend.</td>\n",
       "      <td>N</td>\n",
       "      <td>type5_possessive</td>\n",
       "    </tr>\n",
       "    <tr>\n",
       "      <th>NaN</th>\n",
       "      <td>It's not the case that if Sophia decides to at...</td>\n",
       "      <td>Sophia has a close friend.</td>\n",
       "      <td>N</td>\n",
       "      <td>type5_possessive</td>\n",
       "    </tr>\n",
       "    <tr>\n",
       "      <th>NaN</th>\n",
       "      <td>Sam believes that if Sophia decides to attend ...</td>\n",
       "      <td>Sophia has a close friend.</td>\n",
       "      <td>N</td>\n",
       "      <td>type5_possessive</td>\n",
       "    </tr>\n",
       "    <tr>\n",
       "      <th>NaN</th>\n",
       "      <td>Is it true that if Sophia decides to attend th...</td>\n",
       "      <td>Sophia has a close friend.</td>\n",
       "      <td>N</td>\n",
       "      <td>type5_possessive</td>\n",
       "    </tr>\n",
       "    <tr>\n",
       "      <th>NaN</th>\n",
       "      <td>If Sophia decides to attend the concert, his b...</td>\n",
       "      <td>Sophia has decided to attend the concert, but ...</td>\n",
       "      <td>C</td>\n",
       "      <td>type5_possessive</td>\n",
       "    </tr>\n",
       "  </tbody>\n",
       "</table>\n",
       "<p>2367 rows × 4 columns</p>\n",
       "</div>"
      ],
      "text/plain": [
       "                                                  premise  \\\n",
       "9616.0  If Charlotte passes her driving test, her pare...   \n",
       "9617.0  It's not the case that if Charlotte passes her...   \n",
       "9618.0  Sam believes that if Charlotte passes her driv...   \n",
       "9619.0  Is it true that if Charlotte passes her drivin...   \n",
       "9628.0  If Lily takes the train to the city, her frien...   \n",
       "...                                                   ...   \n",
       "NaN     If Sophia decides to attend the concert, his b...   \n",
       "NaN     It's not the case that if Sophia decides to at...   \n",
       "NaN     Sam believes that if Sophia decides to attend ...   \n",
       "NaN     Is it true that if Sophia decides to attend th...   \n",
       "NaN     If Sophia decides to attend the concert, his b...   \n",
       "\n",
       "                                               hypothesis gold_label  \\\n",
       "9616.0                             Charlotte has parents.          E   \n",
       "9617.0                             Charlotte has parents.          E   \n",
       "9618.0                             Charlotte has parents.          E   \n",
       "9619.0                             Charlotte has parents.          E   \n",
       "9628.0                                 Lily has a friend.          E   \n",
       "...                                                   ...        ...   \n",
       "NaN                            Sophia has a close friend.          N   \n",
       "NaN                            Sophia has a close friend.          N   \n",
       "NaN                            Sophia has a close friend.          N   \n",
       "NaN                            Sophia has a close friend.          N   \n",
       "NaN     Sophia has decided to attend the concert, but ...          C   \n",
       "\n",
       "                    type  \n",
       "9616.0  type5_possessive  \n",
       "9617.0  type5_possessive  \n",
       "9618.0  type5_possessive  \n",
       "9619.0  type5_possessive  \n",
       "9628.0  type5_possessive  \n",
       "...                  ...  \n",
       "NaN     type5_possessive  \n",
       "NaN     type5_possessive  \n",
       "NaN     type5_possessive  \n",
       "NaN     type5_possessive  \n",
       "NaN     type5_possessive  \n",
       "\n",
       "[2367 rows x 4 columns]"
      ]
     },
     "execution_count": 14,
     "metadata": {},
     "output_type": "execute_result"
    }
   ],
   "source": [
    "test_df = pd.read_csv('../../data/processed/test.csv',index_col=0)\n",
    "test_df"
   ]
  },
  {
   "cell_type": "code",
   "execution_count": 15,
   "metadata": {
    "execution": {
     "iopub.execute_input": "2025-03-09T20:42:58.953022Z",
     "iopub.status.busy": "2025-03-09T20:42:58.952758Z",
     "iopub.status.idle": "2025-03-09T20:42:58.958675Z",
     "shell.execute_reply": "2025-03-09T20:42:58.957934Z",
     "shell.execute_reply.started": "2025-03-09T20:42:58.953001Z"
    },
    "trusted": true
   },
   "outputs": [
    {
     "data": {
      "text/plain": [
       "0"
      ]
     },
     "execution_count": 15,
     "metadata": {},
     "output_type": "execute_result"
    }
   ],
   "source": [
    "train_df['premise'].isna().sum()"
   ]
  },
  {
   "cell_type": "code",
   "execution_count": 16,
   "metadata": {
    "execution": {
     "iopub.execute_input": "2025-03-09T20:42:58.959792Z",
     "iopub.status.busy": "2025-03-09T20:42:58.959536Z",
     "iopub.status.idle": "2025-03-09T20:42:58.973576Z",
     "shell.execute_reply": "2025-03-09T20:42:58.972847Z",
     "shell.execute_reply.started": "2025-03-09T20:42:58.959761Z"
    },
    "trusted": true
   },
   "outputs": [
    {
     "data": {
      "text/plain": [
       "0"
      ]
     },
     "execution_count": 16,
     "metadata": {},
     "output_type": "execute_result"
    }
   ],
   "source": [
    "train_df['hypothesis'].isna().sum()"
   ]
  },
  {
   "cell_type": "code",
   "execution_count": 17,
   "metadata": {
    "execution": {
     "iopub.execute_input": "2025-03-09T20:42:58.974589Z",
     "iopub.status.busy": "2025-03-09T20:42:58.974375Z",
     "iopub.status.idle": "2025-03-09T20:42:58.990101Z",
     "shell.execute_reply": "2025-03-09T20:42:58.989411Z",
     "shell.execute_reply.started": "2025-03-09T20:42:58.974571Z"
    },
    "trusted": true
   },
   "outputs": [
    {
     "data": {
      "text/html": [
       "<div>\n",
       "<style scoped>\n",
       "    .dataframe tbody tr th:only-of-type {\n",
       "        vertical-align: middle;\n",
       "    }\n",
       "\n",
       "    .dataframe tbody tr th {\n",
       "        vertical-align: top;\n",
       "    }\n",
       "\n",
       "    .dataframe thead th {\n",
       "        text-align: right;\n",
       "    }\n",
       "</style>\n",
       "<table border=\"1\" class=\"dataframe\">\n",
       "  <thead>\n",
       "    <tr style=\"text-align: right;\">\n",
       "      <th></th>\n",
       "      <th>premise</th>\n",
       "      <th>hypothesis</th>\n",
       "      <th>gold_label</th>\n",
       "      <th>type</th>\n",
       "    </tr>\n",
       "  </thead>\n",
       "  <tbody>\n",
       "  </tbody>\n",
       "</table>\n",
       "</div>"
      ],
      "text/plain": [
       "Empty DataFrame\n",
       "Columns: [premise, hypothesis, gold_label, type]\n",
       "Index: []"
      ]
     },
     "execution_count": 17,
     "metadata": {},
     "output_type": "execute_result"
    }
   ],
   "source": [
    "train_df[train_df['hypothesis'].isna()]"
   ]
  },
  {
   "cell_type": "code",
   "execution_count": 18,
   "metadata": {
    "execution": {
     "iopub.execute_input": "2025-03-09T20:42:58.991011Z",
     "iopub.status.busy": "2025-03-09T20:42:58.990810Z",
     "iopub.status.idle": "2025-03-09T20:42:59.004804Z",
     "shell.execute_reply": "2025-03-09T20:42:59.003938Z",
     "shell.execute_reply.started": "2025-03-09T20:42:58.990984Z"
    },
    "trusted": true
   },
   "outputs": [],
   "source": [
    "train_df.loc[train_df['hypothesis'].isna(), 'hypothesis'] = \"Martin has incited a response before\""
   ]
  },
  {
   "cell_type": "code",
   "execution_count": 19,
   "metadata": {
    "execution": {
     "iopub.execute_input": "2025-03-09T20:42:59.007609Z",
     "iopub.status.busy": "2025-03-09T20:42:59.007383Z",
     "iopub.status.idle": "2025-03-09T20:42:59.021183Z",
     "shell.execute_reply": "2025-03-09T20:42:59.020541Z",
     "shell.execute_reply.started": "2025-03-09T20:42:59.007587Z"
    },
    "trusted": true
   },
   "outputs": [
    {
     "data": {
      "text/html": [
       "<div>\n",
       "<style scoped>\n",
       "    .dataframe tbody tr th:only-of-type {\n",
       "        vertical-align: middle;\n",
       "    }\n",
       "\n",
       "    .dataframe tbody tr th {\n",
       "        vertical-align: top;\n",
       "    }\n",
       "\n",
       "    .dataframe thead th {\n",
       "        text-align: right;\n",
       "    }\n",
       "</style>\n",
       "<table border=\"1\" class=\"dataframe\">\n",
       "  <thead>\n",
       "    <tr style=\"text-align: right;\">\n",
       "      <th></th>\n",
       "      <th>premise</th>\n",
       "      <th>hypothesis</th>\n",
       "      <th>gold_label</th>\n",
       "      <th>type</th>\n",
       "    </tr>\n",
       "  </thead>\n",
       "  <tbody>\n",
       "  </tbody>\n",
       "</table>\n",
       "</div>"
      ],
      "text/plain": [
       "Empty DataFrame\n",
       "Columns: [premise, hypothesis, gold_label, type]\n",
       "Index: []"
      ]
     },
     "execution_count": 19,
     "metadata": {},
     "output_type": "execute_result"
    }
   ],
   "source": [
    "train_df[train_df['hypothesis'].isna()]"
   ]
  },
  {
   "cell_type": "code",
   "execution_count": 20,
   "metadata": {
    "execution": {
     "iopub.execute_input": "2025-03-09T20:42:59.023229Z",
     "iopub.status.busy": "2025-03-09T20:42:59.022997Z",
     "iopub.status.idle": "2025-03-09T20:42:59.036097Z",
     "shell.execute_reply": "2025-03-09T20:42:59.035392Z",
     "shell.execute_reply.started": "2025-03-09T20:42:59.023210Z"
    },
    "trusted": true
   },
   "outputs": [
    {
     "data": {
      "text/plain": [
       "gold_label\n",
       "C    2172\n",
       "N    2162\n",
       "E    2152\n",
       "Name: count, dtype: int64"
      ]
     },
     "execution_count": 20,
     "metadata": {},
     "output_type": "execute_result"
    }
   ],
   "source": [
    "train_df['gold_label'].value_counts()"
   ]
  },
  {
   "cell_type": "markdown",
   "metadata": {},
   "source": [
    "# Glove"
   ]
  },
  {
   "cell_type": "code",
   "execution_count": 21,
   "metadata": {
    "execution": {
     "iopub.execute_input": "2025-03-09T20:42:59.037187Z",
     "iopub.status.busy": "2025-03-09T20:42:59.036951Z",
     "iopub.status.idle": "2025-03-09T20:43:22.320219Z",
     "shell.execute_reply": "2025-03-09T20:43:22.319297Z",
     "shell.execute_reply.started": "2025-03-09T20:42:59.037169Z"
    },
    "trusted": true
   },
   "outputs": [
    {
     "name": "stdout",
     "output_type": "stream",
     "text": [
      "[==================================================] 100.0% 66.0/66.0MB downloaded\n"
     ]
    }
   ],
   "source": [
    "glove_vectors = api.load(\"glove-wiki-gigaword-50\")"
   ]
  },
  {
   "cell_type": "code",
   "execution_count": 22,
   "metadata": {
    "execution": {
     "iopub.execute_input": "2025-03-09T20:43:22.321492Z",
     "iopub.status.busy": "2025-03-09T20:43:22.321194Z",
     "iopub.status.idle": "2025-03-09T20:43:22.326159Z",
     "shell.execute_reply": "2025-03-09T20:43:22.325212Z",
     "shell.execute_reply.started": "2025-03-09T20:43:22.321462Z"
    },
    "trusted": true
   },
   "outputs": [],
   "source": [
    "def encode_glove_sentence(sentence,model):\n",
    "    words = sentence.split()\n",
    "    valid_words = [word for word in words if word in model]\n",
    "    if not valid_words:\n",
    "        return np.zeros(model.vector_size)\n",
    "    return np.mean([model[word] for word in valid_words], axis=0)"
   ]
  },
  {
   "cell_type": "code",
   "execution_count": 23,
   "metadata": {
    "execution": {
     "iopub.execute_input": "2025-03-09T20:43:22.327414Z",
     "iopub.status.busy": "2025-03-09T20:43:22.327120Z",
     "iopub.status.idle": "2025-03-09T20:43:22.342497Z",
     "shell.execute_reply": "2025-03-09T20:43:22.341921Z",
     "shell.execute_reply.started": "2025-03-09T20:43:22.327383Z"
    },
    "trusted": true
   },
   "outputs": [],
   "source": [
    "def encode_infersent_sentence(sentence,model):\n",
    "    return model.encode([sentence], tokenize=True)[0]"
   ]
  },
  {
   "cell_type": "code",
   "execution_count": 24,
   "metadata": {
    "execution": {
     "iopub.execute_input": "2025-03-09T20:43:22.343437Z",
     "iopub.status.busy": "2025-03-09T20:43:22.343247Z",
     "iopub.status.idle": "2025-03-09T20:43:22.358144Z",
     "shell.execute_reply": "2025-03-09T20:43:22.357490Z",
     "shell.execute_reply.started": "2025-03-09T20:43:22.343420Z"
    },
    "trusted": true
   },
   "outputs": [],
   "source": [
    "def get_sentence_embedding(row, model, glove):\n",
    "    premise = row['premise']\n",
    "    hypothesis = row['hypothesis'] \n",
    "    if glove:\n",
    "        embedded_premise = encode_glove_sentence(premise,model)\n",
    "        embedded_hypothesis = encode_glove_sentence(hypothesis,model)\n",
    "    else:\n",
    "        embedded_premise = encode_infersent_sentence(premise,model)\n",
    "        embedded_hypothesis = encode_infersent_sentence(hypothesis,model)\n",
    "    return np.concatenate((embedded_premise, embedded_hypothesis), axis=0)"
   ]
  },
  {
   "cell_type": "code",
   "execution_count": 25,
   "metadata": {
    "execution": {
     "iopub.execute_input": "2025-03-09T20:43:22.359066Z",
     "iopub.status.busy": "2025-03-09T20:43:22.358877Z",
     "iopub.status.idle": "2025-03-09T20:43:22.902201Z",
     "shell.execute_reply": "2025-03-09T20:43:22.901560Z",
     "shell.execute_reply.started": "2025-03-09T20:43:22.359049Z"
    },
    "trusted": true
   },
   "outputs": [],
   "source": [
    "train_df['glove_embedding'] = train_df.apply(lambda row: get_sentence_embedding(row, glove_vectors,True), axis=1)"
   ]
  },
  {
   "cell_type": "code",
   "execution_count": 26,
   "metadata": {
    "execution": {
     "iopub.execute_input": "2025-03-09T20:43:22.903301Z",
     "iopub.status.busy": "2025-03-09T20:43:22.903057Z",
     "iopub.status.idle": "2025-03-09T20:43:22.924402Z",
     "shell.execute_reply": "2025-03-09T20:43:22.923720Z",
     "shell.execute_reply.started": "2025-03-09T20:43:22.903281Z"
    },
    "trusted": true
   },
   "outputs": [
    {
     "name": "stderr",
     "output_type": "stream",
     "text": [
      "/usr/local/lib/python3.10/dist-packages/pandas/io/formats/format.py:1458: RuntimeWarning: invalid value encountered in greater\n",
      "  has_large_values = (abs_vals > 1e6).any()\n",
      "/usr/local/lib/python3.10/dist-packages/pandas/io/formats/format.py:1459: RuntimeWarning: invalid value encountered in less\n",
      "  has_small_values = ((abs_vals < 10 ** (-self.digits)) & (abs_vals > 0)).any()\n",
      "/usr/local/lib/python3.10/dist-packages/pandas/io/formats/format.py:1459: RuntimeWarning: invalid value encountered in greater\n",
      "  has_small_values = ((abs_vals < 10 ** (-self.digits)) & (abs_vals > 0)).any()\n"
     ]
    },
    {
     "data": {
      "text/html": [
       "<div>\n",
       "<style scoped>\n",
       "    .dataframe tbody tr th:only-of-type {\n",
       "        vertical-align: middle;\n",
       "    }\n",
       "\n",
       "    .dataframe tbody tr th {\n",
       "        vertical-align: top;\n",
       "    }\n",
       "\n",
       "    .dataframe thead th {\n",
       "        text-align: right;\n",
       "    }\n",
       "</style>\n",
       "<table border=\"1\" class=\"dataframe\">\n",
       "  <thead>\n",
       "    <tr style=\"text-align: right;\">\n",
       "      <th></th>\n",
       "      <th>premise</th>\n",
       "      <th>hypothesis</th>\n",
       "      <th>gold_label</th>\n",
       "      <th>type</th>\n",
       "      <th>glove_embedding</th>\n",
       "    </tr>\n",
       "  </thead>\n",
       "  <tbody>\n",
       "    <tr>\n",
       "      <th>9604.0</th>\n",
       "      <td>If Emily passes her driving test, her best fri...</td>\n",
       "      <td>Emily has a best friend.</td>\n",
       "      <td>E</td>\n",
       "      <td>type5_possessive</td>\n",
       "      <td>[0.069057465, 0.38865215, -0.1840484, -0.21967...</td>\n",
       "    </tr>\n",
       "    <tr>\n",
       "      <th>9605.0</th>\n",
       "      <td>It's not the case that if Emily passes her dri...</td>\n",
       "      <td>Emily has a best friend.</td>\n",
       "      <td>E</td>\n",
       "      <td>type5_possessive</td>\n",
       "      <td>[0.21939042, 0.25260824, -0.14202265, -0.12464...</td>\n",
       "    </tr>\n",
       "    <tr>\n",
       "      <th>9606.0</th>\n",
       "      <td>Sam believes that if Emily passes her driving ...</td>\n",
       "      <td>Emily has a best friend.</td>\n",
       "      <td>E</td>\n",
       "      <td>type5_possessive</td>\n",
       "      <td>[0.15687543, 0.30070943, -0.10854657, -0.17401...</td>\n",
       "    </tr>\n",
       "    <tr>\n",
       "      <th>9607.0</th>\n",
       "      <td>Is it true that if Emily passes her driving te...</td>\n",
       "      <td>Emily has a best friend.</td>\n",
       "      <td>E</td>\n",
       "      <td>type5_possessive</td>\n",
       "      <td>[0.18888807, 0.30759755, -0.12772465, -0.16519...</td>\n",
       "    </tr>\n",
       "    <tr>\n",
       "      <th>9608.0</th>\n",
       "      <td>If Scarlett finishes her work early, her husba...</td>\n",
       "      <td>Scarlett has a husband.</td>\n",
       "      <td>E</td>\n",
       "      <td>type5_possessive</td>\n",
       "      <td>[0.24861601, 0.38644078, -0.21351472, -0.27863...</td>\n",
       "    </tr>\n",
       "    <tr>\n",
       "      <th>...</th>\n",
       "      <td>...</td>\n",
       "      <td>...</td>\n",
       "      <td>...</td>\n",
       "      <td>...</td>\n",
       "      <td>...</td>\n",
       "    </tr>\n",
       "    <tr>\n",
       "      <th>NaN</th>\n",
       "      <td>If Emily passes her driving test, her best fri...</td>\n",
       "      <td>Emily has a sister.</td>\n",
       "      <td>N</td>\n",
       "      <td>type5_possessive</td>\n",
       "      <td>[0.069057465, 0.38865215, -0.1840484, -0.21967...</td>\n",
       "    </tr>\n",
       "    <tr>\n",
       "      <th>NaN</th>\n",
       "      <td>It's not the case that if Scarlett finishes he...</td>\n",
       "      <td>Scarlett has a sister-in-law.</td>\n",
       "      <td>N</td>\n",
       "      <td>type5_possessive</td>\n",
       "      <td>[0.36916268, 0.22392519, -0.1532617, -0.144940...</td>\n",
       "    </tr>\n",
       "    <tr>\n",
       "      <th>NaN</th>\n",
       "      <td>Sam believes that if Chloe finishes his work e...</td>\n",
       "      <td>Chloe has a boss.</td>\n",
       "      <td>N</td>\n",
       "      <td>type5_possessive</td>\n",
       "      <td>[0.29448354, 0.089123614, -0.019394852, -0.256...</td>\n",
       "    </tr>\n",
       "    <tr>\n",
       "      <th>NaN</th>\n",
       "      <td>Is it true that if Ryan passes his driving tes...</td>\n",
       "      <td>Ryan has siblings.</td>\n",
       "      <td>N</td>\n",
       "      <td>type5_possessive</td>\n",
       "      <td>[0.32404217, 0.17202039, 0.010957494, -0.28846...</td>\n",
       "    </tr>\n",
       "    <tr>\n",
       "      <th>NaN</th>\n",
       "      <td>If Ryan passes his driving test, his parents w...</td>\n",
       "      <td>Ryan does not have parents</td>\n",
       "      <td>C</td>\n",
       "      <td>type5_possessive</td>\n",
       "      <td>[0.1968945, 0.23594557, -0.011227503, -0.43862...</td>\n",
       "    </tr>\n",
       "  </tbody>\n",
       "</table>\n",
       "<p>6486 rows × 5 columns</p>\n",
       "</div>"
      ],
      "text/plain": [
       "                                                  premise  \\\n",
       "9604.0  If Emily passes her driving test, her best fri...   \n",
       "9605.0  It's not the case that if Emily passes her dri...   \n",
       "9606.0  Sam believes that if Emily passes her driving ...   \n",
       "9607.0  Is it true that if Emily passes her driving te...   \n",
       "9608.0  If Scarlett finishes her work early, her husba...   \n",
       "...                                                   ...   \n",
       "NaN     If Emily passes her driving test, her best fri...   \n",
       "NaN     It's not the case that if Scarlett finishes he...   \n",
       "NaN     Sam believes that if Chloe finishes his work e...   \n",
       "NaN     Is it true that if Ryan passes his driving tes...   \n",
       "NaN     If Ryan passes his driving test, his parents w...   \n",
       "\n",
       "                           hypothesis gold_label              type  \\\n",
       "9604.0       Emily has a best friend.          E  type5_possessive   \n",
       "9605.0       Emily has a best friend.          E  type5_possessive   \n",
       "9606.0       Emily has a best friend.          E  type5_possessive   \n",
       "9607.0       Emily has a best friend.          E  type5_possessive   \n",
       "9608.0        Scarlett has a husband.          E  type5_possessive   \n",
       "...                               ...        ...               ...   \n",
       "NaN               Emily has a sister.          N  type5_possessive   \n",
       "NaN     Scarlett has a sister-in-law.          N  type5_possessive   \n",
       "NaN                 Chloe has a boss.          N  type5_possessive   \n",
       "NaN                Ryan has siblings.          N  type5_possessive   \n",
       "NaN        Ryan does not have parents          C  type5_possessive   \n",
       "\n",
       "                                          glove_embedding  \n",
       "9604.0  [0.069057465, 0.38865215, -0.1840484, -0.21967...  \n",
       "9605.0  [0.21939042, 0.25260824, -0.14202265, -0.12464...  \n",
       "9606.0  [0.15687543, 0.30070943, -0.10854657, -0.17401...  \n",
       "9607.0  [0.18888807, 0.30759755, -0.12772465, -0.16519...  \n",
       "9608.0  [0.24861601, 0.38644078, -0.21351472, -0.27863...  \n",
       "...                                                   ...  \n",
       "NaN     [0.069057465, 0.38865215, -0.1840484, -0.21967...  \n",
       "NaN     [0.36916268, 0.22392519, -0.1532617, -0.144940...  \n",
       "NaN     [0.29448354, 0.089123614, -0.019394852, -0.256...  \n",
       "NaN     [0.32404217, 0.17202039, 0.010957494, -0.28846...  \n",
       "NaN     [0.1968945, 0.23594557, -0.011227503, -0.43862...  \n",
       "\n",
       "[6486 rows x 5 columns]"
      ]
     },
     "execution_count": 26,
     "metadata": {},
     "output_type": "execute_result"
    }
   ],
   "source": [
    "train_df"
   ]
  },
  {
   "cell_type": "code",
   "execution_count": 27,
   "metadata": {
    "execution": {
     "iopub.execute_input": "2025-03-09T20:43:22.925417Z",
     "iopub.status.busy": "2025-03-09T20:43:22.925221Z",
     "iopub.status.idle": "2025-03-09T20:43:26.430549Z",
     "shell.execute_reply": "2025-03-09T20:43:26.429919Z",
     "shell.execute_reply.started": "2025-03-09T20:43:22.925400Z"
    },
    "trusted": true
   },
   "outputs": [],
   "source": [
    "train_df.to_csv('train_glove_embeddings.csv')"
   ]
  },
  {
   "cell_type": "code",
   "execution_count": 28,
   "metadata": {
    "execution": {
     "iopub.execute_input": "2025-03-09T20:43:26.431676Z",
     "iopub.status.busy": "2025-03-09T20:43:26.431385Z",
     "iopub.status.idle": "2025-03-09T20:43:26.628707Z",
     "shell.execute_reply": "2025-03-09T20:43:26.628023Z",
     "shell.execute_reply.started": "2025-03-09T20:43:26.431643Z"
    },
    "trusted": true
   },
   "outputs": [],
   "source": [
    "valid_df['glove_embedding'] = valid_df.apply(lambda row: get_sentence_embedding(row, glove_vectors,True), axis=1)"
   ]
  },
  {
   "cell_type": "code",
   "execution_count": 29,
   "metadata": {
    "execution": {
     "iopub.execute_input": "2025-03-09T20:43:26.629620Z",
     "iopub.status.busy": "2025-03-09T20:43:26.629400Z",
     "iopub.status.idle": "2025-03-09T20:43:26.650123Z",
     "shell.execute_reply": "2025-03-09T20:43:26.649174Z",
     "shell.execute_reply.started": "2025-03-09T20:43:26.629602Z"
    },
    "trusted": true
   },
   "outputs": [
    {
     "name": "stderr",
     "output_type": "stream",
     "text": [
      "/usr/local/lib/python3.10/dist-packages/pandas/io/formats/format.py:1458: RuntimeWarning: invalid value encountered in greater\n",
      "  has_large_values = (abs_vals > 1e6).any()\n",
      "/usr/local/lib/python3.10/dist-packages/pandas/io/formats/format.py:1459: RuntimeWarning: invalid value encountered in less\n",
      "  has_small_values = ((abs_vals < 10 ** (-self.digits)) & (abs_vals > 0)).any()\n",
      "/usr/local/lib/python3.10/dist-packages/pandas/io/formats/format.py:1459: RuntimeWarning: invalid value encountered in greater\n",
      "  has_small_values = ((abs_vals < 10 ** (-self.digits)) & (abs_vals > 0)).any()\n"
     ]
    },
    {
     "data": {
      "text/html": [
       "<div>\n",
       "<style scoped>\n",
       "    .dataframe tbody tr th:only-of-type {\n",
       "        vertical-align: middle;\n",
       "    }\n",
       "\n",
       "    .dataframe tbody tr th {\n",
       "        vertical-align: top;\n",
       "    }\n",
       "\n",
       "    .dataframe thead th {\n",
       "        text-align: right;\n",
       "    }\n",
       "</style>\n",
       "<table border=\"1\" class=\"dataframe\">\n",
       "  <thead>\n",
       "    <tr style=\"text-align: right;\">\n",
       "      <th></th>\n",
       "      <th>premise</th>\n",
       "      <th>hypothesis</th>\n",
       "      <th>gold_label</th>\n",
       "      <th>type</th>\n",
       "      <th>glove_embedding</th>\n",
       "    </tr>\n",
       "  </thead>\n",
       "  <tbody>\n",
       "    <tr>\n",
       "      <th>9600.0</th>\n",
       "      <td>If Jessica attends the conference, her colleag...</td>\n",
       "      <td>Jessica has a colleague.</td>\n",
       "      <td>E</td>\n",
       "      <td>type5_possessive</td>\n",
       "      <td>[0.23507889, 0.7431433, -0.3087911, -0.1263506...</td>\n",
       "    </tr>\n",
       "    <tr>\n",
       "      <th>9601.0</th>\n",
       "      <td>It's not the case that if Jessica attends the ...</td>\n",
       "      <td>Jessica has a colleague.</td>\n",
       "      <td>E</td>\n",
       "      <td>type5_possessive</td>\n",
       "      <td>[0.3690707, 0.44162574, -0.21020706, -0.037490...</td>\n",
       "    </tr>\n",
       "    <tr>\n",
       "      <th>9602.0</th>\n",
       "      <td>Sam believes that if Jessica attends the confe...</td>\n",
       "      <td>Jessica has a colleague.</td>\n",
       "      <td>E</td>\n",
       "      <td>type5_possessive</td>\n",
       "      <td>[0.31066418, 0.5372636, -0.17693633, -0.088790...</td>\n",
       "    </tr>\n",
       "    <tr>\n",
       "      <th>9603.0</th>\n",
       "      <td>Is it true that if Jessica attends the confere...</td>\n",
       "      <td>Jessica has a colleague.</td>\n",
       "      <td>E</td>\n",
       "      <td>type5_possessive</td>\n",
       "      <td>[0.34069696, 0.5280746, -0.19675462, -0.083821...</td>\n",
       "    </tr>\n",
       "    <tr>\n",
       "      <th>9620.0</th>\n",
       "      <td>If Mia's car breaks down, her coworker will gi...</td>\n",
       "      <td>Mia has a coworker.</td>\n",
       "      <td>E</td>\n",
       "      <td>type5_possessive</td>\n",
       "      <td>[0.3414782, 0.34566912, -0.010364906, -0.10675...</td>\n",
       "    </tr>\n",
       "    <tr>\n",
       "      <th>...</th>\n",
       "      <td>...</td>\n",
       "      <td>...</td>\n",
       "      <td>...</td>\n",
       "      <td>...</td>\n",
       "      <td>...</td>\n",
       "    </tr>\n",
       "    <tr>\n",
       "      <th>NaN</th>\n",
       "      <td>If Margaret graduates from college, her parent...</td>\n",
       "      <td>Margaret has siblings.</td>\n",
       "      <td>N</td>\n",
       "      <td>type5_possessive</td>\n",
       "      <td>[-0.08452601, 0.478575, -0.1825016, -0.4008751...</td>\n",
       "    </tr>\n",
       "    <tr>\n",
       "      <th>NaN</th>\n",
       "      <td>It's not the case that if Margaret graduates f...</td>\n",
       "      <td>Margaret has siblings.</td>\n",
       "      <td>N</td>\n",
       "      <td>type5_possessive</td>\n",
       "      <td>[0.14706801, 0.285348, -0.1325863, -0.22643042...</td>\n",
       "    </tr>\n",
       "    <tr>\n",
       "      <th>NaN</th>\n",
       "      <td>Sam believes that if Margaret graduates from c...</td>\n",
       "      <td>Margaret has siblings.</td>\n",
       "      <td>N</td>\n",
       "      <td>type5_possessive</td>\n",
       "      <td>[0.05899999, 0.34958637, -0.08993324, -0.30285...</td>\n",
       "    </tr>\n",
       "    <tr>\n",
       "      <th>NaN</th>\n",
       "      <td>Is it true that if Margaret graduates from col...</td>\n",
       "      <td>Margaret has siblings.</td>\n",
       "      <td>N</td>\n",
       "      <td>type5_possessive</td>\n",
       "      <td>[0.10486356, 0.3544593, -0.11455043, -0.282948...</td>\n",
       "    </tr>\n",
       "    <tr>\n",
       "      <th>NaN</th>\n",
       "      <td>If Margaret graduates from college, her parent...</td>\n",
       "      <td>Margaret has graduated from college, but her p...</td>\n",
       "      <td>C</td>\n",
       "      <td>type5_possessive</td>\n",
       "      <td>[-0.08452601, 0.478575, -0.1825016, -0.4008751...</td>\n",
       "    </tr>\n",
       "  </tbody>\n",
       "</table>\n",
       "<p>2348 rows × 5 columns</p>\n",
       "</div>"
      ],
      "text/plain": [
       "                                                  premise  \\\n",
       "9600.0  If Jessica attends the conference, her colleag...   \n",
       "9601.0  It's not the case that if Jessica attends the ...   \n",
       "9602.0  Sam believes that if Jessica attends the confe...   \n",
       "9603.0  Is it true that if Jessica attends the confere...   \n",
       "9620.0  If Mia's car breaks down, her coworker will gi...   \n",
       "...                                                   ...   \n",
       "NaN     If Margaret graduates from college, her parent...   \n",
       "NaN     It's not the case that if Margaret graduates f...   \n",
       "NaN     Sam believes that if Margaret graduates from c...   \n",
       "NaN     Is it true that if Margaret graduates from col...   \n",
       "NaN     If Margaret graduates from college, her parent...   \n",
       "\n",
       "                                               hypothesis gold_label  \\\n",
       "9600.0                           Jessica has a colleague.          E   \n",
       "9601.0                           Jessica has a colleague.          E   \n",
       "9602.0                           Jessica has a colleague.          E   \n",
       "9603.0                           Jessica has a colleague.          E   \n",
       "9620.0                                Mia has a coworker.          E   \n",
       "...                                                   ...        ...   \n",
       "NaN                                Margaret has siblings.          N   \n",
       "NaN                                Margaret has siblings.          N   \n",
       "NaN                                Margaret has siblings.          N   \n",
       "NaN                                Margaret has siblings.          N   \n",
       "NaN     Margaret has graduated from college, but her p...          C   \n",
       "\n",
       "                    type                                    glove_embedding  \n",
       "9600.0  type5_possessive  [0.23507889, 0.7431433, -0.3087911, -0.1263506...  \n",
       "9601.0  type5_possessive  [0.3690707, 0.44162574, -0.21020706, -0.037490...  \n",
       "9602.0  type5_possessive  [0.31066418, 0.5372636, -0.17693633, -0.088790...  \n",
       "9603.0  type5_possessive  [0.34069696, 0.5280746, -0.19675462, -0.083821...  \n",
       "9620.0  type5_possessive  [0.3414782, 0.34566912, -0.010364906, -0.10675...  \n",
       "...                  ...                                                ...  \n",
       "NaN     type5_possessive  [-0.08452601, 0.478575, -0.1825016, -0.4008751...  \n",
       "NaN     type5_possessive  [0.14706801, 0.285348, -0.1325863, -0.22643042...  \n",
       "NaN     type5_possessive  [0.05899999, 0.34958637, -0.08993324, -0.30285...  \n",
       "NaN     type5_possessive  [0.10486356, 0.3544593, -0.11455043, -0.282948...  \n",
       "NaN     type5_possessive  [-0.08452601, 0.478575, -0.1825016, -0.4008751...  \n",
       "\n",
       "[2348 rows x 5 columns]"
      ]
     },
     "execution_count": 29,
     "metadata": {},
     "output_type": "execute_result"
    }
   ],
   "source": [
    "valid_df"
   ]
  },
  {
   "cell_type": "code",
   "execution_count": 30,
   "metadata": {
    "execution": {
     "iopub.execute_input": "2025-03-09T20:43:26.651098Z",
     "iopub.status.busy": "2025-03-09T20:43:26.650805Z",
     "iopub.status.idle": "2025-03-09T20:43:26.849951Z",
     "shell.execute_reply": "2025-03-09T20:43:26.849190Z",
     "shell.execute_reply.started": "2025-03-09T20:43:26.651075Z"
    },
    "trusted": true
   },
   "outputs": [],
   "source": [
    "test_df['glove_embedding'] = test_df.apply(lambda row: get_sentence_embedding(row, glove_vectors,True), axis=1)"
   ]
  },
  {
   "cell_type": "code",
   "execution_count": 31,
   "metadata": {
    "execution": {
     "iopub.execute_input": "2025-03-09T20:43:26.850853Z",
     "iopub.status.busy": "2025-03-09T20:43:26.850618Z",
     "iopub.status.idle": "2025-03-09T20:43:26.870807Z",
     "shell.execute_reply": "2025-03-09T20:43:26.869946Z",
     "shell.execute_reply.started": "2025-03-09T20:43:26.850834Z"
    },
    "trusted": true
   },
   "outputs": [
    {
     "name": "stderr",
     "output_type": "stream",
     "text": [
      "/usr/local/lib/python3.10/dist-packages/pandas/io/formats/format.py:1458: RuntimeWarning: invalid value encountered in greater\n",
      "  has_large_values = (abs_vals > 1e6).any()\n",
      "/usr/local/lib/python3.10/dist-packages/pandas/io/formats/format.py:1459: RuntimeWarning: invalid value encountered in less\n",
      "  has_small_values = ((abs_vals < 10 ** (-self.digits)) & (abs_vals > 0)).any()\n",
      "/usr/local/lib/python3.10/dist-packages/pandas/io/formats/format.py:1459: RuntimeWarning: invalid value encountered in greater\n",
      "  has_small_values = ((abs_vals < 10 ** (-self.digits)) & (abs_vals > 0)).any()\n"
     ]
    },
    {
     "data": {
      "text/html": [
       "<div>\n",
       "<style scoped>\n",
       "    .dataframe tbody tr th:only-of-type {\n",
       "        vertical-align: middle;\n",
       "    }\n",
       "\n",
       "    .dataframe tbody tr th {\n",
       "        vertical-align: top;\n",
       "    }\n",
       "\n",
       "    .dataframe thead th {\n",
       "        text-align: right;\n",
       "    }\n",
       "</style>\n",
       "<table border=\"1\" class=\"dataframe\">\n",
       "  <thead>\n",
       "    <tr style=\"text-align: right;\">\n",
       "      <th></th>\n",
       "      <th>premise</th>\n",
       "      <th>hypothesis</th>\n",
       "      <th>gold_label</th>\n",
       "      <th>type</th>\n",
       "      <th>glove_embedding</th>\n",
       "    </tr>\n",
       "  </thead>\n",
       "  <tbody>\n",
       "    <tr>\n",
       "      <th>9616.0</th>\n",
       "      <td>If Charlotte passes her driving test, her pare...</td>\n",
       "      <td>Charlotte has parents.</td>\n",
       "      <td>E</td>\n",
       "      <td>type5_possessive</td>\n",
       "      <td>[0.17170888, 0.4655589, 0.017628895, -0.365464...</td>\n",
       "    </tr>\n",
       "    <tr>\n",
       "      <th>9617.0</th>\n",
       "      <td>It's not the case that if Charlotte passes her...</td>\n",
       "      <td>Charlotte has parents.</td>\n",
       "      <td>E</td>\n",
       "      <td>type5_possessive</td>\n",
       "      <td>[0.32833287, 0.2631786, -0.0003656149, -0.1912...</td>\n",
       "    </tr>\n",
       "    <tr>\n",
       "      <th>9618.0</th>\n",
       "      <td>Sam believes that if Charlotte passes her driv...</td>\n",
       "      <td>Charlotte has parents.</td>\n",
       "      <td>E</td>\n",
       "      <td>type5_possessive</td>\n",
       "      <td>[0.26313668, 0.32907525, 0.06787867, -0.268126...</td>\n",
       "    </tr>\n",
       "    <tr>\n",
       "      <th>9619.0</th>\n",
       "      <td>Is it true that if Charlotte passes her drivin...</td>\n",
       "      <td>Charlotte has parents.</td>\n",
       "      <td>E</td>\n",
       "      <td>type5_possessive</td>\n",
       "      <td>[0.29682538, 0.33590078, 0.029228458, -0.24936...</td>\n",
       "    </tr>\n",
       "    <tr>\n",
       "      <th>9628.0</th>\n",
       "      <td>If Lily takes the train to the city, her frien...</td>\n",
       "      <td>Lily has a friend.</td>\n",
       "      <td>E</td>\n",
       "      <td>type5_possessive</td>\n",
       "      <td>[0.41779414, 0.5672047, -0.12455517, -0.113467...</td>\n",
       "    </tr>\n",
       "    <tr>\n",
       "      <th>...</th>\n",
       "      <td>...</td>\n",
       "      <td>...</td>\n",
       "      <td>...</td>\n",
       "      <td>...</td>\n",
       "      <td>...</td>\n",
       "    </tr>\n",
       "    <tr>\n",
       "      <th>NaN</th>\n",
       "      <td>If Sophia decides to attend the concert, his b...</td>\n",
       "      <td>Sophia has a close friend.</td>\n",
       "      <td>N</td>\n",
       "      <td>type5_possessive</td>\n",
       "      <td>[0.19257289, 0.39037293, -0.009387304, -0.1870...</td>\n",
       "    </tr>\n",
       "    <tr>\n",
       "      <th>NaN</th>\n",
       "      <td>It's not the case that if Sophia decides to at...</td>\n",
       "      <td>Sophia has a close friend.</td>\n",
       "      <td>N</td>\n",
       "      <td>type5_possessive</td>\n",
       "      <td>[0.3318006, 0.22654662, -0.017176786, -0.08385...</td>\n",
       "    </tr>\n",
       "    <tr>\n",
       "      <th>NaN</th>\n",
       "      <td>Sam believes that if Sophia decides to attend ...</td>\n",
       "      <td>Sophia has a close friend.</td>\n",
       "      <td>N</td>\n",
       "      <td>type5_possessive</td>\n",
       "      <td>[0.27215302, 0.28173864, 0.043231603, -0.13834...</td>\n",
       "    </tr>\n",
       "    <tr>\n",
       "      <th>NaN</th>\n",
       "      <td>Is it true that if Sophia decides to attend th...</td>\n",
       "      <td>Sophia has a close friend.</td>\n",
       "      <td>N</td>\n",
       "      <td>type5_possessive</td>\n",
       "      <td>[0.30279136, 0.29145783, 0.009102633, -0.13019...</td>\n",
       "    </tr>\n",
       "    <tr>\n",
       "      <th>NaN</th>\n",
       "      <td>If Sophia decides to attend the concert, his b...</td>\n",
       "      <td>Sophia has decided to attend the concert, but ...</td>\n",
       "      <td>C</td>\n",
       "      <td>type5_possessive</td>\n",
       "      <td>[0.19257289, 0.39037293, -0.009387304, -0.1870...</td>\n",
       "    </tr>\n",
       "  </tbody>\n",
       "</table>\n",
       "<p>2367 rows × 5 columns</p>\n",
       "</div>"
      ],
      "text/plain": [
       "                                                  premise  \\\n",
       "9616.0  If Charlotte passes her driving test, her pare...   \n",
       "9617.0  It's not the case that if Charlotte passes her...   \n",
       "9618.0  Sam believes that if Charlotte passes her driv...   \n",
       "9619.0  Is it true that if Charlotte passes her drivin...   \n",
       "9628.0  If Lily takes the train to the city, her frien...   \n",
       "...                                                   ...   \n",
       "NaN     If Sophia decides to attend the concert, his b...   \n",
       "NaN     It's not the case that if Sophia decides to at...   \n",
       "NaN     Sam believes that if Sophia decides to attend ...   \n",
       "NaN     Is it true that if Sophia decides to attend th...   \n",
       "NaN     If Sophia decides to attend the concert, his b...   \n",
       "\n",
       "                                               hypothesis gold_label  \\\n",
       "9616.0                             Charlotte has parents.          E   \n",
       "9617.0                             Charlotte has parents.          E   \n",
       "9618.0                             Charlotte has parents.          E   \n",
       "9619.0                             Charlotte has parents.          E   \n",
       "9628.0                                 Lily has a friend.          E   \n",
       "...                                                   ...        ...   \n",
       "NaN                            Sophia has a close friend.          N   \n",
       "NaN                            Sophia has a close friend.          N   \n",
       "NaN                            Sophia has a close friend.          N   \n",
       "NaN                            Sophia has a close friend.          N   \n",
       "NaN     Sophia has decided to attend the concert, but ...          C   \n",
       "\n",
       "                    type                                    glove_embedding  \n",
       "9616.0  type5_possessive  [0.17170888, 0.4655589, 0.017628895, -0.365464...  \n",
       "9617.0  type5_possessive  [0.32833287, 0.2631786, -0.0003656149, -0.1912...  \n",
       "9618.0  type5_possessive  [0.26313668, 0.32907525, 0.06787867, -0.268126...  \n",
       "9619.0  type5_possessive  [0.29682538, 0.33590078, 0.029228458, -0.24936...  \n",
       "9628.0  type5_possessive  [0.41779414, 0.5672047, -0.12455517, -0.113467...  \n",
       "...                  ...                                                ...  \n",
       "NaN     type5_possessive  [0.19257289, 0.39037293, -0.009387304, -0.1870...  \n",
       "NaN     type5_possessive  [0.3318006, 0.22654662, -0.017176786, -0.08385...  \n",
       "NaN     type5_possessive  [0.27215302, 0.28173864, 0.043231603, -0.13834...  \n",
       "NaN     type5_possessive  [0.30279136, 0.29145783, 0.009102633, -0.13019...  \n",
       "NaN     type5_possessive  [0.19257289, 0.39037293, -0.009387304, -0.1870...  \n",
       "\n",
       "[2367 rows x 5 columns]"
      ]
     },
     "execution_count": 31,
     "metadata": {},
     "output_type": "execute_result"
    }
   ],
   "source": [
    "test_df"
   ]
  },
  {
   "cell_type": "code",
   "execution_count": 32,
   "metadata": {
    "execution": {
     "iopub.execute_input": "2025-03-09T20:43:26.872099Z",
     "iopub.status.busy": "2025-03-09T20:43:26.871791Z",
     "iopub.status.idle": "2025-03-09T20:43:30.398687Z",
     "shell.execute_reply": "2025-03-09T20:43:30.397677Z",
     "shell.execute_reply.started": "2025-03-09T20:43:26.872067Z"
    },
    "trusted": true
   },
   "outputs": [],
   "source": [
    "train_df.to_csv('train_glove_embeddings.csv')"
   ]
  },
  {
   "cell_type": "code",
   "execution_count": 33,
   "metadata": {
    "execution": {
     "iopub.execute_input": "2025-03-09T20:43:30.399892Z",
     "iopub.status.busy": "2025-03-09T20:43:30.399585Z",
     "iopub.status.idle": "2025-03-09T20:43:31.694201Z",
     "shell.execute_reply": "2025-03-09T20:43:31.693533Z",
     "shell.execute_reply.started": "2025-03-09T20:43:30.399860Z"
    },
    "trusted": true
   },
   "outputs": [],
   "source": [
    "valid_df.to_csv('valid_glove_embeddings.csv')"
   ]
  },
  {
   "cell_type": "code",
   "execution_count": 34,
   "metadata": {
    "execution": {
     "iopub.execute_input": "2025-03-09T20:43:31.695242Z",
     "iopub.status.busy": "2025-03-09T20:43:31.694965Z",
     "iopub.status.idle": "2025-03-09T20:43:33.025886Z",
     "shell.execute_reply": "2025-03-09T20:43:33.025189Z",
     "shell.execute_reply.started": "2025-03-09T20:43:31.695215Z"
    },
    "trusted": true
   },
   "outputs": [],
   "source": [
    "test_df.to_csv('test_glove_embeddings.csv')"
   ]
  },
  {
   "cell_type": "code",
   "execution_count": 35,
   "metadata": {
    "execution": {
     "iopub.execute_input": "2025-03-09T20:43:33.026923Z",
     "iopub.status.busy": "2025-03-09T20:43:33.026664Z",
     "iopub.status.idle": "2025-03-09T20:43:33.031744Z",
     "shell.execute_reply": "2025-03-09T20:43:33.030965Z",
     "shell.execute_reply.started": "2025-03-09T20:43:33.026902Z"
    },
    "trusted": true
   },
   "outputs": [
    {
     "data": {
      "text/html": [
       "Path (<tt>glove_embeddings.csv</tt>) doesn't exist. It may still be in the process of being generated, or you may have the incorrect path."
      ],
      "text/plain": [
       "/kaggle/working/glove_embeddings.csv"
      ]
     },
     "execution_count": 35,
     "metadata": {},
     "output_type": "execute_result"
    }
   ],
   "source": [
    "from IPython.display import FileLink\n",
    "\n",
    "FileLink('glove_embeddings.csv')"
   ]
  },
  {
   "cell_type": "code",
   "execution_count": 36,
   "metadata": {
    "execution": {
     "iopub.execute_input": "2025-03-09T20:43:33.032862Z",
     "iopub.status.busy": "2025-03-09T20:43:33.032567Z",
     "iopub.status.idle": "2025-03-09T20:43:33.092873Z",
     "shell.execute_reply": "2025-03-09T20:43:33.092062Z",
     "shell.execute_reply.started": "2025-03-09T20:43:33.032828Z"
    },
    "trusted": true
   },
   "outputs": [
    {
     "data": {
      "text/html": [
       "<a href='valid_glove_embeddings.csv' target='_blank'>valid_glove_embeddings.csv</a><br>"
      ],
      "text/plain": [
       "/kaggle/working/valid_glove_embeddings.csv"
      ]
     },
     "execution_count": 36,
     "metadata": {},
     "output_type": "execute_result"
    }
   ],
   "source": [
    "from IPython.display import FileLink\n",
    "\n",
    "FileLink('valid_glove_embeddings.csv')"
   ]
  },
  {
   "cell_type": "code",
   "execution_count": 37,
   "metadata": {
    "execution": {
     "iopub.execute_input": "2025-03-09T20:43:33.095981Z",
     "iopub.status.busy": "2025-03-09T20:43:33.095764Z",
     "iopub.status.idle": "2025-03-09T20:43:33.107892Z",
     "shell.execute_reply": "2025-03-09T20:43:33.107208Z",
     "shell.execute_reply.started": "2025-03-09T20:43:33.095962Z"
    },
    "trusted": true
   },
   "outputs": [
    {
     "data": {
      "text/html": [
       "<a href='test_glove_embeddings.csv' target='_blank'>test_glove_embeddings.csv</a><br>"
      ],
      "text/plain": [
       "/kaggle/working/test_glove_embeddings.csv"
      ]
     },
     "execution_count": 37,
     "metadata": {},
     "output_type": "execute_result"
    }
   ],
   "source": [
    "FileLink('test_glove_embeddings.csv')"
   ]
  },
  {
   "cell_type": "markdown",
   "metadata": {},
   "source": [
    "## ClassificationNet"
   ]
  },
  {
   "cell_type": "code",
   "execution_count": 38,
   "metadata": {
    "execution": {
     "iopub.execute_input": "2025-03-09T20:44:03.073012Z",
     "iopub.status.busy": "2025-03-09T20:44:03.072730Z",
     "iopub.status.idle": "2025-03-09T20:44:06.437609Z",
     "shell.execute_reply": "2025-03-09T20:44:06.436926Z",
     "shell.execute_reply.started": "2025-03-09T20:44:03.072991Z"
    },
    "trusted": true
   },
   "outputs": [],
   "source": [
    "from torch.utils.data import Dataset, DataLoader\n",
    "import torch.nn as nn\n",
    "import torch.optim as optim\n",
    "import torch\n",
    "from sklearn.model_selection import train_test_split"
   ]
  },
  {
   "cell_type": "code",
   "execution_count": 39,
   "metadata": {
    "execution": {
     "iopub.execute_input": "2025-03-09T20:44:12.838519Z",
     "iopub.status.busy": "2025-03-09T20:44:12.837951Z",
     "iopub.status.idle": "2025-03-09T20:44:12.842982Z",
     "shell.execute_reply": "2025-03-09T20:44:12.842091Z",
     "shell.execute_reply.started": "2025-03-09T20:44:12.838477Z"
    },
    "trusted": true
   },
   "outputs": [],
   "source": [
    "X_val = np.array(valid_df['glove_embedding'])\n",
    "X_train = np.array(train_df['glove_embedding'])"
   ]
  },
  {
   "cell_type": "code",
   "execution_count": 40,
   "metadata": {
    "execution": {
     "iopub.execute_input": "2025-03-09T20:44:16.065311Z",
     "iopub.status.busy": "2025-03-09T20:44:16.065005Z",
     "iopub.status.idle": "2025-03-09T20:44:16.073155Z",
     "shell.execute_reply": "2025-03-09T20:44:16.072106Z",
     "shell.execute_reply.started": "2025-03-09T20:44:16.065287Z"
    },
    "trusted": true
   },
   "outputs": [],
   "source": [
    "y_val = np.array(valid_df['gold_label'].map({'E': 0,'N': 1,'C':2})) \n",
    "y_train = np.array(train_df['gold_label'].map({'E': 0,'N': 1,'C':2})) "
   ]
  },
  {
   "cell_type": "code",
   "execution_count": null,
   "metadata": {
    "trusted": true
   },
   "outputs": [],
   "source": [
    "X_train"
   ]
  },
  {
   "cell_type": "code",
   "execution_count": 41,
   "metadata": {
    "execution": {
     "iopub.execute_input": "2025-03-09T20:44:23.459931Z",
     "iopub.status.busy": "2025-03-09T20:44:23.459557Z",
     "iopub.status.idle": "2025-03-09T20:44:23.465658Z",
     "shell.execute_reply": "2025-03-09T20:44:23.464770Z",
     "shell.execute_reply.started": "2025-03-09T20:44:23.459900Z"
    },
    "trusted": true
   },
   "outputs": [
    {
     "data": {
      "text/plain": [
       "array([0, 0, 0, ..., 1, 1, 2])"
      ]
     },
     "execution_count": 41,
     "metadata": {},
     "output_type": "execute_result"
    }
   ],
   "source": [
    "y_train"
   ]
  },
  {
   "cell_type": "code",
   "execution_count": 44,
   "metadata": {
    "execution": {
     "iopub.execute_input": "2025-03-09T20:44:27.993162Z",
     "iopub.status.busy": "2025-03-09T20:44:27.992846Z",
     "iopub.status.idle": "2025-03-09T20:44:27.997930Z",
     "shell.execute_reply": "2025-03-09T20:44:27.997017Z",
     "shell.execute_reply.started": "2025-03-09T20:44:27.993138Z"
    },
    "trusted": true
   },
   "outputs": [],
   "source": [
    "# DataLoader\n",
    "\n",
    "class EmbeddingsDataset(Dataset):\n",
    "    def __init__(self, embeddings, labels):\n",
    "        self.embeddings = embeddings\n",
    "        self.labels = labels\n",
    "\n",
    "    def __len__(self):\n",
    "        return len(self.embeddings)\n",
    "\n",
    "    def __getitem__(self, idx):\n",
    "        embedding = self.embeddings[idx]\n",
    "        label = self.labels[idx]\n",
    "        return torch.tensor(embedding, dtype=torch.float32), torch.tensor(label, dtype=torch.long)"
   ]
  },
  {
   "cell_type": "code",
   "execution_count": 45,
   "metadata": {
    "execution": {
     "iopub.execute_input": "2025-03-09T20:44:33.152710Z",
     "iopub.status.busy": "2025-03-09T20:44:33.152371Z",
     "iopub.status.idle": "2025-03-09T20:44:33.158278Z",
     "shell.execute_reply": "2025-03-09T20:44:33.157315Z",
     "shell.execute_reply.started": "2025-03-09T20:44:33.152679Z"
    },
    "trusted": true
   },
   "outputs": [
    {
     "name": "stdout",
     "output_type": "stream",
     "text": [
      "811\n",
      "294\n"
     ]
    }
   ],
   "source": [
    "# Create the dataset\n",
    "train_dataset = EmbeddingsDataset(X_train, y_train)\n",
    "val_dataset = EmbeddingsDataset(X_val, y_val)\n",
    "\n",
    "# Create the DataLoader\n",
    "train_loader = DataLoader(train_dataset, batch_size=8, shuffle=True)\n",
    "val_loader = DataLoader(val_dataset, batch_size=8, shuffle=True)\n",
    "print(len(train_loader))\n",
    "print(len(val_loader))"
   ]
  },
  {
   "cell_type": "code",
   "execution_count": 46,
   "metadata": {
    "execution": {
     "iopub.execute_input": "2025-03-09T20:44:41.221163Z",
     "iopub.status.busy": "2025-03-09T20:44:41.220844Z",
     "iopub.status.idle": "2025-03-09T20:44:41.319932Z",
     "shell.execute_reply": "2025-03-09T20:44:41.319132Z",
     "shell.execute_reply.started": "2025-03-09T20:44:41.221138Z"
    },
    "trusted": true
   },
   "outputs": [
    {
     "name": "stdout",
     "output_type": "stream",
     "text": [
      "Data: tensor([ 0.3535,  0.2259, -0.2635, -0.1844,  0.5497,  0.3440, -0.5339,  0.3181,\n",
      "        -0.1206, -0.0456,  0.0633,  0.0991, -0.3081, -0.0968,  0.5490, -0.0392,\n",
      "        -0.3014,  0.1889, -0.2946,  0.0903, -0.0032,  0.4744,  0.1511,  0.0687,\n",
      "         0.2425, -1.7699, -0.4351,  0.0203,  0.0878, -0.2366,  2.4555, -0.1694,\n",
      "        -0.3921, -0.2766,  0.1385,  0.0899,  0.0356,  0.2567,  0.3549, -0.3032,\n",
      "        -0.0195,  0.0999, -0.3051,  0.0216,  0.0066, -0.1206, -0.0440, -0.2586,\n",
      "        -0.0480,  0.0124,  0.3929,  0.4082, -0.3276, -0.2694,  0.6781,  0.4103,\n",
      "        -0.6128,  0.3728, -0.1513, -0.0881, -0.0085,  0.2411, -0.3231, -0.0239,\n",
      "         0.6424, -0.1880, -0.4943,  0.2857, -0.2066,  0.2821,  0.0313,  0.7431,\n",
      "         0.1036,  0.1464,  0.2668, -1.8935, -0.3884, -0.0506,  0.0037, -0.1031,\n",
      "         2.1107, -0.3195, -0.3588, -0.2550,  0.1980,  0.2089,  0.0306,  0.3399,\n",
      "         0.5402, -0.2639,  0.1296,  0.3619, -0.3499, -0.0722,  0.2285, -0.1919,\n",
      "        -0.1032, -0.3510,  0.0255,  0.2364])\n",
      "Label: tensor(2)\n"
     ]
    }
   ],
   "source": [
    "for batch in train_loader:\n",
    "    # Extract the data and labels\n",
    "    data, labels = batch\n",
    "    # Print the first example in the batch\n",
    "    print(\"Data:\", data[0])\n",
    "    print(\"Label:\", labels[0])\n",
    "    # Break after the first batch \n",
    "    break"
   ]
  },
  {
   "cell_type": "code",
   "execution_count": 47,
   "metadata": {
    "execution": {
     "iopub.execute_input": "2025-03-09T20:44:47.401042Z",
     "iopub.status.busy": "2025-03-09T20:44:47.400591Z",
     "iopub.status.idle": "2025-03-09T20:44:47.410297Z",
     "shell.execute_reply": "2025-03-09T20:44:47.409369Z",
     "shell.execute_reply.started": "2025-03-09T20:44:47.401003Z"
    },
    "trusted": true
   },
   "outputs": [
    {
     "name": "stdout",
     "output_type": "stream",
     "text": [
      "Data: tensor([ 4.1502e-01,  2.7580e-01, -4.4895e-02,  1.0951e-03,  5.8646e-01,\n",
      "         1.8828e-01, -5.1572e-01,  1.1271e-01, -9.4568e-02,  1.2740e-01,\n",
      "        -4.2868e-02,  3.8149e-01, -5.7627e-01, -9.1802e-02,  5.0923e-01,\n",
      "         1.2897e-01,  1.3790e-01,  4.0672e-02, -2.8439e-01, -2.8980e-01,\n",
      "         5.1296e-02,  2.4179e-01, -4.3177e-02, -2.9604e-01,  1.7269e-01,\n",
      "        -1.8681e+00, -1.9942e-01,  5.0309e-02,  1.4700e-01, -2.8041e-01,\n",
      "         3.1466e+00,  1.4808e-01, -5.1373e-01, -2.1907e-01,  2.5196e-02,\n",
      "         2.8607e-02,  1.6214e-01,  2.5439e-01,  1.0908e-01, -5.0126e-01,\n",
      "         2.6263e-03,  7.5364e-02, -3.7746e-01,  5.5504e-02, -1.5776e-01,\n",
      "        -1.3810e-01, -1.0737e-01,  1.2205e-01, -1.6141e-02,  1.0815e-01,\n",
      "         3.8263e-01,  2.5200e-01, -1.8315e-01,  2.0701e-01,  5.5449e-01,\n",
      "         5.8329e-01, -6.6298e-01, -4.2276e-01,  9.7382e-02,  1.2787e-01,\n",
      "         5.1425e-02, -2.3174e-01, -5.4378e-01,  1.1913e-01,  3.9448e-01,\n",
      "        -1.0350e-03,  3.3157e-02,  2.6226e-01, -4.5030e-01, -1.4929e-01,\n",
      "        -2.8663e-01,  2.0498e-01, -2.4803e-01, -2.3791e-01, -1.4663e-01,\n",
      "        -2.1799e+00, -1.0052e-01,  4.7853e-01, -1.6114e-01,  1.4247e-01,\n",
      "         3.8115e+00, -4.4252e-01, -2.1547e-01, -6.9305e-02,  6.4525e-02,\n",
      "        -9.2460e-02,  6.5395e-02,  3.5245e-01,  1.7572e-01, -3.6099e-01,\n",
      "        -1.4046e-01,  4.8888e-01, -4.4275e-01,  1.9514e-02, -1.3568e-01,\n",
      "        -1.1975e-01, -3.5079e-01,  1.1105e-01,  3.7300e-03,  4.2450e-03])\n",
      "Label: tensor(0)\n"
     ]
    }
   ],
   "source": [
    "for batch in val_loader:\n",
    "    # Extract the data and labels\n",
    "    data, labels = batch\n",
    "    # Print the first example in the batch\n",
    "    print(\"Data:\", data[0])\n",
    "    print(\"Label:\", labels[0])\n",
    "    # Break after the first batch \n",
    "    break"
   ]
  },
  {
   "cell_type": "code",
   "execution_count": 24,
   "metadata": {
    "execution": {
     "iopub.execute_input": "2025-02-06T18:53:04.822890Z",
     "iopub.status.busy": "2025-02-06T18:53:04.822570Z",
     "iopub.status.idle": "2025-02-06T18:53:04.827076Z",
     "shell.execute_reply": "2025-02-06T18:53:04.826247Z",
     "shell.execute_reply.started": "2025-02-06T18:53:04.822862Z"
    },
    "trusted": true
   },
   "outputs": [],
   "source": [
    "config = {\n",
    "    'nonlinear_fc': 0,\n",
    "    'fc_dim': 512,\n",
    "    'n_classes': 3,\n",
    "    'enc_lstm_dim': 2048,\n",
    "    'encoder_type': 'InferSent',\n",
    "    'dpout_fc': 0.5,\n",
    "    'bsize': 64,\n",
    "    'word_emb_dim': 8192,\n",
    "    'enc_lstm_dim': 2048,\n",
    "    'pool_type': 'max',\n",
    "    'dpout_model': 0.0,\n",
    "    'n_enc_layers': 1,\n",
    "    'version': 2  # Use version 2 for fastText\n",
    "}"
   ]
  },
  {
   "cell_type": "code",
   "execution_count": 48,
   "metadata": {
    "execution": {
     "iopub.execute_input": "2025-03-09T20:45:34.780324Z",
     "iopub.status.busy": "2025-03-09T20:45:34.779973Z",
     "iopub.status.idle": "2025-03-09T20:45:34.784295Z",
     "shell.execute_reply": "2025-03-09T20:45:34.783484Z",
     "shell.execute_reply.started": "2025-03-09T20:45:34.780300Z"
    },
    "trusted": true
   },
   "outputs": [],
   "source": [
    "glove_config = {\n",
    "    'n_classes': 3,\n",
    "    'fc_dim': 512, # fully connected dimensions\n",
    "    'word_emb_dim': 100, # size of embeddings\n",
    "    'dpout_fc': 0.5,\n",
    "}"
   ]
  },
  {
   "cell_type": "code",
   "execution_count": 49,
   "metadata": {
    "execution": {
     "iopub.execute_input": "2025-03-09T20:45:40.887987Z",
     "iopub.status.busy": "2025-03-09T20:45:40.887577Z",
     "iopub.status.idle": "2025-03-09T20:45:40.895101Z",
     "shell.execute_reply": "2025-03-09T20:45:40.893769Z",
     "shell.execute_reply.started": "2025-03-09T20:45:40.887944Z"
    },
    "trusted": true
   },
   "outputs": [],
   "source": [
    "# modified \n",
    "class ClassificationNet(nn.Module):\n",
    "    def __init__(self, config):\n",
    "        super(ClassificationNet, self).__init__()\n",
    "        \n",
    "        self.n_classes = config['n_classes']\n",
    "        self.fc_dim = config['fc_dim']\n",
    "        self.embedding_dim = config['word_emb_dim']\n",
    "        \n",
    "        self.classifier = nn.Sequential(\n",
    "            nn.Linear(self.embedding_dim, self.fc_dim),\n",
    "            nn.ReLU(),\n",
    "            nn.Dropout(p=config['dpout_fc']),\n",
    "            nn.Linear(self.fc_dim, self.n_classes),\n",
    "        )\n",
    "\n",
    "    def forward(self, embeddings):\n",
    "        output = self.classifier(embeddings)\n",
    "        return output"
   ]
  },
  {
   "cell_type": "code",
   "execution_count": 50,
   "metadata": {
    "execution": {
     "iopub.execute_input": "2025-03-09T20:45:46.457315Z",
     "iopub.status.busy": "2025-03-09T20:45:46.456962Z",
     "iopub.status.idle": "2025-03-09T20:45:46.696656Z",
     "shell.execute_reply": "2025-03-09T20:45:46.695947Z",
     "shell.execute_reply.started": "2025-03-09T20:45:46.457287Z"
    },
    "trusted": true
   },
   "outputs": [],
   "source": [
    "glove_model = ClassificationNet(glove_config)\n",
    "if torch.cuda.is_available():\n",
    "    glove_model.cuda() "
   ]
  },
  {
   "cell_type": "code",
   "execution_count": 51,
   "metadata": {
    "execution": {
     "iopub.execute_input": "2025-03-09T20:45:53.539596Z",
     "iopub.status.busy": "2025-03-09T20:45:53.539256Z",
     "iopub.status.idle": "2025-03-09T20:45:55.278413Z",
     "shell.execute_reply": "2025-03-09T20:45:55.277520Z",
     "shell.execute_reply.started": "2025-03-09T20:45:53.539565Z"
    },
    "trusted": true
   },
   "outputs": [],
   "source": [
    "criterion = nn.CrossEntropyLoss()\n",
    "optimizer = optim.Adam(glove_model.parameters(), lr=0.001)\n",
    "num_epochs = 50"
   ]
  },
  {
   "cell_type": "code",
   "execution_count": 52,
   "metadata": {
    "execution": {
     "iopub.execute_input": "2025-03-09T20:45:59.613596Z",
     "iopub.status.busy": "2025-03-09T20:45:59.613037Z",
     "iopub.status.idle": "2025-03-09T20:45:59.621247Z",
     "shell.execute_reply": "2025-03-09T20:45:59.620414Z",
     "shell.execute_reply.started": "2025-03-09T20:45:59.613567Z"
    },
    "trusted": true
   },
   "outputs": [],
   "source": [
    "def train_model(model): \n",
    "    if torch.cuda.is_available():\n",
    "        model.cuda()\n",
    "    \n",
    "    for epoch in range(num_epochs):\n",
    "        model.train()  # Set the model to training mode\n",
    "    \n",
    "        running_loss = 0.0\n",
    "        correct_predictions = 0\n",
    "        total_samples = 0\n",
    "    \n",
    "        for s1_batch, labels in train_loader:  # train_loader is a DataLoader for training data\n",
    "            if torch.cuda.is_available():\n",
    "                s1_batch = s1_batch.cuda()\n",
    "                labels = labels.cuda()\n",
    "    \n",
    "            # Zero the parameter gradients\n",
    "            optimizer.zero_grad()\n",
    "\n",
    "            # Forward pass\n",
    "            outputs = model(s1_batch)\n",
    "            loss = criterion(outputs, labels)\n",
    "    \n",
    "            # Backward pass and optimize\n",
    "            loss.backward()\n",
    "            optimizer.step()\n",
    "    \n",
    "            # Accumulate loss\n",
    "            running_loss += loss.item()\n",
    "    \n",
    "            # Compute accuracy\n",
    "            _, predicted = torch.max(outputs.data, 1)\n",
    "            total_samples += labels.size(0)\n",
    "            correct_predictions += (predicted == labels).sum().item()\n",
    "    \n",
    "        accuracy = 100 * correct_predictions / total_samples\n",
    "        print(f'Epoch [{epoch + 1}/{num_epochs}], Loss: {running_loss / len(train_loader):.4f}, Accuracy: {accuracy:.2f}%')\n",
    "    \n",
    "        # Validation phase\n",
    "        model.eval()  # Set the model to evaluation mode\n",
    "        val_running_loss = 0.0\n",
    "        val_correct_predictions = 0\n",
    "        val_total_samples = 0\n",
    "        \n",
    "        with torch.no_grad():  # No need to calculate gradients during validation\n",
    "            for s1_batch, labels in val_loader:  # val_loader is a DataLoader for validation data\n",
    "                if torch.cuda.is_available():\n",
    "                    s1_batch = s1_batch.cuda()\n",
    "                    labels = labels.cuda()\n",
    "    \n",
    "                # Forward pass\n",
    "                outputs = model(s1_batch)\n",
    "                loss = criterion(outputs, labels)\n",
    "    \n",
    "                # Accumulate loss\n",
    "                val_running_loss += loss.item()\n",
    "    \n",
    "                # Compute accuracy\n",
    "                _, predicted = torch.max(outputs.data, 1)\n",
    "                val_total_samples += labels.size(0)\n",
    "                val_correct_predictions += (predicted == labels).sum().item()\n",
    "    \n",
    "        val_accuracy = 100 * val_correct_predictions / val_total_samples\n",
    "        print(f'Epoch [{epoch + 1}/{num_epochs}], Validation Loss: {val_running_loss / len(val_loader):.4f}, Validation Accuracy: {val_accuracy:.2f}%')\n"
   ]
  },
  {
   "cell_type": "code",
   "execution_count": 67,
   "metadata": {
    "execution": {
     "iopub.execute_input": "2025-03-09T20:50:45.486118Z",
     "iopub.status.busy": "2025-03-09T20:50:45.485748Z",
     "iopub.status.idle": "2025-03-09T20:51:56.155056Z",
     "shell.execute_reply": "2025-03-09T20:51:56.154057Z",
     "shell.execute_reply.started": "2025-03-09T20:50:45.486089Z"
    },
    "trusted": true
   },
   "outputs": [
    {
     "name": "stdout",
     "output_type": "stream",
     "text": [
      "Epoch [1/50], Loss: 0.0642, Accuracy: 97.53%\n",
      "Epoch [1/50], Validation Loss: 0.7179, Validation Accuracy: 88.03%\n",
      "Epoch [2/50], Loss: 0.0614, Accuracy: 97.81%\n",
      "Epoch [2/50], Validation Loss: 0.6592, Validation Accuracy: 88.59%\n",
      "Epoch [3/50], Loss: 0.0628, Accuracy: 97.73%\n",
      "Epoch [3/50], Validation Loss: 0.6932, Validation Accuracy: 88.20%\n",
      "Epoch [4/50], Loss: 0.0643, Accuracy: 97.47%\n",
      "Epoch [4/50], Validation Loss: 0.6289, Validation Accuracy: 88.71%\n",
      "Epoch [5/50], Loss: 0.0599, Accuracy: 97.84%\n",
      "Epoch [5/50], Validation Loss: 0.6624, Validation Accuracy: 88.50%\n",
      "Epoch [6/50], Loss: 0.0584, Accuracy: 97.73%\n",
      "Epoch [6/50], Validation Loss: 0.7468, Validation Accuracy: 87.82%\n",
      "Epoch [7/50], Loss: 0.0597, Accuracy: 97.86%\n",
      "Epoch [7/50], Validation Loss: 0.7134, Validation Accuracy: 88.42%\n",
      "Epoch [8/50], Loss: 0.0563, Accuracy: 97.81%\n",
      "Epoch [8/50], Validation Loss: 0.7157, Validation Accuracy: 88.97%\n",
      "Epoch [9/50], Loss: 0.0527, Accuracy: 98.15%\n",
      "Epoch [9/50], Validation Loss: 0.7512, Validation Accuracy: 88.42%\n",
      "Epoch [10/50], Loss: 0.0566, Accuracy: 97.86%\n",
      "Epoch [10/50], Validation Loss: 0.7682, Validation Accuracy: 87.82%\n",
      "Epoch [11/50], Loss: 0.0588, Accuracy: 97.84%\n",
      "Epoch [11/50], Validation Loss: 0.7572, Validation Accuracy: 88.84%\n",
      "Epoch [12/50], Loss: 0.0496, Accuracy: 98.27%\n",
      "Epoch [12/50], Validation Loss: 0.7539, Validation Accuracy: 88.12%\n",
      "Epoch [13/50], Loss: 0.0598, Accuracy: 97.83%\n",
      "Epoch [13/50], Validation Loss: 0.7574, Validation Accuracy: 87.14%\n",
      "Epoch [14/50], Loss: 0.0502, Accuracy: 97.96%\n",
      "Epoch [14/50], Validation Loss: 0.7435, Validation Accuracy: 88.67%\n",
      "Epoch [15/50], Loss: 0.0470, Accuracy: 98.35%\n",
      "Epoch [15/50], Validation Loss: 0.7406, Validation Accuracy: 88.71%\n",
      "Epoch [16/50], Loss: 0.0590, Accuracy: 97.90%\n",
      "Epoch [16/50], Validation Loss: 0.8393, Validation Accuracy: 88.12%\n",
      "Epoch [17/50], Loss: 0.0504, Accuracy: 98.09%\n",
      "Epoch [17/50], Validation Loss: 0.7678, Validation Accuracy: 88.33%\n",
      "Epoch [18/50], Loss: 0.0518, Accuracy: 98.18%\n",
      "Epoch [18/50], Validation Loss: 0.8341, Validation Accuracy: 87.18%\n",
      "Epoch [19/50], Loss: 0.0584, Accuracy: 97.89%\n",
      "Epoch [19/50], Validation Loss: 0.7854, Validation Accuracy: 88.42%\n",
      "Epoch [20/50], Loss: 0.0476, Accuracy: 98.23%\n",
      "Epoch [20/50], Validation Loss: 0.7926, Validation Accuracy: 88.03%\n",
      "Epoch [21/50], Loss: 0.0455, Accuracy: 98.24%\n",
      "Epoch [21/50], Validation Loss: 0.7416, Validation Accuracy: 88.54%\n",
      "Epoch [22/50], Loss: 0.0481, Accuracy: 98.07%\n",
      "Epoch [22/50], Validation Loss: 0.7899, Validation Accuracy: 87.99%\n",
      "Epoch [23/50], Loss: 0.0539, Accuracy: 98.13%\n",
      "Epoch [23/50], Validation Loss: 0.7981, Validation Accuracy: 88.42%\n",
      "Epoch [24/50], Loss: 0.0472, Accuracy: 98.27%\n",
      "Epoch [24/50], Validation Loss: 0.8096, Validation Accuracy: 88.71%\n",
      "Epoch [25/50], Loss: 0.0367, Accuracy: 98.70%\n",
      "Epoch [25/50], Validation Loss: 0.7909, Validation Accuracy: 88.71%\n",
      "Epoch [26/50], Loss: 0.0540, Accuracy: 98.17%\n",
      "Epoch [26/50], Validation Loss: 0.8396, Validation Accuracy: 87.90%\n",
      "Epoch [27/50], Loss: 0.0452, Accuracy: 98.29%\n",
      "Epoch [27/50], Validation Loss: 0.8869, Validation Accuracy: 88.03%\n",
      "Epoch [28/50], Loss: 0.0512, Accuracy: 98.24%\n",
      "Epoch [28/50], Validation Loss: 0.8178, Validation Accuracy: 88.33%\n",
      "Epoch [29/50], Loss: 0.0426, Accuracy: 98.60%\n",
      "Epoch [29/50], Validation Loss: 0.8149, Validation Accuracy: 88.29%\n",
      "Epoch [30/50], Loss: 0.0437, Accuracy: 98.43%\n",
      "Epoch [30/50], Validation Loss: 0.8494, Validation Accuracy: 87.82%\n",
      "Epoch [31/50], Loss: 0.0436, Accuracy: 98.60%\n",
      "Epoch [31/50], Validation Loss: 0.8475, Validation Accuracy: 87.82%\n",
      "Epoch [32/50], Loss: 0.0450, Accuracy: 98.29%\n",
      "Epoch [32/50], Validation Loss: 0.7731, Validation Accuracy: 88.67%\n",
      "Epoch [33/50], Loss: 0.0467, Accuracy: 98.20%\n",
      "Epoch [33/50], Validation Loss: 0.8100, Validation Accuracy: 87.65%\n",
      "Epoch [34/50], Loss: 0.0480, Accuracy: 98.06%\n",
      "Epoch [34/50], Validation Loss: 0.8380, Validation Accuracy: 89.05%\n",
      "Epoch [35/50], Loss: 0.0442, Accuracy: 98.40%\n",
      "Epoch [35/50], Validation Loss: 0.8302, Validation Accuracy: 88.67%\n",
      "Epoch [36/50], Loss: 0.0457, Accuracy: 98.30%\n",
      "Epoch [36/50], Validation Loss: 0.8440, Validation Accuracy: 88.54%\n",
      "Epoch [37/50], Loss: 0.0469, Accuracy: 98.40%\n",
      "Epoch [37/50], Validation Loss: 0.9168, Validation Accuracy: 87.27%\n",
      "Epoch [38/50], Loss: 0.0490, Accuracy: 98.33%\n",
      "Epoch [38/50], Validation Loss: 0.9095, Validation Accuracy: 88.03%\n",
      "Epoch [39/50], Loss: 0.0412, Accuracy: 98.54%\n",
      "Epoch [39/50], Validation Loss: 0.8873, Validation Accuracy: 88.93%\n",
      "Epoch [40/50], Loss: 0.0435, Accuracy: 98.52%\n",
      "Epoch [40/50], Validation Loss: 0.8613, Validation Accuracy: 88.80%\n",
      "Epoch [41/50], Loss: 0.0462, Accuracy: 98.33%\n",
      "Epoch [41/50], Validation Loss: 0.8529, Validation Accuracy: 88.59%\n",
      "Epoch [42/50], Loss: 0.0478, Accuracy: 98.37%\n",
      "Epoch [42/50], Validation Loss: 0.9083, Validation Accuracy: 88.42%\n",
      "Epoch [43/50], Loss: 0.0390, Accuracy: 98.61%\n",
      "Epoch [43/50], Validation Loss: 0.8916, Validation Accuracy: 88.29%\n",
      "Epoch [44/50], Loss: 0.0461, Accuracy: 98.20%\n",
      "Epoch [44/50], Validation Loss: 0.8367, Validation Accuracy: 88.63%\n",
      "Epoch [45/50], Loss: 0.0383, Accuracy: 98.61%\n",
      "Epoch [45/50], Validation Loss: 0.9008, Validation Accuracy: 89.10%\n",
      "Epoch [46/50], Loss: 0.0482, Accuracy: 98.18%\n",
      "Epoch [46/50], Validation Loss: 0.9101, Validation Accuracy: 89.14%\n",
      "Epoch [47/50], Loss: 0.0411, Accuracy: 98.46%\n",
      "Epoch [47/50], Validation Loss: 0.9053, Validation Accuracy: 88.16%\n",
      "Epoch [48/50], Loss: 0.0460, Accuracy: 98.27%\n",
      "Epoch [48/50], Validation Loss: 0.9189, Validation Accuracy: 88.42%\n",
      "Epoch [49/50], Loss: 0.0374, Accuracy: 98.89%\n",
      "Epoch [49/50], Validation Loss: 0.8597, Validation Accuracy: 88.16%\n",
      "Epoch [50/50], Loss: 0.0446, Accuracy: 98.44%\n",
      "Epoch [50/50], Validation Loss: 0.9838, Validation Accuracy: 88.54%\n"
     ]
    }
   ],
   "source": [
    "train_model(glove_model)"
   ]
  },
  {
   "cell_type": "code",
   "execution_count": 30,
   "metadata": {
    "execution": {
     "iopub.execute_input": "2025-02-08T03:12:55.385012Z",
     "iopub.status.busy": "2025-02-08T03:12:55.384694Z",
     "iopub.status.idle": "2025-02-08T03:14:06.521122Z",
     "shell.execute_reply": "2025-02-08T03:14:06.520189Z",
     "shell.execute_reply.started": "2025-02-08T03:12:55.384979Z"
    },
    "trusted": true
   },
   "outputs": [
    {
     "name": "stdout",
     "output_type": "stream",
     "text": [
      "Epoch [1/50], Loss: 0.5049, Accuracy: 78.21%\n",
      "Epoch [1/50], Validation Loss: 0.4964, Validation Accuracy: 82.62%\n",
      "Epoch [2/50], Loss: 0.3525, Accuracy: 85.71%\n",
      "Epoch [2/50], Validation Loss: 0.4633, Validation Accuracy: 84.07%\n",
      "Epoch [3/50], Loss: 0.3086, Accuracy: 87.63%\n",
      "Epoch [3/50], Validation Loss: 0.4801, Validation Accuracy: 84.58%\n",
      "Epoch [4/50], Loss: 0.2747, Accuracy: 89.16%\n",
      "Epoch [4/50], Validation Loss: 0.4345, Validation Accuracy: 84.58%\n",
      "Epoch [5/50], Loss: 0.2564, Accuracy: 89.93%\n",
      "Epoch [5/50], Validation Loss: 0.4201, Validation Accuracy: 85.86%\n",
      "Epoch [6/50], Loss: 0.2407, Accuracy: 90.47%\n",
      "Epoch [6/50], Validation Loss: 0.4133, Validation Accuracy: 86.07%\n",
      "Epoch [7/50], Loss: 0.2142, Accuracy: 91.91%\n",
      "Epoch [7/50], Validation Loss: 0.4450, Validation Accuracy: 85.52%\n",
      "Epoch [8/50], Loss: 0.2067, Accuracy: 92.32%\n",
      "Epoch [8/50], Validation Loss: 0.4710, Validation Accuracy: 85.95%\n",
      "Epoch [9/50], Loss: 0.1966, Accuracy: 92.40%\n",
      "Epoch [9/50], Validation Loss: 0.3962, Validation Accuracy: 86.07%\n",
      "Epoch [10/50], Loss: 0.1757, Accuracy: 93.45%\n",
      "Epoch [10/50], Validation Loss: 0.4525, Validation Accuracy: 87.01%\n",
      "Epoch [11/50], Loss: 0.1754, Accuracy: 93.56%\n",
      "Epoch [11/50], Validation Loss: 0.4565, Validation Accuracy: 85.26%\n",
      "Epoch [12/50], Loss: 0.1620, Accuracy: 93.83%\n",
      "Epoch [12/50], Validation Loss: 0.4358, Validation Accuracy: 87.44%\n",
      "Epoch [13/50], Loss: 0.1570, Accuracy: 94.13%\n",
      "Epoch [13/50], Validation Loss: 0.4491, Validation Accuracy: 87.10%\n",
      "Epoch [14/50], Loss: 0.1499, Accuracy: 94.54%\n",
      "Epoch [14/50], Validation Loss: 0.3948, Validation Accuracy: 87.31%\n",
      "Epoch [15/50], Loss: 0.1403, Accuracy: 94.65%\n",
      "Epoch [15/50], Validation Loss: 0.4612, Validation Accuracy: 86.37%\n",
      "Epoch [16/50], Loss: 0.1343, Accuracy: 95.00%\n",
      "Epoch [16/50], Validation Loss: 0.4677, Validation Accuracy: 86.67%\n",
      "Epoch [17/50], Loss: 0.1272, Accuracy: 95.53%\n",
      "Epoch [17/50], Validation Loss: 0.5031, Validation Accuracy: 87.10%\n",
      "Epoch [18/50], Loss: 0.1287, Accuracy: 95.19%\n",
      "Epoch [18/50], Validation Loss: 0.4493, Validation Accuracy: 87.39%\n",
      "Epoch [19/50], Loss: 0.1162, Accuracy: 95.61%\n",
      "Epoch [19/50], Validation Loss: 0.5215, Validation Accuracy: 86.33%\n",
      "Epoch [20/50], Loss: 0.1177, Accuracy: 95.82%\n",
      "Epoch [20/50], Validation Loss: 0.4568, Validation Accuracy: 86.58%\n",
      "Epoch [21/50], Loss: 0.1141, Accuracy: 95.51%\n",
      "Epoch [21/50], Validation Loss: 0.4751, Validation Accuracy: 87.31%\n",
      "Epoch [22/50], Loss: 0.1050, Accuracy: 96.08%\n",
      "Epoch [22/50], Validation Loss: 0.5132, Validation Accuracy: 87.48%\n",
      "Epoch [23/50], Loss: 0.1029, Accuracy: 96.28%\n",
      "Epoch [23/50], Validation Loss: 0.5711, Validation Accuracy: 87.31%\n",
      "Epoch [24/50], Loss: 0.1008, Accuracy: 96.58%\n",
      "Epoch [24/50], Validation Loss: 0.5231, Validation Accuracy: 87.61%\n",
      "Epoch [25/50], Loss: 0.1016, Accuracy: 96.15%\n",
      "Epoch [25/50], Validation Loss: 0.5188, Validation Accuracy: 87.27%\n",
      "Epoch [26/50], Loss: 0.0998, Accuracy: 96.53%\n",
      "Epoch [26/50], Validation Loss: 0.5825, Validation Accuracy: 87.01%\n",
      "Epoch [27/50], Loss: 0.0919, Accuracy: 96.65%\n",
      "Epoch [27/50], Validation Loss: 0.5888, Validation Accuracy: 86.80%\n",
      "Epoch [28/50], Loss: 0.0958, Accuracy: 96.18%\n",
      "Epoch [28/50], Validation Loss: 0.5653, Validation Accuracy: 87.14%\n",
      "Epoch [29/50], Loss: 0.0897, Accuracy: 97.10%\n",
      "Epoch [29/50], Validation Loss: 0.5623, Validation Accuracy: 87.39%\n",
      "Epoch [30/50], Loss: 0.0909, Accuracy: 96.62%\n",
      "Epoch [30/50], Validation Loss: 0.5790, Validation Accuracy: 87.52%\n",
      "Epoch [31/50], Loss: 0.0809, Accuracy: 97.12%\n",
      "Epoch [31/50], Validation Loss: 0.5426, Validation Accuracy: 87.56%\n",
      "Epoch [32/50], Loss: 0.0805, Accuracy: 97.13%\n",
      "Epoch [32/50], Validation Loss: 0.5902, Validation Accuracy: 87.82%\n",
      "Epoch [33/50], Loss: 0.0799, Accuracy: 97.15%\n",
      "Epoch [33/50], Validation Loss: 0.5925, Validation Accuracy: 87.78%\n",
      "Epoch [34/50], Loss: 0.0814, Accuracy: 96.85%\n",
      "Epoch [34/50], Validation Loss: 0.6015, Validation Accuracy: 88.29%\n",
      "Epoch [35/50], Loss: 0.0821, Accuracy: 96.76%\n",
      "Epoch [35/50], Validation Loss: 0.6160, Validation Accuracy: 87.61%\n",
      "Epoch [36/50], Loss: 0.0742, Accuracy: 97.32%\n",
      "Epoch [36/50], Validation Loss: 0.6047, Validation Accuracy: 87.95%\n",
      "Epoch [37/50], Loss: 0.0760, Accuracy: 97.09%\n",
      "Epoch [37/50], Validation Loss: 0.6511, Validation Accuracy: 87.27%\n",
      "Epoch [38/50], Loss: 0.0709, Accuracy: 97.22%\n",
      "Epoch [38/50], Validation Loss: 0.5836, Validation Accuracy: 87.78%\n",
      "Epoch [39/50], Loss: 0.0684, Accuracy: 97.41%\n",
      "Epoch [39/50], Validation Loss: 0.6605, Validation Accuracy: 87.61%\n",
      "Epoch [40/50], Loss: 0.0747, Accuracy: 97.22%\n",
      "Epoch [40/50], Validation Loss: 0.6572, Validation Accuracy: 87.27%\n",
      "Epoch [41/50], Loss: 0.0675, Accuracy: 97.39%\n",
      "Epoch [41/50], Validation Loss: 0.6201, Validation Accuracy: 88.16%\n",
      "Epoch [42/50], Loss: 0.0669, Accuracy: 97.50%\n",
      "Epoch [42/50], Validation Loss: 0.6737, Validation Accuracy: 88.12%\n",
      "Epoch [43/50], Loss: 0.0657, Accuracy: 97.63%\n",
      "Epoch [43/50], Validation Loss: 0.7142, Validation Accuracy: 87.39%\n",
      "Epoch [44/50], Loss: 0.0633, Accuracy: 97.87%\n",
      "Epoch [44/50], Validation Loss: 0.6225, Validation Accuracy: 87.90%\n",
      "Epoch [45/50], Loss: 0.0625, Accuracy: 97.67%\n",
      "Epoch [45/50], Validation Loss: 0.6858, Validation Accuracy: 87.90%\n",
      "Epoch [46/50], Loss: 0.0616, Accuracy: 97.59%\n",
      "Epoch [46/50], Validation Loss: 0.6693, Validation Accuracy: 88.25%\n",
      "Epoch [47/50], Loss: 0.0657, Accuracy: 97.41%\n",
      "Epoch [47/50], Validation Loss: 0.7570, Validation Accuracy: 87.39%\n",
      "Epoch [48/50], Loss: 0.0643, Accuracy: 97.72%\n",
      "Epoch [48/50], Validation Loss: 0.6605, Validation Accuracy: 87.69%\n",
      "Epoch [49/50], Loss: 0.0619, Accuracy: 97.69%\n",
      "Epoch [49/50], Validation Loss: 0.6731, Validation Accuracy: 88.07%\n",
      "Epoch [50/50], Loss: 0.0635, Accuracy: 97.52%\n",
      "Epoch [50/50], Validation Loss: 0.7373, Validation Accuracy: 88.07%\n"
     ]
    }
   ],
   "source": [
    "train_model(glove_model)"
   ]
  },
  {
   "cell_type": "code",
   "execution_count": 68,
   "metadata": {
    "execution": {
     "iopub.execute_input": "2025-03-09T20:52:11.693835Z",
     "iopub.status.busy": "2025-03-09T20:52:11.693490Z",
     "iopub.status.idle": "2025-03-09T20:52:11.701923Z",
     "shell.execute_reply": "2025-03-09T20:52:11.701196Z",
     "shell.execute_reply.started": "2025-03-09T20:52:11.693809Z"
    },
    "trusted": true
   },
   "outputs": [
    {
     "data": {
      "text/plain": [
       "[array([ 1.71708882e-01,  4.65558887e-01,  1.76288951e-02, -3.65464866e-01,\n",
       "         5.26058912e-01,  6.26763284e-01, -7.50754535e-01,  2.18887269e-01,\n",
       "         1.71126664e-01,  5.52145578e-02, -1.20569095e-01,  1.72553331e-01,\n",
       "        -3.09216648e-01, -7.29010031e-02,  5.01276731e-01,  7.06233382e-02,\n",
       "        -4.13173348e-01, -4.02955487e-02, -1.57736745e-02, -5.40122271e-01,\n",
       "         1.96113780e-01,  7.71107793e-01, -1.15851671e-01,  5.32580093e-02,\n",
       "         3.89301360e-01, -1.98683333e+00, -2.09934428e-01,  2.90544368e-02,\n",
       "         4.32764471e-01, -5.49106658e-01,  2.96866679e+00,  4.34161007e-01,\n",
       "        -3.64409000e-01, -9.44377948e-03,  3.82882535e-01,  4.85129990e-02,\n",
       "         3.25472541e-02,  2.71809101e-01,  1.97061554e-01, -5.51656663e-01,\n",
       "        -1.06356889e-01,  1.95198774e-01,  7.75347650e-02,  2.74355919e-03,\n",
       "         2.34851129e-02, -3.04380000e-01,  2.49822196e-02, -6.22125745e-01,\n",
       "         1.50862336e-01,  1.09368801e-01,  5.48219979e-01,  3.88469994e-02,\n",
       "         1.01269998e-01,  3.13190013e-01,  9.54869986e-02,  4.18139994e-01,\n",
       "        -7.94929981e-01, -5.82960010e-01,  2.66430005e-02,  1.23920001e-01,\n",
       "         3.51940006e-01, -2.16300003e-02, -8.70180011e-01, -2.71780014e-01,\n",
       "         6.54489994e-01,  4.29340005e-01,  9.75439996e-02,  3.17790002e-01,\n",
       "        -1.19209997e-01, -9.71060023e-02, -4.75849986e-01,  2.49070004e-01,\n",
       "         1.22299999e-01, -2.90789992e-01, -1.68660000e-01, -2.10719991e+00,\n",
       "         2.21740007e-02,  4.52769995e-01, -6.44850016e-01,  1.31809995e-01,\n",
       "         3.65939999e+00, -1.71399996e-01,  2.39189997e-01, -4.22490001e-01,\n",
       "        -8.83309990e-02, -3.29250008e-01, -1.28470004e-01,  4.70550001e-01,\n",
       "        -7.59529993e-02, -2.77469993e-01, -4.19050008e-01,  6.08030021e-01,\n",
       "        -2.42609993e-01,  1.48850000e-02, -2.32040003e-01,  2.08790004e-02,\n",
       "        -8.21749985e-01,  2.65879989e-01, -4.02669996e-01, -1.71110004e-01],\n",
       "       dtype=float32),\n",
       " array([ 3.2833287e-01,  2.6317859e-01, -3.6561489e-04, -1.9120635e-01,\n",
       "         5.3925997e-01,  5.3705806e-01, -5.4217333e-01,  1.6922583e-01,\n",
       "         1.0008498e-01,  1.0891068e-02, -4.0376283e-02,  2.2257431e-01,\n",
       "        -4.0424857e-01, -9.6388511e-02,  6.2516934e-01,  2.3488306e-01,\n",
       "        -2.1516715e-01, -1.3040857e-01, -5.4271493e-02, -5.5580574e-01,\n",
       "         5.5200141e-02,  5.0568813e-01,  2.4387496e-02,  6.2396610e-03,\n",
       "         2.7470657e-01, -2.1203785e+00, -3.0947787e-01,  1.0239165e-01,\n",
       "         3.6117005e-01, -4.7076997e-01,  3.1906929e+00,  2.0184137e-01,\n",
       "        -4.4778934e-01, -2.3954669e-01,  2.5392106e-01, -9.3394160e-02,\n",
       "         1.3099323e-01,  1.5854800e-01,  1.5952328e-01, -4.3075389e-01,\n",
       "        -1.8545160e-01,  2.0812277e-01,  5.6895204e-02,  1.6963823e-01,\n",
       "        -1.9064644e-02, -1.9579493e-01, -9.0412430e-02, -3.1146225e-01,\n",
       "         8.5966870e-02,  9.4648883e-02,  5.4821998e-01,  3.8846999e-02,\n",
       "         1.0127000e-01,  3.1319001e-01,  9.5486999e-02,  4.1813999e-01,\n",
       "        -7.9492998e-01, -5.8296001e-01,  2.6643001e-02,  1.2392000e-01,\n",
       "         3.5194001e-01, -2.1630000e-02, -8.7018001e-01, -2.7178001e-01,\n",
       "         6.5448999e-01,  4.2934000e-01,  9.7544000e-02,  3.1779000e-01,\n",
       "        -1.1921000e-01, -9.7106002e-02, -4.7584999e-01,  2.4907000e-01,\n",
       "         1.2230000e-01, -2.9078999e-01, -1.6866000e-01, -2.1071999e+00,\n",
       "         2.2174001e-02,  4.5276999e-01, -6.4485002e-01,  1.3180999e-01,\n",
       "         3.6594000e+00, -1.7140000e-01,  2.3919000e-01, -4.2249000e-01,\n",
       "        -8.8330999e-02, -3.2925001e-01, -1.2847000e-01,  4.7055000e-01,\n",
       "        -7.5952999e-02, -2.7746999e-01, -4.1905001e-01,  6.0803002e-01,\n",
       "        -2.4260999e-01,  1.4885000e-02, -2.3204000e-01,  2.0879000e-02,\n",
       "        -8.2174999e-01,  2.6587999e-01, -4.0267000e-01, -1.7111000e-01],\n",
       "       dtype=float32),\n",
       " array([ 0.26313668,  0.32907525,  0.06787867, -0.26812658,  0.56438917,\n",
       "         0.52810234, -0.6331364 ,  0.18250756,  0.12443918,  0.07511592,\n",
       "        -0.03850649,  0.24921586, -0.3989825 , -0.12523156,  0.59527004,\n",
       "         0.23856498, -0.18522501, -0.08100575,  0.0316464 , -0.5396833 ,\n",
       "         0.03233283,  0.6319178 , -0.04210874,  0.00896184,  0.39333263,\n",
       "        -2.0518248 , -0.22324835,  0.06636249,  0.39661765, -0.4702264 ,\n",
       "         3.0099335 ,  0.33336163, -0.4044993 , -0.14625949,  0.23366024,\n",
       "        -0.08302609,  0.05298044,  0.21794516,  0.1695716 , -0.50294006,\n",
       "        -0.13491811,  0.212368  ,  0.04612591,  0.08037832,  0.03621967,\n",
       "        -0.22897756, -0.08641001, -0.34931597,  0.08850002,  0.18358622,\n",
       "         0.54822   ,  0.038847  ,  0.10127   ,  0.31319   ,  0.095487  ,\n",
       "         0.41814   , -0.79493   , -0.58296   ,  0.026643  ,  0.12392   ,\n",
       "         0.35194   , -0.02163   , -0.87018   , -0.27178   ,  0.65449   ,\n",
       "         0.42934   ,  0.097544  ,  0.31779   , -0.11921   , -0.097106  ,\n",
       "        -0.47585   ,  0.24907   ,  0.1223    , -0.29079   , -0.16866   ,\n",
       "        -2.1072    ,  0.022174  ,  0.45277   , -0.64485   ,  0.13181   ,\n",
       "         3.6594    , -0.1714    ,  0.23919   , -0.42249   , -0.088331  ,\n",
       "        -0.32925   , -0.12847   ,  0.47055   , -0.075953  , -0.27747   ,\n",
       "        -0.41905   ,  0.60803   , -0.24261   ,  0.014885  , -0.23204   ,\n",
       "         0.020879  , -0.82175   ,  0.26588   , -0.40267   , -0.17111   ],\n",
       "       dtype=float32)]"
      ]
     },
     "execution_count": 68,
     "metadata": {},
     "output_type": "execute_result"
    }
   ],
   "source": [
    "# evaluating on test set\n",
    "test_embeddings = list(test_df['glove_embedding'])\n",
    "test_embeddings[:3]"
   ]
  },
  {
   "cell_type": "code",
   "execution_count": 69,
   "metadata": {
    "execution": {
     "iopub.execute_input": "2025-03-09T20:52:16.207215Z",
     "iopub.status.busy": "2025-03-09T20:52:16.206937Z",
     "iopub.status.idle": "2025-03-09T20:52:16.212464Z",
     "shell.execute_reply": "2025-03-09T20:52:16.211528Z",
     "shell.execute_reply.started": "2025-03-09T20:52:16.207193Z"
    },
    "trusted": true
   },
   "outputs": [
    {
     "name": "stdout",
     "output_type": "stream",
     "text": [
      "GPU is available!\n"
     ]
    }
   ],
   "source": [
    "if torch.cuda.is_available():\n",
    "    print(\"GPU is available!\")\n",
    "    device = torch.device(\"cuda\")\n",
    "else:\n",
    "    print(\"GPU is not available, using CPU\")\n",
    "    device = torch.device(\"cpu\")"
   ]
  },
  {
   "cell_type": "code",
   "execution_count": 70,
   "metadata": {
    "execution": {
     "iopub.execute_input": "2025-03-09T20:52:18.834983Z",
     "iopub.status.busy": "2025-03-09T20:52:18.834615Z",
     "iopub.status.idle": "2025-03-09T20:52:18.875135Z",
     "shell.execute_reply": "2025-03-09T20:52:18.874247Z",
     "shell.execute_reply.started": "2025-03-09T20:52:18.834953Z"
    },
    "trusted": true
   },
   "outputs": [],
   "source": [
    "test_embeddings = torch.tensor(test_embeddings).to(device)"
   ]
  },
  {
   "cell_type": "code",
   "execution_count": 71,
   "metadata": {
    "execution": {
     "iopub.execute_input": "2025-03-09T20:52:21.269438Z",
     "iopub.status.busy": "2025-03-09T20:52:21.269112Z",
     "iopub.status.idle": "2025-03-09T20:52:21.276205Z",
     "shell.execute_reply": "2025-03-09T20:52:21.275433Z",
     "shell.execute_reply.started": "2025-03-09T20:52:21.269409Z"
    },
    "trusted": true
   },
   "outputs": [
    {
     "data": {
      "text/plain": [
       "tensor([0, 0, 0,  ..., 0, 0, 2], device='cuda:0')"
      ]
     },
     "execution_count": 71,
     "metadata": {},
     "output_type": "execute_result"
    }
   ],
   "source": [
    "with torch.no_grad():\n",
    "    outputs = glove_model(test_embeddings)\n",
    "predictions = torch.argmax(outputs, dim=1)\n",
    "predictions"
   ]
  },
  {
   "cell_type": "code",
   "execution_count": 72,
   "metadata": {
    "execution": {
     "iopub.execute_input": "2025-03-09T20:52:31.537993Z",
     "iopub.status.busy": "2025-03-09T20:52:31.537655Z",
     "iopub.status.idle": "2025-03-09T20:52:31.557511Z",
     "shell.execute_reply": "2025-03-09T20:52:31.556568Z",
     "shell.execute_reply.started": "2025-03-09T20:52:31.537967Z"
    },
    "trusted": true
   },
   "outputs": [
    {
     "name": "stderr",
     "output_type": "stream",
     "text": [
      "/usr/local/lib/python3.10/dist-packages/pandas/io/formats/format.py:1458: RuntimeWarning: invalid value encountered in greater\n",
      "  has_large_values = (abs_vals > 1e6).any()\n",
      "/usr/local/lib/python3.10/dist-packages/pandas/io/formats/format.py:1459: RuntimeWarning: invalid value encountered in less\n",
      "  has_small_values = ((abs_vals < 10 ** (-self.digits)) & (abs_vals > 0)).any()\n",
      "/usr/local/lib/python3.10/dist-packages/pandas/io/formats/format.py:1459: RuntimeWarning: invalid value encountered in greater\n",
      "  has_small_values = ((abs_vals < 10 ** (-self.digits)) & (abs_vals > 0)).any()\n"
     ]
    },
    {
     "data": {
      "text/html": [
       "<div>\n",
       "<style scoped>\n",
       "    .dataframe tbody tr th:only-of-type {\n",
       "        vertical-align: middle;\n",
       "    }\n",
       "\n",
       "    .dataframe tbody tr th {\n",
       "        vertical-align: top;\n",
       "    }\n",
       "\n",
       "    .dataframe thead th {\n",
       "        text-align: right;\n",
       "    }\n",
       "</style>\n",
       "<table border=\"1\" class=\"dataframe\">\n",
       "  <thead>\n",
       "    <tr style=\"text-align: right;\">\n",
       "      <th></th>\n",
       "      <th>premise</th>\n",
       "      <th>hypothesis</th>\n",
       "      <th>gold_label</th>\n",
       "      <th>type</th>\n",
       "      <th>glove_embedding</th>\n",
       "      <th>predicted_label</th>\n",
       "    </tr>\n",
       "  </thead>\n",
       "  <tbody>\n",
       "    <tr>\n",
       "      <th>9616.0</th>\n",
       "      <td>If Charlotte passes her driving test, her pare...</td>\n",
       "      <td>Charlotte has parents.</td>\n",
       "      <td>E</td>\n",
       "      <td>type5_possessive</td>\n",
       "      <td>[0.17170888, 0.4655589, 0.017628895, -0.365464...</td>\n",
       "      <td>E</td>\n",
       "    </tr>\n",
       "    <tr>\n",
       "      <th>9617.0</th>\n",
       "      <td>It's not the case that if Charlotte passes her...</td>\n",
       "      <td>Charlotte has parents.</td>\n",
       "      <td>E</td>\n",
       "      <td>type5_possessive</td>\n",
       "      <td>[0.32833287, 0.2631786, -0.0003656149, -0.1912...</td>\n",
       "      <td>E</td>\n",
       "    </tr>\n",
       "    <tr>\n",
       "      <th>9618.0</th>\n",
       "      <td>Sam believes that if Charlotte passes her driv...</td>\n",
       "      <td>Charlotte has parents.</td>\n",
       "      <td>E</td>\n",
       "      <td>type5_possessive</td>\n",
       "      <td>[0.26313668, 0.32907525, 0.06787867, -0.268126...</td>\n",
       "      <td>E</td>\n",
       "    </tr>\n",
       "    <tr>\n",
       "      <th>9619.0</th>\n",
       "      <td>Is it true that if Charlotte passes her drivin...</td>\n",
       "      <td>Charlotte has parents.</td>\n",
       "      <td>E</td>\n",
       "      <td>type5_possessive</td>\n",
       "      <td>[0.29682538, 0.33590078, 0.029228458, -0.24936...</td>\n",
       "      <td>E</td>\n",
       "    </tr>\n",
       "    <tr>\n",
       "      <th>9628.0</th>\n",
       "      <td>If Lily takes the train to the city, her frien...</td>\n",
       "      <td>Lily has a friend.</td>\n",
       "      <td>E</td>\n",
       "      <td>type5_possessive</td>\n",
       "      <td>[0.41779414, 0.5672047, -0.12455517, -0.113467...</td>\n",
       "      <td>E</td>\n",
       "    </tr>\n",
       "    <tr>\n",
       "      <th>...</th>\n",
       "      <td>...</td>\n",
       "      <td>...</td>\n",
       "      <td>...</td>\n",
       "      <td>...</td>\n",
       "      <td>...</td>\n",
       "      <td>...</td>\n",
       "    </tr>\n",
       "    <tr>\n",
       "      <th>NaN</th>\n",
       "      <td>If Sophia decides to attend the concert, his b...</td>\n",
       "      <td>Sophia has a close friend.</td>\n",
       "      <td>N</td>\n",
       "      <td>type5_possessive</td>\n",
       "      <td>[0.19257289, 0.39037293, -0.009387304, -0.1870...</td>\n",
       "      <td>E</td>\n",
       "    </tr>\n",
       "    <tr>\n",
       "      <th>NaN</th>\n",
       "      <td>It's not the case that if Sophia decides to at...</td>\n",
       "      <td>Sophia has a close friend.</td>\n",
       "      <td>N</td>\n",
       "      <td>type5_possessive</td>\n",
       "      <td>[0.3318006, 0.22654662, -0.017176786, -0.08385...</td>\n",
       "      <td>E</td>\n",
       "    </tr>\n",
       "    <tr>\n",
       "      <th>NaN</th>\n",
       "      <td>Sam believes that if Sophia decides to attend ...</td>\n",
       "      <td>Sophia has a close friend.</td>\n",
       "      <td>N</td>\n",
       "      <td>type5_possessive</td>\n",
       "      <td>[0.27215302, 0.28173864, 0.043231603, -0.13834...</td>\n",
       "      <td>E</td>\n",
       "    </tr>\n",
       "    <tr>\n",
       "      <th>NaN</th>\n",
       "      <td>Is it true that if Sophia decides to attend th...</td>\n",
       "      <td>Sophia has a close friend.</td>\n",
       "      <td>N</td>\n",
       "      <td>type5_possessive</td>\n",
       "      <td>[0.30279136, 0.29145783, 0.009102633, -0.13019...</td>\n",
       "      <td>E</td>\n",
       "    </tr>\n",
       "    <tr>\n",
       "      <th>NaN</th>\n",
       "      <td>If Sophia decides to attend the concert, his b...</td>\n",
       "      <td>Sophia has decided to attend the concert, but ...</td>\n",
       "      <td>C</td>\n",
       "      <td>type5_possessive</td>\n",
       "      <td>[0.19257289, 0.39037293, -0.009387304, -0.1870...</td>\n",
       "      <td>C</td>\n",
       "    </tr>\n",
       "  </tbody>\n",
       "</table>\n",
       "<p>2367 rows × 6 columns</p>\n",
       "</div>"
      ],
      "text/plain": [
       "                                                  premise  \\\n",
       "9616.0  If Charlotte passes her driving test, her pare...   \n",
       "9617.0  It's not the case that if Charlotte passes her...   \n",
       "9618.0  Sam believes that if Charlotte passes her driv...   \n",
       "9619.0  Is it true that if Charlotte passes her drivin...   \n",
       "9628.0  If Lily takes the train to the city, her frien...   \n",
       "...                                                   ...   \n",
       "NaN     If Sophia decides to attend the concert, his b...   \n",
       "NaN     It's not the case that if Sophia decides to at...   \n",
       "NaN     Sam believes that if Sophia decides to attend ...   \n",
       "NaN     Is it true that if Sophia decides to attend th...   \n",
       "NaN     If Sophia decides to attend the concert, his b...   \n",
       "\n",
       "                                               hypothesis gold_label  \\\n",
       "9616.0                             Charlotte has parents.          E   \n",
       "9617.0                             Charlotte has parents.          E   \n",
       "9618.0                             Charlotte has parents.          E   \n",
       "9619.0                             Charlotte has parents.          E   \n",
       "9628.0                                 Lily has a friend.          E   \n",
       "...                                                   ...        ...   \n",
       "NaN                            Sophia has a close friend.          N   \n",
       "NaN                            Sophia has a close friend.          N   \n",
       "NaN                            Sophia has a close friend.          N   \n",
       "NaN                            Sophia has a close friend.          N   \n",
       "NaN     Sophia has decided to attend the concert, but ...          C   \n",
       "\n",
       "                    type                                    glove_embedding  \\\n",
       "9616.0  type5_possessive  [0.17170888, 0.4655589, 0.017628895, -0.365464...   \n",
       "9617.0  type5_possessive  [0.32833287, 0.2631786, -0.0003656149, -0.1912...   \n",
       "9618.0  type5_possessive  [0.26313668, 0.32907525, 0.06787867, -0.268126...   \n",
       "9619.0  type5_possessive  [0.29682538, 0.33590078, 0.029228458, -0.24936...   \n",
       "9628.0  type5_possessive  [0.41779414, 0.5672047, -0.12455517, -0.113467...   \n",
       "...                  ...                                                ...   \n",
       "NaN     type5_possessive  [0.19257289, 0.39037293, -0.009387304, -0.1870...   \n",
       "NaN     type5_possessive  [0.3318006, 0.22654662, -0.017176786, -0.08385...   \n",
       "NaN     type5_possessive  [0.27215302, 0.28173864, 0.043231603, -0.13834...   \n",
       "NaN     type5_possessive  [0.30279136, 0.29145783, 0.009102633, -0.13019...   \n",
       "NaN     type5_possessive  [0.19257289, 0.39037293, -0.009387304, -0.1870...   \n",
       "\n",
       "       predicted_label  \n",
       "9616.0               E  \n",
       "9617.0               E  \n",
       "9618.0               E  \n",
       "9619.0               E  \n",
       "9628.0               E  \n",
       "...                ...  \n",
       "NaN                  E  \n",
       "NaN                  E  \n",
       "NaN                  E  \n",
       "NaN                  E  \n",
       "NaN                  C  \n",
       "\n",
       "[2367 rows x 6 columns]"
      ]
     },
     "execution_count": 72,
     "metadata": {},
     "output_type": "execute_result"
    }
   ],
   "source": [
    "test_df"
   ]
  },
  {
   "cell_type": "code",
   "execution_count": 73,
   "metadata": {
    "execution": {
     "iopub.execute_input": "2025-03-09T20:52:36.254563Z",
     "iopub.status.busy": "2025-03-09T20:52:36.254266Z",
     "iopub.status.idle": "2025-03-09T20:52:36.276039Z",
     "shell.execute_reply": "2025-03-09T20:52:36.275020Z",
     "shell.execute_reply.started": "2025-03-09T20:52:36.254539Z"
    },
    "trusted": true
   },
   "outputs": [
    {
     "name": "stderr",
     "output_type": "stream",
     "text": [
      "/usr/local/lib/python3.10/dist-packages/pandas/io/formats/format.py:1458: RuntimeWarning: invalid value encountered in greater\n",
      "  has_large_values = (abs_vals > 1e6).any()\n",
      "/usr/local/lib/python3.10/dist-packages/pandas/io/formats/format.py:1459: RuntimeWarning: invalid value encountered in less\n",
      "  has_small_values = ((abs_vals < 10 ** (-self.digits)) & (abs_vals > 0)).any()\n",
      "/usr/local/lib/python3.10/dist-packages/pandas/io/formats/format.py:1459: RuntimeWarning: invalid value encountered in greater\n",
      "  has_small_values = ((abs_vals < 10 ** (-self.digits)) & (abs_vals > 0)).any()\n"
     ]
    },
    {
     "data": {
      "text/html": [
       "<div>\n",
       "<style scoped>\n",
       "    .dataframe tbody tr th:only-of-type {\n",
       "        vertical-align: middle;\n",
       "    }\n",
       "\n",
       "    .dataframe tbody tr th {\n",
       "        vertical-align: top;\n",
       "    }\n",
       "\n",
       "    .dataframe thead th {\n",
       "        text-align: right;\n",
       "    }\n",
       "</style>\n",
       "<table border=\"1\" class=\"dataframe\">\n",
       "  <thead>\n",
       "    <tr style=\"text-align: right;\">\n",
       "      <th></th>\n",
       "      <th>premise</th>\n",
       "      <th>hypothesis</th>\n",
       "      <th>gold_label</th>\n",
       "      <th>type</th>\n",
       "      <th>glove_embedding</th>\n",
       "      <th>predicted_label</th>\n",
       "    </tr>\n",
       "  </thead>\n",
       "  <tbody>\n",
       "    <tr>\n",
       "      <th>9616.0</th>\n",
       "      <td>If Charlotte passes her driving test, her pare...</td>\n",
       "      <td>Charlotte has parents.</td>\n",
       "      <td>E</td>\n",
       "      <td>type5_possessive</td>\n",
       "      <td>[0.17170888, 0.4655589, 0.017628895, -0.365464...</td>\n",
       "      <td>0</td>\n",
       "    </tr>\n",
       "    <tr>\n",
       "      <th>9617.0</th>\n",
       "      <td>It's not the case that if Charlotte passes her...</td>\n",
       "      <td>Charlotte has parents.</td>\n",
       "      <td>E</td>\n",
       "      <td>type5_possessive</td>\n",
       "      <td>[0.32833287, 0.2631786, -0.0003656149, -0.1912...</td>\n",
       "      <td>0</td>\n",
       "    </tr>\n",
       "    <tr>\n",
       "      <th>9618.0</th>\n",
       "      <td>Sam believes that if Charlotte passes her driv...</td>\n",
       "      <td>Charlotte has parents.</td>\n",
       "      <td>E</td>\n",
       "      <td>type5_possessive</td>\n",
       "      <td>[0.26313668, 0.32907525, 0.06787867, -0.268126...</td>\n",
       "      <td>0</td>\n",
       "    </tr>\n",
       "    <tr>\n",
       "      <th>9619.0</th>\n",
       "      <td>Is it true that if Charlotte passes her drivin...</td>\n",
       "      <td>Charlotte has parents.</td>\n",
       "      <td>E</td>\n",
       "      <td>type5_possessive</td>\n",
       "      <td>[0.29682538, 0.33590078, 0.029228458, -0.24936...</td>\n",
       "      <td>0</td>\n",
       "    </tr>\n",
       "    <tr>\n",
       "      <th>9628.0</th>\n",
       "      <td>If Lily takes the train to the city, her frien...</td>\n",
       "      <td>Lily has a friend.</td>\n",
       "      <td>E</td>\n",
       "      <td>type5_possessive</td>\n",
       "      <td>[0.41779414, 0.5672047, -0.12455517, -0.113467...</td>\n",
       "      <td>0</td>\n",
       "    </tr>\n",
       "    <tr>\n",
       "      <th>...</th>\n",
       "      <td>...</td>\n",
       "      <td>...</td>\n",
       "      <td>...</td>\n",
       "      <td>...</td>\n",
       "      <td>...</td>\n",
       "      <td>...</td>\n",
       "    </tr>\n",
       "    <tr>\n",
       "      <th>NaN</th>\n",
       "      <td>If Sophia decides to attend the concert, his b...</td>\n",
       "      <td>Sophia has a close friend.</td>\n",
       "      <td>N</td>\n",
       "      <td>type5_possessive</td>\n",
       "      <td>[0.19257289, 0.39037293, -0.009387304, -0.1870...</td>\n",
       "      <td>0</td>\n",
       "    </tr>\n",
       "    <tr>\n",
       "      <th>NaN</th>\n",
       "      <td>It's not the case that if Sophia decides to at...</td>\n",
       "      <td>Sophia has a close friend.</td>\n",
       "      <td>N</td>\n",
       "      <td>type5_possessive</td>\n",
       "      <td>[0.3318006, 0.22654662, -0.017176786, -0.08385...</td>\n",
       "      <td>0</td>\n",
       "    </tr>\n",
       "    <tr>\n",
       "      <th>NaN</th>\n",
       "      <td>Sam believes that if Sophia decides to attend ...</td>\n",
       "      <td>Sophia has a close friend.</td>\n",
       "      <td>N</td>\n",
       "      <td>type5_possessive</td>\n",
       "      <td>[0.27215302, 0.28173864, 0.043231603, -0.13834...</td>\n",
       "      <td>0</td>\n",
       "    </tr>\n",
       "    <tr>\n",
       "      <th>NaN</th>\n",
       "      <td>Is it true that if Sophia decides to attend th...</td>\n",
       "      <td>Sophia has a close friend.</td>\n",
       "      <td>N</td>\n",
       "      <td>type5_possessive</td>\n",
       "      <td>[0.30279136, 0.29145783, 0.009102633, -0.13019...</td>\n",
       "      <td>0</td>\n",
       "    </tr>\n",
       "    <tr>\n",
       "      <th>NaN</th>\n",
       "      <td>If Sophia decides to attend the concert, his b...</td>\n",
       "      <td>Sophia has decided to attend the concert, but ...</td>\n",
       "      <td>C</td>\n",
       "      <td>type5_possessive</td>\n",
       "      <td>[0.19257289, 0.39037293, -0.009387304, -0.1870...</td>\n",
       "      <td>2</td>\n",
       "    </tr>\n",
       "  </tbody>\n",
       "</table>\n",
       "<p>2367 rows × 6 columns</p>\n",
       "</div>"
      ],
      "text/plain": [
       "                                                  premise  \\\n",
       "9616.0  If Charlotte passes her driving test, her pare...   \n",
       "9617.0  It's not the case that if Charlotte passes her...   \n",
       "9618.0  Sam believes that if Charlotte passes her driv...   \n",
       "9619.0  Is it true that if Charlotte passes her drivin...   \n",
       "9628.0  If Lily takes the train to the city, her frien...   \n",
       "...                                                   ...   \n",
       "NaN     If Sophia decides to attend the concert, his b...   \n",
       "NaN     It's not the case that if Sophia decides to at...   \n",
       "NaN     Sam believes that if Sophia decides to attend ...   \n",
       "NaN     Is it true that if Sophia decides to attend th...   \n",
       "NaN     If Sophia decides to attend the concert, his b...   \n",
       "\n",
       "                                               hypothesis gold_label  \\\n",
       "9616.0                             Charlotte has parents.          E   \n",
       "9617.0                             Charlotte has parents.          E   \n",
       "9618.0                             Charlotte has parents.          E   \n",
       "9619.0                             Charlotte has parents.          E   \n",
       "9628.0                                 Lily has a friend.          E   \n",
       "...                                                   ...        ...   \n",
       "NaN                            Sophia has a close friend.          N   \n",
       "NaN                            Sophia has a close friend.          N   \n",
       "NaN                            Sophia has a close friend.          N   \n",
       "NaN                            Sophia has a close friend.          N   \n",
       "NaN     Sophia has decided to attend the concert, but ...          C   \n",
       "\n",
       "                    type                                    glove_embedding  \\\n",
       "9616.0  type5_possessive  [0.17170888, 0.4655589, 0.017628895, -0.365464...   \n",
       "9617.0  type5_possessive  [0.32833287, 0.2631786, -0.0003656149, -0.1912...   \n",
       "9618.0  type5_possessive  [0.26313668, 0.32907525, 0.06787867, -0.268126...   \n",
       "9619.0  type5_possessive  [0.29682538, 0.33590078, 0.029228458, -0.24936...   \n",
       "9628.0  type5_possessive  [0.41779414, 0.5672047, -0.12455517, -0.113467...   \n",
       "...                  ...                                                ...   \n",
       "NaN     type5_possessive  [0.19257289, 0.39037293, -0.009387304, -0.1870...   \n",
       "NaN     type5_possessive  [0.3318006, 0.22654662, -0.017176786, -0.08385...   \n",
       "NaN     type5_possessive  [0.27215302, 0.28173864, 0.043231603, -0.13834...   \n",
       "NaN     type5_possessive  [0.30279136, 0.29145783, 0.009102633, -0.13019...   \n",
       "NaN     type5_possessive  [0.19257289, 0.39037293, -0.009387304, -0.1870...   \n",
       "\n",
       "        predicted_label  \n",
       "9616.0                0  \n",
       "9617.0                0  \n",
       "9618.0                0  \n",
       "9619.0                0  \n",
       "9628.0                0  \n",
       "...                 ...  \n",
       "NaN                   0  \n",
       "NaN                   0  \n",
       "NaN                   0  \n",
       "NaN                   0  \n",
       "NaN                   2  \n",
       "\n",
       "[2367 rows x 6 columns]"
      ]
     },
     "execution_count": 73,
     "metadata": {},
     "output_type": "execute_result"
    }
   ],
   "source": [
    "test_df['predicted_label'] = predictions.cpu()\n",
    "test_df"
   ]
  },
  {
   "cell_type": "code",
   "execution_count": 74,
   "metadata": {
    "execution": {
     "iopub.execute_input": "2025-03-09T20:52:48.097124Z",
     "iopub.status.busy": "2025-03-09T20:52:48.096786Z",
     "iopub.status.idle": "2025-03-09T20:52:48.120086Z",
     "shell.execute_reply": "2025-03-09T20:52:48.119173Z",
     "shell.execute_reply.started": "2025-03-09T20:52:48.097097Z"
    },
    "trusted": true
   },
   "outputs": [
    {
     "name": "stderr",
     "output_type": "stream",
     "text": [
      "/usr/local/lib/python3.10/dist-packages/pandas/io/formats/format.py:1458: RuntimeWarning: invalid value encountered in greater\n",
      "  has_large_values = (abs_vals > 1e6).any()\n",
      "/usr/local/lib/python3.10/dist-packages/pandas/io/formats/format.py:1459: RuntimeWarning: invalid value encountered in less\n",
      "  has_small_values = ((abs_vals < 10 ** (-self.digits)) & (abs_vals > 0)).any()\n",
      "/usr/local/lib/python3.10/dist-packages/pandas/io/formats/format.py:1459: RuntimeWarning: invalid value encountered in greater\n",
      "  has_small_values = ((abs_vals < 10 ** (-self.digits)) & (abs_vals > 0)).any()\n"
     ]
    },
    {
     "data": {
      "text/html": [
       "<div>\n",
       "<style scoped>\n",
       "    .dataframe tbody tr th:only-of-type {\n",
       "        vertical-align: middle;\n",
       "    }\n",
       "\n",
       "    .dataframe tbody tr th {\n",
       "        vertical-align: top;\n",
       "    }\n",
       "\n",
       "    .dataframe thead th {\n",
       "        text-align: right;\n",
       "    }\n",
       "</style>\n",
       "<table border=\"1\" class=\"dataframe\">\n",
       "  <thead>\n",
       "    <tr style=\"text-align: right;\">\n",
       "      <th></th>\n",
       "      <th>premise</th>\n",
       "      <th>hypothesis</th>\n",
       "      <th>gold_label</th>\n",
       "      <th>type</th>\n",
       "      <th>glove_embedding</th>\n",
       "      <th>predicted_label</th>\n",
       "    </tr>\n",
       "  </thead>\n",
       "  <tbody>\n",
       "    <tr>\n",
       "      <th>9616.0</th>\n",
       "      <td>If Charlotte passes her driving test, her pare...</td>\n",
       "      <td>Charlotte has parents.</td>\n",
       "      <td>E</td>\n",
       "      <td>type5_possessive</td>\n",
       "      <td>[0.17170888, 0.4655589, 0.017628895, -0.365464...</td>\n",
       "      <td>E</td>\n",
       "    </tr>\n",
       "    <tr>\n",
       "      <th>9617.0</th>\n",
       "      <td>It's not the case that if Charlotte passes her...</td>\n",
       "      <td>Charlotte has parents.</td>\n",
       "      <td>E</td>\n",
       "      <td>type5_possessive</td>\n",
       "      <td>[0.32833287, 0.2631786, -0.0003656149, -0.1912...</td>\n",
       "      <td>E</td>\n",
       "    </tr>\n",
       "    <tr>\n",
       "      <th>9618.0</th>\n",
       "      <td>Sam believes that if Charlotte passes her driv...</td>\n",
       "      <td>Charlotte has parents.</td>\n",
       "      <td>E</td>\n",
       "      <td>type5_possessive</td>\n",
       "      <td>[0.26313668, 0.32907525, 0.06787867, -0.268126...</td>\n",
       "      <td>E</td>\n",
       "    </tr>\n",
       "    <tr>\n",
       "      <th>9619.0</th>\n",
       "      <td>Is it true that if Charlotte passes her drivin...</td>\n",
       "      <td>Charlotte has parents.</td>\n",
       "      <td>E</td>\n",
       "      <td>type5_possessive</td>\n",
       "      <td>[0.29682538, 0.33590078, 0.029228458, -0.24936...</td>\n",
       "      <td>E</td>\n",
       "    </tr>\n",
       "    <tr>\n",
       "      <th>9628.0</th>\n",
       "      <td>If Lily takes the train to the city, her frien...</td>\n",
       "      <td>Lily has a friend.</td>\n",
       "      <td>E</td>\n",
       "      <td>type5_possessive</td>\n",
       "      <td>[0.41779414, 0.5672047, -0.12455517, -0.113467...</td>\n",
       "      <td>E</td>\n",
       "    </tr>\n",
       "    <tr>\n",
       "      <th>...</th>\n",
       "      <td>...</td>\n",
       "      <td>...</td>\n",
       "      <td>...</td>\n",
       "      <td>...</td>\n",
       "      <td>...</td>\n",
       "      <td>...</td>\n",
       "    </tr>\n",
       "    <tr>\n",
       "      <th>NaN</th>\n",
       "      <td>If Sophia decides to attend the concert, his b...</td>\n",
       "      <td>Sophia has a close friend.</td>\n",
       "      <td>N</td>\n",
       "      <td>type5_possessive</td>\n",
       "      <td>[0.19257289, 0.39037293, -0.009387304, -0.1870...</td>\n",
       "      <td>E</td>\n",
       "    </tr>\n",
       "    <tr>\n",
       "      <th>NaN</th>\n",
       "      <td>It's not the case that if Sophia decides to at...</td>\n",
       "      <td>Sophia has a close friend.</td>\n",
       "      <td>N</td>\n",
       "      <td>type5_possessive</td>\n",
       "      <td>[0.3318006, 0.22654662, -0.017176786, -0.08385...</td>\n",
       "      <td>E</td>\n",
       "    </tr>\n",
       "    <tr>\n",
       "      <th>NaN</th>\n",
       "      <td>Sam believes that if Sophia decides to attend ...</td>\n",
       "      <td>Sophia has a close friend.</td>\n",
       "      <td>N</td>\n",
       "      <td>type5_possessive</td>\n",
       "      <td>[0.27215302, 0.28173864, 0.043231603, -0.13834...</td>\n",
       "      <td>E</td>\n",
       "    </tr>\n",
       "    <tr>\n",
       "      <th>NaN</th>\n",
       "      <td>Is it true that if Sophia decides to attend th...</td>\n",
       "      <td>Sophia has a close friend.</td>\n",
       "      <td>N</td>\n",
       "      <td>type5_possessive</td>\n",
       "      <td>[0.30279136, 0.29145783, 0.009102633, -0.13019...</td>\n",
       "      <td>E</td>\n",
       "    </tr>\n",
       "    <tr>\n",
       "      <th>NaN</th>\n",
       "      <td>If Sophia decides to attend the concert, his b...</td>\n",
       "      <td>Sophia has decided to attend the concert, but ...</td>\n",
       "      <td>C</td>\n",
       "      <td>type5_possessive</td>\n",
       "      <td>[0.19257289, 0.39037293, -0.009387304, -0.1870...</td>\n",
       "      <td>C</td>\n",
       "    </tr>\n",
       "  </tbody>\n",
       "</table>\n",
       "<p>2367 rows × 6 columns</p>\n",
       "</div>"
      ],
      "text/plain": [
       "                                                  premise  \\\n",
       "9616.0  If Charlotte passes her driving test, her pare...   \n",
       "9617.0  It's not the case that if Charlotte passes her...   \n",
       "9618.0  Sam believes that if Charlotte passes her driv...   \n",
       "9619.0  Is it true that if Charlotte passes her drivin...   \n",
       "9628.0  If Lily takes the train to the city, her frien...   \n",
       "...                                                   ...   \n",
       "NaN     If Sophia decides to attend the concert, his b...   \n",
       "NaN     It's not the case that if Sophia decides to at...   \n",
       "NaN     Sam believes that if Sophia decides to attend ...   \n",
       "NaN     Is it true that if Sophia decides to attend th...   \n",
       "NaN     If Sophia decides to attend the concert, his b...   \n",
       "\n",
       "                                               hypothesis gold_label  \\\n",
       "9616.0                             Charlotte has parents.          E   \n",
       "9617.0                             Charlotte has parents.          E   \n",
       "9618.0                             Charlotte has parents.          E   \n",
       "9619.0                             Charlotte has parents.          E   \n",
       "9628.0                                 Lily has a friend.          E   \n",
       "...                                                   ...        ...   \n",
       "NaN                            Sophia has a close friend.          N   \n",
       "NaN                            Sophia has a close friend.          N   \n",
       "NaN                            Sophia has a close friend.          N   \n",
       "NaN                            Sophia has a close friend.          N   \n",
       "NaN     Sophia has decided to attend the concert, but ...          C   \n",
       "\n",
       "                    type                                    glove_embedding  \\\n",
       "9616.0  type5_possessive  [0.17170888, 0.4655589, 0.017628895, -0.365464...   \n",
       "9617.0  type5_possessive  [0.32833287, 0.2631786, -0.0003656149, -0.1912...   \n",
       "9618.0  type5_possessive  [0.26313668, 0.32907525, 0.06787867, -0.268126...   \n",
       "9619.0  type5_possessive  [0.29682538, 0.33590078, 0.029228458, -0.24936...   \n",
       "9628.0  type5_possessive  [0.41779414, 0.5672047, -0.12455517, -0.113467...   \n",
       "...                  ...                                                ...   \n",
       "NaN     type5_possessive  [0.19257289, 0.39037293, -0.009387304, -0.1870...   \n",
       "NaN     type5_possessive  [0.3318006, 0.22654662, -0.017176786, -0.08385...   \n",
       "NaN     type5_possessive  [0.27215302, 0.28173864, 0.043231603, -0.13834...   \n",
       "NaN     type5_possessive  [0.30279136, 0.29145783, 0.009102633, -0.13019...   \n",
       "NaN     type5_possessive  [0.19257289, 0.39037293, -0.009387304, -0.1870...   \n",
       "\n",
       "       predicted_label  \n",
       "9616.0               E  \n",
       "9617.0               E  \n",
       "9618.0               E  \n",
       "9619.0               E  \n",
       "9628.0               E  \n",
       "...                ...  \n",
       "NaN                  E  \n",
       "NaN                  E  \n",
       "NaN                  E  \n",
       "NaN                  E  \n",
       "NaN                  C  \n",
       "\n",
       "[2367 rows x 6 columns]"
      ]
     },
     "execution_count": 74,
     "metadata": {},
     "output_type": "execute_result"
    }
   ],
   "source": [
    "test_df['predicted_label'] = test_df['predicted_label'].map({0: 'E',1: 'N', 2: 'C'})\n",
    "test_df "
   ]
  },
  {
   "cell_type": "code",
   "execution_count": 75,
   "metadata": {
    "execution": {
     "iopub.execute_input": "2025-03-09T20:52:56.235439Z",
     "iopub.status.busy": "2025-03-09T20:52:56.235101Z",
     "iopub.status.idle": "2025-03-09T20:52:57.522060Z",
     "shell.execute_reply": "2025-03-09T20:52:57.521371Z",
     "shell.execute_reply.started": "2025-03-09T20:52:56.235411Z"
    },
    "trusted": true
   },
   "outputs": [],
   "source": [
    "test_df.to_csv('Exp5_glove_results_run3.csv')"
   ]
  },
  {
   "cell_type": "code",
   "execution_count": 76,
   "metadata": {
    "execution": {
     "iopub.execute_input": "2025-03-09T20:53:00.437517Z",
     "iopub.status.busy": "2025-03-09T20:53:00.437189Z",
     "iopub.status.idle": "2025-03-09T20:53:00.441682Z",
     "shell.execute_reply": "2025-03-09T20:53:00.440715Z",
     "shell.execute_reply.started": "2025-03-09T20:53:00.437486Z"
    },
    "trusted": true
   },
   "outputs": [],
   "source": [
    "from sklearn.metrics import confusion_matrix, classification_report, precision_score, recall_score, f1_score\n",
    "import seaborn as sns\n",
    "import matplotlib.pyplot as plt"
   ]
  },
  {
   "cell_type": "code",
   "execution_count": 77,
   "metadata": {
    "execution": {
     "iopub.execute_input": "2025-03-09T20:53:04.118993Z",
     "iopub.status.busy": "2025-03-09T20:53:04.118606Z",
     "iopub.status.idle": "2025-03-09T20:53:04.339395Z",
     "shell.execute_reply": "2025-03-09T20:53:04.338559Z",
     "shell.execute_reply.started": "2025-03-09T20:53:04.118964Z"
    },
    "trusted": true
   },
   "outputs": [
    {
     "data": {
      "image/png": "[encoded data removed]",
      "text/plain": [
       "<Figure size 800x600 with 2 Axes>"
      ]
     },
     "metadata": {},
     "output_type": "display_data"
    }
   ],
   "source": [
    "# Create the testing confusion matrix\n",
    "cm = confusion_matrix(test_df['gold_label'], test_df['predicted_label'])\n",
    "\n",
    "# Visualize the confusion matrix\n",
    "plt.figure(figsize=(8, 6))\n",
    "sns.heatmap(cm, annot=True, fmt=\"d\",cmap=\"Blues\")\n",
    "plt.xlabel(\"Predicted Label\")\n",
    "plt.ylabel(\"True Label\")\n",
    "plt.title(\"Confusion Matrix\")\n",
    "plt.show()"
   ]
  },
  {
   "cell_type": "code",
   "execution_count": 78,
   "metadata": {
    "execution": {
     "iopub.execute_input": "2025-03-09T20:53:36.895078Z",
     "iopub.status.busy": "2025-03-09T20:53:36.894764Z",
     "iopub.status.idle": "2025-03-09T20:53:36.961867Z",
     "shell.execute_reply": "2025-03-09T20:53:36.961108Z",
     "shell.execute_reply.started": "2025-03-09T20:53:36.895057Z"
    },
    "trusted": true
   },
   "outputs": [
    {
     "data": {
      "text/html": [
       "<div>\n",
       "<style scoped>\n",
       "    .dataframe tbody tr th:only-of-type {\n",
       "        vertical-align: middle;\n",
       "    }\n",
       "\n",
       "    .dataframe tbody tr th {\n",
       "        vertical-align: top;\n",
       "    }\n",
       "\n",
       "    .dataframe thead th {\n",
       "        text-align: right;\n",
       "    }\n",
       "</style>\n",
       "<table border=\"1\" class=\"dataframe\">\n",
       "  <thead>\n",
       "    <tr style=\"text-align: right;\">\n",
       "      <th>label</th>\n",
       "      <th>precision</th>\n",
       "      <th>recall</th>\n",
       "      <th>f1-score</th>\n",
       "      <th>support</th>\n",
       "    </tr>\n",
       "  </thead>\n",
       "  <tbody>\n",
       "    <tr>\n",
       "      <th>C</th>\n",
       "      <td>0.877503</td>\n",
       "      <td>0.970052</td>\n",
       "      <td>0.921459</td>\n",
       "      <td>768.000000</td>\n",
       "    </tr>\n",
       "    <tr>\n",
       "      <th>E</th>\n",
       "      <td>0.897038</td>\n",
       "      <td>0.883333</td>\n",
       "      <td>0.890133</td>\n",
       "      <td>720.000000</td>\n",
       "    </tr>\n",
       "    <tr>\n",
       "      <th>N</th>\n",
       "      <td>0.891224</td>\n",
       "      <td>0.820250</td>\n",
       "      <td>0.854265</td>\n",
       "      <td>879.000000</td>\n",
       "    </tr>\n",
       "    <tr>\n",
       "      <th>accuracy</th>\n",
       "      <td>0.888044</td>\n",
       "      <td>0.888044</td>\n",
       "      <td>0.888044</td>\n",
       "      <td>0.888044</td>\n",
       "    </tr>\n",
       "    <tr>\n",
       "      <th>macro avg</th>\n",
       "      <td>0.888588</td>\n",
       "      <td>0.891212</td>\n",
       "      <td>0.888619</td>\n",
       "      <td>2367.000000</td>\n",
       "    </tr>\n",
       "    <tr>\n",
       "      <th>weighted avg</th>\n",
       "      <td>0.888540</td>\n",
       "      <td>0.888044</td>\n",
       "      <td>0.886978</td>\n",
       "      <td>2367.000000</td>\n",
       "    </tr>\n",
       "  </tbody>\n",
       "</table>\n",
       "</div>"
      ],
      "text/plain": [
       "label         precision    recall  f1-score      support\n",
       "C              0.877503  0.970052  0.921459   768.000000\n",
       "E              0.897038  0.883333  0.890133   720.000000\n",
       "N              0.891224  0.820250  0.854265   879.000000\n",
       "accuracy       0.888044  0.888044  0.888044     0.888044\n",
       "macro avg      0.888588  0.891212  0.888619  2367.000000\n",
       "weighted avg   0.888540  0.888044  0.886978  2367.000000"
      ]
     },
     "execution_count": 78,
     "metadata": {},
     "output_type": "execute_result"
    }
   ],
   "source": [
    "report_dict = classification_report(test_df['gold_label'], test_df['predicted_label'], output_dict=True)\n",
    "report_df = pd.DataFrame(report_dict).transpose() \n",
    "report_df.columns.name = 'label'\n",
    "report_df"
   ]
  },
  {
   "cell_type": "code",
   "execution_count": 79,
   "metadata": {
    "execution": {
     "iopub.execute_input": "2025-03-09T20:53:51.515280Z",
     "iopub.status.busy": "2025-03-09T20:53:51.514996Z",
     "iopub.status.idle": "2025-03-09T20:53:51.519995Z",
     "shell.execute_reply": "2025-03-09T20:53:51.519182Z",
     "shell.execute_reply.started": "2025-03-09T20:53:51.515258Z"
    },
    "trusted": true
   },
   "outputs": [],
   "source": [
    "def compute_metrics_by_type(group):\n",
    "    predictions = group['gold_label']\n",
    "    labels = group['predicted_label']\n",
    "    acc = np.mean(predictions == labels)\n",
    "    precision = precision_score(labels, predictions,average=\"weighted\")\n",
    "    recall = recall_score(labels, predictions,average=\"weighted\")\n",
    "    f1 = f1_score(labels, predictions,average=\"weighted\")\n",
    "    return pd.Series({'accuracy': round(acc,2), 'precision': round(precision,2), 'recall': round(recall,2), 'f1_score': round(f1,2)})"
   ]
  },
  {
   "cell_type": "code",
   "execution_count": 80,
   "metadata": {
    "execution": {
     "iopub.execute_input": "2025-03-09T20:53:55.067124Z",
     "iopub.status.busy": "2025-03-09T20:53:55.066693Z",
     "iopub.status.idle": "2025-03-09T20:53:55.162770Z",
     "shell.execute_reply": "2025-03-09T20:53:55.162039Z",
     "shell.execute_reply.started": "2025-03-09T20:53:55.067086Z"
    },
    "trusted": true
   },
   "outputs": [
    {
     "name": "stderr",
     "output_type": "stream",
     "text": [
      "/usr/local/lib/python3.10/dist-packages/sklearn/metrics/_classification.py:1344: UndefinedMetricWarning: Precision is ill-defined and being set to 0.0 in labels with no predicted samples. Use `zero_division` parameter to control this behavior.\n",
      "  _warn_prf(average, modifier, msg_start, len(result))\n",
      "/usr/local/lib/python3.10/dist-packages/sklearn/metrics/_classification.py:1344: UndefinedMetricWarning: Precision is ill-defined and being set to 0.0 in labels with no predicted samples. Use `zero_division` parameter to control this behavior.\n",
      "  _warn_prf(average, modifier, msg_start, len(result))\n",
      "/usr/local/lib/python3.10/dist-packages/sklearn/metrics/_classification.py:1344: UndefinedMetricWarning: Precision is ill-defined and being set to 0.0 in labels with no predicted samples. Use `zero_division` parameter to control this behavior.\n",
      "  _warn_prf(average, modifier, msg_start, len(result))\n",
      "/usr/local/lib/python3.10/dist-packages/sklearn/metrics/_classification.py:1344: UndefinedMetricWarning: Precision is ill-defined and being set to 0.0 in labels with no predicted samples. Use `zero_division` parameter to control this behavior.\n",
      "  _warn_prf(average, modifier, msg_start, len(result))\n",
      "/usr/local/lib/python3.10/dist-packages/sklearn/metrics/_classification.py:1344: UndefinedMetricWarning: Precision is ill-defined and being set to 0.0 in labels with no predicted samples. Use `zero_division` parameter to control this behavior.\n",
      "  _warn_prf(average, modifier, msg_start, len(result))\n",
      "<ipython-input-80-5261ab470594>:1: DeprecationWarning: DataFrameGroupBy.apply operated on the grouping columns. This behavior is deprecated, and in a future version of pandas the grouping columns will be excluded from the operation. Either pass `include_groups=False` to exclude the groupings or explicitly select the grouping columns after groupby to silence this warning.\n",
      "  metrics_by_type = test_df.groupby('type').apply(compute_metrics_by_type).reset_index()\n"
     ]
    },
    {
     "data": {
      "text/html": [
       "<div>\n",
       "<style scoped>\n",
       "    .dataframe tbody tr th:only-of-type {\n",
       "        vertical-align: middle;\n",
       "    }\n",
       "\n",
       "    .dataframe tbody tr th {\n",
       "        vertical-align: top;\n",
       "    }\n",
       "\n",
       "    .dataframe thead th {\n",
       "        text-align: right;\n",
       "    }\n",
       "</style>\n",
       "<table border=\"1\" class=\"dataframe\">\n",
       "  <thead>\n",
       "    <tr style=\"text-align: right;\">\n",
       "      <th>ID</th>\n",
       "      <th>type</th>\n",
       "      <th>accuracy</th>\n",
       "      <th>precision</th>\n",
       "      <th>recall</th>\n",
       "      <th>f1_score</th>\n",
       "    </tr>\n",
       "  </thead>\n",
       "  <tbody>\n",
       "    <tr>\n",
       "      <th>0</th>\n",
       "      <td>type1_again</td>\n",
       "      <td>0.75</td>\n",
       "      <td>0.77</td>\n",
       "      <td>0.75</td>\n",
       "      <td>0.74</td>\n",
       "    </tr>\n",
       "    <tr>\n",
       "      <th>1</th>\n",
       "      <td>type1_possessive</td>\n",
       "      <td>0.91</td>\n",
       "      <td>0.91</td>\n",
       "      <td>0.91</td>\n",
       "      <td>0.90</td>\n",
       "    </tr>\n",
       "    <tr>\n",
       "      <th>2</th>\n",
       "      <td>type2_again</td>\n",
       "      <td>0.82</td>\n",
       "      <td>0.75</td>\n",
       "      <td>0.82</td>\n",
       "      <td>0.77</td>\n",
       "    </tr>\n",
       "    <tr>\n",
       "      <th>3</th>\n",
       "      <td>type2_possessive</td>\n",
       "      <td>0.94</td>\n",
       "      <td>0.94</td>\n",
       "      <td>0.94</td>\n",
       "      <td>0.94</td>\n",
       "    </tr>\n",
       "    <tr>\n",
       "      <th>4</th>\n",
       "      <td>type3_again</td>\n",
       "      <td>0.90</td>\n",
       "      <td>0.93</td>\n",
       "      <td>0.90</td>\n",
       "      <td>0.92</td>\n",
       "    </tr>\n",
       "    <tr>\n",
       "      <th>5</th>\n",
       "      <td>type3_possessive</td>\n",
       "      <td>0.95</td>\n",
       "      <td>0.91</td>\n",
       "      <td>0.95</td>\n",
       "      <td>0.93</td>\n",
       "    </tr>\n",
       "    <tr>\n",
       "      <th>6</th>\n",
       "      <td>type4_possessive</td>\n",
       "      <td>0.88</td>\n",
       "      <td>0.92</td>\n",
       "      <td>0.88</td>\n",
       "      <td>0.89</td>\n",
       "    </tr>\n",
       "    <tr>\n",
       "      <th>7</th>\n",
       "      <td>type5_again</td>\n",
       "      <td>0.85</td>\n",
       "      <td>0.82</td>\n",
       "      <td>0.85</td>\n",
       "      <td>0.82</td>\n",
       "    </tr>\n",
       "    <tr>\n",
       "      <th>8</th>\n",
       "      <td>type5_possessive</td>\n",
       "      <td>0.94</td>\n",
       "      <td>0.97</td>\n",
       "      <td>0.94</td>\n",
       "      <td>0.95</td>\n",
       "    </tr>\n",
       "  </tbody>\n",
       "</table>\n",
       "</div>"
      ],
      "text/plain": [
       "ID              type  accuracy  precision  recall  f1_score\n",
       "0        type1_again      0.75       0.77    0.75      0.74\n",
       "1   type1_possessive      0.91       0.91    0.91      0.90\n",
       "2        type2_again      0.82       0.75    0.82      0.77\n",
       "3   type2_possessive      0.94       0.94    0.94      0.94\n",
       "4        type3_again      0.90       0.93    0.90      0.92\n",
       "5   type3_possessive      0.95       0.91    0.95      0.93\n",
       "6   type4_possessive      0.88       0.92    0.88      0.89\n",
       "7        type5_again      0.85       0.82    0.85      0.82\n",
       "8   type5_possessive      0.94       0.97    0.94      0.95"
      ]
     },
     "execution_count": 80,
     "metadata": {},
     "output_type": "execute_result"
    }
   ],
   "source": [
    "metrics_by_type = test_df.groupby('type').apply(compute_metrics_by_type).reset_index()\n",
    "metrics_by_type.columns.name = 'ID'\n",
    "metrics_by_type"
   ]
  }
 ],
 "metadata": {
  "kaggle": {
   "accelerator": "gpu",
   "dataSources": [
    {
     "datasetId": 6570658,
     "sourceId": 10620586,
     "sourceType": "datasetVersion"
    },
    {
     "datasetId": 6576147,
     "sourceId": 10621169,
     "sourceType": "datasetVersion"
    },
    {
     "datasetId": 6586364,
     "sourceId": 10637710,
     "sourceType": "datasetVersion"
    },
    {
     "datasetId": 6568489,
     "sourceId": 10680118,
     "sourceType": "datasetVersion"
    }
   ],
   "dockerImageVersionId": 30840,
   "isGpuEnabled": true,
   "isInternetEnabled": true,
   "language": "python",
   "sourceType": "notebook"
  },
  "kernelspec": {
   "display_name": "Python 3",
   "language": "python",
   "name": "python3"
  },
  "language_info": {
   "codemirror_mode": {
    "name": "ipython",
    "version": 3
   },
   "file_extension": ".py",
   "mimetype": "text/x-python",
   "name": "python",
   "nbconvert_exporter": "python",
   "pygments_lexer": "ipython3",
   "version": "3.11.4"
  }
 },
 "nbformat": 4,
 "nbformat_minor": 4
}
